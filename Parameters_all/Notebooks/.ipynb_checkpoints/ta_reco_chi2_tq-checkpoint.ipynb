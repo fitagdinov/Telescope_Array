{
 "cells": [
  {
   "cell_type": "code",
   "execution_count": 1,
   "metadata": {},
   "outputs": [
    {
     "name": "stderr",
     "output_type": "stream",
     "text": [
      "2023-12-09 15:48:00.233500: I tensorflow/core/platform/cpu_feature_guard.cc:193] This TensorFlow binary is optimized with oneAPI Deep Neural Network Library (oneDNN) to use the following CPU instructions in performance-critical operations:  AVX2 AVX512F FMA\n",
      "To enable them in other operations, rebuild TensorFlow with the appropriate compiler flags.\n",
      "2023-12-09 15:48:04.752237: W tensorflow/compiler/xla/stream_executor/platform/default/dso_loader.cc:64] Could not load dynamic library 'libnvinfer.so.7'; dlerror: libnvinfer.so.7: cannot open shared object file: No such file or directory; LD_LIBRARY_PATH: :/home/ivkhar/miniconda3/envs/tf211/lib/:/home/ivkhar/miniconda3/envs/tf211/lib/python3.10/site-packages/nvidia/cudnn/lib\n",
      "2023-12-09 15:48:04.752747: W tensorflow/compiler/xla/stream_executor/platform/default/dso_loader.cc:64] Could not load dynamic library 'libnvinfer_plugin.so.7'; dlerror: libnvinfer_plugin.so.7: cannot open shared object file: No such file or directory; LD_LIBRARY_PATH: :/home/ivkhar/miniconda3/envs/tf211/lib/:/home/ivkhar/miniconda3/envs/tf211/lib/python3.10/site-packages/nvidia/cudnn/lib\n",
      "2023-12-09 15:48:04.752765: W tensorflow/compiler/tf2tensorrt/utils/py_utils.cc:38] TF-TRT Warning: Cannot dlopen some TensorRT libraries. If you would like to use Nvidia GPU with TensorRT, please make sure the missing libraries mentioned above are installed properly.\n"
     ]
    }
   ],
   "source": [
    "import numpy as np\n",
    "import h5py as h5\n",
    "\n",
    "import tensorflow as tf\n",
    "\n",
    "import matplotlib.pyplot as plt"
   ]
  },
  {
   "cell_type": "code",
   "execution_count": 2,
   "metadata": {},
   "outputs": [],
   "source": [
    "### mq = get_measured_ldf(mask, qs) / **Det_Area**   ???"
   ]
  },
  {
   "cell_type": "code",
   "execution_count": 3,
   "metadata": {},
   "outputs": [],
   "source": [
    "gpus = tf.config.list_physical_devices('GPU')\n",
    "for gpu in gpus:\n",
    "    tf.config.experimental.set_memory_growth(gpu, True)"
   ]
  },
  {
   "cell_type": "markdown",
   "metadata": {},
   "source": [
    "### Read and prepare data"
   ]
  },
  {
   "cell_type": "code",
   "execution_count": 7,
   "metadata": {},
   "outputs": [],
   "source": [
    "h5f = '/home3/ivkhar/TA/data/mass_spectrum/old_1223/hadrons/bundled/mc_hadrons_qgs34_0010.h5'"
   ]
  },
  {
   "cell_type": "code",
   "execution_count": 8,
   "metadata": {},
   "outputs": [
    {
     "name": "stderr",
     "output_type": "stream",
     "text": [
      "2023-12-09 15:48:36.727538: I tensorflow/core/platform/cpu_feature_guard.cc:193] This TensorFlow binary is optimized with oneAPI Deep Neural Network Library (oneDNN) to use the following CPU instructions in performance-critical operations:  AVX2 AVX512F FMA\n",
      "To enable them in other operations, rebuild TensorFlow with the appropriate compiler flags.\n",
      "2023-12-09 15:48:40.688998: I tensorflow/core/common_runtime/gpu/gpu_device.cc:1613] Created device /job:localhost/replica:0/task:0/device:GPU:0 with 9634 MB memory:  -> device: 0, name: GeForce RTX 2080 Ti, pci bus id: 0000:05:00.0, compute capability: 7.5\n"
     ]
    }
   ],
   "source": [
    "num = 64\n",
    "\n",
    "with h5.File(h5f,'r') as hf:\n",
    "    times_flat = hf['pr-q4-9yr/dt'][:num,:,:,4:5]*1e6 # in mks\n",
    "    times_diff = hf['pr-q4-9yr/dt'][:num,:,:,5:6]*1e6 # in mks\n",
    "    mask_in = hf['pr-q4-9yr/dt'][:num,:,:,6:7]\n",
    "    real_coords = hf['pr-q4-9yr/dt'][:num,:,:,:3]*1.2 # in km\n",
    "    qs_in = hf['pr-q4-9yr/dt'][:num,:,:,3:4]\n",
    "    ev_params = hf['pr-q3-9yr/ev_params'][:num]\n",
    "    \n",
    "mask_qs = tf.where( tf.math.logical_and(mask_in>0, qs_in>0), 1., 0. )"
   ]
  },
  {
   "cell_type": "code",
   "execution_count": 9,
   "metadata": {},
   "outputs": [],
   "source": [
    "# set c=1, time in mks, distance in km\n",
    "time2dist = tf.constant(0.299792458, dtype=tf.float32)\n",
    "\n",
    "times_flat *= time2dist\n",
    "times_diff *= time2dist\n",
    "\n",
    "times_reg = times_flat + times_diff"
   ]
  },
  {
   "cell_type": "markdown",
   "metadata": {},
   "source": [
    "### Shower core, initial"
   ]
  },
  {
   "cell_type": "code",
   "execution_count": 10,
   "metadata": {},
   "outputs": [],
   "source": [
    "q_max = np.amax(qs_in)*1.1"
   ]
  },
  {
   "cell_type": "code",
   "execution_count": 11,
   "metadata": {},
   "outputs": [],
   "source": [
    "def get_r_core_sat(qs, coords, mask, mask_qs, fill_val):\n",
    "    \n",
    "    qs = tf.where( mask==mask_qs, qs, [fill_val] )\n",
    "    return tf.math.reduce_sum( qs*coords, axis=(1,2), keepdims=True ) / tf.math.reduce_sum(qs, axis=(1,2), keepdims=True)\n",
    "      \n",
    "def get_r_core(qs, coords):\n",
    "    return tf.math.reduce_sum( qs*coords, axis=(1,2), keepdims=True ) / tf.math.reduce_sum(qs, axis=(1,2), keepdims=True)"
   ]
  },
  {
   "cell_type": "code",
   "execution_count": 12,
   "metadata": {},
   "outputs": [],
   "source": [
    "r_core_sat_0 = get_r_core_sat(qs_in, real_coords[:,:,:,:2], mask_in, mask_qs, q_max) # (bs,1,1,2)\n",
    "r_core_0 = get_r_core(qs_in, real_coords[:,:,:,:2])"
   ]
  },
  {
   "cell_type": "code",
   "execution_count": 13,
   "metadata": {},
   "outputs": [
    {
     "name": "stdout",
     "output_type": "stream",
     "text": [
      "tf.Tensor(\n",
      "[[0.         0.        ]\n",
      " [0.24916363 0.19211747]\n",
      " [0.         0.        ]], shape=(3, 2), dtype=float32)\n"
     ]
    }
   ],
   "source": [
    "print((r_core_0-r_core_sat_0)[:3,0,0,:]) # small difference since saturated detectors are near the center"
   ]
  },
  {
   "cell_type": "code",
   "execution_count": 14,
   "metadata": {},
   "outputs": [
    {
     "name": "stdout",
     "output_type": "stream",
     "text": [
      "tf.Tensor(\n",
      "[[-0.13557288  0.287459  ]\n",
      " [-0.13731168 -0.18429495]\n",
      " [ 0.01779432 -0.05242745]], shape=(3, 2), dtype=float32)\n",
      "tf.Tensor(\n",
      "[[-0.13557288  0.287459  ]\n",
      " [ 0.11185194  0.00782251]\n",
      " [ 0.01779432 -0.05242745]], shape=(3, 2), dtype=float32)\n"
     ]
    }
   ],
   "source": [
    "print(r_core_sat_0[:3,0,0,:])\n",
    "print(r_core_0[:3,0,0,:])"
   ]
  },
  {
   "cell_type": "markdown",
   "metadata": {},
   "source": [
    "### Linear approximation"
   ]
  },
  {
   "cell_type": "code",
   "execution_count": 12,
   "metadata": {},
   "outputs": [],
   "source": [
    "# prepare matricies to solve\n",
    "def make_matrix(coords, times_reg, mask):\n",
    "    \n",
    "    # matrix for dL/db\n",
    "    hs = tf.ones((num,6,6,1)) # to make (x_1,x_2) -> (x_1,x_2,1), to account for b\n",
    "    coords_ext = mask*tf.concat( (coords,hs), axis=-1 ) # (bs,6,6,3)\n",
    "    matrix_b = tf.expand_dims( tf.math.reduce_sum( coords_ext, axis=(1,2) ), axis=-1 ) # (bs,3,1)\n",
    "    times = mask*times_reg # (bs,6,6,1)\n",
    "    rhs_b = tf.math.reduce_sum( times, axis=(1,2) ) # (bs,1)\n",
    "    \n",
    "    # matrix for dL/da\n",
    "    coords_mul = tf.expand_dims( coords_ext, axis=-1) * tf.expand_dims( coords, axis=-2)\n",
    "    matrix_a = tf.math.reduce_sum( coords_mul, axis=(1,2) ) # (bs,3,2)\n",
    "    ts_mul = times * coords\n",
    "    rhs_a = tf.math.reduce_sum( ts_mul, axis=(1,2) )\n",
    "    \n",
    "    matrix = tf.concat((matrix_b,matrix_a), axis=-1)\n",
    "    rhs = tf.expand_dims( tf.concat((rhs_b,rhs_a), axis=-1), axis=-1 )\n",
    "    \n",
    "    return matrix, rhs"
   ]
  },
  {
   "cell_type": "code",
   "execution_count": 13,
   "metadata": {},
   "outputs": [],
   "source": [
    "def lin_solve(matrix, rhs):\n",
    "    \n",
    "    sol_flat = tf.linalg.solve( matrix, rhs, adjoint=True )[:,:,0]\n",
    "    t0 = sol_flat[:,2]\n",
    "    # extract parameters\n",
    "    n_z = 1. - tf.math.reduce_sum(sol_flat[:,:2]*sol_flat[:,:2], axis=1)\n",
    "    n_z = tf.where( n_z>0, tf.math.sqrt( n_z ), 0. ) # some configurations yield front moving faster than light\n",
    "    theta_flat = tf.math.acos( n_z )\n",
    "    phi_flat = tf.math.atan2( -sol_flat[:,1], -sol_flat[:,0] )\n",
    "    \n",
    "    return theta_flat, phi_flat, t0"
   ]
  },
  {
   "cell_type": "code",
   "execution_count": 14,
   "metadata": {},
   "outputs": [
    {
     "name": "stderr",
     "output_type": "stream",
     "text": [
      "2023-12-08 23:38:07.416758: I tensorflow/core/util/cuda_solvers.cc:179] Creating GpuSolver handles for stream 0x7362550\n"
     ]
    }
   ],
   "source": [
    "matrix, rhs = make_matrix(real_coords[:,:,:,:2], times_reg, mask_qs)\n",
    "theta_flat, phi_flat, t0_flat = lin_solve(matrix, rhs) # (bs,)\n",
    "phi_flat = tf.where( phi_flat>0, phi_flat, 3.1415*2 + phi_flat  )"
   ]
  },
  {
   "cell_type": "code",
   "execution_count": 15,
   "metadata": {},
   "outputs": [],
   "source": [
    "theta_rec = ev_params[:num,2]/180*3.1415\n",
    "phi_rec = ev_params[:num,3]/180*3.1415"
   ]
  },
  {
   "cell_type": "code",
   "execution_count": 16,
   "metadata": {},
   "outputs": [
    {
     "name": "stdout",
     "output_type": "stream",
     "text": [
      "[0.5454063  0.5808878  0.57323474 0.15240079 0.14175636]\n",
      "[0.81218153 0.6540867  0.8419177  0.52959126 0.66981965]\n"
     ]
    }
   ],
   "source": [
    "print(theta_rec[:5])\n",
    "print(theta_flat[:5].numpy())"
   ]
  },
  {
   "cell_type": "code",
   "execution_count": 17,
   "metadata": {},
   "outputs": [
    {
     "name": "stdout",
     "output_type": "stream",
     "text": [
      "[1.9971561 4.76426   1.352386  2.9889452 1.5452079]\n",
      "[2.3758225  4.1986003  0.49112606 1.9791083  2.426582  ]\n"
     ]
    }
   ],
   "source": [
    "print(phi_rec[:5])\n",
    "print(phi_flat[:5].numpy())"
   ]
  },
  {
   "cell_type": "code",
   "execution_count": 18,
   "metadata": {},
   "outputs": [],
   "source": [
    "t0_ext_ch = t0_flat[:,tf.newaxis,tf.newaxis]\n",
    "nx = - tf.math.sin(theta_flat)[:,tf.newaxis,tf.newaxis] * tf.math.cos(phi_flat)[:,tf.newaxis,tf.newaxis]\n",
    "ny = - tf.math.sin(theta_flat)[:,tf.newaxis,tf.newaxis] * tf.math.sin(phi_flat)[:,tf.newaxis,tf.newaxis]\n",
    "a = tf.concat((nx,ny), axis=-1)\n",
    "a = tf.expand_dims( a, axis=1 )\n",
    "\n",
    "t_rec = t0_ext_ch + tf.math.reduce_sum( a*real_coords[:,:,:,:2], axis=-1 )\n",
    "t_rec = t_rec*mask_in[:,:,:,0]"
   ]
  },
  {
   "cell_type": "code",
   "execution_count": 19,
   "metadata": {},
   "outputs": [
    {
     "name": "stdout",
     "output_type": "stream",
     "text": [
      "tf.Tensor(\n",
      "[[ 0.          0.          0.          0.          0.          0.        ]\n",
      " [ 0.          0.          0.          0.          0.          0.        ]\n",
      " [ 0.          0.          0.         -0.10444283 -0.08510375  0.        ]\n",
      " [ 0.          0.          0.09721279  0.09594223  0.01452512  0.        ]\n",
      " [ 0.          0.          0.          0.14645767  0.          0.        ]\n",
      " [ 0.          0.         -0.16459107  0.          0.          0.        ]], shape=(6, 6), dtype=float32)\n"
     ]
    }
   ],
   "source": [
    "print(t_rec[0,:,:]-times_reg[0,:,:,0])"
   ]
  },
  {
   "cell_type": "code",
   "execution_count": 20,
   "metadata": {},
   "outputs": [
    {
     "name": "stdout",
     "output_type": "stream",
     "text": [
      "tf.Tensor(\n",
      "[-1.49011612e-07 -4.86440212e-02 -1.78813934e-07  1.49011612e-07\n",
      " -2.98023224e-08 -2.55525112e-04  4.66868281e-04 -3.07993829e-01\n",
      "  8.94069672e-08  2.98023224e-08  2.38418579e-07  1.63912773e-07\n",
      " -3.82514834e-01 -4.17232513e-07 -3.57627869e-07 -8.81850719e-05\n",
      " -4.47034836e-08  7.89761543e-06  1.45316124e-04 -3.11930329e-02\n",
      " -1.23190925e-01 -2.04797447e-01 -2.61336565e-04  5.14388084e-05\n",
      " -3.68251860e-01 -1.14083290e-04 -5.96046448e-08  5.96046448e-08\n",
      "  1.38878822e-05 -7.07805157e-05  4.17232513e-07 -3.22693169e-01\n",
      "  1.47223473e-05 -2.38418579e-07 -1.72853470e-05  8.94069672e-08\n",
      " -3.39508057e-04  2.08616257e-07  3.64497304e-04  4.13775444e-04\n",
      "  9.70363617e-05  5.96046448e-07  6.10351562e-05 -1.78813934e-07\n",
      " -3.52561474e-05  3.96966934e-05  1.49756670e-05 -4.24683511e-01\n",
      " -4.44799662e-05  4.71025705e-05 -5.06553650e-02 -1.63807940e+00\n",
      "  2.29001045e-04 -5.96046448e-07 -2.72314698e-01 -2.21575052e-01\n",
      " -2.23517418e-07  4.53233719e-04 -4.81797516e-01 -1.06967366e+00\n",
      " -2.85426855e-01 -1.59311682e-01 -3.57627869e-07  4.68194485e-04], shape=(64,), dtype=float32)\n"
     ]
    }
   ],
   "source": [
    "diff = times_reg[:,:,:,0]*mask_qs[:,:,:,0]-t_rec\n",
    "print(tf.reduce_sum(diff, axis=(1,2)))"
   ]
  },
  {
   "cell_type": "markdown",
   "metadata": {},
   "source": [
    "### S_800 reco"
   ]
  },
  {
   "cell_type": "code",
   "execution_count": 21,
   "metadata": {},
   "outputs": [],
   "source": [
    "theta_flat = theta_flat[:,tf.newaxis, tf.newaxis]\n",
    "phi_flat = phi_flat[:,tf.newaxis, tf.newaxis]\n",
    "t0_flat = t0_flat[:,tf.newaxis,tf.newaxis]"
   ]
  },
  {
   "cell_type": "code",
   "execution_count": 22,
   "metadata": {},
   "outputs": [],
   "source": [
    "def get_eta(theta):\n",
    "    \n",
    "    x = theta*180.0/3.1415\n",
    "    \n",
    "    e1 = 3.97 - 1.79*(tf.math.abs(1.0/(tf.math.abs(tf.math.cos(theta))+1e-6)) - 1.0)\n",
    "    e2 = ((((((-1.71299934e-10*x + 4.23849411e-08)*x -3.76192000e-06)*x\n",
    "               + 1.35747298e-04)*x -2.18241567e-03)*x + 1.18960682e-02)*x\n",
    "             + 3.70692527e+00)\n",
    "    res = tf.where(x<62.7,e1,e2)\n",
    "    # valid ???\n",
    "    #res = tf.where(res>0,res,0)\n",
    "    \n",
    "    return res"
   ]
  },
  {
   "cell_type": "code",
   "execution_count": 23,
   "metadata": {},
   "outputs": [
    {
     "data": {
      "text/plain": [
       "[<matplotlib.lines.Line2D at 0x7f870000ba00>]"
      ]
     },
     "execution_count": 23,
     "metadata": {},
     "output_type": "execute_result"
    },
    {
     "data": {
      "image/png": "[encoded data removed]",
      "text/plain": [
       "<Figure size 640x480 with 1 Axes>"
      ]
     },
     "metadata": {},
     "output_type": "display_data"
    }
   ],
   "source": [
    "ts = np.arange(0., 3.141/2, 0.1)\n",
    "es = get_eta(ts)\n",
    "\n",
    "plt.plot(ts,es)"
   ]
  },
  {
   "cell_type": "code",
   "execution_count": 24,
   "metadata": {},
   "outputs": [],
   "source": [
    "Rm = tf.constant([0.09])\n",
    "R1 = tf.constant([1.])\n",
    "\n",
    "def get_profile(r, eta):\n",
    "\n",
    "    res = tf.math.pow(((r+1e-6)/Rm),-1.2) * tf.math.pow((1+r/Rm), -(eta-1.2)) * tf.math.pow(1.+(tf.math.pow(r,2)/R1/R1),-0.6)\n",
    "    return res"
   ]
  },
  {
   "cell_type": "code",
   "execution_count": 25,
   "metadata": {},
   "outputs": [],
   "source": [
    "R_x = tf.constant([[0.8]])\n",
    "\n",
    "# r should be centered at shower's core\n",
    "# normed so that ldf(800m)=1\n",
    "def get_normed_ldf(r, eta):\n",
    "    \n",
    "    norm = get_profile(R_x, eta)\n",
    "    ldf = get_profile(r, eta)\n",
    "    \n",
    "    if tf.math.reduce_any( tf.math.is_nan( norm )):\n",
    "            print('ldf norm Nan') \n",
    "    if tf.math.reduce_any( tf.math.is_nan( ldf )):\n",
    "            print('ldf ldf Nan') \n",
    "    \n",
    "    return ldf/norm\n",
    "    #return tf.math.divide_no_nan(ldf,norm)"
   ]
  },
  {
   "cell_type": "code",
   "execution_count": 26,
   "metadata": {},
   "outputs": [],
   "source": [
    "s_min = tf.constant([[0.3]])\n",
    "s_max = tf.constant([[1.8]])\n",
    "\n",
    "Det_Area = 3.0\n",
    "\n",
    "def get_S_norm_raw(qs, coords, r_core, theta, phi, mask, eta):\n",
    "    # calculate distance to shower core\n",
    "    cent_coords = coords - r_core\n",
    "    proj_to_n = tf.math.sin(theta)*( tf.math.cos(phi)*cent_coords[:,:,:,0] + tf.math.sin(phi)*cent_coords[:,:,:,1] )\n",
    "    dist_core = tf.math.reduce_sum( tf.math.pow(cent_coords,2), axis=(3) ) - tf.math.pow(proj_to_n,2)\n",
    "    dist_core = tf.where( dist_core>0, tf.math.sqrt( dist_core ), 0. )\n",
    "    # mask for distances\n",
    "    mask_dist = tf.where( tf.math.logical_and(dist_core>s_min,dist_core<s_max), 1., 0. )\n",
    "    mask = mask[:,:,:,0]*mask_dist\n",
    "    #mask = mask[:,:,:,0]\n",
    "    \n",
    "    mq = get_measured_ldf(mask, qs)\n",
    "    eq = get_expected_ldf(dist_core, eta, mask)\n",
    "    \n",
    "    return mq, eq\n",
    "\n",
    "def get_measured_ldf(mask, qs):\n",
    "\n",
    "    return tf.math.reduce_sum( qs*mask, axis=(1,2) ) / Det_Area\n",
    "\n",
    "def get_expected_ldf(dist_core, eta, mask):\n",
    "    \n",
    "    exp_qs = get_normed_ldf(dist_core, eta)*mask\n",
    "    if tf.math.reduce_any( tf.math.is_nan( exp_qs )):\n",
    "            print('exp_qs Nan eval')\n",
    "    \n",
    "    return tf.math.reduce_sum( exp_qs, axis=(1,2) )"
   ]
  },
  {
   "cell_type": "code",
   "execution_count": 27,
   "metadata": {},
   "outputs": [],
   "source": [
    "eta_flat = get_eta(theta_flat)\n",
    "mq, eq = get_S_norm_raw(qs_in[:,:,:,0], real_coords[:,:,:,:2], r_core_0, theta_flat, phi_flat, mask_qs, eta_flat)\n",
    "S_norm_ch = mq/(eq+1e-8)"
   ]
  },
  {
   "cell_type": "code",
   "execution_count": 28,
   "metadata": {},
   "outputs": [
    {
     "data": {
      "text/plain": [
       "<matplotlib.collections.PathCollection at 0x7f8700113e50>"
      ]
     },
     "execution_count": 28,
     "metadata": {},
     "output_type": "execute_result"
    },
    {
     "data": {
      "image/png": "[encoded data removed]",
      "text/plain": [
       "<Figure size 640x480 with 1 Axes>"
      ]
     },
     "metadata": {},
     "output_type": "display_data"
    }
   ],
   "source": [
    "plt.scatter(mq,eq)"
   ]
  },
  {
   "cell_type": "code",
   "execution_count": 29,
   "metadata": {},
   "outputs": [],
   "source": [
    "# mc_th = ev_params[:num,8:9][:,tf.newaxis]/180*3.1415\n",
    "# mc_phi = ev_params[:num,9:10][:,tf.newaxis]/180*3.1415\n",
    "# print(mc_th.shape,mc_phi.shape)"
   ]
  },
  {
   "cell_type": "code",
   "execution_count": 30,
   "metadata": {},
   "outputs": [],
   "source": [
    "# eta_mc = get_eta(mc_th)\n",
    "# mq, eq = get_S_norm_raw(qs_in[:,:,:,0], real_coords[:,:,:,:2], np.zeros_like(real_coords)[:,0:1,0:1,:2], mc_th, mc_phi, mask_qs, eta_mc)\n",
    "# S_norm_ch = mq/(eq)"
   ]
  },
  {
   "cell_type": "code",
   "execution_count": 31,
   "metadata": {},
   "outputs": [],
   "source": [
    "# plt.scatter(mq,eq)"
   ]
  },
  {
   "cell_type": "markdown",
   "metadata": {},
   "source": [
    "### Full time reco"
   ]
  },
  {
   "cell_type": "code",
   "execution_count": 32,
   "metadata": {},
   "outputs": [],
   "source": [
    "def get_a_ivanov(theta, rescale):\n",
    "    \n",
    "    theta_degr = theta/3.1415*180.\n",
    "    \n",
    "    r1 = 3.3836 - 0.01848*theta_degr\n",
    "    r2 = (0.6511268210e-4*(theta_degr-.2614963683))*(theta_degr*theta_degr-134.7902422*theta_degr+4558.524091)\n",
    "    r3 = tf.math.exp(-3.2e-2*theta_degr + 2.0)\n",
    "    \n",
    "    a_ivanov = tf.where( theta_degr<25.0, r1, r2 )\n",
    "    a_ivanov = tf.where( theta_degr>35.0, r3, a_ivanov )\n",
    "    \n",
    "    if rescale:\n",
    "        a_ivanov *= 1.3\n",
    "    \n",
    "    return a_ivanov\n",
    "\n",
    "def get_S_norm(dist_core, mask, qs, eta):\n",
    "    # mask for distances\n",
    "    mask_dist = tf.where( tf.math.logical_and(dist_core>s_min,dist_core<s_max), 1., 0. )\n",
    "    mask = mask*mask_dist\n",
    "    if tf.math.reduce_any( tf.math.is_nan( mask )):\n",
    "            print('mask Nan eval')\n",
    "    \n",
    "    mq = get_measured_ldf(mask, qs)\n",
    "    if tf.math.reduce_any( mq==0 ):\n",
    "            print('mq =0 eval')\n",
    "    eq = get_expected_ldf(dist_core, eta, mask)\n",
    "    if tf.math.reduce_any( tf.math.is_nan( eq )):\n",
    "            print('eq Nan eval')\n",
    "    \n",
    "    return mq/(eq+1e-6)"
   ]
  },
  {
   "cell_type": "code",
   "execution_count": 33,
   "metadata": {},
   "outputs": [],
   "source": [
    "# changed to - in plane\n",
    "R_L = 0.03\n",
    "R_error = 0.15\n",
    "\n",
    "def get_lins_t(r, s):\n",
    "    return 0.67*tf.math.pow((1 + r/R_L), 1.5)*tf.math.pow(s+1e-8, -0.5)\n",
    "\n",
    "def get_exp_time(t0, theta, phi, coords, mask, r_core, qs, rescale):\n",
    "    # flat\n",
    "    t_plane = t0 - tf.math.sin(theta)*( tf.math.cos(phi)*coords[:,:,:,0] + tf.math.sin(phi)*coords[:,:,:,1] ) - tf.math.cos(theta)*coords[:,:,:,2]\n",
    "    if tf.math.reduce_any( tf.math.is_nan( t_plane )):\n",
    "            print('t_plane Nan eval')\n",
    "    ## curvature\n",
    "    # get S_800\n",
    "    cent_coords = coords[:,:,:,:2] - r_core\n",
    "    proj_to_n = tf.math.sin(theta)*( tf.math.cos(phi)*cent_coords[:,:,:,0] + tf.math.sin(phi)*cent_coords[:,:,:,1] ) + tf.math.cos(theta)*coords[:,:,:,2]\n",
    "    dist_core = tf.math.reduce_sum( tf.math.pow(cent_coords,2), axis=(3) ) - tf.math.pow(proj_to_n,2)\n",
    "    dist_core = tf.where( dist_core>0, tf.math.sqrt( dist_core ), 0. )\n",
    "    # IS THIS ALSO NESSASARY?\n",
    "    dist_core = tf.where( dist_core>R_error, dist_core, R_error )\n",
    "    eta = get_eta(theta)\n",
    "    if tf.math.reduce_any( tf.math.is_nan( eta )):\n",
    "            print('eta Nan eval')\n",
    "    S_norm = get_S_norm(dist_core, mask, qs, eta)[:,tf.newaxis, tf.newaxis]\n",
    "    if tf.math.reduce_any( tf.math.is_nan( S_norm )):\n",
    "            print('S_norm Nan eval')\n",
    "    if tf.math.reduce_any( S_norm<0 ):\n",
    "            print('S_norm <0 eval')\n",
    "    if tf.math.reduce_any( S_norm==0 ):\n",
    "            print('S_norm =0 eval')\n",
    "    # get curv parameters\n",
    "    a_ivanov = get_a_ivanov(theta, rescale)\n",
    "    if tf.math.reduce_any( tf.math.is_nan( a_ivanov )):\n",
    "            print('a_ivanov Nan eval')\n",
    "    aprime = a_ivanov/tf.math.sqrt(S_norm)\n",
    "    if tf.math.reduce_any( tf.math.is_nan( aprime )):\n",
    "            print('aprime Nan eval')\n",
    "    s_prof = get_normed_ldf(dist_core, theta)\n",
    "    if tf.math.reduce_any( tf.math.is_nan( s_prof )):\n",
    "            print('s_prof Nan eval')\n",
    "    # time due to curvature\n",
    "    t_curv = aprime*get_lins_t( dist_core, s_prof )\n",
    "    if tf.math.reduce_any( tf.math.is_nan( t_curv )):\n",
    "            print('s_prof Nan eval')\n",
    "    \n",
    "    return ( t_plane + t_curv * 1e-3*time2dist )*mask # nsec -> mks -> km "
   ]
  },
  {
   "cell_type": "code",
   "execution_count": 34,
   "metadata": {},
   "outputs": [],
   "source": [
    "ts = get_exp_time(t0_flat, theta_flat, phi_flat, real_coords[:,:,:,:3], mask_qs[:,:,:,0], r_core_sat_0, qs_in[:,:,:,0], True)"
   ]
  },
  {
   "cell_type": "code",
   "execution_count": 35,
   "metadata": {},
   "outputs": [
    {
     "name": "stdout",
     "output_type": "stream",
     "text": [
      "tf.Tensor(\n",
      "[[ 0.          0.          0.          0.          0.          0.        ]\n",
      " [ 0.          0.          0.          0.          0.          0.        ]\n",
      " [ 0.          0.          0.         -0.92956334 -1.4517716   0.        ]\n",
      " [ 0.          0.          0.29867288 -0.34605867 -0.83749866  0.        ]\n",
      " [ 0.          0.          0.          0.27974966  0.          0.        ]\n",
      " [ 0.          0.          1.7396809   0.          0.          0.        ]], shape=(6, 6), dtype=float32)\n"
     ]
    }
   ],
   "source": [
    "print(ts[0])"
   ]
  },
  {
   "cell_type": "code",
   "execution_count": 36,
   "metadata": {},
   "outputs": [
    {
     "name": "stdout",
     "output_type": "stream",
     "text": [
      "tf.Tensor(\n",
      "[[ 0.          0.          0.          0.          0.          0.        ]\n",
      " [ 0.          0.          0.          0.          0.          0.        ]\n",
      " [ 0.          0.          0.         -0.9483586  -1.5465921   0.        ]\n",
      " [ 0.          0.          0.2845831  -0.31627244 -0.9193284   0.        ]\n",
      " [ 0.          0.          0.          0.23789437  0.          0.        ]\n",
      " [ 0.          0.          1.5157459   0.          0.          0.        ]], shape=(6, 6), dtype=float32)\n"
     ]
    }
   ],
   "source": [
    "print(t_rec[0])"
   ]
  },
  {
   "cell_type": "code",
   "execution_count": 37,
   "metadata": {},
   "outputs": [
    {
     "name": "stdout",
     "output_type": "stream",
     "text": [
      "tf.Tensor(\n",
      "[[ 0.          0.          0.          0.          0.          0.        ]\n",
      " [ 0.          0.          0.          0.          0.          0.        ]\n",
      " [ 0.          0.          0.         -0.84391576 -1.4614884   0.        ]\n",
      " [ 0.          0.          0.1873703  -0.41221467 -0.9338535   0.        ]\n",
      " [ 0.          0.          0.          0.09143671  0.          0.        ]\n",
      " [ 0.          0.          1.680337    0.          0.          0.        ]], shape=(6, 6), dtype=float32)\n"
     ]
    }
   ],
   "source": [
    "print(times_reg[0,:,:,0])"
   ]
  },
  {
   "cell_type": "code",
   "execution_count": 38,
   "metadata": {},
   "outputs": [],
   "source": [
    "t0_err = 30.\n",
    "t_err_resc = tf.math.pow( 1e-3*time2dist, 2 )\n",
    "\n",
    "def get_linsley_s(r, S):\n",
    "    return 1.3*0.29*tf.math.pow((1 + r/R_L), 1.5)*pow(S+1e-6, -0.3)\n",
    "\n",
    "def get_t_err(aprime, S_norm, r, eta):\n",
    "    s_prof = get_profile(r, eta)\n",
    "    lin_s = get_linsley_s( r, S_norm*s_prof )\n",
    "    t_s = aprime*tf.math.sqrt(S_norm)*lin_s\n",
    "    return (t0_err*t0_err + t_s*t_s) * t_err_resc # ns^2 -> mks^2 -> km^2"
   ]
  },
  {
   "cell_type": "code",
   "execution_count": 39,
   "metadata": {},
   "outputs": [],
   "source": [
    "def  get_expected_q(t_0, thetta, phi, coords, r_core, S_norm):\n",
    "    \n",
    "    t_plane = t_0 - tf.math.sin(thetta)*( tf.math.cos(phi)*coords[:,:,:,0] + tf.math.sin(phi)*coords[:,:,:,1] )\n",
    "    if tf.math.reduce_any( tf.math.is_nan( t_plane )):\n",
    "        print('plane Nan in')\n",
    "    cent_coords = coords[:,:,:,:2] - r_core\n",
    "    if tf.math.reduce_any( tf.math.is_nan( cent_coords )):\n",
    "        print('r_core Nan in')  \n",
    "    proj_to_n = tf.math.sin(thetta)*( tf.math.cos(phi)*cent_coords[:,:,:,0] + tf.math.sin(phi)*cent_coords[:,:,:,1] ) + tf.math.cos(thetta)*coords[:,:,:,2]\n",
    "    if tf.math.reduce_any( tf.math.is_nan( proj_to_n )):\n",
    "        print('proj Nan in')\n",
    "    dist_core = tf.math.reduce_sum( tf.math.pow(cent_coords,2), axis=(3) ) - tf.math.pow(proj_to_n,2)\n",
    "    dist_core = tf.where( dist_core>0, tf.math.sqrt( dist_core ), 0. )\n",
    "    # IS THIS ALSO NESSASARY?\n",
    "    dist_core = tf.where( dist_core>R_error, dist_core, R_error )\n",
    "    if tf.math.reduce_any( tf.math.is_nan( dist_core )):\n",
    "        print('dist_core Nan in')\n",
    "    eta = get_eta(thetta)\n",
    "    s_prof = get_normed_ldf(dist_core, eta)\n",
    "    s_expt = S_norm*s_prof\n",
    "    return s_expt"
   ]
  },
  {
   "cell_type": "markdown",
   "metadata": {},
   "source": [
    "### Gradient descendent"
   ]
  },
  {
   "cell_type": "code",
   "execution_count": 40,
   "metadata": {},
   "outputs": [],
   "source": [
    "# get initial: aprime, S_800\n",
    "def init_vars(theta, phi, coords, mask, r_core, qs, rescale):\n",
    "    \n",
    "    cent_coords = coords[:,:,:,:2] - r_core\n",
    "    proj_to_n = tf.math.sin(theta)*( tf.math.cos(phi)*cent_coords[:,:,:,0] + tf.math.sin(phi)*cent_coords[:,:,:,1] )\n",
    "    dist_core = tf.math.sqrt( tf.math.reduce_sum( tf.math.pow(cent_coords,2), axis=(3) ) - tf.math.pow(proj_to_n,2) )\n",
    "    eta = get_eta(theta)\n",
    "    S_norm = get_S_norm(dist_core, mask, qs, eta)[:,tf.newaxis, tf.newaxis]\n",
    "    # get curv parameters\n",
    "    a_ivanov = get_a_ivanov(theta, rescale)\n",
    "    aprime = a_ivanov/tf.math.sqrt(S_norm)\n",
    "    \n",
    "    return aprime, S_norm"
   ]
  },
  {
   "cell_type": "code",
   "execution_count": 41,
   "metadata": {},
   "outputs": [],
   "source": [
    "aprime_init, S_norm_init = init_vars( theta_flat, phi_flat, real_coords[:,:,:,:3], mask_qs[:,:,:,0], r_core_sat_0, qs_in[:,:,:,0], True )"
   ]
  },
  {
   "cell_type": "code",
   "execution_count": 42,
   "metadata": {},
   "outputs": [],
   "source": [
    "#aprime_init, S_norm_init = 1.3*aprime_reco, s_iv"
   ]
  },
  {
   "cell_type": "code",
   "execution_count": 43,
   "metadata": {},
   "outputs": [],
   "source": [
    "exp_qs = get_expected_q(t0_flat, theta_flat, phi_flat, real_coords[:,:,:,:3], r_core_sat_0, S_norm_init)"
   ]
  },
  {
   "cell_type": "code",
   "execution_count": 44,
   "metadata": {},
   "outputs": [
    {
     "name": "stdout",
     "output_type": "stream",
     "text": [
      "tf.Tensor(\n",
      "[[ 0.          0.          0.          0.          0.          0.        ]\n",
      " [ 0.          0.          0.          0.          0.          0.        ]\n",
      " [ 0.          0.          0.          0.17748083  0.05192863  0.        ]\n",
      " [ 0.          0.          0.41453344 11.053727    0.06990296  0.        ]\n",
      " [ 0.          0.          0.          0.17242153  0.          0.        ]\n",
      " [ 0.          0.          0.02238676  0.          0.          0.        ]], shape=(6, 6), dtype=float32)\n",
      "[[ 0.        0.        0.        0.        0.        0.      ]\n",
      " [ 0.        0.        0.        0.        0.        0.      ]\n",
      " [ 0.        0.        0.        1.24868   0.477705  0.      ]\n",
      " [ 0.        0.        8.35528  10.5188    0.698082  0.      ]\n",
      " [ 0.        0.        0.        3.40935   0.        0.      ]\n",
      " [ 0.        0.        1.22881   0.        0.        0.      ]]\n"
     ]
    }
   ],
   "source": [
    "print((exp_qs*mask_qs[0,:,:,0])[0])\n",
    "print(qs_in[0,:,:,0])"
   ]
  },
  {
   "cell_type": "code",
   "execution_count": 45,
   "metadata": {},
   "outputs": [],
   "source": [
    "opt_params_var = []\n",
    "\n",
    "for p in [t0_flat, theta_flat, phi_flat, r_core_sat_0, aprime_init, S_norm_init]:\n",
    "    opt_params_var.append( tf.Variable(p, True) )"
   ]
  },
  {
   "cell_type": "code",
   "execution_count": 46,
   "metadata": {},
   "outputs": [],
   "source": [
    "# opt_params_var = []\n",
    "\n",
    "# for p in [t0_flat, theta_mc, phi_mc, r_core_sat_0, aprime_init, S_norm_init]:\n",
    "#     opt_params_var.append( tf.Variable(p, True) )"
   ]
  },
  {
   "cell_type": "code",
   "execution_count": 47,
   "metadata": {},
   "outputs": [],
   "source": [
    "# rewrite to individual loss?\n",
    "\n",
    "def chi2_loss(predicted, real, mask, error):\n",
    "        \n",
    "    if tf.math.reduce_any( tf.math.is_nan( predicted )):\n",
    "        print('loss Nan in')\n",
    "    if tf.math.reduce_any( tf.math.is_nan( error )):\n",
    "        print('error Nan in')\n",
    "    n_points = tf.math.reduce_sum( mask, axis=(1,2), keepdims=False )\n",
    "    chi2 = tf.math.reduce_sum( (predicted-real)*(predicted-real)/error*mask, axis=(1,2) )\n",
    "    if tf.math.reduce_any( tf.math.is_nan( chi2 )):\n",
    "        print('loss Nan out')\n",
    "\n",
    "    return chi2, n_points "
   ]
  },
  {
   "cell_type": "code",
   "execution_count": 48,
   "metadata": {},
   "outputs": [],
   "source": [
    "class chi2_accumulate(tf.keras.losses.Loss):\n",
    "\n",
    "    def __init__(self, n_pars):\n",
    "        self.n_pars = n_pars\n",
    "        super().__init__()\n",
    "        \n",
    "    def __call__(self, losses, n_points):\n",
    "        \n",
    "        loss = tf.stack(losses, axis=0)\n",
    "        loss = tf.math.reduce_sum( loss )\n",
    "        \n",
    "        n_ps = tf.stack(n_points, axis=0)\n",
    "        n_ps = tf.math.reduce_sum( n_ps )\n",
    "        \n",
    "        n_ps = n_ps - self.n_pars\n",
    "        n_ps = tf.where( n_ps>0, n_ps, 1. )\n",
    "        \n",
    "        return loss/n_ps\n",
    "    \n",
    "loss_fn = chi2_accumulate(7) # 7 for joint fit, 4 for geometry"
   ]
  },
  {
   "cell_type": "code",
   "execution_count": 49,
   "metadata": {},
   "outputs": [],
   "source": [
    "def logPua(n, nbar):\n",
    "    \n",
    "    mask_nbar_0 = tf.where( nbar< 1e-40, True, False )\n",
    "    mask_n_0 = tf.where( n>1e-40, True, False )\n",
    "    mask_n_0 = tf.logical_and( mask_nbar_0, mask_n_0 )\n",
    "    \n",
    "    mask_n = tf.where( n<1e-20, True, False )\n",
    "    mask_n = tf.logical_and( ~mask_nbar_0, mask_n )\n",
    "    \n",
    "    mask_res = tf.logical_and( ~mask_nbar_0, ~mask_n )\n",
    "    \n",
    "    res = tf.zeros_like(n)\n",
    "    \n",
    "    res = tf.where( mask_n_0, -1.*1e-6, 0. )\n",
    "            \n",
    "    res = tf.where( mask_n,  -2*nbar, res )\n",
    "\n",
    "    res = tf.where( mask_res, 2*(n*tf.math.log(nbar/(n+1e-8)) + (n - nbar)), res )\n",
    "    \n",
    "    return res\n",
    "\n",
    "def logPau_loss(q_reg, q_exp, mask):\n",
    "    \n",
    "    loss = tf.math.reduce_sum( (-0.4*logPua(q_reg*Det_Area, q_exp*Det_Area))*mask, axis=(1,2) )\n",
    "    if tf.math.reduce_any( tf.math.is_nan( loss )):\n",
    "            print('loss Nan eval')  \n",
    "    n_ps = tf.math.reduce_sum( mask, axis=(1,2), keepdims=False )\n",
    "    return loss, n_ps"
   ]
  },
  {
   "cell_type": "code",
   "execution_count": 50,
   "metadata": {},
   "outputs": [],
   "source": [
    "\n",
    "\n",
    "# - in t plane\n",
    "def opt_step(opt_params, coords, mask, qs, do_print):\n",
    "\n",
    "    with tf.GradientTape(persistent=True) as tape:\n",
    "\n",
    "        tape.watch( opt_params )\n",
    "\n",
    "        # time reco\n",
    "        t_plane = opt_params[0] - tf.math.sin(opt_params[1])*( tf.math.cos(opt_params[2])*coords[:,:,:,0] + tf.math.sin(opt_params[2])*coords[:,:,:,1] )\n",
    "        if tf.math.reduce_any( tf.math.is_nan( t_plane )):\n",
    "            print('plane Nan in')\n",
    "        cent_coords = coords[:,:,:,:2] - opt_params[3]\n",
    "        if tf.math.reduce_any( tf.math.is_nan( cent_coords )):\n",
    "            print('r_core Nan in')  \n",
    "        proj_to_n = tf.math.sin(opt_params[1])*( tf.math.cos(opt_params[2])*cent_coords[:,:,:,0] + tf.math.sin(opt_params[2])*cent_coords[:,:,:,1] ) + tf.math.cos(opt_params[1])*coords[:,:,:,2]\n",
    "        if tf.math.reduce_any( tf.math.is_nan( proj_to_n )):\n",
    "            print('proj Nan in')\n",
    "        dist_core = tf.math.reduce_sum( tf.math.pow(cent_coords,2), axis=(3) ) - tf.math.pow(proj_to_n,2)\n",
    "        if tf.math.reduce_any( dist_core<-0.1 ):\n",
    "            print('dist_core <-0.1 eval')\n",
    "        dist_core = tf.where( dist_core>0, tf.math.sqrt( dist_core ), 0. )\n",
    "        # IS THIS ALSO NESSASARY?\n",
    "        dist_core = tf.where( dist_core>R_error, dist_core, R_error )\n",
    "        if tf.math.reduce_any( tf.math.is_nan( dist_core )):\n",
    "            print('dist_core Nan in')\n",
    "        eta = get_eta(opt_params[1])\n",
    "        s_prof = get_normed_ldf(dist_core, eta)\n",
    "        if tf.math.reduce_any( tf.math.is_nan( s_prof )):\n",
    "            print('plane Nan in')\n",
    "        # time due to curvature\n",
    "        t_curv = opt_params[4]*get_lins_t( dist_core, s_prof )\n",
    "        if tf.math.reduce_any( tf.math.is_nan( t_curv )):\n",
    "            print('curve Nan in')\n",
    "\n",
    "        # geometry\n",
    "        # WHAT IS S REALLY IN R. CODE? and is this really nessesary?\n",
    "        mask_q = tf.where( qs>0.1, 1., 0. )\n",
    "        mask_t = mask_q * mask\n",
    "        t_res = (t_plane + t_curv * 1e-3*time2dist )*mask_t         \n",
    "        t_err = get_t_err( opt_params[4], opt_params[5], dist_core, eta )\n",
    "        loss_t, n_ps_t = chi2_loss( t_res, times_reg[:,:,:,0], mask_t, t_err )\n",
    "        #print(loss_t)\n",
    "        \n",
    "        # Q\n",
    "        s_expt = opt_params[5]*s_prof\n",
    "        if tf.math.reduce_any( tf.math.is_nan( s_expt )):\n",
    "            print('s_expt Nan in')\n",
    "        # q2\n",
    "        mask_q2 = tf.where( s_expt>4., 1., 0 )\n",
    "        mask_q2 = mask_q2*mask_t\n",
    "        if tf.math.reduce_any( tf.math.is_nan( mask_q2 )):\n",
    "            print('mask_q2 Nan in')\n",
    "        error_q2 = ( 2*qs/Det_Area + tf.math.pow( 0.15*qs, 2 ) + 1e-6 )\n",
    "        if tf.math.reduce_any( tf.math.is_nan( error_q2 )):\n",
    "            print('error_q2 Nan in')\n",
    "        loss_q2, n_ps_q2 = chi2_loss( s_expt, qs, mask_q2, error_q2 )\n",
    "        # q3\n",
    "        mask_q3 = tf.where( s_expt<4., 1., 0 )\n",
    "        mask_q3 = mask_t*mask_q3\n",
    "        loss_q3, n_ps_q3 = logPau_loss( qs, s_expt, mask_q3 )\n",
    "        \n",
    "        # accumulate\n",
    "        loss = loss_fn( [loss_t,loss_q2,loss_q3], [n_ps_t,n_ps_q2,n_ps_q3] )\n",
    "        #print(loss)\n",
    "        mask_big_a = tf.where( opt_params[4]>2., 1., 0. )\n",
    "        reg_a = mask_big_a*( opt_params[4]-2. )*100.\n",
    "        loss += reg_a\n",
    "\n",
    "        #n_ps_q2 = tf.where( n_ps_q2-7.>0., n_ps_q2-7, 1.  )\n",
    "        #print(tf.math.reduce_sum( loss_t/n_ps_q2 ), tf.math.reduce_sum( loss_q2/n_ps_q2 )   , end='\\r')\n",
    "        if do_print:\n",
    "            print(tf.math.reduce_sum( loss_t ), tf.math.reduce_sum( loss_q2 ), tf.math.reduce_sum( loss_q3 ), end='\\r')\n",
    "           # print( tf.math.reduce_sum( loss_q3 ) , tf.math.reduce_sum( n_ps_q3 )   , end='\\r' )\n",
    "        #print(loss, end='\\r')\n",
    "        \n",
    "    # update weights\n",
    "    grads = tape.gradient(loss, opt_params)\n",
    "    for j,g in enumerate(grads):\n",
    "        if tf.math.reduce_any( tf.math.is_nan( g )):\n",
    "            print('grads Nan, '+str(j))\n",
    "#     grads[1] = 5.0*grads[1]\n",
    "#     grads[2] = 5.0*grads[2]\n",
    "    #print(grads)\n",
    "    optimizer.apply_gradients( zip(grads, opt_params) )"
   ]
  },
  {
   "cell_type": "code",
   "execution_count": 65,
   "metadata": {},
   "outputs": [],
   "source": [
    "#lr = tf.keras.optimizers.schedules.ExponentialDecay(initial_learning_rate=0.03,\n",
    "#                                                    decay_steps=num_pictures // batch_size,\n",
    "# 20 -> 10 -> 5                                                   decay_rate=0.98)\n",
    "lr = 0.001*20\n",
    "#optimizer = tf.keras.optimizers.SGD(learning_rate=lr)\n",
    "optimizer = tf.keras.optimizers.Adam(learning_rate=lr)"
   ]
  },
  {
   "cell_type": "code",
   "execution_count": 66,
   "metadata": {
    "scrolled": true
   },
   "outputs": [
    {
     "name": "stdout",
     "output_type": "stream",
     "text": [
      "tf.Tensor(90.10518, shape=(), dtype=float32) tf.Tensor(16.346169, shape=(), dtype=float32) tf.Tensor(214.3562, shape=(), dtype=float32)))\r"
     ]
    }
   ],
   "source": [
    "n_iter = 100*5\n",
    "\n",
    "for i in range(n_iter):\n",
    "    if (i % 10)==0:\n",
    "        do_print = True\n",
    "    else:\n",
    "        do_print = False\n",
    "    opt_step(opt_params_var, real_coords[:,:,:,:3], mask_qs[:,:,:,0], qs_in[:,:,:,0], do_print)"
   ]
  },
  {
   "cell_type": "code",
   "execution_count": 67,
   "metadata": {},
   "outputs": [
    {
     "name": "stdout",
     "output_type": "stream",
     "text": [
      "tf.Tensor(\n",
      "[[ 0.          0.          0.          0.          0.          0.        ]\n",
      " [ 0.          0.          0.          0.          0.          0.        ]\n",
      " [ 0.          0.          0.         -1.0770143  -1.6474873   0.        ]\n",
      " [ 0.          0.          0.18000856 -0.4997894  -1.0400317   0.        ]\n",
      " [ 0.          0.          0.          0.10834646  0.          0.        ]\n",
      " [ 0.          0.          1.5408671   0.          0.          0.        ]], shape=(6, 6), dtype=float32)\n"
     ]
    }
   ],
   "source": [
    "print(get_exp_time(opt_params_var[0], opt_params_var[1], opt_params_var[2], real_coords[:,:,:,:3], mask_qs[:,:,:,0], opt_params_var[3], qs_in[:,:,:,0], True)[0])"
   ]
  },
  {
   "cell_type": "code",
   "execution_count": 68,
   "metadata": {},
   "outputs": [
    {
     "name": "stdout",
     "output_type": "stream",
     "text": [
      "tf.Tensor(\n",
      "[[ 0.          0.          0.          0.          0.          0.        ]\n",
      " [ 0.          0.          0.          0.          0.          0.        ]\n",
      " [ 0.          0.          0.         -0.84391576 -1.4614884   0.        ]\n",
      " [ 0.          0.          0.1873703  -0.41221467 -0.9338535   0.        ]\n",
      " [ 0.          0.          0.          0.09143671  0.          0.        ]\n",
      " [ 0.          0.          1.680337    0.          0.          0.        ]], shape=(6, 6), dtype=float32)\n"
     ]
    }
   ],
   "source": [
    "print(times_reg[0,:,:,0])"
   ]
  },
  {
   "cell_type": "code",
   "execution_count": 69,
   "metadata": {},
   "outputs": [
    {
     "name": "stdout",
     "output_type": "stream",
     "text": [
      "tf.Tensor(\n",
      "[[ 0.          0.          0.          0.          0.          0.        ]\n",
      " [ 0.          0.          0.          0.          0.          0.        ]\n",
      " [ 0.          0.          0.          1.082228    0.44933936  0.        ]\n",
      " [ 0.          0.          8.417854   10.649766    0.6916804   0.        ]\n",
      " [ 0.          0.          0.          3.3329399   0.          0.        ]\n",
      " [ 0.          0.          1.3393112   0.          0.          0.        ]], shape=(6, 6), dtype=float32)\n"
     ]
    }
   ],
   "source": [
    "exp_qs = get_expected_q(opt_params_var[0], opt_params_var[1], opt_params_var[2], real_coords[:,:,:,:3], opt_params_var[3], opt_params_var[5])\n",
    "print((exp_qs*mask_qs[:,:,:,0])[0])"
   ]
  },
  {
   "cell_type": "code",
   "execution_count": 70,
   "metadata": {},
   "outputs": [
    {
     "name": "stdout",
     "output_type": "stream",
     "text": [
      "[[ 0.        0.        0.        0.        0.        0.      ]\n",
      " [ 0.        0.        0.        0.        0.        0.      ]\n",
      " [ 0.        0.        0.        1.24868   0.477705  0.      ]\n",
      " [ 0.        0.        8.35528  10.5188    0.698082  0.      ]\n",
      " [ 0.        0.        0.        3.40935   0.        0.      ]\n",
      " [ 0.        0.        1.22881   0.        0.        0.      ]]\n"
     ]
    }
   ],
   "source": [
    "print(qs_in[0,:,:,0])"
   ]
  },
  {
   "cell_type": "code",
   "execution_count": 71,
   "metadata": {},
   "outputs": [
    {
     "name": "stdout",
     "output_type": "stream",
     "text": [
      "0.047804315 0.8922336 2.339878 [ 0.40196243 -0.23160674] 1.9755691 6.506927\n"
     ]
    }
   ],
   "source": [
    "print( opt_params_var[0][0,0,0].numpy(), opt_params_var[1][0,0,0].numpy(), opt_params_var[2][0,0,0].numpy(), opt_params_var[3][0,0,0].numpy(), opt_params_var[4][0,0,0].numpy(), opt_params_var[5][0,0,0].numpy() )"
   ]
  },
  {
   "cell_type": "code",
   "execution_count": 72,
   "metadata": {},
   "outputs": [
    {
     "name": "stdout",
     "output_type": "stream",
     "text": [
      "0.18313916 0.81218153 2.3758225 [-0.13557288  0.287459  ] 3.470823 0.38970873\n"
     ]
    }
   ],
   "source": [
    "print( t0_flat[0,0,0].numpy(), theta_flat[0,0,0].numpy(), phi_flat[0,0,0].numpy(), r_core_sat_0[0][0,0].numpy(), aprime_init[0,0,0].numpy(), S_norm_init[0,0,0].numpy())"
   ]
  },
  {
   "cell_type": "code",
   "execution_count": 73,
   "metadata": {},
   "outputs": [
    {
     "name": "stdout",
     "output_type": "stream",
     "text": [
      "reco\n",
      "[0.8922336  0.7877903  0.60133743 1.0885615  0.8143857  0.9655792\n",
      " 0.8328782  0.79621273 0.7965971  0.5380719 ]\n",
      "real\n",
      "[0.5454063  0.5808878  0.57323474 0.15240079 0.14175636 0.5783501\n",
      " 0.57026607 0.53309333 0.6318394  0.5667266 ]\n",
      "diff\n",
      "[ 0.34682733  0.2069025   0.0281027   0.93616074  0.67262936  0.38722908\n",
      "  0.2626121   0.2631194   0.16475773 -0.02865475]\n"
     ]
    }
   ],
   "source": [
    "n_sh = 10\n",
    "print('reco')\n",
    "print(opt_params_var[1][:n_sh,0,0].numpy())\n",
    "print('real')\n",
    "print(ev_params[:n_sh,2]/180*3.1415)\n",
    "print('diff')\n",
    "print(opt_params_var[1][:n_sh,0,0].numpy()-ev_params[:n_sh,2]/180*3.1415)"
   ]
  },
  {
   "cell_type": "code",
   "execution_count": 74,
   "metadata": {},
   "outputs": [
    {
     "name": "stdout",
     "output_type": "stream",
     "text": [
      "[ 2.339878    4.2058334   0.9550156   0.89493644  2.6788485   5.3668084\n",
      "  3.313177   -0.8368901   1.6897805  -0.16947599]\n",
      "[1.9971561  4.76426    1.352386   2.9889452  1.5452079  1.7927319\n",
      " 1.9820247  1.3915989  0.96158695 3.2810874 ]\n"
     ]
    }
   ],
   "source": [
    "print(opt_params_var[2][:n_sh,0,0].numpy())\n",
    "print((ev_params[:n_sh,3])/180*3.1415)"
   ]
  },
  {
   "cell_type": "code",
   "execution_count": 75,
   "metadata": {},
   "outputs": [
    {
     "name": "stdout",
     "output_type": "stream",
     "text": [
      "[0.5715872  0.5715872  0.5715872  0.1144808  0.1144808  0.56433034\n",
      " 0.56433034 0.56433034 0.56433034 0.56433034]\n",
      "[1.9501734 4.5760136 1.3769177 3.1316044 1.2647138 1.8036051 1.9725829\n",
      " 1.5060874 0.8844911 3.2893949]\n"
     ]
    }
   ],
   "source": [
    "print(ev_params[:n_sh,8]/180*3.1415)\n",
    "print(ev_params[:n_sh,9]/180*3.1415)"
   ]
  },
  {
   "cell_type": "code",
   "execution_count": null,
   "metadata": {},
   "outputs": [],
   "source": []
  },
  {
   "cell_type": "code",
   "execution_count": 59,
   "metadata": {},
   "outputs": [],
   "source": [
    "import matplotlib.pyplot as plt"
   ]
  },
  {
   "cell_type": "code",
   "execution_count": 60,
   "metadata": {},
   "outputs": [
    {
     "ename": "TypeError",
     "evalue": "Only integers, slices (`:`), ellipsis (`...`), tf.newaxis (`None`) and scalar tf.int32/tf.int64 tensors are valid indices, got <tf.Tensor: shape=(6, 6, 1), dtype=float32, numpy=\narray([[[0.],\n        [0.],\n        [0.],\n        [0.],\n        [0.],\n        [0.]],\n\n       [[0.],\n        [0.],\n        [0.],\n        [0.],\n        [0.],\n        [0.]],\n\n       [[0.],\n        [0.],\n        [0.],\n        [1.],\n        [1.],\n        [0.]],\n\n       [[0.],\n        [0.],\n        [1.],\n        [1.],\n        [1.],\n        [0.]],\n\n       [[0.],\n        [0.],\n        [0.],\n        [1.],\n        [0.],\n        [0.]],\n\n       [[0.],\n        [0.],\n        [1.],\n        [0.],\n        [0.],\n        [0.]]], dtype=float32)>",
     "output_type": "error",
     "traceback": [
      "\u001b[0;31m---------------------------------------------------------------------------\u001b[0m",
      "\u001b[0;31mTypeError\u001b[0m                                 Traceback (most recent call last)",
      "Cell \u001b[0;32mIn[60], line 5\u001b[0m\n\u001b[1;32m      3\u001b[0m fig, axs \u001b[38;5;241m=\u001b[39m plt\u001b[38;5;241m.\u001b[39msubplots(\u001b[38;5;241m1\u001b[39m, \u001b[38;5;241m1\u001b[39m, tight_layout\u001b[38;5;241m=\u001b[39m\u001b[38;5;28;01mTrue\u001b[39;00m, figsize\u001b[38;5;241m=\u001b[39m(\u001b[38;5;241m6\u001b[39m, \u001b[38;5;241m4\u001b[39m) )\n\u001b[1;32m      4\u001b[0m plt\u001b[38;5;241m.\u001b[39mgrid(\u001b[38;5;28;01mTrue\u001b[39;00m)\n\u001b[0;32m----> 5\u001b[0m axs\u001b[38;5;241m.\u001b[39mscatter(\u001b[43mtimes_flat\u001b[49m\u001b[43m[\u001b[49m\u001b[43mi\u001b[49m\u001b[43m]\u001b[49m\u001b[43m[\u001b[49m\u001b[43mmask_qs\u001b[49m\u001b[43m[\u001b[49m\u001b[43mi\u001b[49m\u001b[43m]\u001b[49m\u001b[43m]\u001b[49m, times_reg[i][mask_qs[i]])\n\u001b[1;32m      6\u001b[0m plt\u001b[38;5;241m.\u001b[39mshow()\n",
      "File \u001b[0;32m~/miniconda3/envs/tf211/lib/python3.10/site-packages/tensorflow/python/util/traceback_utils.py:153\u001b[0m, in \u001b[0;36mfilter_traceback.<locals>.error_handler\u001b[0;34m(*args, **kwargs)\u001b[0m\n\u001b[1;32m    151\u001b[0m \u001b[38;5;28;01mexcept\u001b[39;00m \u001b[38;5;167;01mException\u001b[39;00m \u001b[38;5;28;01mas\u001b[39;00m e:\n\u001b[1;32m    152\u001b[0m   filtered_tb \u001b[38;5;241m=\u001b[39m _process_traceback_frames(e\u001b[38;5;241m.\u001b[39m__traceback__)\n\u001b[0;32m--> 153\u001b[0m   \u001b[38;5;28;01mraise\u001b[39;00m e\u001b[38;5;241m.\u001b[39mwith_traceback(filtered_tb) \u001b[38;5;28;01mfrom\u001b[39;00m \u001b[38;5;28mNone\u001b[39m\n\u001b[1;32m    154\u001b[0m \u001b[38;5;28;01mfinally\u001b[39;00m:\n\u001b[1;32m    155\u001b[0m   \u001b[38;5;28;01mdel\u001b[39;00m filtered_tb\n",
      "File \u001b[0;32m~/miniconda3/envs/tf211/lib/python3.10/site-packages/tensorflow/python/ops/array_ops.py:906\u001b[0m, in \u001b[0;36m_check_index\u001b[0;34m(idx)\u001b[0m\n\u001b[1;32m    901\u001b[0m dtype \u001b[38;5;241m=\u001b[39m \u001b[38;5;28mgetattr\u001b[39m(idx, \u001b[38;5;124m\"\u001b[39m\u001b[38;5;124mdtype\u001b[39m\u001b[38;5;124m\"\u001b[39m, \u001b[38;5;28;01mNone\u001b[39;00m)\n\u001b[1;32m    902\u001b[0m \u001b[38;5;28;01mif\u001b[39;00m (dtype \u001b[38;5;129;01mis\u001b[39;00m \u001b[38;5;28;01mNone\u001b[39;00m \u001b[38;5;129;01mor\u001b[39;00m dtypes\u001b[38;5;241m.\u001b[39mas_dtype(dtype) \u001b[38;5;129;01mnot\u001b[39;00m \u001b[38;5;129;01min\u001b[39;00m _SUPPORTED_SLICE_DTYPES \u001b[38;5;129;01mor\u001b[39;00m\n\u001b[1;32m    903\u001b[0m     idx\u001b[38;5;241m.\u001b[39mshape \u001b[38;5;129;01mand\u001b[39;00m \u001b[38;5;28mlen\u001b[39m(idx\u001b[38;5;241m.\u001b[39mshape) \u001b[38;5;241m==\u001b[39m \u001b[38;5;241m1\u001b[39m):\n\u001b[1;32m    904\u001b[0m   \u001b[38;5;66;03m# TODO(slebedev): IndexError seems more appropriate here, but it\u001b[39;00m\n\u001b[1;32m    905\u001b[0m   \u001b[38;5;66;03m# will break `_slice_helper` contract.\u001b[39;00m\n\u001b[0;32m--> 906\u001b[0m   \u001b[38;5;28;01mraise\u001b[39;00m \u001b[38;5;167;01mTypeError\u001b[39;00m(_SLICE_TYPE_ERROR \u001b[38;5;241m+\u001b[39m \u001b[38;5;124m\"\u001b[39m\u001b[38;5;124m, got \u001b[39m\u001b[38;5;132;01m{!r}\u001b[39;00m\u001b[38;5;124m\"\u001b[39m\u001b[38;5;241m.\u001b[39mformat(idx))\n",
      "\u001b[0;31mTypeError\u001b[0m: Only integers, slices (`:`), ellipsis (`...`), tf.newaxis (`None`) and scalar tf.int32/tf.int64 tensors are valid indices, got <tf.Tensor: shape=(6, 6, 1), dtype=float32, numpy=\narray([[[0.],\n        [0.],\n        [0.],\n        [0.],\n        [0.],\n        [0.]],\n\n       [[0.],\n        [0.],\n        [0.],\n        [0.],\n        [0.],\n        [0.]],\n\n       [[0.],\n        [0.],\n        [0.],\n        [1.],\n        [1.],\n        [0.]],\n\n       [[0.],\n        [0.],\n        [1.],\n        [1.],\n        [1.],\n        [0.]],\n\n       [[0.],\n        [0.],\n        [0.],\n        [1.],\n        [0.],\n        [0.]],\n\n       [[0.],\n        [0.],\n        [1.],\n        [0.],\n        [0.],\n        [0.]]], dtype=float32)>"
     ]
    },
    {
     "data": {
      "image/png": "[encoded data removed]",
      "text/plain": [
       "<Figure size 600x400 with 1 Axes>"
      ]
     },
     "metadata": {},
     "output_type": "display_data"
    }
   ],
   "source": [
    "for i in range(5):\n",
    "    \n",
    "    fig, axs = plt.subplots(1, 1, tight_layout=True, figsize=(6, 4) )\n",
    "    plt.grid(True)\n",
    "    axs.scatter(times_flat[i][mask_qs[i]], times_reg[i][mask_qs[i]])\n",
    "    plt.show()"
   ]
  },
  {
   "cell_type": "code",
   "execution_count": null,
   "metadata": {},
   "outputs": [],
   "source": []
  },
  {
   "cell_type": "code",
   "execution_count": null,
   "metadata": {},
   "outputs": [],
   "source": []
  },
  {
   "cell_type": "code",
   "execution_count": null,
   "metadata": {},
   "outputs": [],
   "source": []
  },
  {
   "cell_type": "code",
   "execution_count": null,
   "metadata": {},
   "outputs": [],
   "source": []
  },
  {
   "cell_type": "code",
   "execution_count": null,
   "metadata": {},
   "outputs": [],
   "source": [
    "with h5.File(h5f,'r') as hf:\n",
    "    chi2 = hf['pr-q3-9yr/gp'][:num,6]\n",
    "\n",
    "print(chi2)"
   ]
  },
  {
   "cell_type": "code",
   "execution_count": null,
   "metadata": {},
   "outputs": [],
   "source": []
  },
  {
   "cell_type": "code",
   "execution_count": null,
   "metadata": {},
   "outputs": [],
   "source": []
  },
  {
   "cell_type": "code",
   "execution_count": null,
   "metadata": {},
   "outputs": [],
   "source": [
    "# def get_exp_time_reco(t0, theta, phi, coords, mask, r_core, qs, a_curv, S_norm, rescale):\n",
    "#     # flat\n",
    "#     t_plane = t0 - tf.math.sin(theta)*( tf.math.cos(phi)*coords[:,:,:,0] + tf.math.sin(phi)*coords[:,:,:,1] ) - tf.math.cos(theta)*coords[:,:,:,2]\n",
    "#     if tf.math.reduce_any( tf.math.is_nan( t_plane )):\n",
    "#             print('t_plane Nan eval')\n",
    "#     ## curvature\n",
    "#     eta = get_eta(theta)\n",
    "#     if tf.math.reduce_any( tf.math.is_nan( eta )):\n",
    "#             print('eta Nan eval')\n",
    "            \n",
    "#     a_ivanov = get_a_ivanov(theta, rescale)\n",
    "#     if tf.math.reduce_any( tf.math.is_nan( a_ivanov )):\n",
    "#             print('a_ivanov Nan eval')\n",
    "#     aprime = a_ivanov/tf.math.sqrt(S_norm)\n",
    "#     if tf.math.reduce_any( tf.math.is_nan( aprime )):\n",
    "#             print('aprime Nan eval')\n",
    "#     s_prof = get_normed_ldf(dist_core, theta)\n",
    "#     if tf.math.reduce_any( tf.math.is_nan( s_prof )):\n",
    "#             print('s_prof Nan eval')\n",
    "#     # time due to curvature\n",
    "#     t_curv = aprime*get_lins_t( dist_core, s_prof )\n",
    "#     if tf.math.reduce_any( tf.math.is_nan( t_curv )):\n",
    "#             print('s_prof Nan eval')\n",
    "    \n",
    "#     return ( t_plane + t_curv * 1e-3*time2dist )*mask # nsec -> mks -> km "
   ]
  },
  {
   "cell_type": "code",
   "execution_count": null,
   "metadata": {},
   "outputs": [],
   "source": [
    "# # no t0\n",
    "# t_0_mc = tf.constant([[[0.]]])\n",
    "# # angles\n",
    "# theta_mc = ev_params[:num,2][:,tf.newaxis, tf.newaxis]/180*3.1415\n",
    "# phi_mc = ev_params[:num,3][:,tf.newaxis, tf.newaxis]/180*3.1415\n",
    "# # aprime\n",
    "# with h5.File(h5f,'r') as hf:\n",
    "#     a_iv = hf['pr-q3-9yr/gp'][:num,6][:,tf.newaxis, tf.newaxis]\n",
    "#     s_iv = hf['pr-q3-9yr/gp'][:num,2][:,tf.newaxis, tf.newaxis]\n",
    "    \n",
    "# aprime_reco = a_iv/tf.sqrt(s_iv)"
   ]
  },
  {
   "cell_type": "code",
   "execution_count": null,
   "metadata": {},
   "outputs": [],
   "source": [
    "# print(aprime_reco[:5], a_iv[:5], s_iv[:5])"
   ]
  },
  {
   "cell_type": "code",
   "execution_count": null,
   "metadata": {},
   "outputs": [],
   "source": []
  }
 ],
 "metadata": {
  "kernelspec": {
   "display_name": "Python 3",
   "language": "python",
   "name": "python3"
  },
  "language_info": {
   "codemirror_mode": {
    "name": "ipython",
    "version": 3
   },
   "file_extension": ".py",
   "mimetype": "text/x-python",
   "name": "python",
   "nbconvert_exporter": "python",
   "pygments_lexer": "ipython3",
   "version": "3.6.10"
  }
 },
 "nbformat": 4,
 "nbformat_minor": 5
}
