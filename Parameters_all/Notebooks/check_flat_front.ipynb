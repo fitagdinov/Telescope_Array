{
 "cells": [
  {
   "cell_type": "code",
   "execution_count": 13,
   "metadata": {},
   "outputs": [],
   "source": [
    "import numpy as np\n",
    "import matplotlib.pyplot as plt\n",
    "import tensorflow as tf\n",
    "import pandas as pd\n",
    "import seaborn as sns\n",
    "import h5py\n",
    "import tqdm\n",
    "import zipfile\n",
    "from tqdm.notebook import tqdm_notebook\n",
    "from progress.bar import IncrementalBar\n",
    "import random\n",
    "import pandas as pd\n",
    "import time\n",
    "import os\n",
    "import math\n",
    "from joblib import Parallel, delayed\n",
    "import importlib\n",
    "import imp\n",
    "%matplotlib inline"
   ]
  },
  {
   "cell_type": "code",
   "execution_count": 2,
   "metadata": {},
   "outputs": [],
   "source": [
    "np.set_printoptions(suppress=True)"
   ]
  },
  {
   "cell_type": "code",
   "execution_count": 3,
   "metadata": {},
   "outputs": [
    {
     "name": "stdout",
     "output_type": "stream",
     "text": [
      "[PhysicalDevice(name='/physical_device:GPU:0', device_type='GPU')]\n"
     ]
    }
   ],
   "source": [
    "gpus = tf.config.list_physical_devices('GPU')\n",
    "print(gpus)\n",
    "for gpu in gpus:\n",
    "    tf.config.experimental.set_memory_growth(gpu, True)"
   ]
  },
  {
   "cell_type": "code",
   "execution_count": 4,
   "metadata": {},
   "outputs": [
    {
     "name": "stdout",
     "output_type": "stream",
     "text": [
      "/home/rfit/Telescope_Array/Parameters_all/src\n"
     ]
    }
   ],
   "source": [
    "cd ../src"
   ]
  },
  {
   "cell_type": "code",
   "execution_count": 5,
   "metadata": {},
   "outputs": [],
   "source": [
    "import reconstruction as reco"
   ]
  },
  {
   "cell_type": "code",
   "execution_count": 6,
   "metadata": {},
   "outputs": [],
   "source": [
    "param_names=['signal','pl_fr','real_wf-pl_fr','mask']"
   ]
  },
  {
   "cell_type": "code",
   "execution_count": 7,
   "metadata": {},
   "outputs": [],
   "source": [
    "def norming(data,param_names=param_names,log=True):\n",
    "    \n",
    "    # ADD LOGARIFM FOR SIGNAL\n",
    "    norm_params={}\n",
    "    for i in range(data.shape[-1]):\n",
    "        if (i==0 and log):\n",
    "            data[:,:,:,i]=tf.math.log(data[:,:,:,i]+1)\n",
    "        max_c=data[:,:,:,i].max()\n",
    "        min_c=data[:,:,:,i].min()\n",
    "        mean_c=data[:,:,:,i].mean()\n",
    "        std_c=data[:,:,:,i].std()\n",
    "        print('max_c,min_c',max_c,min_c)\n",
    "        data[:,:,:,i]=(data[:,:,:,i]-min_c)/(max_c-min_c)\n",
    "\n",
    "        norm_params[param_names[i]]=np.array([max_c,min_c])\n",
    "    return norm_params"
   ]
  },
  {
   "cell_type": "code",
   "execution_count": 8,
   "metadata": {},
   "outputs": [
    {
     "name": "stdout",
     "output_type": "stream",
     "text": [
      "<KeysViewHDF5 ['det_max_params', 'det_max_wf', 'dt_bunlde', 'dt_bunlde_mask', 'dt_mask', 'dt_params', 'ev_ids', 'ev_starts', 'mc_params', 'recos', 'wfs_flat']>\n",
      "(173043, 6, 6, 4)\n",
      "max_c,min_c 8387.6 0.0\n",
      "max_c,min_c 11.0 -11.551\n",
      "max_c,min_c 11.974 -7.153\n",
      "max_c,min_c 1.0 0.0\n"
     ]
    }
   ],
   "source": [
    "path_old='../../data_01_24.h5'\n",
    "path_new = '/home3/ivkhar/TA/data/MC/bundled/pr_q3_14yr_1745_0010_excl-sat_F_excl-geo_F_take-log-wf-False_bundled.h5'\n",
    "path = path_new\n",
    "num=-1\n",
    "with h5py.File(path,'r') as f:\n",
    "    print(f.keys())\n",
    "    data=f['dt_bunlde'][:num,:,:,3:7]\n",
    "    print(data.shape)\n",
    "    detectors_rub = f['dt_bunlde'][:num,:,:,:3] * 1.2 #/ 6 # norming\n",
    "    real_ang = f['mc_params'][:num,4:6]\n",
    "    recos = f['recos'][:num]\n",
    "    dt_params =f['dt_params'][:num]\n",
    "    ev_starts = f['ev_starts'][:num]\n",
    "    if path == path_new:\n",
    "        dt_bunlde_mask = f['dt_bunlde_mask'][:num]\n",
    "norm_params=norming(data,log=False)\n",
    "theta = tf.cast(real_ang[:,0:1]/180*3.1415,tf.float32)\n",
    "phi = tf.cast(real_ang[:,1:2]/180*3.1415,tf.float32)\n",
    "courve  = tf.cast(recos[:,6:7],tf.float32)\n",
    "S800 = tf.cast(recos[:,2:3],tf.float32)\n",
    "chi_rub = tf.cast(recos[:,5:6],tf.float32)"
   ]
  },
  {
   "cell_type": "code",
   "execution_count": 9,
   "metadata": {},
   "outputs": [
    {
     "data": {
      "text/plain": [
       "(TensorShape([150604, 6, 6, 4]),\n",
       " TensorShape([150604]),\n",
       " TensorShape([150604, 6, 6, 3]),\n",
       " TensorShape([150604, 6, 6, 2]))"
      ]
     },
     "execution_count": 9,
     "metadata": {},
     "output_type": "execute_result"
    }
   ],
   "source": [
    "ind = tf.where(real_ang[:,0]>20)[:,0]\n",
    "data = tf.gather(data,ind)\n",
    "detectors_rub = tf.gather(detectors_rub,ind)\n",
    "dt_bunlde_mask  = tf.gather(dt_bunlde_mask,ind)\n",
    "data.shape,ind.shape,detectors_rub.shape,dt_bunlde_mask.shape"
   ]
  },
  {
   "cell_type": "code",
   "execution_count": 10,
   "metadata": {},
   "outputs": [
    {
     "name": "stdout",
     "output_type": "stream",
     "text": [
      "(135543, 6, 6, 4) (135543, 6, 6, 3) (135543, 6, 6, 2)\n"
     ]
    }
   ],
   "source": [
    "n=int(0.9*len(data))\n",
    "train = data[:n]\n",
    "test =data[n:]\n",
    "detectors_rub = detectors_rub[:n]\n",
    "dt_bunlde_mask =dt_bunlde_mask[:n]\n",
    "print(train.shape,detectors_rub.shape,dt_bunlde_mask.shape)"
   ]
  },
  {
   "cell_type": "code",
   "execution_count": 11,
   "metadata": {},
   "outputs": [],
   "source": [
    "def renorming(data,norm_params):\n",
    "    val=np.array(list(norm_params.values()))\n",
    "    max_c=val[:,0]\n",
    "    min_c=val[:,1]\n",
    "    data = data*(max_c-min_c) + min_c\n",
    "#     if (i==0 and log):\n",
    "#         data = data[:,:,:,i].assign(tf.math.exp(data[:,:,:,i])-1)\n",
    "#     #         elif (i==1 or i==2):\n",
    "#     #             data[:,:,:,i]=data[:,:,:,i]#*1e6\n",
    "    return data"
   ]
  },
  {
   "cell_type": "code",
   "execution_count": 12,
   "metadata": {},
   "outputs": [],
   "source": [
    "def norming_params(param):\n",
    "    t = tf.reduce_max(param)\n",
    "    b = tf.reduce_min(param)\n",
    "    param = (param-b)/(t-b)\n",
    "    return param,t,b\n",
    "def renorm_params(param,p_t,p_b):\n",
    "    return param*(p_t-p_b)+p_b"
   ]
  },
  {
   "cell_type": "code",
   "execution_count": 14,
   "metadata": {},
   "outputs": [
    {
     "data": {
      "text/plain": [
       "<module 'reconstruction' from '/home/rfit/Telescope_Array/Parameters_all/src/reconstruction.py'>"
      ]
     },
     "execution_count": 14,
     "metadata": {},
     "output_type": "execute_result"
    }
   ],
   "source": [
    "boundaries = [300]\n",
    "values = [ 0.001,  0.001/5]\n",
    "learning_rate_fn = tf.keras.optimizers.schedules.PiecewiseConstantDecay(\n",
    "    boundaries, values)\n",
    "imp.reload(reco)"
   ]
  },
  {
   "cell_type": "code",
   "execution_count": 15,
   "metadata": {},
   "outputs": [
    {
     "name": "stdout",
     "output_type": "stream",
     "text": [
      "WARNING:tensorflow:No training configuration found in save file, so the model was *not* compiled. Compile it manually.\n",
      "WARNING:tensorflow:No training configuration found in save file, so the model was *not* compiled. Compile it manually.\n"
     ]
    }
   ],
   "source": [
    "generator=tf.keras.models.load_model('../Models/Conditional+Phys_loss/save_model/generator/ep'+str(120))\n",
    "discriminator=tf.keras.models.load_model('../Models/Conditional+Phys_loss/save_model/discriminator/ep'+str(120))"
   ]
  },
  {
   "cell_type": "code",
   "execution_count": 17,
   "metadata": {},
   "outputs": [
    {
     "name": "stdout",
     "output_type": "stream",
     "text": [
      "Model: \"Generator_model_\"\n",
      "_________________________________________________________________\n",
      "Layer (type)                 Output Shape              Param #   \n",
      "=================================================================\n",
      "input_5 (InputLayer)         [(None, 50)]              0         \n",
      "_________________________________________________________________\n",
      "dense_4 (Dense)              (None, 512)               25600     \n",
      "_________________________________________________________________\n",
      "batch_normalization_24 (Batc (None, 512)               2048      \n",
      "_________________________________________________________________\n",
      "tf.nn.gelu_24 (TFOpLambda)   (None, 512)               0         \n",
      "_________________________________________________________________\n",
      "reshape_4 (Reshape)          (None, 4, 4, 32)          0         \n",
      "_________________________________________________________________\n",
      "C_0 (Conv2D)                 (None, 4, 4, 32)          4096      \n",
      "_________________________________________________________________\n",
      "batch_normalization_25 (Batc (None, 4, 4, 32)          128       \n",
      "_________________________________________________________________\n",
      "tf.nn.gelu_25 (TFOpLambda)   (None, 4, 4, 32)          0         \n",
      "_________________________________________________________________\n",
      "T_1 (Conv2DTranspose)        (None, 8, 8, 32)          4096      \n",
      "_________________________________________________________________\n",
      "batch_normalization_26 (Batc (None, 8, 8, 32)          128       \n",
      "_________________________________________________________________\n",
      "tf.nn.gelu_26 (TFOpLambda)   (None, 8, 8, 32)          0         \n",
      "_________________________________________________________________\n",
      "T_2 (Conv2DTranspose)        (None, 16, 16, 64)        8192      \n",
      "_________________________________________________________________\n",
      "batch_normalization_27 (Batc (None, 16, 16, 64)        256       \n",
      "_________________________________________________________________\n",
      "tf.nn.gelu_27 (TFOpLambda)   (None, 16, 16, 64)        0         \n",
      "_________________________________________________________________\n",
      "T_3 (Conv2DTranspose)        (None, 32, 32, 32)        8192      \n",
      "_________________________________________________________________\n",
      "average_pooling2d_9 (Average (None, 16, 16, 32)        0         \n",
      "_________________________________________________________________\n",
      "batch_normalization_28 (Batc (None, 16, 16, 32)        128       \n",
      "_________________________________________________________________\n",
      "tf.nn.gelu_28 (TFOpLambda)   (None, 16, 16, 32)        0         \n",
      "_________________________________________________________________\n",
      "c_2 (Conv2D)                 (None, 16, 16, 16)        2048      \n",
      "_________________________________________________________________\n",
      "average_pooling2d_10 (Averag (None, 8, 8, 16)          0         \n",
      "_________________________________________________________________\n",
      "batch_normalization_29 (Batc (None, 8, 8, 16)          64        \n",
      "_________________________________________________________________\n",
      "tf.nn.gelu_29 (TFOpLambda)   (None, 8, 8, 16)          0         \n",
      "_________________________________________________________________\n",
      "C_3 (Conv2D)                 (None, 8, 8, 4)           256       \n",
      "_________________________________________________________________\n",
      "tf.math.sigmoid_4 (TFOpLambd (None, 8, 8, 4)           0         \n",
      "_________________________________________________________________\n",
      "cropping2d_4 (Cropping2D)    (None, 6, 6, 4)           0         \n",
      "=================================================================\n",
      "Total params: 55,232\n",
      "Trainable params: 53,856\n",
      "Non-trainable params: 1,376\n",
      "_________________________________________________________________\n"
     ]
    }
   ],
   "source": [
    "generator.summary()"
   ]
  },
  {
   "cell_type": "raw",
   "metadata": {},
   "source": []
  },
  {
   "cell_type": "code",
   "execution_count": 16,
   "metadata": {},
   "outputs": [],
   "source": [
    "def reco_loss(data,detectors_rub,dt_bunlde_mask,learning_rate_fn,norm_params):\n",
    "    data_ = renorming(data,norm_params)\n",
    "    chi_list, params_list = reco.optimization_2(data_,iterats=500,num=None,\n",
    "                                          detectors_rub=detectors_rub,\n",
    "                                          add_mask = None,\n",
    "                                          use_L = False,\n",
    "                                          use_core =False,\n",
    "#                                           S800_rub=S800,\n",
    "                                          optim_name=\"SGD\",l_r =learning_rate_fn,\n",
    "#                                           use_L3=False,\n",
    "                                            find_core=True, flat_chanal  = False,\n",
    "                                         )\n",
    "    return chi_list[:,0]"
   ]
  },
  {
   "cell_type": "code",
   "execution_count": 18,
   "metadata": {},
   "outputs": [
    {
     "data": {
      "text/plain": [
       "TensorShape([2000, 6, 6, 4])"
      ]
     },
     "execution_count": 18,
     "metadata": {},
     "output_type": "execute_result"
    }
   ],
   "source": [
    "noise = tf.random.normal((2000,50))\n",
    "fake_data = generator(noise)\n",
    "fake_data.shape"
   ]
  },
  {
   "cell_type": "code",
   "execution_count": 36,
   "metadata": {},
   "outputs": [
    {
     "data": {
      "text/plain": [
       "<module 'reconstruction' from '/home/rfit/Telescope_Array/Parameters_all/src/reconstruction.py'>"
      ]
     },
     "execution_count": 36,
     "metadata": {},
     "output_type": "execute_result"
    }
   ],
   "source": [
    "imp.reload(reco)"
   ]
  },
  {
   "cell_type": "code",
   "execution_count": 37,
   "metadata": {},
   "outputs": [
    {
     "data": {
      "application/vnd.jupyter.widget-view+json": {
       "model_id": "e80929e2368f46409ad0e432be4c720f",
       "version_major": 2,
       "version_minor": 0
      },
      "text/plain": [
       "HBox(children=(FloatProgress(value=0.0, description='find Chi', max=500.0, style=ProgressStyle(description_wid…"
      ]
     },
     "metadata": {},
     "output_type": "display_data"
    },
    {
     "name": "stdout",
     "output_type": "stream",
     "text": [
      "\n"
     ]
    },
    {
     "data": {
      "text/plain": [
       "TensorShape([2000, 6, 6, 1])"
      ]
     },
     "execution_count": 37,
     "metadata": {},
     "output_type": "execute_result"
    }
   ],
   "source": [
    "data_ = renorming(fake_data,norm_params)\n",
    "reco_flat = reco.optimization_flat(data_,iterats=500,num=None,\n",
    "                                      detectors_rub=detectors_rub[:2000],\n",
    "                                      add_mask = dt_bunlde_mask[:2000],\n",
    "                                      use_L = False,\n",
    "                                      use_core =False,\n",
    "#                                           S800_rub=S800,\n",
    "                                      optim_name=\"SGD\",l_r =learning_rate_fn,\n",
    "#                                           use_L3=False,\n",
    "                                        find_core=True,\n",
    "                                     )\n",
    "reco_flat.shape"
   ]
  },
  {
   "cell_type": "code",
   "execution_count": 39,
   "metadata": {},
   "outputs": [
    {
     "name": "stdout",
     "output_type": "stream",
     "text": [
      "tf.Tensor(\n",
      "[[[0.         0.         0.         1.7541013  0.         0.        ]\n",
      "  [0.         0.         1.1096351  0.46492743 2.3702297  0.        ]\n",
      "  [0.         0.         0.6894782  0.42121682 0.07137965 0.        ]\n",
      "  [0.         0.         0.30692458 0.11491656 0.         0.        ]\n",
      "  [0.         0.         0.         0.         0.         0.        ]\n",
      "  [0.         0.         0.         0.         0.         0.        ]]\n",
      "\n",
      " [[0.         0.         0.         0.         0.         0.        ]\n",
      "  [0.         0.         0.         0.         0.         0.        ]\n",
      "  [0.         0.                nan        nan        nan 0.        ]\n",
      "  [0.                nan        nan        nan        nan 0.        ]\n",
      "  [0.         0.         0.         0.         0.         0.        ]\n",
      "  [0.         0.         0.         0.         0.         0.        ]]\n",
      "\n",
      " [[0.         0.         0.         0.         0.         0.        ]\n",
      "  [0.         0.         1.0071539  0.59619325 2.5784693  0.        ]\n",
      "  [0.         0.65486836 0.17482293 0.02568322 0.03578603 0.        ]\n",
      "  [0.         0.30916703 0.         0.         0.         0.        ]\n",
      "  [0.         0.         0.5976495  0.00673729 0.20729816 0.        ]\n",
      "  [0.         0.         0.         0.         0.         0.        ]]\n",
      "\n",
      " ...\n",
      "\n",
      " [[0.         0.         0.         0.         0.         0.        ]\n",
      "  [0.         0.         0.         0.         0.         0.        ]\n",
      "  [0.         0.5081792  0.         1.2424003  0.51420414 0.        ]\n",
      "  [0.         0.         0.2408129  1.2882925  0.09358978 0.        ]\n",
      "  [0.         0.         0.         0.82145447 0.         0.        ]\n",
      "  [0.         0.         0.         0.         0.         0.        ]]\n",
      "\n",
      " [[0.         0.         0.         0.         0.         0.        ]\n",
      "  [0.         0.         0.         1.512577   0.         0.        ]\n",
      "  [0.         0.         0.78457296 1.3141074  0.         0.        ]\n",
      "  [0.         0.8022096  0.81007046 1.4851986  0.         0.        ]\n",
      "  [0.         0.6612468  1.119381   0.         0.         0.        ]\n",
      "  [0.         0.         0.         0.         0.         0.        ]]\n",
      "\n",
      " [[0.         0.         0.         0.         0.         0.        ]\n",
      "  [0.         0.         0.         0.45260024 0.         0.        ]\n",
      "  [0.         0.95342326 0.4261551  0.18756294 1.9514115  0.        ]\n",
      "  [0.         0.         0.546528   0.27846062 1.636637   0.        ]\n",
      "  [0.         0.         0.         1.9588888  0.         0.        ]\n",
      "  [0.         0.         0.         0.         0.         0.        ]]], shape=(2000, 6, 6), dtype=float32)\n"
     ]
    }
   ],
   "source": [
    "err = tf.math.abs(data_[:,:,:,1:2] - reco_flat)\n",
    "err_m = tf.where(fake_data[:,:,:,3:4]>0.5,err,0)\n",
    "print(err_m[...,-1])"
   ]
  },
  {
   "cell_type": "code",
   "execution_count": 40,
   "metadata": {},
   "outputs": [
    {
     "data": {
      "text/plain": [
       "<tf.Tensor: shape=(6, 6), dtype=float32, numpy=\n",
       "array([[-0.06047058, -0.1671648 ,  0.17111492, -0.17602444, -0.01586914,\n",
       "         0.16425514],\n",
       "       [-0.1880598 ,  0.13150692,  0.13606358, -0.18657684, -0.01683712,\n",
       "        -0.0160265 ],\n",
       "       [-0.13200855,  0.37557888, -1.7834816 ,  1.2913952 ,  3.1961813 ,\n",
       "        -0.02818871],\n",
       "       [ 0.15339565, -4.1131263 , -2.429635  ,  0.20509434,  2.9775133 ,\n",
       "         0.03274441],\n",
       "       [-0.35533333, -0.15544224, -0.31807518, -0.07409096,  0.04534721,\n",
       "         0.1338377 ],\n",
       "       [-0.10626221,  0.09365177,  0.08297253,  0.07596207, -0.03923035,\n",
       "        -0.14170265]], dtype=float32)>"
      ]
     },
     "execution_count": 40,
     "metadata": {},
     "output_type": "execute_result"
    }
   ],
   "source": [
    "data_[1,:,:,1]*"
   ]
  }
 ],
 "metadata": {
  "kernelspec": {
   "display_name": "Python 3",
   "language": "python",
   "name": "python3"
  },
  "language_info": {
   "codemirror_mode": {
    "name": "ipython",
    "version": 3
   },
   "file_extension": ".py",
   "mimetype": "text/x-python",
   "name": "python",
   "nbconvert_exporter": "python",
   "pygments_lexer": "ipython3",
   "version": "3.6.10"
  }
 },
 "nbformat": 4,
 "nbformat_minor": 4
}
