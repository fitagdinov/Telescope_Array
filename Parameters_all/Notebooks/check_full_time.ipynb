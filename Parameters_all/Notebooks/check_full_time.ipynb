{
 "cells": [
  {
   "cell_type": "code",
   "execution_count": 1,
   "metadata": {},
   "outputs": [],
   "source": [
    "import numpy as np\n",
    "import h5py as h5\n",
    "\n",
    "import matplotlib.pyplot as plt"
   ]
  },
  {
   "cell_type": "code",
   "execution_count": 2,
   "metadata": {},
   "outputs": [],
   "source": [
    "h5f = '/home3/ivkhar/TA/data/MC/bundled/pr_q3_14yr_1745_0010_excl_sat_T_excl_geo_T_bundled.h5'"
   ]
  },
  {
   "cell_type": "code",
   "execution_count": 3,
   "metadata": {},
   "outputs": [],
   "source": [
    "num = 64\n",
    "\n",
    "with h5.File(h5f,'r') as hf:\n",
    "    times_flat = hf['dt_bunlde'][:num,:,:,4:5].astype(np.float64) # in mks\n",
    "    times_diff = hf['dt_bunlde'][:num,:,:,5:6].astype(np.float64) # in mks\n",
    "    mask_in = hf['dt_bunlde'][:num,:,:,6:7].astype(np.float64)\n",
    "    real_coords = hf['dt_bunlde'][:num,:,:,:3].astype(np.float64)*1.2 # in km\n",
    "    qs_in = hf['dt_bunlde'][:num,:,:,3:4].astype(np.float64)\n",
    "    ev_params = hf['recos'][:num,[0,1,2,6]].astype(np.float64) # theta, phi, S_800, a_linsley\n",
    "    \n",
    "mask_qs = np.where( np.logical_and(mask_in>0, qs_in>0), 1., 0. )"
   ]
  },
  {
   "cell_type": "code",
   "execution_count": 4,
   "metadata": {},
   "outputs": [],
   "source": [
    "# set c=1, time in mks, distance in km\n",
    "time2dist = np.array([0.299792458], dtype=np.float64)\n",
    "\n",
    "times_flat *= time2dist\n",
    "times_diff *= time2dist\n",
    "\n",
    "times_reg = times_flat + times_diff"
   ]
  },
  {
   "cell_type": "code",
   "execution_count": 5,
   "metadata": {},
   "outputs": [],
   "source": [
    "theta_rub = ev_params[:num,0]/180*3.1415\n",
    "phi_rub = ev_params[:num,1]/180*3.1415"
   ]
  },
  {
   "cell_type": "code",
   "execution_count": 6,
   "metadata": {},
   "outputs": [],
   "source": [
    "# \"-\" in nz seems to be correct, by comparison\n",
    "nx = - np.sin(theta_rub)[:,np.newaxis,np.newaxis] * np.cos(phi_rub)[:,np.newaxis,np.newaxis]\n",
    "ny = - np.sin(theta_rub)[:,np.newaxis,np.newaxis] * np.sin(phi_rub)[:,np.newaxis,np.newaxis]\n",
    "nz = - np.cos(theta_rub)[:,np.newaxis,np.newaxis]\n",
    "a = np.concatenate((nx,ny,nz), axis=-1)\n",
    "a = np.expand_dims( a, axis=1 )\n",
    "\n",
    "t_rec_flat = np.sum( a*real_coords[:,:,:,:3], axis=-1 )\n",
    "t_rec_flat = t_rec_flat*mask_in[:,:,:,0]"
   ]
  },
  {
   "cell_type": "code",
   "execution_count": 7,
   "metadata": {},
   "outputs": [
    {
     "name": "stdout",
     "output_type": "stream",
     "text": [
      "0.000269645394991358\n",
      "[[[0.00000000e+00 0.00000000e+00 0.00000000e+00 0.00000000e+00\n",
      "   0.00000000e+00 0.00000000e+00]\n",
      "  [0.00000000e+00 0.00000000e+00 0.00000000e+00 2.06417376e-04\n",
      "   1.66653433e-04 0.00000000e+00]\n",
      "  [0.00000000e+00 0.00000000e+00 1.09234888e-04 3.30225084e-05\n",
      "   1.04924472e-05 0.00000000e+00]\n",
      "  [0.00000000e+00 0.00000000e+00 5.78108483e-05 1.19184368e-04\n",
      "   0.00000000e+00 0.00000000e+00]\n",
      "  [0.00000000e+00 0.00000000e+00 2.07729249e-04 0.00000000e+00\n",
      "   0.00000000e+00 0.00000000e+00]\n",
      "  [0.00000000e+00 0.00000000e+00 0.00000000e+00 0.00000000e+00\n",
      "   0.00000000e+00 0.00000000e+00]]\n",
      "\n",
      " [[0.00000000e+00 0.00000000e+00 0.00000000e+00 0.00000000e+00\n",
      "   0.00000000e+00 0.00000000e+00]\n",
      "  [0.00000000e+00 0.00000000e+00 1.08587873e-04 1.12594804e-04\n",
      "   0.00000000e+00 0.00000000e+00]\n",
      "  [0.00000000e+00 0.00000000e+00 9.52953402e-06 6.65264029e-05\n",
      "   0.00000000e+00 0.00000000e+00]\n",
      "  [0.00000000e+00 0.00000000e+00 1.27388240e-04 1.20785371e-04\n",
      "   0.00000000e+00 0.00000000e+00]\n",
      "  [0.00000000e+00 0.00000000e+00 0.00000000e+00 9.44268572e-05\n",
      "   0.00000000e+00 0.00000000e+00]\n",
      "  [0.00000000e+00 0.00000000e+00 0.00000000e+00 0.00000000e+00\n",
      "   0.00000000e+00 0.00000000e+00]]\n",
      "\n",
      " [[0.00000000e+00 0.00000000e+00 0.00000000e+00 0.00000000e+00\n",
      "   0.00000000e+00 0.00000000e+00]\n",
      "  [0.00000000e+00 0.00000000e+00 0.00000000e+00 0.00000000e+00\n",
      "   0.00000000e+00 0.00000000e+00]\n",
      "  [0.00000000e+00 1.14033011e-04 4.05269040e-05 7.35418214e-05\n",
      "   0.00000000e+00 0.00000000e+00]\n",
      "  [0.00000000e+00 0.00000000e+00 1.30085185e-04 5.90167467e-05\n",
      "   0.00000000e+00 0.00000000e+00]\n",
      "  [0.00000000e+00 1.02352063e-04 1.07418945e-04 0.00000000e+00\n",
      "   0.00000000e+00 0.00000000e+00]\n",
      "  [0.00000000e+00 0.00000000e+00 0.00000000e+00 0.00000000e+00\n",
      "   0.00000000e+00 0.00000000e+00]]]\n"
     ]
    }
   ],
   "source": [
    "diff = np.abs(t_rec_flat - times_flat[:,:,:,0])\n",
    "print(np.amax(diff))\n",
    "print(diff[:3])"
   ]
  },
  {
   "cell_type": "code",
   "execution_count": 8,
   "metadata": {},
   "outputs": [],
   "source": [
    "a_rub = ev_params[:,3,np.newaxis,np.newaxis]\n",
    "s_800_rub = ev_params[:,2,np.newaxis,np.newaxis]\n",
    "\n",
    "theta_rub = ev_params[:num,0,np.newaxis,np.newaxis]/180*3.1415\n",
    "phi_rub = ev_params[:num,1,np.newaxis,np.newaxis]/180*3.1415"
   ]
  },
  {
   "cell_type": "code",
   "execution_count": 9,
   "metadata": {},
   "outputs": [],
   "source": [
    "def get_eta(theta):\n",
    "    \n",
    "    x = theta*180.0/3.1415\n",
    "    \n",
    "    e1 = 3.97 - 1.79*(np.abs(1.0/(np.abs(np.cos(theta))+1e-6)) - 1.0)\n",
    "    e2 = ((((((-1.71299934e-10*x + 4.23849411e-08)*x -3.76192000e-06)*x\n",
    "               + 1.35747298e-04)*x -2.18241567e-03)*x + 1.18960682e-02)*x\n",
    "             + 3.70692527e+00)\n",
    "    res = np.where(x<62.7,e1,e2)  \n",
    "    \n",
    "    return res"
   ]
  },
  {
   "cell_type": "code",
   "execution_count": 10,
   "metadata": {},
   "outputs": [],
   "source": [
    "Rm = np.array([0.09])\n",
    "R1 = np.array([1.])\n",
    "\n",
    "def get_profile(r, eta):\n",
    "\n",
    "    res = np.power(((r+1e-6)/Rm),-1.2) * np.power((1+r/Rm), -(eta-1.2)) * np.power(1.+r*r/R1/R1,-0.6)\n",
    "    return res"
   ]
  },
  {
   "cell_type": "code",
   "execution_count": 11,
   "metadata": {},
   "outputs": [],
   "source": [
    "# depending on def of a (linsley, prime), may or may not include S_800\n",
    "# check fo 0.67\n",
    "def get_lins_t(r):\n",
    "    return 0.67*np.power((1 + r/R_L), 1.5)"
   ]
  },
  {
   "cell_type": "code",
   "execution_count": 12,
   "metadata": {},
   "outputs": [],
   "source": [
    "# check dimensions in error calc\n",
    "t0_err = 0.03*time2dist\n",
    "\n",
    "def get_linsley_s(r, S):\n",
    "    return 1.3*0.29*np.power((1 + r/R_L), 1.5)*np.power(S+1e-8, -0.3)"
   ]
  },
  {
   "cell_type": "code",
   "execution_count": 29,
   "metadata": {},
   "outputs": [],
   "source": [
    "R_800 = np.array([0.8])\n",
    "R_L = 0.03\n",
    "\n",
    "# \"-\" in projection\n",
    "def get_exp_time(theta, phi, coords, t_flat, aprime, mask, S_800):\n",
    "    # get distance to shower core\n",
    "    proj_to_n = np.sin(theta)*( np.cos(phi)*coords[:,:,:,0] + np.sin(phi)*coords[:,:,:,1] ) + np.cos(theta)*coords[:,:,:,2]\n",
    "    dist_core = np.sum( np.power(coords,2), axis=(3) ) - np.power(proj_to_n,2)\n",
    "    dist_core = np.where( dist_core>0, np.sqrt( dist_core ), 0. )\n",
    "    # get eta\n",
    "    eta = get_eta(theta)\n",
    "    # eval time\n",
    "    t_rec_curv = aprime*get_lins_t(dist_core)*np.sqrt( get_profile(R_800, eta)/get_profile(dist_core, eta) )*1e-3#*time2dist\n",
    "    # get error\n",
    "    s_r = get_profile(dist_core, eta)\n",
    "    s_8 = get_profile(0.8, eta)\n",
    "    lin_s = get_linsley_s(dist_core, S_800*s_r/s_8 )\n",
    "    t_s = aprime*np.sqrt(S_800)*lin_s*1e-3*time2dist\n",
    "    return t_rec_curv*mask, np.sqrt((t0_err*t0_err + t_s*t_s))*mask"
   ]
  },
  {
   "cell_type": "code",
   "execution_count": 30,
   "metadata": {},
   "outputs": [],
   "source": [
    "t_rec_curv, t_err = get_exp_time(theta_rub, phi_rub, real_coords, t_rec_flat, a_rub, mask_qs[...,0], s_800_rub)"
   ]
  },
  {
   "cell_type": "code",
   "execution_count": 31,
   "metadata": {},
   "outputs": [
    {
     "data": {
      "text/plain": [
       "array([[[0.        , 0.        , 0.        , 0.        , 0.        ,\n",
       "         0.        ],\n",
       "        [0.        , 0.        , 0.        , 0.66531877, 1.42105741,\n",
       "         0.        ],\n",
       "        [0.        , 0.        , 0.11083598, 0.01273881, 0.39016623,\n",
       "         0.        ],\n",
       "        [0.        , 0.        , 0.14790388, 0.09912458, 0.        ,\n",
       "         0.        ],\n",
       "        [0.        , 0.        , 1.6589407 , 0.        , 0.        ,\n",
       "         0.        ],\n",
       "        [0.        , 0.        , 0.        , 0.        , 0.        ,\n",
       "         0.        ]],\n",
       "\n",
       "       [[0.        , 0.        , 0.        , 0.        , 0.        ,\n",
       "         0.        ],\n",
       "        [0.        , 0.        , 0.52461433, 0.62159757, 0.        ,\n",
       "         0.        ],\n",
       "        [0.        , 0.        , 0.03793497, 0.05694821, 0.        ,\n",
       "         0.        ],\n",
       "        [0.        , 0.        , 0.0824514 , 0.10833645, 0.        ,\n",
       "         0.        ],\n",
       "        [0.        , 0.        , 0.        , 0.86654023, 0.        ,\n",
       "         0.        ],\n",
       "        [0.        , 0.        , 0.        , 0.        , 0.        ,\n",
       "         0.        ]],\n",
       "\n",
       "       [[0.        , 0.        , 0.        , 0.        , 0.        ,\n",
       "         0.        ],\n",
       "        [0.        , 0.        , 0.        , 0.        , 0.        ,\n",
       "         0.        ],\n",
       "        [0.        , 1.16482975, 0.04604839, 0.11703838, 0.        ,\n",
       "         0.        ],\n",
       "        [0.        , 0.        , 0.0617575 , 0.14057548, 0.        ,\n",
       "         0.        ],\n",
       "        [0.        , 4.53381713, 1.61971852, 0.        , 0.        ,\n",
       "         0.        ],\n",
       "        [0.        , 0.        , 0.        , 0.        , 0.        ,\n",
       "         0.        ]],\n",
       "\n",
       "       [[0.        , 0.        , 0.        , 0.        , 0.        ,\n",
       "         0.        ],\n",
       "        [0.        , 0.        , 1.87532351, 0.        , 8.18124725,\n",
       "         0.        ],\n",
       "        [0.        , 1.37956294, 0.0664966 , 0.28682366, 2.87139452,\n",
       "         0.        ],\n",
       "        [0.        , 1.27767616, 0.04731882, 0.1686697 , 0.        ,\n",
       "         0.        ],\n",
       "        [0.        , 0.        , 0.        , 0.        , 0.        ,\n",
       "         0.        ],\n",
       "        [0.        , 0.        , 0.        , 0.        , 0.        ,\n",
       "         0.        ]],\n",
       "\n",
       "       [[0.        , 0.        , 0.        , 6.40569274, 0.        ,\n",
       "         0.        ],\n",
       "        [0.        , 0.        , 1.18375665, 0.        , 0.        ,\n",
       "         0.        ],\n",
       "        [0.        , 1.19808043, 0.08034512, 0.03539511, 0.        ,\n",
       "         0.        ],\n",
       "        [0.        , 0.        , 0.05929402, 0.02000364, 0.59524558,\n",
       "         0.        ],\n",
       "        [0.        , 0.        , 0.        , 0.        , 0.        ,\n",
       "         0.        ],\n",
       "        [0.        , 0.        , 0.        , 0.        , 0.        ,\n",
       "         0.        ]]])"
      ]
     },
     "execution_count": 31,
     "metadata": {},
     "output_type": "execute_result"
    }
   ],
   "source": [
    "t_rec_curv[:5]"
   ]
  },
  {
   "cell_type": "code",
   "execution_count": 33,
   "metadata": {},
   "outputs": [
    {
     "data": {
      "text/plain": [
       "array([[[0.        , 0.        , 0.        , 0.        , 0.        ,\n",
       "         0.        ],\n",
       "        [0.        , 0.        , 0.        , 1.28600001, 2.09800005,\n",
       "         0.        ],\n",
       "        [0.        , 0.        , 0.48699999, 0.28799999, 0.73400003,\n",
       "         0.        ],\n",
       "        [0.        , 0.        , 0.39700001, 0.49000001, 0.        ,\n",
       "         0.        ],\n",
       "        [0.        , 0.        , 0.583     , 0.        , 0.        ,\n",
       "         0.        ],\n",
       "        [0.        , 0.        , 0.        , 0.        , 0.        ,\n",
       "         0.        ]],\n",
       "\n",
       "       [[0.        , 0.        , 0.        , 0.        , 0.        ,\n",
       "         0.        ],\n",
       "        [0.        , 0.        , 1.02199996, 0.829     , 0.        ,\n",
       "         0.        ],\n",
       "        [0.        , 0.        , 0.35800001, 0.36700001, 0.        ,\n",
       "         0.        ],\n",
       "        [0.        , 0.        , 0.38699999, 0.44800001, 0.        ,\n",
       "         0.        ],\n",
       "        [0.        , 0.        , 0.        , 1.07099998, 0.        ,\n",
       "         0.        ],\n",
       "        [0.        , 0.        , 0.        , 0.        , 0.        ,\n",
       "         0.        ]],\n",
       "\n",
       "       [[0.        , 0.        , 0.        , 0.        , 0.        ,\n",
       "         0.        ],\n",
       "        [0.        , 0.        , 0.        , 0.        , 0.        ,\n",
       "         0.        ],\n",
       "        [0.        , 1.83000004, 0.39300001, 0.31400001, 0.        ,\n",
       "         0.        ],\n",
       "        [0.        , 0.        , 0.34099999, 0.82800001, 0.        ,\n",
       "         0.        ],\n",
       "        [0.        , 2.48099995, 2.92000008, 0.        , 0.        ,\n",
       "         0.        ],\n",
       "        [0.        , 0.        , 0.        , 0.        , 0.        ,\n",
       "         0.        ]],\n",
       "\n",
       "       [[0.        , 0.        , 0.        , 0.        , 0.        ,\n",
       "         0.        ],\n",
       "        [0.        , 0.        , 1.41600001, 0.        , 4.20699978,\n",
       "         0.        ],\n",
       "        [0.        , 2.82500005, 0.33500001, 0.801     , 5.375     ,\n",
       "         0.        ],\n",
       "        [0.        , 1.25100005, 0.36300001, 0.39199999, 0.        ,\n",
       "         0.        ],\n",
       "        [0.        , 0.        , 0.        , 0.        , 0.        ,\n",
       "         0.        ],\n",
       "        [0.        , 0.        , 0.        , 0.        , 0.        ,\n",
       "         0.        ]],\n",
       "\n",
       "       [[0.        , 0.        , 0.        , 3.10700011, 0.        ,\n",
       "         0.        ],\n",
       "        [0.        , 0.        , 2.11199999, 0.        , 0.        ,\n",
       "         0.        ],\n",
       "        [0.        , 1.66199994, 0.41      , 0.324     , 0.        ,\n",
       "         0.        ],\n",
       "        [0.        , 0.        , 0.39500001, 0.308     , 1.48099995,\n",
       "         0.        ],\n",
       "        [0.        , 0.        , 0.        , 0.        , 0.        ,\n",
       "         0.        ],\n",
       "        [0.        , 0.        , 0.        , 0.        , 0.        ,\n",
       "         0.        ]]])"
      ]
     },
     "execution_count": 33,
     "metadata": {},
     "output_type": "execute_result"
    }
   ],
   "source": [
    "times_diff[:5,:,:,0]/time2dist"
   ]
  },
  {
   "cell_type": "code",
   "execution_count": 15,
   "metadata": {},
   "outputs": [
    {
     "name": "stdout",
     "output_type": "stream",
     "text": [
      "[[[ 0.          0.          0.          0.          0.\n",
      "    0.        ]\n",
      "  [ 0.          0.          0.         -0.18607556 -0.2029423\n",
      "    0.        ]\n",
      "  [ 0.          0.         -0.11277113 -0.08252122 -0.10307878\n",
      "    0.        ]\n",
      "  [ 0.          0.         -0.07467714 -0.1171815   0.\n",
      "    0.        ]\n",
      "  [ 0.          0.          0.3225589   0.          0.\n",
      "    0.        ]\n",
      "  [ 0.          0.          0.          0.          0.\n",
      "    0.        ]]\n",
      "\n",
      " [[ 0.          0.          0.          0.          0.\n",
      "    0.        ]\n",
      "  [ 0.          0.         -0.14911246 -0.06217768  0.\n",
      "    0.        ]\n",
      "  [ 0.          0.         -0.09595308 -0.09295119  0.\n",
      "    0.        ]\n",
      "  [ 0.          0.         -0.09130137 -0.10182857  0.\n",
      "    0.        ]\n",
      "  [ 0.          0.          0.         -0.06129549  0.\n",
      "    0.        ]\n",
      "  [ 0.          0.          0.          0.          0.\n",
      "    0.        ]]\n",
      "\n",
      " [[ 0.          0.          0.          0.          0.\n",
      "    0.        ]\n",
      "  [ 0.          0.          0.          0.          0.\n",
      "    0.        ]\n",
      "  [ 0.         -0.19941304 -0.10401348 -0.05904761  0.\n",
      "    0.        ]\n",
      "  [ 0.          0.         -0.08371479 -0.20608469  0.\n",
      "    0.        ]\n",
      "  [ 0.          0.61541911 -0.3898146   0.          0.\n",
      "    0.        ]\n",
      "  [ 0.          0.          0.          0.          0.\n",
      "    0.        ]]\n",
      "\n",
      " [[ 0.          0.          0.          0.          0.\n",
      "    0.        ]\n",
      "  [ 0.          0.          0.13770172  0.          1.19144942\n",
      "    0.        ]\n",
      "  [ 0.         -0.43333114 -0.0804953  -0.15414619 -0.75056204\n",
      "    0.        ]\n",
      "  [ 0.          0.0079973  -0.09463884 -0.06695274  0.\n",
      "    0.        ]\n",
      "  [ 0.          0.          0.          0.          0.\n",
      "    0.        ]\n",
      "  [ 0.          0.          0.          0.          0.\n",
      "    0.        ]]\n",
      "\n",
      " [[ 0.          0.          0.          0.98892317  0.\n",
      "    0.        ]\n",
      "  [ 0.          0.         -0.27828035  0.          0.\n",
      "    0.        ]\n",
      "  [ 0.         -0.13907957 -0.09882805 -0.08652157  0.\n",
      "    0.        ]\n",
      "  [ 0.          0.         -0.10064212 -0.08633914 -0.26554248\n",
      "    0.        ]\n",
      "  [ 0.          0.          0.          0.          0.\n",
      "    0.        ]\n",
      "  [ 0.          0.          0.          0.          0.\n",
      "    0.        ]]]\n"
     ]
    }
   ],
   "source": [
    "print(t_rec_curv[:5]-times_diff[:5,:,:,0])"
   ]
  },
  {
   "cell_type": "code",
   "execution_count": 16,
   "metadata": {},
   "outputs": [
    {
     "name": "stdout",
     "output_type": "stream",
     "text": [
      "[[[0.         0.         0.         0.         0.         0.        ]\n",
      "  [0.         0.         0.         0.09485107 0.16898325 0.        ]\n",
      "  [0.         0.         0.02538918 0.01000844 0.06333273 0.        ]\n",
      "  [0.         0.         0.03101496 0.0235589  0.         0.        ]\n",
      "  [0.         0.         0.19012651 0.         0.         0.        ]\n",
      "  [0.         0.         0.         0.         0.         0.        ]]\n",
      "\n",
      " [[0.         0.         0.         0.         0.         0.        ]\n",
      "  [0.         0.         0.0777361  0.08836037 0.         0.        ]\n",
      "  [0.         0.         0.01360323 0.01662915 0.         0.        ]\n",
      "  [0.         0.         0.0206828  0.0246926  0.         0.        ]\n",
      "  [0.         0.         0.         0.11363068 0.         0.        ]\n",
      "  [0.         0.         0.         0.         0.         0.        ]]\n",
      "\n",
      " [[0.         0.         0.         0.         0.         0.        ]\n",
      "  [0.         0.         0.         0.         0.         0.        ]\n",
      "  [0.         0.14932355 0.01565809 0.02764497 0.         0.        ]\n",
      "  [0.         0.         0.01839503 0.03137283 0.         0.        ]\n",
      "  [0.         0.41443995 0.19129084 0.         0.         0.        ]\n",
      "  [0.         0.         0.         0.         0.         0.        ]]\n",
      "\n",
      " [[0.         0.         0.         0.         0.         0.        ]\n",
      "  [0.         0.         0.22804128 0.         0.68941341 0.        ]\n",
      "  [0.         0.1810352  0.02021294 0.05586376 0.31410762 0.        ]\n",
      "  [0.         0.17088731 0.01659715 0.0379115  0.         0.        ]\n",
      "  [0.         0.         0.         0.         0.         0.        ]\n",
      "  [0.         0.         0.         0.         0.         0.        ]]\n",
      "\n",
      " [[0.         0.         0.         0.44309054 0.         0.        ]\n",
      "  [0.         0.         0.12497711 0.         0.         0.        ]\n",
      "  [0.         0.12610739 0.01861751 0.01252909 0.         0.        ]\n",
      "  [0.         0.         0.01575329 0.01061306 0.07481398 0.        ]\n",
      "  [0.         0.         0.         0.         0.         0.        ]\n",
      "  [0.         0.         0.         0.         0.         0.        ]]]\n"
     ]
    }
   ],
   "source": [
    "print(t_err[:5])"
   ]
  },
  {
   "cell_type": "code",
   "execution_count": 17,
   "metadata": {},
   "outputs": [
    {
     "data": {
      "image/png": "[encoded data removed]",
      "text/plain": [
       "<Figure size 640x480 with 1 Axes>"
      ]
     },
     "metadata": {},
     "output_type": "display_data"
    }
   ],
   "source": [
    "n_ev = 8\n",
    "mask = mask_qs[n_ev,:,:,0].astype(bool)\n",
    "xs = np.sqrt( np.sum( np.power( real_coords[n_ev][mask], 2), axis=-1) )\n",
    "ys = (t_rec_curv[n_ev]+t_rec_flat[n_ev])[mask]\n",
    "ts = times_reg[n_ev][mask]\n",
    "errs = t_err[n_ev][mask]\n",
    "\n",
    "#fig, ax = plt.subplots()\n",
    "plt.scatter(xs, ts, c='red')\n",
    "plt.errorbar(xs, ys, yerr=errs, fmt='o')\n",
    "plt.show()"
   ]
  },
  {
   "cell_type": "code",
   "execution_count": 18,
   "metadata": {},
   "outputs": [
    {
     "data": {
      "image/png": "[encoded data removed]",
      "text/plain": [
       "<Figure size 640x480 with 1 Axes>"
      ]
     },
     "metadata": {},
     "output_type": "display_data"
    }
   ],
   "source": [
    "n_ev = 1\n",
    "mask = mask_qs[n_ev,:,:,0].astype(bool)\n",
    "xs = np.sqrt( np.sum( np.power( real_coords[n_ev][mask], 2), axis=-1) )\n",
    "ys = (t_rec_curv[n_ev]+t_rec_flat[n_ev])[mask]\n",
    "ts = times_reg[n_ev][mask]\n",
    "errs = t_err[n_ev][mask]\n",
    "\n",
    "#fig, ax = plt.subplots()\n",
    "plt.scatter(xs, ts, c='red')\n",
    "plt.errorbar(xs, ys, yerr=errs, fmt='o')\n",
    "plt.show()"
   ]
  },
  {
   "cell_type": "code",
   "execution_count": 19,
   "metadata": {},
   "outputs": [
    {
     "data": {
      "image/png": "[encoded data removed]",
      "text/plain": [
       "<Figure size 640x480 with 1 Axes>"
      ]
     },
     "metadata": {},
     "output_type": "display_data"
    }
   ],
   "source": [
    "n_ev = 2\n",
    "mask = mask_qs[n_ev,:,:,0].astype(bool)\n",
    "xs = np.sqrt( np.sum( np.power( real_coords[n_ev][mask], 2), axis=-1) )\n",
    "ys = (t_rec_curv[n_ev]+t_rec_flat[n_ev])[mask]\n",
    "ts = times_reg[n_ev][mask]\n",
    "errs = t_err[n_ev][mask]\n",
    "\n",
    "#fig, ax = plt.subplots()\n",
    "plt.scatter(xs, ts, c='red')\n",
    "plt.errorbar(xs, ys, yerr=errs, fmt='o')\n",
    "plt.show()"
   ]
  },
  {
   "cell_type": "code",
   "execution_count": 20,
   "metadata": {},
   "outputs": [
    {
     "data": {
      "image/png": "[encoded data removed]",
      "text/plain": [
       "<Figure size 640x480 with 1 Axes>"
      ]
     },
     "metadata": {},
     "output_type": "display_data"
    }
   ],
   "source": [
    "n_ev = 45\n",
    "mask = mask_qs[n_ev,:,:,0].astype(bool)\n",
    "xs = np.sqrt( np.sum( np.power( real_coords[n_ev][mask], 2), axis=-1) )\n",
    "ys = (t_rec_curv[n_ev]+t_rec_flat[n_ev])[mask]\n",
    "ts = times_reg[n_ev][mask]\n",
    "errs = t_err[n_ev][mask]\n",
    "\n",
    "#fig, ax = plt.subplots()\n",
    "plt.scatter(xs, ts, c='red')\n",
    "plt.errorbar(xs, ys, yerr=errs, fmt='o')\n",
    "plt.show()"
   ]
  },
  {
   "cell_type": "code",
   "execution_count": null,
   "metadata": {},
   "outputs": [],
   "source": []
  }
 ],
 "metadata": {
  "kernelspec": {
   "display_name": "Python 3",
   "language": "python",
   "name": "python3"
  },
  "language_info": {
   "codemirror_mode": {
    "name": "ipython",
    "version": 3
   },
   "file_extension": ".py",
   "mimetype": "text/x-python",
   "name": "python",
   "nbconvert_exporter": "python",
   "pygments_lexer": "ipython3",
   "version": "3.6.10"
  }
 },
 "nbformat": 4,
 "nbformat_minor": 5
}
