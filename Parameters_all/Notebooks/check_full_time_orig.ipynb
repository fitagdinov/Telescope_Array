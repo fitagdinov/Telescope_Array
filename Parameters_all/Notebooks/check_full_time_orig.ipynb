{
 "cells": [
  {
   "cell_type": "code",
   "execution_count": 2,
   "metadata": {},
   "outputs": [],
   "source": [
    "import numpy as np\n",
    "import h5py as h5\n",
    "\n",
    "import matplotlib.pyplot as plt"
   ]
  },
  {
   "cell_type": "code",
   "execution_count": 3,
   "metadata": {},
   "outputs": [],
   "source": [
    "#h5f = '/home3/ivkhar/TA/data/MC/bundled/pr_q3_14yr_1745_0010_excl_sat_T_excl_geo_T_bundled.h5'\n",
    "h5f = '/home3/ivkhar/TA/data/MC/bundled/onefile_bundled.h5'"
   ]
  },
  {
   "cell_type": "code",
   "execution_count": 4,
   "metadata": {},
   "outputs": [],
   "source": [
    "num = 64\n",
    "\n",
    "with h5.File(h5f,'r') as hf:\n",
    "    times_flat = hf['dt_bunlde'][:num,:,:,4:5].astype(np.float64) # in mks\n",
    "    times_diff = hf['dt_bunlde'][:num,:,:,5:6].astype(np.float64) # in mks\n",
    "    mask_in = hf['dt_bunlde'][:num,:,:,6:7].astype(np.float64)\n",
    "    real_coords = hf['dt_bunlde'][:num,:,:,:3].astype(np.float64)*1.2 # in km\n",
    "    qs_in = hf['dt_bunlde'][:num,:,:,3:4].astype(np.float64)\n",
    "    ev_params = hf['recos'][:num,[0,1,2,6]].astype(np.float64) # theta, phi, S_800, a_linsley\n",
    "    \n",
    "mask_qs = np.where( np.logical_and(mask_in>0, qs_in>0), 1., 0. )"
   ]
  },
  {
   "cell_type": "code",
   "execution_count": 5,
   "metadata": {},
   "outputs": [],
   "source": [
    "# set c=1, time in mks, distance in km\n",
    "time2dist = np.array([0.299792458], dtype=np.float64)\n",
    "\n",
    "times_flat *= time2dist\n",
    "times_diff *= time2dist\n",
    "\n",
    "times_reg = times_flat + times_diff"
   ]
  },
  {
   "cell_type": "code",
   "execution_count": 6,
   "metadata": {},
   "outputs": [],
   "source": [
    "theta_rub = ev_params[:num,0]/180*3.1415\n",
    "phi_rub = ev_params[:num,1]/180*3.1415"
   ]
  },
  {
   "cell_type": "code",
   "execution_count": 7,
   "metadata": {},
   "outputs": [],
   "source": [
    "# \"-\" in nz seems to be correct, by comparison\n",
    "nx = - np.sin(theta_rub)[:,np.newaxis,np.newaxis] * np.cos(phi_rub)[:,np.newaxis,np.newaxis]\n",
    "ny = - np.sin(theta_rub)[:,np.newaxis,np.newaxis] * np.sin(phi_rub)[:,np.newaxis,np.newaxis]\n",
    "nz = - np.cos(theta_rub)[:,np.newaxis,np.newaxis]\n",
    "a = np.concatenate((nx,ny,nz), axis=-1)\n",
    "a = np.expand_dims( a, axis=1 )\n",
    "\n",
    "t_rec_flat = np.sum( a*real_coords[:,:,:,:3], axis=-1 )\n",
    "t_rec_flat = t_rec_flat*mask_in[:,:,:,0]"
   ]
  },
  {
   "cell_type": "code",
   "execution_count": 8,
   "metadata": {},
   "outputs": [
    {
     "name": "stdout",
     "output_type": "stream",
     "text": [
      "0.0002595419443122138\n",
      "[[[0.00000000e+00 0.00000000e+00 0.00000000e+00 0.00000000e+00\n",
      "   0.00000000e+00 0.00000000e+00]\n",
      "  [0.00000000e+00 0.00000000e+00 1.72306320e-04 6.05277709e-05\n",
      "   9.43764583e-05 0.00000000e+00]\n",
      "  [0.00000000e+00 2.53282639e-05 4.87298996e-05 8.09748287e-05\n",
      "   4.58433711e-05 0.00000000e+00]\n",
      "  [0.00000000e+00 1.75749145e-05 1.06736349e-04 2.58228467e-05\n",
      "   0.00000000e+00 1.59748577e-05]\n",
      "  [0.00000000e+00 0.00000000e+00 0.00000000e+00 3.38087154e-05\n",
      "   0.00000000e+00 0.00000000e+00]\n",
      "  [0.00000000e+00 0.00000000e+00 0.00000000e+00 0.00000000e+00\n",
      "   0.00000000e+00 0.00000000e+00]]\n",
      "\n",
      " [[0.00000000e+00 0.00000000e+00 1.75111736e-04 0.00000000e+00\n",
      "   0.00000000e+00 0.00000000e+00]\n",
      "  [0.00000000e+00 0.00000000e+00 1.16343158e-05 0.00000000e+00\n",
      "   0.00000000e+00 0.00000000e+00]\n",
      "  [0.00000000e+00 5.55982087e-05 2.10414645e-06 5.27256733e-05\n",
      "   5.85009662e-06 0.00000000e+00]\n",
      "  [9.48039518e-05 7.34003233e-05 3.82021915e-05 1.20694225e-04\n",
      "   1.98365456e-04 0.00000000e+00]\n",
      "  [0.00000000e+00 5.15433451e-05 0.00000000e+00 4.57942155e-06\n",
      "   0.00000000e+00 1.43324872e-04]\n",
      "  [0.00000000e+00 0.00000000e+00 0.00000000e+00 0.00000000e+00\n",
      "   0.00000000e+00 0.00000000e+00]]\n",
      "\n",
      " [[0.00000000e+00 0.00000000e+00 0.00000000e+00 0.00000000e+00\n",
      "   0.00000000e+00 0.00000000e+00]\n",
      "  [0.00000000e+00 1.72421232e-04 3.83113978e-05 1.08973377e-04\n",
      "   0.00000000e+00 0.00000000e+00]\n",
      "  [0.00000000e+00 1.57783139e-04 1.28362203e-04 1.74012499e-04\n",
      "   0.00000000e+00 0.00000000e+00]\n",
      "  [1.23999178e-05 5.75041620e-05 2.92254077e-05 2.26394129e-05\n",
      "   0.00000000e+00 0.00000000e+00]\n",
      "  [0.00000000e+00 0.00000000e+00 5.01572432e-05 0.00000000e+00\n",
      "   0.00000000e+00 0.00000000e+00]\n",
      "  [0.00000000e+00 0.00000000e+00 0.00000000e+00 0.00000000e+00\n",
      "   0.00000000e+00 0.00000000e+00]]]\n"
     ]
    }
   ],
   "source": [
    "diff = np.abs(t_rec_flat - times_flat[:,:,:,0])\n",
    "print(np.amax(diff))\n",
    "print(diff[:3])"
   ]
  },
  {
   "cell_type": "code",
   "execution_count": 9,
   "metadata": {},
   "outputs": [],
   "source": [
    "a_rub = ev_params[:,3,np.newaxis,np.newaxis]\n",
    "s_800_rub = ev_params[:,2,np.newaxis,np.newaxis]\n",
    "\n",
    "theta_rub = ev_params[:num,0,np.newaxis,np.newaxis]/180*3.1415\n",
    "phi_rub = ev_params[:num,1,np.newaxis,np.newaxis]/180*3.1415"
   ]
  },
  {
   "cell_type": "code",
   "execution_count": 10,
   "metadata": {},
   "outputs": [],
   "source": [
    "def get_eta(theta):\n",
    "    \n",
    "    x = theta*180.0/3.1415\n",
    "    \n",
    "    e1 = 3.97 - 1.79*(np.abs(1.0/(np.abs(np.cos(theta))+1e-6)) - 1.0)\n",
    "    e2 = ((((((-1.71299934e-10*x + 4.23849411e-08)*x -3.76192000e-06)*x\n",
    "               + 1.35747298e-04)*x -2.18241567e-03)*x + 1.18960682e-02)*x\n",
    "             + 3.70692527e+00)\n",
    "    res = np.where(x<62.7,e1,e2)  \n",
    "    \n",
    "    return res"
   ]
  },
  {
   "cell_type": "code",
   "execution_count": 11,
   "metadata": {},
   "outputs": [],
   "source": [
    "Rm = np.array([0.09])\n",
    "R1 = np.array([1.])\n",
    "\n",
    "def get_profile(r, eta):\n",
    "\n",
    "    res = np.power(((r+1e-6)/Rm),-1.2) * np.power((1+r/Rm), -(eta-1.2)) * np.power(1.+r*r/R1/R1,-0.6)\n",
    "    return res"
   ]
  },
  {
   "cell_type": "code",
   "execution_count": 12,
   "metadata": {},
   "outputs": [],
   "source": [
    "# depending on def of a (linsley, prime), may or may not include S_800\n",
    "# check fo 0.67\n",
    "def get_lins_t(r):\n",
    "    return 0.67*np.power((1 + r/R_L), 1.5)"
   ]
  },
  {
   "cell_type": "code",
   "execution_count": 13,
   "metadata": {},
   "outputs": [],
   "source": [
    "# check dimensions in error calc\n",
    "t0_err = 0.03*time2dist\n",
    "\n",
    "def get_linsley_s(r, S):\n",
    "    return 1.3*0.29*np.power((1 + r/R_L), 1.5)*np.power(S+1e-8, -0.3)"
   ]
  },
  {
   "cell_type": "code",
   "execution_count": 33,
   "metadata": {},
   "outputs": [],
   "source": [
    "R_800 = np.array([0.8])\n",
    "R_L = 0.03\n",
    "\n",
    "# \"-\" in projection\n",
    "def get_exp_time(theta, phi, coords, t_flat, aprime, mask, S_800):\n",
    "    # get distance to shower core\n",
    "    proj_to_n = np.sin(theta)*( np.cos(phi)*coords[:,:,:,0] + np.sin(phi)*coords[:,:,:,1] ) + np.cos(theta)*coords[:,:,:,2]\n",
    "    dist_core = np.sum( np.power(coords,2), axis=(3) ) - np.power(proj_to_n,2)\n",
    "    dist_core = np.where( dist_core>0, np.sqrt( dist_core ), 0. )\n",
    "    # get eta\n",
    "    eta = get_eta(theta)\n",
    "    # eval time\n",
    "    t_rec_curv = aprime*get_lins_t(dist_core)*np.sqrt( get_profile(R_800, eta)/get_profile(dist_core, eta) )*1e-3*time2dist\n",
    "    # get error\n",
    "    s_r = get_profile(dist_core, eta)\n",
    "    s_8 = get_profile(0.8, eta)\n",
    "    lin_s = get_linsley_s(dist_core, S_800*s_r/s_8 )\n",
    "#     print('lin_s',lin_s)\n",
    "    t_s = aprime*np.sqrt(S_800)*lin_s*1e-3*time2dist\n",
    "#     print('ts',t_s)\n",
    "    return t_rec_curv*mask, np.sqrt((t0_err*t0_err + t_s*t_s))*mask"
   ]
  },
  {
   "cell_type": "code",
   "execution_count": 34,
   "metadata": {},
   "outputs": [],
   "source": [
    "t_rec_curv, t_err = get_exp_time(theta_rub, phi_rub, real_coords, t_rec_flat, a_rub, mask_qs[...,0], s_800_rub)"
   ]
  },
  {
   "cell_type": "code",
   "execution_count": 16,
   "metadata": {},
   "outputs": [
    {
     "name": "stdout",
     "output_type": "stream",
     "text": [
      "[[[ 0.          0.          0.          0.          0.\n",
      "    0.        ]\n",
      "  [ 0.          0.          0.00175419 -0.06258692 -0.64202004\n",
      "    0.        ]\n",
      "  [ 0.         -0.04859552 -0.09313132 -0.09177283 -0.01393131\n",
      "    0.        ]\n",
      "  [ 0.         -0.07133434 -0.10665879 -0.06957046  0.\n",
      "   -0.41060827]\n",
      "  [ 0.          0.          0.          0.05251522  0.\n",
      "    0.        ]\n",
      "  [ 0.          0.          0.          0.          0.\n",
      "    0.        ]]\n",
      "\n",
      " [[ 0.          0.          0.73343437  0.          0.\n",
      "    0.        ]\n",
      "  [ 0.          0.         -0.06410294  0.          0.\n",
      "    0.        ]\n",
      "  [ 0.         -0.1919336  -0.09465956 -0.10246577 -0.52278469\n",
      "    0.        ]\n",
      "  [ 0.24612006 -0.1384063  -0.08296652 -0.07535847 -0.35882364\n",
      "    0.        ]\n",
      "  [ 0.         -0.49503326  0.         -0.0807551   0.\n",
      "    1.46376517]\n",
      "  [ 0.          0.          0.          0.          0.\n",
      "    0.        ]]\n",
      "\n",
      " [[ 0.          0.          0.          0.          0.\n",
      "    0.        ]\n",
      "  [ 0.         -0.31264704 -0.0978152   0.03823828  0.\n",
      "    0.        ]\n",
      "  [ 0.         -0.08410644 -0.08398357 -0.10535574  0.\n",
      "    0.        ]\n",
      "  [-0.29961385 -0.02103852 -0.09329933 -0.0561524   0.\n",
      "    0.        ]\n",
      "  [ 0.          0.         -0.1403181   0.          0.\n",
      "    0.        ]\n",
      "  [ 0.          0.          0.          0.          0.\n",
      "    0.        ]]\n",
      "\n",
      " [[ 0.          0.          0.          0.          0.\n",
      "    0.        ]\n",
      "  [ 0.          0.         -0.36071383  0.04613569 -0.35579648\n",
      "    0.        ]\n",
      "  [ 0.         -0.03873671 -0.08567164 -0.09628614  0.21485392\n",
      "    0.        ]\n",
      "  [ 0.         -0.12020572 -0.09290809 -0.09571788 -0.19299115\n",
      "    0.        ]\n",
      "  [ 0.          0.          0.          0.05293053  0.\n",
      "    0.        ]\n",
      "  [ 0.          0.          0.          0.          0.\n",
      "    0.        ]]\n",
      "\n",
      " [[ 0.          0.          0.          0.          0.\n",
      "    0.        ]\n",
      "  [ 0.         -0.61309759 -0.151046    0.          0.\n",
      "    0.        ]\n",
      "  [-0.19048612  0.         -0.09567391 -0.09213837 -0.05480229\n",
      "    0.83105084]\n",
      "  [ 0.25956041 -0.13456811 -0.08310428  0.          0.\n",
      "    0.        ]\n",
      "  [ 0.          0.         -0.06656513 -0.20909802  0.\n",
      "    0.        ]\n",
      "  [ 0.          0.          0.          0.          0.\n",
      "    0.        ]]]\n"
     ]
    }
   ],
   "source": [
    "print(t_rec_curv[:5]-times_diff[:5,:,:,0])"
   ]
  },
  {
   "cell_type": "code",
   "execution_count": 17,
   "metadata": {},
   "outputs": [
    {
     "name": "stdout",
     "output_type": "stream",
     "text": [
      "[[[0.         0.         0.         0.         0.         0.        ]\n",
      "  [0.         0.         0.19522753 0.18752537 0.4247397  0.        ]\n",
      "  [0.         0.18687465 0.02160456 0.01918694 0.17357822 0.        ]\n",
      "  [0.         0.19998236 0.0271015  0.05540465 0.         0.75068378]\n",
      "  [0.         0.         0.         0.23394275 0.         0.        ]\n",
      "  [0.         0.         0.         0.         0.         0.        ]]\n",
      "\n",
      " [[0.         0.         0.58574806 0.         0.         0.        ]\n",
      "  [0.         0.         0.11828669 0.         0.         0.        ]\n",
      "  [0.         0.09285005 0.01367434 0.0237159  0.19708444 0.        ]\n",
      "  [0.38064065 0.07660034 0.00987144 0.02310187 0.18106529 0.        ]\n",
      "  [0.         0.19426676 0.         0.12189164 0.         0.92485357]\n",
      "  [0.         0.         0.         0.         0.         0.        ]]\n",
      "\n",
      " [[0.         0.         0.         0.         0.         0.        ]\n",
      "  [0.         0.25179612 0.0922333  0.16818421 0.         0.        ]\n",
      "  [0.         0.08448421 0.00913288 0.04539936 0.         0.        ]\n",
      "  [0.57763002 0.13018095 0.02759133 0.09089638 0.         0.        ]\n",
      "  [0.         0.         0.25641292 0.         0.         0.        ]\n",
      "  [0.         0.         0.         0.         0.         0.        ]]\n",
      "\n",
      " [[0.         0.         0.         0.         0.         0.        ]\n",
      "  [0.         0.         0.14981623 0.21556257 0.57589892 0.        ]\n",
      "  [0.         0.11727282 0.01319075 0.03919645 0.27581161 0.        ]\n",
      "  [0.         0.11329252 0.01429239 0.04087009 0.26941922 0.        ]\n",
      "  [0.         0.         0.         0.20327529 0.         0.        ]\n",
      "  [0.         0.         0.         0.         0.         0.        ]]\n",
      "\n",
      " [[0.         0.         0.         0.         0.         0.        ]\n",
      "  [0.         0.36471717 0.18304863 0.         0.         0.        ]\n",
      "  [0.48507177 0.         0.01832922 0.03897238 0.24256891 0.83068562]\n",
      "  [0.44142258 0.08430059 0.00911534 0.         0.         0.        ]\n",
      "  [0.         0.         0.10121915 0.11406726 0.         0.        ]\n",
      "  [0.         0.         0.         0.         0.         0.        ]]]\n"
     ]
    }
   ],
   "source": [
    "print(t_err[:5])"
   ]
  },
  {
   "cell_type": "code",
   "execution_count": 18,
   "metadata": {},
   "outputs": [],
   "source": [
    "# get distance to shower core\n",
    "proj_to_n = np.sin(theta_rub)*( np.cos(phi_rub)*real_coords[:,:,:,0] + np.sin(phi_rub)*real_coords[:,:,:,1] ) + np.cos(theta_rub)*real_coords[:,:,:,2]\n",
    "dist_core = np.sum( np.power(real_coords,2), axis=(3) ) - np.power(proj_to_n,2)\n",
    "dist_core = np.where( dist_core>0, np.sqrt( dist_core ), 0. )"
   ]
  },
  {
   "cell_type": "code",
   "execution_count": 19,
   "metadata": {},
   "outputs": [
    {
     "data": {
      "text/plain": [
       "(64, 6, 6)"
      ]
     },
     "execution_count": 19,
     "metadata": {},
     "output_type": "execute_result"
    }
   ],
   "source": [
    "dist_core.shape"
   ]
  },
  {
   "cell_type": "markdown",
   "metadata": {},
   "source": [
    "### Raw, similar to R."
   ]
  },
  {
   "cell_type": "code",
   "execution_count": 20,
   "metadata": {},
   "outputs": [
    {
     "data": {
      "image/png": "[encoded data removed]",
      "text/plain": [
       "<Figure size 432x288 with 1 Axes>"
      ]
     },
     "metadata": {
      "needs_background": "light"
     },
     "output_type": "display_data"
    }
   ],
   "source": [
    "n_ev = 0\n",
    "\n",
    "mask = mask_qs[n_ev,:,:,0].astype(bool)\n",
    "xs = np.sqrt( np.sum( np.power( real_coords[n_ev][mask], 2), axis=-1) )\n",
    "ys = (t_rec_curv[n_ev])[mask]\n",
    "ts = times_diff[n_ev][mask][:,0]\n",
    "errs = t_err[n_ev][mask]\n",
    "\n",
    "#fig, ax = plt.subplots()\n",
    "plt.errorbar(dist_core[n_ev][mask], ts, yerr=errs, fmt='+', c='red', label='data')\n",
    "plt.scatter(dist_core[n_ev][mask], ys, label='fit')\n",
    "plt.legend()\n",
    "plt.show()"
   ]
  },
  {
   "cell_type": "code",
   "execution_count": 27,
   "metadata": {},
   "outputs": [
    {
     "data": {
      "text/plain": [
       "array([[0.        , 0.        , 0.        , 0.        , 0.        ,\n",
       "        0.        ],\n",
       "       [0.        , 0.        , 0.29559536, 0.34446155, 1.47707745,\n",
       "        0.        ],\n",
       "       [0.        , 0.32917213, 0.10762549, 0.10372819, 0.26831424,\n",
       "        0.        ],\n",
       "       [0.        , 0.37833807, 0.127112  , 0.12501345, 0.        ,\n",
       "        2.19178262],\n",
       "       [0.        , 0.        , 0.        , 0.3255746 , 0.        ,\n",
       "        0.        ],\n",
       "       [0.        , 0.        , 0.        , 0.        , 0.        ,\n",
       "        0.        ]])"
      ]
     },
     "execution_count": 27,
     "metadata": {},
     "output_type": "execute_result"
    }
   ],
   "source": [
    "times_diff[0,:,:,0]"
   ]
  },
  {
   "cell_type": "code",
   "execution_count": 28,
   "metadata": {},
   "outputs": [
    {
     "name": "stdout",
     "output_type": "stream",
     "text": [
      "[[0.29559536]\n",
      " [0.34446155]\n",
      " [1.47707745]\n",
      " [0.32917213]\n",
      " [0.10762549]\n",
      " [0.10372819]\n",
      " [0.26831424]\n",
      " [0.37833807]\n",
      " [0.127112  ]\n",
      " [0.12501345]\n",
      " [2.19178262]\n",
      " [0.3255746 ]]\n",
      "[0.19522753 0.18752537 0.4247397  0.18687465 0.02160456 0.01918694\n",
      " 0.17357822 0.19998236 0.0271015  0.05540465 0.75068378 0.23394275]\n",
      "[0.29734955 0.28187463 0.83505741 0.28057661 0.01449417 0.01195536\n",
      " 0.25438294 0.30700373 0.02045321 0.055443   1.78117435 0.37808982]\n"
     ]
    }
   ],
   "source": [
    "print(times_diff[n_ev][mask])\n",
    "print(errs)\n",
    "print(ys)"
   ]
  },
  {
   "cell_type": "code",
   "execution_count": 19,
   "metadata": {},
   "outputs": [
    {
     "data": {
      "image/png": "[encoded data removed]",
      "text/plain": [
       "<Figure size 640x480 with 1 Axes>"
      ]
     },
     "metadata": {},
     "output_type": "display_data"
    }
   ],
   "source": [
    "n_ev = 1\n",
    "\n",
    "mask = mask_qs[n_ev,:,:,0].astype(bool)\n",
    "xs = np.sqrt( np.sum( np.power( real_coords[n_ev][mask], 2), axis=-1) )\n",
    "ys = (t_rec_curv[n_ev])[mask]\n",
    "ts = times_diff[n_ev][mask][:,0]\n",
    "errs = t_err[n_ev][mask]\n",
    "\n",
    "#fig, ax = plt.subplots()\n",
    "plt.errorbar(dist_core[n_ev][mask], ts, yerr=errs, fmt='+', c='red', label='data')\n",
    "plt.scatter(dist_core[n_ev][mask], ys, label='fit')\n",
    "plt.legend()\n",
    "plt.show()"
   ]
  },
  {
   "cell_type": "code",
   "execution_count": 20,
   "metadata": {},
   "outputs": [
    {
     "data": {
      "image/png": "[encoded data removed]",
      "text/plain": [
       "<Figure size 640x480 with 1 Axes>"
      ]
     },
     "metadata": {},
     "output_type": "display_data"
    }
   ],
   "source": [
    "n_ev = 2\n",
    "\n",
    "mask = mask_qs[n_ev,:,:,0].astype(bool)\n",
    "xs = np.sqrt( np.sum( np.power( real_coords[n_ev][mask], 2), axis=-1) )\n",
    "ys = (t_rec_curv[n_ev])[mask]\n",
    "ts = times_diff[n_ev][mask][:,0]\n",
    "errs = t_err[n_ev][mask]\n",
    "\n",
    "#fig, ax = plt.subplots()\n",
    "plt.errorbar(dist_core[n_ev][mask], ts, yerr=errs, fmt='+', c='red', label='data')\n",
    "plt.scatter(dist_core[n_ev][mask], ys, label='fit')\n",
    "plt.legend()\n",
    "plt.show()"
   ]
  },
  {
   "cell_type": "markdown",
   "metadata": {},
   "source": [
    "### Normilize to 0 - eliminate constant"
   ]
  },
  {
   "cell_type": "code",
   "execution_count": 27,
   "metadata": {},
   "outputs": [
    {
     "data": {
      "image/png": "[encoded data removed]",
      "text/plain": [
       "<Figure size 640x480 with 1 Axes>"
      ]
     },
     "metadata": {},
     "output_type": "display_data"
    }
   ],
   "source": [
    "n_ev = 0\n",
    "\n",
    "mask = mask_qs[n_ev,:,:,0].astype(bool)\n",
    "xs = np.sqrt( np.sum( np.power( real_coords[n_ev][mask], 2), axis=-1) )\n",
    "ys = (t_rec_curv[n_ev])[mask]\n",
    "ts = times_diff[n_ev][mask][:,0]\n",
    "errs = t_err[n_ev][mask]\n",
    "\n",
    "m = np.amin(ts)\n",
    "ts += - m\n",
    "m = np.amin(ys)\n",
    "ys += - m\n",
    "\n",
    "#fig, ax = plt.subplots()\n",
    "plt.errorbar(dist_core[n_ev][mask]/1.2, ts, yerr=errs, fmt='+', c='red', label='data')\n",
    "plt.scatter(dist_core[n_ev][mask]/1.2, ys, label='fit')\n",
    "plt.legend()\n",
    "plt.show()"
   ]
  },
  {
   "cell_type": "code",
   "execution_count": 21,
   "metadata": {},
   "outputs": [
    {
     "data": {
      "image/png": "[encoded data removed]",
      "text/plain": [
       "<Figure size 640x480 with 1 Axes>"
      ]
     },
     "metadata": {},
     "output_type": "display_data"
    }
   ],
   "source": [
    "n_ev = 1\n",
    "\n",
    "mask = mask_qs[n_ev,:,:,0].astype(bool)\n",
    "xs = np.sqrt( np.sum( np.power( real_coords[n_ev][mask], 2), axis=-1) )\n",
    "ys = (t_rec_curv[n_ev])[mask]\n",
    "ts = times_diff[n_ev][mask][:,0]\n",
    "errs = t_err[n_ev][mask]\n",
    "\n",
    "m = np.amin(ts)\n",
    "ts += - m\n",
    "m = np.amin(ys)\n",
    "ys += - m\n",
    "\n",
    "#fig, ax = plt.subplots()\n",
    "plt.errorbar(dist_core[n_ev][mask]/1.2, ts, yerr=errs, fmt='+', c='red', label='data')\n",
    "plt.scatter(dist_core[n_ev][mask]/1.2, ys, label='fit')\n",
    "plt.legend()\n",
    "plt.show()"
   ]
  },
  {
   "cell_type": "code",
   "execution_count": 22,
   "metadata": {},
   "outputs": [
    {
     "data": {
      "image/png": "[encoded data removed]",
      "text/plain": [
       "<Figure size 640x480 with 1 Axes>"
      ]
     },
     "metadata": {},
     "output_type": "display_data"
    }
   ],
   "source": [
    "n_ev = 2\n",
    "\n",
    "mask = mask_qs[n_ev,:,:,0].astype(bool)\n",
    "xs = np.sqrt( np.sum( np.power( real_coords[n_ev][mask], 2), axis=-1) )\n",
    "ys = (t_rec_curv[n_ev])[mask]\n",
    "ts = times_diff[n_ev][mask][:,0]\n",
    "errs = t_err[n_ev][mask]\n",
    "\n",
    "m = np.amin(ts)\n",
    "ts += - m\n",
    "m = np.amin(ys)\n",
    "ys += - m\n",
    "\n",
    "#fig, ax = plt.subplots()\n",
    "plt.errorbar(dist_core[n_ev][mask]/1.2, ts, yerr=errs, fmt='+', c='red', label='data')\n",
    "plt.scatter(dist_core[n_ev][mask]/1.2, ys, label='fit')\n",
    "plt.legend()\n",
    "plt.show()"
   ]
  },
  {
   "cell_type": "markdown",
   "metadata": {},
   "source": [
    "### minus t earliest"
   ]
  },
  {
   "cell_type": "code",
   "execution_count": 26,
   "metadata": {},
   "outputs": [
    {
     "data": {
      "image/png": "[encoded data removed]",
      "text/plain": [
       "<Figure size 640x480 with 1 Axes>"
      ]
     },
     "metadata": {},
     "output_type": "display_data"
    }
   ],
   "source": [
    "n_ev = 0\n",
    "\n",
    "mask = mask_qs[n_ev,:,:,0].astype(bool)\n",
    "xs = np.sqrt( np.sum( np.power( real_coords[n_ev][mask], 2), axis=-1) )\n",
    "ys = (t_rec_curv[n_ev])[mask]\n",
    "ts = times_diff[n_ev][mask][:,0]\n",
    "errs = t_err[n_ev][mask]\n",
    "\n",
    "m = np.amin(ts)\n",
    "ts += - m\n",
    "# m = np.amin(ys)\n",
    "# ys += - m\n",
    "\n",
    "#fig, ax = plt.subplots()\n",
    "plt.errorbar(dist_core[n_ev][mask]/1.2, ts, yerr=errs, fmt='+', c='red', label='data')\n",
    "plt.scatter(dist_core[n_ev][mask]/1.2, ys, label='fit')\n",
    "plt.legend()\n",
    "plt.show()"
   ]
  },
  {
   "cell_type": "code",
   "execution_count": 23,
   "metadata": {},
   "outputs": [
    {
     "data": {
      "image/png": "[encoded data removed]",
      "text/plain": [
       "<Figure size 640x480 with 1 Axes>"
      ]
     },
     "metadata": {},
     "output_type": "display_data"
    }
   ],
   "source": [
    "n_ev = 1\n",
    "\n",
    "mask = mask_qs[n_ev,:,:,0].astype(bool)\n",
    "xs = np.sqrt( np.sum( np.power( real_coords[n_ev][mask], 2), axis=-1) )\n",
    "ys = (t_rec_curv[n_ev])[mask]\n",
    "ts = times_diff[n_ev][mask][:,0]\n",
    "errs = t_err[n_ev][mask]\n",
    "\n",
    "m = np.amin(ts)\n",
    "ts += - m\n",
    "# m = np.amin(ys)\n",
    "# ys += - m\n",
    "\n",
    "#fig, ax = plt.subplots()\n",
    "plt.errorbar(dist_core[n_ev][mask]/1.2, ts, yerr=errs, fmt='+', c='red', label='data')\n",
    "plt.scatter(dist_core[n_ev][mask]/1.2, ys, label='fit')\n",
    "plt.legend()\n",
    "plt.show()"
   ]
  },
  {
   "cell_type": "code",
   "execution_count": 24,
   "metadata": {},
   "outputs": [
    {
     "data": {
      "image/png": "[encoded data removed]",
      "text/plain": [
       "<Figure size 640x480 with 1 Axes>"
      ]
     },
     "metadata": {},
     "output_type": "display_data"
    }
   ],
   "source": [
    "n_ev = 2\n",
    "\n",
    "mask = mask_qs[n_ev,:,:,0].astype(bool)\n",
    "xs = np.sqrt( np.sum( np.power( real_coords[n_ev][mask], 2), axis=-1) )\n",
    "ys = (t_rec_curv[n_ev])[mask]\n",
    "ts = times_diff[n_ev][mask][:,0]\n",
    "errs = t_err[n_ev][mask]\n",
    "\n",
    "m = np.amin(ts)\n",
    "ts += - m\n",
    "# m = np.amin(ys)\n",
    "# ys += - m\n",
    "\n",
    "#fig, ax = plt.subplots()\n",
    "plt.errorbar(dist_core[n_ev][mask]/1.2, ts, yerr=errs, fmt='+', c='red', label='data')\n",
    "plt.scatter(dist_core[n_ev][mask]/1.2, ys, label='fit')\n",
    "plt.legend()\n",
    "plt.show()"
   ]
  },
  {
   "cell_type": "code",
   "execution_count": null,
   "metadata": {},
   "outputs": [],
   "source": []
  },
  {
   "cell_type": "code",
   "execution_count": null,
   "metadata": {},
   "outputs": [],
   "source": []
  },
  {
   "cell_type": "code",
   "execution_count": null,
   "metadata": {},
   "outputs": [],
   "source": []
  }
 ],
 "metadata": {
  "kernelspec": {
   "display_name": "Python 3",
   "language": "python",
   "name": "python3"
  },
  "language_info": {
   "codemirror_mode": {
    "name": "ipython",
    "version": 3
   },
   "file_extension": ".py",
   "mimetype": "text/x-python",
   "name": "python",
   "nbconvert_exporter": "python",
   "pygments_lexer": "ipython3",
   "version": "3.6.10"
  }
 },
 "nbformat": 4,
 "nbformat_minor": 5
}
