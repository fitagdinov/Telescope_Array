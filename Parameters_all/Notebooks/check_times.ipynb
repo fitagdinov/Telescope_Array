{
 "cells": [
  {
   "cell_type": "code",
   "execution_count": 1,
   "metadata": {},
   "outputs": [],
   "source": [
    "import numpy as np\n",
    "import h5py as h5\n",
    "\n",
    "import matplotlib.pyplot as plt"
   ]
  },
  {
   "cell_type": "code",
   "execution_count": 2,
   "metadata": {},
   "outputs": [],
   "source": [
    "# old file\n",
    "h5f = '/home3/ivkhar/TA/data/mass_spectrum/old_1223/hadrons/bundled/mc_hadrons_qgs34_0010.h5'"
   ]
  },
  {
   "cell_type": "code",
   "execution_count": 3,
   "metadata": {},
   "outputs": [
    {
     "name": "stdout",
     "output_type": "stream",
     "text": [
      "(268322, 6, 6, 7)\n"
     ]
    }
   ],
   "source": [
    "with h5.File(h5f,'r') as hf:\n",
    "    print( hf['pr-q4-9yr/dt'].shape )"
   ]
  },
  {
   "cell_type": "code",
   "execution_count": 24,
   "metadata": {},
   "outputs": [
    {
     "ename": "KeyError",
     "evalue": "'Unable to open object (component not found)'",
     "output_type": "error",
     "traceback": [
      "\u001b[0;31m---------------------------------------------------------------------------\u001b[0m",
      "\u001b[0;31mKeyError\u001b[0m                                  Traceback (most recent call last)",
      "Cell \u001b[0;32mIn[24], line 4\u001b[0m\n\u001b[1;32m      1\u001b[0m num \u001b[38;5;241m=\u001b[39m \u001b[38;5;241m64\u001b[39m\n\u001b[1;32m      3\u001b[0m \u001b[38;5;28;01mwith\u001b[39;00m h5\u001b[38;5;241m.\u001b[39mFile(h5f,\u001b[38;5;124m'\u001b[39m\u001b[38;5;124mr\u001b[39m\u001b[38;5;124m'\u001b[39m) \u001b[38;5;28;01mas\u001b[39;00m hf:\n\u001b[0;32m----> 4\u001b[0m     times_flat \u001b[38;5;241m=\u001b[39m \u001b[43mhf\u001b[49m\u001b[43m[\u001b[49m\u001b[38;5;124;43m'\u001b[39;49m\u001b[38;5;124;43mpr-q4-9yr/dt\u001b[39;49m\u001b[38;5;124;43m'\u001b[39;49m\u001b[43m]\u001b[49m[:num,:,:,\u001b[38;5;241m4\u001b[39m:\u001b[38;5;241m5\u001b[39m]\u001b[38;5;241m*\u001b[39m\u001b[38;5;241m1e6\u001b[39m \u001b[38;5;66;03m# in mks\u001b[39;00m\n\u001b[1;32m      5\u001b[0m     times_diff \u001b[38;5;241m=\u001b[39m hf[\u001b[38;5;124m'\u001b[39m\u001b[38;5;124mpr-q4-9yr/dt\u001b[39m\u001b[38;5;124m'\u001b[39m][:num,:,:,\u001b[38;5;241m5\u001b[39m:\u001b[38;5;241m6\u001b[39m]\u001b[38;5;241m*\u001b[39m\u001b[38;5;241m1e6\u001b[39m \u001b[38;5;66;03m# in mks\u001b[39;00m\n\u001b[1;32m      6\u001b[0m     mask_in \u001b[38;5;241m=\u001b[39m hf[\u001b[38;5;124m'\u001b[39m\u001b[38;5;124mpr-q4-9yr/dt\u001b[39m\u001b[38;5;124m'\u001b[39m][:num,:,:,\u001b[38;5;241m6\u001b[39m:\u001b[38;5;241m7\u001b[39m]\n",
      "File \u001b[0;32mh5py/_objects.pyx:54\u001b[0m, in \u001b[0;36mh5py._objects.with_phil.wrapper\u001b[0;34m()\u001b[0m\n",
      "File \u001b[0;32mh5py/_objects.pyx:55\u001b[0m, in \u001b[0;36mh5py._objects.with_phil.wrapper\u001b[0;34m()\u001b[0m\n",
      "File \u001b[0;32m~/miniconda3/envs/tf211/lib/python3.10/site-packages/h5py/_hl/group.py:328\u001b[0m, in \u001b[0;36mGroup.__getitem__\u001b[0;34m(self, name)\u001b[0m\n\u001b[1;32m    326\u001b[0m         \u001b[38;5;28;01mraise\u001b[39;00m \u001b[38;5;167;01mValueError\u001b[39;00m(\u001b[38;5;124m\"\u001b[39m\u001b[38;5;124mInvalid HDF5 object reference\u001b[39m\u001b[38;5;124m\"\u001b[39m)\n\u001b[1;32m    327\u001b[0m \u001b[38;5;28;01melif\u001b[39;00m \u001b[38;5;28misinstance\u001b[39m(name, (\u001b[38;5;28mbytes\u001b[39m, \u001b[38;5;28mstr\u001b[39m)):\n\u001b[0;32m--> 328\u001b[0m     oid \u001b[38;5;241m=\u001b[39m \u001b[43mh5o\u001b[49m\u001b[38;5;241;43m.\u001b[39;49m\u001b[43mopen\u001b[49m\u001b[43m(\u001b[49m\u001b[38;5;28;43mself\u001b[39;49m\u001b[38;5;241;43m.\u001b[39;49m\u001b[43mid\u001b[49m\u001b[43m,\u001b[49m\u001b[43m \u001b[49m\u001b[38;5;28;43mself\u001b[39;49m\u001b[38;5;241;43m.\u001b[39;49m\u001b[43m_e\u001b[49m\u001b[43m(\u001b[49m\u001b[43mname\u001b[49m\u001b[43m)\u001b[49m\u001b[43m,\u001b[49m\u001b[43m \u001b[49m\u001b[43mlapl\u001b[49m\u001b[38;5;241;43m=\u001b[39;49m\u001b[38;5;28;43mself\u001b[39;49m\u001b[38;5;241;43m.\u001b[39;49m\u001b[43m_lapl\u001b[49m\u001b[43m)\u001b[49m\n\u001b[1;32m    329\u001b[0m \u001b[38;5;28;01melse\u001b[39;00m:\n\u001b[1;32m    330\u001b[0m     \u001b[38;5;28;01mraise\u001b[39;00m \u001b[38;5;167;01mTypeError\u001b[39;00m(\u001b[38;5;124m\"\u001b[39m\u001b[38;5;124mAccessing a group is done with bytes or str, \u001b[39m\u001b[38;5;124m\"\u001b[39m\n\u001b[1;32m    331\u001b[0m                     \u001b[38;5;124m\"\u001b[39m\u001b[38;5;124m not \u001b[39m\u001b[38;5;132;01m{}\u001b[39;00m\u001b[38;5;124m\"\u001b[39m\u001b[38;5;241m.\u001b[39mformat(\u001b[38;5;28mtype\u001b[39m(name)))\n",
      "File \u001b[0;32mh5py/_objects.pyx:54\u001b[0m, in \u001b[0;36mh5py._objects.with_phil.wrapper\u001b[0;34m()\u001b[0m\n",
      "File \u001b[0;32mh5py/_objects.pyx:55\u001b[0m, in \u001b[0;36mh5py._objects.with_phil.wrapper\u001b[0;34m()\u001b[0m\n",
      "File \u001b[0;32mh5py/h5o.pyx:190\u001b[0m, in \u001b[0;36mh5py.h5o.open\u001b[0;34m()\u001b[0m\n",
      "\u001b[0;31mKeyError\u001b[0m: 'Unable to open object (component not found)'"
     ]
    }
   ],
   "source": [
    "num = 64\n",
    "\n",
    "with h5.File(h5f,'r') as hf:\n",
    "    times_flat = hf['pr-q4-9yr/dt'][:num,:,:,4:5]*1e6 # in mks\n",
    "    times_diff = hf['pr-q4-9yr/dt'][:num,:,:,5:6]*1e6 # in mks\n",
    "    mask_in = hf['pr-q4-9yr/dt'][:num,:,:,6:7]\n",
    "    real_coords = hf['pr-q4-9yr/dt'][:num,:,:,:3]*1.2 # in km\n",
    "    qs_in = hf['pr-q4-9yr/dt'][:num,:,:,3:4]\n",
    "    ev_params = hf['pr-q3-9yr/ev_params'][:num]\n",
    "    \n",
    "mask_qs = np.where( np.logical_and(mask_in>0, qs_in>0), 1., 0. )"
   ]
  },
  {
   "cell_type": "code",
   "execution_count": 25,
   "metadata": {},
   "outputs": [],
   "source": [
    "# set c=1, time in mks, distance in km\n",
    "time2dist = np.array([0.299792458], dtype=np.float32)\n",
    "\n",
    "times_flat *= time2dist\n",
    "times_diff *= time2dist\n",
    "\n",
    "times_reg = times_flat + times_diff"
   ]
  },
  {
   "cell_type": "code",
   "execution_count": 6,
   "metadata": {},
   "outputs": [],
   "source": [
    "theta_rub = ev_params[:num,2]/180*3.1415\n",
    "phi_rub = ev_params[:num,3]/180*3.1415"
   ]
  },
  {
   "cell_type": "code",
   "execution_count": 7,
   "metadata": {},
   "outputs": [],
   "source": [
    "nx = - np.sin(theta_rub)[:,np.newaxis,np.newaxis] * np.cos(phi_rub)[:,np.newaxis,np.newaxis]\n",
    "ny = - np.sin(theta_rub)[:,np.newaxis,np.newaxis] * np.sin(phi_rub)[:,np.newaxis,np.newaxis]\n",
    "nz = - np.cos(theta_rub)[:,np.newaxis,np.newaxis]\n",
    "a = np.concatenate((nx,ny,nz), axis=-1)\n",
    "a = np.expand_dims( a, axis=1 )\n",
    "\n",
    "t_rec = np.sum( a*real_coords[:,:,:,:3], axis=-1 )\n",
    "t_rec = t_rec*mask_in[:,:,:,0]"
   ]
  },
  {
   "cell_type": "code",
   "execution_count": 8,
   "metadata": {},
   "outputs": [
    {
     "name": "stdout",
     "output_type": "stream",
     "text": [
      "[[[ 0.          0.          0.          0.          0.\n",
      "    0.        ]\n",
      "  [ 0.          0.          0.          0.          0.\n",
      "    0.        ]\n",
      "  [ 0.          0.          0.          0.35387266  0.40533757\n",
      "    0.        ]\n",
      "  [ 0.          0.          0.05173676  0.08961448  0.1273849\n",
      "    0.        ]\n",
      "  [ 0.          0.          0.         -0.16872704  0.\n",
      "    0.        ]\n",
      "  [ 0.          0.         -0.49108326  0.          0.\n",
      "    0.        ]]\n",
      "\n",
      " [[ 0.          0.          0.          0.          0.\n",
      "    0.        ]\n",
      "  [ 0.          0.          0.          0.          0.\n",
      "    0.        ]\n",
      "  [ 0.          0.          0.          0.4209404   0.\n",
      "    0.        ]\n",
      "  [ 0.          0.          0.10297143  0.06480929  0.00914842\n",
      "    0.        ]\n",
      "  [ 0.          0.         -0.2411322  -0.2954021  -0.35019392\n",
      "    0.        ]\n",
      "  [ 0.          0.          0.          0.          0.\n",
      "    0.        ]]\n",
      "\n",
      " [[ 0.          0.          0.          0.          0.\n",
      "    0.        ]\n",
      "  [ 0.          0.          0.          0.          0.\n",
      "    0.        ]\n",
      "  [ 0.          0.          0.          0.01163387 -0.3161716\n",
      "    0.        ]\n",
      "  [ 0.          0.          0.8755133   0.54826075  0.22206903\n",
      "   -0.10771585]\n",
      "  [ 0.          0.          0.          1.0845782   0.\n",
      "    0.        ]\n",
      "  [ 0.          0.          0.          0.          0.\n",
      "    0.        ]]\n",
      "\n",
      " [[ 0.          0.          0.          0.          0.\n",
      "    0.        ]\n",
      "  [ 0.          0.          0.          0.          0.\n",
      "    0.        ]\n",
      "  [ 0.          0.         -0.20335384  0.51428866  1.2262044\n",
      "    0.        ]\n",
      "  [-1.4076827  -0.70104444  0.01787551  0.73175174  1.4439462\n",
      "    0.        ]\n",
      "  [ 0.          0.          0.          0.          0.\n",
      "    0.        ]\n",
      "  [ 0.          0.          0.          0.          0.\n",
      "    0.        ]]\n",
      "\n",
      " [[ 0.          0.          0.          0.          0.\n",
      "    0.        ]\n",
      "  [ 0.          0.          0.          0.          0.\n",
      "    0.        ]\n",
      "  [ 0.          0.          0.          0.          1.458119\n",
      "    0.        ]\n",
      "  [ 0.         -0.2714032   0.11285513  0.49538365  0.\n",
      "    0.        ]\n",
      "  [ 0.          0.         -0.46662652 -0.08276591  0.\n",
      "    0.        ]\n",
      "  [ 0.          0.          0.         -0.6599562   0.\n",
      "    0.        ]]]\n"
     ]
    }
   ],
   "source": [
    "print(t_rec[:5]-times_flat[:5,:,:,0])"
   ]
  },
  {
   "cell_type": "code",
   "execution_count": 26,
   "metadata": {},
   "outputs": [],
   "source": [
    "# new file\n",
    "h5f = '/home3/ivkhar/TA/data/MC/bundled/pr_q3_14yr_1745_0010_excl_sat_T_excl_geo_T_bundled.h5'"
   ]
  },
  {
   "cell_type": "code",
   "execution_count": 27,
   "metadata": {},
   "outputs": [
    {
     "name": "stdout",
     "output_type": "stream",
     "text": [
      "(173044, 15)\n"
     ]
    }
   ],
   "source": [
    "with h5.File(h5f,'r') as hf:\n",
    "    print(hf['recos'].shape)"
   ]
  },
  {
   "cell_type": "code",
   "execution_count": 28,
   "metadata": {},
   "outputs": [
    {
     "name": "stdout",
     "output_type": "stream",
     "text": [
      "[[ 0.     0.     0.     0.     0.     0.   ]\n",
      " [ 0.     0.     0.    -2.313 -4.545  0.   ]\n",
      " [ 0.     0.     1.186 -1.155 -3.481  0.   ]\n",
      " [ 0.     0.     2.256 -0.297  0.     0.   ]\n",
      " [ 0.     0.     3.27   0.     0.     0.   ]\n",
      " [ 0.     0.     0.     0.     0.     0.   ]]\n",
      "[[0.    0.    0.    0.    0.    0.   ]\n",
      " [0.    0.    0.    1.286 2.098 0.   ]\n",
      " [0.    0.    0.487 0.288 0.734 0.   ]\n",
      " [0.    0.    0.397 0.49  0.    0.   ]\n",
      " [0.    0.    0.583 0.    0.    0.   ]\n",
      " [0.    0.    0.    0.    0.    0.   ]]\n"
     ]
    }
   ],
   "source": [
    "with h5.File(h5f,'r') as hf:\n",
    "    print(hf['dt_bunlde'][0,:,:,-3])\n",
    "    print(hf['dt_bunlde'][0,:,:,-2])"
   ]
  },
  {
   "cell_type": "code",
   "execution_count": 31,
   "metadata": {},
   "outputs": [],
   "source": [
    "num = 640\n",
    "\n",
    "with h5.File(h5f,'r') as hf:\n",
    "    times_flat = hf['dt_bunlde'][:num,:,:,4:5] # in mks\n",
    "    times_diff = hf['dt_bunlde'][:num,:,:,5:6] # in mks\n",
    "    mask_in = hf['dt_bunlde'][:num,:,:,6:7]\n",
    "    real_coords = hf['dt_bunlde'][:num,:,:,:3]*1.2 # in km\n",
    "    qs_in = hf['dt_bunlde'][:num,:,:,3:4]\n",
    "    ev_params = hf['recos'][:num,:2]\n",
    "    \n",
    "mask_qs = np.where( np.logical_and(mask_in>0, qs_in>0), 1., 0. )"
   ]
  },
  {
   "cell_type": "code",
   "execution_count": 32,
   "metadata": {},
   "outputs": [
    {
     "data": {
      "text/plain": [
       "array([[ 0.   ,  0.   ,  0.   ,  0.   ,  0.   ,  0.   ],\n",
       "       [ 0.   ,  0.   ,  0.   , -2.313, -4.545,  0.   ],\n",
       "       [ 0.   ,  0.   ,  1.186, -1.155, -3.481,  0.   ],\n",
       "       [ 0.   ,  0.   ,  2.256, -0.297,  0.   ,  0.   ],\n",
       "       [ 0.   ,  0.   ,  3.27 ,  0.   ,  0.   ,  0.   ],\n",
       "       [ 0.   ,  0.   ,  0.   ,  0.   ,  0.   ,  0.   ]], dtype=float32)"
      ]
     },
     "execution_count": 32,
     "metadata": {},
     "output_type": "execute_result"
    }
   ],
   "source": [
    "times_flat[0,:,:,0]"
   ]
  },
  {
   "cell_type": "code",
   "execution_count": 21,
   "metadata": {},
   "outputs": [],
   "source": [
    "# set c=1, time in mks, distance in km\n",
    "time2dist = np.array([0.299792458], dtype=np.float32)\n",
    "\n",
    "times_flat *= time2dist\n",
    "times_diff *= time2dist\n",
    "\n",
    "times_reg = times_flat + times_diff"
   ]
  },
  {
   "cell_type": "code",
   "execution_count": 22,
   "metadata": {},
   "outputs": [],
   "source": [
    "theta_rub = ev_params[:num,0]/180*3.1415\n",
    "phi_rub = ev_params[:num,1]/180*3.1415"
   ]
  },
  {
   "cell_type": "code",
   "execution_count": 23,
   "metadata": {},
   "outputs": [],
   "source": [
    "nx = - np.sin(theta_rub)[:,np.newaxis,np.newaxis] * np.cos(phi_rub)[:,np.newaxis,np.newaxis]\n",
    "ny = - np.sin(theta_rub)[:,np.newaxis,np.newaxis] * np.sin(phi_rub)[:,np.newaxis,np.newaxis]\n",
    "nz = - np.cos(theta_rub)[:,np.newaxis,np.newaxis]\n",
    "a = np.concatenate((nx,ny,nz), axis=-1)\n",
    "a = np.expand_dims( a, axis=1 )\n",
    "\n",
    "t_rec = np.sum( a*real_coords[:,:,:,:3], axis=-1 )\n",
    "t_rec = t_rec*mask_in[:,:,:,0]"
   ]
  },
  {
   "cell_type": "code",
   "execution_count": 36,
   "metadata": {},
   "outputs": [
    {
     "data": {
      "text/plain": [
       "array([[ 0.       ,  0.       ,  0.       ,  0.       ,  0.       ,\n",
       "         0.       ],\n",
       "       [ 0.       ,  0.       ,  0.       , -2.3123114, -4.544444 ,\n",
       "         0.       ],\n",
       "       [ 0.       ,  0.       ,  1.1856357, -1.1551101, -3.480965 ,\n",
       "         0.       ],\n",
       "       [ 0.       ,  0.       ,  2.256193 , -0.2973976,  0.       ,\n",
       "         0.       ],\n",
       "       [ 0.       ,  0.       ,  3.269307 ,  0.       ,  0.       ,\n",
       "         0.       ],\n",
       "       [ 0.       ,  0.       ,  0.       ,  0.       ,  0.       ,\n",
       "         0.       ]], dtype=float32)"
      ]
     },
     "execution_count": 36,
     "metadata": {},
     "output_type": "execute_result"
    }
   ],
   "source": [
    "t_rec[0]/time2dist"
   ]
  },
  {
   "cell_type": "code",
   "execution_count": 34,
   "metadata": {},
   "outputs": [
    {
     "data": {
      "text/plain": [
       "array([[ 0.   ,  0.   ,  0.   ,  0.   ,  0.   ,  0.   ],\n",
       "       [ 0.   ,  0.   ,  0.   , -2.313, -4.545,  0.   ],\n",
       "       [ 0.   ,  0.   ,  1.186, -1.155, -3.481,  0.   ],\n",
       "       [ 0.   ,  0.   ,  2.256, -0.297,  0.   ,  0.   ],\n",
       "       [ 0.   ,  0.   ,  3.27 ,  0.   ,  0.   ,  0.   ],\n",
       "       [ 0.   ,  0.   ,  0.   ,  0.   ,  0.   ,  0.   ]], dtype=float32)"
      ]
     },
     "execution_count": 34,
     "metadata": {},
     "output_type": "execute_result"
    }
   ],
   "source": [
    "times_flat[0,:,:,0]"
   ]
  },
  {
   "cell_type": "code",
   "execution_count": 11,
   "metadata": {},
   "outputs": [
    {
     "name": "stdout",
     "output_type": "stream",
     "text": [
      "[[[ 0.00000000e+00  0.00000000e+00  0.00000000e+00  0.00000000e+00\n",
      "    0.00000000e+00  0.00000000e+00]\n",
      "  [ 0.00000000e+00  0.00000000e+00  0.00000000e+00  2.06470490e-04\n",
      "    1.66654587e-04  0.00000000e+00]\n",
      "  [ 0.00000000e+00  0.00000000e+00 -1.09225512e-04 -3.30209732e-05\n",
      "    1.04904175e-05  0.00000000e+00]\n",
      "  [ 0.00000000e+00  0.00000000e+00  5.78165054e-05 -1.19209290e-04\n",
      "    0.00000000e+00  0.00000000e+00]\n",
      "  [ 0.00000000e+00  0.00000000e+00 -2.07781792e-04  0.00000000e+00\n",
      "    0.00000000e+00  0.00000000e+00]\n",
      "  [ 0.00000000e+00  0.00000000e+00  0.00000000e+00  0.00000000e+00\n",
      "    0.00000000e+00  0.00000000e+00]]\n",
      "\n",
      " [[-0.00000000e+00 -0.00000000e+00 -0.00000000e+00 -0.00000000e+00\n",
      "   -0.00000000e+00 -0.00000000e+00]\n",
      "  [-0.00000000e+00 -0.00000000e+00  1.08480453e-04  1.12771988e-04\n",
      "   -0.00000000e+00 -0.00000000e+00]\n",
      "  [-0.00000000e+00 -0.00000000e+00  9.44733620e-06  6.66081905e-05\n",
      "   -0.00000000e+00 -0.00000000e+00]\n",
      "  [-0.00000000e+00 -0.00000000e+00  1.27285719e-04 -1.20699406e-04\n",
      "   -0.00000000e+00 -0.00000000e+00]\n",
      "  [-0.00000000e+00 -0.00000000e+00 -0.00000000e+00 -9.41753387e-05\n",
      "   -0.00000000e+00 -0.00000000e+00]\n",
      "  [-0.00000000e+00 -0.00000000e+00 -0.00000000e+00 -0.00000000e+00\n",
      "   -0.00000000e+00 -0.00000000e+00]]\n",
      "\n",
      " [[-0.00000000e+00 -0.00000000e+00 -0.00000000e+00 -0.00000000e+00\n",
      "   -0.00000000e+00 -0.00000000e+00]\n",
      "  [-0.00000000e+00 -0.00000000e+00 -0.00000000e+00 -0.00000000e+00\n",
      "   -0.00000000e+00 -0.00000000e+00]\n",
      "  [-0.00000000e+00  1.14068389e-04 -4.05088067e-05  7.35446811e-05\n",
      "   -0.00000000e+00 -0.00000000e+00]\n",
      "  [-0.00000000e+00 -0.00000000e+00  1.30072236e-04 -5.90384007e-05\n",
      "   -0.00000000e+00 -0.00000000e+00]\n",
      "  [-0.00000000e+00 -1.02385879e-04 -1.07459724e-04 -0.00000000e+00\n",
      "   -0.00000000e+00 -0.00000000e+00]\n",
      "  [-0.00000000e+00 -0.00000000e+00 -0.00000000e+00 -0.00000000e+00\n",
      "   -0.00000000e+00 -0.00000000e+00]]\n",
      "\n",
      " [[ 0.00000000e+00  0.00000000e+00  0.00000000e+00  0.00000000e+00\n",
      "    0.00000000e+00  0.00000000e+00]\n",
      "  [ 0.00000000e+00  0.00000000e+00 -9.46745276e-05  0.00000000e+00\n",
      "    2.88784504e-05  0.00000000e+00]\n",
      "  [ 0.00000000e+00 -1.01491809e-04 -1.31037086e-04 -1.06811523e-04\n",
      "   -1.29550695e-04  0.00000000e+00]\n",
      "  [ 0.00000000e+00  1.23262405e-04 -1.42160803e-04 -1.46811828e-04\n",
      "    0.00000000e+00  0.00000000e+00]\n",
      "  [ 0.00000000e+00  0.00000000e+00  0.00000000e+00  0.00000000e+00\n",
      "    0.00000000e+00  0.00000000e+00]\n",
      "  [ 0.00000000e+00  0.00000000e+00  0.00000000e+00  0.00000000e+00\n",
      "    0.00000000e+00  0.00000000e+00]]\n",
      "\n",
      " [[ 0.00000000e+00  0.00000000e+00  0.00000000e+00 -9.56356525e-05\n",
      "    0.00000000e+00  0.00000000e+00]\n",
      "  [ 0.00000000e+00  0.00000000e+00 -2.50041485e-05  0.00000000e+00\n",
      "    0.00000000e+00  0.00000000e+00]\n",
      "  [ 0.00000000e+00  1.16303563e-04  1.26063824e-04  9.11056995e-05\n",
      "    0.00000000e+00  0.00000000e+00]\n",
      "  [ 0.00000000e+00  0.00000000e+00  6.31511211e-05  8.35731626e-05\n",
      "   -1.40815973e-05  0.00000000e+00]\n",
      "  [ 0.00000000e+00  0.00000000e+00  0.00000000e+00  0.00000000e+00\n",
      "    0.00000000e+00  0.00000000e+00]\n",
      "  [ 0.00000000e+00  0.00000000e+00  0.00000000e+00  0.00000000e+00\n",
      "    0.00000000e+00  0.00000000e+00]]]\n"
     ]
    }
   ],
   "source": [
    "# first is bug\n",
    "print(t_rec[:5]-times_flat[:5,:,:,0])"
   ]
  },
  {
   "cell_type": "code",
   "execution_count": 12,
   "metadata": {},
   "outputs": [
    {
     "name": "stdout",
     "output_type": "stream",
     "text": [
      "0.00024694204\n"
     ]
    }
   ],
   "source": [
    "print(np.amax(t_rec[:25]-times_flat[:25,:,:,0]))"
   ]
  },
  {
   "cell_type": "code",
   "execution_count": 13,
   "metadata": {},
   "outputs": [],
   "source": [
    "nx = - np.sin(theta_rub)[:,np.newaxis,np.newaxis] * np.cos(phi_rub)[:,np.newaxis,np.newaxis]\n",
    "ny = - np.sin(theta_rub)[:,np.newaxis,np.newaxis] * np.sin(phi_rub)[:,np.newaxis,np.newaxis]\n",
    "a = np.concatenate((nx,ny), axis=-1)\n",
    "a = np.expand_dims( a, axis=1 )\n",
    "\n",
    "t_rec = np.sum( a*real_coords[:,:,:,:2], axis=-1 )\n",
    "t_rec = t_rec*mask_in[:,:,:,0]"
   ]
  },
  {
   "cell_type": "code",
   "execution_count": 14,
   "metadata": {},
   "outputs": [
    {
     "name": "stdout",
     "output_type": "stream",
     "text": [
      "0.06258309\n"
     ]
    }
   ],
   "source": [
    "# first is bug\n",
    "print(np.amax(t_rec[:25]-times_flat[:25,:,:,0]))"
   ]
  },
  {
   "cell_type": "code",
   "execution_count": 16,
   "metadata": {},
   "outputs": [
    {
     "data": {
      "text/plain": [
       "array([[ 0.        ,  0.        ,  0.        ,  0.        ,  0.        ,\n",
       "         0.        ],\n",
       "       [ 0.        ,  0.        ,  0.        , -0.64871275, -1.3180323 ,\n",
       "         0.        ],\n",
       "       [ 0.        ,  0.        ,  0.37349838, -0.31838965, -1.0108697 ,\n",
       "         0.        ],\n",
       "       [ 0.        ,  0.        ,  0.6887644 , -0.06813286,  0.        ,\n",
       "         0.        ],\n",
       "       [ 0.        ,  0.        ,  0.98660135,  0.        ,  0.        ,\n",
       "         0.        ],\n",
       "       [ 0.        ,  0.        ,  0.        ,  0.        ,  0.        ,\n",
       "         0.        ]], dtype=float32)"
      ]
     },
     "execution_count": 16,
     "metadata": {},
     "output_type": "execute_result"
    }
   ],
   "source": [
    "t_rec[0,:,:]"
   ]
  },
  {
   "cell_type": "code",
   "execution_count": 17,
   "metadata": {},
   "outputs": [
    {
     "data": {
      "text/plain": [
       "array([[ 0.        ,  0.        ,  0.        ,  0.        ,  0.        ,\n",
       "         0.        ],\n",
       "       [ 0.        ,  0.        ,  0.        , -0.69342   , -1.3625568 ,\n",
       "         0.        ],\n",
       "       [ 0.        ,  0.        ,  0.35555387, -0.34626028, -1.0435776 ,\n",
       "         0.        ],\n",
       "       [ 0.        ,  0.        ,  0.6763318 , -0.08903836,  0.        ,\n",
       "         0.        ],\n",
       "       [ 0.        ,  0.        ,  0.98032135,  0.        ,  0.        ,\n",
       "         0.        ],\n",
       "       [ 0.        ,  0.        ,  0.        ,  0.        ,  0.        ,\n",
       "         0.        ]], dtype=float32)"
      ]
     },
     "execution_count": 17,
     "metadata": {},
     "output_type": "execute_result"
    }
   ],
   "source": [
    "times_flat[0,:,:,0]"
   ]
  },
  {
   "cell_type": "code",
   "execution_count": 19,
   "metadata": {},
   "outputs": [
    {
     "name": "stdout",
     "output_type": "stream",
     "text": [
      "tf.Tensor(\n",
      "[[[ 0.          0.          0.          0.          0.\n",
      "    0.        ]\n",
      "  [ 0.          0.          0.          0.          0.\n",
      "    0.        ]\n",
      "  [ 0.          0.          0.         -1.0771543  -1.6716429\n",
      "    0.        ]\n",
      "  [ 0.          0.          0.09743255 -0.5138443  -1.1236222\n",
      "    0.        ]\n",
      "  [ 0.          0.          0.         -0.03747406  0.\n",
      "    0.        ]\n",
      "  [ 0.          0.          1.1667924   0.          0.\n",
      "    0.        ]]\n",
      "\n",
      " [[ 0.          0.          0.          0.          0.\n",
      "    0.        ]\n",
      "  [ 0.          0.          0.          0.          0.\n",
      "    0.        ]\n",
      "  [ 0.          0.          0.         -0.49915445  0.\n",
      "    0.        ]\n",
      "  [ 0.          0.         -0.6946192  -0.18587133  0.533031\n",
      "    0.        ]\n",
      "  [ 0.          0.         -0.56720734  0.14749789  0.8604044\n",
      "    0.        ]\n",
      "  [ 0.          0.          0.          0.          0.\n",
      "    0.        ]]\n",
      "\n",
      " [[ 0.          0.          0.          0.          0.\n",
      "    0.        ]\n",
      "  [ 0.          0.          0.          0.          0.\n",
      "    0.        ]\n",
      "  [ 0.          0.          0.          0.35555387  0.04916597\n",
      "    0.        ]\n",
      "  [ 0.          0.         -0.00989315 -0.31987855 -0.628365\n",
      "   -0.93475294]\n",
      "  [ 0.          0.          0.         -0.99411184  0.\n",
      "    0.        ]\n",
      "  [ 0.          0.          0.          0.          0.\n",
      "    0.        ]]\n",
      "\n",
      " [[ 0.          0.          0.          0.          0.\n",
      "    0.        ]\n",
      "  [ 0.          0.          0.          0.          0.\n",
      "    0.        ]\n",
      "  [ 0.          0.          0.14270122 -0.60677993 -1.3484665\n",
      "    0.        ]\n",
      "  [ 1.5894997   0.8505112   0.10522716 -0.6439542  -1.3832424\n",
      "    0.        ]\n",
      "  [ 0.          0.          0.          0.          0.\n",
      "    0.        ]\n",
      "  [ 0.          0.          0.          0.          0.\n",
      "    0.        ]]\n",
      "\n",
      " [[ 0.          0.          0.          0.          0.\n",
      "    0.        ]\n",
      "  [ 0.          0.          0.          0.          0.\n",
      "    0.        ]\n",
      "  [ 0.          0.          0.          0.         -1.7918596\n",
      "    0.        ]\n",
      "  [ 0.          0.46527788 -0.08664002 -0.6478515   0.\n",
      "    0.        ]\n",
      "  [ 0.          0.          0.49405798 -0.06445538  0.\n",
      "    0.        ]\n",
      "  [ 0.          0.          0.          0.5237375   0.\n",
      "    0.        ]]\n",
      "\n",
      " [[ 0.          0.          0.          0.          0.\n",
      "    0.        ]\n",
      "  [ 0.          0.          0.          0.          0.\n",
      "    0.        ]\n",
      "  [ 0.          0.          0.         -0.931755   -0.16458605\n",
      "    0.        ]\n",
      "  [ 0.          0.          0.         -1.3403722  -0.5932893\n",
      "    0.16158813]\n",
      "  [ 0.          0.         -2.5353448  -1.757983    0.\n",
      "    0.        ]\n",
      "  [ 0.          0.         -2.923876    0.          0.\n",
      "    0.        ]]\n",
      "\n",
      " [[ 0.          0.          0.          0.          0.\n",
      "    0.        ]\n",
      "  [ 0.          0.          0.         -0.8565071   0.\n",
      "    0.        ]\n",
      "  [ 0.          0.         -0.5090476  -0.30099162  0.\n",
      "    0.        ]\n",
      "  [ 0.          0.          0.07914521  0.26441696  0.50545007\n",
      "    0.        ]\n",
      "  [ 0.          0.          0.          0.88648635  1.1074334\n",
      "    0.        ]\n",
      "  [ 0.          0.          0.          0.          0.\n",
      "    0.        ]]\n",
      "\n",
      " [[ 0.          0.          0.          0.          0.\n",
      "    0.        ]\n",
      "  [ 0.          0.          0.          0.          0.\n",
      "    0.        ]\n",
      "  [ 0.          0.          0.79684836  0.5926897   0.\n",
      "    0.        ]\n",
      "  [ 0.          0.382835    0.18557154 -0.02368361  0.\n",
      "    0.        ]\n",
      "  [ 0.          0.          0.         -0.6379584  -0.84541476\n",
      "    0.        ]\n",
      "  [ 0.          0.          0.          0.          0.\n",
      "    0.        ]]\n",
      "\n",
      " [[ 0.          0.          0.          0.          0.\n",
      "    0.        ]\n",
      "  [ 0.          0.          0.          0.          0.\n",
      "    0.        ]\n",
      "  [ 0.          0.          0.         -0.6169729   0.\n",
      "    0.        ]\n",
      "  [ 0.          0.8448152   0.23893459 -0.35345533 -0.9521409\n",
      "    0.        ]\n",
      "  [ 0.          1.1077331   0.50814825 -0.10192944  0.\n",
      "    0.        ]\n",
      "  [ 0.          0.          0.          0.          0.\n",
      "    0.        ]]\n",
      "\n",
      " [[ 0.          0.          0.          0.          0.\n",
      "    0.        ]\n",
      "  [ 0.          0.          0.          0.          0.\n",
      "    0.        ]\n",
      "  [ 0.          0.          0.22184643 -0.38823125  0.\n",
      "    0.        ]\n",
      "  [ 0.          0.          0.12501346 -0.48116693 -1.0861481\n",
      "    0.        ]\n",
      "  [ 0.          0.          0.02518257 -0.5785995   0.\n",
      "    0.        ]\n",
      "  [ 0.          0.          0.          0.          0.\n",
      "    0.        ]]], shape=(10, 6, 6), dtype=float32)\n"
     ]
    }
   ],
   "source": [
    "print(times_flat[:10,:,:,0])"
   ]
  },
  {
   "cell_type": "code",
   "execution_count": 153,
   "metadata": {},
   "outputs": [
    {
     "name": "stdout",
     "output_type": "stream",
     "text": [
      "[    0     1     2     3     4     5     6   587   588   589   590   591\n",
      "   592   593   631   632   633   634   635   636   637   638   639  1029\n",
      "  1030  1031  1032  1033  1034  1035  1036  1202  1203  1204  1205  1206\n",
      "  1207  1208  1209  1579  1580  1581  1582  1583  1584  2200  2201  2202\n",
      "  2203  2204  2205  2206  2241  2242  2243  2244  2245  2246  2407  2408\n",
      "  2409  2410  2411  2412  2413  2595  2596  2597  2598  2599  2600  2601\n",
      "  2646  2647  2648  2649  2650  2651  2652  2989  2990  2991  2992  2993\n",
      "  2994  3183  3184  3185  3186  3187  3188  3189  3316  3317  3318  3319\n",
      "  3320  3321  3322  3344  3345  3346  3347  3348  3349  3350  3381  3382\n",
      "  3383  3384  3385  3386  3387  3388  3498  3499  3500  3501  3502  3503\n",
      "  3504  3570  3571  3572  3573  3574  3575  3576  3693  3694  3695  3696\n",
      "  3697  4224  4225  4226  4227  4228  4229  4321  4322  4323  4324  4325\n",
      "  4326  4327  4394  4395  4396  4397  4398  4399  4400  5311  5312  5313\n",
      "  5314  5315  5316  5317  5318  5319  5685  5686  5687  5688  5689  5690\n",
      "  5811  5812  5813  5814  5815  5816  5817  5818  5819  6063  6064  6065\n",
      "  6066  6067  6068  6145  6146  6147  6148  6149  6150  6238  6239  6240\n",
      "  6241  6242  6243  6244  7101  7102  7103  7104  7105  7106  7107  7127\n",
      "  7128  7129  7130  7131  7132  8078  8079  8080  8081  8082  8083  8133\n",
      "  8134  8135  8136  8137  8138  8139  8186  8187  8188  8189  8190  8191\n",
      "  8780  8781  8782  8783  8784  8785  8891  8892  8893  8894  8895  8896\n",
      "  8897  8913  8914  8915  8916  8917  8918  8919  9267  9268  9269  9270\n",
      "  9271  9272  9273  9365  9366  9367  9368  9369  9370  9559  9560  9561\n",
      "  9562  9563  9564  9565  9607  9608  9609  9610  9611  9612  9613  9708\n",
      "  9709  9710  9711  9712  9713  9714  9715  9758  9759  9760  9761  9762\n",
      "  9763 10191 10192 10193 10194 10195 10196 10279 10355 10356 10357 10358\n",
      " 10359 10360 10361 10621 10622 10623 10624 10625 10626 10627 11236 11237\n",
      " 11238 11239 11240 11241 11447 11448 11449 11450 11451 11452 11453 11935\n",
      " 11936 11937 11938 11939 11940 11941 11942 11943 11944 11945 11946 11947\n",
      " 12104 12105 12106 12107 12108 12109 12110 12668 12669 12670 12671 12672\n",
      " 12673 12873 12874 12875 12876 12877 12878 12879 13326 13327 13328 13329\n",
      " 13330 13331 13332 13741 13742 13743 13744 13745 13828 13829 13830 13831\n",
      " 13832 13833 13834 14464 14465 14466 14467 14468 14469 14543 14544 14545\n",
      " 14546 14547 14548 14549 14853 14854 14855 14856 14857 15300 15301 15302\n",
      " 15303 15304 15305 15632 15633 15634 15635 15636 15637 15758 15759 15760\n",
      " 15761 15762 15763 15764 15765 16090 17218 17219 17220 17221 17222 17223\n",
      " 17224 17225 17439 17440 17441 17442 17443 17444 17917 17918 17919 17920\n",
      " 17921 17922 17923 17924 18004 18005 18006 18007 18008 18180 18181 18182\n",
      " 18183 18184 18185 18313 18372 18373 18374 18375 18376 18377 18522 18523\n",
      " 18524 18525 18526 18527 18528 18641 18642 18643 18644 18645 18646 18647\n",
      " 18648 19417 19418 19419 19420 19421 19422 19423 19637 19638 19639 19640\n",
      " 19641 19642 19643 19682 19683 19684 19685 19686 19687 19688 19689 19775\n",
      " 19776 19777 19778 19779 19780 19781 20019 20020]\n"
     ]
    }
   ],
   "source": [
    "print( np.nonzero(np.abs(times_flat[mask_qs.numpy().astype(bool)])<1e-3)[0][:500] )"
   ]
  },
  {
   "cell_type": "code",
   "execution_count": 147,
   "metadata": {},
   "outputs": [
    {
     "data": {
      "text/plain": [
       "array([[[[False],\n",
       "         [False],\n",
       "         [False],\n",
       "         [False],\n",
       "         [False],\n",
       "         [False]],\n",
       "\n",
       "        [[False],\n",
       "         [False],\n",
       "         [False],\n",
       "         [False],\n",
       "         [False],\n",
       "         [False]],\n",
       "\n",
       "        [[False],\n",
       "         [False],\n",
       "         [False],\n",
       "         [ True],\n",
       "         [False],\n",
       "         [False]],\n",
       "\n",
       "        [[False],\n",
       "         [False],\n",
       "         [ True],\n",
       "         [ True],\n",
       "         [False],\n",
       "         [False]],\n",
       "\n",
       "        [[ True],\n",
       "         [ True],\n",
       "         [ True],\n",
       "         [False],\n",
       "         [False],\n",
       "         [False]],\n",
       "\n",
       "        [[False],\n",
       "         [ True],\n",
       "         [False],\n",
       "         [False],\n",
       "         [False],\n",
       "         [False]]],\n",
       "\n",
       "\n",
       "       [[[False],\n",
       "         [False],\n",
       "         [False],\n",
       "         [False],\n",
       "         [False],\n",
       "         [False]],\n",
       "\n",
       "        [[False],\n",
       "         [False],\n",
       "         [False],\n",
       "         [False],\n",
       "         [False],\n",
       "         [False]],\n",
       "\n",
       "        [[False],\n",
       "         [False],\n",
       "         [ True],\n",
       "         [ True],\n",
       "         [False],\n",
       "         [False]],\n",
       "\n",
       "        [[False],\n",
       "         [ True],\n",
       "         [ True],\n",
       "         [ True],\n",
       "         [ True],\n",
       "         [False]],\n",
       "\n",
       "        [[False],\n",
       "         [False],\n",
       "         [False],\n",
       "         [ True],\n",
       "         [False],\n",
       "         [False]],\n",
       "\n",
       "        [[False],\n",
       "         [False],\n",
       "         [False],\n",
       "         [False],\n",
       "         [False],\n",
       "         [False]]],\n",
       "\n",
       "\n",
       "       [[[False],\n",
       "         [False],\n",
       "         [False],\n",
       "         [False],\n",
       "         [False],\n",
       "         [False]],\n",
       "\n",
       "        [[False],\n",
       "         [False],\n",
       "         [ True],\n",
       "         [ True],\n",
       "         [False],\n",
       "         [False]],\n",
       "\n",
       "        [[False],\n",
       "         [ True],\n",
       "         [ True],\n",
       "         [False],\n",
       "         [ True],\n",
       "         [False]],\n",
       "\n",
       "        [[False],\n",
       "         [False],\n",
       "         [ True],\n",
       "         [ True],\n",
       "         [False],\n",
       "         [False]],\n",
       "\n",
       "        [[False],\n",
       "         [False],\n",
       "         [False],\n",
       "         [False],\n",
       "         [False],\n",
       "         [False]],\n",
       "\n",
       "        [[False],\n",
       "         [False],\n",
       "         [False],\n",
       "         [False],\n",
       "         [False],\n",
       "         [False]]],\n",
       "\n",
       "\n",
       "       ...,\n",
       "\n",
       "\n",
       "       [[[False],\n",
       "         [False],\n",
       "         [False],\n",
       "         [False],\n",
       "         [False],\n",
       "         [False]],\n",
       "\n",
       "        [[False],\n",
       "         [False],\n",
       "         [False],\n",
       "         [ True],\n",
       "         [ True],\n",
       "         [False]],\n",
       "\n",
       "        [[False],\n",
       "         [False],\n",
       "         [False],\n",
       "         [ True],\n",
       "         [ True],\n",
       "         [False]],\n",
       "\n",
       "        [[False],\n",
       "         [False],\n",
       "         [ True],\n",
       "         [ True],\n",
       "         [ True],\n",
       "         [ True]],\n",
       "\n",
       "        [[False],\n",
       "         [False],\n",
       "         [False],\n",
       "         [False],\n",
       "         [ True],\n",
       "         [False]],\n",
       "\n",
       "        [[False],\n",
       "         [False],\n",
       "         [False],\n",
       "         [False],\n",
       "         [False],\n",
       "         [False]]],\n",
       "\n",
       "\n",
       "       [[[False],\n",
       "         [False],\n",
       "         [False],\n",
       "         [False],\n",
       "         [False],\n",
       "         [False]],\n",
       "\n",
       "        [[False],\n",
       "         [False],\n",
       "         [ True],\n",
       "         [ True],\n",
       "         [False],\n",
       "         [False]],\n",
       "\n",
       "        [[False],\n",
       "         [ True],\n",
       "         [False],\n",
       "         [ True],\n",
       "         [False],\n",
       "         [False]],\n",
       "\n",
       "        [[False],\n",
       "         [ True],\n",
       "         [ True],\n",
       "         [False],\n",
       "         [False],\n",
       "         [False]],\n",
       "\n",
       "        [[False],\n",
       "         [False],\n",
       "         [False],\n",
       "         [False],\n",
       "         [False],\n",
       "         [False]],\n",
       "\n",
       "        [[False],\n",
       "         [False],\n",
       "         [False],\n",
       "         [False],\n",
       "         [False],\n",
       "         [False]]],\n",
       "\n",
       "\n",
       "       [[[False],\n",
       "         [False],\n",
       "         [False],\n",
       "         [False],\n",
       "         [False],\n",
       "         [False]],\n",
       "\n",
       "        [[False],\n",
       "         [False],\n",
       "         [False],\n",
       "         [False],\n",
       "         [False],\n",
       "         [False]],\n",
       "\n",
       "        [[False],\n",
       "         [False],\n",
       "         [ True],\n",
       "         [ True],\n",
       "         [False],\n",
       "         [False]],\n",
       "\n",
       "        [[False],\n",
       "         [ True],\n",
       "         [ True],\n",
       "         [ True],\n",
       "         [False],\n",
       "         [False]],\n",
       "\n",
       "        [[False],\n",
       "         [False],\n",
       "         [ True],\n",
       "         [ True],\n",
       "         [False],\n",
       "         [False]],\n",
       "\n",
       "        [[False],\n",
       "         [False],\n",
       "         [False],\n",
       "         [False],\n",
       "         [False],\n",
       "         [False]]]])"
      ]
     },
     "execution_count": 147,
     "metadata": {},
     "output_type": "execute_result"
    }
   ],
   "source": [
    "mask_qs.numpy().astype(bool)"
   ]
  },
  {
   "cell_type": "code",
   "execution_count": null,
   "metadata": {},
   "outputs": [],
   "source": []
  },
  {
   "cell_type": "code",
   "execution_count": 15,
   "metadata": {},
   "outputs": [],
   "source": [
    "h5f = '/home3/ivkhar/TA/data/MC/h5s/pr_q3_14yr_1745.h5'"
   ]
  },
  {
   "cell_type": "code",
   "execution_count": 16,
   "metadata": {},
   "outputs": [],
   "source": [
    "num = 500000\n",
    "\n",
    "\n",
    "with h5.File(h5f,'r') as hf:\n",
    "    times_flat = hf['dt_params'][:,4] # in mks\n",
    "    #times_diff = hf['dt_params'][:num,5] # in mks\n",
    "    #ev_params = hf['reco_rubtsov'][:num,:2]"
   ]
  },
  {
   "cell_type": "code",
   "execution_count": 18,
   "metadata": {},
   "outputs": [
    {
     "name": "stdout",
     "output_type": "stream",
     "text": [
      "[  4620   5124  16435  23650  30243  30638  33618  33619  34541  37302\n",
      "  37392  38784  38785  39189  40883  44240  46453  48532  48533  50034\n",
      "  50035  53795  58457  62120  68003  68004  76178  78352  83708  84551\n",
      "  87362  90198  91403  97253 103130 103131 113557 116109 123799 123983\n",
      " 131840 138075 140434 144031 144032 147528 156763 163629 167222 168197\n",
      " 171641 172843 172954 175430 177042 177043 178175 179548 180103 187117\n",
      " 187118 199469 204213 204406 208591 211685 215986 216041 219343 222978\n",
      " 223898 226373 229240 230117 231736 236682 248708 249173 250434 256368\n",
      " 256369 258599 268116 268292 274939 286459 289882 291122 292446 299792\n",
      " 299891 310433 311911 312043 317881 317882 326775 329306 340100 341887]\n"
     ]
    }
   ],
   "source": [
    "#print(times_flat[:1000])\n",
    "print( np.nonzero( np.abs(times_flat)<1e-4 )[0][:100] )"
   ]
  },
  {
   "cell_type": "code",
   "execution_count": 19,
   "metadata": {},
   "outputs": [
    {
     "name": "stdout",
     "output_type": "stream",
     "text": [
      "-0.16\n",
      "-0.0\n",
      "-0.0\n",
      "0.278\n"
     ]
    }
   ],
   "source": [
    "print( times_flat[33617] )\n",
    "print( times_flat[33618] )\n",
    "print( times_flat[33619] )\n",
    "print( times_flat[33620] )"
   ]
  },
  {
   "cell_type": "code",
   "execution_count": 23,
   "metadata": {},
   "outputs": [
    {
     "data": {
      "text/plain": [
       "array([-1.624e-06,  2.730e-07,  1.806e-06, -2.328e-06, -3.020e-07,\n",
       "        1.407e-06, -2.154e-06, -1.668e-06, -1.970e-07,  1.692e-06],\n",
       "      dtype=float32)"
      ]
     },
     "execution_count": 23,
     "metadata": {},
     "output_type": "execute_result"
    }
   ],
   "source": [
    "times_flat[-10:]"
   ]
  },
  {
   "cell_type": "code",
   "execution_count": 2,
   "metadata": {},
   "outputs": [],
   "source": [
    "h5f = '/home3/ivkhar/TA/data/MC/merged/test_1745.h5'"
   ]
  },
  {
   "cell_type": "code",
   "execution_count": 3,
   "metadata": {},
   "outputs": [],
   "source": [
    "num = 500000\n",
    "\n",
    "with h5.File(h5f,'r') as hf:\n",
    "    times_flat = hf['dt_params'][:num,4] # in mks\n",
    "    #times_diff = hf['dt_params'][:num,5] # in mks\n",
    "    #ev_params = hf['reco_rubtsov'][:num,:2]"
   ]
  },
  {
   "cell_type": "code",
   "execution_count": 4,
   "metadata": {},
   "outputs": [
    {
     "name": "stdout",
     "output_type": "stream",
     "text": [
      "[308 309 310 311 312 313 314 315 316 433 434 435 436 437 438 439 440 441\n",
      " 442 443 444 518 519 520 521 522 523 524 525 526]\n"
     ]
    }
   ],
   "source": [
    "#print(times_flat[:1000])\n",
    "print( np.nonzero( np.abs(times_flat)<1e-4 )[0][:30] )"
   ]
  },
  {
   "cell_type": "code",
   "execution_count": 6,
   "metadata": {},
   "outputs": [
    {
     "name": "stdout",
     "output_type": "stream",
     "text": [
      "-7.675e-06\n",
      "-5.191e-06\n",
      "-8.51e-07\n"
     ]
    }
   ],
   "source": [
    "print( times_flat[308] )\n",
    "print( times_flat[309] )\n",
    "print( times_flat[310] )"
   ]
  },
  {
   "cell_type": "code",
   "execution_count": 238,
   "metadata": {},
   "outputs": [
    {
     "name": "stdout",
     "output_type": "stream",
     "text": [
      "-0.0\n",
      "-0.0\n"
     ]
    }
   ],
   "source": [
    "print( times_flat[11447] )\n",
    "print( times_flat[11448] )"
   ]
  },
  {
   "cell_type": "code",
   "execution_count": null,
   "metadata": {},
   "outputs": [],
   "source": []
  },
  {
   "cell_type": "code",
   "execution_count": null,
   "metadata": {},
   "outputs": [],
   "source": []
  },
  {
   "cell_type": "code",
   "execution_count": 32,
   "metadata": {},
   "outputs": [],
   "source": [
    "num = 640\n",
    "\n",
    "with h5.File(h5f,'r') as hf:\n",
    "    times_flat = hf['dt_params'][:num,4] # in mks\n",
    "    ids = hf['ev_ids'][:num,2]\n",
    "    ev_starts = hf['ev_starts'][:num]\n",
    "    \n",
    "bads = np.nonzero( np.abs(times_flat)<1e-4 )"
   ]
  },
  {
   "cell_type": "code",
   "execution_count": 33,
   "metadata": {},
   "outputs": [
    {
     "name": "stdout",
     "output_type": "stream",
     "text": [
      "(array([119, 120, 121, 122, 123, 124, 125, 126, 401, 402, 403, 404, 405,\n",
      "       406, 407, 417, 418, 419, 420, 421, 422, 423, 441, 442, 443, 444,\n",
      "       445, 446, 447, 448, 449, 450, 451, 452, 453, 454, 455, 456, 457,\n",
      "       458, 459, 460, 461, 462, 526, 527, 528, 529, 530, 531, 532, 533,\n",
      "       575, 576, 577, 578, 579, 580, 616, 617, 618, 619, 620, 621, 622]),)\n",
      "[   0   12   18   27   35   43   58   65   74   81   89   95  103  111\n",
      "  119  127  136  149  157  163  170  180  187  194  204  212  220  230\n",
      "  242  250  256  264  270  276  282  293  304  314  323  330  339  346\n",
      "  354  361  371  380  388  395  401  408  417  424  433  441  452  463\n",
      "  472  480  488  499  508  518  526  534  542  548  559  566  575  581\n",
      "  590  598  610  616  623  630  637  647  661  669  682  691  698  707\n",
      "  714  724  731  739  747  758  766  775  783  792  802  809  818  828\n",
      "  836  844  852  859  866  877  885  896  906  915  925  931  940  949\n",
      "  957  965  972  981  988 1000 1009 1016 1023 1030 1038 1044 1054 1060\n",
      " 1068 1076 1089 1097 1110 1122 1129 1138 1148 1159 1171 1178 1184 1190\n",
      " 1201 1209 1219 1226 1234 1242 1252 1259 1274 1281 1289 1301 1308 1315\n",
      " 1327 1334 1341 1351 1360 1371 1380 1391 1400 1407 1419 1430 1437 1445\n",
      " 1453 1463 1473 1479 1490 1500 1509 1518 1530 1538 1548 1559 1573 1580\n",
      " 1588 1597 1603 1612 1618 1625 1631 1640 1653 1660 1669 1678 1684 1691\n",
      " 1699 1705 1713 1728 1735 1743 1753 1765 1774 1781 1787 1794 1801 1808\n",
      " 1815 1824 1830 1838 1848 1855 1861 1867 1877 1884 1892 1898 1906 1918\n",
      " 1928 1938 1944 1959 1965 1972 1982 1993 2003 2015 2023 2034 2042 2054\n",
      " 2064 2076 2088 2097 2109 2121 2135 2147 2155 2162 2171 2178 2186 2196\n",
      " 2204 2213 2225 2236 2243 2255 2261 2268 2275 2284 2293 2301 2308 2323\n",
      " 2329 2336 2344 2351 2357 2364 2373 2383 2391 2399 2411 2419 2433 2440\n",
      " 2447 2453 2460 2470 2477 2490 2497 2513 2521 2531 2539 2545 2551 2562\n",
      " 2575 2582 2592 2603 2612 2624 2631 2643 2652 2667 2675 2682 2696 2709\n",
      " 2716 2725 2735 2742 2749 2757 2764 2778 2789 2795 2813 2821 2832 2844\n",
      " 2849 2856 2867 2875 2885 2892 2902 2916 2923 2934 2944 2951 2964 2970\n",
      " 2982 2990 3001 3010 3018 3027 3035 3041 3054 3065 3076 3087 3098 3109\n",
      " 3119 3126 3132 3141 3151 3160 3167 3174 3182 3188 3197 3206 3213 3219\n",
      " 3230 3239 3248 3257 3269 3279 3291 3298 3305 3312 3321 3330 3337 3345\n",
      " 3352 3361 3368 3375 3383 3390 3401 3411 3418 3427 3439 3448 3455 3464\n",
      " 3472 3483 3491 3500 3512 3520 3533 3543 3550 3559 3566 3574 3581 3589\n",
      " 3596 3607 3621 3628 3634 3646 3654 3661 3674 3682 3693 3701 3712 3723\n",
      " 3728 3735 3742 3749 3757 3765 3778 3786 3793 3801 3809 3819 3829 3836\n",
      " 3845 3857 3870 3877 3883 3891 3900 3910 3918 3925 3931 3938 3948 3962\n",
      " 3972 3985 3999 4005 4012 4020 4027 4035 4042 4051 4059 4069 4076 4085\n",
      " 4092 4102 4109 4123 4132 4144 4150 4158 4172 4180 4194 4201 4211 4218\n",
      " 4225 4233 4242 4254 4259 4266 4274 4282 4291 4298 4307 4313 4321 4332\n",
      " 4339 4346 4354 4363 4372 4384 4390 4397 4405 4412 4419 4425 4431 4437\n",
      " 4445 4454 4472 4484 4493 4504 4516 4525 4538 4545 4553 4568 4575 4586\n",
      " 4597 4608 4614 4623 4631 4640 4653 4660 4667 4674 4682 4688 4699 4705\n",
      " 4713 4726 4738 4747 4756 4763 4772 4779 4787 4796 4807 4817 4824 4834\n",
      " 4842 4852 4864 4872 4881 4887 4895 4902 4913 4925 4938 4951 4958 4968\n",
      " 4978 4985 4991 5004 5011 5018 5024 5030 5037 5043 5054 5060 5069 5077\n",
      " 5084 5093 5104 5111 5119 5131 5140 5151 5159 5173 5182 5190 5199 5206\n",
      " 5212 5220 5227 5236 5243 5250 5264 5270 5280 5290 5300 5314 5328 5339\n",
      " 5345 5354 5363 5371 5380 5389 5398 5407 5413 5424 5433 5445 5453 5459\n",
      " 5470 5482 5489 5496 5502 5511 5521 5527 5534 5547 5554 5564 5573 5581\n",
      " 5589 5598 5606 5616 5622 5629 5637 5648 5655 5664]\n"
     ]
    }
   ],
   "source": [
    "print(bads)\n",
    "print(ev_starts)"
   ]
  },
  {
   "cell_type": "code",
   "execution_count": 42,
   "metadata": {},
   "outputs": [
    {
     "name": "stdout",
     "output_type": "stream",
     "text": [
      "[0. 0.]\n"
     ]
    }
   ],
   "source": [
    "print(ids[[14,48]])"
   ]
  },
  {
   "cell_type": "code",
   "execution_count": null,
   "metadata": {},
   "outputs": [],
   "source": []
  },
  {
   "cell_type": "code",
   "execution_count": null,
   "metadata": {},
   "outputs": [],
   "source": []
  },
  {
   "cell_type": "code",
   "execution_count": 9,
   "metadata": {},
   "outputs": [],
   "source": [
    "# ratios = np.where( hist_ga!=0, hist_pr/hist_ga, -1.)\n",
    "# ps_more = np.where( ratios>1., True, False )\n",
    "# keep_pr = np.where( ps_more, 1/ratios, 1. )\n",
    "# keep_pr = np.where( ratios!=-1., keep_pr, 0. )\n",
    "# keep_ga = np.where( ps_more, 1., ratios )\n",
    "# keep_ga = np.where( ratios!=-1, keep_ga, 0. )"
   ]
  },
  {
   "cell_type": "code",
   "execution_count": 10,
   "metadata": {},
   "outputs": [],
   "source": [
    "ratios = hist_pr/(hist_ga+1e-6)\n",
    "ps_more = np.where( ratios>1., True, False )\n",
    "keep_pr = np.where( ps_more, 1/(ratios+1e-6), 1. )\n",
    "keep_ga = np.where( ps_more, 1., ratios )\n",
    "\n",
    "# do not take outside the range\n",
    "keep_pr[0] = 0\n",
    "keep_pr[-1] = 0\n",
    "keep_ga[0] = 0\n",
    "keep_ga[-1] = 0"
   ]
  },
  {
   "cell_type": "code",
   "execution_count": 11,
   "metadata": {},
   "outputs": [
    {
     "name": "stdout",
     "output_type": "stream",
     "text": [
      "[ 0.          0.          0.          0.          0.          0.\n",
      "  0.          0.          0.          0.          0.          0.\n",
      "  0.          0.          0.          0.          0.          0.\n",
      "  0.          0.          0.         27.78235278 22.04436853 21.17010304\n",
      " 16.27580643 11.49999999  9.00195567  6.72979906  5.47665006  4.02439551\n",
      "  3.16788558  2.5798728   2.0119479   1.6487797   1.25858404  1.03521577\n",
      "  0.81465078  0.63169927  0.49068184  0.37378835  0.29810834]\n",
      "[0.         1.         1.         1.         1.         1.\n",
      " 1.         1.         1.         1.         1.         1.\n",
      " 1.         1.         1.         1.         1.         1.\n",
      " 1.         1.         1.         0.03599407 0.04536306 0.04723642\n",
      " 0.06144088 0.08695651 0.11108696 0.14859282 0.18259334 0.24848446\n",
      " 0.31566787 0.38761586 0.49703052 0.6065088  0.79454306 0.96598126\n",
      " 1.         1.         1.         1.         0.        ]\n",
      "[0.         0.         0.         0.         0.         0.\n",
      " 0.         0.         0.         0.         0.         0.\n",
      " 0.         0.         0.         0.         0.         0.\n",
      " 0.         0.         0.         1.         1.         1.\n",
      " 1.         1.         1.         1.         1.         1.\n",
      " 1.         1.         1.         1.         1.         1.\n",
      " 0.81465078 0.63169927 0.49068184 0.37378835 0.        ]\n"
     ]
    }
   ],
   "source": [
    "print(ratios)\n",
    "print(keep_pr)\n",
    "print(keep_ga)"
   ]
  },
  {
   "cell_type": "code",
   "execution_count": 12,
   "metadata": {},
   "outputs": [],
   "source": [
    "# randomly choose events to take\n",
    "pass_hits_pr = {}\n",
    "for pr_h5 in pr_h5s:\n",
    "    with h5.File(pr_h5,'r') as hf:\n",
    "        if use_E_rubtsov:\n",
    "            log_es = 18+np.log10( hf['reco_rubtsov'][:,-1] )\n",
    "        else:\n",
    "            log_es = 18+np.log10( hf['mc_params'][:,3] )\n",
    "        idxs_en_bins = np.digitize(log_es, edjs)\n",
    "        probs_keep = np.array( [keep_pr[i-1] if i<=n_bins else 0. for i in idxs_en_bins] )\n",
    "        rand = np.random.uniform( size=pass_evs_pr[pr_h5].shape[0] )\n",
    "        pass_evs_pr[pr_h5] = np.logical_and( probs_keep>=rand, pass_evs_pr[pr_h5] )\n",
    "        # make mask for hits\n",
    "        ev_starts = hf['ev_starts'][:]\n",
    "        ev_lens = np.diff( ev_starts )\n",
    "        pass_hits_pr[pr_h5] = np.repeat( pass_evs_pr[pr_h5], ev_lens )"
   ]
  },
  {
   "cell_type": "code",
   "execution_count": 19,
   "metadata": {},
   "outputs": [
    {
     "data": {
      "image/png": "[encoded data removed]",
      "text/plain": [
       "<Figure size 600x400 with 1 Axes>"
      ]
     },
     "metadata": {},
     "output_type": "display_data"
    }
   ],
   "source": [
    "with h5.File(pr_h5,'r') as hf:\n",
    "    #ee = 18+np.log10( hf['mc_params'][:,3] )\n",
    "    ee = 18+np.log10( hf['reco_rubtsov'][:,-1] )\n",
    "\n",
    "fig, axs = plt.subplots(1, 1, tight_layout=True, figsize=(6, 4) )\n",
    "plt.grid(True)\n",
    "axs.hist( ee[pass_evs_pr[pr_h5]], 50, density=True, histtype='step',\n",
    "                               log=False )\n",
    "\n",
    "plt.show()"
   ]
  },
  {
   "cell_type": "code",
   "execution_count": 14,
   "metadata": {},
   "outputs": [
    {
     "name": "stdout",
     "output_type": "stream",
     "text": [
      "149941\n"
     ]
    }
   ],
   "source": [
    "print(np.sum(pass_evs_pr[pr_h5]))"
   ]
  },
  {
   "cell_type": "code",
   "execution_count": 15,
   "metadata": {},
   "outputs": [],
   "source": [
    "with h5.File(ga_h5,'r') as hf:\n",
    "    if use_E_rubtsov:\n",
    "        log_es = 18+np.log10( hf['reco_rubtsov'][:,-1] )\n",
    "    else:\n",
    "        log_es = 18+np.log10( hf['mc_params'][:,3] )\n",
    "    idxs_en_bins = np.digitize(log_es, edjs)\n",
    "    probs_keep = np.array( [keep_ga[i-1] if i<=n_bins else 0. for i in idxs_en_bins] )\n",
    "    rand = np.random.uniform( size=pass_evs_ga.shape[0] )\n",
    "    pass_evs_ga = np.logical_and( probs_keep>=rand, pass_evs_ga )\n",
    "    # make mask for hits\n",
    "    ev_starts = hf['ev_starts'][:]\n",
    "    ev_lens = np.diff( ev_starts )\n",
    "    pass_hits_ga = np.repeat( pass_evs_ga, ev_lens )"
   ]
  },
  {
   "cell_type": "code",
   "execution_count": 16,
   "metadata": {},
   "outputs": [
    {
     "name": "stdout",
     "output_type": "stream",
     "text": [
      "149908\n"
     ]
    }
   ],
   "source": [
    "print(np.sum(pass_evs_ga))"
   ]
  },
  {
   "cell_type": "code",
   "execution_count": 18,
   "metadata": {},
   "outputs": [
    {
     "data": {
      "image/png": "[encoded data removed]",
      "text/plain": [
       "<Figure size 600x400 with 1 Axes>"
      ]
     },
     "metadata": {},
     "output_type": "display_data"
    }
   ],
   "source": [
    "with h5.File(ga_h5,'r') as hf:\n",
    "    ee = 18+np.log10( hf['reco_rubtsov'][:,-1] )\n",
    "    #ee = 18+np.log10( hf['mc_params'][:,3] )\n",
    "\n",
    "fig, axs = plt.subplots(1, 1, tight_layout=True, figsize=(6, 4) )\n",
    "plt.grid(True)\n",
    "axs.hist( ee[pass_evs_ga], 50, density=True, histtype='step',\n",
    "                               log=False  )\n",
    "\n",
    "plt.show()"
   ]
  },
  {
   "cell_type": "code",
   "execution_count": 166,
   "metadata": {},
   "outputs": [
    {
     "data": {
      "image/png": "[encoded data removed]",
      "text/plain": [
       "<Figure size 600x400 with 1 Axes>"
      ]
     },
     "metadata": {},
     "output_type": "display_data"
    }
   ],
   "source": [
    "with h5.File(ga_h5,'r') as hf:\n",
    "    ee = 18+np.log10( hf['mc_params'][:,3] )\n",
    "\n",
    "fig, axs = plt.subplots(1, 1, tight_layout=True, figsize=(6, 4) )\n",
    "plt.grid(True)\n",
    "axs.hist( ee, 50, density=True, histtype='step',\n",
    "                               log=False,  )\n",
    "\n",
    "plt.show()"
   ]
  },
  {
   "cell_type": "code",
   "execution_count": null,
   "metadata": {},
   "outputs": [],
   "source": []
  }
 ],
 "metadata": {
  "kernelspec": {
   "display_name": "Python 3",
   "language": "python",
   "name": "python3"
  },
  "language_info": {
   "codemirror_mode": {
    "name": "ipython",
    "version": 3
   },
   "file_extension": ".py",
   "mimetype": "text/x-python",
   "name": "python",
   "nbconvert_exporter": "python",
   "pygments_lexer": "ipython3",
   "version": "3.6.10"
  }
 },
 "nbformat": 4,
 "nbformat_minor": 5
}
