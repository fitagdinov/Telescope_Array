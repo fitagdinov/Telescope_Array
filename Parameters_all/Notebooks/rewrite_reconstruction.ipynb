{
 "cells": [
  {
   "cell_type": "code",
   "execution_count": 1,
   "metadata": {},
   "outputs": [],
   "source": [
    "import numpy as np\n",
    "import matplotlib.pyplot as plt\n",
    "import tensorflow as tf\n",
    "import pandas as pd\n",
    "import seaborn as sns\n",
    "import h5py\n",
    "import tqdm\n",
    "import zipfile\n",
    "from tqdm.notebook import tqdm_notebook\n",
    "from progress.bar import IncrementalBar\n",
    "import random\n",
    "import pandas as pd\n",
    "import time\n",
    "import os\n",
    "import math\n",
    "from joblib import Parallel, delayed\n",
    "# tf.config.run_functions_eagerly(True)\n",
    "%matplotlib inline"
   ]
  },
  {
   "cell_type": "code",
   "execution_count": 2,
   "metadata": {},
   "outputs": [],
   "source": [
    "param_names=['signal','pl_fr','real_wf-pl_fr','mask']"
   ]
  },
  {
   "cell_type": "code",
   "execution_count": 3,
   "metadata": {},
   "outputs": [],
   "source": [
    "def norming(data,param_names=param_names,log=True):\n",
    "    \n",
    "    # ADD LOGARIFM FOR SIGNAL\n",
    "    norm_params={}\n",
    "    for i in range(data.shape[-1]):\n",
    "        if (i==0 and log):\n",
    "            data[:,:,:,i]=tf.math.log(data[:,:,:,i]+1)\n",
    "        max_c=data[:,:,:,i].max()\n",
    "        min_c=data[:,:,:,i].min()\n",
    "        mean_c=data[:,:,:,i].mean()\n",
    "        std_c=data[:,:,:,i].std()\n",
    "        print(max_c,min_c)\n",
    "        data[:,:,:,i]=(data[:,:,:,i]-min_c)/(max_c-min_c)\n",
    "\n",
    "        norm_params[param_names[i]]=np.array([max_c,min_c])\n",
    "    return norm_params\n",
    "def renormin(data_not_change,norm_params,param_names=param_names,log=True):\n",
    "    data=np.copy(data_not_change)\n",
    "    for i in range(data.shape[-1]):\n",
    "        max_c, min_c=norm_params[param_names[i]]\n",
    "        data[:,:,:,i]=data[:,:,:,i]*(max_c-min_c) + min_c\n",
    "        if (i==0 and log):\n",
    "            data[:,:,:,i]=tf.math.exp(data[:,:,:,i])-1\n",
    "        elif (i==1 or i==2):\n",
    "            data[:,:,:,i]=data[:,:,:,i]*1e6\n",
    "    return data"
   ]
  },
  {
   "cell_type": "code",
   "execution_count": 204,
   "metadata": {},
   "outputs": [
    {
     "name": "stdout",
     "output_type": "stream",
     "text": [
      "len data:  100\n"
     ]
    },
    {
     "name": "stderr",
     "output_type": "stream",
     "text": [
      "/home/rfit/.conda/envs/robert_venv/lib/python3.6/site-packages/ipykernel_launcher.py:6: H5pyDeprecationWarning: dataset.value has been deprecated. Use dataset[()] instead.\n",
      "  \n",
      "/home/rfit/.conda/envs/robert_venv/lib/python3.6/site-packages/ipykernel_launcher.py:7: H5pyDeprecationWarning: dataset.value has been deprecated. Use dataset[()] instead.\n",
      "  import sys\n"
     ]
    }
   ],
   "source": [
    "path='../../mc_hadrons_qgs34_0010.h5'\n",
    "data_name='pr-q4-9yr'\n",
    "data=np.zeros((1,6,6,4))\n",
    "with h5py.File(path,'r') as f:\n",
    "    data=np.concatenate((data,f[data_name]['dt'][:100,:,:,3:7]))\n",
    "    gp=f[data_name]['gp'].value\n",
    "    ev_params=f[data_name]['ev_params'].value\n",
    "data=data[1:]\n",
    "data[:,:,:,1]=data[:,:,:,1]*1e6\n",
    "data[:,:,:,2]=data[:,:,:,2]*1e6\n",
    "print('len data: ',len(data))"
   ]
  },
  {
   "cell_type": "markdown",
   "metadata": {},
   "source": [
    "# Constant"
   ]
  },
  {
   "cell_type": "code",
   "execution_count": 205,
   "metadata": {},
   "outputs": [],
   "source": [
    "\n",
    "pi = tf.constant(math.pi)\n",
    "UNIT=1\n",
    "dist=tf.constant(1.2,dtype=tf.float32)# min dist between 2 detectors in km\n",
    "c=tf.constant(299792.458,dtype=tf.float32)# # km\\s\n",
    "NSEC= 1e6/c# in rubsov's code is a time for 1.2 km 1.2/c*1e9\n",
    "R_L=30e-3\n",
    "LINSLEY_r0=0.025\n",
    "Det_Area=30\n",
    "tf_type=tf.float32\n",
    "s_min = tf.constant([[0.3]])\n",
    "s_max = tf.constant([[1.8]])\n",
    "t_err_res=c/1e6\n",
    "t0_err=30"
   ]
  },
  {
   "cell_type": "code",
   "execution_count": 246,
   "metadata": {},
   "outputs": [],
   "source": [
    "class Reconstruction():\n",
    "    #constants\n",
    "    pi = tf.constant(math.pi)\n",
    "    UNIT=1\n",
    "    dist=tf.constant(1.2,dtype=tf.float32)# min dist between 2 detectors in km\n",
    "    c=tf.constant(299792.458,dtype=tf.float32)# # km\\s\n",
    "    NSEC= 1e6/c# in rubsov's code is a time for 1.2 km 1.2/c*1e9\n",
    "    R_L=30e-3\n",
    "    LINSLEY_r0=0.025\n",
    "    Det_Area=3\n",
    "    s_min = tf.constant([[0.3]])\n",
    "    s_max = tf.constant([[1.8]])\n",
    "    t_err_res=c/1e6\n",
    "    t0_err=30\n",
    "    \n",
    "    def __init__(self,data,tf_type):\n",
    "        # all have shape (batch,6,6,1)\n",
    "        self.tf_type = tf_type\n",
    "        self.data=tf.cast(data,self.tf_type)\n",
    "        self.mask = tf.expand_dims(data[:,:,:,3],-1)\n",
    "        self.signal = tf.expand_dims(data[:,:,:,0],-1)*self.mask\n",
    "        self.real_time = tf.expand_dims((data[:,:,:,1]+data[:,:,:,2]),-1)*self.mask\n",
    "        self.signal = tf.cast(self.signal,self.tf_type)\n",
    "        self.real_time = tf.cast(self.real_time,self.tf_type)\n",
    "        self.mask = tf.cast(self.mask,self.tf_type)\n",
    "        self.batch = data.shape[0]\n",
    "        self.t0=None\n",
    "        self.theta=None\n",
    "        self.detertors_coord=None\n",
    "        self.core=None\n",
    "        self.t_place=None\n",
    "#     @classmethod\n",
    "    def detectors_init(self):\n",
    "        x = tf.cast(tf.repeat(tf.expand_dims(tf.range(0,6),0),6,axis=0),self.tf_type)\n",
    "        y = tf.cast(tf.repeat(tf.expand_dims(tf.range(0,6),1),6,axis=1),self.tf_type)\n",
    "        x = tf.expand_dims(x,-1)\n",
    "        y = tf.expand_dims(y,-1)\n",
    "        # x.shape = (6,6,1)\n",
    "        detectors = tf.concat([x,y],axis=-1) * dist\n",
    "        \n",
    "        #detectors.shape = (batch,6,6,2) in km\n",
    "        detectors = tf.repeat(tf.expand_dims(detectors,0),self.batch,0)\n",
    "        self.detertors_coord=detectors\n",
    "        return detectors\n",
    "#     @classmethod\n",
    "    def core_(self):\n",
    "        detectors = self.detectors_init() # shape (batch,6,6,2)\n",
    "        sum_signal=tf.reduce_sum(self.signal,axis=(1,2)) # shape (batch ,1)\n",
    "        core=tf.reduce_sum(detectors * self.signal, axis=(1,2))/sum_signal\n",
    "        #update self\n",
    "        self.core = core\n",
    "        return core\n",
    "    @staticmethod\n",
    "    def expand_dims(vec):\n",
    "        return tf.expand_dims(tf.expand_dims(vec,-1),-1)\n",
    "    def create_matrix(self,x,y,t,mask):\n",
    "        a11=self.expand_dims(tf.reduce_sum(x*x,axis=1))\n",
    "        a12=self.expand_dims(tf.reduce_sum(x*y,axis=1))\n",
    "        a13=self.expand_dims(tf.reduce_sum(x,axis=1))\n",
    "        a22=self.expand_dims(tf.reduce_sum(y*y,axis=1))\n",
    "        a23=self.expand_dims(tf.reduce_sum(y,axis=1))\n",
    "        a33=self.expand_dims(tf.reduce_sum(mask,axis=1))\n",
    "        a1=tf.concat([a11,a12,a13],axis=2)\n",
    "        a2=tf.concat([a12,a22,a23],axis=2)\n",
    "        a3=tf.concat([a13,a23,a33],axis=2)\n",
    "        A=tf.concat([a1,a2,a3],axis=1)\n",
    "\n",
    "        b1=self.expand_dims(tf.reduce_sum(x*t,axis=1))\n",
    "        b2=self.expand_dims(tf.reduce_sum(y*t,axis=1))\n",
    "        b3=self.expand_dims(tf.reduce_sum(t,axis=1))\n",
    "        b=tf.concat([b1,b2,b3],axis=1)\n",
    "        return A,b\n",
    "    def place_sol(self):\n",
    "        real_time=self.real_time\n",
    "        mask=self.mask\n",
    "        detectors = self.detectors_init() * mask\n",
    "        x = tf.reshape(detectors[:,:,:,0],(-1,36))\n",
    "        y = tf.reshape(detectors[:,:,:,1],(-1,36))\n",
    "        t = tf.reshape(real_time,(-1,36))\n",
    "        mask = tf.reshape(mask,(-1,36))\n",
    "        A,b=self.create_matrix(x,y,t,mask)\n",
    "        return tf.linalg.solve(A,b)\n",
    "#     @classmethod\n",
    "    def place_params(self):\n",
    "        sol = self.place_sol()\n",
    "        #t_0=b+(r_cor;n)\n",
    "        b=sol[:,2:,0]\n",
    "        n=sol[:,:2,0]\n",
    "        core = self.core_()\n",
    "        mul=n[:,0]*core[:,0]+n[:,1]*core[:,1]\n",
    "#         t0 = tf.cast(tf.expand_dims(b,1)+tf.expand_dims(mul,1),dtype=self.tf_type)\n",
    "        t0=b\n",
    "        a_x=n[:,0]\n",
    "        a_y=n[:,1]\n",
    "        a_z=tf.math.pow(1e6/c,2) - (tf.math.pow(a_x,2) + tf.math.pow(a_y,2))\n",
    "        a_z=tf.where(a_z>0,tf.math.sqrt(a_z),0)\n",
    "        cos_theta=a_z*(c/1e6)\n",
    "        theta=tf.math.acos(cos_theta)\n",
    "        tg_phi=a_y/(-a_x)\n",
    "        atan=tf.math.atan(tg_phi)\n",
    "        phi=tf.where(a_y>0,atan+pi,atan-pi)\n",
    "        phi=tf.where(a_x<0,atan,phi)\n",
    "        phi = tf.math.atan2( -a_x, -a_y )\n",
    "        # update self\n",
    "        self.phi = phi\n",
    "        self.theta = theta\n",
    "        self.t0=t0\n",
    "        return t0,tf.expand_dims(theta,-1),tf.expand_dims(phi,-1)\n",
    "    def detectors_core(self):\n",
    "        detectors=self.detertors_coord\n",
    "        core = self.core\n",
    "        detectors_c=detectors-tf.reshape(core,(-1,1,1,2))\n",
    "        return detectors_c\n",
    "#     @classmethod\n",
    "    def place_reconstruction(self):\n",
    "        t0,theta,phi = self.place_params()\n",
    "        detectors = self.detectors_core()\n",
    "        t0=self.expand_dims(t0) # shape (batch,1,1,1)\n",
    "        theta=self.expand_dims(theta)\n",
    "        phi = self.expand_dims(phi)\n",
    "        n=tf.concat([tf.math.cos(phi)*tf.math.sin(theta),tf.math.sin(phi)*tf.math.sin(theta)],axis=-1)*(1e6/c)\n",
    "        t_place = t0  - detectors[:,:,:,0:1]*n[:,:,:,0:1] - detectors[:,:,:,1:2]*n[:,:,:,1:2]\n",
    "        self.t_place = t_place*self.mask\n",
    "        return self.t_place"
   ]
  },
  {
   "cell_type": "code",
   "execution_count": 247,
   "metadata": {},
   "outputs": [
    {
     "data": {
      "text/plain": [
       "<tf.Tensor: shape=(10, 1), dtype=float32, numpy=\n",
       "array([[-1.0818663],\n",
       "       [-9.411484 ],\n",
       "       [12.180855 ],\n",
       "       [ 3.3125648],\n",
       "       [-2.0338748],\n",
       "       [-5.917012 ],\n",
       "       [-7.2979712],\n",
       "       [ 7.119654 ],\n",
       "       [ 2.646707 ],\n",
       "       [ 4.3824105]], dtype=float32)>"
      ]
     },
     "execution_count": 247,
     "metadata": {},
     "output_type": "execute_result"
    }
   ],
   "source": [
    "rec.t0"
   ]
  },
  {
   "cell_type": "code",
   "execution_count": 248,
   "metadata": {},
   "outputs": [],
   "source": [
    "rec = Reconstruction(data[:10],tf.float32)\n",
    "det=rec.detectors_init()\n",
    "core=rec.core_()\n",
    "sol = rec.place_sol() \n",
    "# sol"
   ]
  },
  {
   "cell_type": "code",
   "execution_count": 249,
   "metadata": {},
   "outputs": [
    {
     "data": {
      "text/plain": [
       "<tf.Tensor: shape=(10, 6, 6), dtype=float32, numpy=\n",
       "array([[[ 0.       ,  0.       ,  0.       ,  0.       ,  0.       ,\n",
       "          0.       ],\n",
       "        [ 0.       ,  0.       ,  0.       ,  0.       ,  0.       ,\n",
       "          0.       ],\n",
       "        [ 0.       ,  0.       ,  0.       ,  5.5269146,  9.538604 ,\n",
       "          0.       ],\n",
       "        [ 0.       ,  0.       ,  2.453255 ,  1.614434 ,  5.677123 ,\n",
       "          0.       ],\n",
       "        [ 0.       ,  0.       ,  0.       ,  2.008047 ,  0.       ,\n",
       "          0.       ],\n",
       "        [ 0.       ,  0.       , 10.087217 ,  0.       ,  0.       ,\n",
       "          0.       ]],\n",
       "\n",
       "       [[ 0.       ,  0.       ,  0.       ,  0.       ,  0.       ,\n",
       "          0.       ],\n",
       "        [ 0.       ,  0.       ,  0.       ,  0.       ,  0.       ,\n",
       "          0.       ],\n",
       "        [ 0.       ,  0.       ,  0.       , 10.372497 ,  0.       ,\n",
       "          0.       ],\n",
       "        [ 0.       ,  0.       ,  8.894294 ,  9.402746 , 10.612197 ,\n",
       "          0.       ],\n",
       "        [ 0.       ,  0.       ,  7.3045435,  8.499995 ,  9.689446 ,\n",
       "          0.       ],\n",
       "        [ 0.       ,  0.       ,  0.       ,  0.       ,  0.       ,\n",
       "          0.       ]],\n",
       "\n",
       "       [[ 0.       ,  0.       ,  0.       ,  0.       ,  0.       ,\n",
       "          0.       ],\n",
       "        [ 0.       ,  0.       ,  0.       ,  0.       ,  0.       ,\n",
       "          0.       ],\n",
       "        [ 0.       ,  0.       ,  0.       , 12.691562 , 11.08242  ,\n",
       "          0.       ],\n",
       "        [ 0.       ,  0.       , 15.128237 , 13.5310955, 11.928954 ,\n",
       "         10.319815 ],\n",
       "        [ 0.       ,  0.       ,  0.       , 14.3666315,  0.       ,\n",
       "          0.       ],\n",
       "        [ 0.       ,  0.       ,  0.       ,  0.       ,  0.       ,\n",
       "          0.       ]],\n",
       "\n",
       "       [[ 0.       ,  0.       ,  0.       ,  0.       ,  0.       ,\n",
       "          0.       ],\n",
       "        [ 0.       ,  0.       ,  0.       ,  0.       ,  0.       ,\n",
       "          0.       ],\n",
       "        [ 0.       ,  0.       ,  3.6183307,  6.9156313, 10.186933 ,\n",
       "          0.       ],\n",
       "        [ 4.659105 ,  1.3968039,  1.8864968,  5.1827974,  8.446098 ,\n",
       "          0.       ],\n",
       "        [ 0.       ,  0.       ,  0.       ,  0.       ,  0.       ,\n",
       "          0.       ],\n",
       "        [ 0.       ,  0.       ,  0.       ,  0.       ,  0.       ,\n",
       "          0.       ]],\n",
       "\n",
       "       [[ 0.       ,  0.       ,  0.       ,  0.       ,  0.       ,\n",
       "          0.       ],\n",
       "        [ 0.       ,  0.       ,  0.       ,  0.       ,  0.       ,\n",
       "          0.       ],\n",
       "        [ 0.       ,  0.       ,  0.       ,  0.       ,  8.982992 ,\n",
       "          0.       ],\n",
       "        [ 0.       ,  5.8134594,  2.092546 ,  1.6593676,  0.       ,\n",
       "          0.       ],\n",
       "        [ 0.       ,  0.       ,  5.657257 ,  1.9143432,  0.       ,\n",
       "          0.       ],\n",
       "        [ 0.       ,  0.       ,  0.       ,  5.5040536,  0.       ,\n",
       "          0.       ]],\n",
       "\n",
       "       [[ 0.       ,  0.       ,  0.       ,  0.       ,  0.       ,\n",
       "          0.       ],\n",
       "        [ 0.       ,  0.       ,  0.       ,  0.       ,  0.       ,\n",
       "          0.       ],\n",
       "        [ 0.       ,  0.       ,  0.       ,  3.5794332,  6.746099 ,\n",
       "          0.       ],\n",
       "        [ 0.       ,  0.       ,  0.       ,  0.505764 ,  3.6054296,\n",
       "          6.7310953],\n",
       "        [ 0.       ,  0.       ,  5.79857  ,  2.5979047,  0.       ,\n",
       "          0.       ],\n",
       "        [ 0.       ,  0.       ,  8.80524  ,  0.       ,  0.       ,\n",
       "          0.       ]],\n",
       "\n",
       "       [[ 0.       ,  0.       ,  0.       ,  0.       ,  0.       ,\n",
       "          0.       ],\n",
       "        [ 0.       ,  0.       ,  0.       ,  5.1097136,  0.       ,\n",
       "          0.       ],\n",
       "        [ 0.       ,  0.       ,  7.331867 ,  5.993596 ,  0.       ,\n",
       "          0.       ],\n",
       "        [ 0.       ,  0.       ,  8.324749 ,  6.9104786,  5.6822085,\n",
       "          0.       ],\n",
       "        [ 0.       ,  0.       ,  0.       ,  8.016361 ,  6.7210913,\n",
       "          0.       ],\n",
       "        [ 0.       ,  0.       ,  0.       ,  0.       ,  0.       ,\n",
       "          0.       ]],\n",
       "\n",
       "       [[ 0.       ,  0.       ,  0.       ,  0.       ,  0.       ,\n",
       "          0.       ],\n",
       "        [ 0.       ,  0.       ,  0.       ,  0.       ,  0.       ,\n",
       "          0.       ],\n",
       "        [ 0.       ,  0.       ,  6.0228157,  5.310174 ,  0.       ,\n",
       "          0.       ],\n",
       "        [ 0.       ,  8.264728 ,  7.5290875,  6.833446 ,  0.       ,\n",
       "          0.       ],\n",
       "        [ 0.       ,  0.       ,  0.       ,  8.349718 ,  7.648077 ,\n",
       "          0.       ],\n",
       "        [ 0.       ,  0.       ,  0.       ,  0.       ,  0.       ,\n",
       "          0.       ]],\n",
       "\n",
       "       [[ 0.       ,  0.       ,  0.       ,  0.       ,  0.       ,\n",
       "          0.       ],\n",
       "        [ 0.       ,  0.       ,  0.       ,  0.       ,  0.       ,\n",
       "          0.       ],\n",
       "        [ 0.       ,  0.       ,  0.       ,  6.446408 ,  0.       ,\n",
       "          0.       ],\n",
       "        [ 0.       ,  1.1781669,  1.4899781,  4.113123 ,  6.7572675,\n",
       "          0.       ],\n",
       "        [ 0.       ,  3.5094519,  0.8623071,  1.8198378,  0.       ,\n",
       "          0.       ],\n",
       "        [ 0.       ,  0.       ,  0.       ,  0.       ,  0.       ,\n",
       "          0.       ]],\n",
       "\n",
       "       [[ 0.       ,  0.       ,  0.       ,  0.       ,  0.       ,\n",
       "          0.       ],\n",
       "        [ 0.       ,  0.       ,  0.       ,  0.       ,  0.       ,\n",
       "          0.       ],\n",
       "        [ 0.       ,  0.       ,  4.123294 ,  5.718045 ,  0.       ,\n",
       "          0.       ],\n",
       "        [ 0.       ,  0.       ,  3.6066291,  5.1883802,  6.7661314,\n",
       "          0.       ],\n",
       "        [ 0.       ,  0.       ,  3.0999641,  4.6737156,  0.       ,\n",
       "          0.       ],\n",
       "        [ 0.       ,  0.       ,  0.       ,  0.       ,  0.       ,\n",
       "          0.       ]]], dtype=float32)>"
      ]
     },
     "execution_count": 249,
     "metadata": {},
     "output_type": "execute_result"
    }
   ],
   "source": [
    "tf.math.abs(rec.place_reconstruction()[:10,:,:,0]-data[:10,:,:,1])"
   ]
  },
  {
   "cell_type": "code",
   "execution_count": 243,
   "metadata": {},
   "outputs": [
    {
     "data": {
      "text/plain": [
       "array([[ 0.        ,  0.        ,  0.        ,  0.        ,  0.        ,\n",
       "         0.        ],\n",
       "       [ 0.        ,  0.        ,  0.        ,  0.        ,  0.        ,\n",
       "         0.        ],\n",
       "       [ 0.        ,  0.        ,  0.        , -3.59299997, -5.57600015,\n",
       "         0.        ],\n",
       "       [ 0.        ,  0.        ,  0.325     , -1.71399995, -3.74799993,\n",
       "         0.        ],\n",
       "       [ 0.        ,  0.        ,  0.        , -0.125     ,  0.        ,\n",
       "         0.        ],\n",
       "       [ 0.        ,  0.        ,  3.89200022,  0.        ,  0.        ,\n",
       "         0.        ]])"
      ]
     },
     "execution_count": 243,
     "metadata": {},
     "output_type": "execute_result"
    }
   ],
   "source": [
    "data[0,:,:,1]"
   ]
  },
  {
   "cell_type": "code",
   "execution_count": 251,
   "metadata": {},
   "outputs": [
    {
     "data": {
      "text/plain": [
       "array([[ 42.4385, 131.57  ],\n",
       "       [ 40.6731, 245.529 ],\n",
       "       [ 38.2434,  24.3915],\n",
       "       [ 38.1833,  87.2113],\n",
       "       [ 41.7928, 136.063 ],\n",
       "       [ 46.2211, 298.839 ],\n",
       "       [ 31.3009, 200.646 ],\n",
       "       [ 32.9256,  18.2795],\n",
       "       [ 32.653 , 113.383 ],\n",
       "       [ 30.5313,  80.6433]], dtype=float32)"
      ]
     },
     "execution_count": 251,
     "metadata": {},
     "output_type": "execute_result"
    }
   ],
   "source": [
    "ev_params[:10,2:4] "
   ]
  },
  {
   "cell_type": "code",
   "execution_count": 250,
   "metadata": {},
   "outputs": [
    {
     "data": {
      "text/plain": [
       "<tf.Tensor: shape=(10,), dtype=float32, numpy=\n",
       "array([135.00084 , 239.4015  ,  28.259281, 113.2955  , 139.18312 ,\n",
       "       289.5204  , 205.41646 ,  20.930283, 114.04648 ,  62.362896],\n",
       "      dtype=float32)>"
      ]
     },
     "execution_count": 250,
     "metadata": {},
     "output_type": "execute_result"
    }
   ],
   "source": [
    "tf.where(rec.phi*180/3.14>0,rec.phi*180/3.14,(rec.phi+3.14*2)*180/3.14)"
   ]
  },
  {
   "cell_type": "code",
   "execution_count": 198,
   "metadata": {},
   "outputs": [
    {
     "data": {
      "text/plain": [
       "<tf.Tensor: shape=(64,), dtype=float32, numpy=\n",
       "array([ -1.0818156 ,  -9.411423  ,  12.180873  ,   3.3125598 ,\n",
       "        -2.033852  ,  -5.9170237 ,  -7.2979884 ,   7.119641  ,\n",
       "         2.6467204 ,   4.3824077 ,   6.763143  ,   4.004331  ,\n",
       "        -8.332845  ,   5.4817886 ,   9.464282  ,  -1.446     ,\n",
       "         9.62021   ,   8.648997  ,  -1.9128022 ,  -7.716711  ,\n",
       "         4.4970164 ,   3.4287083 ,   2.3299828 ,  -1.0217546 ,\n",
       "        -1.8223338 ,  -2.5787718 ,  -1.0533029 ,   7.211702  ,\n",
       "         2.7141802 ,  -8.1832905 ,   4.0757537 ,  -3.485143  ,\n",
       "         0.9643655 ,   8.388334  ,  -9.509887  ,   6.1425695 ,\n",
       "        -8.855094  ,  10.695374  ,  -2.2949998 ,  -5.736542  ,\n",
       "        -6.3683243 ,   3.6549046 ,  -0.33027342,   4.697004  ,\n",
       "        -0.87361073,   1.6940124 ,  -1.8363557 ,   0.7218607 ,\n",
       "        -5.4357314 ,  -5.8060293 , -10.523151  ,   6.1079645 ,\n",
       "        -5.3647585 ,   7.897768  ,  -5.5457034 ,  -3.2928867 ,\n",
       "        10.168189  ,   8.107447  ,   7.643935  ,  -1.6212804 ,\n",
       "         4.3245516 ,  -1.115676  ,   3.4969933 ,  -6.7150006 ],\n",
       "      dtype=float32)>"
      ]
     },
     "execution_count": 198,
     "metadata": {},
     "output_type": "execute_result"
    }
   ],
   "source": [
    "t0"
   ]
  },
  {
   "cell_type": "code",
   "execution_count": 185,
   "metadata": {},
   "outputs": [
    {
     "data": {
      "text/plain": [
       "<tf.Tensor: shape=(10,), dtype=float32, numpy=\n",
       "array([45.879997, 35.77847 , 48.284664, 30.336348, 38.42599 , 26.98432 ,\n",
       "       34.245453, 21.895771, 23.444355, 13.708007], dtype=float32)>"
      ]
     },
     "execution_count": 185,
     "metadata": {},
     "output_type": "execute_result"
    }
   ],
   "source": [
    "rec.theta*180/3.14"
   ]
  },
  {
   "cell_type": "code",
   "execution_count": 187,
   "metadata": {},
   "outputs": [
    {
     "data": {
      "text/plain": [
       "<tf.Tensor: shape=(64,), dtype=float32, numpy=\n",
       "array([45.880013, 35.778294, 48.284744, 30.33634 , 38.425953, 26.98434 ,\n",
       "       34.24549 , 21.895685, 23.444366, 13.708007, 19.963308, 36.211403,\n",
       "       34.549713, 26.356588, 24.304092, 20.291754, 31.404182, 35.0867  ,\n",
       "       40.317444, 39.38651 , 33.438232, 29.687504, 34.592064, 15.464334,\n",
       "       16.845507, 30.92248 , 25.82884 , 25.760952, 15.69866 , 28.46382 ,\n",
       "       49.008533, 32.472427, 16.613081, 34.11308 , 38.067448, 26.122942,\n",
       "       38.344456, 36.396553, 30.778479, 28.356493, 26.999262, 42.776543,\n",
       "       24.35919 , 15.340359, 10.401696, 29.866833, 39.07704 , 14.71895 ,\n",
       "       27.42335 , 31.768406, 90.04565 , 90.04565 , 18.409817, 23.17837 ,\n",
       "       45.431725, 26.252207, 34.34565 , 35.536694, 25.105764, 28.209288,\n",
       "       36.617958, 33.733616,  8.894859, 31.353144], dtype=float32)>"
      ]
     },
     "execution_count": 187,
     "metadata": {},
     "output_type": "execute_result"
    }
   ],
   "source": [
    "theta*180/3.14"
   ]
  },
  {
   "cell_type": "code",
   "execution_count": 85,
   "metadata": {},
   "outputs": [
    {
     "data": {
      "text/plain": [
       "array([[ 0.        ,  0.        ,  0.        ,  0.        ,  0.        ,\n",
       "         0.        ],\n",
       "       [ 0.        ,  0.        ,  0.        ,  0.        ,  0.        ,\n",
       "         0.        ],\n",
       "       [ 0.        ,  0.        ,  0.        , -3.59299997, -5.57600015,\n",
       "         0.        ],\n",
       "       [ 0.        ,  0.        ,  0.325     , -1.71399995, -3.74799993,\n",
       "         0.        ],\n",
       "       [ 0.        ,  0.        ,  0.        , -0.125     ,  0.        ,\n",
       "         0.        ],\n",
       "       [ 0.        ,  0.        ,  3.89200022,  0.        ,  0.        ,\n",
       "         0.        ]])"
      ]
     },
     "execution_count": 85,
     "metadata": {},
     "output_type": "execute_result"
    }
   ],
   "source": [
    "data[0,:,:,1]"
   ]
  },
  {
   "cell_type": "code",
   "execution_count": 197,
   "metadata": {},
   "outputs": [
    {
     "name": "stdout",
     "output_type": "stream",
     "text": [
      "n_z tf.Tensor(\n",
      "[2.3231223 2.7067738 2.220696  2.8793616 2.6138859 2.9728527 2.757923\n",
      " 3.095263  3.0605483 3.2407243 3.1354082 2.691969  2.747927  2.989241\n",
      " 3.040311  3.1288347 2.8474948 2.7300937 2.5441003 2.5787976 2.7840703\n",
      " 2.898237  2.7465289 3.215001  3.1926513 2.8619928 3.0027409 3.0044591\n",
      " 3.2113404 2.932823  2.1890938 2.8146274 3.1965425 2.7622495 2.626794\n",
      " 2.995249  2.6168292 2.685593  2.8662877 2.935793  2.9724588 2.4492443\n",
      " 3.0389907 3.216916  3.2808788 2.893057  2.5901816 3.226288  2.96118\n",
      " 2.836399  0.        0.        3.1651006 3.0666704 2.34177   2.9919312\n",
      " 2.7546403 2.7149653 3.0208242 2.9398496 2.6779318 2.7745664 3.295566\n",
      " 2.8490405], shape=(64,), dtype=float32)\n",
      "n_z tf.Tensor(\n",
      "[2.3231223 2.7067738 2.220696  2.8793616 2.6138859 2.9728527 2.757923\n",
      " 3.095263  3.0605483 3.2407243 3.1354082 2.691969  2.747927  2.989241\n",
      " 3.040311  3.1288347 2.8474948 2.7300937 2.5441003 2.5787976 2.7840703\n",
      " 2.898237  2.7465289 3.215001  3.1926513 2.8619928 3.0027409 3.0044591\n",
      " 3.2113404 2.932823  2.1890938 2.8146274 3.1965425 2.7622495 2.626794\n",
      " 2.995249  2.6168292 2.685593  2.8662877 2.935793  2.9724588 2.4492443\n",
      " 3.0389907 3.216916  3.2808788 2.893057  2.5901816 3.226288  2.96118\n",
      " 2.836399  0.        0.        3.1651006 3.0666704 2.34177   2.9919312\n",
      " 2.7546403 2.7149653 3.0208242 2.9398496 2.6779318 2.7745664 3.295566\n",
      " 2.8490405], shape=(64,), dtype=float32)\n"
     ]
    },
    {
     "data": {
      "text/plain": [
       "<tf.Tensor: shape=(64,), dtype=float32, numpy=\n",
       "array([ -45.090675 ,   59.493122 , -151.83202  ,  -66.795746 ,\n",
       "        -40.908295 ,  109.61158  ,   25.507902 , -159.16087  ,\n",
       "        -66.04494  , -117.72843  , -142.08736  ,  -64.07822  ,\n",
       "         38.190773 ,  -72.61241  , -152.02588  ,  114.31395  ,\n",
       "       -130.48126  ,  179.37828  ,  114.47934  ,   66.028435 ,\n",
       "        -71.42547  ,  148.41838  ,  147.47336  ,  111.154564 ,\n",
       "         99.09006  ,  111.39848  ,  -38.16081  , -173.6324   ,\n",
       "        152.98344  ,   44.788975 ,  -45.31987  ,  -15.201984 ,\n",
       "        138.35306  , -160.82552  ,   20.068356 ,  -95.30713  ,\n",
       "         71.44137  , -154.94284  ,  107.48643  ,   48.002686 ,\n",
       "          4.0393744,  -55.981457 ,  133.64186  , -174.19273  ,\n",
       "         71.1309   ,  130.7888   ,  116.42755  ,  -37.481594 ,\n",
       "         11.4989195,   85.55882  ,    1.0422605,  138.42151  ,\n",
       "         57.84859  , -141.22237  ,   13.51256  ,  -13.543718 ,\n",
       "       -105.87633  ,  178.18668  , -165.66962  ,  -29.445803 ,\n",
       "        155.32431  ,  -35.51027  ,  -19.26469  ,   73.1371   ],\n",
       "      dtype=float32)>"
      ]
     },
     "execution_count": 197,
     "metadata": {},
     "output_type": "execute_result"
    }
   ],
   "source": [
    "num = 64\n",
    "h5f = '../../mc_hadrons_qgs34_0010.h5'\n",
    "with h5py.File(h5f,'r') as hf:\n",
    "    times_flat = hf['pr-q4-9yr/dt'][:num,:,:,4:5]*1e6 # in mks\n",
    "    times_diff = hf['pr-q4-9yr/dt'][:num,:,:,5:6]*1e6 # in mks\n",
    "    mask = hf['pr-q4-9yr/dt'][:num,:,:,6:7]\n",
    "    real_coords = hf['pr-q4-9yr/dt'][:num,:,:,:3] # in 1.2*km\n",
    "    qs = hf['pr-q4-9yr/dt'][:num,:,:,3:4]\n",
    "    ev_params = hf['pr-q3-9yr/ev_params'][:num]\n",
    "    \n",
    "times_reg = times_flat + times_diff\n",
    "mask_qs = tf.where( tf.math.logical_and(mask>0, qs>0), 1., 0. )\n",
    "xs = tf.expand_dims( tf.linspace( 0., 5*1.2, 6 ), axis=-1 )\n",
    "xs = tf.repeat(xs, 6, axis=1)\n",
    "ys = tf.transpose( xs )\n",
    "coords = tf.expand_dims( tf.stack( (xs,ys), axis=-1 ), axis=0 ) # in km\n",
    "c = tf.constant(0.299792458, dtype=tf.float32) # in km\\mks\n",
    "# prepare matricies to solve\n",
    "def make_matrix(coords, times_reg, mask):\n",
    "    \n",
    "    # matrix for dL/db\n",
    "    hs = tf.ones((1,6,6,1)) # to make (x_1,x_2) -> (x_1,x_2,1), to account for b\n",
    "    coords_ext = mask*tf.concat( (coords,hs), axis=-1 ) # (bs,6,6,3)\n",
    "    matrix_b = tf.expand_dims( tf.math.reduce_sum( coords_ext, axis=(1,2) ), axis=-1 ) # (bs,6,6,3,1)\n",
    "    times = mask*times_reg # (bs,6,6,1)\n",
    "    rhs_b = tf.math.reduce_sum( times, axis=(1,2) ) # (bs,1)\n",
    "    \n",
    "    # matrix for dL/da\n",
    "    coords_mul = tf.expand_dims( coords_ext, axis=-1) * tf.expand_dims( coords, axis=-2)\n",
    "    matrix_a = tf.math.reduce_sum( coords_mul, axis=(1,2) ) # (bs,6,6,3,2)\n",
    "    ts_mul = times * coords\n",
    "    rhs_a = tf.math.reduce_sum( ts_mul, axis=(1,2) )\n",
    "    \n",
    "    matrix = tf.concat((matrix_b,matrix_a), axis=-1)\n",
    "    rhs = tf.expand_dims( tf.concat((rhs_b,rhs_a), axis=-1), axis=-1 )\n",
    "    \n",
    "    return matrix, rhs\n",
    "def lin_solve(matrix, rhs):\n",
    "    sol_flat = tf.linalg.solve( matrix, rhs, adjoint=True )[:,:,0]\n",
    "    t0 = sol_flat[:,2]\n",
    "    # extract parameters\n",
    "    n_z = 1/c/c - tf.math.reduce_sum(sol_flat[:,:2]*sol_flat[:,:2], axis=1)\n",
    "    n_z = tf.where( n_z>0, tf.math.sqrt( n_z ), 0. ) # some configurations yield front moving faster than light\n",
    "    print('n_z',n_z)\n",
    "    theta_flat = tf.math.acos( n_z*c )\n",
    "    phi_flat = tf.math.atan2( sol_flat[:,1], sol_flat[:,0] )\n",
    "    \n",
    "    return theta_flat, phi_flat, t0\n",
    "matrix, rhs = make_matrix(coords, times_reg, mask)\n",
    "sol_flat=lin_solve(matrix, rhs)\n",
    "theta, phi, t0 = lin_solve(matrix, rhs) # (bs,)\n",
    "phi/3.14*180\n"
   ]
  },
  {
   "cell_type": "code",
   "execution_count": 169,
   "metadata": {},
   "outputs": [
    {
     "data": {
      "text/plain": [
       "<tf.Tensor: shape=(2, 3, 3), dtype=float32, numpy=\n",
       "array([[[ 26.400002, 109.44    ,  90.72    ],\n",
       "        [ 25.2     ,  90.72    ,  96.48    ],\n",
       "        [  7.      ,  26.400002,  25.2     ]],\n",
       "\n",
       "       [[ 27.599998, 113.76001 ,  99.36001 ],\n",
       "        [ 25.2     ,  99.36001 ,  96.48    ],\n",
       "        [  7.      ,  27.599998,  25.2     ]]], dtype=float32)>"
      ]
     },
     "execution_count": 169,
     "metadata": {},
     "output_type": "execute_result"
    }
   ],
   "source": [
    "matrix[:2]"
   ]
  },
  {
   "cell_type": "code",
   "execution_count": null,
   "metadata": {},
   "outputs": [],
   "source": []
  },
  {
   "cell_type": "code",
   "execution_count": 167,
   "metadata": {},
   "outputs": [
    {
     "data": {
      "text/plain": [
       "<tf.Tensor: shape=(2, 3, 1), dtype=float32, numpy=\n",
       "array([[[-1.6945673 ],\n",
       "        [ 1.690574  ],\n",
       "        [-1.0818663 ]],\n",
       "\n",
       "       [[ 1.6789589 ],\n",
       "        [ 0.99045706],\n",
       "        [-9.411484  ]]], dtype=float32)>"
      ]
     },
     "execution_count": 167,
     "metadata": {},
     "output_type": "execute_result"
    }
   ],
   "source": [
    "sol[:2]"
   ]
  },
  {
   "cell_type": "code",
   "execution_count": 168,
   "metadata": {},
   "outputs": [
    {
     "data": {
      "text/plain": [
       "<tf.Tensor: shape=(2, 3), dtype=float32, numpy=\n",
       "array([[ 1.690568 , -1.6945748, -1.0818156],\n",
       "       [ 0.9904436,  1.678957 , -9.411423 ]], dtype=float32)>"
      ]
     },
     "execution_count": 168,
     "metadata": {},
     "output_type": "execute_result"
    }
   ],
   "source": [
    "sol_flat[:2]"
   ]
  },
  {
   "cell_type": "code",
   "execution_count": 81,
   "metadata": {},
   "outputs": [
    {
     "data": {
      "text/plain": [
       "array([[[ 0.        ,  0.        ,  0.        ,  0.        ,\n",
       "          0.        ,  0.        ],\n",
       "        [ 0.        ,  0.        ,  0.        ,  0.        ,\n",
       "          0.        ,  0.        ],\n",
       "        [ 0.        ,  0.        ,  0.        , -3.593     ,\n",
       "         -5.576     ,  0.        ],\n",
       "        [ 0.        ,  0.        ,  0.325     , -1.714     ,\n",
       "         -3.748     ,  0.        ],\n",
       "        [ 0.        ,  0.        ,  0.        , -0.125     ,\n",
       "          0.        ,  0.        ],\n",
       "        [ 0.        ,  0.        ,  3.8920002 ,  0.        ,\n",
       "          0.        ,  0.        ]],\n",
       "\n",
       "       [[ 0.        ,  0.        ,  0.        ,  0.        ,\n",
       "          0.        ,  0.        ],\n",
       "        [ 0.        ,  0.        ,  0.        ,  0.        ,\n",
       "          0.        ,  0.        ],\n",
       "        [ 0.        ,  0.        ,  0.        , -1.665     ,\n",
       "          0.        ,  0.        ],\n",
       "        [ 0.        ,  0.        , -2.3170002 , -0.62      ,\n",
       "          1.778     ,  0.        ],\n",
       "        [ 0.        ,  0.        , -1.892     ,  0.492     ,\n",
       "          2.87      ,  0.        ],\n",
       "        [ 0.        ,  0.        ,  0.        ,  0.        ,\n",
       "          0.        ,  0.        ]],\n",
       "\n",
       "       [[ 0.        ,  0.        ,  0.        ,  0.        ,\n",
       "          0.        ,  0.        ],\n",
       "        [ 0.        ,  0.        ,  0.        ,  0.        ,\n",
       "          0.        ,  0.        ],\n",
       "        [ 0.        ,  0.        ,  0.        ,  1.186     ,\n",
       "          0.164     ,  0.        ],\n",
       "        [ 0.        ,  0.        , -0.033     , -1.0669999 ,\n",
       "         -2.096     , -3.118     ],\n",
       "        [ 0.        ,  0.        ,  0.        , -3.316     ,\n",
       "          0.        ,  0.        ],\n",
       "        [ 0.        ,  0.        ,  0.        ,  0.        ,\n",
       "          0.        ,  0.        ]],\n",
       "\n",
       "       ...,\n",
       "\n",
       "       [[ 0.        ,  0.        ,  0.        ,  0.        ,\n",
       "          0.        ,  0.        ],\n",
       "        [ 0.        ,  0.        ,  0.        ,  0.        ,\n",
       "          0.        ,  0.        ],\n",
       "        [ 0.        ,  0.        ,  0.        , -1.95      ,\n",
       "          0.        ,  0.        ],\n",
       "        [ 0.        ,  0.        ,  1.0899999 , -0.146     ,\n",
       "         -1.4250001 ,  0.        ],\n",
       "        [ 0.        ,  0.        ,  2.866     ,  1.623     ,\n",
       "          0.35799998,  0.        ],\n",
       "        [ 0.        ,  0.        ,  0.        ,  0.        ,\n",
       "          0.        ,  0.        ]],\n",
       "\n",
       "       [[ 0.        ,  0.        ,  0.        ,  0.        ,\n",
       "          0.        ,  0.        ],\n",
       "        [ 0.        ,  0.        ,  0.        ,  0.        ,\n",
       "          0.        ,  0.        ],\n",
       "        [ 0.        ,  2.1139998 ,  1.353     ,  0.592     ,\n",
       "         -0.162     ,  0.        ],\n",
       "        [ 0.        ,  0.        , -0.58      , -1.3410001 ,\n",
       "         -2.098     ,  0.        ],\n",
       "        [ 0.        ,  0.        ,  0.        ,  0.        ,\n",
       "         -4.0220003 ,  0.        ],\n",
       "        [ 0.        ,  0.        ,  0.        ,  0.        ,\n",
       "          0.        ,  0.        ]],\n",
       "\n",
       "       [[ 0.        ,  0.        ,  0.        ,  0.        ,\n",
       "          0.        ,  0.        ],\n",
       "        [ 0.        ,  0.        ,  0.        ,  0.        ,\n",
       "          0.        ,  0.        ],\n",
       "        [ 0.        ,  0.        , -2.858     , -1.072     ,\n",
       "          0.94699997,  0.        ],\n",
       "        [ 0.        ,  0.        , -1.666     ,  0.325     ,\n",
       "          1.9920001 ,  0.        ],\n",
       "        [ 0.        ,  0.        , -0.451     ,  1.343     ,\n",
       "          0.        ,  0.        ],\n",
       "        [ 0.        ,  0.        ,  0.        ,  0.        ,\n",
       "          0.        ,  0.        ]]], dtype=float32)"
      ]
     },
     "execution_count": 81,
     "metadata": {},
     "output_type": "execute_result"
    }
   ],
   "source": [
    "t0_ext = t0[:,tf.newaxis,tf.newaxis]\n",
    "nx = 1/c*tf.math.sin(theta)[:,tf.newaxis,tf.newaxis] * tf.math.cos(phi)[:,tf.newaxis,tf.newaxis]\n",
    "ny = 1/c*tf.math.sin(theta)[:,tf.newaxis,tf.newaxis] * tf.math.sin(phi)[:,tf.newaxis,tf.newaxis]\n",
    "a = tf.concat((nx,ny), axis=-1)\n",
    "a = tf.expand_dims( a, axis=1 )\n",
    "\n",
    "t_rec = t0_ext + tf.math.reduce_sum( a*coords, axis=-1 )\n",
    "t_rec = t_rec*mask[:,:,:,0]\n",
    "times_flat[:,:,:,0]*mask[:,:,:,0]"
   ]
  }
 ],
 "metadata": {
  "kernelspec": {
   "display_name": "Python 3",
   "language": "python",
   "name": "python3"
  },
  "language_info": {
   "codemirror_mode": {
    "name": "ipython",
    "version": 3
   },
   "file_extension": ".py",
   "mimetype": "text/x-python",
   "name": "python",
   "nbconvert_exporter": "python",
   "pygments_lexer": "ipython3",
   "version": "3.6.10"
  }
 },
 "nbformat": 4,
 "nbformat_minor": 4
}
