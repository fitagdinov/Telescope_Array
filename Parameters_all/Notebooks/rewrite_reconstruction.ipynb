{
 "cells": [
  {
   "cell_type": "code",
   "execution_count": 1,
   "metadata": {},
   "outputs": [],
   "source": [
    "import numpy as np\n",
    "import matplotlib.pyplot as plt\n",
    "import tensorflow as tf\n",
    "import pandas as pd\n",
    "import seaborn as sns\n",
    "import h5py\n",
    "import tqdm\n",
    "import zipfile\n",
    "from tqdm.notebook import tqdm_notebook\n",
    "from progress.bar import IncrementalBar\n",
    "import copy\n",
    "import random\n",
    "import pandas as pd\n",
    "import time\n",
    "import os\n",
    "import math\n",
    "from joblib import Parallel, delayed\n",
    "# tf.config.run_functions_eagerly(True)\n",
    "%matplotlib inline\n",
    "np.set_printoptions(suppress=True)"
   ]
  },
  {
   "cell_type": "code",
   "execution_count": 2,
   "metadata": {},
   "outputs": [],
   "source": [
    "param_names=['signal','pl_fr','real_wf-pl_fr','mask']"
   ]
  },
  {
   "cell_type": "code",
   "execution_count": 3,
   "metadata": {},
   "outputs": [],
   "source": [
    "def norming(data,param_names=param_names,log=True):\n",
    "    \n",
    "    # ADD LOGARIFM FOR SIGNAL\n",
    "    norm_params={}\n",
    "    for i in range(data.shape[-1]):\n",
    "        if (i==0 and log):\n",
    "            data[:,:,:,i]=tf.math.log(data[:,:,:,i]+1)\n",
    "        max_c=data[:,:,:,i].max()\n",
    "        min_c=data[:,:,:,i].min()\n",
    "        mean_c=data[:,:,:,i].mean()\n",
    "        std_c=data[:,:,:,i].std()\n",
    "        print(max_c,min_c)\n",
    "        data[:,:,:,i]=(data[:,:,:,i]-min_c)/(max_c-min_c)\n",
    "\n",
    "        norm_params[param_names[i]]=np.array([max_c,min_c])\n",
    "    return norm_params\n",
    "def renormin(data_not_change,norm_params,param_names=param_names,log=True):\n",
    "    data=np.copy(data_not_change)\n",
    "    for i in range(data.shape[-1]):\n",
    "        max_c, min_c=norm_params[param_names[i]]\n",
    "        data[:,:,:,i]=data[:,:,:,i]*(max_c-min_c) + min_c\n",
    "        if (i==0 and log):\n",
    "            data[:,:,:,i]=tf.math.exp(data[:,:,:,i])-1\n",
    "        elif (i==1 or i==2):\n",
    "            data[:,:,:,i]=data[:,:,:,i]*1e6\n",
    "    return data"
   ]
  },
  {
   "cell_type": "code",
   "execution_count": 4,
   "metadata": {},
   "outputs": [
    {
     "name": "stdout",
     "output_type": "stream",
     "text": [
      "(268322, 6, 6, 7)\n",
      "len data:  2000\n"
     ]
    }
   ],
   "source": [
    "path='../../mc_hadrons_qgs34_0010.h5'\n",
    "data_name='pr-q4-9yr'\n",
    "data=np.zeros((0,6,6,4))\n",
    "with h5py.File(path,'r') as f:\n",
    "    print(f[data_name]['dt'].shape)\n",
    "    data=np.concatenate((data,f[data_name]['dt'][:2000,:,:,3:7]))\n",
    "    gp=f[data_name]['gp'][()]\n",
    "    ev_params=f[data_name]['ev_params'][()]\n",
    "# data=data[1:]\n",
    "data[:,:,:,1]=data[:,:,:,1]*1e6\n",
    "data[:,:,:,2]=data[:,:,:,2]*1e6\n",
    "print('len data: ',len(data))"
   ]
  },
  {
   "cell_type": "code",
   "execution_count": 5,
   "metadata": {},
   "outputs": [],
   "source": [
    "# new data\n",
    "path='../../data_01_24.h5'\n",
    "num_ev=2000\n",
    "with h5py.File(path,'r') as f:\n",
    "    data=f['dt_bunlde'][:num_ev,:,:,3:7]\n",
    "    detectors_rub = f['dt_bunlde'][:num_ev,:,:,:3] * 1.2\n",
    "    ev_params = f['recos'][:num_ev,:2]\n",
    "    real_ang = f['mc_params'][:num_ev,4:6]\n",
    "    recos = f['recos'][:num_ev]\n",
    "    dt_params =f['dt_params'][:num_ev]\n",
    "    ev_starts = f['ev_starts'][:num_ev]"
   ]
  },
  {
   "cell_type": "markdown",
   "metadata": {},
   "source": [
    "# Constant"
   ]
  },
  {
   "cell_type": "code",
   "execution_count": 6,
   "metadata": {},
   "outputs": [],
   "source": [
    "import tensorflow as tf\n",
    "import math\n",
    "pi = tf.constant(math.pi,dtype=tf.float32)\n",
    "UNIT=1\n",
    "dist=tf.constant(1.2,dtype=tf.float32)# min dist between 2 detectors in km\n",
    "c=tf.constant(299792.458,dtype=tf.float32)# # km\\s\n",
    "NSEC= tf.constant(1e9/c,dtype=tf.float32)# in rubsov's code is a time for 1.2 km 1.2/c*1e9\n",
    "R_L=tf.constant(30e-3,dtype=tf.float32)#\n",
    "LINSLEY_r0=tf.constant(25,dtype=tf.float32)#\n",
    "DET_AREA=tf.constant(3,dtype=tf.float32)#\n",
    "s_min = tf.constant([[0.3]],dtype=tf.float32)\n",
    "s_max = tf.constant([[1.8]],dtype=tf.float32)\n",
    "t_err_res=tf.constant(c/1e6,dtype=tf.float32)#\n",
    "t0_err=tf.constant(30,dtype=tf.float32)#\n",
    "dist=tf.constant(1.2,dtype=tf.float32)\n",
    "tf_type = tf.float32\n",
    "R_error = 0.15\n",
    "def init(data,tf_type = tf.float32):\n",
    "    data=tf.cast(data,tf_type)\n",
    "    mask = tf.expand_dims(data[:,:,:,3],-1)\n",
    "    signal = tf.expand_dims(data[:,:,:,0],-1)*self.mask\n",
    "    mask = tf.where(self.signal==0,0,self.mask)\n",
    "    real_time = tf.expand_dims((data[:,:,:,1] + data[:,:,:,2]),-1)*self.mask \n",
    "    signal = tf.cast(self.signal,self.tf_type)\n",
    "    real_time = tf.cast(self.real_time,self.tf_type)\n",
    "    mask = tf.cast(self.mask,self.tf_type)\n",
    "    batch = data.shape[0]\n",
    "def detectors_init(data):\n",
    "    batch = data.shape[0]\n",
    "    x = tf.cast(tf.repeat(tf.expand_dims(tf.range(0,6),0),6,axis=0),tf_type)\n",
    "    y = tf.cast(tf.repeat(tf.expand_dims(tf.range(0,6),1),6,axis=1),tf_type)\n",
    "    x = tf.expand_dims(x,-1)\n",
    "    y = tf.expand_dims(y,-1)\n",
    "    # x.shape = (6,6,1)\n",
    "    detectors = tf.concat([x,y],axis=-1) * dist\n",
    "    detectors = tf.repeat(tf.expand_dims(detectors,0),batch,0)\n",
    "    return detectors\n",
    "def core_(detectors,signal):# shape (batch,6,6,2)\n",
    "    sum_signal=tf.reduce_sum(signal,axis=(1,2)) # shape (batch ,1)\n",
    "    core=tf.reduce_sum(detectors * signal, axis=(1,2))/sum_signal\n",
    "    return core\n",
    "def expand_dims(vec):\n",
    "    return tf.expand_dims(tf.expand_dims(vec,-1),-1)\n",
    "def create_matrix(x,y,t,mask):\n",
    "    a11=expand_dims(tf.reduce_sum(x*x,axis=1))\n",
    "    a12=expand_dims(tf.reduce_sum(x*y,axis=1))\n",
    "    a13=expand_dims(tf.reduce_sum(x,axis=1))\n",
    "    a22=expand_dims(tf.reduce_sum(y*y,axis=1))\n",
    "    a23=expand_dims(tf.reduce_sum(y,axis=1))\n",
    "    a33=expand_dims(tf.reduce_sum(mask,axis=1))\n",
    "    a1=tf.concat([a11,a12,a13],axis=2)\n",
    "    a2=tf.concat([a12,a22,a23],axis=2)\n",
    "    a3=tf.concat([a13,a23,a33],axis=2)\n",
    "    A=tf.concat([a1,a2,a3],axis=1)\n",
    "\n",
    "    b1=expand_dims(tf.reduce_sum(x*t,axis=1))\n",
    "    b2=expand_dims(tf.reduce_sum(y*t,axis=1))\n",
    "    b3=expand_dims(tf.reduce_sum(t,axis=1))\n",
    "    b=tf.concat([b1,b2,b3],axis=1)\n",
    "    return A,b\n",
    "def place_sol(detectors,real_time,mask):\n",
    "    detectors = detectors * mask\n",
    "    x = tf.reshape(detectors[:,:,:,0],(-1,36))\n",
    "    y = tf.reshape(detectors[:,:,:,1],(-1,36))\n",
    "    t = tf.reshape(real_time,(-1,36))\n",
    "    mask = tf.reshape(mask,(-1,36))\n",
    "    A,b=create_matrix(x,y,t,mask)\n",
    "    return tf.linalg.solve(A,b)\n",
    "def place_params(detectors,real_time,mask):\n",
    "    sol = place_sol(detectors,real_time,mask)\n",
    "    #t_0=b+(r_cor;n)\n",
    "    b=sol[:,2:,0]\n",
    "    n=sol[:,:2,0]\n",
    "#     core = self.core_()\n",
    "#     mul=n[:,0]*core[:,0]+n[:,1]*core[:,1]\n",
    "    t0=b\n",
    "    a_x=n[:,0]\n",
    "    a_y=n[:,1]\n",
    "#         print(a_x.dtype,(1e6/c).dtype,c.dtype)\n",
    "    a_z=tf.math.pow(1e6/c,2) - (tf.math.pow(a_x,2) + tf.math.pow(a_y,2))\n",
    "    a_z=tf.where(a_z>0,tf.math.sqrt(a_z),0)\n",
    "    cos_theta=a_z*(c/1e6)\n",
    "    theta=tf.math.acos(cos_theta)\n",
    "#     tg_phi=a_x/(-a_y)\n",
    "#     atan=tf.math.atan(tg_phi)\n",
    "#     phi=tf.where(a_y>0,atan+pi,atan-pi)\n",
    "#     phi=tf.where(a_x<0,atan,phi)\n",
    "    phi = tf.math.atan2( a_y, a_x ) + pi\n",
    "    return t0,tf.expand_dims(theta,-1),tf.expand_dims(phi,-1)\n",
    "def detectors_core(detectors,core):\n",
    "    detectors_c=detectors[:,:,:,:2]-tf.reshape(core,(-1,1,1,2))\n",
    "    return tf.concat([detectors_c,detectors[:,:,:,2:3]],axis=-1)\n",
    "def place_reconstruction(detectors,mask,t0,theta,phi,use_z=False):\n",
    "    t0=expand_dims(t0) # shape (batch,1,1,1)\n",
    "    theta=expand_dims(theta)\n",
    "    phi =expand_dims(phi)\n",
    "    if use_z:\n",
    "        n=-tf.concat([tf.math.cos(phi)*tf.math.sin(theta),tf.math.sin(phi)*tf.math.sin(theta),tf.math.cos(theta)],axis=-1)\n",
    "    else:\n",
    "        n=-tf.concat([tf.math.cos(phi)*tf.math.sin(theta),tf.math.sin(phi)*tf.math.sin(theta)],axis=-1)\n",
    "    t_place =  tf.expand_dims(tf.reduce_sum(detectors*n,axis=-1),-1)*(1e6/c)\n",
    "    t_place = t_place*mask\n",
    "    return t_place\n",
    "def eta_fun(theta):\n",
    "    x=theta*180/3.14\n",
    "\n",
    "    e1 = 3.97 - 1.79*(tf.math.abs(1.0/tf.math.cos(theta)) - 1.0)\n",
    "    e2 = ((((((-1.71299934e-10*x + 4.23849411e-08)*x -3.76192000e-06)*x\n",
    "               + 1.35747298e-04)*x -2.18241567e-03)*x + 1.18960682e-02)*x\n",
    "             + 3.70692527e+00)\n",
    "    res = tf.where(x<62.7,e1,e2)\n",
    "    res =tf.where(res>0,res,0)\n",
    "    return res\n",
    "def s_profile_tasimple(r_ta,theta):\n",
    "    r = r_ta\n",
    "    eta=eta_fun(theta)# batch,1,1\n",
    "    eta=tf.repeat(eta,6,axis=1)\n",
    "    eta=tf.repeat(eta,6,axis=2)\n",
    "    # eta shape is batch,6,6\n",
    "    Rm = tf.constant(0.09,dtype=tf.float32)\n",
    "    R1 = tf.constant(1,dtype=tf.float32)\n",
    "    return (tf.math.pow((r/Rm),-1.2)*tf.math.pow((1+r/Rm), -(eta-1.2))*tf.math.pow(1+(tf.math.pow(r,2)/R1/R1),-0.6))\n",
    "def s_profile(r_ta, theta):\n",
    "    #r_ta shape batch,6,6\n",
    "    f800=s_profile_tasimple(expand_dims(tf.constant(0.8)), theta)\n",
    "    return s_profile_tasimple(r_ta, theta)/f800\n",
    "def pfs__pps(detectors,theta,phi,signal,mask):\n",
    "#     t0,theta,phi = self.place_params()\n",
    "    # u can read from t_place if in place_reconstruction use core shift\n",
    "#     detectors = detectors_core(detectors,core)\n",
    "    theta=expand_dims(theta)\n",
    "    phi = expand_dims(phi)\n",
    "    n=-tf.concat([tf.math.cos(phi)*tf.math.sin(theta),tf.math.sin(phi)*tf.math.sin(theta),tf.math.cos(theta)],axis=-1)\n",
    "    t_place = detectors[:,:,:,0:1]*n[:,:,:,0:1] + detectors[:,:,:,1:2]*n[:,:,:,1:2] + detectors[:,:,:,2:3]*n[:,:,:,2:3] # not has t0\n",
    "    # end t_place's part\n",
    "    dist_core = tf.expand_dims(tf.reduce_sum(tf.math.pow(detectors,2),axis=-1),axis=-1) - tf.math.pow(t_place,2)\n",
    "    dist_core = tf.where(dist_core>0,tf.math.sqrt(dist_core),0)\n",
    "    cond_dist = tf.cast(tf.where(tf.logical_and(dist_core>s_min,dist_core<s_max),mask,0.),tf_type)\n",
    "    pfs = tf.reduce_sum(signal*cond_dist,axis=(1,2))\n",
    "    pps = tf.reduce_sum(s_profile(dist_core,theta)*cond_dist,axis=(1,2))\n",
    "    return (pfs,pps)\n",
    "def a_ivanov_fun(theta):\n",
    "    DEG=pi/180\n",
    "    threshold1=25*DEG\n",
    "    threshold2=35*DEG\n",
    "    # переписать для обнавления масива\n",
    "    res1=tf.where(theta<threshold1,3.3836 - 0.01848*theta/DEG,0)\n",
    "    res3=tf.where(theta>threshold2,tf.math.exp(-3.2e-2*theta/DEG + 2.0),0)\n",
    "    a=(0.6511268210e-4*(theta/DEG-0.2614963683))*(theta/DEG*theta/DEG-134.7902422*theta/DEG+4558.524091)\n",
    "    res2=tf.where(tf.math.logical_and(theta > threshold1,theta < threshold2),a,0)\n",
    "    return res1+res2+res3\n",
    "    \n",
    "def courve_fun(detectors,core,t0,theta,phi,signal,mask):\n",
    "    a_ivanov = a_ivanov_fun(theta)\n",
    "    pfs,pps = pfs__pps(detectors,theta,phi,signal,mask)\n",
    "    S_X = tf.where(pps>1e-10,pfs/pps,1)[:,0] # S_800\n",
    "    S_X=tf.expand_dims(S_X,-1)\n",
    "    courve = a_ivanov*1.3/tf.math.sqrt(S_X)\n",
    "    courve = courve\n",
    "#     S_X=tf.expand_dims(S_X,-1)\n",
    "    return courve,S_X\n",
    "def linsley_t(r,S):\n",
    "    return 0.67*tf.math.pow((1 + r/LINSLEY_r0), 1.5)*tf.math.pow(S, -0.5)/1e3\n",
    "def courve_reconstruction(detectors,t0,theta,phi,courve):\n",
    "    # u can read from t_place if in place_reconstruction use core shift\n",
    "#     detectors = detectors_core()\n",
    "    t0=expand_dims(t0) # shape (batch,1,1,1)\n",
    "    theta=expand_dims(theta)\n",
    "    phi = expand_dims(phi)\n",
    "    n=-tf.concat([tf.math.cos(phi)*tf.math.sin(theta),tf.math.sin(phi)*tf.math.sin(theta),tf.math.cos(theta)],axis=-1)\n",
    "    t_place = detectors[:,:,:,0:1]*n[:,:,:,0:1] + detectors[:,:,:,1:2]*n[:,:,:,1:2] + detectors[:,:,:,2:3]*n[:,:,:,2:3]\n",
    "    dist_core = tf.expand_dims(tf.reduce_sum(tf.math.pow(detectors,2),axis=-1),axis=-1) - tf.math.pow(t_place,2)\n",
    "    dist_core = tf.where(dist_core>R_error*R_error,tf.math.sqrt(dist_core),R_error)\n",
    "    LDF=s_profile(dist_core,theta)\n",
    "    td=expand_dims(courve)*linsley_t(dist_core,LDF)/NSEC\n",
    "    return td,LDF\n",
    "def logPua(n,nbar):\n",
    "    print(n.shape,nbar.shape)\n",
    "    last_part = 2*(n*tf.math.log(nbar/(n+1e-8)) + (n - nbar))\n",
    "\n",
    "    nbar_logical=tf.where(nbar < 1e-90,True,False)\n",
    "    n_logical1 = tf.where(n>1e-90,True,False)\n",
    "    res = tf.zeros_like(n)\n",
    "    res=tf.where(tf.logical_and(nbar_logical,n_logical1),-1e-6,res)\n",
    "\n",
    "    else_nbar_logical = tf.logical_not(nbar_logical) \n",
    "    n_logical2 = tf.where(n<1e-20,True,False)\n",
    "\n",
    "    res=tf.where(tf.logical_and(else_nbar_logical,n_logical2),-2*nbar,res)\n",
    "    res=tf.where(tf.logical_and(else_nbar_logical,tf.logical_not(n_logical2)),last_part,res)\n",
    "    return res\n",
    "def chi2L(S_X,s_prof,mask,signal):\n",
    "    s_fit = expand_dims(S_X)*s_prof*mask\n",
    "    qs=signal\n",
    "    s_sigma2 = ( 2*qs/DET_AREA + tf.math.pow( 0.15*qs, 2 ) + 1e-6 )\n",
    "    maskL2 = tf.where(qs>4.0,mask,0)\n",
    "    S=S_X\n",
    "    chi2L2=tf.reduce_sum((qs - s_fit)*(qs - s_fit)/s_sigma2*maskL2,axis=(1,2))\n",
    "#     maskL3 = tf.where(s_fit<4.0,mask,0)\n",
    "#         chi2L3 = -tf.reduce_sum(0.4*self.logPua(S*self.DET_AREA, s_fit*self.DET_AREA)*maskL3,axis=(1,2))\n",
    "#         print(chi2L2.shape,chi3L.shape)\n",
    "    return chi2L2  #+ chi3L\n",
    "def optimization(data,iterats,num,detectors_rub=None):\n",
    "    Adam = tf.keras.optimizers.Adam()\n",
    "    signal = data[:,:,:,0:1]\n",
    "    real_time = data[:,:,:,1:2]+data[:,:,:,2:3]\n",
    "    mask=data[:,:,:,3:4]\n",
    "    batch = data.shape[0]\n",
    "    #detectors\n",
    "#     if not (detectors_rub is None):\n",
    "#         detectors_orig  = detectors_init(data)\n",
    "#         core = core_(detectors_orig ,signal)\n",
    "#         detectors = detectors_core(detectors_orig ,core)\n",
    "#         detectors_z = tf.concat([detectors,tf.zeros_like(detectors[:,:,:,0:1])],axis=-1)\n",
    "#         core = tf.zeros((batch,2))\n",
    "#         use_z=False\n",
    "#     else:\n",
    "    detectors_z = detectors_rub\n",
    "    detectors=detectors_z[:,:,:,:2]\n",
    "    core = tf.zeros((batch,2))\n",
    "    use_z=True\n",
    "    \n",
    "    \n",
    "    t0,theta,phi = place_params(detectors,real_time,mask)\n",
    "    courve,S_X = courve_fun(detectors_z,core,t0,theta,phi,signal,mask)\n",
    "    chi_list=[]\n",
    "    par = [t0,theta,phi,courve,core,S_X]\n",
    "    params=[tf.Variable(p, True) for p in par]\n",
    "#         params=tf.concat([t0,theta,phi,courve,core,S_X],axis=1)\n",
    "    params_list=[]\n",
    "    params_list.append(copy.deepcopy(params))\n",
    "    for i in tqdm.notebook.tqdm_notebook(range(iterats)):\n",
    "        with tf.GradientTape() as gr:  \n",
    "            gr.watch(params)\n",
    "            \n",
    "            t0=params[0]\n",
    "            theta=tf.math.abs(params[1])\n",
    "            phi=params[2]\n",
    "            courve=params[3]\n",
    "            core=params[4]\n",
    "            S_X=params[5]\n",
    "            detectors_z = detectors_core(detectors_z ,core)\n",
    "            t_place = place_reconstruction(detectors_z,mask,t0,theta,phi,use_z)\n",
    "            td,s_prof = courve_reconstruction(detectors_z,t0,theta,phi,courve)  #update LDF <==> s_profile\n",
    "            t_sigma2=(t0_err*t0_err + td*td) * t_err_res\n",
    "            time_reco = expand_dims(t0) + t_place +td\n",
    "            chi_T=tf.reduce_sum(tf.math.pow((time_reco-real_time)*mask,2)/t_sigma2,axis=(1,2))\n",
    "            chi_L=chi2L(S_X,s_prof,mask,signal)\n",
    "            chi = chi_T +chi_L\n",
    "            print(tf.reduce_mean(chi_T),tf.reduce_mean(chi_L),end='\\r')\n",
    "            if num:\n",
    "                print(chi_T[num],chi_L[num],[np.array(i[num]) for i in params],end='\\r')\n",
    "            chi_list.append(chi)\n",
    "            grad=gr.gradient(chi,params)[:6]\n",
    "#             print([tf.reduce_mean(i) for i in grad],end = '\\r')\n",
    "            Adam.apply_gradients(zip(grad, params))\n",
    "            params_list.append(copy.deepcopy(params))\n",
    "    for s1,p1 in enumerate(params_list):\n",
    "        p2=tf.concat(p1,axis=1)\n",
    "        params_list[s1]=p2\n",
    "    params_list = np.array(params_list)\n",
    "    return np.array(chi_list), params_list"
   ]
  },
  {
   "cell_type": "code",
   "execution_count": 7,
   "metadata": {},
   "outputs": [
    {
     "data": {
      "application/vnd.jupyter.widget-view+json": {
       "model_id": "c230c9ae63bf46e68cf45734fc45a2fd",
       "version_major": 2,
       "version_minor": 0
      },
      "text/plain": [
       "HBox(children=(FloatProgress(value=0.0, max=10.0), HTML(value='')))"
      ]
     },
     "metadata": {},
     "output_type": "display_data"
    },
    {
     "name": "stdout",
     "output_type": "stream",
     "text": [
      "tf.Tensor([0.06421146], shape=(1,), dtype=float32) tf.Tensor([0.29501882], shape=(1,), dtype=float32) [array([1.4699197], dtype=float32), array([0.17524591], dtype=float32), array([5.6284146], dtype=float32), array([1.47466], dtype=float32), array([0.0042441 , 0.00157665], dtype=float32), array([7.978988], dtype=float32)])]\n"
     ]
    }
   ],
   "source": [
    "chi, params = optimization(data[:100],10,num=3,detectors_rub=detectors_rub[:100])"
   ]
  },
  {
   "cell_type": "code",
   "execution_count": 8,
   "metadata": {},
   "outputs": [
    {
     "data": {
      "text/plain": [
       "array([34.24294  , 35.273605 ,  9.416292 , 10.008416 , 19.400587 ,\n",
       "        7.413475 ,  4.1798325, 19.06046  , 17.300047 , 12.419002 ,\n",
       "       42.84209  , 29.263914 , 39.238773 , 29.598013 , 18.783335 ,\n",
       "       28.756466 , 27.409576 , 34.344776 , 32.57174  , 33.932285 ,\n",
       "       19.024467 , 32.04915  , 27.916174 , 30.301607 , 29.626854 ,\n",
       "       27.637062 , 34.99672  , 24.66463  , 29.12309  , 28.4528   ,\n",
       "       32.549572 , 21.841467 , 39.17608  , 13.028918 , 10.664775 ,\n",
       "       20.32809  ,  2.198441 , 19.171705 , 20.727291 , 20.478462 ,\n",
       "       18.128141 , 17.104626 , 19.12621  , 10.575434 , 20.999846 ,\n",
       "       15.855022 , 14.476676 , 10.320595 ,  2.731971 , 15.450365 ,\n",
       "       15.891763 , 16.475952 , 17.616356 , 28.694862 ,  9.62127  ,\n",
       "       14.716595 , 14.23648  , 41.094257 , 46.24583  , 48.53893  ,\n",
       "       43.31191  , 43.79989  , 44.081585 , 37.696117 , 44.146935 ,\n",
       "       40.565132 , 39.75089  , 41.342983 , 44.178722 , 37.703236 ,\n",
       "       41.209805 , 45.38543  , 46.88255  , 41.73753  , 34.409393 ,\n",
       "       31.63379  , 39.066765 , 42.794556 , 44.876328 , 45.758648 ,\n",
       "       45.553143 , 41.021614 , 40.481907 , 40.608654 , 42.124336 ,\n",
       "       42.37484  , 42.98777  , 44.841465 , 43.525337 , 45.095253 ,\n",
       "       41.033333 , 35.3567   , 42.567394 , 44.956284 , 39.73798  ,\n",
       "       39.883686 , 32.595387 , 42.96381  , 42.818115 , 41.643623 ],\n",
       "      dtype=float32)"
      ]
     },
     "execution_count": 8,
     "metadata": {},
     "output_type": "execute_result"
    }
   ],
   "source": [
    "params[-1,:,1]*180/3.1415"
   ]
  },
  {
   "cell_type": "code",
   "execution_count": 9,
   "metadata": {},
   "outputs": [
    {
     "data": {
      "text/plain": [
       "<tf.Tensor: shape=(), dtype=int32, numpy=0>"
      ]
     },
     "execution_count": 9,
     "metadata": {},
     "output_type": "execute_result"
    }
   ],
   "source": [
    "tf.reduce_sum(tf.where(params[-1,:,1]<0,1,0))"
   ]
  },
  {
   "cell_type": "markdown",
   "metadata": {},
   "source": [
    "# Проверка по параметрам рубцова"
   ]
  },
  {
   "cell_type": "markdown",
   "metadata": {},
   "source": [
    "## проверка плоского фронта"
   ]
  },
  {
   "cell_type": "code",
   "execution_count": 10,
   "metadata": {},
   "outputs": [
    {
     "name": "stdout",
     "output_type": "stream",
     "text": [
      "8 (8, 3)\n"
     ]
    }
   ],
   "source": [
    "ev = ev_starts[1] \n",
    "all_det=dt_params[0:ev,:3] * 1.2\n",
    "signal = dt_params[0:ev,3:4]\n",
    "flat_time= dt_params[0:ev,4:5]\n",
    "real_time = dt_params[0:ev,5:6] + flat_time\n",
    "print(ev,all_det.shape)"
   ]
  },
  {
   "cell_type": "code",
   "execution_count": 11,
   "metadata": {},
   "outputs": [],
   "source": [
    "Adam = tf.keras.optimizers.Adam()\n",
    "signal = data[:,:,:,0:1]\n",
    "real_time = data[:,:,:,1:2]+data[:,:,:,2:3]\n",
    "mask=data[:,:,:,3:4]\n",
    "batch = data.shape[0]\n",
    "#detectors\n",
    "#     if not (detectors_rub is None):\n",
    "#         detectors_orig  = detectors_init(data)\n",
    "#         core = core_(detectors_orig ,signal)\n",
    "#         detectors = detectors_core(detectors_orig ,core)\n",
    "#         detectors_z = tf.concat([detectors,tf.zeros_like(detectors[:,:,:,0:1])],axis=-1)\n",
    "#         core = tf.zeros((batch,2))\n",
    "#         use_z=False\n",
    "#     else:\n",
    "detectors_z = detectors_rub\n",
    "detectors=detectors_z[:,:,:,:2]\n",
    "core = tf.zeros((batch,2))\n",
    "use_z=True\n",
    "\n",
    "\n",
    "t0,theta,phi = place_params(detectors,real_time,mask)\n",
    "courve,S_X = courve_fun(detectors_z,core,t0,theta,phi,signal,mask)"
   ]
  },
  {
   "cell_type": "code",
   "execution_count": 12,
   "metadata": {},
   "outputs": [
    {
     "data": {
      "text/plain": [
       "<tf.Tensor: shape=(6, 6), dtype=float32, numpy=\n",
       "array([[ 0.        ,  0.        ,  0.        ,  0.        ,  0.        ,\n",
       "         0.        ],\n",
       "       [ 0.        ,  0.        ,  0.        ,  0.00068855,  0.00055552,\n",
       "         0.        ],\n",
       "       [ 0.        ,  0.        , -0.0003643 , -0.00011015,  0.00003505,\n",
       "         0.        ],\n",
       "       [ 0.        ,  0.        ,  0.00019288, -0.00039762,  0.        ,\n",
       "         0.        ],\n",
       "       [ 0.        ,  0.        , -0.00069308,  0.        ,  0.        ,\n",
       "         0.        ],\n",
       "       [ 0.        ,  0.        ,  0.        ,  0.        ,  0.        ,\n",
       "         0.        ]], dtype=float32)>"
      ]
     },
     "execution_count": 12,
     "metadata": {},
     "output_type": "execute_result"
    }
   ],
   "source": [
    "theta_ = tf.constant(ev_params[:2000,0:1]/180*3.1415)\n",
    "phi_ = tf.constant(ev_params[:2000,1:2]/180*3.1415)\n",
    "t_place = place_reconstruction(detectors_rub[:,:,:,:3],mask,t0,theta_,phi_,True)\n",
    "t_place[0,:,:,0] - data[0,:,:,1]"
   ]
  },
  {
   "cell_type": "markdown",
   "metadata": {},
   "source": [
    "$\\textbf{Плоский фронт верно реконструирует}$"
   ]
  },
  {
   "cell_type": "code",
   "execution_count": 16,
   "metadata": {},
   "outputs": [
    {
     "name": "stdout",
     "output_type": "stream",
     "text": [
      "(2000, 6, 6, 3) (2000, 6, 6, 1) (2000, 1) (2000, 1) (2000, 1)\n",
      "<dtype: 'float32'> float32\n"
     ]
    },
    {
     "data": {
      "text/plain": [
       "<tf.Tensor: shape=(6, 6), dtype=float32, numpy=\n",
       "array([[ 0.       ,  0.       ,  0.       ,  0.       ,  0.       ,\n",
       "         0.       ],\n",
       "       [ 0.       ,  0.       ,  0.       , -2.3123114, -4.5444446,\n",
       "         0.       ],\n",
       "       [ 0.       ,  0.       ,  1.1856357, -1.1551101, -3.480965 ,\n",
       "         0.       ],\n",
       "       [ 0.       ,  0.       ,  2.256193 , -0.2973976,  0.       ,\n",
       "         0.       ],\n",
       "       [ 0.       ,  0.       ,  3.269307 ,  0.       ,  0.       ,\n",
       "         0.       ],\n",
       "       [ 0.       ,  0.       ,  0.       ,  0.       ,  0.       ,\n",
       "         0.       ]], dtype=float32)>"
      ]
     },
     "execution_count": 16,
     "metadata": {},
     "output_type": "execute_result"
    }
   ],
   "source": [
    "def place_reconstruction_6(detectors,mask,t0,theta,phi,use_z=False):\n",
    "    print(detectors.shape,mask.shape,t0.shape,theta.shape,phi.shape)\n",
    "    t0=expand_dims(t0) # shape (batch,1,1,1)\n",
    "    theta=expand_dims(theta)\n",
    "    phi =expand_dims(phi)\n",
    "    if use_z:\n",
    "        n=-tf.concat([tf.math.cos(phi)*tf.math.sin(theta),tf.math.sin(phi)*tf.math.sin(theta),tf.math.cos(theta)],axis=-1)\n",
    "    else:\n",
    "        n=-tf.concat([tf.math.cos(phi)*tf.math.sin(theta),tf.math.sin(phi)*tf.math.sin(theta)],axis=-1)\n",
    "    print(n.dtype,detectors.dtype)\n",
    "    t_place =  tf.expand_dims(tf.reduce_sum(detectors*n,axis=-1),-1)*(1e6/c)\n",
    "    t_place = t_place*mask\n",
    "    return t_place\n",
    "t_place = place_reconstruction_6(detectors_rub[:,:,:,:3],mask,t0,theta_,phi_,True)\n",
    "t_place[0,:,:,0]"
   ]
  },
  {
   "cell_type": "code",
   "execution_count": null,
   "metadata": {},
   "outputs": [],
   "source": []
  },
  {
   "cell_type": "code",
   "execution_count": 115,
   "metadata": {},
   "outputs": [
    {
     "data": {
      "text/plain": [
       "<tf.Tensor: shape=(1, 8, 1), dtype=float32, numpy=\n",
       "array([[[-4.5444446],\n",
       "        [-3.480965 ],\n",
       "        [-2.3123114],\n",
       "        [-1.1551101],\n",
       "        [-0.2973976],\n",
       "        [ 1.1856357],\n",
       "        [ 2.256193 ],\n",
       "        [ 3.269307 ]]], dtype=float32)>"
      ]
     },
     "execution_count": 115,
     "metadata": {},
     "output_type": "execute_result"
    }
   ],
   "source": [
    "def place_reconstruction(detectors,mask,t0,theta,phi,use_z=False):\n",
    "    t0=expand_dims(t0) # shape (batch,1,1,1)\n",
    "    theta=expand_dims(theta)\n",
    "    phi =expand_dims(phi)\n",
    "    if use_z:\n",
    "        n=-tf.concat([tf.math.cos(phi)*tf.math.sin(theta),tf.math.sin(phi)*tf.math.sin(theta),tf.math.cos(theta)],axis=-1)\n",
    "    else:\n",
    "        n=-tf.concat([tf.math.cos(phi)*tf.math.sin(theta),tf.math.sin(phi)*tf.math.sin(theta)],axis=-1)\n",
    "    t_place =  tf.expand_dims(tf.reduce_sum(detectors*n,axis=-1),-1)*(1e6/c)\n",
    "#     t_place = t_place*mask\n",
    "    return t_place\n",
    "flat_reco = place_reconstruction(all_det,mask,t0[0],theta_[0],phi_[0],True)\n",
    "flat_reco"
   ]
  },
  {
   "cell_type": "code",
   "execution_count": 119,
   "metadata": {},
   "outputs": [
    {
     "data": {
      "text/plain": [
       "array([[-1.60974   ,  1.56306   ,  0.05728452],\n",
       "       [-0.41123042,  1.565736  ,  0.04222596],\n",
       "       [-1.5380641 ,  0.4369476 ,  0.05746908],\n",
       "       [-0.4137888 ,  0.366468  ,  0.03603528],\n",
       "       [ 0.7089216 ,  0.43382162,  0.02715168],\n",
       "       [-0.411144  , -0.82945687,  0.02331492],\n",
       "       [ 0.7868293 , -0.84104043,  0.015981  ],\n",
       "       [ 1.9251721 , -0.8490432 ,  0.00837841]], dtype=float32)"
      ]
     },
     "execution_count": 119,
     "metadata": {},
     "output_type": "execute_result"
    }
   ],
   "source": [
    "all_det"
   ]
  },
  {
   "cell_type": "code",
   "execution_count": 118,
   "metadata": {},
   "outputs": [
    {
     "data": {
      "text/plain": [
       "array([[-4.545],\n",
       "       [-3.481],\n",
       "       [-2.313],\n",
       "       [-1.155],\n",
       "       [-0.297],\n",
       "       [ 1.186],\n",
       "       [ 2.256],\n",
       "       [ 3.27 ]], dtype=float32)"
      ]
     },
     "execution_count": 118,
     "metadata": {},
     "output_type": "execute_result"
    }
   ],
   "source": [
    "flat_time"
   ]
  },
  {
   "cell_type": "markdown",
   "metadata": {},
   "source": [
    "## проверка ривого фронта"
   ]
  },
  {
   "cell_type": "code",
   "execution_count": 120,
   "metadata": {},
   "outputs": [],
   "source": [
    "def eta_fun(theta):\n",
    "    x=theta*180/3.14\n",
    "\n",
    "    e1 = 3.97 - 1.79*(tf.math.abs(1.0/tf.math.cos(theta)) - 1.0)\n",
    "    e2 = ((((((-1.71299934e-10*x + 4.23849411e-08)*x -3.76192000e-06)*x\n",
    "               + 1.35747298e-04)*x -2.18241567e-03)*x + 1.18960682e-02)*x\n",
    "             + 3.70692527e+00)\n",
    "    res = tf.where(x<62.7,e1,e2)\n",
    "#     res =tf.where(res>0,res,0)\n",
    "    return res"
   ]
  },
  {
   "cell_type": "code",
   "execution_count": 22,
   "metadata": {},
   "outputs": [],
   "source": [
    "LINSLEY_r0=tf.constant(0.030,dtype=tf.float32)\n",
    "NSEC= tf.constant(1e9/c,dtype=tf.float32)# in rubsov's code is a time for 1.2 km 1.2/c*1e9\n",
    "def linsley_t(r,S):\n",
    "    return 0.67*tf.math.pow((1 + r/LINSLEY_r0), 1.5)*tf.math.pow(S, -0.5)*1e-3\n",
    "def s_profile_tasimple(r_ta,theta,fl=False):\n",
    "    # убрать 1,2\n",
    "    UNIT = 1000.0\n",
    "    r = r_ta * UNIT \n",
    "    eta=eta_fun(theta)# batch,1,1\n",
    "    eta=tf.repeat(eta,6,axis=1)\n",
    "    eta=tf.repeat(eta,6,axis=2)\n",
    "#     print('eta',eta.shape)\n",
    "    # eta shape is batch,6,6\n",
    "    Rm = tf.constant(90,dtype=tf.float32)# убрал 1.2 из-за Unit\n",
    "    R1 = tf.constant(1000,dtype=tf.float32)\n",
    "#     print('shape sprofile',r.shape,Rm.shape,R1.shape,eta.shape,theta.shape)\n",
    "    print('r',r.shape)\n",
    "    if fl:\n",
    "        print('  ',(r/Rm)[0,:,:,0])\n",
    "    return (tf.math.pow((r/Rm),-1.2)*tf.math.pow((1+r/Rm), -(eta-1.2))*tf.math.pow(1+(tf.math.pow(r,2)/R1/R1),-0.6))\n",
    "\n",
    "def s_profile(r_ta, theta):\n",
    "    #r_ta shape batch,6,6\n",
    "    print('r_prof',r_ta.shape)\n",
    "    f800=s_profile_tasimple(expand_dims(tf.constant(0.8)), theta,fl=False)\n",
    "    print(\"f800\",f800.shape)\n",
    "    return s_profile_tasimple(r_ta, theta)/f800\n",
    "\n",
    "# def courve_reconstruction(detectors,t0,theta,phi,courve):\n",
    "# #     t0=tf.expand_dims(t0,-1) # shape (batch,1,1,1)\n",
    "# #     theta=tf.expand_dims(theta,-1)\n",
    "# #     phi = tf.expand_dims(phi,-1)\n",
    "#     print('angle', theta,phi)\n",
    "#     n=tf.concat([tf.math.cos(phi)*tf.math.sin(theta),tf.math.sin(phi)*tf.math.sin(theta),tf.math.cos(theta)],axis=-1)\n",
    "#     print('n',n.shape)\n",
    "#     t_place = detectors[:,0:1]*n[:,0:1] + detectors[:,1:2]*n[:,1:2] + detectors[:,2:3]*n[:,2:3]\n",
    "    \n",
    "# #     print(\"t_place\",t_place[0,:,:,0])\n",
    "#     dist_core = tf.expand_dims(tf.reduce_sum(tf.math.pow(detectors,2),axis=-1),axis=-1) - tf.math.pow(t_place,2)\n",
    "# #     dist_core = tf.where(dist_core>R_error*R_error,tf.math.sqrt(dist_core),R_error)\n",
    "# #     dist_core = tf.where(dist_core,tf.math.sqrt(dist_core),0)\n",
    "# #     print(\"dist_core\",dist_core[0,:,:,0])\n",
    "#     # add mask\n",
    "#     dist_core = tf.math.sqrt(dist_core)#*mask\n",
    "#     print('dist_core',dist_core)\n",
    "# #     print(\"dist_core after\",dist_core[0,:,:,0])\n",
    "#     # add mask\n",
    "#     LDF=s_profile(dist_core,theta)#*mask\n",
    "#     print('LDF',LDF.shape,courve.shape,linsley_t(dist_core,LDF).shape)\n",
    "#     td=courve*linsley_t(dist_core,LDF)\n",
    "#     print('td',td.shape)\n",
    "#     return td,LDF\n",
    "def courve_reconstruction(detectors,t0,theta,phi,courve):\n",
    "    # u can read from t_place if in place_reconstruction use core shift\n",
    "#     detectors = detectors_core()\n",
    "    t0=expand_dims(t0) # shape (batch,1,1,1)\n",
    "    theta=expand_dims(theta)\n",
    "    phi = expand_dims(phi)\n",
    "    n=-tf.concat([tf.math.cos(phi)*tf.math.sin(theta),tf.math.sin(phi)*tf.math.sin(theta),tf.math.cos(theta)],axis=-1)\n",
    "    t_place = detectors[:,:,:,0:1]*n[:,:,:,0:1] + detectors[:,:,:,1:2]*n[:,:,:,1:2] + detectors[:,:,:,2:3]*n[:,:,:,2:3]\n",
    "    dist_core = tf.expand_dims(tf.reduce_sum(tf.math.pow(detectors,2),axis=-1),axis=-1) - tf.math.pow(t_place,2)\n",
    "    dist_core = tf.where(dist_core>0,tf.math.sqrt(dist_core),0)\n",
    "    print('dist_core',dist_core[0,:,:,0],theta[0])\n",
    "    LDF=s_profile(dist_core,theta)\n",
    "    td=expand_dims(courve)*linsley_t(dist_core,LDF)\n",
    "    return td,LDF"
   ]
  },
  {
   "cell_type": "code",
   "execution_count": 23,
   "metadata": {},
   "outputs": [
    {
     "name": "stdout",
     "output_type": "stream",
     "text": [
      "(2000,) (2000,)\n"
     ]
    }
   ],
   "source": [
    "_aprime = recos[:,6]\n",
    "_S800 = recos[:,2]\n",
    "print(_aprime.shape,_S800.shape)\n",
    "#     S_X = tf.where(pps>1e-10,pfs/pps,1)[:,0] # S_800\n",
    "#     S_X=tf.expand_dims(S_X,-1)\n",
    "#     courve = a_ivanov*1.3/tf.math.sqrt(S_X)"
   ]
  },
  {
   "cell_type": "code",
   "execution_count": 24,
   "metadata": {},
   "outputs": [
    {
     "data": {
      "text/plain": [
       "<tf.Tensor: shape=(2000, 1), dtype=float32, numpy=\n",
       "array([[0.912055],\n",
       "       [0.752797],\n",
       "       [0.692234],\n",
       "       ...,\n",
       "       [0.448678],\n",
       "       [1.05899 ],\n",
       "       [0.655279]], dtype=float32)>"
      ]
     },
     "execution_count": 24,
     "metadata": {},
     "output_type": "execute_result"
    }
   ],
   "source": [
    "courve_= tf.expand_dims(_aprime,-1)#/tf.expand_dims(tf.math.sqrt(_S800),-1)\n",
    "courve_"
   ]
  },
  {
   "cell_type": "code",
   "execution_count": 25,
   "metadata": {},
   "outputs": [
    {
     "name": "stdout",
     "output_type": "stream",
     "text": [
      "dist_core tf.Tensor(\n",
      "[[8.264659   8.264659   8.264659   8.264659   8.264659   8.264659  ]\n",
      " [8.264659   8.264659   8.264659   1.4419856  1.7837025  8.264659  ]\n",
      " [8.264659   8.264659   0.85512614 0.43231875 1.2383015  8.264659  ]\n",
      " [8.264659   8.264659   0.9323099  0.8267764  8.264659   8.264659  ]\n",
      " [8.264659   8.264659   1.8618833  8.264659   8.264659   8.264659  ]\n",
      " [8.264659   8.264659   8.264659   8.264659   8.264659   8.264659  ]], shape=(6, 6), dtype=float32) tf.Tensor([[[0.685121]]], shape=(1, 1, 1), dtype=float32)\n",
      "r_prof (2000, 6, 6, 1)\n",
      "r (1, 1)\n",
      "f800 (2000, 6, 6, 1)\n",
      "r (2000, 6, 6, 1)\n"
     ]
    }
   ],
   "source": [
    "courve_front,LDF = courve_reconstruction(detectors_rub,t0,theta_,phi_,courve_)"
   ]
  },
  {
   "cell_type": "code",
   "execution_count": 21,
   "metadata": {},
   "outputs": [
    {
     "data": {
      "text/plain": [
       "<tf.Tensor: shape=(2000, 6, 6, 1), dtype=float32, numpy=\n",
       "array([[[[0.00004177],\n",
       "         [0.00004177],\n",
       "         [0.00004177],\n",
       "         [0.00004177],\n",
       "         [0.00004177],\n",
       "         [0.00004177]],\n",
       "\n",
       "        [[0.00004177],\n",
       "         [0.00004177],\n",
       "         [0.00004177],\n",
       "         [0.09965044],\n",
       "         [0.04086046],\n",
       "         [0.00004177]],\n",
       "\n",
       "        [[0.00004177],\n",
       "         [0.00004177],\n",
       "         [0.78069603],\n",
       "         [8.421593  ],\n",
       "         [0.18535163],\n",
       "         [0.00004177]],\n",
       "\n",
       "        [[0.00004177],\n",
       "         [0.00004177],\n",
       "         [0.5633958 ],\n",
       "         [0.8852532 ],\n",
       "         [0.00004177],\n",
       "         [0.00004177]],\n",
       "\n",
       "        [[0.00004177],\n",
       "         [0.00004177],\n",
       "         [0.03402905],\n",
       "         [0.00004177],\n",
       "         [0.00004177],\n",
       "         [0.00004177]],\n",
       "\n",
       "        [[0.00004177],\n",
       "         [0.00004177],\n",
       "         [0.00004177],\n",
       "         [0.00004177],\n",
       "         [0.00004177],\n",
       "         [0.00004177]]],\n",
       "\n",
       "\n",
       "       [[[0.00004729],\n",
       "         [0.00004729],\n",
       "         [0.00004729],\n",
       "         [0.00004729],\n",
       "         [0.00004729],\n",
       "         [0.00004729]],\n",
       "\n",
       "        [[0.00004729],\n",
       "         [0.00004729],\n",
       "         [0.10292187],\n",
       "         [0.08426754],\n",
       "         [0.00004729],\n",
       "         [0.00004729]],\n",
       "\n",
       "        [[0.00004729],\n",
       "         [0.00004729],\n",
       "         [2.1002896 ],\n",
       "         [1.3319031 ],\n",
       "         [0.00004729],\n",
       "         [0.00004729]],\n",
       "\n",
       "        [[0.00004729],\n",
       "         [0.00004729],\n",
       "         [0.8764268 ],\n",
       "         [0.6421801 ],\n",
       "         [0.00004729],\n",
       "         [0.00004729]],\n",
       "\n",
       "        [[0.00004729],\n",
       "         [0.00004729],\n",
       "         [0.00004729],\n",
       "         [0.05687714],\n",
       "         [0.00004729],\n",
       "         [0.00004729]],\n",
       "\n",
       "        [[0.00004729],\n",
       "         [0.00004729],\n",
       "         [0.00004729],\n",
       "         [0.00004729],\n",
       "         [0.00004729],\n",
       "         [0.00004729]]],\n",
       "\n",
       "\n",
       "       [[[0.00001197],\n",
       "         [0.00001197],\n",
       "         [0.00001197],\n",
       "         [0.00001197],\n",
       "         [0.00001197],\n",
       "         [0.00001197]],\n",
       "\n",
       "        [[0.00001197],\n",
       "         [0.00001197],\n",
       "         [0.00001197],\n",
       "         [0.00001197],\n",
       "         [0.00001197],\n",
       "         [0.00001197]],\n",
       "\n",
       "        [[0.00001197],\n",
       "         [0.03216147],\n",
       "         [1.5663633 ],\n",
       "         [0.5211099 ],\n",
       "         [0.00001197],\n",
       "         [0.00001197]],\n",
       "\n",
       "        [[0.00001197],\n",
       "         [0.00001197],\n",
       "         [1.1101985 ],\n",
       "         [0.41885573],\n",
       "         [0.00001197],\n",
       "         [0.00001197]],\n",
       "\n",
       "        [[0.00001197],\n",
       "         [0.00597626],\n",
       "         [0.02142018],\n",
       "         [0.00001197],\n",
       "         [0.00001197],\n",
       "         [0.00001197]],\n",
       "\n",
       "        [[0.00001197],\n",
       "         [0.00001197],\n",
       "         [0.00001197],\n",
       "         [0.00001197],\n",
       "         [0.00001197],\n",
       "         [0.00001197]]],\n",
       "\n",
       "\n",
       "       ...,\n",
       "\n",
       "\n",
       "       [[[0.00003624],\n",
       "         [0.00003624],\n",
       "         [0.00003624],\n",
       "         [0.00003624],\n",
       "         [0.00003624],\n",
       "         [0.00003624]],\n",
       "\n",
       "        [[0.00003624],\n",
       "         [0.00003624],\n",
       "         [0.00003624],\n",
       "         [0.08685937],\n",
       "         [0.00003624],\n",
       "         [0.00003624]],\n",
       "\n",
       "        [[0.00003624],\n",
       "         [0.1621074 ],\n",
       "         [0.00003624],\n",
       "         [0.49700308],\n",
       "         [0.00003624],\n",
       "         [0.00003624]],\n",
       "\n",
       "        [[0.00003624],\n",
       "         [0.18410859],\n",
       "         [1.2331264 ],\n",
       "         [0.11430773],\n",
       "         [0.00003624],\n",
       "         [0.00003624]],\n",
       "\n",
       "        [[0.00003624],\n",
       "         [0.00003624],\n",
       "         [0.00003624],\n",
       "         [0.00003624],\n",
       "         [0.00003624],\n",
       "         [0.00003624]],\n",
       "\n",
       "        [[0.00003624],\n",
       "         [0.00003624],\n",
       "         [0.00003624],\n",
       "         [0.00003624],\n",
       "         [0.00003624],\n",
       "         [0.00003624]]],\n",
       "\n",
       "\n",
       "       [[[0.00003457],\n",
       "         [0.00003457],\n",
       "         [0.00003457],\n",
       "         [0.00003457],\n",
       "         [0.00003457],\n",
       "         [0.00003457]],\n",
       "\n",
       "        [[0.00003457],\n",
       "         [0.00003457],\n",
       "         [0.00003457],\n",
       "         [0.00003457],\n",
       "         [0.00003457],\n",
       "         [0.00003457]],\n",
       "\n",
       "        [[0.00003457],\n",
       "         [0.00003457],\n",
       "         [0.21935292],\n",
       "         [0.38470948],\n",
       "         [0.00003457],\n",
       "         [0.00003457]],\n",
       "\n",
       "        [[0.00003457],\n",
       "         [0.0748098 ],\n",
       "         [6.8649063 ],\n",
       "         [2.2493849 ],\n",
       "         [0.00003457],\n",
       "         [0.00003457]],\n",
       "\n",
       "        [[0.00003457],\n",
       "         [0.00003457],\n",
       "         [0.23745798],\n",
       "         [0.09739589],\n",
       "         [0.00003457],\n",
       "         [0.00003457]],\n",
       "\n",
       "        [[0.00003457],\n",
       "         [0.00003457],\n",
       "         [0.00003457],\n",
       "         [0.00003457],\n",
       "         [0.00003457],\n",
       "         [0.00003457]]],\n",
       "\n",
       "\n",
       "       [[[0.00004802],\n",
       "         [0.00004802],\n",
       "         [0.00004802],\n",
       "         [0.00004802],\n",
       "         [0.00004802],\n",
       "         [0.00004802]],\n",
       "\n",
       "        [[0.00004802],\n",
       "         [0.01522236],\n",
       "         [0.00004802],\n",
       "         [0.00004802],\n",
       "         [0.00004802],\n",
       "         [0.00004802]],\n",
       "\n",
       "        [[0.01851795],\n",
       "         [0.00004802],\n",
       "         [1.4268836 ],\n",
       "         [0.29238433],\n",
       "         [0.0293904 ],\n",
       "         [0.00004802]],\n",
       "\n",
       "        [[0.00004802],\n",
       "         [0.39880118],\n",
       "         [6.8136063 ],\n",
       "         [0.30931538],\n",
       "         [0.00004802],\n",
       "         [0.00004802]],\n",
       "\n",
       "        [[0.01152036],\n",
       "         [0.00004802],\n",
       "         [0.05425125],\n",
       "         [0.02793029],\n",
       "         [0.00004802],\n",
       "         [0.00004802]],\n",
       "\n",
       "        [[0.00004802],\n",
       "         [0.00004802],\n",
       "         [0.00004802],\n",
       "         [0.00004802],\n",
       "         [0.00004802],\n",
       "         [0.00004802]]]], dtype=float32)>"
      ]
     },
     "execution_count": 21,
     "metadata": {},
     "output_type": "execute_result"
    }
   ],
   "source": [
    "LDF"
   ]
  },
  {
   "cell_type": "code",
   "execution_count": 188,
   "metadata": {},
   "outputs": [
    {
     "data": {
      "text/plain": [
       "<tf.Tensor: shape=(6, 6), dtype=float32, numpy=\n",
       "array([[0.        , 0.        , 0.        , 0.        , 0.        ,\n",
       "        0.        ],\n",
       "       [0.        , 0.        , 0.        , 0.6653187 , 1.421057  ,\n",
       "        0.        ],\n",
       "       [0.        , 0.        , 0.11083598, 0.01273882, 0.39016616,\n",
       "        0.        ],\n",
       "       [0.        , 0.        , 0.14790389, 0.09912462, 0.        ,\n",
       "        0.        ],\n",
       "       [0.        , 0.        , 1.6589396 , 0.        , 0.        ,\n",
       "        0.        ],\n",
       "       [0.        , 0.        , 0.        , 0.        , 0.        ,\n",
       "        0.        ]], dtype=float32)>"
      ]
     },
     "execution_count": 188,
     "metadata": {},
     "output_type": "execute_result"
    }
   ],
   "source": [
    "i=0\n",
    "courve_front[i,:,:,0]*mask[i,:,:,0]"
   ]
  },
  {
   "cell_type": "code",
   "execution_count": 164,
   "metadata": {},
   "outputs": [
    {
     "ename": "IndexError",
     "evalue": "too many indices for array: array is 2-dimensional, but 4 were indexed",
     "output_type": "error",
     "traceback": [
      "\u001b[0;31m---------------------------------------------------------------------------\u001b[0m",
      "\u001b[0;31mIndexError\u001b[0m                                Traceback (most recent call last)",
      "\u001b[0;32m<ipython-input-164-3ca3e556f403>\u001b[0m in \u001b[0;36m<module>\u001b[0;34m\u001b[0m\n\u001b[0;32m----> 1\u001b[0;31m \u001b[0mcourve_front\u001b[0m\u001b[0;34m,\u001b[0m\u001b[0mLDF\u001b[0m \u001b[0;34m=\u001b[0m \u001b[0mcourve_reconstruction\u001b[0m\u001b[0;34m(\u001b[0m\u001b[0mall_det\u001b[0m\u001b[0;34m,\u001b[0m\u001b[0mt0\u001b[0m\u001b[0;34m[\u001b[0m\u001b[0;36m0\u001b[0m\u001b[0;34m:\u001b[0m\u001b[0;36m1\u001b[0m\u001b[0;34m]\u001b[0m\u001b[0;34m,\u001b[0m\u001b[0mtheta_\u001b[0m\u001b[0;34m[\u001b[0m\u001b[0;36m0\u001b[0m\u001b[0;34m:\u001b[0m\u001b[0;36m1\u001b[0m\u001b[0;34m]\u001b[0m\u001b[0;34m,\u001b[0m\u001b[0mphi_\u001b[0m\u001b[0;34m[\u001b[0m\u001b[0;36m0\u001b[0m\u001b[0;34m:\u001b[0m\u001b[0;36m1\u001b[0m\u001b[0;34m]\u001b[0m\u001b[0;34m,\u001b[0m\u001b[0mcourve_\u001b[0m\u001b[0;34m[\u001b[0m\u001b[0;36m0\u001b[0m\u001b[0;34m:\u001b[0m\u001b[0;36m1\u001b[0m\u001b[0;34m]\u001b[0m\u001b[0;34m)\u001b[0m\u001b[0;34m\u001b[0m\u001b[0;34m\u001b[0m\u001b[0m\n\u001b[0m\u001b[1;32m      2\u001b[0m \u001b[0;31m#TODO add *mask in function\u001b[0m\u001b[0;34m\u001b[0m\u001b[0;34m\u001b[0m\u001b[0;34m\u001b[0m\u001b[0m\n",
      "\u001b[0;32m<ipython-input-158-8f60641d1646>\u001b[0m in \u001b[0;36mcourve_reconstruction\u001b[0;34m(detectors, t0, theta, phi, courve)\u001b[0m\n\u001b[1;32m     58\u001b[0m     \u001b[0mphi\u001b[0m \u001b[0;34m=\u001b[0m \u001b[0mexpand_dims\u001b[0m\u001b[0;34m(\u001b[0m\u001b[0mphi\u001b[0m\u001b[0;34m)\u001b[0m\u001b[0;34m\u001b[0m\u001b[0;34m\u001b[0m\u001b[0m\n\u001b[1;32m     59\u001b[0m     \u001b[0mn\u001b[0m\u001b[0;34m=\u001b[0m\u001b[0;34m-\u001b[0m\u001b[0mtf\u001b[0m\u001b[0;34m.\u001b[0m\u001b[0mconcat\u001b[0m\u001b[0;34m(\u001b[0m\u001b[0;34m[\u001b[0m\u001b[0mtf\u001b[0m\u001b[0;34m.\u001b[0m\u001b[0mmath\u001b[0m\u001b[0;34m.\u001b[0m\u001b[0mcos\u001b[0m\u001b[0;34m(\u001b[0m\u001b[0mphi\u001b[0m\u001b[0;34m)\u001b[0m\u001b[0;34m*\u001b[0m\u001b[0mtf\u001b[0m\u001b[0;34m.\u001b[0m\u001b[0mmath\u001b[0m\u001b[0;34m.\u001b[0m\u001b[0msin\u001b[0m\u001b[0;34m(\u001b[0m\u001b[0mtheta\u001b[0m\u001b[0;34m)\u001b[0m\u001b[0;34m,\u001b[0m\u001b[0mtf\u001b[0m\u001b[0;34m.\u001b[0m\u001b[0mmath\u001b[0m\u001b[0;34m.\u001b[0m\u001b[0msin\u001b[0m\u001b[0;34m(\u001b[0m\u001b[0mphi\u001b[0m\u001b[0;34m)\u001b[0m\u001b[0;34m*\u001b[0m\u001b[0mtf\u001b[0m\u001b[0;34m.\u001b[0m\u001b[0mmath\u001b[0m\u001b[0;34m.\u001b[0m\u001b[0msin\u001b[0m\u001b[0;34m(\u001b[0m\u001b[0mtheta\u001b[0m\u001b[0;34m)\u001b[0m\u001b[0;34m,\u001b[0m\u001b[0mtf\u001b[0m\u001b[0;34m.\u001b[0m\u001b[0mmath\u001b[0m\u001b[0;34m.\u001b[0m\u001b[0mcos\u001b[0m\u001b[0;34m(\u001b[0m\u001b[0mtheta\u001b[0m\u001b[0;34m)\u001b[0m\u001b[0;34m]\u001b[0m\u001b[0;34m,\u001b[0m\u001b[0maxis\u001b[0m\u001b[0;34m=\u001b[0m\u001b[0;34m-\u001b[0m\u001b[0;36m1\u001b[0m\u001b[0;34m)\u001b[0m\u001b[0;34m\u001b[0m\u001b[0;34m\u001b[0m\u001b[0m\n\u001b[0;32m---> 60\u001b[0;31m     \u001b[0mt_place\u001b[0m \u001b[0;34m=\u001b[0m \u001b[0mdetectors\u001b[0m\u001b[0;34m[\u001b[0m\u001b[0;34m:\u001b[0m\u001b[0;34m,\u001b[0m\u001b[0;34m:\u001b[0m\u001b[0;34m,\u001b[0m\u001b[0;34m:\u001b[0m\u001b[0;34m,\u001b[0m\u001b[0;36m0\u001b[0m\u001b[0;34m:\u001b[0m\u001b[0;36m1\u001b[0m\u001b[0;34m]\u001b[0m\u001b[0;34m*\u001b[0m\u001b[0mn\u001b[0m\u001b[0;34m[\u001b[0m\u001b[0;34m:\u001b[0m\u001b[0;34m,\u001b[0m\u001b[0;34m:\u001b[0m\u001b[0;34m,\u001b[0m\u001b[0;34m:\u001b[0m\u001b[0;34m,\u001b[0m\u001b[0;36m0\u001b[0m\u001b[0;34m:\u001b[0m\u001b[0;36m1\u001b[0m\u001b[0;34m]\u001b[0m \u001b[0;34m+\u001b[0m \u001b[0mdetectors\u001b[0m\u001b[0;34m[\u001b[0m\u001b[0;34m:\u001b[0m\u001b[0;34m,\u001b[0m\u001b[0;34m:\u001b[0m\u001b[0;34m,\u001b[0m\u001b[0;34m:\u001b[0m\u001b[0;34m,\u001b[0m\u001b[0;36m1\u001b[0m\u001b[0;34m:\u001b[0m\u001b[0;36m2\u001b[0m\u001b[0;34m]\u001b[0m\u001b[0;34m*\u001b[0m\u001b[0mn\u001b[0m\u001b[0;34m[\u001b[0m\u001b[0;34m:\u001b[0m\u001b[0;34m,\u001b[0m\u001b[0;34m:\u001b[0m\u001b[0;34m,\u001b[0m\u001b[0;34m:\u001b[0m\u001b[0;34m,\u001b[0m\u001b[0;36m1\u001b[0m\u001b[0;34m:\u001b[0m\u001b[0;36m2\u001b[0m\u001b[0;34m]\u001b[0m \u001b[0;34m+\u001b[0m \u001b[0mdetectors\u001b[0m\u001b[0;34m[\u001b[0m\u001b[0;34m:\u001b[0m\u001b[0;34m,\u001b[0m\u001b[0;34m:\u001b[0m\u001b[0;34m,\u001b[0m\u001b[0;34m:\u001b[0m\u001b[0;34m,\u001b[0m\u001b[0;36m2\u001b[0m\u001b[0;34m:\u001b[0m\u001b[0;36m3\u001b[0m\u001b[0;34m]\u001b[0m\u001b[0;34m*\u001b[0m\u001b[0mn\u001b[0m\u001b[0;34m[\u001b[0m\u001b[0;34m:\u001b[0m\u001b[0;34m,\u001b[0m\u001b[0;34m:\u001b[0m\u001b[0;34m,\u001b[0m\u001b[0;34m:\u001b[0m\u001b[0;34m,\u001b[0m\u001b[0;36m2\u001b[0m\u001b[0;34m:\u001b[0m\u001b[0;36m3\u001b[0m\u001b[0;34m]\u001b[0m\u001b[0;34m\u001b[0m\u001b[0;34m\u001b[0m\u001b[0m\n\u001b[0m\u001b[1;32m     61\u001b[0m     \u001b[0mdist_core\u001b[0m \u001b[0;34m=\u001b[0m \u001b[0mtf\u001b[0m\u001b[0;34m.\u001b[0m\u001b[0mexpand_dims\u001b[0m\u001b[0;34m(\u001b[0m\u001b[0mtf\u001b[0m\u001b[0;34m.\u001b[0m\u001b[0mreduce_sum\u001b[0m\u001b[0;34m(\u001b[0m\u001b[0mtf\u001b[0m\u001b[0;34m.\u001b[0m\u001b[0mmath\u001b[0m\u001b[0;34m.\u001b[0m\u001b[0mpow\u001b[0m\u001b[0;34m(\u001b[0m\u001b[0mdetectors\u001b[0m\u001b[0;34m,\u001b[0m\u001b[0;36m2\u001b[0m\u001b[0;34m)\u001b[0m\u001b[0;34m,\u001b[0m\u001b[0maxis\u001b[0m\u001b[0;34m=\u001b[0m\u001b[0;34m-\u001b[0m\u001b[0;36m1\u001b[0m\u001b[0;34m)\u001b[0m\u001b[0;34m,\u001b[0m\u001b[0maxis\u001b[0m\u001b[0;34m=\u001b[0m\u001b[0;34m-\u001b[0m\u001b[0;36m1\u001b[0m\u001b[0;34m)\u001b[0m \u001b[0;34m-\u001b[0m \u001b[0mtf\u001b[0m\u001b[0;34m.\u001b[0m\u001b[0mmath\u001b[0m\u001b[0;34m.\u001b[0m\u001b[0mpow\u001b[0m\u001b[0;34m(\u001b[0m\u001b[0mt_place\u001b[0m\u001b[0;34m,\u001b[0m\u001b[0;36m2\u001b[0m\u001b[0;34m)\u001b[0m\u001b[0;34m\u001b[0m\u001b[0;34m\u001b[0m\u001b[0m\n\u001b[1;32m     62\u001b[0m     \u001b[0mdist_core\u001b[0m \u001b[0;34m=\u001b[0m \u001b[0mtf\u001b[0m\u001b[0;34m.\u001b[0m\u001b[0mwhere\u001b[0m\u001b[0;34m(\u001b[0m\u001b[0mdist_core\u001b[0m\u001b[0;34m>\u001b[0m\u001b[0mR_error\u001b[0m\u001b[0;34m*\u001b[0m\u001b[0mR_error\u001b[0m\u001b[0;34m,\u001b[0m\u001b[0mtf\u001b[0m\u001b[0;34m.\u001b[0m\u001b[0mmath\u001b[0m\u001b[0;34m.\u001b[0m\u001b[0msqrt\u001b[0m\u001b[0;34m(\u001b[0m\u001b[0mdist_core\u001b[0m\u001b[0;34m)\u001b[0m\u001b[0;34m,\u001b[0m\u001b[0mR_error\u001b[0m\u001b[0;34m)\u001b[0m\u001b[0;34m\u001b[0m\u001b[0;34m\u001b[0m\u001b[0m\n",
      "\u001b[0;31mIndexError\u001b[0m: too many indices for array: array is 2-dimensional, but 4 were indexed"
     ]
    }
   ],
   "source": [
    "courve_front,LDF = courve_reconstruction(all_det,t0[0:1],theta_[0:1],phi_[0:1],courve_[0:1])\n",
    "#TODO add *mask in function"
   ]
  },
  {
   "cell_type": "code",
   "execution_count": 141,
   "metadata": {},
   "outputs": [
    {
     "data": {
      "text/plain": [
       "<tf.Tensor: shape=(1, 8, 1), dtype=float32, numpy=\n",
       "array([[[0.13652757],\n",
       "        [0.22179781],\n",
       "        [0.13681976],\n",
       "        [8.873525  ],\n",
       "        [0.696613  ],\n",
       "        [0.87085605],\n",
       "        [0.30079362],\n",
       "        [0.19121113]]], dtype=float32)>"
      ]
     },
     "execution_count": 141,
     "metadata": {},
     "output_type": "execute_result"
    }
   ],
   "source": [
    "ldf_ru = signal/tf.expand_dims(expand_dims(_S800[0]),-1)\n",
    "ldf_ru"
   ]
  },
  {
   "cell_type": "code",
   "execution_count": 143,
   "metadata": {},
   "outputs": [
    {
     "name": "stdout",
     "output_type": "stream",
     "text": [
      "tf.Tensor(\n",
      "[[0.04086046]\n",
      " [0.18535163]\n",
      " [0.09965044]\n",
      " [8.421593  ]\n",
      " [0.8852532 ]\n",
      " [0.78069603]\n",
      " [0.5633958 ]\n",
      " [0.03402905]], shape=(8, 1), dtype=float32)\n",
      "tf.Tensor(\n",
      "[[[0.13652757]\n",
      "  [0.22179781]\n",
      "  [0.13681976]\n",
      "  [8.873525  ]\n",
      "  [0.696613  ]\n",
      "  [0.87085605]\n",
      "  [0.30079362]\n",
      "  [0.19121113]]], shape=(1, 8, 1), dtype=float32)\n"
     ]
    }
   ],
   "source": [
    "# i=3\n",
    "print(LDF)\n",
    "print(ldf_ru)"
   ]
  },
  {
   "cell_type": "code",
   "execution_count": 326,
   "metadata": {},
   "outputs": [],
   "source": [
    "# def _get_t0(data):\n",
    "#     tf.where(data==0,np.nan)"
   ]
  },
  {
   "cell_type": "code",
   "execution_count": 137,
   "metadata": {},
   "outputs": [
    {
     "data": {
      "text/plain": [
       "TensorShape([8, 1])"
      ]
     },
     "execution_count": 137,
     "metadata": {},
     "output_type": "execute_result"
    }
   ],
   "source": [
    "i=0\n",
    "courve_front.shape"
   ]
  },
  {
   "cell_type": "code",
   "execution_count": 138,
   "metadata": {},
   "outputs": [
    {
     "data": {
      "text/plain": [
       "<tf.Tensor: shape=(8, 1), dtype=float32, numpy=\n",
       "array([[1.421057  ],\n",
       "       [0.39016616],\n",
       "       [0.6653187 ],\n",
       "       [0.01273882],\n",
       "       [0.09912462],\n",
       "       [0.11083598],\n",
       "       [0.14790389],\n",
       "       [1.6589396 ]], dtype=float32)>"
      ]
     },
     "execution_count": 138,
     "metadata": {},
     "output_type": "execute_result"
    }
   ],
   "source": [
    "courve_front"
   ]
  },
  {
   "cell_type": "code",
   "execution_count": 139,
   "metadata": {},
   "outputs": [
    {
     "data": {
      "text/plain": [
       "array([[-2.447     ],\n",
       "       [-2.747     ],\n",
       "       [-1.027     ],\n",
       "       [-0.867     ],\n",
       "       [ 0.19300002],\n",
       "       [ 1.673     ],\n",
       "       [ 2.653     ],\n",
       "       [ 3.853     ]], dtype=float32)"
      ]
     },
     "execution_count": 139,
     "metadata": {},
     "output_type": "execute_result"
    }
   ],
   "source": [
    "real_time"
   ]
  },
  {
   "cell_type": "code",
   "execution_count": 128,
   "metadata": {},
   "outputs": [
    {
     "data": {
      "text/plain": [
       "<tf.Tensor: shape=(8, 1), dtype=float32, numpy=\n",
       "array([[ 0.67694306],\n",
       "       [ 0.34383386],\n",
       "       [ 0.6206813 ],\n",
       "       [ 0.27526116],\n",
       "       [ 0.3908754 ],\n",
       "       [ 0.37616402],\n",
       "       [ 0.24909613],\n",
       "       [-1.0759397 ]], dtype=float32)>"
      ]
     },
     "execution_count": 128,
     "metadata": {},
     "output_type": "execute_result"
    }
   ],
   "source": [
    "real_time - courve_front"
   ]
  },
  {
   "cell_type": "code",
   "execution_count": 416,
   "metadata": {},
   "outputs": [
    {
     "data": {
      "text/plain": [
       "array([[0.   , 0.   , 0.   , 0.   , 0.   , 0.   ],\n",
       "       [0.   , 0.   , 0.   , 1.286, 2.098, 0.   ],\n",
       "       [0.   , 0.   , 0.487, 0.288, 0.734, 0.   ],\n",
       "       [0.   , 0.   , 0.397, 0.49 , 0.   , 0.   ],\n",
       "       [0.   , 0.   , 0.583, 0.   , 0.   , 0.   ],\n",
       "       [0.   , 0.   , 0.   , 0.   , 0.   , 0.   ]], dtype=float32)"
      ]
     },
     "execution_count": 416,
     "metadata": {},
     "output_type": "execute_result"
    }
   ],
   "source": [
    "data[i,:,:,2]"
   ]
  },
  {
   "cell_type": "code",
   "execution_count": 417,
   "metadata": {},
   "outputs": [
    {
     "data": {
      "text/plain": [
       "<tf.Tensor: shape=(6, 6), dtype=float32, numpy=\n",
       "array([[ 0.        ,  0.        ,  0.        ,  0.        ,  0.        ,\n",
       "         0.        ],\n",
       "       [ 0.        ,  0.        ,  0.        ,  0.641366  ,  1.453366  ,\n",
       "         0.        ],\n",
       "       [ 0.        ,  0.        , -0.15763402, -0.35663402,  0.08936602,\n",
       "         0.        ],\n",
       "       [ 0.        ,  0.        , -0.247634  , -0.154634  ,  0.        ,\n",
       "         0.        ],\n",
       "       [ 0.        ,  0.        , -0.061634  ,  0.        ,  0.        ,\n",
       "         0.        ],\n",
       "       [ 0.        ,  0.        ,  0.        ,  0.        ,  0.        ,\n",
       "         0.        ]], dtype=float32)>"
      ]
     },
     "execution_count": 417,
     "metadata": {},
     "output_type": "execute_result"
    }
   ],
   "source": [
    "\n",
    "without_t0 = tf.where(data[i,:,:,2]!=0,data[i,:,:,2]-t0[i],0)\n",
    "without_t0"
   ]
  },
  {
   "cell_type": "code",
   "execution_count": 188,
   "metadata": {},
   "outputs": [
    {
     "data": {
      "text/plain": [
       "<tf.Tensor: shape=(6, 6), dtype=float32, numpy=\n",
       "array([[ 0.        ,  0.        ,  0.        ,  0.        ,  0.        ,\n",
       "         0.        ],\n",
       "       [ 0.        ,  0.        ,  0.        ,  0.68950474,  0.        ,\n",
       "         0.        ],\n",
       "       [ 0.        ,  0.        ,  0.41040108,  0.16018939,  0.80558395,\n",
       "         0.        ],\n",
       "       [ 0.        ,  0.        ,  0.36083192,  0.44908547,  0.41376883,\n",
       "         0.        ],\n",
       "       [ 0.        ,  0.        , -0.31674272,  0.        ,  0.        ,\n",
       "         0.        ],\n",
       "       [ 0.        ,  0.        ,  0.        ,  0.        ,  0.        ,\n",
       "         0.        ]], dtype=float32)>"
      ]
     },
     "execution_count": 188,
     "metadata": {},
     "output_type": "execute_result"
    }
   ],
   "source": [
    "courve_front[i,:,:,0] - without_t0"
   ]
  },
  {
   "cell_type": "code",
   "execution_count": 111,
   "metadata": {},
   "outputs": [
    {
     "name": "stdout",
     "output_type": "stream",
     "text": [
      "[[0. 0. 0. 0. 0. 0.]\n",
      " [0. 0. 1. 1. 0. 0.]\n",
      " [0. 0. 1. 1. 0. 0.]\n",
      " [0. 0. 1. 1. 0. 0.]\n",
      " [0. 0. 0. 1. 0. 0.]\n",
      " [0. 0. 0. 0. 0. 0.]]\n",
      "[[ 0.        0.        0.        0.        0.        0.      ]\n",
      " [ 0.        0.        0.680725  1.0834    0.        0.      ]\n",
      " [ 0.        0.       10.5486    6.05525   0.        0.      ]\n",
      " [ 0.        0.        3.58595   1.74749   0.        0.      ]\n",
      " [ 0.        0.        0.        3.08809   0.        0.      ]\n",
      " [ 0.        0.        0.        0.        0.        0.      ]]\n",
      "[[ 0.     0.     0.     0.     0.     0.   ]\n",
      " [ 0.     0.    -3.406 -3.414  0.     0.   ]\n",
      " [ 0.     0.    -1.062 -1.012  0.     0.   ]\n",
      " [ 0.     0.     1.328  1.348  0.     0.   ]\n",
      " [ 0.     0.     0.     3.545  0.     0.   ]\n",
      " [ 0.     0.     0.     0.     0.     0.   ]]\n",
      "[[0.    0.    0.    0.    0.    0.   ]\n",
      " [0.    0.    1.022 0.829 0.    0.   ]\n",
      " [0.    0.    0.358 0.367 0.    0.   ]\n",
      " [0.    0.    0.387 0.448 0.    0.   ]\n",
      " [0.    0.    0.    1.071 0.    0.   ]\n",
      " [0.    0.    0.    0.    0.    0.   ]]\n",
      "[[-6.         -6.         -6.         -6.         -6.         -6.        ]\n",
      " [-6.         -6.         -1.6562401  -1.673724   -6.         -6.        ]\n",
      " [-6.         -6.         -0.46887243 -0.4588944  -6.         -6.        ]\n",
      " [-6.         -6.          0.736656    0.7377984  -6.         -6.        ]\n",
      " [-6.         -6.         -6.          1.847244   -6.         -6.        ]\n",
      " [-6.         -6.         -6.         -6.         -6.         -6.        ]]\n"
     ]
    }
   ],
   "source": [
    "i=1\n",
    "print(mask[i,:,:,0])\n",
    "print(signal[i,:,:,0])\n",
    "print(data[i,:,:,1])\n",
    "print(data[i,:,:,2])\n",
    "print(detectors_rub[i,:,:,0])"
   ]
  },
  {
   "cell_type": "code",
   "execution_count": 40,
   "metadata": {},
   "outputs": [
    {
     "data": {
      "text/plain": [
       "array([[ 0.        ,  0.        ,  0.        ,  0.        ,  0.        ,\n",
       "         0.        ],\n",
       "       [ 0.        ,  0.        ,  0.        , -0.2160765 , -0.364017  ,\n",
       "         0.        ],\n",
       "       [ 0.        ,  0.        , -0.14860696, -0.16712335,  0.06512839,\n",
       "         0.        ],\n",
       "       [ 0.        ,  0.        ,  0.00161573, -0.15845463,  0.        ,\n",
       "         0.        ],\n",
       "       [ 0.        ,  0.        ,  1.1654122 ,  0.        ,  0.        ,\n",
       "         0.        ],\n",
       "       [ 0.        ,  0.        ,  0.        ,  0.        ,  0.        ,\n",
       "         0.        ]], dtype=float32)"
      ]
     },
     "execution_count": 40,
     "metadata": {},
     "output_type": "execute_result"
    }
   ],
   "source": [
    "courve_front[0,:,:,0] - data[0,:,:,2]"
   ]
  },
  {
   "cell_type": "code",
   "execution_count": 936,
   "metadata": {},
   "outputs": [
    {
     "data": {
      "text/plain": [
       "array([[ 0.        ,  0.        ,  0.        ,  0.        ,  0.        ,\n",
       "         0.        ],\n",
       "       [ 0.        ,  0.        ,  0.        , -1.027     , -2.447     ,\n",
       "         0.        ],\n",
       "       [ 0.        ,  0.        ,  1.673     , -0.867     , -2.747     ,\n",
       "         0.        ],\n",
       "       [ 0.        ,  0.        ,  2.653     ,  0.19300002,  0.        ,\n",
       "         0.        ],\n",
       "       [ 0.        ,  0.        ,  3.853     ,  0.        ,  0.        ,\n",
       "         0.        ],\n",
       "       [ 0.        ,  0.        ,  0.        ,  0.        ,  0.        ,\n",
       "         0.        ]], dtype=float32)"
      ]
     },
     "execution_count": 936,
     "metadata": {},
     "output_type": "execute_result"
    }
   ],
   "source": [
    "real_time[0,:,:,0]"
   ]
  },
  {
   "cell_type": "code",
   "execution_count": 937,
   "metadata": {},
   "outputs": [
    {
     "data": {
      "text/plain": [
       "<tf.Tensor: shape=(6, 6), dtype=float32, numpy=\n",
       "array([[-0.        , -0.        , -0.        , -0.        , -0.        ,\n",
       "        -0.        ],\n",
       "       [-0.        , -0.        , -0.        , -2.347221  , -4.577912  ,\n",
       "        -0.        ],\n",
       "       [-0.        , -0.        ,  1.1500187 , -1.1907895 , -3.5162358 ,\n",
       "        -0.        ],\n",
       "       [-0.        , -0.        ,  2.2206035 , -0.33301756, -0.        ,\n",
       "        -0.        ],\n",
       "       [-0.        , -0.        ,  3.2358801 , -0.        , -0.        ,\n",
       "        -0.        ],\n",
       "       [-0.        , -0.        , -0.        , -0.        , -0.        ,\n",
       "        -0.        ]], dtype=float32)>"
      ]
     },
     "execution_count": 937,
     "metadata": {},
     "output_type": "execute_result"
    }
   ],
   "source": [
    "rec = (courve_front[0,:,:,0] + t_place[0,:,:,0] +t0[0])*mask[0,:,:,0]\n",
    "rec"
   ]
  },
  {
   "cell_type": "code",
   "execution_count": 922,
   "metadata": {},
   "outputs": [
    {
     "data": {
      "text/plain": [
       "<tf.Tensor: shape=(6, 6), dtype=float32, numpy=\n",
       "array([[-0.        , -0.        , -0.        , -0.        , -0.        ,\n",
       "        -0.        ],\n",
       "       [-0.        , -0.        , -0.        , -1.3208628 , -2.1328273 ,\n",
       "        -0.        ],\n",
       "       [-0.        , -0.        , -0.52303517, -0.3237977 , -0.7695699 ,\n",
       "        -0.        ],\n",
       "       [-0.        , -0.        , -0.43247175, -0.5260693 , -0.        ,\n",
       "        -0.        ],\n",
       "       [-0.        , -0.        , -0.6190715 , -0.        , -0.        ,\n",
       "        -0.        ],\n",
       "       [-0.        , -0.        , -0.        , -0.        , -0.        ,\n",
       "        -0.        ]], dtype=float32)>"
      ]
     },
     "execution_count": 922,
     "metadata": {},
     "output_type": "execute_result"
    }
   ],
   "source": [
    "rec - real_time[0,:,:,0]"
   ]
  },
  {
   "cell_type": "code",
   "execution_count": null,
   "metadata": {},
   "outputs": [],
   "source": []
  }
 ],
 "metadata": {
  "kernelspec": {
   "display_name": "Python 3",
   "language": "python",
   "name": "python3"
  },
  "language_info": {
   "codemirror_mode": {
    "name": "ipython",
    "version": 3
   },
   "file_extension": ".py",
   "mimetype": "text/x-python",
   "name": "python",
   "nbconvert_exporter": "python",
   "pygments_lexer": "ipython3",
   "version": "3.6.10"
  }
 },
 "nbformat": 4,
 "nbformat_minor": 4
}
