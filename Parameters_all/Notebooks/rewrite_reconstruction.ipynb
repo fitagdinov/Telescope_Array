{
 "cells": [
  {
   "cell_type": "code",
   "execution_count": 1,
   "metadata": {},
   "outputs": [],
   "source": [
    "import numpy as np\n",
    "import matplotlib.pyplot as plt\n",
    "import tensorflow as tf\n",
    "import pandas as pd\n",
    "import seaborn as sns\n",
    "import h5py\n",
    "import tqdm\n",
    "import zipfile \n",
    "from tqdm.notebook import tqdm_notebook\n",
    "from progress.bar import IncrementalBar\n",
    "import copy\n",
    "import random\n",
    "import pandas as pd\n",
    "import time\n",
    "import os\n",
    "import math\n",
    "from joblib import Parallel, delayed\n",
    "import importlib\n",
    "\n",
    "# tf.config.run_functions_eagerly(True)\n",
    "%matplotlib inline\n",
    "np.set_printoptions(suppress=True)"
   ]
  },
  {
   "cell_type": "code",
   "execution_count": 2,
   "metadata": {},
   "outputs": [],
   "source": [
    "param_names=['signal','pl_fr','real_wf-pl_fr','mask']"
   ]
  },
  {
   "cell_type": "code",
   "execution_count": 3,
   "metadata": {},
   "outputs": [],
   "source": [
    "def norming(data,param_names=param_names,log=True):\n",
    "    \n",
    "    # ADD LOGARIFM FOR SIGNAL\n",
    "    norm_params={}\n",
    "    for i in range(data.shape[-1]):\n",
    "        if (i==0 and log):\n",
    "            data[:,:,:,i]=tf.math.log(data[:,:,:,i]+1)\n",
    "        max_c=data[:,:,:,i].max()\n",
    "        min_c=data[:,:,:,i].min()\n",
    "        mean_c=data[:,:,:,i].mean()\n",
    "        std_c=data[:,:,:,i].std()\n",
    "        print(max_c,min_c)\n",
    "        data[:,:,:,i]=(data[:,:,:,i]-min_c)/(max_c-min_c)\n",
    "\n",
    "        norm_params[param_names[i]]=np.array([max_c,min_c])\n",
    "    return norm_params\n",
    "def renormin(data_not_change,norm_params,param_names=param_names,log=True):\n",
    "    data=np.copy(data_not_change)\n",
    "    for i in range(data.shape[-1]):\n",
    "        max_c, min_c=norm_params[param_names[i]]\n",
    "        data[:,:,:,i]=data[:,:,:,i]*(max_c-min_c) + min_c\n",
    "        if (i==0 and log):\n",
    "            data[:,:,:,i]=tf.math.exp(data[:,:,:,i])-1\n",
    "        elif (i==1 or i==2):\n",
    "            data[:,:,:,i]=data[:,:,:,i]*1e6\n",
    "    return data"
   ]
  },
  {
   "cell_type": "code",
   "execution_count": 8,
   "metadata": {},
   "outputs": [
    {
     "name": "stdout",
     "output_type": "stream",
     "text": [
      "<KeysViewHDF5 ['det_max_params', 'det_max_wf', 'dt_bunlde', 'dt_bunlde_mask', 'dt_mask', 'dt_params', 'ev_ids', 'ev_starts', 'mc_params', 'recos', 'wfs_flat']>\n",
      "(2000, 6, 6, 4)\n"
     ]
    }
   ],
   "source": [
    "path = '/home3/ivkhar/TA/data/MC/bundled/pr_q3_14yr_1745_0010_excl-sat_F_excl-geo_F_take-log-wf-False_bundled.h5'\n",
    "num=2000\n",
    "with h5py.File(path,'r') as f:\n",
    "    print(f.keys())\n",
    "    data=f['dt_bunlde'][:num,:,:,3:7]\n",
    "    print(data.shape)\n",
    "    detectors_rub = f['dt_bunlde'][:num,:,:,:3] * 1.2 #/ 6 # norming\n",
    "    real_ang = f['mc_params'][:num,4:6]\n",
    "    recos = f['recos'][:num]\n",
    "    dt_params =f['dt_params'][:num]\n",
    "    ev_starts = f['ev_starts'][:num]\n",
    "    dt_bunlde_mask = f['dt_bunlde_mask'][:num]\n",
    "# norm_params=norming(data,log=False)\n",
    "theta = tf.cast(real_ang[:,0:1]/180*3.1415,tf.float32)\n",
    "phi = tf.cast(real_ang[:,1:2]/180*3.1415,tf.float32)\n",
    "courve  = tf.cast(recos[:,6:7],tf.float32)\n",
    "S800 = tf.cast(recos[:,2:3],tf.float32)\n",
    "chi_rub = tf.cast(recos[:,5:6],tf.float32)"
   ]
  },
  {
   "cell_type": "code",
   "execution_count": 30,
   "metadata": {},
   "outputs": [
    {
     "ename": "OSError",
     "evalue": "Unable to open file (unable to open file: name = '../../data_01_24.h5', errno = 2, error message = 'No such file or directory', flags = 0, o_flags = 0)",
     "output_type": "error",
     "traceback": [
      "\u001b[0;31m---------------------------------------------------------------------------\u001b[0m",
      "\u001b[0;31mOSError\u001b[0m                                   Traceback (most recent call last)",
      "\u001b[0;32m<ipython-input-30-04205752e8cd>\u001b[0m in \u001b[0;36m<module>\u001b[0;34m\u001b[0m\n\u001b[1;32m      1\u001b[0m \u001b[0mpath\u001b[0m \u001b[0;34m=\u001b[0m \u001b[0;34m'../../data_01_24.h5'\u001b[0m\u001b[0;34m\u001b[0m\u001b[0;34m\u001b[0m\u001b[0m\n\u001b[1;32m      2\u001b[0m \u001b[0mnum\u001b[0m\u001b[0;34m=\u001b[0m\u001b[0;36m2000\u001b[0m\u001b[0;34m\u001b[0m\u001b[0;34m\u001b[0m\u001b[0m\n\u001b[0;32m----> 3\u001b[0;31m \u001b[0;32mwith\u001b[0m \u001b[0mh5py\u001b[0m\u001b[0;34m.\u001b[0m\u001b[0mFile\u001b[0m\u001b[0;34m(\u001b[0m\u001b[0mpath\u001b[0m\u001b[0;34m,\u001b[0m\u001b[0;34m'r'\u001b[0m\u001b[0;34m)\u001b[0m \u001b[0;32mas\u001b[0m \u001b[0mf\u001b[0m\u001b[0;34m:\u001b[0m\u001b[0;34m\u001b[0m\u001b[0;34m\u001b[0m\u001b[0m\n\u001b[0m\u001b[1;32m      4\u001b[0m     \u001b[0mprint\u001b[0m\u001b[0;34m(\u001b[0m\u001b[0mf\u001b[0m\u001b[0;34m.\u001b[0m\u001b[0mkeys\u001b[0m\u001b[0;34m(\u001b[0m\u001b[0;34m)\u001b[0m\u001b[0;34m)\u001b[0m\u001b[0;34m\u001b[0m\u001b[0;34m\u001b[0m\u001b[0m\n\u001b[1;32m      5\u001b[0m     \u001b[0mdata\u001b[0m\u001b[0;34m=\u001b[0m\u001b[0mf\u001b[0m\u001b[0;34m[\u001b[0m\u001b[0;34m'dt_bunlde'\u001b[0m\u001b[0;34m]\u001b[0m\u001b[0;34m[\u001b[0m\u001b[0;34m:\u001b[0m\u001b[0mnum\u001b[0m\u001b[0;34m,\u001b[0m\u001b[0;34m:\u001b[0m\u001b[0;34m,\u001b[0m\u001b[0;34m:\u001b[0m\u001b[0;34m,\u001b[0m\u001b[0;36m3\u001b[0m\u001b[0;34m:\u001b[0m\u001b[0;36m7\u001b[0m\u001b[0;34m]\u001b[0m\u001b[0;34m\u001b[0m\u001b[0;34m\u001b[0m\u001b[0m\n",
      "\u001b[0;32m~/.conda/envs/robert_venv/lib/python3.6/site-packages/h5py/_hl/files.py\u001b[0m in \u001b[0;36m__init__\u001b[0;34m(self, name, mode, driver, libver, userblock_size, swmr, rdcc_nslots, rdcc_nbytes, rdcc_w0, track_order, **kwds)\u001b[0m\n\u001b[1;32m    406\u001b[0m                 fid = make_fid(name, mode, userblock_size,\n\u001b[1;32m    407\u001b[0m                                \u001b[0mfapl\u001b[0m\u001b[0;34m,\u001b[0m \u001b[0mfcpl\u001b[0m\u001b[0;34m=\u001b[0m\u001b[0mmake_fcpl\u001b[0m\u001b[0;34m(\u001b[0m\u001b[0mtrack_order\u001b[0m\u001b[0;34m=\u001b[0m\u001b[0mtrack_order\u001b[0m\u001b[0;34m)\u001b[0m\u001b[0;34m,\u001b[0m\u001b[0;34m\u001b[0m\u001b[0;34m\u001b[0m\u001b[0m\n\u001b[0;32m--> 408\u001b[0;31m                                swmr=swmr)\n\u001b[0m\u001b[1;32m    409\u001b[0m \u001b[0;34m\u001b[0m\u001b[0m\n\u001b[1;32m    410\u001b[0m             \u001b[0;32mif\u001b[0m \u001b[0misinstance\u001b[0m\u001b[0;34m(\u001b[0m\u001b[0mlibver\u001b[0m\u001b[0;34m,\u001b[0m \u001b[0mtuple\u001b[0m\u001b[0;34m)\u001b[0m\u001b[0;34m:\u001b[0m\u001b[0;34m\u001b[0m\u001b[0;34m\u001b[0m\u001b[0m\n",
      "\u001b[0;32m~/.conda/envs/robert_venv/lib/python3.6/site-packages/h5py/_hl/files.py\u001b[0m in \u001b[0;36mmake_fid\u001b[0;34m(name, mode, userblock_size, fapl, fcpl, swmr)\u001b[0m\n\u001b[1;32m    171\u001b[0m         \u001b[0;32mif\u001b[0m \u001b[0mswmr\u001b[0m \u001b[0;32mand\u001b[0m \u001b[0mswmr_support\u001b[0m\u001b[0;34m:\u001b[0m\u001b[0;34m\u001b[0m\u001b[0;34m\u001b[0m\u001b[0m\n\u001b[1;32m    172\u001b[0m             \u001b[0mflags\u001b[0m \u001b[0;34m|=\u001b[0m \u001b[0mh5f\u001b[0m\u001b[0;34m.\u001b[0m\u001b[0mACC_SWMR_READ\u001b[0m\u001b[0;34m\u001b[0m\u001b[0;34m\u001b[0m\u001b[0m\n\u001b[0;32m--> 173\u001b[0;31m         \u001b[0mfid\u001b[0m \u001b[0;34m=\u001b[0m \u001b[0mh5f\u001b[0m\u001b[0;34m.\u001b[0m\u001b[0mopen\u001b[0m\u001b[0;34m(\u001b[0m\u001b[0mname\u001b[0m\u001b[0;34m,\u001b[0m \u001b[0mflags\u001b[0m\u001b[0;34m,\u001b[0m \u001b[0mfapl\u001b[0m\u001b[0;34m=\u001b[0m\u001b[0mfapl\u001b[0m\u001b[0;34m)\u001b[0m\u001b[0;34m\u001b[0m\u001b[0;34m\u001b[0m\u001b[0m\n\u001b[0m\u001b[1;32m    174\u001b[0m     \u001b[0;32melif\u001b[0m \u001b[0mmode\u001b[0m \u001b[0;34m==\u001b[0m \u001b[0;34m'r+'\u001b[0m\u001b[0;34m:\u001b[0m\u001b[0;34m\u001b[0m\u001b[0;34m\u001b[0m\u001b[0m\n\u001b[1;32m    175\u001b[0m         \u001b[0mfid\u001b[0m \u001b[0;34m=\u001b[0m \u001b[0mh5f\u001b[0m\u001b[0;34m.\u001b[0m\u001b[0mopen\u001b[0m\u001b[0;34m(\u001b[0m\u001b[0mname\u001b[0m\u001b[0;34m,\u001b[0m \u001b[0mh5f\u001b[0m\u001b[0;34m.\u001b[0m\u001b[0mACC_RDWR\u001b[0m\u001b[0;34m,\u001b[0m \u001b[0mfapl\u001b[0m\u001b[0;34m=\u001b[0m\u001b[0mfapl\u001b[0m\u001b[0;34m)\u001b[0m\u001b[0;34m\u001b[0m\u001b[0;34m\u001b[0m\u001b[0m\n",
      "\u001b[0;32mh5py/_objects.pyx\u001b[0m in \u001b[0;36mh5py._objects.with_phil.wrapper\u001b[0;34m()\u001b[0m\n",
      "\u001b[0;32mh5py/_objects.pyx\u001b[0m in \u001b[0;36mh5py._objects.with_phil.wrapper\u001b[0;34m()\u001b[0m\n",
      "\u001b[0;32mh5py/h5f.pyx\u001b[0m in \u001b[0;36mh5py.h5f.open\u001b[0;34m()\u001b[0m\n",
      "\u001b[0;31mOSError\u001b[0m: Unable to open file (unable to open file: name = '../../data_01_24.h5', errno = 2, error message = 'No such file or directory', flags = 0, o_flags = 0)"
     ]
    }
   ],
   "source": [
    "path = '../../data_01_24.h5'\n",
    "num=2000\n",
    "with h5py.File(path,'r') as f:\n",
    "    print(f.keys())\n",
    "    data=f['dt_bunlde'][:num,:,:,3:7]\n",
    "    print(data.shape)\n",
    "    detectors_rub = f['dt_bunlde'][:num,:,:,:3] * 1.2 #/ 6 # norming\n",
    "    real_ang = f['mc_params'][:num,4:6]\n",
    "    recos = f['recos'][:num]\n",
    "    dt_params =f['dt_params'][:num]\n",
    "    ev_starts = f['ev_starts'][:num]\n",
    "    dt_bunlde_mask = f['dt_bunlde_mask'][:num]\n",
    "# norm_params=norming(data,log=False)\n",
    "theta = tf.cast(real_ang[:,0:1]/180*3.1415,tf.float32)\n",
    "phi = tf.cast(real_ang[:,1:2]/180*3.1415,tf.float32)\n",
    "courve  = tf.cast(recos[:,6:7],tf.float32)\n",
    "S800 = tf.cast(recos[:,2:3],tf.float32)\n",
    "chi_rub = tf.cast(recos[:,5:6],tf.float32)"
   ]
  },
  {
   "cell_type": "markdown",
   "metadata": {},
   "source": [
    "# Constant"
   ]
  },
  {
   "cell_type": "code",
   "execution_count": 7,
   "metadata": {},
   "outputs": [],
   "source": [
    "import tensorflow as tf\n",
    "import math\n",
    "pi = tf.constant(math.pi,dtype=tf.float32)\n",
    "UNIT=1\n",
    "dist=tf.constant(1.2,dtype=tf.float32)# min dist between 2 detectors in km\n",
    "c=tf.constant(299792.458,dtype=tf.float32)# # km\\s\n",
    "NSEC= tf.constant(1e9/c,dtype=tf.float32)# in rubsov's code is a time for 1.2 km 1.2/c*1e9\n",
    "R_L=tf.constant(30e-3,dtype=tf.float32)#\n",
    "LINSLEY_r0=tf.constant(25,dtype=tf.float32)#\n",
    "DET_AREA=tf.constant(3,dtype=tf.float32)#\n",
    "s_min = tf.constant([[0.3]],dtype=tf.float32)\n",
    "s_max = tf.constant([[1.8]],dtype=tf.float32)\n",
    "t_err_res=tf.constant(c/1e6,dtype=tf.float32)#\n",
    "t0_err=tf.constant(30,dtype=tf.float32)#\n",
    "dist=tf.constant(1.2,dtype=tf.float32)\n",
    "tf_type = tf.float32\n",
    "R_error = 0.15\n",
    "def detectors_init(data):\n",
    "    batch = data.shape[0]\n",
    "    x = tf.cast(tf.repeat(tf.expand_dims(tf.range(0,6),0),6,axis=0),tf_type)\n",
    "    y = tf.cast(tf.repeat(tf.expand_dims(tf.range(0,6),1),6,axis=1),tf_type)\n",
    "    x = tf.expand_dims(x,-1)\n",
    "    y = tf.expand_dims(y,-1)\n",
    "    # x.shape = (6,6,1)\n",
    "    detectors = tf.concat([x,y],axis=-1) * dist\n",
    "    detectors = tf.repeat(tf.expand_dims(detectors,0),batch,0)\n",
    "    return detectors\n",
    "def core_(detectors,signal):# shape (batch,6,6,2)\n",
    "    sum_signal=tf.reduce_sum(signal,axis=(1,2)) # shape (batch ,1)\n",
    "    core=tf.reduce_sum(detectors * signal, axis=(1,2))/sum_signal\n",
    "    return core\n",
    "def expand_dims(vec):\n",
    "    return tf.expand_dims(tf.expand_dims(vec,-1),-1)\n",
    "def create_matrix(x,y,t,mask):\n",
    "    a11=expand_dims(tf.reduce_sum(x*x,axis=1))\n",
    "    a12=expand_dims(tf.reduce_sum(x*y,axis=1))\n",
    "    a13=expand_dims(tf.reduce_sum(x,axis=1))\n",
    "    a22=expand_dims(tf.reduce_sum(y*y,axis=1))\n",
    "    a23=expand_dims(tf.reduce_sum(y,axis=1))\n",
    "    a33=expand_dims(tf.reduce_sum(mask,axis=1))\n",
    "    a1=tf.concat([a11,a12,a13],axis=2)\n",
    "    a2=tf.concat([a12,a22,a23],axis=2)\n",
    "    a3=tf.concat([a13,a23,a33],axis=2)\n",
    "    A=tf.concat([a1,a2,a3],axis=1)\n",
    "\n",
    "    b1=expand_dims(tf.reduce_sum(x*t,axis=1))\n",
    "    b2=expand_dims(tf.reduce_sum(y*t,axis=1))\n",
    "    b3=expand_dims(tf.reduce_sum(t,axis=1))\n",
    "    b=tf.concat([b1,b2,b3],axis=1)\n",
    "    return A,b\n",
    "def place_sol(detectors,real_time,mask):\n",
    "    detectors = detectors * mask\n",
    "    x = tf.reshape(detectors[:,:,:,0],(-1,36))\n",
    "    y = tf.reshape(detectors[:,:,:,1],(-1,36))\n",
    "    t = tf.reshape(real_time,(-1,36))\n",
    "    mask = tf.reshape(mask,(-1,36))\n",
    "    A,b=create_matrix(x,y,t,mask)\n",
    "    return tf.linalg.solve(A,b)\n",
    "def place_params(detectors,real_time,mask):\n",
    "    sol = place_sol(detectors,real_time,mask)\n",
    "    #t_0=b+(r_cor;n)\n",
    "    b=sol[:,2:,0]\n",
    "    n=sol[:,:2,0]\n",
    "#     core = self.core_()\n",
    "#     mul=n[:,0]*core[:,0]+n[:,1]*core[:,1]\n",
    "    t0=b\n",
    "    a_x=n[:,0]\n",
    "    a_y=n[:,1]\n",
    "#         print(a_x.dtype,(1e6/c).dtype,c.dtype)\n",
    "    a_z=tf.math.pow(1e6/c,2) - (tf.math.pow(a_x,2) + tf.math.pow(a_y,2))\n",
    "    a_z=tf.where(a_z>0,tf.math.sqrt(a_z),0)\n",
    "    cos_theta=a_z*(c/1e6)\n",
    "    theta=tf.math.acos(cos_theta)\n",
    "#     tg_phi=a_x/(-a_y)\n",
    "#     atan=tf.math.atan(tg_phi)\n",
    "#     phi=tf.where(a_y>0,atan+pi,atan-pi)\n",
    "#     phi=tf.where(a_x<0,atan,phi)\n",
    "    phi = tf.math.atan2( a_y, a_x ) + pi\n",
    "    return t0,tf.expand_dims(theta,-1),tf.expand_dims(phi,-1)\n",
    "def detectors_core(detectors,core):\n",
    "    detectors_c=detectors[:,:,:,:2]-tf.reshape(core,(-1,1,1,2))\n",
    "    return tf.concat([detectors_c,detectors[:,:,:,2:3]],axis=-1)\n",
    "def place_reconstruction(detectors,mask,t0,theta,phi,use_z=False):\n",
    "    t0=expand_dims(t0) # shape (batch,1,1,1)\n",
    "    theta=expand_dims(theta)\n",
    "    phi =expand_dims(phi)\n",
    "    if use_z:\n",
    "        n=-tf.concat([tf.math.cos(phi)*tf.math.sin(theta),tf.math.sin(phi)*tf.math.sin(theta),tf.math.cos(theta)],axis=-1)\n",
    "    else:\n",
    "        n=-tf.concat([tf.math.cos(phi)*tf.math.sin(theta),tf.math.sin(phi)*tf.math.sin(theta)],axis=-1)\n",
    "    t_place =  tf.expand_dims(tf.reduce_sum(detectors*n,axis=-1),-1)*(1e6/c)\n",
    "    t_place = t_place*mask\n",
    "    return t_place\n",
    "def eta_fun(theta):\n",
    "    x=theta*180/3.14\n",
    "\n",
    "    e1 = 3.97 - 1.79*(tf.math.abs(1.0/tf.math.cos(theta)) - 1.0)\n",
    "    e2 = ((((((-1.71299934e-10*x + 4.23849411e-08)*x -3.76192000e-06)*x\n",
    "               + 1.35747298e-04)*x -2.18241567e-03)*x + 1.18960682e-02)*x\n",
    "             + 3.70692527e+00)\n",
    "    res = tf.where(x<62.7,e1,e2)\n",
    "    res =tf.where(res>0,res,0)\n",
    "    return res\n",
    "def s_profile_tasimple(r_ta,theta):\n",
    "    r = r_ta\n",
    "    eta=eta_fun(theta)# batch,1,1\n",
    "    eta=tf.repeat(eta,6,axis=1)\n",
    "    eta=tf.repeat(eta,6,axis=2)\n",
    "    # eta shape is batch,6,6\n",
    "    Rm = tf.constant(0.09,dtype=tf.float32)\n",
    "    R1 = tf.constant(1,dtype=tf.float32)\n",
    "    return (tf.math.pow((r/Rm),-1.2)*tf.math.pow((1+r/Rm), -(eta-1.2))*tf.math.pow(1+(tf.math.pow(r,2)/R1/R1),-0.6))\n",
    "def s_profile(r_ta, theta):\n",
    "    #r_ta shape batch,6,6\n",
    "    f800=s_profile_tasimple(expand_dims(tf.constant(0.8)), theta)\n",
    "    return s_profile_tasimple(r_ta, theta)/f800\n",
    "def pfs__pps(detectors,theta,phi,signal,mask):\n",
    "#     t0,theta,phi = self.place_params()\n",
    "    # u can read from t_place if in place_reconstruction use core shift\n",
    "#     detectors = detectors_core(detectors,core)\n",
    "    theta=expand_dims(theta)\n",
    "    phi = expand_dims(phi)\n",
    "    n=-tf.concat([tf.math.cos(phi)*tf.math.sin(theta),tf.math.sin(phi)*tf.math.sin(theta),tf.math.cos(theta)],axis=-1)\n",
    "    t_place = detectors[:,:,:,0:1]*n[:,:,:,0:1] + detectors[:,:,:,1:2]*n[:,:,:,1:2] + detectors[:,:,:,2:3]*n[:,:,:,2:3] # not has t0\n",
    "    # end t_place's part\n",
    "    dist_core = tf.expand_dims(tf.reduce_sum(tf.math.pow(detectors,2),axis=-1),axis=-1) - tf.math.pow(t_place,2)\n",
    "    dist_core = tf.where(dist_core>0,tf.math.sqrt(dist_core),0)\n",
    "    cond_dist = tf.cast(tf.where(tf.logical_and(dist_core>s_min,dist_core<s_max),mask,0.),tf_type)\n",
    "    pfs = tf.reduce_sum(signal*cond_dist,axis=(1,2))\n",
    "    pps = tf.reduce_sum(s_profile(dist_core,theta)*cond_dist,axis=(1,2))\n",
    "    return (pfs,pps)\n",
    "def a_ivanov_fun(theta):\n",
    "    DEG=pi/180\n",
    "    threshold1=25*DEG\n",
    "    threshold2=35*DEG\n",
    "    # переписать для обнавления масива\n",
    "    res1=tf.where(theta<threshold1,3.3836 - 0.01848*theta/DEG,0)\n",
    "    res3=tf.where(theta>threshold2,tf.math.exp(-3.2e-2*theta/DEG + 2.0),0)\n",
    "    a=(0.6511268210e-4*(theta/DEG-0.2614963683))*(theta/DEG*theta/DEG-134.7902422*theta/DEG+4558.524091)\n",
    "    res2=tf.where(tf.math.logical_and(theta > threshold1,theta < threshold2),a,0)\n",
    "    return res1+res2+res3\n",
    "    \n",
    "def courve_fun(detectors,core,t0,theta,phi,signal,mask):\n",
    "    a_ivanov = a_ivanov_fun(theta)\n",
    "    pfs,pps = pfs__pps(detectors,theta,phi,signal,mask)\n",
    "    S_X = tf.where(pps>1e-10,pfs/pps,1)[:,0] # S_800\n",
    "    S_X=tf.expand_dims(S_X,-1)\n",
    "    courve = a_ivanov*1.3/tf.math.sqrt(S_X)\n",
    "    courve = courve\n",
    "#     S_X=tf.expand_dims(S_X,-1)\n",
    "    return courve,S_X\n",
    "def linsley_t(r,S):\n",
    "    return 0.67*tf.math.pow((1 + r/LINSLEY_r0), 1.5)*tf.math.pow(S, -0.5)/1e3\n",
    "def courve_reconstruction(detectors,t0,theta,phi,courve):\n",
    "    # u can read from t_place if in place_reconstruction use core shift\n",
    "#     detectors = detectors_core()\n",
    "    t0=expand_dims(t0) # shape (batch,1,1,1)\n",
    "    theta=tf.cast(expand_dims(theta),tf.float32)\n",
    "    phi = tf.cast(expand_dims(phi),tf.float32)\n",
    "    n=-tf.concat([tf.math.cos(phi)*tf.math.sin(theta),tf.math.sin(phi)*tf.math.sin(theta),tf.math.cos(theta)],axis=-1)\n",
    "    n=tf.cast(n,tf.float32)\n",
    "    t_place = detectors[:,:,:,0:1]*n[:,:,:,0:1] + detectors[:,:,:,1:2]*n[:,:,:,1:2] + detectors[:,:,:,2:3]*n[:,:,:,2:3]\n",
    "    dist_core = tf.expand_dims(tf.reduce_sum(tf.math.pow(detectors,2),axis=-1),axis=-1) - tf.math.pow(t_place,2)\n",
    "    dist_core = tf.where(dist_core>0,tf.math.sqrt(dist_core),0)\n",
    "    LDF=s_profile(dist_core,theta)\n",
    "    td=expand_dims(courve)*linsley_t(dist_core,LDF)\n",
    "    return td,LDF,dist_core\n",
    "def logPua(n,nbar):\n",
    "    print(n.shape,nbar.shape)\n",
    "    last_part = 2*(n*tf.math.log(nbar/(n+1e-8)) + (n - nbar))\n",
    "\n",
    "    nbar_logical=tf.where(nbar < 1e-90,True,False)\n",
    "    n_logical1 = tf.where(n>1e-90,True,False)\n",
    "    res = tf.zeros_like(n)\n",
    "    res=tf.where(tf.logical_and(nbar_logical,n_logical1),-1e-6,res)\n",
    "\n",
    "    else_nbar_logical = tf.logical_not(nbar_logical) \n",
    "    n_logical2 = tf.where(n<1e-20,True,False)\n",
    "\n",
    "    res=tf.where(tf.logical_and(else_nbar_logical,n_logical2),-2*nbar,res)\n",
    "    res=tf.where(tf.logical_and(else_nbar_logical,tf.logical_not(n_logical2)),last_part,res)\n",
    "    return res\n",
    "def chi2L(S_X,s_prof,mask,signal):\n",
    "    s_fit = expand_dims(S_X)*s_prof*mask\n",
    "    qs=signal\n",
    "    s_sigma2 = ( 2*qs/DET_AREA + tf.math.pow( 0.15*qs, 2 ) + 1e-6 )\n",
    "    maskL2 = tf.where(qs>4.0,mask,0)\n",
    "    S=S_X\n",
    "    chi2L2=tf.reduce_sum((qs - s_fit)*(qs - s_fit)/s_sigma2*maskL2,axis=(1,2))\n",
    "#     maskL3 = tf.where(s_fit<4.0,mask,0)\n",
    "#         chi2L3 = -tf.reduce_sum(0.4*self.logPua(S*self.DET_AREA, s_fit*self.DET_AREA)*maskL3,axis=(1,2))\n",
    "#         print(chi2L2.shape,chi3L.shape)\n",
    "    return chi2L2  #+ chi3L\n",
    "def optimization(data,iterats,num,detectors_rub=None):\n",
    "    Adam = tf.keras.optimizers.Adam()\n",
    "    signal = data[:,:,:,0:1]\n",
    "    real_time = data[:,:,:,1:2]+data[:,:,:,2:3]\n",
    "    mask=data[:,:,:,3:4]\n",
    "    batch = data.shape[0]\n",
    "    #detectors\n",
    "#     if not (detectors_rub is None):\n",
    "#         detectors_orig  = detectors_init(data)\n",
    "#         core = core_(detectors_orig ,signal)\n",
    "#         detectors = detectors_core(detectors_orig ,core)\n",
    "#         detectors_z = tf.concat([detectors,tf.zeros_like(detectors[:,:,:,0:1])],axis=-1)\n",
    "#         core = tf.zeros((batch,2))\n",
    "#         use_z=False\n",
    "#     else:\n",
    "    detectors_z = detectors_rub\n",
    "    detectors=detectors_z[:,:,:,:2]\n",
    "    core = tf.zeros((batch,2))\n",
    "    use_z=True\n",
    "    \n",
    "    \n",
    "    t0,theta,phi = place_params(detectors,real_time,mask)\n",
    "    courve,S_X = courve_fun(detectors_z,core,t0,theta,phi,signal,mask)\n",
    "    chi_list=[]\n",
    "    par = [t0,theta,phi,courve,core,S_X]\n",
    "    params=[tf.Variable(p, True) for p in par]\n",
    "#         params=tf.concat([t0,theta,phi,courve,core,S_X],axis=1)\n",
    "    params_list=[]\n",
    "    params_list.append(copy.deepcopy(params))\n",
    "    for i in tqdm.notebook.tqdm_notebook(range(iterats)):\n",
    "        with tf.GradientTape() as gr:  \n",
    "            gr.watch(params)\n",
    "            \n",
    "            t0=params[0]\n",
    "            theta=tf.math.abs(params[1])\n",
    "            phi=params[2]\n",
    "            courve=params[3]\n",
    "            core=params[4]\n",
    "            S_X=params[5]\n",
    "            detectors_z = detectors_core(detectors_z ,core)\n",
    "            t_place = place_reconstruction(detectors_z,mask,t0,theta,phi,use_z)\n",
    "            td,s_prof,dist_core = courve_reconstruction(detectors_z,t0,theta,phi,courve)  #update LDF <==> s_profile\n",
    "            t_sigma2=(t0_err*t0_err + td*td) * t_err_res\n",
    "            time_reco = expand_dims(t0) + t_place +td\n",
    "            chi_T=tf.reduce_sum(tf.math.pow((time_reco-real_time)*mask,2)/t_sigma2,axis=(1,2))\n",
    "            chi_L=chi2L(S_X,s_prof,mask,signal)\n",
    "            chi = chi_T +chi_L\n",
    "            print(tf.reduce_mean(chi_T),tf.reduce_mean(chi_L),end='\\r')\n",
    "            if num:\n",
    "                print(chi_T[num],chi_L[num],[np.array(i[num]) for i in params],end='\\r')\n",
    "            chi_list.append(chi)\n",
    "            grad=gr.gradient(chi,params)[:6]\n",
    "#             print([tf.reduce_mean(i) for i in grad],end = '\\r')\n",
    "            Adam.apply_gradients(zip(grad, params))\n",
    "            params_list.append(copy.deepcopy(params))\n",
    "    for s1,p1 in enumerate(params_list):\n",
    "        p2=tf.concat(p1,axis=1)\n",
    "        params_list[s1]=p2\n",
    "    params_list = np.array(params_list)\n",
    "    return np.array(chi_list), params_list"
   ]
  },
  {
   "cell_type": "code",
   "execution_count": 9,
   "metadata": {},
   "outputs": [
    {
     "data": {
      "application/vnd.jupyter.widget-view+json": {
       "model_id": "e7a9a48f1bcd438a851995c7381dda60",
       "version_major": 2,
       "version_minor": 0
      },
      "text/plain": [
       "HBox(children=(FloatProgress(value=0.0, max=10.0), HTML(value='')))"
      ]
     },
     "metadata": {},
     "output_type": "display_data"
    },
    {
     "name": "stdout",
     "output_type": "stream",
     "text": [
      "tf.Tensor([0.06397222], shape=(1,), dtype=float32) tf.Tensor([0.2949999], shape=(1,), dtype=float32) [array([1.464745], dtype=float32), array([0.17523247], dtype=float32), array([5.628417], dtype=float32), array([1.4832659], dtype=float32), array([0.00424413, 0.00157672], dtype=float32), array([7.978991], dtype=float32)]]]]\n"
     ]
    }
   ],
   "source": [
    "chi, params = optimization(data[:100],10,num=3,detectors_rub=detectors_rub[:100])"
   ]
  },
  {
   "cell_type": "code",
   "execution_count": 10,
   "metadata": {},
   "outputs": [
    {
     "data": {
      "text/plain": [
       "array([34.242947 , 35.273617 ,  9.415906 , 10.007526 , 19.400469 ,\n",
       "        7.413441 ,  4.179612 , 19.060474 , 17.236254 , 12.418678 ,\n",
       "       42.803013 , 29.263906 , 39.238743 , 29.59801  , 18.78333  ,\n",
       "       28.756508 , 27.409529 , 34.344784 , 32.571724 , 33.93229  ,\n",
       "       19.024467 , 32.05715  , 27.916145 , 30.301615 , 29.633085 ,\n",
       "       27.637074 , 34.996716 , 24.66491  , 29.123138 , 28.45281  ,\n",
       "       32.549526 , 21.841438 , 39.17608  , 13.02892  , 10.664702 ,\n",
       "       20.328098 ,  2.1988618, 19.171703 , 20.727135 , 20.478441 ,\n",
       "       18.128025 , 17.104626 , 19.125858 , 10.575495 , 20.999844 ,\n",
       "       15.854811 , 14.476658 , 10.32061  ,  2.731958 , 15.45034  ,\n",
       "       15.891704 , 16.47599  , 17.616337 , 28.694862 ,  9.621288 ,\n",
       "       14.716557 , 14.2364855, 41.093685 , 46.24584  , 48.538826 ,\n",
       "       43.312725 , 43.799892 , 44.081554 , 37.696117 , 44.146927 ,\n",
       "       40.565125 , 39.750862 , 41.342987 , 44.178715 , 37.703236 ,\n",
       "       41.209797 , 45.385433 , 46.882557 , 41.737545 , 34.409367 ,\n",
       "       31.633804 , 39.066772 , 42.794556 , 44.876297 , 45.75864  ,\n",
       "       45.55306  , 41.021614 , 40.481953 , 40.608654 , 42.124336 ,\n",
       "       42.374832 , 42.987762 , 44.841396 , 43.525322 , 45.095207 ,\n",
       "       41.033367 , 35.35668  , 42.567394 , 44.95625  , 39.73797  ,\n",
       "       39.88368  , 32.59537  , 42.96377  , 42.81814  , 41.643627 ],\n",
       "      dtype=float32)"
      ]
     },
     "execution_count": 10,
     "metadata": {},
     "output_type": "execute_result"
    }
   ],
   "source": [
    "params[-1,:,1]*180/3.1415"
   ]
  },
  {
   "cell_type": "markdown",
   "metadata": {},
   "source": [
    "# Проверка по параметрам рубцова"
   ]
  },
  {
   "cell_type": "markdown",
   "metadata": {},
   "source": [
    "## проверка плоского фронта"
   ]
  },
  {
   "cell_type": "code",
   "execution_count": 11,
   "metadata": {},
   "outputs": [],
   "source": [
    "# ev = ev_starts[1] \n",
    "# all_det=dt_params[0:ev,:3] * 1.2\n",
    "# signal = dt_params[0:ev,3:4]\n",
    "# flat_time= dt_params[0:ev,4:5]\n",
    "# real_time = dt_params[0:ev,5:6] + flat_time\n",
    "# print(ev,all_det.shape)"
   ]
  },
  {
   "cell_type": "code",
   "execution_count": 12,
   "metadata": {},
   "outputs": [],
   "source": [
    "Adam = tf.keras.optimizers.Adam()\n",
    "signal = data[:,:,:,0:1]\n",
    "real_time = data[:,:,:,1:2]+data[:,:,:,2:3]\n",
    "mask=data[:,:,:,3:4]\n",
    "batch = data.shape[0]\n",
    "#detectors\n",
    "#     if not (detectors_rub is None):\n",
    "#         detectors_orig  = detectors_init(data)\n",
    "#         core = core_(detectors_orig ,signal)\n",
    "#         detectors = detectors_core(detectors_orig ,core)\n",
    "#         detectors_z = tf.concat([detectors,tf.zeros_like(detectors[:,:,:,0:1])],axis=-1)\n",
    "#         core = tf.zeros((batch,2))\n",
    "#         use_z=False\n",
    "#     else:\n",
    "detectors_z = detectors_rub\n",
    "detectors=detectors_z[:,:,:,:2]\n",
    "core = tf.zeros((batch,2))\n",
    "use_z=True\n",
    "\n",
    "\n",
    "# t0,theta,phi = place_params(detectors,real_time,mask)\n",
    "# courve,S_X = courve_fun(detectors_z,core,t0,theta,phi,signal,mask)"
   ]
  },
  {
   "cell_type": "code",
   "execution_count": 13,
   "metadata": {},
   "outputs": [
    {
     "name": "stdout",
     "output_type": "stream",
     "text": [
      "(2000,)\n"
     ]
    }
   ],
   "source": [
    "theta_ = tf.constant(recos[:2000,0:1]/180*3.1415)\n",
    "phi_ = tf.constant(recos[:2000,1:2]/180*3.1415)\n",
    "_aprime = recos[:,6]\n",
    "_S800 = recos[:,2]\n",
    "print(_aprime.shape)\n",
    "courve_ = tf.expand_dims(_aprime,-1)#/tf.expand_dims(tf.math.sqrt(_S800),-1)\n",
    "courve_\n",
    "t0 =  tf.constant(0,dtype=tf.float32)\n",
    "# t_place = place_reconstruction(detectors_rub[:,:,:,:3],mask,t0,theta_,phi_,True)\n",
    "# t_place[0,:,:,0] - data[0,:,:,1]"
   ]
  },
  {
   "cell_type": "markdown",
   "metadata": {},
   "source": [
    "$\\textbf{Плоский фронт верно реконструирует}$"
   ]
  },
  {
   "cell_type": "code",
   "execution_count": 26,
   "metadata": {},
   "outputs": [
    {
     "name": "stdout",
     "output_type": "stream",
     "text": [
      "(2000, 6, 6, 3) (2000, 6, 6, 1) () (2000, 1) (2000, 1)\n",
      "<dtype: 'float32'> float32\n"
     ]
    },
    {
     "data": {
      "text/plain": [
       "<tf.Tensor: shape=(6, 6), dtype=float32, numpy=\n",
       "array([[ 0.       ,  0.       ,  0.       ,  0.       ,  0.       ,\n",
       "         0.       ],\n",
       "       [ 0.       ,  0.       ,  0.       , -2.3123114, -4.5444446,\n",
       "         0.       ],\n",
       "       [ 0.       ,  0.       ,  1.1856357, -1.1551101, -3.480965 ,\n",
       "         0.       ],\n",
       "       [ 0.       ,  0.       ,  2.256193 , -0.2973976,  0.       ,\n",
       "         0.       ],\n",
       "       [ 0.       ,  0.       ,  3.269307 ,  0.       ,  0.       ,\n",
       "         0.       ],\n",
       "       [ 0.       ,  0.       ,  0.       ,  0.       ,  0.       ,\n",
       "         0.       ]], dtype=float32)>"
      ]
     },
     "execution_count": 26,
     "metadata": {},
     "output_type": "execute_result"
    }
   ],
   "source": [
    "def place_reconstruction_6(detectors,mask,t0,theta,phi,use_z=False):\n",
    "    print(detectors.shape,mask.shape,t0.shape,theta.shape,phi.shape)\n",
    "    t0=expand_dims(t0) # shape (batch,1,1,1)\n",
    "    theta=expand_dims(theta)\n",
    "    phi =expand_dims(phi)\n",
    "    if use_z:\n",
    "        n=-tf.concat([tf.math.cos(phi)*tf.math.sin(theta),tf.math.sin(phi)*tf.math.sin(theta),tf.math.cos(theta)],axis=-1)\n",
    "    else:\n",
    "        n=-tf.concat([tf.math.cos(phi)*tf.math.sin(theta),tf.math.sin(phi)*tf.math.sin(theta)],axis=-1)\n",
    "    print(n.dtype,detectors.dtype)\n",
    "    t_place =  tf.expand_dims(tf.reduce_sum(detectors*n,axis=-1),-1)*(1e6/c)\n",
    "    t_place = t_place*mask\n",
    "    return t_place\n",
    "t_place = place_reconstruction_6(detectors_rub[:,:,:,:3],mask,t0,theta_,phi_,True)\n",
    "t_place[0,:,:,0]"
   ]
  },
  {
   "cell_type": "code",
   "execution_count": null,
   "metadata": {},
   "outputs": [],
   "source": []
  },
  {
   "cell_type": "code",
   "execution_count": 28,
   "metadata": {},
   "outputs": [
    {
     "data": {
      "text/plain": [
       "<tf.Tensor: shape=(1, 8, 1), dtype=float32, numpy=\n",
       "array([[[-4.5444446],\n",
       "        [-3.480965 ],\n",
       "        [-2.3123114],\n",
       "        [-1.1551101],\n",
       "        [-0.2973976],\n",
       "        [ 1.1856357],\n",
       "        [ 2.256193 ],\n",
       "        [ 3.269307 ]]], dtype=float32)>"
      ]
     },
     "execution_count": 28,
     "metadata": {},
     "output_type": "execute_result"
    }
   ],
   "source": [
    "def place_reconstruction(detectors,mask,theta,phi,use_z=False):\n",
    "#     t0=expand_dims(t0) # shape (batch,1,1,1)\n",
    "    theta=expand_dims(theta)\n",
    "    phi =expand_dims(phi)\n",
    "    if use_z:\n",
    "        n=-tf.concat([tf.math.cos(phi)*tf.math.sin(theta),tf.math.sin(phi)*tf.math.sin(theta),tf.math.cos(theta)],axis=-1)\n",
    "    else:\n",
    "        n=-tf.concat([tf.math.cos(phi)*tf.math.sin(theta),tf.math.sin(phi)*tf.math.sin(theta)],axis=-1)\n",
    "    t_place =  tf.expand_dims(tf.reduce_sum(detectors*n,axis=-1),-1)*(1e6/c)\n",
    "#     t_place = t_place*mask\n",
    "    return t_place\n",
    "flat_reco = place_reconstruction(all_det,mask,theta_[0],phi_[0],True)\n",
    "flat_reco"
   ]
  },
  {
   "cell_type": "code",
   "execution_count": 29,
   "metadata": {},
   "outputs": [
    {
     "data": {
      "text/plain": [
       "array([[-1.60974   ,  1.56306   ,  0.05728452],\n",
       "       [-0.41123042,  1.565736  ,  0.04222596],\n",
       "       [-1.5380641 ,  0.4369476 ,  0.05746908],\n",
       "       [-0.4137888 ,  0.366468  ,  0.03603528],\n",
       "       [ 0.7089216 ,  0.43382162,  0.02715168],\n",
       "       [-0.411144  , -0.82945687,  0.02331492],\n",
       "       [ 0.7868293 , -0.84104043,  0.015981  ],\n",
       "       [ 1.9251721 , -0.8490432 ,  0.00837841]], dtype=float32)"
      ]
     },
     "execution_count": 29,
     "metadata": {},
     "output_type": "execute_result"
    }
   ],
   "source": [
    "all_det"
   ]
  },
  {
   "cell_type": "code",
   "execution_count": 30,
   "metadata": {},
   "outputs": [
    {
     "data": {
      "text/plain": [
       "array([[-4.545],\n",
       "       [-3.481],\n",
       "       [-2.313],\n",
       "       [-1.155],\n",
       "       [-0.297],\n",
       "       [ 1.186],\n",
       "       [ 2.256],\n",
       "       [ 3.27 ]], dtype=float32)"
      ]
     },
     "execution_count": 30,
     "metadata": {},
     "output_type": "execute_result"
    }
   ],
   "source": [
    "flat_time"
   ]
  },
  {
   "cell_type": "markdown",
   "metadata": {},
   "source": [
    "## проверка ривого фронта"
   ]
  },
  {
   "cell_type": "code",
   "execution_count": 31,
   "metadata": {},
   "outputs": [],
   "source": [
    "def eta_fun(theta):\n",
    "    x=theta*180/3.14\n",
    "\n",
    "    e1 = 3.97 - 1.79*(tf.math.abs(1.0/tf.math.cos(theta)) - 1.0)\n",
    "    e2 = ((((((-1.71299934e-10*x + 4.23849411e-08)*x -3.76192000e-06)*x\n",
    "               + 1.35747298e-04)*x -2.18241567e-03)*x + 1.18960682e-02)*x\n",
    "             + 3.70692527e+00)\n",
    "    res = tf.where(x<62.7,e1,e2)\n",
    "#     res =tf.where(res>0,res,0)\n",
    "    return res"
   ]
  },
  {
   "cell_type": "code",
   "execution_count": 32,
   "metadata": {},
   "outputs": [],
   "source": [
    "LINSLEY_r0=tf.constant(0.030,dtype=tf.float32)\n",
    "NSEC= tf.constant(1e9/c,dtype=tf.float32)# in rubsov's code is a time for 1.2 km 1.2/c*1e9\n",
    "def linsley_t(r,S):\n",
    "    return 0.67*tf.math.pow((1 + r/LINSLEY_r0), 1.5)*tf.math.pow(S, -0.5)*1e-3\n",
    "def s_profile_tasimple(r_ta,theta,fl=False):\n",
    "    # убрать 1,2\n",
    "    UNIT = 1000.0\n",
    "    r = r_ta * UNIT \n",
    "    eta=eta_fun(theta)# batch,1,1\n",
    "    eta=tf.repeat(eta,6,axis=1)\n",
    "    eta=tf.repeat(eta,6,axis=2)\n",
    "#     print('eta',eta.shape)\n",
    "    # eta shape is batch,6,6\n",
    "    Rm = tf.constant(90,dtype=tf.float32)# убрал 1.2 из-за Unit\n",
    "    R1 = tf.constant(1000,dtype=tf.float32)\n",
    "#     print('shape sprofile',r.shape,Rm.shape,R1.shape,eta.shape,theta.shape)\n",
    "    print('r',r.shape)\n",
    "    if fl:\n",
    "        print('  ',(r/Rm)[0,:,:,0])\n",
    "    return (tf.math.pow((r/Rm),-1.2)*tf.math.pow((1+r/Rm), -(eta-1.2))*tf.math.pow(1+(tf.math.pow(r,2)/R1/R1),-0.6))\n",
    "\n",
    "def s_profile(r_ta, theta):\n",
    "    #r_ta shape batch,6,6\n",
    "    print('r_prof',r_ta.shape)\n",
    "    f800=s_profile_tasimple(expand_dims(tf.constant(0.8)), theta,fl=False)\n",
    "    print(\"f800\",f800.shape)\n",
    "    return s_profile_tasimple(r_ta, theta)/f800\n",
    "\n",
    "# def courve_reconstruction(detectors,t0,theta,phi,courve):\n",
    "# #     t0=tf.expand_dims(t0,-1) # shape (batch,1,1,1)\n",
    "# #     theta=tf.expand_dims(theta,-1)\n",
    "# #     phi = tf.expand_dims(phi,-1)\n",
    "#     print('angle', theta,phi)\n",
    "#     n=tf.concat([tf.math.cos(phi)*tf.math.sin(theta),tf.math.sin(phi)*tf.math.sin(theta),tf.math.cos(theta)],axis=-1)\n",
    "#     print('n',n.shape)\n",
    "#     t_place = detectors[:,0:1]*n[:,0:1] + detectors[:,1:2]*n[:,1:2] + detectors[:,2:3]*n[:,2:3]\n",
    "    \n",
    "# #     print(\"t_place\",t_place[0,:,:,0])\n",
    "#     dist_core = tf.expand_dims(tf.reduce_sum(tf.math.pow(detectors,2),axis=-1),axis=-1) - tf.math.pow(t_place,2)\n",
    "# #     dist_core = tf.where(dist_core>R_error*R_error,tf.math.sqrt(dist_core),R_error)\n",
    "# #     dist_core = tf.where(dist_core,tf.math.sqrt(dist_core),0)\n",
    "# #     print(\"dist_core\",dist_core[0,:,:,0])\n",
    "#     # add mask\n",
    "#     dist_core = tf.math.sqrt(dist_core)#*mask\n",
    "#     print('dist_core',dist_core)\n",
    "# #     print(\"dist_core after\",dist_core[0,:,:,0])\n",
    "#     # add mask\n",
    "#     LDF=s_profile(dist_core,theta)#*mask\n",
    "#     print('LDF',LDF.shape,courve.shape,linsley_t(dist_core,LDF).shape)\n",
    "#     td=courve*linsley_t(dist_core,LDF)\n",
    "#     print('td',td.shape)\n",
    "#     return td,LDF\n",
    "def courve_reconstruction(detectors,t0,theta,phi,courve):\n",
    "    # u can read from t_place if in place_reconstruction use core shift\n",
    "#     detectors = detectors_core()\n",
    "    t0=expand_dims(t0) # shape (batch,1,1,1)\n",
    "    theta=expand_dims(theta)\n",
    "    phi = expand_dims(phi)\n",
    "    n=-tf.concat([tf.math.cos(phi)*tf.math.sin(theta),tf.math.sin(phi)*tf.math.sin(theta),tf.math.cos(theta)],axis=-1)\n",
    "    t_place = detectors[:,:,:,0:1]*n[:,:,:,0:1] + detectors[:,:,:,1:2]*n[:,:,:,1:2] + detectors[:,:,:,2:3]*n[:,:,:,2:3]\n",
    "    dist_core = tf.expand_dims(tf.reduce_sum(tf.math.pow(detectors,2),axis=-1),axis=-1) - tf.math.pow(t_place,2)\n",
    "    dist_core = tf.where(dist_core>0,tf.math.sqrt(dist_core),0)\n",
    "    print('dist_core',dist_core[0,:,:,0],theta[0])\n",
    "    LDF=s_profile(dist_core,theta)\n",
    "    td=expand_dims(courve)*linsley_t(dist_core,LDF)\n",
    "    return td,LDF"
   ]
  },
  {
   "cell_type": "code",
   "execution_count": 15,
   "metadata": {},
   "outputs": [
    {
     "name": "stdout",
     "output_type": "stream",
     "text": [
      "(2000,) [ 4.23001  4.9129   7.80929 ... 12.4575   9.1375  10.1    ]\n"
     ]
    },
    {
     "data": {
      "text/plain": [
       "<tf.Tensor: shape=(2000, 1), dtype=float32, numpy=\n",
       "array([[0.912055],\n",
       "       [0.752797],\n",
       "       [0.692234],\n",
       "       ...,\n",
       "       [0.448678],\n",
       "       [1.05899 ],\n",
       "       [0.655279]], dtype=float32)>"
      ]
     },
     "execution_count": 15,
     "metadata": {},
     "output_type": "execute_result"
    }
   ],
   "source": [
    "_aprime = recos[:,6]\n",
    "_S800 = recos[:,2]\n",
    "print(_aprime.shape,_S800)\n",
    "courve_= tf.expand_dims(_aprime,-1)#/tf.expand_dims(tf.math.sqrt(_S800),-1)\n",
    "courve_"
   ]
  },
  {
   "cell_type": "code",
   "execution_count": 16,
   "metadata": {},
   "outputs": [],
   "source": [
    "t0=tf.constant(0)"
   ]
  },
  {
   "cell_type": "code",
   "execution_count": 17,
   "metadata": {},
   "outputs": [
    {
     "ename": "ValueError",
     "evalue": "too many values to unpack (expected 2)",
     "output_type": "error",
     "traceback": [
      "\u001b[0;31m---------------------------------------------------------------------------\u001b[0m",
      "\u001b[0;31mValueError\u001b[0m                                Traceback (most recent call last)",
      "\u001b[0;32m<ipython-input-17-afbb355955fc>\u001b[0m in \u001b[0;36m<module>\u001b[0;34m\u001b[0m\n\u001b[0;32m----> 1\u001b[0;31m \u001b[0mcourve_front\u001b[0m\u001b[0;34m,\u001b[0m\u001b[0mLDF\u001b[0m \u001b[0;34m=\u001b[0m \u001b[0mcourve_reconstruction\u001b[0m\u001b[0;34m(\u001b[0m\u001b[0mdetectors_rub\u001b[0m\u001b[0;34m,\u001b[0m\u001b[0mt0\u001b[0m\u001b[0;34m,\u001b[0m\u001b[0mtheta_\u001b[0m\u001b[0;34m,\u001b[0m\u001b[0mphi_\u001b[0m\u001b[0;34m,\u001b[0m\u001b[0mcourve_\u001b[0m\u001b[0;34m)\u001b[0m\u001b[0;34m\u001b[0m\u001b[0;34m\u001b[0m\u001b[0m\n\u001b[0m",
      "\u001b[0;31mValueError\u001b[0m: too many values to unpack (expected 2)"
     ]
    }
   ],
   "source": [
    "courve_front,LDF = courve_reconstruction(detectors_rub,t0,theta_,phi_,courve_)"
   ]
  },
  {
   "cell_type": "code",
   "execution_count": 37,
   "metadata": {},
   "outputs": [
    {
     "data": {
      "text/plain": [
       "<tf.Tensor: shape=(2000, 6, 6, 1), dtype=float32, numpy=\n",
       "array([[[[ 0.00004177],\n",
       "         [ 0.00004177],\n",
       "         [ 0.00004177],\n",
       "         [ 0.00004177],\n",
       "         [ 0.00004177],\n",
       "         [ 0.00004177]],\n",
       "\n",
       "        [[ 0.00004177],\n",
       "         [ 0.00004177],\n",
       "         [ 0.00004177],\n",
       "         [ 0.09965041],\n",
       "         [ 0.04086046],\n",
       "         [ 0.00004177]],\n",
       "\n",
       "        [[ 0.00004177],\n",
       "         [ 0.00004177],\n",
       "         [ 0.78069586],\n",
       "         [ 8.421596  ],\n",
       "         [ 0.18535146],\n",
       "         [ 0.00004177]],\n",
       "\n",
       "        [[ 0.00004177],\n",
       "         [ 0.00004177],\n",
       "         [ 0.5633956 ],\n",
       "         [ 0.8852532 ],\n",
       "         [ 0.00004177],\n",
       "         [ 0.00004177]],\n",
       "\n",
       "        [[ 0.00004177],\n",
       "         [ 0.00004177],\n",
       "         [ 0.03402905],\n",
       "         [ 0.00004177],\n",
       "         [ 0.00004177],\n",
       "         [ 0.00004177]],\n",
       "\n",
       "        [[ 0.00004177],\n",
       "         [ 0.00004177],\n",
       "         [ 0.00004177],\n",
       "         [ 0.00004177],\n",
       "         [ 0.00004177],\n",
       "         [ 0.00004177]]],\n",
       "\n",
       "\n",
       "       [[[ 0.00004729],\n",
       "         [ 0.00004729],\n",
       "         [ 0.00004729],\n",
       "         [ 0.00004729],\n",
       "         [ 0.00004729],\n",
       "         [ 0.00004729]],\n",
       "\n",
       "        [[ 0.00004729],\n",
       "         [ 0.00004729],\n",
       "         [ 0.10292187],\n",
       "         [ 0.08426755],\n",
       "         [ 0.00004729],\n",
       "         [ 0.00004729]],\n",
       "\n",
       "        [[ 0.00004729],\n",
       "         [ 0.00004729],\n",
       "         [ 2.1002896 ],\n",
       "         [ 1.3319029 ],\n",
       "         [ 0.00004729],\n",
       "         [ 0.00004729]],\n",
       "\n",
       "        [[ 0.00004729],\n",
       "         [ 0.00004729],\n",
       "         [ 0.876427  ],\n",
       "         [ 0.64217997],\n",
       "         [ 0.00004729],\n",
       "         [ 0.00004729]],\n",
       "\n",
       "        [[ 0.00004729],\n",
       "         [ 0.00004729],\n",
       "         [ 0.00004729],\n",
       "         [ 0.05687714],\n",
       "         [ 0.00004729],\n",
       "         [ 0.00004729]],\n",
       "\n",
       "        [[ 0.00004729],\n",
       "         [ 0.00004729],\n",
       "         [ 0.00004729],\n",
       "         [ 0.00004729],\n",
       "         [ 0.00004729],\n",
       "         [ 0.00004729]]],\n",
       "\n",
       "\n",
       "       [[[ 0.00001197],\n",
       "         [ 0.00001197],\n",
       "         [ 0.00001197],\n",
       "         [ 0.00001197],\n",
       "         [ 0.00001197],\n",
       "         [ 0.00001197]],\n",
       "\n",
       "        [[ 0.00001197],\n",
       "         [ 0.00001197],\n",
       "         [ 0.00001197],\n",
       "         [ 0.00001197],\n",
       "         [ 0.00001197],\n",
       "         [ 0.00001197]],\n",
       "\n",
       "        [[ 0.00001197],\n",
       "         [ 0.03216147],\n",
       "         [ 1.5663637 ],\n",
       "         [ 0.52110994],\n",
       "         [ 0.00001197],\n",
       "         [ 0.00001197]],\n",
       "\n",
       "        [[ 0.00001197],\n",
       "         [ 0.00001197],\n",
       "         [ 1.1101989 ],\n",
       "         [ 0.4188557 ],\n",
       "         [ 0.00001197],\n",
       "         [ 0.00001197]],\n",
       "\n",
       "        [[ 0.00001197],\n",
       "         [ 0.00597626],\n",
       "         [ 0.02142018],\n",
       "         [ 0.00001197],\n",
       "         [ 0.00001197],\n",
       "         [ 0.00001197]],\n",
       "\n",
       "        [[ 0.00001197],\n",
       "         [ 0.00001197],\n",
       "         [ 0.00001197],\n",
       "         [ 0.00001197],\n",
       "         [ 0.00001197],\n",
       "         [ 0.00001197]]],\n",
       "\n",
       "\n",
       "       ...,\n",
       "\n",
       "\n",
       "       [[[ 0.00003624],\n",
       "         [ 0.00003624],\n",
       "         [ 0.00003624],\n",
       "         [ 0.00003624],\n",
       "         [ 0.00003624],\n",
       "         [ 0.00003624]],\n",
       "\n",
       "        [[ 0.00003624],\n",
       "         [ 0.00003624],\n",
       "         [ 0.00003624],\n",
       "         [ 0.08685936],\n",
       "         [ 0.00003624],\n",
       "         [ 0.00003624]],\n",
       "\n",
       "        [[ 0.00003624],\n",
       "         [ 0.16210732],\n",
       "         [18.76134   ],\n",
       "         [ 0.49700275],\n",
       "         [ 0.00003624],\n",
       "         [ 0.00003624]],\n",
       "\n",
       "        [[ 0.00003624],\n",
       "         [ 0.18410857],\n",
       "         [ 1.2331263 ],\n",
       "         [ 0.11430777],\n",
       "         [ 0.00003624],\n",
       "         [ 0.00003624]],\n",
       "\n",
       "        [[ 0.00003624],\n",
       "         [ 0.00003624],\n",
       "         [ 0.00003624],\n",
       "         [ 0.00003624],\n",
       "         [ 0.00003624],\n",
       "         [ 0.00003624]],\n",
       "\n",
       "        [[ 0.00003624],\n",
       "         [ 0.00003624],\n",
       "         [ 0.00003624],\n",
       "         [ 0.00003624],\n",
       "         [ 0.00003624],\n",
       "         [ 0.00003624]]],\n",
       "\n",
       "\n",
       "       [[[ 0.00003457],\n",
       "         [ 0.00003457],\n",
       "         [ 0.00003457],\n",
       "         [ 0.00003457],\n",
       "         [ 0.00003457],\n",
       "         [ 0.00003457]],\n",
       "\n",
       "        [[ 0.00003457],\n",
       "         [ 0.00003457],\n",
       "         [ 0.00003457],\n",
       "         [ 0.00003457],\n",
       "         [ 0.00003457],\n",
       "         [ 0.00003457]],\n",
       "\n",
       "        [[ 0.00003457],\n",
       "         [ 0.00003457],\n",
       "         [ 0.21935296],\n",
       "         [ 0.38470948],\n",
       "         [ 0.00003457],\n",
       "         [ 0.00003457]],\n",
       "\n",
       "        [[ 0.00003457],\n",
       "         [ 0.07480981],\n",
       "         [ 6.8649015 ],\n",
       "         [ 2.2493842 ],\n",
       "         [ 0.00003457],\n",
       "         [ 0.00003457]],\n",
       "\n",
       "        [[ 0.00003457],\n",
       "         [ 0.00003457],\n",
       "         [ 0.23745805],\n",
       "         [ 0.0973959 ],\n",
       "         [ 0.00003457],\n",
       "         [ 0.00003457]],\n",
       "\n",
       "        [[ 0.00003457],\n",
       "         [ 0.00003457],\n",
       "         [ 0.00003457],\n",
       "         [ 0.00003457],\n",
       "         [ 0.00003457],\n",
       "         [ 0.00003457]]],\n",
       "\n",
       "\n",
       "       [[[ 0.00004802],\n",
       "         [ 0.00004802],\n",
       "         [ 0.00004802],\n",
       "         [ 0.00004802],\n",
       "         [ 0.00004802],\n",
       "         [ 0.00004802]],\n",
       "\n",
       "        [[ 0.00004802],\n",
       "         [ 0.01522236],\n",
       "         [ 0.00004802],\n",
       "         [ 0.00004802],\n",
       "         [ 0.00004802],\n",
       "         [ 0.00004802]],\n",
       "\n",
       "        [[ 0.01851794],\n",
       "         [ 0.00004802],\n",
       "         [ 1.4268835 ],\n",
       "         [ 0.29238415],\n",
       "         [ 0.02939039],\n",
       "         [ 0.00004802]],\n",
       "\n",
       "        [[ 0.00004802],\n",
       "         [ 0.39880133],\n",
       "         [ 6.8136063 ],\n",
       "         [ 0.30931538],\n",
       "         [ 0.00004802],\n",
       "         [ 0.00004802]],\n",
       "\n",
       "        [[ 0.01152036],\n",
       "         [ 0.00004802],\n",
       "         [ 0.05425122],\n",
       "         [ 0.02793027],\n",
       "         [ 0.00004802],\n",
       "         [ 0.00004802]],\n",
       "\n",
       "        [[ 0.00004802],\n",
       "         [ 0.00004802],\n",
       "         [ 0.00004802],\n",
       "         [ 0.00004802],\n",
       "         [ 0.00004802],\n",
       "         [ 0.00004802]]]], dtype=float32)>"
      ]
     },
     "execution_count": 37,
     "metadata": {},
     "output_type": "execute_result"
    }
   ],
   "source": [
    "LDF"
   ]
  },
  {
   "cell_type": "code",
   "execution_count": 38,
   "metadata": {},
   "outputs": [
    {
     "data": {
      "text/plain": [
       "<tf.Tensor: shape=(6, 6), dtype=float32, numpy=\n",
       "array([[0.        , 0.        , 0.        , 0.        , 0.        ,\n",
       "        0.        ],\n",
       "       [0.        , 0.        , 0.        , 0.66531885, 1.4210567 ,\n",
       "        0.        ],\n",
       "       [0.        , 0.        , 0.11083599, 0.01273881, 0.39016643,\n",
       "        0.        ],\n",
       "       [0.        , 0.        , 0.14790395, 0.09912461, 0.        ,\n",
       "        0.        ],\n",
       "       [0.        , 0.        , 1.6589398 , 0.        , 0.        ,\n",
       "        0.        ],\n",
       "       [0.        , 0.        , 0.        , 0.        , 0.        ,\n",
       "        0.        ]], dtype=float32)>"
      ]
     },
     "execution_count": 38,
     "metadata": {},
     "output_type": "execute_result"
    }
   ],
   "source": [
    "i=0\n",
    "courve_front[i,:,:,0]*mask[i,:,:,0]"
   ]
  },
  {
   "cell_type": "code",
   "execution_count": 43,
   "metadata": {},
   "outputs": [
    {
     "name": "stdout",
     "output_type": "stream",
     "text": [
      "dist_core tf.Tensor(\n",
      "[[8.264659   8.264659   8.264659   8.264659   8.264659   8.264659  ]\n",
      " [8.264659   8.264659   8.264659   1.4419856  1.7837024  8.264659  ]\n",
      " [8.264659   8.264659   0.85512614 0.4323187  1.2383018  8.264659  ]\n",
      " [8.264659   8.264659   0.93231    0.8267764  8.264659   8.264659  ]\n",
      " [8.264659   8.264659   1.8618833  8.264659   8.264659   8.264659  ]\n",
      " [8.264659   8.264659   8.264659   8.264659   8.264659   8.264659  ]], shape=(6, 6), dtype=float32) tf.Tensor([[[0.685121]]], shape=(1, 1, 1), dtype=float32)\n",
      "r_prof (1, 6, 6, 1)\n",
      "r (1, 1)\n",
      "f800 (1, 6, 6, 1)\n",
      "r (1, 6, 6, 1)\n"
     ]
    }
   ],
   "source": [
    "courve_front,LDF = courve_reconstruction(detectors_rub[0:1],t0,theta_[0:1],phi_[0:1],courve_[0:1])\n",
    "#TODO add *mask in function"
   ]
  },
  {
   "cell_type": "code",
   "execution_count": 44,
   "metadata": {},
   "outputs": [
    {
     "data": {
      "text/plain": [
       "<tf.Tensor: shape=(2000, 6, 6, 1), dtype=float32, numpy=\n",
       "array([[[[ 0.        ],\n",
       "         [ 0.        ],\n",
       "         [ 0.        ],\n",
       "         [ 0.        ],\n",
       "         [ 0.        ],\n",
       "         [ 0.        ]],\n",
       "\n",
       "        [[ 0.        ],\n",
       "         [ 0.        ],\n",
       "         [ 0.        ],\n",
       "         [ 0.13681976],\n",
       "         [ 0.13652757],\n",
       "         [ 0.        ]],\n",
       "\n",
       "        [[ 0.        ],\n",
       "         [ 0.        ],\n",
       "         [ 0.87085605],\n",
       "         [ 8.873525  ],\n",
       "         [ 0.22179781],\n",
       "         [ 0.        ]],\n",
       "\n",
       "        [[ 0.        ],\n",
       "         [ 0.        ],\n",
       "         [ 0.30079362],\n",
       "         [ 0.696613  ],\n",
       "         [ 0.        ],\n",
       "         [ 0.        ]],\n",
       "\n",
       "        [[ 0.        ],\n",
       "         [ 0.        ],\n",
       "         [ 0.19121113],\n",
       "         [ 0.        ],\n",
       "         [ 0.        ],\n",
       "         [ 0.        ]],\n",
       "\n",
       "        [[ 0.        ],\n",
       "         [ 0.        ],\n",
       "         [ 0.        ],\n",
       "         [ 0.        ],\n",
       "         [ 0.        ],\n",
       "         [ 0.        ]]],\n",
       "\n",
       "\n",
       "       [[[ 0.        ],\n",
       "         [ 0.        ],\n",
       "         [ 0.        ],\n",
       "         [ 0.        ],\n",
       "         [ 0.        ],\n",
       "         [ 0.        ]],\n",
       "\n",
       "        [[ 0.        ],\n",
       "         [ 0.        ],\n",
       "         [ 0.1609275 ],\n",
       "         [ 0.25612232],\n",
       "         [ 0.        ],\n",
       "         [ 0.        ]],\n",
       "\n",
       "        [[ 0.        ],\n",
       "         [ 0.        ],\n",
       "         [ 2.493753  ],\n",
       "         [ 1.4314978 ],\n",
       "         [ 0.        ],\n",
       "         [ 0.        ]],\n",
       "\n",
       "        [[ 0.        ],\n",
       "         [ 0.        ],\n",
       "         [ 0.8477403 ],\n",
       "         [ 0.41311723],\n",
       "         [ 0.        ],\n",
       "         [ 0.        ]],\n",
       "\n",
       "        [[ 0.        ],\n",
       "         [ 0.        ],\n",
       "         [ 0.        ],\n",
       "         [ 0.7300432 ],\n",
       "         [ 0.        ],\n",
       "         [ 0.        ]],\n",
       "\n",
       "        [[ 0.        ],\n",
       "         [ 0.        ],\n",
       "         [ 0.        ],\n",
       "         [ 0.        ],\n",
       "         [ 0.        ],\n",
       "         [ 0.        ]]],\n",
       "\n",
       "\n",
       "       [[[ 0.        ],\n",
       "         [ 0.        ],\n",
       "         [ 0.        ],\n",
       "         [ 0.        ],\n",
       "         [ 0.        ],\n",
       "         [ 0.        ]],\n",
       "\n",
       "        [[ 0.        ],\n",
       "         [ 0.        ],\n",
       "         [ 0.        ],\n",
       "         [ 0.        ],\n",
       "         [ 0.        ],\n",
       "         [ 0.        ]],\n",
       "\n",
       "        [[ 0.        ],\n",
       "         [ 0.2732925 ],\n",
       "         [ 2.702192  ],\n",
       "         [ 0.9761324 ],\n",
       "         [ 0.        ],\n",
       "         [ 0.        ]],\n",
       "\n",
       "        [[ 0.        ],\n",
       "         [ 0.        ],\n",
       "         [ 1.9342413 ],\n",
       "         [ 0.7672464 ],\n",
       "         [ 0.        ],\n",
       "         [ 0.        ]],\n",
       "\n",
       "        [[ 0.        ],\n",
       "         [ 0.14129966],\n",
       "         [ 0.1401843 ],\n",
       "         [ 0.        ],\n",
       "         [ 0.        ],\n",
       "         [ 0.        ]],\n",
       "\n",
       "        [[ 0.        ],\n",
       "         [ 0.        ],\n",
       "         [ 0.        ],\n",
       "         [ 0.        ],\n",
       "         [ 0.        ],\n",
       "         [ 0.        ]]],\n",
       "\n",
       "\n",
       "       ...,\n",
       "\n",
       "\n",
       "       [[[ 0.        ],\n",
       "         [ 0.        ],\n",
       "         [ 0.        ],\n",
       "         [ 0.        ],\n",
       "         [ 0.        ],\n",
       "         [ 0.        ]],\n",
       "\n",
       "        [[ 0.        ],\n",
       "         [ 0.        ],\n",
       "         [ 0.        ],\n",
       "         [ 0.22594295],\n",
       "         [ 0.        ],\n",
       "         [ 0.        ]],\n",
       "\n",
       "        [[ 0.        ],\n",
       "         [ 0.86559606],\n",
       "         [45.14552   ],\n",
       "         [ 1.6089418 ],\n",
       "         [ 0.        ],\n",
       "         [ 0.        ]],\n",
       "\n",
       "        [[ 0.        ],\n",
       "         [ 0.57701516],\n",
       "         [ 3.3999681 ],\n",
       "         [ 0.5018664 ],\n",
       "         [ 0.        ],\n",
       "         [ 0.        ]],\n",
       "\n",
       "        [[ 0.        ],\n",
       "         [ 0.        ],\n",
       "         [ 0.        ],\n",
       "         [ 0.        ],\n",
       "         [ 0.        ],\n",
       "         [ 0.        ]],\n",
       "\n",
       "        [[ 0.        ],\n",
       "         [ 0.        ],\n",
       "         [ 0.        ],\n",
       "         [ 0.        ],\n",
       "         [ 0.        ],\n",
       "         [ 0.        ]]],\n",
       "\n",
       "\n",
       "       [[[ 0.        ],\n",
       "         [ 0.        ],\n",
       "         [ 0.        ],\n",
       "         [ 0.        ],\n",
       "         [ 0.        ],\n",
       "         [ 0.        ]],\n",
       "\n",
       "        [[ 0.        ],\n",
       "         [ 0.        ],\n",
       "         [ 0.        ],\n",
       "         [ 0.        ],\n",
       "         [ 0.        ],\n",
       "         [ 0.        ]],\n",
       "\n",
       "        [[ 0.        ],\n",
       "         [ 0.        ],\n",
       "         [ 0.40975788],\n",
       "         [ 1.0270472 ],\n",
       "         [ 0.        ],\n",
       "         [ 0.        ]],\n",
       "\n",
       "        [[ 0.        ],\n",
       "         [ 0.15657574],\n",
       "         [14.854717  ],\n",
       "         [ 4.7855444 ],\n",
       "         [ 0.        ],\n",
       "         [ 0.        ]],\n",
       "\n",
       "        [[ 0.        ],\n",
       "         [ 0.        ],\n",
       "         [ 0.5284148 ],\n",
       "         [ 0.5350909 ],\n",
       "         [ 0.        ],\n",
       "         [ 0.        ]],\n",
       "\n",
       "        [[ 0.        ],\n",
       "         [ 0.        ],\n",
       "         [ 0.        ],\n",
       "         [ 0.        ],\n",
       "         [ 0.        ],\n",
       "         [ 0.        ]]],\n",
       "\n",
       "\n",
       "       [[[ 0.        ],\n",
       "         [ 0.        ],\n",
       "         [ 0.        ],\n",
       "         [ 0.        ],\n",
       "         [ 0.        ],\n",
       "         [ 0.        ]],\n",
       "\n",
       "        [[ 0.        ],\n",
       "         [ 0.20203947],\n",
       "         [ 0.        ],\n",
       "         [ 0.        ],\n",
       "         [ 0.        ],\n",
       "         [ 0.        ]],\n",
       "\n",
       "        [[ 0.15181288],\n",
       "         [ 0.        ],\n",
       "         [ 3.6001806 ],\n",
       "         [ 0.6506557 ],\n",
       "         [ 0.14449705],\n",
       "         [ 0.        ]],\n",
       "\n",
       "        [[ 0.        ],\n",
       "         [ 0.82553   ],\n",
       "         [16.525799  ],\n",
       "         [ 0.3706587 ],\n",
       "         [ 0.        ],\n",
       "         [ 0.        ]],\n",
       "\n",
       "        [[ 0.1391044 ],\n",
       "         [ 0.        ],\n",
       "         [ 0.4902376 ],\n",
       "         [ 0.1165522 ],\n",
       "         [ 0.        ],\n",
       "         [ 0.        ]],\n",
       "\n",
       "        [[ 0.        ],\n",
       "         [ 0.        ],\n",
       "         [ 0.        ],\n",
       "         [ 0.        ],\n",
       "         [ 0.        ],\n",
       "         [ 0.        ]]]], dtype=float32)>"
      ]
     },
     "execution_count": 44,
     "metadata": {},
     "output_type": "execute_result"
    }
   ],
   "source": [
    "ldf_ru = signal/tf.expand_dims(expand_dims(_S800[0]),-1)\n",
    "ldf_ru"
   ]
  },
  {
   "cell_type": "code",
   "execution_count": 45,
   "metadata": {},
   "outputs": [
    {
     "name": "stdout",
     "output_type": "stream",
     "text": [
      "tf.Tensor(\n",
      "[[[[0.00004177]\n",
      "   [0.00004177]\n",
      "   [0.00004177]\n",
      "   [0.00004177]\n",
      "   [0.00004177]\n",
      "   [0.00004177]]\n",
      "\n",
      "  [[0.00004177]\n",
      "   [0.00004177]\n",
      "   [0.00004177]\n",
      "   [0.09965041]\n",
      "   [0.04086046]\n",
      "   [0.00004177]]\n",
      "\n",
      "  [[0.00004177]\n",
      "   [0.00004177]\n",
      "   [0.78069586]\n",
      "   [8.421596  ]\n",
      "   [0.18535146]\n",
      "   [0.00004177]]\n",
      "\n",
      "  [[0.00004177]\n",
      "   [0.00004177]\n",
      "   [0.5633956 ]\n",
      "   [0.8852532 ]\n",
      "   [0.00004177]\n",
      "   [0.00004177]]\n",
      "\n",
      "  [[0.00004177]\n",
      "   [0.00004177]\n",
      "   [0.03402905]\n",
      "   [0.00004177]\n",
      "   [0.00004177]\n",
      "   [0.00004177]]\n",
      "\n",
      "  [[0.00004177]\n",
      "   [0.00004177]\n",
      "   [0.00004177]\n",
      "   [0.00004177]\n",
      "   [0.00004177]\n",
      "   [0.00004177]]]], shape=(1, 6, 6, 1), dtype=float32)\n",
      "tf.Tensor(\n",
      "[[[[ 0.        ]\n",
      "   [ 0.        ]\n",
      "   [ 0.        ]\n",
      "   [ 0.        ]\n",
      "   [ 0.        ]\n",
      "   [ 0.        ]]\n",
      "\n",
      "  [[ 0.        ]\n",
      "   [ 0.        ]\n",
      "   [ 0.        ]\n",
      "   [ 0.13681976]\n",
      "   [ 0.13652757]\n",
      "   [ 0.        ]]\n",
      "\n",
      "  [[ 0.        ]\n",
      "   [ 0.        ]\n",
      "   [ 0.87085605]\n",
      "   [ 8.873525  ]\n",
      "   [ 0.22179781]\n",
      "   [ 0.        ]]\n",
      "\n",
      "  [[ 0.        ]\n",
      "   [ 0.        ]\n",
      "   [ 0.30079362]\n",
      "   [ 0.696613  ]\n",
      "   [ 0.        ]\n",
      "   [ 0.        ]]\n",
      "\n",
      "  [[ 0.        ]\n",
      "   [ 0.        ]\n",
      "   [ 0.19121113]\n",
      "   [ 0.        ]\n",
      "   [ 0.        ]\n",
      "   [ 0.        ]]\n",
      "\n",
      "  [[ 0.        ]\n",
      "   [ 0.        ]\n",
      "   [ 0.        ]\n",
      "   [ 0.        ]\n",
      "   [ 0.        ]\n",
      "   [ 0.        ]]]\n",
      "\n",
      "\n",
      " [[[ 0.        ]\n",
      "   [ 0.        ]\n",
      "   [ 0.        ]\n",
      "   [ 0.        ]\n",
      "   [ 0.        ]\n",
      "   [ 0.        ]]\n",
      "\n",
      "  [[ 0.        ]\n",
      "   [ 0.        ]\n",
      "   [ 0.1609275 ]\n",
      "   [ 0.25612232]\n",
      "   [ 0.        ]\n",
      "   [ 0.        ]]\n",
      "\n",
      "  [[ 0.        ]\n",
      "   [ 0.        ]\n",
      "   [ 2.493753  ]\n",
      "   [ 1.4314978 ]\n",
      "   [ 0.        ]\n",
      "   [ 0.        ]]\n",
      "\n",
      "  [[ 0.        ]\n",
      "   [ 0.        ]\n",
      "   [ 0.8477403 ]\n",
      "   [ 0.41311723]\n",
      "   [ 0.        ]\n",
      "   [ 0.        ]]\n",
      "\n",
      "  [[ 0.        ]\n",
      "   [ 0.        ]\n",
      "   [ 0.        ]\n",
      "   [ 0.7300432 ]\n",
      "   [ 0.        ]\n",
      "   [ 0.        ]]\n",
      "\n",
      "  [[ 0.        ]\n",
      "   [ 0.        ]\n",
      "   [ 0.        ]\n",
      "   [ 0.        ]\n",
      "   [ 0.        ]\n",
      "   [ 0.        ]]]\n",
      "\n",
      "\n",
      " [[[ 0.        ]\n",
      "   [ 0.        ]\n",
      "   [ 0.        ]\n",
      "   [ 0.        ]\n",
      "   [ 0.        ]\n",
      "   [ 0.        ]]\n",
      "\n",
      "  [[ 0.        ]\n",
      "   [ 0.        ]\n",
      "   [ 0.        ]\n",
      "   [ 0.        ]\n",
      "   [ 0.        ]\n",
      "   [ 0.        ]]\n",
      "\n",
      "  [[ 0.        ]\n",
      "   [ 0.2732925 ]\n",
      "   [ 2.702192  ]\n",
      "   [ 0.9761324 ]\n",
      "   [ 0.        ]\n",
      "   [ 0.        ]]\n",
      "\n",
      "  [[ 0.        ]\n",
      "   [ 0.        ]\n",
      "   [ 1.9342413 ]\n",
      "   [ 0.7672464 ]\n",
      "   [ 0.        ]\n",
      "   [ 0.        ]]\n",
      "\n",
      "  [[ 0.        ]\n",
      "   [ 0.14129966]\n",
      "   [ 0.1401843 ]\n",
      "   [ 0.        ]\n",
      "   [ 0.        ]\n",
      "   [ 0.        ]]\n",
      "\n",
      "  [[ 0.        ]\n",
      "   [ 0.        ]\n",
      "   [ 0.        ]\n",
      "   [ 0.        ]\n",
      "   [ 0.        ]\n",
      "   [ 0.        ]]]\n",
      "\n",
      "\n",
      " ...\n",
      "\n",
      "\n",
      " [[[ 0.        ]\n",
      "   [ 0.        ]\n",
      "   [ 0.        ]\n",
      "   [ 0.        ]\n",
      "   [ 0.        ]\n",
      "   [ 0.        ]]\n",
      "\n",
      "  [[ 0.        ]\n",
      "   [ 0.        ]\n",
      "   [ 0.        ]\n",
      "   [ 0.22594295]\n",
      "   [ 0.        ]\n",
      "   [ 0.        ]]\n",
      "\n",
      "  [[ 0.        ]\n",
      "   [ 0.86559606]\n",
      "   [45.14552   ]\n",
      "   [ 1.6089418 ]\n",
      "   [ 0.        ]\n",
      "   [ 0.        ]]\n",
      "\n",
      "  [[ 0.        ]\n",
      "   [ 0.57701516]\n",
      "   [ 3.3999681 ]\n",
      "   [ 0.5018664 ]\n",
      "   [ 0.        ]\n",
      "   [ 0.        ]]\n",
      "\n",
      "  [[ 0.        ]\n",
      "   [ 0.        ]\n",
      "   [ 0.        ]\n",
      "   [ 0.        ]\n",
      "   [ 0.        ]\n",
      "   [ 0.        ]]\n",
      "\n",
      "  [[ 0.        ]\n",
      "   [ 0.        ]\n",
      "   [ 0.        ]\n",
      "   [ 0.        ]\n",
      "   [ 0.        ]\n",
      "   [ 0.        ]]]\n",
      "\n",
      "\n",
      " [[[ 0.        ]\n",
      "   [ 0.        ]\n",
      "   [ 0.        ]\n",
      "   [ 0.        ]\n",
      "   [ 0.        ]\n",
      "   [ 0.        ]]\n",
      "\n",
      "  [[ 0.        ]\n",
      "   [ 0.        ]\n",
      "   [ 0.        ]\n",
      "   [ 0.        ]\n",
      "   [ 0.        ]\n",
      "   [ 0.        ]]\n",
      "\n",
      "  [[ 0.        ]\n",
      "   [ 0.        ]\n",
      "   [ 0.40975788]\n",
      "   [ 1.0270472 ]\n",
      "   [ 0.        ]\n",
      "   [ 0.        ]]\n",
      "\n",
      "  [[ 0.        ]\n",
      "   [ 0.15657574]\n",
      "   [14.854717  ]\n",
      "   [ 4.7855444 ]\n",
      "   [ 0.        ]\n",
      "   [ 0.        ]]\n",
      "\n",
      "  [[ 0.        ]\n",
      "   [ 0.        ]\n",
      "   [ 0.5284148 ]\n",
      "   [ 0.5350909 ]\n",
      "   [ 0.        ]\n",
      "   [ 0.        ]]\n",
      "\n",
      "  [[ 0.        ]\n",
      "   [ 0.        ]\n",
      "   [ 0.        ]\n",
      "   [ 0.        ]\n",
      "   [ 0.        ]\n",
      "   [ 0.        ]]]\n",
      "\n",
      "\n",
      " [[[ 0.        ]\n",
      "   [ 0.        ]\n",
      "   [ 0.        ]\n",
      "   [ 0.        ]\n",
      "   [ 0.        ]\n",
      "   [ 0.        ]]\n",
      "\n",
      "  [[ 0.        ]\n",
      "   [ 0.20203947]\n",
      "   [ 0.        ]\n",
      "   [ 0.        ]\n",
      "   [ 0.        ]\n",
      "   [ 0.        ]]\n",
      "\n",
      "  [[ 0.15181288]\n",
      "   [ 0.        ]\n",
      "   [ 3.6001806 ]\n",
      "   [ 0.6506557 ]\n",
      "   [ 0.14449705]\n",
      "   [ 0.        ]]\n",
      "\n",
      "  [[ 0.        ]\n",
      "   [ 0.82553   ]\n",
      "   [16.525799  ]\n",
      "   [ 0.3706587 ]\n",
      "   [ 0.        ]\n",
      "   [ 0.        ]]\n",
      "\n",
      "  [[ 0.1391044 ]\n",
      "   [ 0.        ]\n",
      "   [ 0.4902376 ]\n",
      "   [ 0.1165522 ]\n",
      "   [ 0.        ]\n",
      "   [ 0.        ]]\n",
      "\n",
      "  [[ 0.        ]\n",
      "   [ 0.        ]\n",
      "   [ 0.        ]\n",
      "   [ 0.        ]\n",
      "   [ 0.        ]\n",
      "   [ 0.        ]]]], shape=(2000, 6, 6, 1), dtype=float32)\n"
     ]
    }
   ],
   "source": [
    "# i=3\n",
    "print(LDF)\n",
    "print(ldf_ru)"
   ]
  },
  {
   "cell_type": "code",
   "execution_count": 326,
   "metadata": {},
   "outputs": [],
   "source": [
    "# def _get_t0(data):\n",
    "#     tf.where(data==0,np.nan)"
   ]
  },
  {
   "cell_type": "code",
   "execution_count": 137,
   "metadata": {},
   "outputs": [
    {
     "data": {
      "text/plain": [
       "TensorShape([8, 1])"
      ]
     },
     "execution_count": 137,
     "metadata": {},
     "output_type": "execute_result"
    }
   ],
   "source": [
    "i=0\n",
    "courve_front.shape"
   ]
  },
  {
   "cell_type": "code",
   "execution_count": 138,
   "metadata": {},
   "outputs": [
    {
     "data": {
      "text/plain": [
       "<tf.Tensor: shape=(8, 1), dtype=float32, numpy=\n",
       "array([[1.421057  ],\n",
       "       [0.39016616],\n",
       "       [0.6653187 ],\n",
       "       [0.01273882],\n",
       "       [0.09912462],\n",
       "       [0.11083598],\n",
       "       [0.14790389],\n",
       "       [1.6589396 ]], dtype=float32)>"
      ]
     },
     "execution_count": 138,
     "metadata": {},
     "output_type": "execute_result"
    }
   ],
   "source": [
    "courve_front"
   ]
  },
  {
   "cell_type": "code",
   "execution_count": 139,
   "metadata": {},
   "outputs": [
    {
     "data": {
      "text/plain": [
       "array([[-2.447     ],\n",
       "       [-2.747     ],\n",
       "       [-1.027     ],\n",
       "       [-0.867     ],\n",
       "       [ 0.19300002],\n",
       "       [ 1.673     ],\n",
       "       [ 2.653     ],\n",
       "       [ 3.853     ]], dtype=float32)"
      ]
     },
     "execution_count": 139,
     "metadata": {},
     "output_type": "execute_result"
    }
   ],
   "source": [
    "real_time"
   ]
  },
  {
   "cell_type": "code",
   "execution_count": 128,
   "metadata": {},
   "outputs": [
    {
     "data": {
      "text/plain": [
       "<tf.Tensor: shape=(8, 1), dtype=float32, numpy=\n",
       "array([[ 0.67694306],\n",
       "       [ 0.34383386],\n",
       "       [ 0.6206813 ],\n",
       "       [ 0.27526116],\n",
       "       [ 0.3908754 ],\n",
       "       [ 0.37616402],\n",
       "       [ 0.24909613],\n",
       "       [-1.0759397 ]], dtype=float32)>"
      ]
     },
     "execution_count": 128,
     "metadata": {},
     "output_type": "execute_result"
    }
   ],
   "source": [
    "real_time - courve_front"
   ]
  },
  {
   "cell_type": "code",
   "execution_count": 416,
   "metadata": {},
   "outputs": [
    {
     "data": {
      "text/plain": [
       "array([[0.   , 0.   , 0.   , 0.   , 0.   , 0.   ],\n",
       "       [0.   , 0.   , 0.   , 1.286, 2.098, 0.   ],\n",
       "       [0.   , 0.   , 0.487, 0.288, 0.734, 0.   ],\n",
       "       [0.   , 0.   , 0.397, 0.49 , 0.   , 0.   ],\n",
       "       [0.   , 0.   , 0.583, 0.   , 0.   , 0.   ],\n",
       "       [0.   , 0.   , 0.   , 0.   , 0.   , 0.   ]], dtype=float32)"
      ]
     },
     "execution_count": 416,
     "metadata": {},
     "output_type": "execute_result"
    }
   ],
   "source": [
    "data[i,:,:,2]"
   ]
  },
  {
   "cell_type": "code",
   "execution_count": 417,
   "metadata": {},
   "outputs": [
    {
     "data": {
      "text/plain": [
       "<tf.Tensor: shape=(6, 6), dtype=float32, numpy=\n",
       "array([[ 0.        ,  0.        ,  0.        ,  0.        ,  0.        ,\n",
       "         0.        ],\n",
       "       [ 0.        ,  0.        ,  0.        ,  0.641366  ,  1.453366  ,\n",
       "         0.        ],\n",
       "       [ 0.        ,  0.        , -0.15763402, -0.35663402,  0.08936602,\n",
       "         0.        ],\n",
       "       [ 0.        ,  0.        , -0.247634  , -0.154634  ,  0.        ,\n",
       "         0.        ],\n",
       "       [ 0.        ,  0.        , -0.061634  ,  0.        ,  0.        ,\n",
       "         0.        ],\n",
       "       [ 0.        ,  0.        ,  0.        ,  0.        ,  0.        ,\n",
       "         0.        ]], dtype=float32)>"
      ]
     },
     "execution_count": 417,
     "metadata": {},
     "output_type": "execute_result"
    }
   ],
   "source": [
    "\n",
    "without_t0 = tf.where(data[i,:,:,2]!=0,data[i,:,:,2]-t0[i],0)\n",
    "without_t0"
   ]
  },
  {
   "cell_type": "code",
   "execution_count": 188,
   "metadata": {},
   "outputs": [
    {
     "data": {
      "text/plain": [
       "<tf.Tensor: shape=(6, 6), dtype=float32, numpy=\n",
       "array([[ 0.        ,  0.        ,  0.        ,  0.        ,  0.        ,\n",
       "         0.        ],\n",
       "       [ 0.        ,  0.        ,  0.        ,  0.68950474,  0.        ,\n",
       "         0.        ],\n",
       "       [ 0.        ,  0.        ,  0.41040108,  0.16018939,  0.80558395,\n",
       "         0.        ],\n",
       "       [ 0.        ,  0.        ,  0.36083192,  0.44908547,  0.41376883,\n",
       "         0.        ],\n",
       "       [ 0.        ,  0.        , -0.31674272,  0.        ,  0.        ,\n",
       "         0.        ],\n",
       "       [ 0.        ,  0.        ,  0.        ,  0.        ,  0.        ,\n",
       "         0.        ]], dtype=float32)>"
      ]
     },
     "execution_count": 188,
     "metadata": {},
     "output_type": "execute_result"
    }
   ],
   "source": [
    "courve_front[i,:,:,0] - without_t0"
   ]
  },
  {
   "cell_type": "code",
   "execution_count": 111,
   "metadata": {},
   "outputs": [
    {
     "name": "stdout",
     "output_type": "stream",
     "text": [
      "[[0. 0. 0. 0. 0. 0.]\n",
      " [0. 0. 1. 1. 0. 0.]\n",
      " [0. 0. 1. 1. 0. 0.]\n",
      " [0. 0. 1. 1. 0. 0.]\n",
      " [0. 0. 0. 1. 0. 0.]\n",
      " [0. 0. 0. 0. 0. 0.]]\n",
      "[[ 0.        0.        0.        0.        0.        0.      ]\n",
      " [ 0.        0.        0.680725  1.0834    0.        0.      ]\n",
      " [ 0.        0.       10.5486    6.05525   0.        0.      ]\n",
      " [ 0.        0.        3.58595   1.74749   0.        0.      ]\n",
      " [ 0.        0.        0.        3.08809   0.        0.      ]\n",
      " [ 0.        0.        0.        0.        0.        0.      ]]\n",
      "[[ 0.     0.     0.     0.     0.     0.   ]\n",
      " [ 0.     0.    -3.406 -3.414  0.     0.   ]\n",
      " [ 0.     0.    -1.062 -1.012  0.     0.   ]\n",
      " [ 0.     0.     1.328  1.348  0.     0.   ]\n",
      " [ 0.     0.     0.     3.545  0.     0.   ]\n",
      " [ 0.     0.     0.     0.     0.     0.   ]]\n",
      "[[0.    0.    0.    0.    0.    0.   ]\n",
      " [0.    0.    1.022 0.829 0.    0.   ]\n",
      " [0.    0.    0.358 0.367 0.    0.   ]\n",
      " [0.    0.    0.387 0.448 0.    0.   ]\n",
      " [0.    0.    0.    1.071 0.    0.   ]\n",
      " [0.    0.    0.    0.    0.    0.   ]]\n",
      "[[-6.         -6.         -6.         -6.         -6.         -6.        ]\n",
      " [-6.         -6.         -1.6562401  -1.673724   -6.         -6.        ]\n",
      " [-6.         -6.         -0.46887243 -0.4588944  -6.         -6.        ]\n",
      " [-6.         -6.          0.736656    0.7377984  -6.         -6.        ]\n",
      " [-6.         -6.         -6.          1.847244   -6.         -6.        ]\n",
      " [-6.         -6.         -6.         -6.         -6.         -6.        ]]\n"
     ]
    }
   ],
   "source": [
    "i=1\n",
    "print(mask[i,:,:,0])\n",
    "print(signal[i,:,:,0])\n",
    "print(data[i,:,:,1])\n",
    "print(data[i,:,:,2])\n",
    "print(detectors_rub[i,:,:,0])"
   ]
  },
  {
   "cell_type": "code",
   "execution_count": 40,
   "metadata": {},
   "outputs": [
    {
     "data": {
      "text/plain": [
       "array([[ 0.        ,  0.        ,  0.        ,  0.        ,  0.        ,\n",
       "         0.        ],\n",
       "       [ 0.        ,  0.        ,  0.        , -0.2160765 , -0.364017  ,\n",
       "         0.        ],\n",
       "       [ 0.        ,  0.        , -0.14860696, -0.16712335,  0.06512839,\n",
       "         0.        ],\n",
       "       [ 0.        ,  0.        ,  0.00161573, -0.15845463,  0.        ,\n",
       "         0.        ],\n",
       "       [ 0.        ,  0.        ,  1.1654122 ,  0.        ,  0.        ,\n",
       "         0.        ],\n",
       "       [ 0.        ,  0.        ,  0.        ,  0.        ,  0.        ,\n",
       "         0.        ]], dtype=float32)"
      ]
     },
     "execution_count": 40,
     "metadata": {},
     "output_type": "execute_result"
    }
   ],
   "source": [
    "courve_front[0,:,:,0] - data[0,:,:,2]"
   ]
  },
  {
   "cell_type": "code",
   "execution_count": 936,
   "metadata": {},
   "outputs": [
    {
     "data": {
      "text/plain": [
       "array([[ 0.        ,  0.        ,  0.        ,  0.        ,  0.        ,\n",
       "         0.        ],\n",
       "       [ 0.        ,  0.        ,  0.        , -1.027     , -2.447     ,\n",
       "         0.        ],\n",
       "       [ 0.        ,  0.        ,  1.673     , -0.867     , -2.747     ,\n",
       "         0.        ],\n",
       "       [ 0.        ,  0.        ,  2.653     ,  0.19300002,  0.        ,\n",
       "         0.        ],\n",
       "       [ 0.        ,  0.        ,  3.853     ,  0.        ,  0.        ,\n",
       "         0.        ],\n",
       "       [ 0.        ,  0.        ,  0.        ,  0.        ,  0.        ,\n",
       "         0.        ]], dtype=float32)"
      ]
     },
     "execution_count": 936,
     "metadata": {},
     "output_type": "execute_result"
    }
   ],
   "source": [
    "real_time[0,:,:,0]"
   ]
  },
  {
   "cell_type": "code",
   "execution_count": 937,
   "metadata": {},
   "outputs": [
    {
     "data": {
      "text/plain": [
       "<tf.Tensor: shape=(6, 6), dtype=float32, numpy=\n",
       "array([[-0.        , -0.        , -0.        , -0.        , -0.        ,\n",
       "        -0.        ],\n",
       "       [-0.        , -0.        , -0.        , -2.347221  , -4.577912  ,\n",
       "        -0.        ],\n",
       "       [-0.        , -0.        ,  1.1500187 , -1.1907895 , -3.5162358 ,\n",
       "        -0.        ],\n",
       "       [-0.        , -0.        ,  2.2206035 , -0.33301756, -0.        ,\n",
       "        -0.        ],\n",
       "       [-0.        , -0.        ,  3.2358801 , -0.        , -0.        ,\n",
       "        -0.        ],\n",
       "       [-0.        , -0.        , -0.        , -0.        , -0.        ,\n",
       "        -0.        ]], dtype=float32)>"
      ]
     },
     "execution_count": 937,
     "metadata": {},
     "output_type": "execute_result"
    }
   ],
   "source": [
    "rec = (courve_front[0,:,:,0] + t_place[0,:,:,0] +t0[0])*mask[0,:,:,0]\n",
    "rec"
   ]
  },
  {
   "cell_type": "code",
   "execution_count": 922,
   "metadata": {},
   "outputs": [
    {
     "data": {
      "text/plain": [
       "<tf.Tensor: shape=(6, 6), dtype=float32, numpy=\n",
       "array([[-0.        , -0.        , -0.        , -0.        , -0.        ,\n",
       "        -0.        ],\n",
       "       [-0.        , -0.        , -0.        , -1.3208628 , -2.1328273 ,\n",
       "        -0.        ],\n",
       "       [-0.        , -0.        , -0.52303517, -0.3237977 , -0.7695699 ,\n",
       "        -0.        ],\n",
       "       [-0.        , -0.        , -0.43247175, -0.5260693 , -0.        ,\n",
       "        -0.        ],\n",
       "       [-0.        , -0.        , -0.6190715 , -0.        , -0.        ,\n",
       "        -0.        ],\n",
       "       [-0.        , -0.        , -0.        , -0.        , -0.        ,\n",
       "        -0.        ]], dtype=float32)>"
      ]
     },
     "execution_count": 922,
     "metadata": {},
     "output_type": "execute_result"
    }
   ],
   "source": [
    "rec - real_time[0,:,:,0]"
   ]
  },
  {
   "cell_type": "markdown",
   "metadata": {},
   "source": [
    "# check errors"
   ]
  },
  {
   "cell_type": "code",
   "execution_count": 23,
   "metadata": {},
   "outputs": [],
   "source": [
    "import tensorflow as tf\n",
    "import math\n",
    "import copy\n",
    "import tqdm\n",
    "import numpy as np\n",
    "pi = tf.constant(math.pi,dtype=tf.float32)\n",
    "UNIT=1\n",
    "dist=tf.constant(1.2,dtype=tf.float32)# min dist between 2 detectors in km\n",
    "c=tf.constant(299792.458,dtype=tf.float32)# # km\\s\n",
    "NSEC= tf.constant(1e9/c,dtype=tf.float32)# in rubsov's code is a time for 1.2 km 1.2/c*1e9\n",
    "R_L=tf.constant(30e-3,dtype=tf.float32)#\n",
    "LINSLEY_r0=tf.constant(0.030,dtype=tf.float32)#\n",
    "DET_AREA=tf.constant(3,dtype=tf.float32)#\n",
    "s_min = tf.constant([[0.3]],dtype=tf.float32)\n",
    "s_max = tf.constant([[1.8]],dtype=tf.float32)\n",
    "t_err_res=tf.constant(c/1e6,dtype=tf.float32)#\n",
    "t0_err=tf.constant(30,dtype=tf.float32)#\n",
    "dist=tf.constant(1.2,dtype=tf.float32)\n",
    "tf_type = tf.float32\n",
    "R_error = 0.15\n",
    "def init(data,tf_type = tf.float32):\n",
    "    data=tf.cast(data,tf_type)\n",
    "    mask = tf.expand_dims(data[:,:,:,3],-1)\n",
    "    signal = tf.expand_dims(data[:,:,:,0],-1)*self.mask\n",
    "    mask = tf.where(self.signal==0,0,self.mask)\n",
    "    real_time = tf.expand_dims((data[:,:,:,1] + data[:,:,:,2]),-1)*self.mask \n",
    "    signal = tf.cast(self.signal,self.tf_type)\n",
    "    real_time = tf.cast(self.real_time,self.tf_type)\n",
    "    mask = tf.cast(self.mask,self.tf_type)\n",
    "    batch = data.shape[0]\n",
    "def detectors_init(data):\n",
    "    batch = data.shape[0]\n",
    "    x = tf.cast(tf.repeat(tf.expand_dims(tf.range(0,6),0),6,axis=0),tf_type)\n",
    "    y = tf.cast(tf.repeat(tf.expand_dims(tf.range(0,6),1),6,axis=1),tf_type)\n",
    "    x = tf.expand_dims(x,-1)\n",
    "    y = tf.expand_dims(y,-1)\n",
    "    # x.shape = (6,6,1)\n",
    "    detectors = tf.concat([x,y],axis=-1) * dist\n",
    "    detectors = tf.repeat(tf.expand_dims(detectors,0),batch,0)\n",
    "    return detectors\n",
    "def core_(detectors,signal):# shape (batch,6,6,2)\n",
    "    sum_signal=tf.reduce_sum(signal,axis=(1,2)) # shape (batch ,1)\n",
    "    core=tf.reduce_sum(detectors * signal, axis=(1,2))/sum_signal\n",
    "    return core\n",
    "def expand_dims(vec):\n",
    "    return tf.expand_dims(tf.expand_dims(vec,-1),-1)\n",
    "def create_matrix(x,y,t,mask):\n",
    "    a11=expand_dims(tf.reduce_sum(x*x,axis=1))\n",
    "    a12=expand_dims(tf.reduce_sum(x*y,axis=1))\n",
    "    a13=expand_dims(tf.reduce_sum(x,axis=1))\n",
    "    a22=expand_dims(tf.reduce_sum(y*y,axis=1))\n",
    "    a23=expand_dims(tf.reduce_sum(y,axis=1))\n",
    "    a33=expand_dims(tf.reduce_sum(mask,axis=1))\n",
    "    a1=tf.concat([a11,a12,a13],axis=2)\n",
    "    a2=tf.concat([a12,a22,a23],axis=2)\n",
    "    a3=tf.concat([a13,a23,a33],axis=2)\n",
    "    A=tf.concat([a1,a2,a3],axis=1)\n",
    "\n",
    "    b1=expand_dims(tf.reduce_sum(x*t,axis=1))\n",
    "    b2=expand_dims(tf.reduce_sum(y*t,axis=1))\n",
    "    b3=expand_dims(tf.reduce_sum(t,axis=1))\n",
    "    b=tf.concat([b1,b2,b3],axis=1)\n",
    "    return A,b\n",
    "def place_sol(detectors,real_time,mask):\n",
    "    detectors = detectors * mask\n",
    "    x = tf.reshape(detectors[:,:,:,0],(-1,36))\n",
    "    y = tf.reshape(detectors[:,:,:,1],(-1,36))\n",
    "    t = tf.reshape(real_time,(-1,36))\n",
    "    mask = tf.reshape(mask,(-1,36))\n",
    "    A,b=create_matrix(x,y,t,mask)\n",
    "    return tf.linalg.solve(A,b)\n",
    "def place_params(detectors,real_time,mask):\n",
    "    sol = place_sol(detectors,real_time,mask)\n",
    "    #t_0=b+(r_cor;n)\n",
    "    b=sol[:,2:,0]\n",
    "    n=sol[:,:2,0]\n",
    "#     core = self.core_()\n",
    "#     mul=n[:,0]*core[:,0]+n[:,1]*core[:,1]\n",
    "    t0=b\n",
    "    a_x=n[:,0]\n",
    "    a_y=n[:,1]\n",
    "#         print(a_x.dtype,(1e6/c).dtype,c.dtype)\n",
    "    a_z=tf.math.pow(1e6/c,2) - (tf.math.pow(a_x,2) + tf.math.pow(a_y,2))\n",
    "    a_z=tf.where(a_z>0,tf.math.sqrt(a_z),0)\n",
    "    cos_theta=a_z*(c/1e6)\n",
    "    theta=tf.math.acos(cos_theta)\n",
    "#     tg_phi=a_x/(-a_y)\n",
    "#     atan=tf.math.atan(tg_phi)\n",
    "#     phi=tf.where(a_y>0,atan+pi,atan-pi)\n",
    "#     phi=tf.where(a_x<0,atan,phi)\n",
    "    phi = tf.math.atan2( a_y, a_x ) + pi\n",
    "    return t0,tf.expand_dims(theta,-1),tf.expand_dims(phi,-1)\n",
    "def detectors_core(detectors,core):\n",
    "    detectors_c=detectors[:,:,:,:2]-tf.reshape(core,(-1,1,1,2))\n",
    "    return tf.concat([detectors_c,detectors[:,:,:,2:3]],axis=-1)\n",
    "def place_reconstruction(detectors,mask,t0,theta,phi,use_z=False):\n",
    "    t0=expand_dims(t0) # shape (batch,1,1,1)\n",
    "    theta=expand_dims(theta)\n",
    "    phi =expand_dims(phi)\n",
    "    if use_z:\n",
    "        n=-tf.concat([tf.math.cos(phi)*tf.math.sin(theta),tf.math.sin(phi)*tf.math.sin(theta),tf.math.cos(theta)],axis=-1)\n",
    "    else:\n",
    "        n=-tf.concat([tf.math.cos(phi)*tf.math.sin(theta),tf.math.sin(phi)*tf.math.sin(theta)],axis=-1)\n",
    "    n=tf.cast(n,tf.float32)\n",
    "    t_place =  tf.expand_dims(tf.reduce_sum(detectors*n,axis=-1),-1)*(1e6/c)\n",
    "    t_place = t_place*mask\n",
    "    return t_place\n",
    "def eta_fun(theta):\n",
    "    x=theta*180/3.14\n",
    "\n",
    "    e1 = 3.97 - 1.79*(tf.math.abs(1.0/tf.math.cos(theta)) - 1.0)\n",
    "    e2 = ((((((-1.71299934e-10*x + 4.23849411e-08)*x -3.76192000e-06)*x\n",
    "               + 1.35747298e-04)*x -2.18241567e-03)*x + 1.18960682e-02)*x\n",
    "             + 3.70692527e+00)\n",
    "    res = tf.where(x<62.7,e1,e2)\n",
    "#     res =tf.where(res>0,res,0)\n",
    "    return res\n",
    "def linsley_t(r,S):\n",
    "    return 0.67*tf.math.pow((1 + r/LINSLEY_r0), 1.5)*tf.math.pow(S, -0.5)*1e-3\n",
    "def s_profile_tasimple(r_ta,theta,fl=False):\n",
    "    # убрать 1,2\n",
    "    UNIT = 1000.0\n",
    "    r = r_ta * UNIT \n",
    "    eta=eta_fun(theta)# batch,1,1\n",
    "    eta=tf.repeat(eta,6,axis=1)\n",
    "    eta=tf.repeat(eta,6,axis=2)\n",
    "#     print('eta',eta.shape)\n",
    "    # eta shape is batch,6,6\n",
    "    Rm = tf.constant(90,dtype=tf.float32)# убрал 1.2 из-за Unit\n",
    "    R1 = tf.constant(1000,dtype=tf.float32)\n",
    "#     print('shape sprofile',r.shape,Rm.shape,R1.shape,eta.shape,theta.shape)\n",
    "    return (tf.math.pow((r/Rm),-1.2)*tf.math.pow((1+r/Rm), -(eta-1.2))*tf.math.pow(1+(tf.math.pow(r,2)/R1/R1),-0.6))\n",
    "\n",
    "def s_profile(r_ta, theta):\n",
    "    f800=s_profile_tasimple(expand_dims(tf.constant(0.8)), theta,fl=False)\n",
    "    return s_profile_tasimple(r_ta, theta)/f800\n",
    "def courve_reconstruction(detectors,t0,theta,phi,courve):\n",
    "    # u can read from t_place if in place_reconstruction use core shift\n",
    "#     detectors = detectors_core()\n",
    "    t0=expand_dims(t0) # shape (batch,1,1,1)\n",
    "    theta=tf.cast(expand_dims(theta),tf.float32)\n",
    "    phi = tf.cast(expand_dims(phi),tf.float32)\n",
    "    n=-tf.concat([tf.math.cos(phi)*tf.math.sin(theta),tf.math.sin(phi)*tf.math.sin(theta),tf.math.cos(theta)],axis=-1)\n",
    "    n=tf.cast(n,tf.float32)\n",
    "    t_place = detectors[:,:,:,0:1]*n[:,:,:,0:1] + detectors[:,:,:,1:2]*n[:,:,:,1:2] + detectors[:,:,:,2:3]*n[:,:,:,2:3]\n",
    "    dist_core = tf.expand_dims(tf.reduce_sum(tf.math.pow(detectors,2),axis=-1),axis=-1) - tf.math.pow(t_place,2)\n",
    "    dist_core = tf.where(dist_core>0,tf.math.sqrt(dist_core),0)\n",
    "    LDF=s_profile(dist_core,theta)\n",
    "    td=expand_dims(courve)*linsley_t(dist_core,LDF)\n",
    "    return td,LDF,dist_core\n",
    "def pfs__pps(detectors,theta,phi,signal,mask):\n",
    "#     t0,theta,phi = self.place_params()\n",
    "    # u can read from t_place if in place_reconstruction use core shift\n",
    "#     detectors = detectors_core(detectors,core)\n",
    "    theta=expand_dims(theta)\n",
    "    phi = expand_dims(phi)\n",
    "    n=-tf.concat([tf.math.cos(phi)*tf.math.sin(theta),tf.math.sin(phi)*tf.math.sin(theta),tf.math.cos(theta)],axis=-1)\n",
    "    t_place = detectors[:,:,:,0:1]*n[:,:,:,0:1] + detectors[:,:,:,1:2]*n[:,:,:,1:2] + detectors[:,:,:,2:3]*n[:,:,:,2:3] # not has t0\n",
    "    # end t_place's part\n",
    "    dist_core = tf.expand_dims(tf.reduce_sum(tf.math.pow(detectors,2),axis=-1),axis=-1) - tf.math.pow(t_place,2)\n",
    "    dist_core = tf.where(dist_core>0,tf.math.sqrt(dist_core),0)\n",
    "    cond_dist = tf.cast(tf.where(tf.logical_and(dist_core>s_min,dist_core<s_max),mask,0.),tf_type)\n",
    "    pfs = tf.reduce_sum(signal*cond_dist,axis=(1,2))\n",
    "    pps = tf.reduce_sum(s_profile(dist_core,theta)*cond_dist,axis=(1,2))\n",
    "    return (pfs,pps)\n",
    "def a_ivanov_fun(theta):\n",
    "    DEG=pi/180\n",
    "    threshold1=25*DEG\n",
    "    threshold2=35*DEG\n",
    "    # переписать для обнавления масива\n",
    "    res1=tf.where(theta<threshold1,3.3836 - 0.01848*theta/DEG,0)\n",
    "    res3=tf.where(theta>threshold2,tf.math.exp(-3.2e-2*theta/DEG + 2.0),0)\n",
    "    a=(0.6511268210e-4*(theta/DEG-0.2614963683))*(theta/DEG*theta/DEG-134.7902422*theta/DEG+4558.524091)\n",
    "    res2=tf.where(tf.math.logical_and(theta > threshold1,theta < threshold2),a,0)\n",
    "    return res1+res2+res3\n",
    "    \n",
    "def courve_fun(detectors,core,t0,theta,phi,signal,mask):\n",
    "    a_ivanov = a_ivanov_fun(theta)\n",
    "    pfs,pps = pfs__pps(detectors,theta,phi,signal,mask)\n",
    "    S_X = tf.where(pps>1e-10,pfs/pps,1)[:,0] # S_800\n",
    "    S_X=tf.expand_dims(S_X,-1)\n",
    "    courve = a_ivanov*1.3/tf.math.sqrt(S_X)\n",
    "    courve = courve\n",
    "#     S_X=tf.expand_dims(S_X,-1)\n",
    "    return courve,S_X\n",
    "def get_linsley_s(r, S):\n",
    "    return 1.3*0.29*tf.math.pow((1 + r/R_L), 1.5)*tf.math.pow(S+1e-8, -0.3)*1e-3\n",
    "def logPua(n,nbar):\n",
    "    print(n.shape,nbar.shape)\n",
    "    last_part = 2*(n*tf.math.log(nbar/(n+1e-8)) + (n - nbar))\n",
    "\n",
    "    nbar_logical=tf.where(nbar < 1e-90,True,False)\n",
    "    n_logical1 = tf.where(n>1e-90,True,False)\n",
    "    res = tf.zeros_like(n)\n",
    "    res=tf.where(tf.logical_and(nbar_logical,n_logical1),-1e-6,res)\n",
    "\n",
    "    else_nbar_logical = tf.logical_not(nbar_logical) \n",
    "    n_logical2 = tf.where(n<1e-20,True,False)\n",
    "\n",
    "    res=tf.where(tf.logical_and(else_nbar_logical,n_logical2),-2*nbar,res)\n",
    "    res=tf.where(tf.logical_and(else_nbar_logical,tf.logical_not(n_logical2)),last_part,res)\n",
    "    return res\n",
    "def chi2L(S_X,s_prof,mask,signal):\n",
    "    s_fit = expand_dims(S_X)*s_prof*mask\n",
    "    qs=signal\n",
    "    s_sigma2 = ( 2*qs/DET_AREA + tf.math.pow( 0.15*qs, 2 ) + 1e-6 )\n",
    "    maskL2 = tf.where(qs>4.0,mask,0)\n",
    "    N=tf.reduce_sum(maskL2,axis = (1,2,3))\n",
    "    chi2L2=tf.reduce_sum((qs - s_fit)*(qs - s_fit)/s_sigma2*maskL2,axis=(1,2))\n",
    "    return chi2L2, N\n",
    "def chiT_by_param(real_time, detectors,t0,theta,phi,courve,mask,S_800):\n",
    "    flat_reco = place_reconstruction(detectors,mask,t0,theta,phi,True)\n",
    "    td,LDF,dist_core = courve_reconstruction(detectors,t0,theta,phi,courve)\n",
    "    time_reco = t0 + flat_reco + td\n",
    "    \n",
    "    lin_s = get_linsley_s(dist_core, expand_dims(S_800)*LDF)\n",
    "#     print(courve.shape, tf.math.sqrt(S_800).shape, lin_s.shape)\n",
    "    t_s = expand_dims(courve*tf.math.sqrt(S_800))*lin_s\n",
    "    t_sigma2=tf.math.sqrt(t0_err*t0_err + t_s*t_s) \n",
    "    chi2T = tf.reduce_sum(tf.math.pow((time_reco-real_time)/t_sigma2*mask,2),axis=(1,2)) #\n",
    "    return chi2T,LDF\n",
    "def optimization(data,iterats,num,detectors_rub=None):\n",
    "    Adam = tf.keras.optimizers.Adam()\n",
    "    signal = data[:,:,:,0:1]\n",
    "    real_time = data[:,:,:,1:2]+data[:,:,:,2:3]\n",
    "    mask=data[:,:,:,3:4]\n",
    "    batch = data.shape[0]\n",
    "    detectors_z = detectors_rub\n",
    "    detectors=detectors_z[:,:,:,:2]\n",
    "    core = tf.zeros((batch,3))\n",
    "    use_z=True\n",
    "    \n",
    "    \n",
    "    t0,theta,phi = place_params(detectors,real_time,mask)\n",
    "    courve,S_X = courve_fun(detectors_z,core,t0,theta,phi,signal,mask)\n",
    "    chi_list=[]\n",
    "    par = [t0,theta,phi,courve,core,S_X]\n",
    "    params=[tf.Variable(p, True) for p in par]\n",
    "    params_list=[]\n",
    "    params_list.append(copy.deepcopy(params))\n",
    "    for i in tqdm.notebook.tqdm_notebook(range(iterats)):\n",
    "        with tf.GradientTape() as gr:  \n",
    "            gr.watch(params)\n",
    "            t0=params[0]\n",
    "            theta=tf.math.abs(params[1])\n",
    "            phi=params[2]\n",
    "            courve=params[3]\n",
    "            core=params[4][:,np.newaxis,np.newaxis,:]\n",
    "            S_X=params[5]\n",
    "#             detectors_z = detectors_z-core\n",
    "            chi_T,LDF = chiT_by_param(real_time, detectors_z,expand_dims(t0),theta,phi,courve,mask,S_X)\n",
    "            chi_L, N_L=chi2L(S_X,LDF,mask,signal)\n",
    "            N_t = tf.reduce_sum(mask,axis=(1,2,3))\n",
    "            N=tf.expand_dims(N_L+N_t,1)\n",
    "            global_n = tf.where(N>7,N-7,1)\n",
    "            chi = (chi_T +chi_L)/global_n\n",
    "            print(tf.reduce_mean(chi_T/global_n),tf.reduce_mean(chi_L/global_n),tf.reduce_mean(chi),end='\\n')\n",
    "#             if num:\n",
    "#                 print(chi_T[num],chi_L[num],[np.array(i[num]) for i in params],end='\\r')\n",
    "#             else:\n",
    "#                 print(tf.reduce_mean(chi_T), tf.reduce_mean(chi_L))\n",
    "            chi_list.append(chi)\n",
    "            grad=gr.gradient(chi,params)\n",
    "#             print([tf.reduce_mean(i) for i in grad],end = '\\r')\n",
    "            Adam.apply_gradients(zip(grad, params))\n",
    "            params_list.append(copy.deepcopy(params))\n",
    "    for s1,p1 in enumerate(params_list):\n",
    "        p2=tf.concat(p1,axis=1)\n",
    "        params_list[s1]=p2\n",
    "    params_list = np.array(params_list)\n",
    "    return np.array(chi_list), params_list"
   ]
  },
  {
   "cell_type": "code",
   "execution_count": 14,
   "metadata": {},
   "outputs": [
    {
     "ename": "NameError",
     "evalue": "name 'ev_params' is not defined",
     "output_type": "error",
     "traceback": [
      "\u001b[0;31m---------------------------------------------------------------------------\u001b[0m",
      "\u001b[0;31mNameError\u001b[0m                                 Traceback (most recent call last)",
      "\u001b[0;32m<ipython-input-14-4d059acd5551>\u001b[0m in \u001b[0;36m<module>\u001b[0;34m\u001b[0m\n\u001b[0;32m----> 1\u001b[0;31m \u001b[0mtheta_\u001b[0m \u001b[0;34m=\u001b[0m \u001b[0mtf\u001b[0m\u001b[0;34m.\u001b[0m\u001b[0mconstant\u001b[0m\u001b[0;34m(\u001b[0m\u001b[0mev_params\u001b[0m\u001b[0;34m[\u001b[0m\u001b[0;34m:\u001b[0m\u001b[0mnum_ev\u001b[0m\u001b[0;34m,\u001b[0m\u001b[0;36m0\u001b[0m\u001b[0;34m:\u001b[0m\u001b[0;36m1\u001b[0m\u001b[0;34m]\u001b[0m\u001b[0;34m/\u001b[0m\u001b[0;36m180\u001b[0m\u001b[0;34m*\u001b[0m\u001b[0;36m3.1415\u001b[0m\u001b[0;34m)\u001b[0m\u001b[0;34m\u001b[0m\u001b[0;34m\u001b[0m\u001b[0m\n\u001b[0m\u001b[1;32m      2\u001b[0m \u001b[0mphi_\u001b[0m \u001b[0;34m=\u001b[0m \u001b[0mtf\u001b[0m\u001b[0;34m.\u001b[0m\u001b[0mconstant\u001b[0m\u001b[0;34m(\u001b[0m\u001b[0mev_params\u001b[0m\u001b[0;34m[\u001b[0m\u001b[0;34m:\u001b[0m\u001b[0mnum_ev\u001b[0m\u001b[0;34m,\u001b[0m\u001b[0;36m1\u001b[0m\u001b[0;34m:\u001b[0m\u001b[0;36m2\u001b[0m\u001b[0;34m]\u001b[0m\u001b[0;34m/\u001b[0m\u001b[0;36m180\u001b[0m\u001b[0;34m*\u001b[0m\u001b[0;36m3.1415\u001b[0m\u001b[0;34m)\u001b[0m\u001b[0;34m\u001b[0m\u001b[0;34m\u001b[0m\u001b[0m\n\u001b[1;32m      3\u001b[0m \u001b[0m_aprime\u001b[0m \u001b[0;34m=\u001b[0m \u001b[0mrecos\u001b[0m\u001b[0;34m[\u001b[0m\u001b[0;34m:\u001b[0m\u001b[0;34m,\u001b[0m\u001b[0;36m6\u001b[0m\u001b[0;34m]\u001b[0m\u001b[0;34m\u001b[0m\u001b[0;34m\u001b[0m\u001b[0m\n\u001b[1;32m      4\u001b[0m \u001b[0m_S800\u001b[0m \u001b[0;34m=\u001b[0m \u001b[0mrecos\u001b[0m\u001b[0;34m[\u001b[0m\u001b[0;34m:\u001b[0m\u001b[0;34m,\u001b[0m\u001b[0;36m2\u001b[0m\u001b[0;34m]\u001b[0m\u001b[0;34m\u001b[0m\u001b[0;34m\u001b[0m\u001b[0m\n\u001b[1;32m      5\u001b[0m \u001b[0mcourve_\u001b[0m\u001b[0;34m=\u001b[0m \u001b[0mtf\u001b[0m\u001b[0;34m.\u001b[0m\u001b[0mexpand_dims\u001b[0m\u001b[0;34m(\u001b[0m\u001b[0m_aprime\u001b[0m\u001b[0;34m,\u001b[0m\u001b[0;34m-\u001b[0m\u001b[0;36m1\u001b[0m\u001b[0;34m)\u001b[0m\u001b[0;31m#/tf.expand_dims(tf.math.sqrt(_S800),-1)\u001b[0m\u001b[0;34m\u001b[0m\u001b[0;34m\u001b[0m\u001b[0m\n",
      "\u001b[0;31mNameError\u001b[0m: name 'ev_params' is not defined"
     ]
    }
   ],
   "source": [
    "theta_ = tf.constant(ev_params[:num_ev,0:1]/180*3.1415)\n",
    "phi_ = tf.constant(ev_params[:num_ev,1:2]/180*3.1415)\n",
    "_aprime = recos[:,6]\n",
    "_S800 = recos[:,2]\n",
    "courve_= tf.expand_dims(_aprime,-1)#/tf.expand_dims(tf.math.sqrt(_S800),-1)"
   ]
  },
  {
   "cell_type": "code",
   "execution_count": 105,
   "metadata": {},
   "outputs": [],
   "source": [
    "t0_err= 0.03\n",
    "def chiT_by_param(detectors,t0,theta,phi,courve,mask,S_800):\n",
    "    flat_reco = place_reconstruction(detectors,mask,t0,theta,phi,True)\n",
    "    td,LDF,dist_core = courve_reconstruction(detectors,t0,theta,phi,courve)\n",
    "    time_reco = t0 + flat_reco + td\n",
    "    \n",
    "    lin_s = get_linsley_s(dist_core, expand_dims(S_800)*LDF)\n",
    "#     print(courve.shape, tf.math.sqrt(S_800).shape, lin_s.shape)\n",
    "    t_s = expand_dims(courve*tf.math.sqrt(S_800))*lin_s\n",
    "    t_sigma2=tf.math.sqrt(t0_err*t0_err + t_s*t_s)\n",
    "    # t_s is corect\n",
    "#     print('ts',t_s)\n",
    "    chi2T = tf.reduce_sum(tf.math.pow((time_reco-real_time)/t_sigma2*mask,2),axis=(1,2)) #\n",
    "    return td,t_sigma2,dist_core\n",
    "#     return chi2T,LDF"
   ]
  },
  {
   "cell_type": "code",
   "execution_count": 94,
   "metadata": {},
   "outputs": [],
   "source": [
    "t0=tf.constant(0,dtype=tf.float32)"
   ]
  },
  {
   "cell_type": "code",
   "execution_count": 95,
   "metadata": {},
   "outputs": [],
   "source": [
    "times_diff  = data[:,:,:,2:3]"
   ]
  },
  {
   "cell_type": "code",
   "execution_count": 96,
   "metadata": {},
   "outputs": [
    {
     "data": {
      "text/plain": [
       "<tf.Tensor: shape=(), dtype=float32, numpy=0.29979247>"
      ]
     },
     "execution_count": 96,
     "metadata": {},
     "output_type": "execute_result"
    }
   ],
   "source": [
    "time2dist = c/1e6\n",
    "time2dist"
   ]
  },
  {
   "cell_type": "code",
   "execution_count": 97,
   "metadata": {},
   "outputs": [],
   "source": [
    "signal = data[:,:,:,0:1]\n",
    "real_time = data[:,:,:,1:2]+data[:,:,:,2:3]\n",
    "mask=data[:,:,:,3:4]\n",
    "batch = data.shape[0]"
   ]
  },
  {
   "cell_type": "code",
   "execution_count": 98,
   "metadata": {},
   "outputs": [
    {
     "data": {
      "text/plain": [
       "<tf.Tensor: shape=(6, 6), dtype=float32, numpy=\n",
       "array([[0.        , 0.        , 0.        , 0.        , 0.        ,\n",
       "        0.        ],\n",
       "       [0.        , 0.        , 0.29559538, 0.34446156, 1.4770775 ,\n",
       "        0.        ],\n",
       "       [0.        , 0.32917213, 0.10762549, 0.10372819, 0.26831424,\n",
       "        0.        ],\n",
       "       [0.        , 0.3783381 , 0.127112  , 0.12501346, 0.        ,\n",
       "        2.1917827 ],\n",
       "       [0.        , 0.        , 0.        , 0.3255746 , 0.        ,\n",
       "        0.        ],\n",
       "       [0.        , 0.        , 0.        , 0.        , 0.        ,\n",
       "        0.        ]], dtype=float32)>"
      ]
     },
     "execution_count": 98,
     "metadata": {},
     "output_type": "execute_result"
    }
   ],
   "source": [
    "times_diff[0,:,:,0]*time2dist"
   ]
  },
  {
   "cell_type": "code",
   "execution_count": 61,
   "metadata": {},
   "outputs": [
    {
     "ename": "TypeError",
     "evalue": "chiT_by_param() missing 1 required positional argument: 'S_800'",
     "output_type": "error",
     "traceback": [
      "\u001b[0;31m---------------------------------------------------------------------------\u001b[0m",
      "\u001b[0;31mTypeError\u001b[0m                                 Traceback (most recent call last)",
      "\u001b[0;32m<ipython-input-61-6f232009f116>\u001b[0m in \u001b[0;36m<module>\u001b[0;34m\u001b[0m\n\u001b[0;32m----> 1\u001b[0;31m \u001b[0mtd\u001b[0m\u001b[0;34m,\u001b[0m\u001b[0mt_sigma2\u001b[0m\u001b[0;34m,\u001b[0m\u001b[0mdist_core\u001b[0m \u001b[0;34m=\u001b[0m \u001b[0mrecon\u001b[0m\u001b[0;34m.\u001b[0m\u001b[0mchiT_by_param\u001b[0m\u001b[0;34m(\u001b[0m\u001b[0mdetectors_rub\u001b[0m\u001b[0;34m[\u001b[0m\u001b[0;34m:\u001b[0m\u001b[0;34m]\u001b[0m\u001b[0;34m,\u001b[0m\u001b[0mt0\u001b[0m\u001b[0;34m,\u001b[0m\u001b[0mtheta_\u001b[0m\u001b[0;34m,\u001b[0m\u001b[0mphi_\u001b[0m\u001b[0;34m,\u001b[0m\u001b[0mcourve_\u001b[0m\u001b[0;34m,\u001b[0m\u001b[0mmask\u001b[0m\u001b[0;34m,\u001b[0m\u001b[0mtf\u001b[0m\u001b[0;34m.\u001b[0m\u001b[0mexpand_dims\u001b[0m\u001b[0;34m(\u001b[0m\u001b[0m_S800\u001b[0m\u001b[0;34m,\u001b[0m\u001b[0;34m-\u001b[0m\u001b[0;36m1\u001b[0m\u001b[0;34m)\u001b[0m\u001b[0;34m)\u001b[0m\u001b[0;34m\u001b[0m\u001b[0;34m\u001b[0m\u001b[0m\n\u001b[0m",
      "\u001b[0;31mTypeError\u001b[0m: chiT_by_param() missing 1 required positional argument: 'S_800'"
     ]
    }
   ],
   "source": [
    "td,t_sigma2,dist_core = recon.chiT_by_param(detectors_rub[:],t0,theta_,phi_,courve_,mask,tf.expand_dims(_S800,-1))"
   ]
  },
  {
   "cell_type": "code",
   "execution_count": 107,
   "metadata": {},
   "outputs": [
    {
     "name": "stdout",
     "output_type": "stream",
     "text": [
      "tf.Tensor(\n",
      "[0.29559538 0.34446156 1.4770775  0.32917213 0.10762549 0.10372819\n",
      " 0.26831424 0.3783381  0.127112   0.12501346 2.1917827  0.3255746 ], shape=(12,), dtype=float32)\n",
      "tf.Tensor(\n",
      "[[0.19522752]\n",
      " [0.18752532]\n",
      " [0.42473972]\n",
      " [0.18687467]\n",
      " [0.02160456]\n",
      " [0.01918694]\n",
      " [0.17357817]\n",
      " [0.19998235]\n",
      " [0.02710149]\n",
      " [0.05540465]\n",
      " [0.75068367]\n",
      " [0.23394272]], shape=(12, 1), dtype=float32)\n",
      "tf.Tensor(\n",
      "[[0.2973495 ]\n",
      " [0.2818746 ]\n",
      " [0.83505744]\n",
      " [0.2805767 ]\n",
      " [0.01449417]\n",
      " [0.01195536]\n",
      " [0.25438288]\n",
      " [0.30700368]\n",
      " [0.02045321]\n",
      " [0.05544301]\n",
      " [1.7811737 ]\n",
      " [0.3780898 ]], shape=(12, 1), dtype=float32)\n"
     ]
    }
   ],
   "source": [
    "print(times_diff[n_ev][mask_][:,0]*time2dist)\n",
    "print(errs*time2dist)\n",
    "print(ys*time2dist)"
   ]
  },
  {
   "cell_type": "code",
   "execution_count": 109,
   "metadata": {},
   "outputs": [
    {
     "data": {
      "text/plain": [
       "<tf.Tensor: shape=(12,), dtype=float32, numpy=\n",
       "array([1.837171  , 1.811602  , 2.4020805 , 1.8094096 , 0.80526644,\n",
       "       0.7618449 , 1.7634238 , 1.8526152 , 0.8883017 , 1.1724055 ,\n",
       "       2.9166045 , 1.9562665 ], dtype=float32)>"
      ]
     },
     "execution_count": 109,
     "metadata": {},
     "output_type": "execute_result"
    }
   ],
   "source": [
    "dist_core[n_ev][mask_][:,0]"
   ]
  },
  {
   "cell_type": "code",
   "execution_count": 110,
   "metadata": {},
   "outputs": [
    {
     "data": {
      "image/png": "[encoded data removed]",
      "text/plain": [
       "<Figure size 432x288 with 1 Axes>"
      ]
     },
     "metadata": {
      "needs_background": "light"
     },
     "output_type": "display_data"
    }
   ],
   "source": [
    "n_ev = 0\n",
    "\n",
    "mask_ = mask[n_ev,:,:,0].astype(bool)\n",
    "xs = np.sqrt( np.sum( np.power(detectors_rub[n_ev][mask_], 2), axis=-1) )\n",
    "ys = (td[n_ev])[mask_][:,0]\n",
    "ts = times_diff[n_ev][mask_][:,0]\n",
    "errs = t_sigma2[n_ev][mask_][:,0]\n",
    "\n",
    "#fig, ax = plt.subplots()\n",
    "plt.errorbar(dist_core[n_ev][mask_][:,0], ts, yerr=errs, fmt='+', c='red', label='data')\n",
    "plt.scatter(dist_core[n_ev][mask_][:,0], ys, label='fit')\n",
    "plt.legend()\n",
    "plt.show()"
   ]
  },
  {
   "cell_type": "code",
   "execution_count": 111,
   "metadata": {},
   "outputs": [
    {
     "data": {
      "image/png": "[encoded data removed]",
      "text/plain": [
       "<Figure size 432x288 with 1 Axes>"
      ]
     },
     "metadata": {
      "needs_background": "light"
     },
     "output_type": "display_data"
    }
   ],
   "source": [
    "n_ev = 0\n",
    "\n",
    "mask_ = mask[n_ev,:,:,0].astype(bool)\n",
    "xs = np.sqrt( np.sum( np.power(detectors_rub[n_ev][mask_], 2), axis=-1) )\n",
    "ys = (td[n_ev])[mask_][:,0]*time2dist\n",
    "ts = times_diff[n_ev][mask_][:,0]*time2dist\n",
    "errs = t_sigma2[n_ev][mask_][:,0]*time2dist\n",
    "\n",
    "#fig, ax = plt.subplots()\n",
    "plt.errorbar(dist_core[n_ev][mask_][:,0], ts, yerr=errs, fmt='+', c='red', label='data')\n",
    "plt.scatter(dist_core[n_ev][mask_][:,0], ys, label='fit')\n",
    "plt.legend()\n",
    "plt.show()"
   ]
  },
  {
   "cell_type": "markdown",
   "metadata": {},
   "source": [
    "# Signal Error Plot"
   ]
  },
  {
   "cell_type": "code",
   "execution_count": 18,
   "metadata": {},
   "outputs": [
    {
     "name": "stdout",
     "output_type": "stream",
     "text": [
      "/home/rfit/Telescope_Array/Parameters_all\n"
     ]
    }
   ],
   "source": [
    "cd .."
   ]
  },
  {
   "cell_type": "code",
   "execution_count": 19,
   "metadata": {},
   "outputs": [],
   "source": [
    "import src.reconstruction as recon"
   ]
  },
  {
   "cell_type": "code",
   "execution_count": 20,
   "metadata": {},
   "outputs": [
    {
     "data": {
      "text/plain": [
       "<module 'src.reconstruction' from '/home/rfit/Telescope_Array/Parameters_all/src/reconstruction.py'>"
      ]
     },
     "execution_count": 20,
     "metadata": {},
     "output_type": "execute_result"
    }
   ],
   "source": [
    "importlib.reload(recon)"
   ]
  },
  {
   "cell_type": "code",
   "execution_count": 21,
   "metadata": {},
   "outputs": [],
   "source": [
    "# get LDF from courve reconst\n",
    "_,LDF,dist_core = recon.courve_reconstruction(detectors_rub,t0,theta,phi,courve_)"
   ]
  },
  {
   "cell_type": "code",
   "execution_count": 22,
   "metadata": {},
   "outputs": [
    {
     "name": "stdout",
     "output_type": "stream",
     "text": [
      "(2000,)\n",
      "(2000, 6, 6, 1)\n",
      "(2000, 6, 6, 1)\n",
      "(2000, 6, 6, 1)\n"
     ]
    }
   ],
   "source": [
    "for el in (_S800, LDF, mask,signal):\n",
    "    print(el.shape)"
   ]
  },
  {
   "cell_type": "code",
   "execution_count": 23,
   "metadata": {},
   "outputs": [
    {
     "name": "stdout",
     "output_type": "stream",
     "text": [
      "tf.Tensor(3.0, shape=(), dtype=float32)\n",
      "(2000, 6, 6, 1)\n"
     ]
    }
   ],
   "source": [
    "chiL, N, error = recon.chi2L(tf.expand_dims(_S800,1), LDF, mask,signal)\n",
    "s_fit = expand_dims(tf.expand_dims(_S800,1))*LDF*mask\n",
    "print(s_fit.shape)"
   ]
  },
  {
   "cell_type": "code",
   "execution_count": 24,
   "metadata": {},
   "outputs": [
    {
     "name": "stdout",
     "output_type": "stream",
     "text": [
      "(2000, 6, 6, 1)\n"
     ]
    }
   ],
   "source": [
    "s_fit = expand_dims(tf.expand_dims(_S800,1))*LDF*mask\n",
    "print(s_fit.shape)"
   ]
  },
  {
   "cell_type": "code",
   "execution_count": 25,
   "metadata": {},
   "outputs": [
    {
     "data": {
      "text/plain": [
       "TensorShape([2000, 6, 6, 1])"
      ]
     },
     "execution_count": 25,
     "metadata": {},
     "output_type": "execute_result"
    }
   ],
   "source": [
    "error.shape"
   ]
  },
  {
   "cell_type": "code",
   "execution_count": 26,
   "metadata": {},
   "outputs": [
    {
     "data": {
      "image/png": "[encoded data removed]",
      "text/plain": [
       "<Figure size 432x288 with 1 Axes>"
      ]
     },
     "metadata": {
      "needs_background": "light"
     },
     "output_type": "display_data"
    }
   ],
   "source": [
    "n_ev = 0\n",
    "\n",
    "mask_ = mask[n_ev,:,:,0].astype(bool)\n",
    "# xs = np.sqrt( np.sum( np.power(detectors_rub[n_ev][mask_], 2), axis=-1) )\n",
    "ys = s_fit[n_ev][mask_][:,0]#*time2dist\n",
    "real_s = signal[n_ev][mask_][:,0]#*time2dist\n",
    "errs = tf.math.sqrt(error[n_ev][mask_][:,0])#*time2dist\n",
    "\n",
    "#fig, ax = plt.subplots()\n",
    "plt.errorbar(dist_core[n_ev][mask_][:,0], real_s, yerr=errs, fmt='+', c='red', label='data')\n",
    "plt.scatter(dist_core[n_ev][mask_][:,0], ys, label='fit')\n",
    "plt.legend()\n",
    "plt.show()"
   ]
  },
  {
   "cell_type": "code",
   "execution_count": 27,
   "metadata": {},
   "outputs": [
    {
     "data": {
      "image/png": "[encoded data removed]",
      "text/plain": [
       "<Figure size 432x288 with 1 Axes>"
      ]
     },
     "metadata": {
      "needs_background": "light"
     },
     "output_type": "display_data"
    }
   ],
   "source": [
    "n_ev = 1\n",
    "\n",
    "mask_ = mask[n_ev,:,:,0].astype(bool)\n",
    "# xs = np.sqrt( np.sum( np.power(detectors_rub[n_ev][mask_], 2), axis=-1) )\n",
    "ys = s_fit[n_ev][mask_][:,0]#*time2dist\n",
    "real_s = signal[n_ev][mask_][:,0]#*time2dist\n",
    "errs = tf.math.sqrt(error[n_ev][mask_][:,0])#*time2dist\n",
    "\n",
    "#fig, ax = plt.subplots()\n",
    "plt.errorbar(dist_core[n_ev][mask_][:,0], real_s, yerr=errs, fmt='+', c='red', label='data')\n",
    "plt.scatter(dist_core[n_ev][mask_][:,0], ys, label='fit')\n",
    "plt.legend()\n",
    "plt.show()"
   ]
  },
  {
   "cell_type": "code",
   "execution_count": 28,
   "metadata": {},
   "outputs": [
    {
     "data": {
      "image/png": "[encoded data removed]",
      "text/plain": [
       "<Figure size 432x288 with 1 Axes>"
      ]
     },
     "metadata": {
      "needs_background": "light"
     },
     "output_type": "display_data"
    }
   ],
   "source": [
    "n_ev = -3\n",
    "\n",
    "mask_ = mask[n_ev,:,:,0].astype(bool)\n",
    "# xs = np.sqrt( np.sum( np.power(detectors_rub[n_ev][mask_], 2), axis=-1) )\n",
    "ys = s_fit[n_ev][mask_][:,0]#*time2dist\n",
    "real_s = signal[n_ev][mask_][:,0]#*time2dist\n",
    "errs = tf.math.sqrt(error[n_ev][mask_][:,0])#*time2dist\n",
    "\n",
    "#fig, ax = plt.subplots()\n",
    "plt.errorbar(dist_core[n_ev][mask_][:,0], real_s, yerr=errs, fmt='+', c='red', label='data')\n",
    "plt.scatter(dist_core[n_ev][mask_][:,0], ys, label='fit')\n",
    "plt.legend()\n",
    "plt.show()"
   ]
  },
  {
   "cell_type": "code",
   "execution_count": 29,
   "metadata": {},
   "outputs": [
    {
     "data": {
      "image/png": "[encoded data removed]",
      "text/plain": [
       "<Figure size 360x1224 with 3 Axes>"
      ]
     },
     "metadata": {
      "needs_background": "light"
     },
     "output_type": "display_data"
    }
   ],
   "source": [
    "# one plot\n",
    "fig,axs =plt.subplots(3,1,figsize = (5,17)) \n",
    "for i, n_ev in enumerate(range(3,6)):\n",
    "    mask_ = mask[n_ev,:,:,0].astype(bool)\n",
    "    # xs = np.sqrt( np.sum( np.power(detectors_rub[n_ev][mask_], 2), axis=-1) )\n",
    "    ys = s_fit[n_ev][mask_][:,0]#*time2dist\n",
    "    real_s = signal[n_ev][mask_][:,0]#*time2dist\n",
    "    errs = tf.math.sqrt(error[n_ev][mask_][:,0])#*time2dist\n",
    "\n",
    "    #fig, ax = plt.subplots()\n",
    "    axs[i].errorbar(dist_core[n_ev][mask_][:,0], real_s, yerr=errs, fmt='+', c='red', label='data')\n",
    "    axs[i].scatter(dist_core[n_ev][mask_][:,0], ys, label='fit')\n",
    "    axs[i].plot()\n",
    "    axs[i].legend()\n",
    "    axs[i].set_title(f'num_ev:{n_ev}')\n",
    "plt.show()"
   ]
  },
  {
   "cell_type": "code",
   "execution_count": 131,
   "metadata": {},
   "outputs": [
    {
     "data": {
      "text/plain": [
       "<tf.Tensor: shape=(1,), dtype=float32, numpy=array([6.5625935], dtype=float32)>"
      ]
     },
     "execution_count": 131,
     "metadata": {},
     "output_type": "execute_result"
    }
   ],
   "source": [
    "theta[5]*180/3.14"
   ]
  },
  {
   "cell_type": "code",
   "execution_count": 124,
   "metadata": {},
   "outputs": [
    {
     "data": {
      "text/plain": [
       "<module 'src.reconstruction' from '/home/rfit/Telescope_Array/Parameters_all/src/reconstruction.py'>"
      ]
     },
     "execution_count": 124,
     "metadata": {},
     "output_type": "execute_result"
    }
   ],
   "source": [
    "# mean per area\n",
    "importlib.reload(recon)"
   ]
  },
  {
   "cell_type": "code",
   "execution_count": 126,
   "metadata": {},
   "outputs": [
    {
     "name": "stdout",
     "output_type": "stream",
     "text": [
      "tf.Tensor(3.0, shape=(), dtype=float32)\n",
      "(2000, 6, 6, 1)\n"
     ]
    }
   ],
   "source": [
    "chiL, N, error = recon.chi2L(tf.expand_dims(_S800,1), LDF, mask,signal)\n",
    "s_fit = expand_dims(tf.expand_dims(_S800,1))*LDF*mask но \n",
    "print(s_fit.shape)"
   ]
  },
  {
   "cell_type": "code",
   "execution_count": 39,
   "metadata": {},
   "outputs": [
    {
     "data": {
      "text/plain": [
       "<tf.Tensor: shape=(6, 6), dtype=float32, numpy=\n",
       "array([[0.       , 0.       , 0.       , 0.       , 0.       , 0.       ],\n",
       "       [0.       , 0.       , 1.463873 , 1.5368418, 0.       , 0.       ],\n",
       "       [0.       , 0.       , 0.6623677, 0.7511802, 0.       , 0.       ],\n",
       "       [0.       , 0.       , 0.8469813, 0.9119431, 0.       , 0.       ],\n",
       "       [0.       , 0.       , 0.       , 1.6778816, 0.       , 0.       ],\n",
       "       [0.       , 0.       , 0.       , 0.       , 0.       , 0.       ]],\n",
       "      dtype=float32)>"
      ]
     },
     "execution_count": 39,
     "metadata": {},
     "output_type": "execute_result"
    }
   ],
   "source": [
    "dist_core[1,:,:,0]*mask[1,:,:,0]"
   ]
  },
  {
   "cell_type": "code",
   "execution_count": 31,
   "metadata": {},
   "outputs": [
    {
     "data": {
      "text/plain": [
       "array([[ 0.      ,  0.      ,  0.      ,  0.      ,  0.      ,  0.      ],\n",
       "       [ 0.      ,  0.      ,  0.680725,  1.0834  ,  0.      ,  0.      ],\n",
       "       [ 0.      ,  0.      , 10.5486  ,  6.05525 ,  0.      ,  0.      ],\n",
       "       [ 0.      ,  0.      ,  3.58595 ,  1.74749 ,  0.      ,  0.      ],\n",
       "       [ 0.      ,  0.      ,  0.      ,  3.08809 ,  0.      ,  0.      ],\n",
       "       [ 0.      ,  0.      ,  0.      ,  0.      ,  0.      ,  0.      ]],\n",
       "      dtype=float32)"
      ]
     },
     "execution_count": 31,
     "metadata": {},
     "output_type": "execute_result"
    }
   ],
   "source": [
    "signal[1,:,:,0]"
   ]
  },
  {
   "cell_type": "code",
   "execution_count": 35,
   "metadata": {},
   "outputs": [
    {
     "data": {
      "text/plain": [
       "(<tf.Tensor: shape=(1,), dtype=float32, numpy=array([36.0943], dtype=float32)>,\n",
       " <tf.Tensor: shape=(1,), dtype=float32, numpy=array([180.94102], dtype=float32)>)"
      ]
     },
     "execution_count": 35,
     "metadata": {},
     "output_type": "execute_result"
    }
   ],
   "source": [
    "theta_[1]*180/3.1415, phi_[1]*180/3.1415"
   ]
  },
  {
   "cell_type": "code",
   "execution_count": 136,
   "metadata": {
    "scrolled": false
   },
   "outputs": [
    {
     "data": {
      "image/png": "[encoded data removed]",
      "text/plain": [
       "<Figure size 360x8640 with 20 Axes>"
      ]
     },
     "metadata": {
      "needs_background": "light"
     },
     "output_type": "display_data"
    }
   ],
   "source": [
    "# one plot\n",
    "n=20\n",
    "n_s=0\n",
    "fig,axs =plt.subplots(n,1,figsize = (5,6*n)) \n",
    "for i, n_ev in enumerate(range(n_s,n_s+n)):\n",
    "    mask_ = mask[n_ev,:,:,0].astype(bool)\n",
    "    # xs = np.sqrt( np.sum( np.power(detectors_rub[n_ev][mask_], 2), axis=-1) )\n",
    "    ys = s_fit[n_ev][mask_][:,0]#*time2dist\n",
    "    real_s = signal[n_ev][mask_][:,0]#*time2dist\n",
    "    errs = tf.math.sqrt(error[n_ev][mask_][:,0])#*time2dist\n",
    "\n",
    "    #fig, ax = plt.subplots()\n",
    "    axs[i].errorbar(dist_core[n_ev][mask_][:,0], real_s, yerr=errs, fmt='+', c='red', label='data')\n",
    "    axs[i].scatter(dist_core[n_ev][mask_][:,0], ys, label='fit')\n",
    "    axs[i].plot()\n",
    "    axs[i].set_ylim(-1,20)\n",
    "    axs[i].legend()\n",
    "    axs[i].set_title(f'num_ev:{n_ev}')\n",
    "plt.show()"
   ]
  },
  {
   "cell_type": "code",
   "execution_count": 107,
   "metadata": {},
   "outputs": [
    {
     "data": {
      "text/plain": [
       "<tf.Tensor: shape=(2000, 1), dtype=float32, numpy=\n",
       "array([[ 37.5351],\n",
       "       [ 10.5486],\n",
       "       [ 11.4303],\n",
       "       ...,\n",
       "       [190.966 ],\n",
       "       [ 62.8356],\n",
       "       [ 69.9043]], dtype=float32)>"
      ]
     },
     "execution_count": 107,
     "metadata": {},
     "output_type": "execute_result"
    }
   ],
   "source": [
    "max_signal = tf.reduce_max(signal,axis = (1,2))\n",
    "max_signal"
   ]
  },
  {
   "cell_type": "code",
   "execution_count": null,
   "metadata": {},
   "outputs": [],
   "source": []
  }
 ],
 "metadata": {
  "kernelspec": {
   "display_name": "Python 3",
   "language": "python",
   "name": "python3"
  },
  "language_info": {
   "codemirror_mode": {
    "name": "ipython",
    "version": 3
   },
   "file_extension": ".py",
   "mimetype": "text/x-python",
   "name": "python",
   "nbconvert_exporter": "python",
   "pygments_lexer": "ipython3",
   "version": "3.6.10"
  }
 },
 "nbformat": 4,
 "nbformat_minor": 4
}
