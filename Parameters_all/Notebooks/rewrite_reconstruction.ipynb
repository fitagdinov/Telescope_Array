{
 "cells": [
  {
   "cell_type": "code",
   "execution_count": 23,
   "metadata": {},
   "outputs": [],
   "source": [
    "import numpy as np\n",
    "import matplotlib.pyplot as plt\n",
    "import tensorflow as tf\n",
    "import pandas as pd\n",
    "import seaborn as sns\n",
    "import h5py\n",
    "import tqdm\n",
    "import zipfile\n",
    "from tqdm.notebook import tqdm_notebook\n",
    "from progress.bar import IncrementalBar\n",
    "import random\n",
    "import pandas as pd\n",
    "import time\n",
    "import os\n",
    "import math\n",
    "from joblib import Parallel, delayed\n",
    "# tf.config.run_functions_eagerly(True)\n",
    "%matplotlib inline"
   ]
  },
  {
   "cell_type": "code",
   "execution_count": 24,
   "metadata": {},
   "outputs": [],
   "source": [
    "param_names=['signal','pl_fr','real_wf-pl_fr','mask']"
   ]
  },
  {
   "cell_type": "code",
   "execution_count": 25,
   "metadata": {},
   "outputs": [],
   "source": [
    "def norming(data,param_names=param_names,log=True):\n",
    "    \n",
    "    # ADD LOGARIFM FOR SIGNAL\n",
    "    norm_params={}\n",
    "    for i in range(data.shape[-1]):\n",
    "        if (i==0 and log):\n",
    "            data[:,:,:,i]=tf.math.log(data[:,:,:,i]+1)\n",
    "        max_c=data[:,:,:,i].max()\n",
    "        min_c=data[:,:,:,i].min()\n",
    "        mean_c=data[:,:,:,i].mean()\n",
    "        std_c=data[:,:,:,i].std()\n",
    "        print(max_c,min_c)\n",
    "        data[:,:,:,i]=(data[:,:,:,i]-min_c)/(max_c-min_c)\n",
    "\n",
    "        norm_params[param_names[i]]=np.array([max_c,min_c])\n",
    "    return norm_params\n",
    "def renormin(data_not_change,norm_params,param_names=param_names,log=True):\n",
    "    data=np.copy(data_not_change)\n",
    "    for i in range(data.shape[-1]):\n",
    "        max_c, min_c=norm_params[param_names[i]]\n",
    "        data[:,:,:,i]=data[:,:,:,i]*(max_c-min_c) + min_c\n",
    "        if (i==0 and log):\n",
    "            data[:,:,:,i]=tf.math.exp(data[:,:,:,i])-1\n",
    "        elif (i==1 or i==2):\n",
    "            data[:,:,:,i]=data[:,:,:,i]*1e6\n",
    "    return data"
   ]
  },
  {
   "cell_type": "code",
   "execution_count": 26,
   "metadata": {},
   "outputs": [
    {
     "name": "stdout",
     "output_type": "stream",
     "text": [
      "len data:  100\n"
     ]
    },
    {
     "name": "stderr",
     "output_type": "stream",
     "text": [
      "/home/rfit/.conda/envs/robert_venv/lib/python3.6/site-packages/ipykernel_launcher.py:6: H5pyDeprecationWarning: dataset.value has been deprecated. Use dataset[()] instead.\n",
      "  \n",
      "/home/rfit/.conda/envs/robert_venv/lib/python3.6/site-packages/ipykernel_launcher.py:7: H5pyDeprecationWarning: dataset.value has been deprecated. Use dataset[()] instead.\n",
      "  import sys\n"
     ]
    }
   ],
   "source": [
    "path='../../mc_hadrons_qgs34_0010.h5'\n",
    "data_name='pr-q4-9yr'\n",
    "data=np.zeros((1,6,6,4))\n",
    "with h5py.File(path,'r') as f:\n",
    "    data=np.concatenate((data,f[data_name]['dt'][:100,:,:,3:7]))\n",
    "    gp=f[data_name]['gp'].value\n",
    "    ev_params=f[data_name]['ev_params'].value\n",
    "data=data[1:]\n",
    "data[:,:,:,1]=data[:,:,:,1]*1e6\n",
    "data[:,:,:,2]=data[:,:,:,2]*1e6\n",
    "print('len data: ',len(data))"
   ]
  },
  {
   "cell_type": "markdown",
   "metadata": {},
   "source": [
    "# Constant"
   ]
  },
  {
   "cell_type": "code",
   "execution_count": 27,
   "metadata": {},
   "outputs": [],
   "source": [
    "pi = tf.constant(math.pi)\n",
    "UNIT=1\n",
    "dist=tf.constant(1.2,dtype=tf.float32)# min dist between 2 detectors in km\n",
    "c=tf.constant(299792.458,dtype=tf.float32)# # km\\s\n",
    "NSEC= 1e6/c# in rubsov's code is a time for 1.2 km 1.2/c*1e9\n",
    "R_L=30e-3\n",
    "LINSLEY_r0=0.025\n",
    "Det_Area=30\n",
    "tf_type=tf.float32\n",
    "s_min = tf.constant([[0.3]])\n",
    "s_max = tf.constant([[1.8]])\n",
    "t_err_res=c/1e6\n",
    "t0_err=30"
   ]
  },
  {
   "cell_type": "code",
   "execution_count": 28,
   "metadata": {},
   "outputs": [],
   "source": [
    "class Reconstruction():\n",
    "    #constants\n",
    "    pi = tf.constant(math.pi)\n",
    "    UNIT=1\n",
    "    dist=tf.constant(1.2,dtype=tf.float32)# min dist between 2 detectors in km\n",
    "    c=tf.constant(299792.458,dtype=tf.float32)# # km\\s\n",
    "    NSEC= 1e6/c# in rubsov's code is a time for 1.2 km 1.2/c*1e9\n",
    "    R_L=30e-3\n",
    "    LINSLEY_r0=0.025\n",
    "    Det_Area=3\n",
    "    s_min = tf.constant([[0.3]])\n",
    "    s_max = tf.constant([[1.8]])\n",
    "    t_err_res=c/1e6\n",
    "    t0_err=30\n",
    "    \n",
    "    def __init__(self,data,tf_type):\n",
    "        # all have shape (batch,6,6,1)\n",
    "        self.tf_type = tf_type\n",
    "        self.data=tf.cast(data,self.tf_type)\n",
    "        self.mask = tf.expand_dims(data[:,:,:,3],-1)\n",
    "        self.signal = tf.expand_dims(data[:,:,:,0],-1)*self.mask\n",
    "        self.real_time = tf.expand_dims((data[:,:,:,1] + data[:,:,:,2]),-1)*self.mask \n",
    "        self.signal = tf.cast(self.signal,self.tf_type)\n",
    "        self.real_time = tf.cast(self.real_time,self.tf_type)\n",
    "        self.mask = tf.cast(self.mask,self.tf_type)\n",
    "        self.batch = data.shape[0]\n",
    "        self.t0 = None\n",
    "        self.theta = None\n",
    "        self.detertors_coord = None\n",
    "        self.core = None\n",
    "        self.t_place = None\n",
    "        self.courve = None\n",
    "#     @classmethod\n",
    "    def detectors_init(self):\n",
    "        x = tf.cast(tf.repeat(tf.expand_dims(tf.range(0,6),0),6,axis=0),self.tf_type)\n",
    "        y = tf.cast(tf.repeat(tf.expand_dims(tf.range(0,6),1),6,axis=1),self.tf_type)\n",
    "        x = tf.expand_dims(x,-1)\n",
    "        y = tf.expand_dims(y,-1)\n",
    "        # x.shape = (6,6,1)\n",
    "        detectors = tf.concat([x,y],axis=-1) * dist\n",
    "        \n",
    "        #detectors.shape = (batch,6,6,2) in km\n",
    "        detectors = tf.repeat(tf.expand_dims(detectors,0),self.batch,0)\n",
    "        self.detertors_coord=detectors\n",
    "        return detectors\n",
    "#     @classmethod\n",
    "    def core_(self):\n",
    "        detectors = self.detectors_init() # shape (batch,6,6,2)\n",
    "        sum_signal=tf.reduce_sum(self.signal,axis=(1,2)) # shape (batch ,1)\n",
    "        core=tf.reduce_sum(detectors * self.signal, axis=(1,2))/sum_signal\n",
    "        #update self\n",
    "        self.core = core\n",
    "        return core\n",
    "    @staticmethod\n",
    "    def expand_dims(vec):\n",
    "        return tf.expand_dims(tf.expand_dims(vec,-1),-1)\n",
    "    def create_matrix(self,x,y,t,mask):\n",
    "        a11=self.expand_dims(tf.reduce_sum(x*x,axis=1))\n",
    "        a12=self.expand_dims(tf.reduce_sum(x*y,axis=1))\n",
    "        a13=self.expand_dims(tf.reduce_sum(x,axis=1))\n",
    "        a22=self.expand_dims(tf.reduce_sum(y*y,axis=1))\n",
    "        a23=self.expand_dims(tf.reduce_sum(y,axis=1))\n",
    "        a33=self.expand_dims(tf.reduce_sum(mask,axis=1))\n",
    "        a1=tf.concat([a11,a12,a13],axis=2)\n",
    "        a2=tf.concat([a12,a22,a23],axis=2)\n",
    "        a3=tf.concat([a13,a23,a33],axis=2)\n",
    "        A=tf.concat([a1,a2,a3],axis=1)\n",
    "\n",
    "        b1=self.expand_dims(tf.reduce_sum(x*t,axis=1))\n",
    "        b2=self.expand_dims(tf.reduce_sum(y*t,axis=1))\n",
    "        b3=self.expand_dims(tf.reduce_sum(t,axis=1))\n",
    "        b=tf.concat([b1,b2,b3],axis=1)\n",
    "        return A,b\n",
    "    def place_sol(self):\n",
    "        real_time=self.real_time\n",
    "        mask=self.mask\n",
    "        detectors = self.detectors_init() * mask\n",
    "        x = tf.reshape(detectors[:,:,:,0],(-1,36))\n",
    "        y = tf.reshape(detectors[:,:,:,1],(-1,36))\n",
    "        t = tf.reshape(real_time,(-1,36))\n",
    "        mask = tf.reshape(mask,(-1,36))\n",
    "        A,b=self.create_matrix(x,y,t,mask)\n",
    "        return tf.linalg.solve(A,b)\n",
    "#     @classmethod\n",
    "    def place_params(self):\n",
    "        sol = self.place_sol()\n",
    "        #t_0=b+(r_cor;n)\n",
    "        b=sol[:,2:,0]\n",
    "        n=sol[:,:2,0]\n",
    "        core = self.core_()\n",
    "        mul=n[:,0]*core[:,0]+n[:,1]*core[:,1]\n",
    "#         t0 = tf.cast(tf.expand_dims(b,1)+tf.expand_dims(mul,1),dtype=self.tf_type)\n",
    "        t0=b\n",
    "        a_x=n[:,0]\n",
    "        a_y=n[:,1]\n",
    "        a_z=tf.math.pow(1e6/c,2) - (tf.math.pow(a_x,2) + tf.math.pow(a_y,2))\n",
    "        a_z=tf.where(a_z>0,tf.math.sqrt(a_z),0)\n",
    "        cos_theta=a_z*(c/1e6)\n",
    "        theta=tf.math.acos(cos_theta)\n",
    "        tg_phi=a_x/(-a_y)\n",
    "        atan=tf.math.atan(tg_phi)\n",
    "        phi=tf.where(a_y>0,atan+pi,atan-pi)\n",
    "        phi=tf.where(a_x<0,atan,phi)\n",
    "        phi = tf.math.atan2( -a_x, -a_y )\n",
    "        # update self\n",
    "        self.phi = phi\n",
    "        self.theta = theta\n",
    "        self.t0=t0\n",
    "        return t0,tf.expand_dims(theta,-1),tf.expand_dims(phi,-1)\n",
    "    def detectors_core(self):\n",
    "        detectors=self.detertors_coord\n",
    "        core = self.core\n",
    "        detectors_c=detectors-tf.reshape(core,(-1,1,1,2))\n",
    "        return detectors_c\n",
    "#     @classmethod\n",
    "    def place_reconstruction(self):\n",
    "        t0,theta,phi = self.place_params()\n",
    "        detectors = self.detectors_core()\n",
    "        detectors = self.detertors_coord\n",
    "#         print(detectors)\n",
    "        t0=self.expand_dims(t0) # shape (batch,1,1,1)\n",
    "        theta=self.expand_dims(theta)\n",
    "        phi = self.expand_dims(phi)\n",
    "        n=-tf.concat([tf.math.cos(phi)*tf.math.sin(theta),tf.math.sin(phi)*tf.math.sin(theta)],axis=-1)*(1e6/c)\n",
    "#         print(n)\n",
    "        t_place =  t0 + detectors[:,:,:,1:2]*n[:,:,:,0:1] + detectors[:,:,:,0:1]*n[:,:,:,1:2]\n",
    "        t_place = t_place*self.mask\n",
    "        self.t_place = t_place*self.mask\n",
    "        return self.t_place\n",
    "    def place_reconstruction_static(self,t0,theta,phi):\n",
    "        detectors = self.detectors_core()\n",
    "        detectors = self.detertors_coord\n",
    "#         print(detectors)\n",
    "        t0=self.expand_dims(t0) # shape (batch,1,1,1)\n",
    "        theta=self.expand_dims(theta)\n",
    "        phi = self.expand_dims(phi)\n",
    "        n=-tf.concat([tf.math.cos(phi)*tf.math.sin(theta),tf.math.sin(phi)*tf.math.sin(theta)],axis=-1)*(1e6/c)\n",
    "#         print(n)\n",
    "        t_place =  t0 + detectors[:,:,:,1:2]*n[:,:,:,0:1] + detectors[:,:,:,0:1]*n[:,:,:,1:2]\n",
    "        t_place = t_place*self.mask\n",
    "        self.t_place = t_place*self.mask\n",
    "        return self.t_place\n",
    "    @staticmethod\n",
    "    def eta_fun(theta):\n",
    "        x=theta*180/3.14\n",
    "\n",
    "        e1 = 3.97 - 1.79*(tf.math.abs(1.0/tf.math.cos(theta)) - 1.0)\n",
    "        e2 = ((((((-1.71299934e-10*x + 4.23849411e-08)*x -3.76192000e-06)*x\n",
    "                   + 1.35747298e-04)*x -2.18241567e-03)*x + 1.18960682e-02)*x\n",
    "                 + 3.70692527e+00)\n",
    "        res = tf.where(x<62.7,e1,e2)\n",
    "        return res\n",
    "    def s_profile_tasimple(self,r_ta,theta):\n",
    "        r = r_ta*UNIT\n",
    "        eta=self.eta_fun(theta)# batch,1,1\n",
    "        eta=tf.repeat(eta,6,axis=1)\n",
    "        eta=tf.repeat(eta,6,axis=2)\n",
    "        # eta shape is batch,6,6\n",
    "        Rm = tf.constant(0.09,dtype=tf.float32)\n",
    "        R1 = tf.constant(1,dtype=tf.float32)\n",
    "        return (tf.math.pow((r/Rm),-1.2)*tf.math.pow((1+r/Rm), -(eta-1.2))*tf.math.pow(1+(tf.math.pow(r,2)/R1/R1),-0.6))\n",
    "    def s_profile(self,r_ta, theta):\n",
    "        #r_ta shape batch,6,6\n",
    "        f800=self.s_profile_tasimple(self.expand_dims(tf.constant(0.8)), theta)\n",
    "        return self.s_profile_tasimple(r_ta, theta)/f800\n",
    "    def pfs__pps(self):\n",
    "        t0,theta,phi = self.place_params()\n",
    "        # u can read from t_place if in place_reconstruction use core shift\n",
    "        detectors = self.detectors_core()\n",
    "        t0=self.expand_dims(t0) # shape (batch,1,1,1)\n",
    "        theta=self.expand_dims(theta)\n",
    "        phi = self.expand_dims(phi)\n",
    "        n=-tf.concat([tf.math.cos(phi)*tf.math.sin(theta),tf.math.sin(phi)*tf.math.sin(theta)],axis=-1)\n",
    "        t_place = detectors[:,:,:,1:2]*n[:,:,:,0:1] + detectors[:,:,:,0:1]*n[:,:,:,1:2] # not has t0\n",
    "        # end t_place's part\n",
    "        dist_core = tf.expand_dims(tf.reduce_sum(tf.math.pow(detectors,2),axis=-1),axis=-1) - tf.math.pow(t_place,2)\n",
    "        dist_core = tf.where(dist_core>0,tf.math.sqrt(dist_core),0)\n",
    "        cond_dist = tf.cast(tf.where(tf.logical_and(dist_core>s_min,dist_core<s_max),self.mask,0.),tf_type)\n",
    "        pfs = tf.reduce_sum(self.signal*cond_dist,axis=(1,2))\n",
    "        pps = tf.reduce_sum(self.s_profile(dist_core,theta)*cond_dist,axis=(1,2))\n",
    "        # might update self\n",
    "        return (pfs,pps)\n",
    "    @staticmethod\n",
    "    def a_ivanov_fun(theta):\n",
    "        DEG=pi/180\n",
    "        threshold1=25*DEG\n",
    "        threshold2=35*DEG\n",
    "        # переписать для обнавления масива\n",
    "        res1=tf.where(theta<threshold1,3.3836 - 0.01848*theta/DEG,0)\n",
    "        res3=tf.where(theta>threshold2,tf.math.exp(-3.2e-2*theta/DEG + 2.0),0)\n",
    "        a=(0.6511268210e-4*(theta/DEG-0.2614963683))*(theta/DEG*theta/DEG-134.7902422*theta/DEG+4558.524091)\n",
    "        res2=tf.where(tf.math.logical_and(theta > threshold1,theta < threshold2),a,0)\n",
    "        return res1+res2+res3\n",
    "    \n",
    "    def courve_fun(self):\n",
    "        a_ivanov = self.a_ivanov_fun(self.theta)\n",
    "        pfs,pps = self.pfs__pps()\n",
    "        # norming\n",
    "        S_X = tf.where(pps>1e-10,pfs/pps,1)[:,0]\n",
    "        courve = tf.expand_dims(a_ivanov*1.3/tf.math.sqrt(S_X),axis=-1)\n",
    "        self.courve = courve\n",
    "        return courve\n",
    "    @staticmethod\n",
    "    def linsley_t(r,S):\n",
    "        return 0.67*tf.math.pow((1 + r/LINSLEY_r0), 1.5)*tf.math.pow(S, -0.5)/1e3\n",
    "    def courve_reconstruction(self):\n",
    "        t0,theta,phi = self.place_params()\n",
    "        # u can read from t_place if in place_reconstruction use core shift\n",
    "        detectors = self.detectors_core()\n",
    "        t0=self.expand_dims(t0) # shape (batch,1,1,1)\n",
    "        theta=self.expand_dims(theta)\n",
    "        phi = self.expand_dims(phi)\n",
    "        n=-tf.concat([tf.math.cos(phi)*tf.math.sin(theta),tf.math.sin(phi)*tf.math.sin(theta)],axis=-1)\n",
    "        t_place = detectors[:,:,:,1:2]*n[:,:,:,0:1] + detectors[:,:,:,0:1]*n[:,:,:,1:2]\n",
    "        dist_core = tf.expand_dims(tf.reduce_sum(tf.math.pow(detectors,2),axis=-1),axis=-1) - tf.math.pow(t_place,2)\n",
    "        dist_core = tf.where(dist_core>0,tf.math.sqrt(dist_core),0)\n",
    "        LDF=self.s_profile(dist_core,theta)\n",
    "        td=self.expand_dims(self.courve)*self.linsley_t(dist_core,LDF)/NSEC\n",
    "        return td\n",
    "    def courve_reconstruction_static(self,t0,theta,phi,courve):\n",
    "        t0,theta,phi = self.place_params()\n",
    "        # u can read from t_place if in place_reconstruction use core shift\n",
    "        detectors = self.detectors_core()\n",
    "        t0=self.expand_dims(t0) # shape (batch,1,1,1)\n",
    "        theta=self.expand_dims(theta)\n",
    "        phi = self.expand_dims(phi)\n",
    "        n=-tf.concat([tf.math.cos(phi)*tf.math.sin(theta),tf.math.sin(phi)*tf.math.sin(theta)],axis=-1)\n",
    "        t_place = detectors[:,:,:,1:2]*n[:,:,:,0:1] + detectors[:,:,:,0:1]*n[:,:,:,1:2]\n",
    "        dist_core = tf.expand_dims(tf.reduce_sum(tf.math.pow(detectors,2),axis=-1),axis=-1) - tf.math.pow(t_place,2)\n",
    "        dist_core = tf.where(dist_core>0,tf.math.sqrt(dist_core),0)\n",
    "        LDF=self.s_profile(dist_core,theta)\n",
    "        td=self.expand_dims(courve)*self.linsley_t(dist_core,LDF)/NSEC\n",
    "        return td\n",
    "    @staticmethod\n",
    "    def logPua(n,nbar):\n",
    "        last_part = 2*(n*tf.math.log(nbar/(n+1e-8)) + (n - nbar))\n",
    "\n",
    "        nbar_logical=tf.where(nbar < 1e-90,True,False)\n",
    "        n_logical1 = tf.where(n>1e-90,True,False)\n",
    "        res = tf.zeros_like(n)\n",
    "        res=tf.where(tf.logical_and(nbar_logical,n_logical1),-1e-6,res)\n",
    "\n",
    "        else_nbar_logical = tf.logical_not(nbar_logical) \n",
    "        n_logical2 = tf.where(n<1e-20,True,False)\n",
    "\n",
    "        res=tf.where(tf.logical_and(else_nbar_logical,n_logical2),-2*nbar,res)\n",
    "        res=tf.where(tf.logical_and(else_nbar_logical,tf.logical_not(n_logical2)),last_part,res)\n",
    "        return res\n",
    "    def chi2L(self,S_X,s_prof,qs,pps,mask):\n",
    "        s_fit = S_X*s_prof\n",
    "        qs=self.signal\n",
    "        s_sigma2 = ( 2*qs/DET_AREA + tf.math.pow( 0.15*qs, 2 ) + 1e-6 )\n",
    "        maskL2 = tf.where(s_fit>4.0,mask,0)\n",
    "        # ??????\n",
    "        S=S_X\n",
    "        chi2L2=tf.reduce_sum((qs - s_fit)*(qs - s_fit)/s_sigma2*maskL2,axis=(1,2))\n",
    "\n",
    "        maskL3 = tf.where(s_fit<4.0,mask,0)\n",
    "        chi2L3 = -tf.reduce_sum(0.4*logPua(S*DET_AREA, s_fit*DET_AREA)*maskL3,axis=(1,2))\n",
    "        return chi2L2  #+ chi3L\n",
    "    def optimization(self,iterats,alpha=0.1):\n",
    "        self.detectors_init()\n",
    "        self.core_()\n",
    "        self.place_sol()\n",
    "        # ??? don't work without that \n",
    "        pfs,pps= rec.pfs__pps()\n",
    "        rec.courve_fun()\n",
    "        chi_list=[]\n",
    "        t0,theta,phi = self.place_params()\n",
    "        core = self.core\n",
    "        courve= self.courve\n",
    "        params=tf.concat([t0,theta,phi,courve,core],axis=1)\n",
    "        params_list=[]\n",
    "        for i in tqdm.tqdm(range(iterats)):\n",
    "            with tf.GradientTape() as gr:  \n",
    "                gr.watch(params)\n",
    "                self.t0=params[:,0:1]\n",
    "                self.theta=params[:,1:2]\n",
    "                self.phi=params[:,2:3]\n",
    "                self.courve=params[:,3:4]\n",
    "                self.core=params[:,4:]\n",
    "                \n",
    "                t0=params[:,0:1]\n",
    "                theta=params[:,1:2]\n",
    "                phi=params[:,2:3]\n",
    "                courve=params[:,3:4]\n",
    "                \n",
    "                t_place = self.place_reconstruction_static(t0,theta,phi)\n",
    "                td = self.courve_reconstruction_static(t0,theta,phi,courve)\n",
    "                t_sigma2=(t0_err*t0_err + td*td) * t_err_res\n",
    "                time_reco = t_place +td\n",
    "                chi_T=tf.reduce_sum(tf.math.pow((time_reco-self.real_time)*self.mask,2)/t_sigma2,axis=(1,2))\n",
    "                chi = chi_T\n",
    "                chi_list.append(chi)\n",
    "                grad=gr.gradient(chi,params)\n",
    "#                 print(grad)\n",
    "                params=params-alpha*grad\n",
    "                # updating\n",
    "                self.t0=params[:,0:1]\n",
    "                self.theta=params[:,1:2]\n",
    "                self.phi=params[:,2:3]\n",
    "                self.courve=params[:,3:4]\n",
    "                self.core=params[:,4:]\n",
    "                params_list.append(params)\n",
    "        return np.array(chi_list),np.array(params_list)"
   ]
  },
  {
   "cell_type": "code",
   "execution_count": 29,
   "metadata": {},
   "outputs": [
    {
     "name": "stderr",
     "output_type": "stream",
     "text": [
      "100%|██████████| 3000/3000 [00:41<00:00, 72.61it/s]\n"
     ]
    }
   ],
   "source": [
    "rec = Reconstruction(data[20:40],tf.float32)\n",
    "# det=rec.detectors_init()\n",
    "# core=rec.core_()\n",
    "# sol = rec.place_sol() \n",
    "# sol\n",
    "chi,params=rec.optimization(3000)"
   ]
  },
  {
   "cell_type": "code",
   "execution_count": 31,
   "metadata": {},
   "outputs": [
    {
     "name": "stdout",
     "output_type": "stream",
     "text": [
      "(3000, 20, 1)\n",
      "(3000, 20, 1)\n",
      "(3000, 20, 1)\n",
      "(3000, 20, 1)\n",
      "(3000, 20, 1)\n",
      "(3000, 20, 1)\n",
      "(3000, 20, 1)\n",
      "(3000, 20, 1)\n",
      "(3000, 20, 1)\n",
      "(3000, 20, 1)\n",
      "(3000, 20, 1)\n",
      "(3000, 20, 1)\n",
      "(3000, 20, 1)\n",
      "(3000, 20, 1)\n",
      "(3000, 20, 1)\n",
      "(3000, 20, 1)\n",
      "(3000, 20, 1)\n",
      "(3000, 20, 1)\n",
      "(3000, 20, 1)\n",
      "(3000, 20, 1)\n"
     ]
    },
    {
     "data": {
      "text/plain": [
       "Text(0.5, 1.0, 'chi_T')"
      ]
     },
     "execution_count": 31,
     "metadata": {},
     "output_type": "execute_result"
    },
    {
     "data": {
      "image/png": "[encoded data removed]",
      "text/plain": [
       "<Figure size 432x288 with 1 Axes>"
      ]
     },
     "metadata": {
      "needs_background": "light"
     },
     "output_type": "display_data"
    }
   ],
   "source": [
    "for i in range(20):\n",
    "    print(np.array(chi).shape)\n",
    "    plt.plot(chi[:,i,0],label=str(i))\n",
    "    plt.ylim(0,0.4)\n",
    "plt.legend()\n",
    "plt.title('chi_T')"
   ]
  },
  {
   "cell_type": "code",
   "execution_count": 32,
   "metadata": {},
   "outputs": [
    {
     "name": "stdout",
     "output_type": "stream",
     "text": [
      "(3000, 20, 1)\n",
      "(3000, 20, 1)\n",
      "(3000, 20, 1)\n",
      "(3000, 20, 1)\n",
      "(3000, 20, 1)\n",
      "(3000, 20, 1)\n",
      "(3000, 20, 1)\n",
      "(3000, 20, 1)\n",
      "(3000, 20, 1)\n",
      "(3000, 20, 1)\n",
      "(3000, 20, 1)\n",
      "(3000, 20, 1)\n",
      "(3000, 20, 1)\n",
      "(3000, 20, 1)\n",
      "(3000, 20, 1)\n",
      "(3000, 20, 1)\n",
      "(3000, 20, 1)\n",
      "(3000, 20, 1)\n",
      "(3000, 20, 1)\n",
      "(3000, 20, 1)\n"
     ]
    },
    {
     "data": {
      "text/plain": [
       "Text(0.5, 1.0, 't0')"
      ]
     },
     "execution_count": 32,
     "metadata": {},
     "output_type": "execute_result"
    },
    {
     "data": {
      "image/png": "[encoded data removed]",
      "text/plain": [
       "<Figure size 432x288 with 1 Axes>"
      ]
     },
     "metadata": {
      "needs_background": "light"
     },
     "output_type": "display_data"
    }
   ],
   "source": [
    "for i in range(20):\n",
    "    print(np.array(chi).shape)\n",
    "    plt.plot(params[:,i,0],label=str(i))\n",
    "plt.legend()\n",
    "plt.title('t0')"
   ]
  },
  {
   "cell_type": "code",
   "execution_count": 34,
   "metadata": {},
   "outputs": [],
   "source": [
    "theta_r = ev_params[20:40,2]/180*math.pi"
   ]
  },
  {
   "cell_type": "code",
   "execution_count": 35,
   "metadata": {},
   "outputs": [
    {
     "name": "stdout",
     "output_type": "stream",
     "text": [
      "(3,)\n",
      "(3,)\n",
      "(3,)\n",
      "(3,)\n",
      "(3,)\n",
      "(3,)\n",
      "(3,)\n",
      "(3,)\n",
      "(3,)\n",
      "(3,)\n",
      "(3,)\n",
      "(3,)\n",
      "(3,)\n",
      "(3,)\n",
      "(3,)\n",
      "(3,)\n",
      "(3,)\n",
      "(3,)\n",
      "(3,)\n",
      "(3,)\n"
     ]
    },
    {
     "data": {
      "text/plain": [
       "Text(0.5, 1.0, 'theta')"
      ]
     },
     "execution_count": 35,
     "metadata": {},
     "output_type": "execute_result"
    },
    {
     "data": {
      "image/png": "[encoded data removed]",
      "text/plain": [
       "<Figure size 432x288 with 1 Axes>"
      ]
     },
     "metadata": {
      "needs_background": "light"
     },
     "output_type": "display_data"
    }
   ],
   "source": [
    "for i in range(0,20):\n",
    "    c=np.random.rand(3)\n",
    "    print(c.shape)\n",
    "    plt.plot(params[:,i,1],label=str(i),c=c)\n",
    "    plt.axhline(y = theta_r[i], color =c, linestyle = '--') \n",
    "plt.legend()\n",
    "plt.title('theta')"
   ]
  },
  {
   "cell_type": "code",
   "execution_count": 36,
   "metadata": {},
   "outputs": [
    {
     "name": "stdout",
     "output_type": "stream",
     "text": [
      "(3000, 20, 6)\n",
      "(3000, 20, 6)\n",
      "(3000, 20, 6)\n",
      "(3000, 20, 6)\n",
      "(3000, 20, 6)\n",
      "(3000, 20, 6)\n",
      "(3000, 20, 6)\n",
      "(3000, 20, 6)\n",
      "(3000, 20, 6)\n",
      "(3000, 20, 6)\n"
     ]
    },
    {
     "data": {
      "text/plain": [
       "Text(0.5, 1.0, 'phi')"
      ]
     },
     "execution_count": 36,
     "metadata": {},
     "output_type": "execute_result"
    },
    {
     "data": {
      "image/png": "[encoded data removed]",
      "text/plain": [
       "<Figure size 432x288 with 1 Axes>"
      ]
     },
     "metadata": {
      "needs_background": "light"
     },
     "output_type": "display_data"
    }
   ],
   "source": [
    "for i in range(10):\n",
    "    print(params[:].shape)\n",
    "    plt.plot(params[:,i,2],label=str(i))\n",
    "plt.legend()\n",
    "plt.title('phi')"
   ]
  },
  {
   "cell_type": "code",
   "execution_count": 37,
   "metadata": {},
   "outputs": [
    {
     "name": "stdout",
     "output_type": "stream",
     "text": [
      "(3000, 20, 6)\n",
      "(3000, 20, 6)\n",
      "(3000, 20, 6)\n",
      "(3000, 20, 6)\n",
      "(3000, 20, 6)\n",
      "(3000, 20, 6)\n",
      "(3000, 20, 6)\n",
      "(3000, 20, 6)\n",
      "(3000, 20, 6)\n",
      "(3000, 20, 6)\n"
     ]
    },
    {
     "data": {
      "text/plain": [
       "Text(0.5, 1.0, 'courve')"
      ]
     },
     "execution_count": 37,
     "metadata": {},
     "output_type": "execute_result"
    },
    {
     "data": {
      "image/png": "[encoded data removed]",
      "text/plain": [
       "<Figure size 432x288 with 1 Axes>"
      ]
     },
     "metadata": {
      "needs_background": "light"
     },
     "output_type": "display_data"
    }
   ],
   "source": [
    "for i in range(10):\n",
    "    print(params[:].shape)\n",
    "    plt.plot(params[:,i,3],label=str(i))\n",
    "plt.legend()\n",
    "plt.title('courve')"
   ]
  },
  {
   "cell_type": "code",
   "execution_count": 38,
   "metadata": {},
   "outputs": [
    {
     "data": {
      "text/plain": [
       "array([[ 35.3505 , 110.117  ],\n",
       "       [ 32.0455 , 332.741  ],\n",
       "       [ 31.4524 , 334.699  ],\n",
       "       [ 30.2315 , 294.016  ],\n",
       "       [ 33.0698 , 253.295  ],\n",
       "       [ 32.457  , 301.215  ],\n",
       "       [ 34.105  , 138.855  ],\n",
       "       [ 31.8346 ,   8.54537],\n",
       "       [ 32.7883 , 283.106  ],\n",
       "       [ 36.9185 , 230.656  ],\n",
       "       [ 34.8607 , 108.764  ],\n",
       "       [ 31.14   , 171.404  ],\n",
       "       [ 34.4091 , 322.173  ],\n",
       "       [ 33.5278 ,   4.13313],\n",
       "       [ 33.0801 , 181.94   ],\n",
       "       [ 29.9834 ,  74.079  ],\n",
       "       [ 35.8023 , 293.769  ],\n",
       "       [ 31.876  ,  25.2436 ],\n",
       "       [ 33.4199 , 263.276  ],\n",
       "       [ 33.2462 , 216.394  ]], dtype=float32)"
      ]
     },
     "execution_count": 38,
     "metadata": {},
     "output_type": "execute_result"
    }
   ],
   "source": [
    "ev_params[20:40,2:4] "
   ]
  },
  {
   "cell_type": "code",
   "execution_count": 40,
   "metadata": {},
   "outputs": [
    {
     "data": {
      "text/plain": [
       "<tf.Tensor: shape=(20, 2), dtype=float32, numpy=\n",
       "array([[ 42.76633 , 111.277504],\n",
       "       [ 30.339052, 325.47998 ],\n",
       "       [ 29.042715, 335.4595  ],\n",
       "       [ 16.870663, 297.55542 ],\n",
       "       [ 23.664148, 267.82367 ],\n",
       "       [ 33.335674, 298.67444 ],\n",
       "       [ 32.212643, 136.13324 ],\n",
       "       [ 30.042908,   5.193364],\n",
       "       [ 14.765994, 356.17987 ],\n",
       "       [ 27.89998 , 225.67647 ],\n",
       "       [ 63.027004, 134.01535 ],\n",
       "       [ 25.46905 , 171.19354 ],\n",
       "       [ 22.029732, 324.6097  ],\n",
       "       [ 35.835503,  11.48677 ],\n",
       "       [ 38.066326, 199.3434  ],\n",
       "       [ 27.008377,  82.85249 ],\n",
       "       [ 37.72091 , 251.01976 ],\n",
       "       [ 36.531776,  23.287867],\n",
       "       [ 31.895405, 283.7569  ],\n",
       "       [ 36.93836 , 263.0841  ]], dtype=float32)>"
      ]
     },
     "execution_count": 40,
     "metadata": {},
     "output_type": "execute_result"
    }
   ],
   "source": [
    "ang_res=tf.concat([rec.theta*180/3.14,tf.where(rec.phi*180/3.14>0,rec.phi*180/3.14,(rec.phi+3.14*2)*180/3.14)],axis=1)\n",
    "ang_res"
   ]
  },
  {
   "cell_type": "code",
   "execution_count": 50,
   "metadata": {},
   "outputs": [
    {
     "name": "stdout",
     "output_type": "stream",
     "text": [
      "tf.Tensor([ 6.708931 14.361145], shape=(2,), dtype=float32)\n",
      "tf.Tensor(9.405685, shape=(), dtype=float32) tf.Tensor(22.320835, shape=(), dtype=float32)\n"
     ]
    }
   ],
   "source": [
    "diff= tf.reduce_mean(tf.math.abs(ev_params[20:40,2:4] -ang_res),axis=0)\n",
    "print(diff)\n",
    "print(tf.math.reduce_std(ev_params[20:40,2] -ang_res[:,0]),tf.math.reduce_std(ev_params[20:40,3] -ang_res[:,1]))"
   ]
  },
  {
   "cell_type": "code",
   "execution_count": 21,
   "metadata": {},
   "outputs": [
    {
     "data": {
      "text/plain": [
       "array([[ 40.7991, 131.472 ],\n",
       "       [ 40.7991, 244.041 ],\n",
       "       [ 40.7991,  21.5775],\n",
       "       [ 40.7991,  87.1042],\n",
       "       [ 40.7991, 140.485 ],\n",
       "       [ 40.7991, 302.561 ],\n",
       "       [ 32.7505, 200.455 ],\n",
       "       [ 32.7505,  10.9937],\n",
       "       [ 32.7505, 108.132 ],\n",
       "       [ 32.7505,  80.5183]], dtype=float32)"
      ]
     },
     "execution_count": 21,
     "metadata": {},
     "output_type": "execute_result"
    }
   ],
   "source": [
    "ev_params[:10,-2:] "
   ]
  },
  {
   "cell_type": "code",
   "execution_count": 3,
   "metadata": {},
   "outputs": [
    {
     "name": "stdout",
     "output_type": "stream",
     "text": [
      "tf.Tensor(\n",
      "[[  1.690568    -1.6945748   -1.0818156 ]\n",
      " [  0.9904436    1.678957    -9.411423  ]\n",
      " [ -2.192621    -1.1778892   12.180873  ]\n",
      " [  0.66441846  -1.5473608    3.3125598 ]\n",
      " [  1.5665901   -1.3564273   -2.033852  ]\n",
      " [ -0.50638616   1.4255589   -5.9170237 ]\n",
      " [  1.693558     0.80760324  -7.2979884 ]\n",
      " [ -1.1613629   -0.44394162   7.119641  ]\n",
      " [  0.539285    -1.2119058    2.6467204 ]\n",
      " [ -0.36687446  -0.6997201    4.3824077 ]\n",
      " [ -0.8971767   -0.7005648    6.763143  ]\n",
      " [  0.8620558   -1.7710629    4.004331  ]\n",
      " [  1.486538     1.1685897   -8.332845  ]\n",
      " [  0.44323626  -1.4122609    5.4817886 ]\n",
      " [ -1.2110292   -0.6453041    9.464282  ]\n",
      " [ -0.47500038   1.054167    -1.446     ]\n",
      " [ -1.126339    -1.322737     9.62021   ]\n",
      " [ -1.9163822    0.02383728   8.648997  ]\n",
      " [ -0.8919314    1.9643096   -1.9128022 ]\n",
      " [  0.8607137    1.9327376   -7.716711  ]\n",
      " [  0.58633155  -1.741169     4.4970164 ]\n",
      " [ -1.4055791    0.8666418    3.4287083 ]\n",
      " [ -1.594655     1.0198795    2.3299828 ]\n",
      " [ -0.32000008   0.82937634  -1.0217546 ]\n",
      " [ -0.15180506   0.95416635  -1.8223338 ]\n",
      " [ -0.6235394    1.5958371   -2.5787718 ]\n",
      " [  1.1424532   -0.8971336   -1.0533029 ]\n",
      " [ -1.4398547   -0.1629211    7.211702  ]\n",
      " [ -0.8031068    0.41086647   2.7141802 ]\n",
      " [  1.1281954    1.1190281   -8.1832905 ]\n",
      " [  1.7704128   -1.7888564    4.0757537 ]\n",
      " [  1.7274992   -0.46916592  -3.485143  ]\n",
      " [ -0.7115162    0.63431865   0.9643655 ]\n",
      " [ -1.7652754   -0.6166692    8.388334  ]\n",
      " [  1.9311368    0.7050979   -9.509887  ]\n",
      " [ -0.13454796  -1.4618074    6.1425695 ]\n",
      " [  0.6595921    1.9605213   -8.855094  ]\n",
      " [ -1.7910596   -0.8403551   10.695374  ]\n",
      " [ -0.51111126   1.6277778   -2.2949998 ]\n",
      " [  1.0600438    1.1764036   -5.736542  ]\n",
      " [  1.5098451    0.10656714  -6.3683243 ]\n",
      " [  1.2677975   -1.8762705    3.6549046 ]\n",
      " [ -0.94787884   0.9962718   -0.33027342]\n",
      " [ -0.87735075  -0.09059687   4.697004  ]\n",
      " [  0.19503123   0.5694724   -0.87361073]\n",
      " [ -1.0831977    1.2583338    1.6940124 ]\n",
      " [ -0.93348897   1.8830976   -1.8363557 ]\n",
      " [  0.6723805   -0.51523864   0.7218607 ]\n",
      " [  1.50476      0.3059579   -5.4357314 ]\n",
      " [  0.1372532    1.7500006   -5.8060293 ]\n",
      " [  3.433124     0.06242676 -10.523151  ]\n",
      " [ -4.3856997    3.900472     6.1079645 ]\n",
      " [  0.56077564   0.8911611   -5.3647585 ]\n",
      " [ -1.0219891   -0.8231468    7.897768  ]\n",
      " [  2.3097305    0.5547607   -5.5457034 ]\n",
      " [  1.4337668   -0.34519246  -3.2928867 ]\n",
      " [ -0.51289636  -1.8098052   10.168189  ]\n",
      " [ -1.9368324    0.064375     8.107447  ]\n",
      " [ -1.3700796   -0.3521429    7.643935  ]\n",
      " [  1.3726183   -0.77440554  -1.6212804 ]\n",
      " [ -1.8060178    0.83275515   4.3245516 ]\n",
      " [  1.5075303   -1.075004    -1.115676  ]\n",
      " [  0.48666742  -0.16999881   3.4969933 ]\n",
      " [  0.50430405   1.6598626   -6.7150006 ]], shape=(64, 3), dtype=float32)\n",
      "n_z tf.Tensor(\n",
      "[2.3231223 2.7067738 2.220696  2.8793616 2.6138859 2.9728527 2.757923\n",
      " 3.095263  3.0605483 3.2407243 3.1354082 2.691969  2.747927  2.989241\n",
      " 3.040311  3.1288347 2.8474948 2.7300937 2.5441003 2.5787976 2.7840703\n",
      " 2.898237  2.7465289 3.215001  3.1926513 2.8619928 3.0027409 3.0044591\n",
      " 3.2113404 2.932823  2.1890938 2.8146274 3.1965425 2.7622495 2.626794\n",
      " 2.995249  2.6168292 2.685593  2.8662877 2.935793  2.9724588 2.4492443\n",
      " 3.0389907 3.216916  3.2808788 2.893057  2.5901816 3.226288  2.96118\n",
      " 2.836399  0.        0.        3.1651006 3.0666704 2.34177   2.9919312\n",
      " 2.7546403 2.7149653 3.0208242 2.9398496 2.6779318 2.7745664 3.295566\n",
      " 2.8490405], shape=(64,), dtype=float32)\n",
      "tf.Tensor(\n",
      "[[  1.690568    -1.6945748   -1.0818156 ]\n",
      " [  0.9904436    1.678957    -9.411423  ]\n",
      " [ -2.192621    -1.1778892   12.180873  ]\n",
      " [  0.66441846  -1.5473608    3.3125598 ]\n",
      " [  1.5665901   -1.3564273   -2.033852  ]\n",
      " [ -0.50638616   1.4255589   -5.9170237 ]\n",
      " [  1.693558     0.80760324  -7.2979884 ]\n",
      " [ -1.1613629   -0.44394162   7.119641  ]\n",
      " [  0.539285    -1.2119058    2.6467204 ]\n",
      " [ -0.36687446  -0.6997201    4.3824077 ]\n",
      " [ -0.8971767   -0.7005648    6.763143  ]\n",
      " [  0.8620558   -1.7710629    4.004331  ]\n",
      " [  1.486538     1.1685897   -8.332845  ]\n",
      " [  0.44323626  -1.4122609    5.4817886 ]\n",
      " [ -1.2110292   -0.6453041    9.464282  ]\n",
      " [ -0.47500038   1.054167    -1.446     ]\n",
      " [ -1.126339    -1.322737     9.62021   ]\n",
      " [ -1.9163822    0.02383728   8.648997  ]\n",
      " [ -0.8919314    1.9643096   -1.9128022 ]\n",
      " [  0.8607137    1.9327376   -7.716711  ]\n",
      " [  0.58633155  -1.741169     4.4970164 ]\n",
      " [ -1.4055791    0.8666418    3.4287083 ]\n",
      " [ -1.594655     1.0198795    2.3299828 ]\n",
      " [ -0.32000008   0.82937634  -1.0217546 ]\n",
      " [ -0.15180506   0.95416635  -1.8223338 ]\n",
      " [ -0.6235394    1.5958371   -2.5787718 ]\n",
      " [  1.1424532   -0.8971336   -1.0533029 ]\n",
      " [ -1.4398547   -0.1629211    7.211702  ]\n",
      " [ -0.8031068    0.41086647   2.7141802 ]\n",
      " [  1.1281954    1.1190281   -8.1832905 ]\n",
      " [  1.7704128   -1.7888564    4.0757537 ]\n",
      " [  1.7274992   -0.46916592  -3.485143  ]\n",
      " [ -0.7115162    0.63431865   0.9643655 ]\n",
      " [ -1.7652754   -0.6166692    8.388334  ]\n",
      " [  1.9311368    0.7050979   -9.509887  ]\n",
      " [ -0.13454796  -1.4618074    6.1425695 ]\n",
      " [  0.6595921    1.9605213   -8.855094  ]\n",
      " [ -1.7910596   -0.8403551   10.695374  ]\n",
      " [ -0.51111126   1.6277778   -2.2949998 ]\n",
      " [  1.0600438    1.1764036   -5.736542  ]\n",
      " [  1.5098451    0.10656714  -6.3683243 ]\n",
      " [  1.2677975   -1.8762705    3.6549046 ]\n",
      " [ -0.94787884   0.9962718   -0.33027342]\n",
      " [ -0.87735075  -0.09059687   4.697004  ]\n",
      " [  0.19503123   0.5694724   -0.87361073]\n",
      " [ -1.0831977    1.2583338    1.6940124 ]\n",
      " [ -0.93348897   1.8830976   -1.8363557 ]\n",
      " [  0.6723805   -0.51523864   0.7218607 ]\n",
      " [  1.50476      0.3059579   -5.4357314 ]\n",
      " [  0.1372532    1.7500006   -5.8060293 ]\n",
      " [  3.433124     0.06242676 -10.523151  ]\n",
      " [ -4.3856997    3.900472     6.1079645 ]\n",
      " [  0.56077564   0.8911611   -5.3647585 ]\n",
      " [ -1.0219891   -0.8231468    7.897768  ]\n",
      " [  2.3097305    0.5547607   -5.5457034 ]\n",
      " [  1.4337668   -0.34519246  -3.2928867 ]\n",
      " [ -0.51289636  -1.8098052   10.168189  ]\n",
      " [ -1.9368324    0.064375     8.107447  ]\n",
      " [ -1.3700796   -0.3521429    7.643935  ]\n",
      " [  1.3726183   -0.77440554  -1.6212804 ]\n",
      " [ -1.8060178    0.83275515   4.3245516 ]\n",
      " [  1.5075303   -1.075004    -1.115676  ]\n",
      " [  0.48666742  -0.16999881   3.4969933 ]\n",
      " [  0.50430405   1.6598626   -6.7150006 ]], shape=(64, 3), dtype=float32)\n",
      "n_z tf.Tensor(\n",
      "[2.3231223 2.7067738 2.220696  2.8793616 2.6138859 2.9728527 2.757923\n",
      " 3.095263  3.0605483 3.2407243 3.1354082 2.691969  2.747927  2.989241\n",
      " 3.040311  3.1288347 2.8474948 2.7300937 2.5441003 2.5787976 2.7840703\n",
      " 2.898237  2.7465289 3.215001  3.1926513 2.8619928 3.0027409 3.0044591\n",
      " 3.2113404 2.932823  2.1890938 2.8146274 3.1965425 2.7622495 2.626794\n",
      " 2.995249  2.6168292 2.685593  2.8662877 2.935793  2.9724588 2.4492443\n",
      " 3.0389907 3.216916  3.2808788 2.893057  2.5901816 3.226288  2.96118\n",
      " 2.836399  0.        0.        3.1651006 3.0666704 2.34177   2.9919312\n",
      " 2.7546403 2.7149653 3.0208242 2.9398496 2.6779318 2.7745664 3.295566\n",
      " 2.8490405], shape=(64,), dtype=float32)\n"
     ]
    },
    {
     "data": {
      "text/plain": [
       "<tf.Tensor: shape=(64,), dtype=float32, numpy=\n",
       "array([ -45.090675 ,   59.493122 , -151.83202  ,  -66.795746 ,\n",
       "        -40.908295 ,  109.61158  ,   25.507902 , -159.16087  ,\n",
       "        -66.04494  , -117.72843  , -142.08736  ,  -64.07822  ,\n",
       "         38.190773 ,  -72.61241  , -152.02588  ,  114.31395  ,\n",
       "       -130.48126  ,  179.37828  ,  114.47934  ,   66.028435 ,\n",
       "        -71.42547  ,  148.41838  ,  147.47336  ,  111.154564 ,\n",
       "         99.09006  ,  111.39848  ,  -38.16081  , -173.6324   ,\n",
       "        152.98344  ,   44.788975 ,  -45.31987  ,  -15.201984 ,\n",
       "        138.35306  , -160.82552  ,   20.068356 ,  -95.30713  ,\n",
       "         71.44137  , -154.94284  ,  107.48643  ,   48.002686 ,\n",
       "          4.0393744,  -55.981457 ,  133.64186  , -174.19273  ,\n",
       "         71.1309   ,  130.7888   ,  116.42755  ,  -37.481594 ,\n",
       "         11.4989195,   85.55882  ,    1.0422605,  138.42151  ,\n",
       "         57.84859  , -141.22237  ,   13.51256  ,  -13.543718 ,\n",
       "       -105.87633  ,  178.18668  , -165.66962  ,  -29.445803 ,\n",
       "        155.32431  ,  -35.51027  ,  -19.26469  ,   73.1371   ],\n",
       "      dtype=float32)>"
      ]
     },
     "execution_count": 3,
     "metadata": {},
     "output_type": "execute_result"
    }
   ],
   "source": [
    "num = 64\n",
    "h5f = '../../mc_hadrons_qgs34_0010.h5'\n",
    "h5f = '/home3/ivkhar/TA/data/mass_spectrum/old_1223/hadrons/bundled/mc_hadrons_qgs34_0010.h5'\n",
    "with h5py.File(h5f,'r') as hf:\n",
    "    times_flat = hf['pr-q4-9yr/dt'][:num,:,:,4:5]*1e6 # in mks\n",
    "    times_diff = hf['pr-q4-9yr/dt'][:num,:,:,5:6]*1e6 # in mks\n",
    "    mask = hf['pr-q4-9yr/dt'][:num,:,:,6:7]\n",
    "    real_coords = hf['pr-q4-9yr/dt'][:num,:,:,:3] # in 1.2*km\n",
    "    qs = hf['pr-q4-9yr/dt'][:num,:,:,3:4]\n",
    "    ev_params = hf['pr-q3-9yr/ev_params'][:num]\n",
    "    \n",
    "times_reg = times_flat + times_diff\n",
    "mask_qs = tf.where( tf.math.logical_and(mask>0, qs>0), 1., 0. )\n",
    "xs = tf.expand_dims( tf.linspace( 0., 5*1.2, 6 ), axis=-1 )\n",
    "xs = tf.repeat(xs, 6, axis=1)\n",
    "ys = tf.transpose( xs )\n",
    "coords = tf.expand_dims( tf.stack( (xs,ys), axis=-1 ), axis=0 ) # in km\n",
    "c = tf.constant(0.299792458, dtype=tf.float32) # in km\\mks\n",
    "# prepare matricies to solve\n",
    "def make_matrix(coords, times_reg, mask):\n",
    "    \n",
    "    # matrix for dL/db\n",
    "    hs = tf.ones((1,6,6,1)) # to make (x_1,x_2) -> (x_1,x_2,1), to account for b\n",
    "    coords_ext = mask*tf.concat( (coords,hs), axis=-1 ) # (bs,6,6,3)\n",
    "    matrix_b = tf.expand_dims( tf.math.reduce_sum( coords_ext, axis=(1,2) ), axis=-1 ) # (bs,6,6,3,1)\n",
    "    times = mask*times_reg # (bs,6,6,1)\n",
    "    rhs_b = tf.math.reduce_sum( times, axis=(1,2) ) # (bs,1)\n",
    "    \n",
    "    # matrix for dL/da\n",
    "    coords_mul = tf.expand_dims( coords_ext, axis=-1) * tf.expand_dims( coords, axis=-2)\n",
    "    matrix_a = tf.math.reduce_sum( coords_mul, axis=(1,2) ) # (bs,6,6,3,2)\n",
    "    ts_mul = times * coords\n",
    "    rhs_a = tf.math.reduce_sum( ts_mul, axis=(1,2) )\n",
    "    \n",
    "    matrix = tf.concat((matrix_b,matrix_a), axis=-1)\n",
    "    rhs = tf.expand_dims( tf.concat((rhs_b,rhs_a), axis=-1), axis=-1 )\n",
    "    \n",
    "    return matrix, rhs\n",
    "def lin_solve(matrix, rhs):\n",
    "    sol_flat = tf.linalg.solve( matrix, rhs, adjoint=True )[:,:,0]\n",
    "    print(sol_flat)\n",
    "    t0 = sol_flat[:,2]\n",
    "    # extract parameters\n",
    "    n_z = 1/c/c - tf.math.reduce_sum(sol_flat[:,:2]*sol_flat[:,:2], axis=1)\n",
    "    n_z = tf.where( n_z>0, tf.math.sqrt( n_z ), 0. ) # some configurations yield front moving faster than light\n",
    "    print('n_z',n_z)\n",
    "    theta_flat = tf.math.acos( n_z*c )\n",
    "    phi_flat = tf.math.atan2( sol_flat[:,1], sol_flat[:,0] )\n",
    "    \n",
    "    return theta_flat, phi_flat, t0\n",
    "matrix, rhs = make_matrix(coords, times_reg, mask)\n",
    "sol_flat=lin_solve(matrix, rhs)\n",
    "theta, phi, t0 = lin_solve(matrix, rhs) # (bs,)\n",
    "phi/3.14*180\n"
   ]
  },
  {
   "cell_type": "code",
   "execution_count": 162,
   "metadata": {},
   "outputs": [
    {
     "data": {
      "text/plain": [
       "<tf.Tensor: shape=(2, 3, 1), dtype=float32, numpy=\n",
       "array([[[-1.6945673 ],\n",
       "        [ 1.690574  ],\n",
       "        [-1.0818663 ]],\n",
       "\n",
       "       [[ 1.6789589 ],\n",
       "        [ 0.99045706],\n",
       "        [-9.411484  ]]], dtype=float32)>"
      ]
     },
     "execution_count": 162,
     "metadata": {},
     "output_type": "execute_result"
    }
   ],
   "source": [
    "sol[:2]"
   ]
  },
  {
   "cell_type": "code",
   "execution_count": null,
   "metadata": {},
   "outputs": [],
   "source": []
  },
  {
   "cell_type": "code",
   "execution_count": 160,
   "metadata": {},
   "outputs": [
    {
     "data": {
      "text/plain": [
       "array([[[ 0.        ,  0.        ,  0.        ,  0.        ,\n",
       "          0.        ,  0.        ],\n",
       "        [ 0.        ,  0.        ,  0.        ,  0.        ,\n",
       "          0.        ,  0.        ],\n",
       "        [ 0.        ,  0.        ,  0.        , -3.593     ,\n",
       "         -5.576     ,  0.        ],\n",
       "        [ 0.        ,  0.        ,  0.325     , -1.714     ,\n",
       "         -3.748     ,  0.        ],\n",
       "        [ 0.        ,  0.        ,  0.        , -0.125     ,\n",
       "          0.        ,  0.        ],\n",
       "        [ 0.        ,  0.        ,  3.8920002 ,  0.        ,\n",
       "          0.        ,  0.        ]],\n",
       "\n",
       "       [[ 0.        ,  0.        ,  0.        ,  0.        ,\n",
       "          0.        ,  0.        ],\n",
       "        [ 0.        ,  0.        ,  0.        ,  0.        ,\n",
       "          0.        ,  0.        ],\n",
       "        [ 0.        ,  0.        ,  0.        , -1.665     ,\n",
       "          0.        ,  0.        ],\n",
       "        [ 0.        ,  0.        , -2.3170002 , -0.62      ,\n",
       "          1.778     ,  0.        ],\n",
       "        [ 0.        ,  0.        , -1.892     ,  0.492     ,\n",
       "          2.87      ,  0.        ],\n",
       "        [ 0.        ,  0.        ,  0.        ,  0.        ,\n",
       "          0.        ,  0.        ]],\n",
       "\n",
       "       [[ 0.        ,  0.        ,  0.        ,  0.        ,\n",
       "          0.        ,  0.        ],\n",
       "        [ 0.        ,  0.        ,  0.        ,  0.        ,\n",
       "          0.        ,  0.        ],\n",
       "        [ 0.        ,  0.        ,  0.        ,  1.186     ,\n",
       "          0.164     ,  0.        ],\n",
       "        [ 0.        ,  0.        , -0.033     , -1.0669999 ,\n",
       "         -2.096     , -3.118     ],\n",
       "        [ 0.        ,  0.        ,  0.        , -3.316     ,\n",
       "          0.        ,  0.        ],\n",
       "        [ 0.        ,  0.        ,  0.        ,  0.        ,\n",
       "          0.        ,  0.        ]],\n",
       "\n",
       "       ...,\n",
       "\n",
       "       [[ 0.        ,  0.        ,  0.        ,  0.        ,\n",
       "          0.        ,  0.        ],\n",
       "        [ 0.        ,  0.        ,  0.        ,  0.        ,\n",
       "          0.        ,  0.        ],\n",
       "        [ 0.        ,  0.        ,  0.        , -1.95      ,\n",
       "          0.        ,  0.        ],\n",
       "        [ 0.        ,  0.        ,  1.0899999 , -0.146     ,\n",
       "         -1.4250001 ,  0.        ],\n",
       "        [ 0.        ,  0.        ,  2.866     ,  1.623     ,\n",
       "          0.35799998,  0.        ],\n",
       "        [ 0.        ,  0.        ,  0.        ,  0.        ,\n",
       "          0.        ,  0.        ]],\n",
       "\n",
       "       [[ 0.        ,  0.        ,  0.        ,  0.        ,\n",
       "          0.        ,  0.        ],\n",
       "        [ 0.        ,  0.        ,  0.        ,  0.        ,\n",
       "          0.        ,  0.        ],\n",
       "        [ 0.        ,  2.1139998 ,  1.353     ,  0.592     ,\n",
       "         -0.162     ,  0.        ],\n",
       "        [ 0.        ,  0.        , -0.58      , -1.3410001 ,\n",
       "         -2.098     ,  0.        ],\n",
       "        [ 0.        ,  0.        ,  0.        ,  0.        ,\n",
       "         -4.0220003 ,  0.        ],\n",
       "        [ 0.        ,  0.        ,  0.        ,  0.        ,\n",
       "          0.        ,  0.        ]],\n",
       "\n",
       "       [[ 0.        ,  0.        ,  0.        ,  0.        ,\n",
       "          0.        ,  0.        ],\n",
       "        [ 0.        ,  0.        ,  0.        ,  0.        ,\n",
       "          0.        ,  0.        ],\n",
       "        [ 0.        ,  0.        , -2.858     , -1.072     ,\n",
       "          0.94699997,  0.        ],\n",
       "        [ 0.        ,  0.        , -1.666     ,  0.325     ,\n",
       "          1.9920001 ,  0.        ],\n",
       "        [ 0.        ,  0.        , -0.451     ,  1.343     ,\n",
       "          0.        ,  0.        ],\n",
       "        [ 0.        ,  0.        ,  0.        ,  0.        ,\n",
       "          0.        ,  0.        ]]], dtype=float32)"
      ]
     },
     "execution_count": 160,
     "metadata": {},
     "output_type": "execute_result"
    }
   ],
   "source": [
    "t0_ext = t0[:,tf.newaxis,tf.newaxis]\n",
    "nx = 1/c*tf.math.sin(theta)[:,tf.newaxis,tf.newaxis] * tf.math.cos(phi)[:,tf.newaxis,tf.newaxis]\n",
    "ny = 1/c*tf.math.sin(theta)[:,tf.newaxis,tf.newaxis] * tf.math.sin(phi)[:,tf.newaxis,tf.newaxis]\n",
    "a = tf.concat((nx,ny), axis=-1)\n",
    "a = tf.expand_dims( a, axis=1 )\n",
    "\n",
    "t_rec = t0_ext + tf.math.reduce_sum( a*coords, axis=-1 )\n",
    "t_rec = t_rec*mask[:,:,:,0]\n",
    "times_flat[:,:,:,0]*mask[:,:,:,0]"
   ]
  },
  {
   "cell_type": "code",
   "execution_count": null,
   "metadata": {},
   "outputs": [],
   "source": []
  }
 ],
 "metadata": {
  "kernelspec": {
   "display_name": "Python 3",
   "language": "python",
   "name": "python3"
  },
  "language_info": {
   "codemirror_mode": {
    "name": "ipython",
    "version": 3
   },
   "file_extension": ".py",
   "mimetype": "text/x-python",
   "name": "python",
   "nbconvert_exporter": "python",
   "pygments_lexer": "ipython3",
   "version": "3.6.10"
  }
 },
 "nbformat": 4,
 "nbformat_minor": 4
}
