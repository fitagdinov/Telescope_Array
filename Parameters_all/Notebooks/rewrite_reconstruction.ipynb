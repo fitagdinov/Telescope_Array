{
 "cells": [
  {
   "cell_type": "code",
   "execution_count": 635,
   "metadata": {},
   "outputs": [],
   "source": [
    "import numpy as np\n",
    "import matplotlib.pyplot as plt\n",
    "import tensorflow as tf\n",
    "import pandas as pd\n",
    "import seaborn as sns\n",
    "import h5py\n",
    "import tqdm\n",
    "import zipfile\n",
    "from tqdm.notebook import tqdm_notebook\n",
    "from progress.bar import IncrementalBar\n",
    "import copy\n",
    "import random\n",
    "import pandas as pd\n",
    "import time\n",
    "import os\n",
    "import math\n",
    "from joblib import Parallel, delayed\n",
    "# tf.config.run_functions_eagerly(True)\n",
    "%matplotlib inline\n",
    "np.set_printoptions(suppress=True)"
   ]
  },
  {
   "cell_type": "code",
   "execution_count": 2,
   "metadata": {},
   "outputs": [],
   "source": [
    "param_names=['signal','pl_fr','real_wf-pl_fr','mask']"
   ]
  },
  {
   "cell_type": "code",
   "execution_count": 3,
   "metadata": {},
   "outputs": [],
   "source": [
    "def norming(data,param_names=param_names,log=True):\n",
    "    \n",
    "    # ADD LOGARIFM FOR SIGNAL\n",
    "    norm_params={}\n",
    "    for i in range(data.shape[-1]):\n",
    "        if (i==0 and log):\n",
    "            data[:,:,:,i]=tf.math.log(data[:,:,:,i]+1)\n",
    "        max_c=data[:,:,:,i].max()\n",
    "        min_c=data[:,:,:,i].min()\n",
    "        mean_c=data[:,:,:,i].mean()\n",
    "        std_c=data[:,:,:,i].std()\n",
    "        print(max_c,min_c)\n",
    "        data[:,:,:,i]=(data[:,:,:,i]-min_c)/(max_c-min_c)\n",
    "\n",
    "        norm_params[param_names[i]]=np.array([max_c,min_c])\n",
    "    return norm_params\n",
    "def renormin(data_not_change,norm_params,param_names=param_names,log=True):\n",
    "    data=np.copy(data_not_change)\n",
    "    for i in range(data.shape[-1]):\n",
    "        max_c, min_c=norm_params[param_names[i]]\n",
    "        data[:,:,:,i]=data[:,:,:,i]*(max_c-min_c) + min_c\n",
    "        if (i==0 and log):\n",
    "            data[:,:,:,i]=tf.math.exp(data[:,:,:,i])-1\n",
    "        elif (i==1 or i==2):\n",
    "            data[:,:,:,i]=data[:,:,:,i]*1e6\n",
    "    return data"
   ]
  },
  {
   "cell_type": "code",
   "execution_count": 519,
   "metadata": {},
   "outputs": [
    {
     "name": "stdout",
     "output_type": "stream",
     "text": [
      "(268322, 6, 6, 7)\n",
      "len data:  2000\n"
     ]
    }
   ],
   "source": [
    "path='../../mc_hadrons_qgs34_0010.h5'\n",
    "data_name='pr-q4-9yr'\n",
    "data=np.zeros((0,6,6,4))\n",
    "with h5py.File(path,'r') as f:\n",
    "    print(f[data_name]['dt'].shape)\n",
    "    data=np.concatenate((data,f[data_name]['dt'][:2000,:,:,3:7]))\n",
    "    gp=f[data_name]['gp'][()]\n",
    "    ev_params=f[data_name]['ev_params'][()]\n",
    "# data=data[1:]\n",
    "data[:,:,:,1]=data[:,:,:,1]*1e6\n",
    "data[:,:,:,2]=data[:,:,:,2]*1e6\n",
    "print('len data: ',len(data))"
   ]
  },
  {
   "cell_type": "code",
   "execution_count": 522,
   "metadata": {},
   "outputs": [],
   "source": [
    "# new data\n",
    "path='../../data_01_24.h5'\n",
    "num_ev=2000\n",
    "with h5py.File(path,'r') as f:\n",
    "    data=f['dt_bunlde'][:num_ev,:,:,3:7]\n",
    "    detectors_rub = f['dt_bunlde'][:num_ev,:,:,:3] * 1.2\n",
    "    ev_params = f['recos'][:num_ev,:2]\n",
    "    real_ang = f['mc_params'][:num_ev,4:6]"
   ]
  },
  {
   "cell_type": "code",
   "execution_count": 523,
   "metadata": {},
   "outputs": [
    {
     "data": {
      "text/plain": [
       "array([[ 0.   ,  0.   ,  0.   ,  0.   ,  0.   ,  0.   ],\n",
       "       [ 0.   ,  0.   ,  0.   , -2.313, -4.545,  0.   ],\n",
       "       [ 0.   ,  0.   ,  1.186, -1.155, -3.481,  0.   ],\n",
       "       [ 0.   ,  0.   ,  2.256, -0.297,  0.   ,  0.   ],\n",
       "       [ 0.   ,  0.   ,  3.27 ,  0.   ,  0.   ,  0.   ],\n",
       "       [ 0.   ,  0.   ,  0.   ,  0.   ,  0.   ,  0.   ]], dtype=float32)"
      ]
     },
     "execution_count": 523,
     "metadata": {},
     "output_type": "execute_result"
    }
   ],
   "source": [
    "data[0,:,:,1]"
   ]
  },
  {
   "cell_type": "markdown",
   "metadata": {},
   "source": [
    "# Constant"
   ]
  },
  {
   "cell_type": "code",
   "execution_count": 524,
   "metadata": {},
   "outputs": [],
   "source": [
    "pi = tf.constant(math.pi)\n",
    "UNIT=1\n",
    "dist=tf.constant(1.2,dtype=tf.float32)# min dist between 2 detectors in km\n",
    "c=tf.constant(299792.458,dtype=tf.float32)# # km\\s\n",
    "NSEC= 1e6/c# in rubsov's code is a time for 1.2 km 1.2/c*1e9\n",
    "R_L=30e-3\n",
    "LINSLEY_r0=0.025\n",
    "Det_Area=30\n",
    "tf_type=tf.float32\n",
    "s_min = tf.constant([[0.3]])\n",
    "s_max = tf.constant([[1.8]])\n",
    "t_err_res=c/1e6\n",
    "t0_err=30"
   ]
  },
  {
   "cell_type": "code",
   "execution_count": 525,
   "metadata": {},
   "outputs": [],
   "source": [
    "def reduce_saturation(data,ret_sig=True):\n",
    "    max_signal=tf.reduce_max(data[:,:,:,0])\n",
    "    signal=data[:,:,:,0]\n",
    "    mask=data[:,:,:,3]\n",
    "#     print('old signal \\n',signal)\n",
    "#     print('old mask \\n',mask)\n",
    "    new_mask=tf.where(tf.logical_and(mask!=0,signal==0),0,mask)\n",
    "    new_signal=tf.where(tf.logical_and(mask!=0,signal==0),max_signal,signal)\n",
    "    res=tf.where(tf.logical_and(mask!=0,signal==0),1,0)\n",
    "    print(tf.reduce_sum(res))\n",
    "    if ret_sig:\n",
    "        return new_signal\n",
    "    else:\n",
    "        return new_mask"
   ]
  },
  {
   "cell_type": "code",
   "execution_count": 526,
   "metadata": {},
   "outputs": [],
   "source": [
    "# pi = tf.constant(math.pi)\n",
    "# UNIT=1\n",
    "# dist=tf.constant(1.2,dtype=tf.float32)# min dist between 2 detectors in km\n",
    "# c=tf.constant(299792.458,dtype=tf.float32)# # km\\s\n",
    "# NSEC= 1e6/c# in rubsov's code is a time for 1.2 km 1.2/c*1e9\n",
    "# R_L=30e-3\n",
    "# LINSLEY_r0=0.025\n",
    "# Det_Area=30\n",
    "# tf_type=tf.float32\n",
    "# s_min = tf.constant([[0.3]])\n",
    "# s_max = tf.constant([[1.8]])\n",
    "# t_err_res=c/1e6\n",
    "# t0_err=30\n",
    "class Reconstruction():\n",
    "    #constants\n",
    "    pi = tf.constant(math.pi,dtype=tf.float32)\n",
    "    UNIT=1\n",
    "    dist=tf.constant(1.2,dtype=tf.float32)# min dist between 2 detectors in km\n",
    "    c=tf.constant(299792.458,dtype=tf.float32)# # km\\s\n",
    "    NSEC= tf.constant(1e9/c,dtype=tf.float32)# in rubsov's code is a time for 1.2 km 1.2/c*1e9\n",
    "    R_L=tf.constant(30e-3,dtype=tf.float32)#\n",
    "    LINSLEY_r0=tf.constant(0.025,dtype=tf.float32)#\n",
    "    DET_AREA=tf.constant(3,dtype=tf.float32)#\n",
    "    s_min = tf.constant([[0.3]],dtype=tf.float32)\n",
    "    s_max = tf.constant([[1.8]],dtype=tf.float32)\n",
    "    t_err_res=tf.constant(c/1e6,dtype=tf.float32)#\n",
    "    t0_err=tf.constant(30,dtype=tf.float32)#\n",
    "    dist=tf.constant(1.2,dtype=tf.float32)# min dist between 2 detectors in km\n",
    "    \n",
    "    def __init__(self,data,tf_type):\n",
    "        # all have shape (batch,6,6,1)\n",
    "        self.tf_type = tf_type\n",
    "        self.data=tf.cast(data,self.tf_type)\n",
    "        self.mask = tf.expand_dims(data[:,:,:,3],-1)\n",
    "        self.signal = tf.expand_dims(data[:,:,:,0],-1)*self.mask\n",
    "        self.mask = tf.where(self.signal==0,0,self.mask)\n",
    "        self.real_time = tf.expand_dims((data[:,:,:,1] + data[:,:,:,2]),-1)*self.mask \n",
    "        self.signal = tf.cast(self.signal,self.tf_type)\n",
    "        self.real_time = tf.cast(self.real_time,self.tf_type)\n",
    "        self.mask = tf.cast(self.mask,self.tf_type)\n",
    "        self.batch = data.shape[0]\n",
    "        self.t0 = None\n",
    "        self.theta = None\n",
    "        self.detertors_coord = None\n",
    "        self.core = None\n",
    "        self.t_place = None\n",
    "        self.courve = None\n",
    "        self.R_error = 0.15\n",
    "        self.S_X=None\n",
    "        self.LDF=None\n",
    "#     @classmethod\n",
    "    def detectors_init(self):\n",
    "        x = tf.cast(tf.repeat(tf.expand_dims(tf.range(0,6),0),6,axis=0),self.tf_type)\n",
    "        y = tf.cast(tf.repeat(tf.expand_dims(tf.range(0,6),1),6,axis=1),self.tf_type)\n",
    "        x = tf.expand_dims(x,-1)\n",
    "        y = tf.expand_dims(y,-1)\n",
    "        # x.shape = (6,6,1)\n",
    "        detectors = tf.concat([x,y],axis=-1) * self.dist\n",
    "        \n",
    "        #detectors.shape = (batch,6,6,2) in km\n",
    "        detectors = tf.repeat(tf.expand_dims(detectors,0),self.batch,0)\n",
    "        self.detertors_coord=detectors\n",
    "        return detectors\n",
    "#     @classmethod\n",
    "    def core_(self):\n",
    "        detectors = self.detectors_init() # shape (batch,6,6,2)\n",
    "        sum_signal=tf.reduce_sum(self.signal,axis=(1,2)) # shape (batch ,1)\n",
    "        core=tf.reduce_sum(detectors * self.signal, axis=(1,2))/sum_signal\n",
    "        #update self\n",
    "        self.core = core\n",
    "        return core\n",
    "    @staticmethod\n",
    "    def expand_dims(vec):\n",
    "        return tf.expand_dims(tf.expand_dims(vec,-1),-1)\n",
    "    def create_matrix(self,x,y,t,mask):\n",
    "        a11=self.expand_dims(tf.reduce_sum(x*x,axis=1))\n",
    "        a12=self.expand_dims(tf.reduce_sum(x*y,axis=1))\n",
    "        a13=self.expand_dims(tf.reduce_sum(x,axis=1))\n",
    "        a22=self.expand_dims(tf.reduce_sum(y*y,axis=1))\n",
    "        a23=self.expand_dims(tf.reduce_sum(y,axis=1))\n",
    "        a33=self.expand_dims(tf.reduce_sum(mask,axis=1))\n",
    "        a1=tf.concat([a11,a12,a13],axis=2)\n",
    "        a2=tf.concat([a12,a22,a23],axis=2)\n",
    "        a3=tf.concat([a13,a23,a33],axis=2)\n",
    "        A=tf.concat([a1,a2,a3],axis=1)\n",
    "\n",
    "        b1=self.expand_dims(tf.reduce_sum(x*t,axis=1))\n",
    "        b2=self.expand_dims(tf.reduce_sum(y*t,axis=1))\n",
    "        b3=self.expand_dims(tf.reduce_sum(t,axis=1))\n",
    "        b=tf.concat([b1,b2,b3],axis=1)\n",
    "        return A,b\n",
    "    def place_sol(self):\n",
    "        real_time=self.real_time\n",
    "        mask=self.mask\n",
    "        detectors = self.detectors_core() * mask\n",
    "        x = tf.reshape(detectors[:,:,:,0],(-1,36))\n",
    "        y = tf.reshape(detectors[:,:,:,1],(-1,36))\n",
    "        t = tf.reshape(real_time,(-1,36))\n",
    "        mask = tf.reshape(mask,(-1,36))\n",
    "        A,b=self.create_matrix(x,y,t,mask)\n",
    "        return tf.linalg.solve(A,b)\n",
    "#     @classmethod\n",
    "    def place_params(self):\n",
    "        c = self.c\n",
    "        pi =self.pi\n",
    "        sol = self.place_sol()\n",
    "        #t_0=b+(r_cor;n)\n",
    "        b=sol[:,2:,0]\n",
    "        n=sol[:,:2,0]\n",
    "        core = self.core_()\n",
    "        mul=n[:,0]*core[:,0]+n[:,1]*core[:,1]\n",
    "        t0=b\n",
    "        a_x=n[:,0]\n",
    "        a_y=n[:,1]\n",
    "#         print(a_x.dtype,(1e6/c).dtype,c.dtype)\n",
    "        a_z=tf.math.pow(1e6/c,2) - (tf.math.pow(a_x,2) + tf.math.pow(a_y,2))\n",
    "        a_z=tf.where(a_z>0,tf.math.sqrt(a_z),0)\n",
    "        cos_theta=a_z*(c/1e6)\n",
    "        theta=tf.math.acos(cos_theta)\n",
    "        tg_phi=a_x/(-a_y)\n",
    "        atan=tf.math.atan(tg_phi)\n",
    "        phi=tf.where(a_y>0,atan+pi,atan-pi)\n",
    "        phi=tf.where(a_x<0,atan,phi)\n",
    "        phi = tf.math.atan2( -a_x, -a_y )\n",
    "        # update self\n",
    "        self.phi = phi\n",
    "        self.theta = theta\n",
    "        self.t0=t0\n",
    "        return t0,tf.expand_dims(theta,-1),tf.expand_dims(phi,-1)\n",
    "    def detectors_core(self):\n",
    "        detectors=self.detertors_coord\n",
    "        core = self.core\n",
    "        detectors_c=detectors-tf.reshape(core,(-1,1,1,2))\n",
    "        return detectors_c\n",
    "    def detectors_core_static(self,core):\n",
    "        detectors=self.detertors_coord\n",
    "#         core = self.core\n",
    "        detectors_c=detectors-tf.reshape(core,(-1,1,1,2))\n",
    "        return detectors_c\n",
    "#     @classmethod\n",
    "    def place_reconstruction(self):\n",
    "        c = self.c\n",
    "        t0,theta,phi = self.place_params()\n",
    "        detectors = self.detectors_core()\n",
    "        detectors = self.detertors_coord\n",
    "#         print(detectors)\n",
    "        t0=self.expand_dims(t0) # shape (batch,1,1,1)\n",
    "        theta=self.expand_dims(theta)\n",
    "        phi = self.expand_dims(phi)\n",
    "        n=-tf.concat([tf.math.cos(phi)*tf.math.sin(theta),tf.math.sin(phi)*tf.math.sin(theta)],axis=-1)*(1e6/c)\n",
    "#         print(n)\n",
    "        t_place =  t0 + detectors[:,:,:,1:2]*n[:,:,:,0:1] + detectors[:,:,:,0:1]*n[:,:,:,1:2]\n",
    "        t_place = t_place*self.mask\n",
    "        self.t_place = t_place*self.mask\n",
    "        return self.t_place\n",
    "    def place_reconstruction_static(self,t0,theta,phi,core):\n",
    "        c=self.c\n",
    "        detectors = self.detectors_core_static(core)\n",
    "#         detectors = self.detertors_coord\n",
    "#         detectors = \n",
    "        t0=self.expand_dims(t0) # shape (batch,1,1,1)\n",
    "        theta=self.expand_dims(theta)\n",
    "        phi = self.expand_dims(phi)\n",
    "        n=-tf.concat([tf.math.cos(phi)*tf.math.sin(theta),tf.math.sin(phi)*tf.math.sin(theta)],axis=-1)*(1e6/c)\n",
    "#         print(n)\n",
    "        t_place =  t0 + detectors[:,:,:,1:2]*n[:,:,:,0:1] + detectors[:,:,:,0:1]*n[:,:,:,1:2]\n",
    "        t_place = t_place*self.mask\n",
    "        self.t_place = t_place*self.mask\n",
    "        return self.t_place\n",
    "    @staticmethod\n",
    "    def eta_fun(theta):\n",
    "        x=theta*180/3.14\n",
    "\n",
    "        e1 = 3.97 - 1.79*(tf.math.abs(1.0/tf.math.cos(theta)) - 1.0)\n",
    "        e2 = ((((((-1.71299934e-10*x + 4.23849411e-08)*x -3.76192000e-06)*x\n",
    "                   + 1.35747298e-04)*x -2.18241567e-03)*x + 1.18960682e-02)*x\n",
    "                 + 3.70692527e+00)\n",
    "        res = tf.where(x<62.7,e1,e2)\n",
    "        # check\n",
    "        res =tf.where(res>0,res,0)\n",
    "        return res\n",
    "    def s_profile_tasimple(self,r_ta,theta):\n",
    "        r = r_ta\n",
    "        eta=self.eta_fun(theta)# batch,1,1\n",
    "        eta=tf.repeat(eta,6,axis=1)\n",
    "        eta=tf.repeat(eta,6,axis=2)\n",
    "        # eta shape is batch,6,6\n",
    "        Rm = tf.constant(0.09,dtype=tf.float32)\n",
    "        R1 = tf.constant(1,dtype=tf.float32)\n",
    "        return (tf.math.pow((r/Rm),-1.2)*tf.math.pow((1+r/Rm), -(eta-1.2))*tf.math.pow(1+(tf.math.pow(r,2)/R1/R1),-0.6))\n",
    "    def s_profile(self,r_ta, theta):\n",
    "        #r_ta shape batch,6,6\n",
    "        f800=self.s_profile_tasimple(self.expand_dims(tf.constant(0.8)), theta)\n",
    "        return self.s_profile_tasimple(r_ta, theta)/f800\n",
    "    def pfs__pps(self):\n",
    "        s_min = self.s_min\n",
    "        s_max = self.s_max\n",
    "        t0,theta,phi = self.place_params()\n",
    "        # u can read from t_place if in place_reconstruction use core shift\n",
    "        detectors = self.detectors_core()\n",
    "        t0=self.expand_dims(t0) # shape (batch,1,1,1)\n",
    "        theta=self.expand_dims(theta)\n",
    "        phi = self.expand_dims(phi)\n",
    "        n=-tf.concat([tf.math.cos(phi)*tf.math.sin(theta),tf.math.sin(phi)*tf.math.sin(theta)],axis=-1)\n",
    "        t_place = detectors[:,:,:,1:2]*n[:,:,:,0:1] + detectors[:,:,:,0:1]*n[:,:,:,1:2] # not has t0\n",
    "        # end t_place's part\n",
    "        dist_core = tf.expand_dims(tf.reduce_sum(tf.math.pow(detectors,2),axis=-1),axis=-1) - tf.math.pow(t_place,2)\n",
    "        dist_core = tf.where(dist_core>0,tf.math.sqrt(dist_core),0)\n",
    "        cond_dist = tf.cast(tf.where(tf.logical_and(dist_core>s_min,dist_core<s_max),self.mask,0.),self.tf_type)\n",
    "        pfs = tf.reduce_sum(self.signal*cond_dist,axis=(1,2))\n",
    "        pps = tf.reduce_sum(self.s_profile(dist_core,theta)*cond_dist,axis=(1,2))\n",
    "        return (pfs,pps)\n",
    "#     @staticmethod\n",
    "    def a_ivanov_fun(self,theta):\n",
    "        pi =self.pi\n",
    "        DEG=pi/180\n",
    "        threshold1=25*DEG\n",
    "        threshold2=35*DEG\n",
    "        # переписать для обнавления масива\n",
    "        res1=tf.where(theta<threshold1,3.3836 - 0.01848*theta/DEG,0)\n",
    "        res3=tf.where(theta>threshold2,tf.math.exp(-3.2e-2*theta/DEG + 2.0),0)\n",
    "        a=(0.6511268210e-4*(theta/DEG-0.2614963683))*(theta/DEG*theta/DEG-134.7902422*theta/DEG+4558.524091)\n",
    "        res2=tf.where(tf.math.logical_and(theta > threshold1,theta < threshold2),a,0)\n",
    "        return res1+res2+res3\n",
    "    \n",
    "    def courve_fun(self):\n",
    "        a_ivanov = self.a_ivanov_fun(self.theta)\n",
    "        pfs,pps = self.pfs__pps()\n",
    "        # norming\n",
    "        S_X = tf.where(pps>1e-10,pfs/pps,1)[:,0]\n",
    "        self.S_X=tf.expand_dims(S_X,-1)\n",
    "        courve = tf.expand_dims(a_ivanov*1.3/tf.math.sqrt(S_X),axis=-1)\n",
    "        self.courve = courve\n",
    "        return courve\n",
    "#     @staticmethod\n",
    "    def linsley_t(self,r,S):\n",
    "        LINSLEY_r0 = self.LINSLEY_r0\n",
    "        return 0.67*tf.math.pow((1 + r/LINSLEY_r0), 1.5)*tf.math.pow(S, -0.5)/1e3\n",
    "    def courve_reconstruction(self):\n",
    "        \n",
    "        s_min = self.s_min\n",
    "        s_max = self.s_max\n",
    "        \n",
    "        t0,theta,phi = self.place_params()\n",
    "        # u can read from t_place if in place_reconstruction use core shift\n",
    "        detectors = self.detectors_core()\n",
    "        t0=self.expand_dims(t0) # shape (batch,1,1,1)\n",
    "        theta=self.expand_dims(theta)\n",
    "        phi = self.expand_dims(phi)\n",
    "        n=-tf.concat([tf.math.cos(phi)*tf.math.sin(theta),tf.math.sin(phi)*tf.math.sin(theta)],axis=-1)\n",
    "        t_place = detectors[:,:,:,1:2]*n[:,:,:,0:1] + detectors[:,:,:,0:1]*n[:,:,:,1:2]\n",
    "        dist_core = tf.expand_dims(tf.reduce_sum(tf.math.pow(detectors,2),axis=-1),axis=-1) - tf.math.pow(t_place,2)\n",
    "        dist_core = tf.where(dist_core>0,tf.math.sqrt(dist_core),0)\n",
    "        LDF=self.s_profile(dist_core,theta)\n",
    "        self.LDF=LDF\n",
    "        td=self.expand_dims(self.courve)*self.linsley_t(dist_core,LDF)/self.NSEC\n",
    "        return td\n",
    "    def courve_reconstruction_static(self,t0,theta,phi,courve,core):\n",
    "        s_min = self.s_min\n",
    "        s_max = self.s_max\n",
    "#         t0,theta,phi = self.place_params()\n",
    "        # u can read from t_place if in place_reconstruction use core shift\n",
    "        detectors = self.detectors_core_static(core)\n",
    "#         ???\n",
    "        detectors = self.detectors_core()\n",
    "        t0=self.expand_dims(t0) # shape (batch,1,1,1)\n",
    "        theta=self.expand_dims(theta)\n",
    "        phi = self.expand_dims(phi)\n",
    "        n=-tf.concat([tf.math.cos(phi)*tf.math.sin(theta),tf.math.sin(phi)*tf.math.sin(theta)],axis=-1)\n",
    "        t_place = detectors[:,:,:,1:2]*n[:,:,:,0:1] + detectors[:,:,:,0:1]*n[:,:,:,1:2]\n",
    "        dist_core = tf.expand_dims(tf.reduce_sum(tf.math.pow(detectors,2),axis=-1),axis=-1) - tf.math.pow(t_place,2)\n",
    "        # add R-error\n",
    "        dist_core = tf.where(dist_core>self.R_error*self.R_error,tf.math.sqrt(dist_core),self.R_error)\n",
    "        LDF=self.s_profile(dist_core,theta)\n",
    "        self.LDF=LDF\n",
    "        td=self.expand_dims(courve)*self.linsley_t(dist_core,LDF)/self.NSEC\n",
    "        return td,LDF\n",
    "    @staticmethod\n",
    "    def logPua(n,nbar):\n",
    "        print(n.shape,nbar.shape)\n",
    "        last_part = 2*(n*tf.math.log(nbar/(n+1e-8)) + (n - nbar))\n",
    "\n",
    "        nbar_logical=tf.where(nbar < 1e-90,True,False)\n",
    "        n_logical1 = tf.where(n>1e-90,True,False)\n",
    "        res = tf.zeros_like(n)\n",
    "        res=tf.where(tf.logical_and(nbar_logical,n_logical1),-1e-6,res)\n",
    "\n",
    "        else_nbar_logical = tf.logical_not(nbar_logical) \n",
    "        n_logical2 = tf.where(n<1e-20,True,False)\n",
    "\n",
    "        res=tf.where(tf.logical_and(else_nbar_logical,n_logical2),-2*nbar,res)\n",
    "        res=tf.where(tf.logical_and(else_nbar_logical,tf.logical_not(n_logical2)),last_part,res)\n",
    "        return res\n",
    "    def chi2L(self,S_X,s_prof):\n",
    "        mask=self.mask\n",
    "        s_fit = self.expand_dims(S_X)*s_prof*mask\n",
    "#         print('SX',self.expand_dims(S_X),'\\ns_prof',s_prof[:,:,:,0],'\\n sift',s_fit[:,:,:,0])\n",
    "        qs=self.signal\n",
    "        s_sigma2 = ( 2*qs/self.DET_AREA + tf.math.pow( 0.15*qs, 2 ) + 1e-6 )\n",
    "        maskL2 = tf.where(qs>4.0,mask,0)\n",
    "        S=S_X\n",
    "#         print(s_fit[:,:,:,0],qs[:,:,:,0])\n",
    "        chi2L2=tf.reduce_sum((qs - s_fit)*(qs - s_fit)/s_sigma2*maskL2,axis=(1,2))\n",
    "        maskL3 = tf.where(s_fit<4.0,mask,0)\n",
    "#         chi2L3 = -tf.reduce_sum(0.4*self.logPua(S*self.DET_AREA, s_fit*self.DET_AREA)*maskL3,axis=(1,2))\n",
    "#         print(chi2L2.shape,chi3L.shape)\n",
    "        return chi2L2  #+ chi3L\n",
    "    def optimization(self,iterats,num):\n",
    "        Adam = tf.keras.optimizers.Adam()\n",
    "        # add ch2_L\n",
    "        self.detectors_init()\n",
    "        self.core_()\n",
    "        self.place_sol()\n",
    "        # ??? don't work without that \n",
    "        pfs,pps= rec.pfs__pps()\n",
    "        rec.courve_fun()\n",
    "        chi_list=[]\n",
    "        self.place_params()\n",
    "        t0=self.t0\n",
    "        theta=tf.expand_dims(self.theta,-1)\n",
    "        phi=tf.expand_dims(self.phi,-1)\n",
    "        core = self.core\n",
    "        courve= self.courve\n",
    "        S_X = self.S_X\n",
    "#         print(S_X)\n",
    "        par = [t0,theta,phi,courve,core,S_X]\n",
    "        params=[tf.Variable(p, True) for p in par]\n",
    "#         params=tf.concat([t0,theta,phi,courve,core,S_X],axis=1)\n",
    "        params_list=[]\n",
    "        params_list.append(params)\n",
    "        for i in tqdm.notebook.tqdm_notebook(range(iterats)):\n",
    "            with tf.GradientTape() as gr:  \n",
    "                gr.watch(params)\n",
    "#                 self.t0=params[:,0:1]\n",
    "#                 self.theta=params[:,1:2]\n",
    "#                 self.phi=params[:,2:3]\n",
    "#                 self.courve=params[:,3:4]\n",
    "#                 self.core=params[:,4:6]\n",
    "#                 self.S_X=params[:,6:7]\n",
    "                \n",
    "#                 t0=params[:,0:1]\n",
    "#                 theta=params[:,1:2]\n",
    "#                 phi=params[:,2:3]\n",
    "#                 courve=params[:,3:4]\n",
    "#                 core=params[:,4:6]\n",
    "#                 S_X=params[:,6:7]\n",
    "                \n",
    "                # for list\n",
    "                self.t0=params[0]\n",
    "                self.theta=params[1]\n",
    "                self.phi=params[2]\n",
    "                self.courve=params[3]\n",
    "                self.core=params[4]\n",
    "                self.S_X=params[5]\n",
    "                \n",
    "                t0=params[0]\n",
    "                theta=params[1]\n",
    "                phi=params[2]\n",
    "                courve=params[3]\n",
    "                core=params[4]\n",
    "                S_X=params[5]\n",
    "                t_place = self.place_reconstruction_static(t0,theta,phi,core)\n",
    "                td,LDF = self.courve_reconstruction_static(t0,theta,phi,courve,core)  #update LDF <==> s_profile\n",
    "                t_sigma2=(self.t0_err*self.t0_err + td*td) * self.t_err_res\n",
    "                time_reco = t_place +td\n",
    "                chi_T=tf.reduce_sum(tf.math.pow((time_reco-self.real_time)*self.mask,2)/t_sigma2,axis=(1,2))\n",
    "                chi_L=self.chi2L(S_X,LDF)\n",
    "                chi = chi_T +chi_L\n",
    "                \n",
    "#                 print(tf.reduce_mean(chi_T),tf.reduce_mean(chi_L),end='\\r')\n",
    "                if num:\n",
    "                    print(chi_T[num],chi_L[num],[np.array(i[num]) for i in params],end='\\r')\n",
    "                chi_list.append(chi)\n",
    "                grad=gr.gradient(chi,params)\n",
    "#                 grad = grad* tf.constant()\n",
    "#                 print(grad)\n",
    "#                 print('grad',[i[25] for i in grad])\n",
    "                Adam.apply_gradients(zip(grad, params))\n",
    "#                 params=params-alpha*grad\n",
    "                # updating\n",
    "#                 self.t0=params[:,0:1]\n",
    "#                 self.theta=params[:,1:2]\n",
    "#                 self.phi=params[:,2:3]\n",
    "#                 self.courve=params[:,3:4]\n",
    "#                 self.core=params[:,4:]\n",
    "#                 self.S_X=params[:,6:7]\n",
    "                # for list\n",
    "                self.t0=params[0]\n",
    "                self.theta=params[1]\n",
    "                self.phi=params[2]\n",
    "                self.courve=params[3]\n",
    "                self.core=params[4]\n",
    "                self.S_X=params[5]\n",
    "                params_list.append(params)\n",
    "        for s1,p1 in enumerate(params_list):\n",
    "            p2=tf.concat(p1,axis=1)\n",
    "            params_list[s1]=p2\n",
    "        params_list = np.array(params_list)\n",
    "        return np.array(chi_list), params_list"
   ]
  },
  {
   "cell_type": "code",
   "execution_count": 673,
   "metadata": {},
   "outputs": [],
   "source": [
    "import tensorflow as tf\n",
    "import math\n",
    "pi = tf.constant(math.pi,dtype=tf.float32)\n",
    "UNIT=1\n",
    "dist=tf.constant(1.2,dtype=tf.float32)# min dist between 2 detectors in km\n",
    "c=tf.constant(299792.458,dtype=tf.float32)# # km\\s\n",
    "NSEC= tf.constant(1e9/c,dtype=tf.float32)# in rubsov's code is a time for 1.2 km 1.2/c*1e9\n",
    "R_L=tf.constant(30e-3,dtype=tf.float32)#\n",
    "LINSLEY_r0=tf.constant(0.025,dtype=tf.float32)#\n",
    "DET_AREA=tf.constant(3,dtype=tf.float32)#\n",
    "s_min = tf.constant([[0.3]],dtype=tf.float32)\n",
    "s_max = tf.constant([[1.8]],dtype=tf.float32)\n",
    "t_err_res=tf.constant(c/1e6,dtype=tf.float32)#\n",
    "t0_err=tf.constant(30,dtype=tf.float32)#\n",
    "dist=tf.constant(1.2,dtype=tf.float32)\n",
    "tf_type = tf.float32\n",
    "R_error = 0.15\n",
    "def init(data,tf_type = tf.float32):\n",
    "    data=tf.cast(data,tf_type)\n",
    "    mask = tf.expand_dims(data[:,:,:,3],-1)\n",
    "    signal = tf.expand_dims(data[:,:,:,0],-1)*self.mask\n",
    "    mask = tf.where(self.signal==0,0,self.mask)\n",
    "    real_time = tf.expand_dims((data[:,:,:,1] + data[:,:,:,2]),-1)*self.mask \n",
    "    signal = tf.cast(self.signal,self.tf_type)\n",
    "    real_time = tf.cast(self.real_time,self.tf_type)\n",
    "    mask = tf.cast(self.mask,self.tf_type)\n",
    "    batch = data.shape[0]\n",
    "def detectors_init(data):\n",
    "    batch = data.shape[0]\n",
    "    x = tf.cast(tf.repeat(tf.expand_dims(tf.range(0,6),0),6,axis=0),tf_type)\n",
    "    y = tf.cast(tf.repeat(tf.expand_dims(tf.range(0,6),1),6,axis=1),tf_type)\n",
    "    x = tf.expand_dims(x,-1)\n",
    "    y = tf.expand_dims(y,-1)\n",
    "    # x.shape = (6,6,1)\n",
    "    detectors = tf.concat([x,y],axis=-1) * dist\n",
    "    detectors = tf.repeat(tf.expand_dims(detectors,0),batch,0)\n",
    "    return detectors\n",
    "def core_(detectors,signal):# shape (batch,6,6,2)\n",
    "    sum_signal=tf.reduce_sum(signal,axis=(1,2)) # shape (batch ,1)\n",
    "    core=tf.reduce_sum(detectors * signal, axis=(1,2))/sum_signal\n",
    "    return core\n",
    "def expand_dims(vec):\n",
    "    return tf.expand_dims(tf.expand_dims(vec,-1),-1)\n",
    "def create_matrix(x,y,t,mask):\n",
    "    a11=expand_dims(tf.reduce_sum(x*x,axis=1))\n",
    "    a12=expand_dims(tf.reduce_sum(x*y,axis=1))\n",
    "    a13=expand_dims(tf.reduce_sum(x,axis=1))\n",
    "    a22=expand_dims(tf.reduce_sum(y*y,axis=1))\n",
    "    a23=expand_dims(tf.reduce_sum(y,axis=1))\n",
    "    a33=expand_dims(tf.reduce_sum(mask,axis=1))\n",
    "    a1=tf.concat([a11,a12,a13],axis=2)\n",
    "    a2=tf.concat([a12,a22,a23],axis=2)\n",
    "    a3=tf.concat([a13,a23,a33],axis=2)\n",
    "    A=tf.concat([a1,a2,a3],axis=1)\n",
    "\n",
    "    b1=expand_dims(tf.reduce_sum(x*t,axis=1))\n",
    "    b2=expand_dims(tf.reduce_sum(y*t,axis=1))\n",
    "    b3=expand_dims(tf.reduce_sum(t,axis=1))\n",
    "    b=tf.concat([b1,b2,b3],axis=1)\n",
    "    return A,b\n",
    "def place_sol(detectors,real_time,mask):\n",
    "    detectors = detectors * mask\n",
    "    x = tf.reshape(detectors[:,:,:,0],(-1,36))\n",
    "    y = tf.reshape(detectors[:,:,:,1],(-1,36))\n",
    "    t = tf.reshape(real_time,(-1,36))\n",
    "    mask = tf.reshape(mask,(-1,36))\n",
    "    A,b=create_matrix(x,y,t,mask)\n",
    "    return tf.linalg.solve(A,b)\n",
    "def place_params(detectors,real_time,mask):\n",
    "    sol = place_sol(detectors,real_time,mask)\n",
    "    #t_0=b+(r_cor;n)\n",
    "    b=sol[:,2:,0]\n",
    "    n=sol[:,:2,0]\n",
    "#     core = self.core_()\n",
    "#     mul=n[:,0]*core[:,0]+n[:,1]*core[:,1]\n",
    "    t0=b\n",
    "    a_x=n[:,0]\n",
    "    a_y=n[:,1]\n",
    "#         print(a_x.dtype,(1e6/c).dtype,c.dtype)\n",
    "    a_z=tf.math.pow(1e6/c,2) - (tf.math.pow(a_x,2) + tf.math.pow(a_y,2))\n",
    "    a_z=tf.where(a_z>0,tf.math.sqrt(a_z),0)\n",
    "    cos_theta=a_z*(c/1e6)\n",
    "    theta=tf.math.acos(cos_theta)\n",
    "#     tg_phi=a_x/(-a_y)\n",
    "#     atan=tf.math.atan(tg_phi)\n",
    "#     phi=tf.where(a_y>0,atan+pi,atan-pi)\n",
    "#     phi=tf.where(a_x<0,atan,phi)\n",
    "    phi = tf.math.atan2( a_y, a_x ) + pi\n",
    "    return t0,tf.expand_dims(theta,-1),tf.expand_dims(phi,-1)\n",
    "def detectors_core(detectors,core):\n",
    "    detectors_c=detectors-tf.reshape(core,(-1,1,1,2))\n",
    "    return detectors_c\n",
    "def place_reconstruction(detectors,mask,t0,theta,phi,use_z=False):\n",
    "    t0=expand_dims(t0) # shape (batch,1,1,1)\n",
    "    theta=expand_dims(theta)\n",
    "    phi =expand_dims(phi)\n",
    "    if use_z:\n",
    "        n=-tf.concat([tf.math.cos(phi)*tf.math.sin(theta),tf.math.sin(phi)*tf.math.sin(theta),tf.math.cos(theta)],axis=-1)*(1e6/c)\n",
    "    else:\n",
    "        n=-tf.concat([tf.math.cos(phi)*tf.math.sin(theta),tf.math.sin(phi)*tf.math.sin(theta)],axis=-1)*(1e6/c)\n",
    "        \n",
    "    t_place =  tf.expand_dims(tf.reduce_sum(detectors*n,axis=-1),-1)\n",
    "    t_place = t_place*mask\n",
    "    return t_place\n",
    "def eta_fun(theta):\n",
    "    x=theta*180/3.14\n",
    "\n",
    "    e1 = 3.97 - 1.79*(tf.math.abs(1.0/tf.math.cos(theta)) - 1.0)\n",
    "    e2 = ((((((-1.71299934e-10*x + 4.23849411e-08)*x -3.76192000e-06)*x\n",
    "               + 1.35747298e-04)*x -2.18241567e-03)*x + 1.18960682e-02)*x\n",
    "             + 3.70692527e+00)\n",
    "    res = tf.where(x<62.7,e1,e2)\n",
    "    res =tf.where(res>0,res,0)\n",
    "    return res\n",
    "def s_profile_tasimple(r_ta,theta):\n",
    "    r = r_ta\n",
    "    eta=eta_fun(theta)# batch,1,1\n",
    "    eta=tf.repeat(eta,6,axis=1)\n",
    "    eta=tf.repeat(eta,6,axis=2)\n",
    "    # eta shape is batch,6,6\n",
    "    Rm = tf.constant(0.09,dtype=tf.float32)\n",
    "    R1 = tf.constant(1,dtype=tf.float32)\n",
    "    return (tf.math.pow((r/Rm),-1.2)*tf.math.pow((1+r/Rm), -(eta-1.2))*tf.math.pow(1+(tf.math.pow(r,2)/R1/R1),-0.6))\n",
    "def s_profile(r_ta, theta):\n",
    "    #r_ta shape batch,6,6\n",
    "    f800=s_profile_tasimple(expand_dims(tf.constant(0.8)), theta)\n",
    "    return s_profile_tasimple(r_ta, theta)/f800\n",
    "def pfs__pps(detectors,theta,phi,signal,mask):\n",
    "#     t0,theta,phi = self.place_params()\n",
    "    # u can read from t_place if in place_reconstruction use core shift\n",
    "#     detectors = detectors_core(detectors,core)\n",
    "    theta=expand_dims(theta)\n",
    "    phi = expand_dims(phi)\n",
    "    n=-tf.concat([tf.math.cos(phi)*tf.math.sin(theta),tf.math.sin(phi)*tf.math.sin(theta)],axis=-1)\n",
    "    t_place = detectors[:,:,:,0:1]*n[:,:,:,0:1] + detectors[:,:,:,0:1]*n[:,:,:,0:1] # not has t0\n",
    "    # end t_place's part\n",
    "    dist_core = tf.expand_dims(tf.reduce_sum(tf.math.pow(detectors,2),axis=-1),axis=-1) - tf.math.pow(t_place,2)\n",
    "    dist_core = tf.where(dist_core>0,tf.math.sqrt(dist_core),0)\n",
    "    cond_dist = tf.cast(tf.where(tf.logical_and(dist_core>s_min,dist_core<s_max),mask,0.),tf_type)\n",
    "    pfs = tf.reduce_sum(signal*cond_dist,axis=(1,2))\n",
    "    pps = tf.reduce_sum(s_profile(dist_core,theta)*cond_dist,axis=(1,2))\n",
    "    return (pfs,pps)\n",
    "def a_ivanov_fun(theta):\n",
    "    DEG=pi/180\n",
    "    threshold1=25*DEG\n",
    "    threshold2=35*DEG\n",
    "    # переписать для обнавления масива\n",
    "    res1=tf.where(theta<threshold1,3.3836 - 0.01848*theta/DEG,0)\n",
    "    res3=tf.where(theta>threshold2,tf.math.exp(-3.2e-2*theta/DEG + 2.0),0)\n",
    "    a=(0.6511268210e-4*(theta/DEG-0.2614963683))*(theta/DEG*theta/DEG-134.7902422*theta/DEG+4558.524091)\n",
    "    res2=tf.where(tf.math.logical_and(theta > threshold1,theta < threshold2),a,0)\n",
    "    return res1+res2+res3\n",
    "    \n",
    "def courve_fun(detectors,core,t0,theta,phi,signal,mask):\n",
    "    a_ivanov = a_ivanov_fun(theta)\n",
    "    pfs,pps = pfs__pps(detectors,theta,phi,signal,mask)\n",
    "    S_X = tf.where(pps>1e-10,pfs/pps,1)[:,0]\n",
    "    S_X=tf.expand_dims(S_X,-1)\n",
    "    courve = a_ivanov*1.3/tf.math.sqrt(S_X)\n",
    "    courve = courve\n",
    "#     S_X=tf.expand_dims(S_X,-1)\n",
    "    return courve,S_X\n",
    "def linsley_t(r,S):\n",
    "    return 0.67*tf.math.pow((1 + r/LINSLEY_r0), 1.5)*tf.math.pow(S, -0.5)/1e3\n",
    "def courve_reconstruction(detectors,t0,theta,phi,courve):\n",
    "    # u can read from t_place if in place_reconstruction use core shift\n",
    "#     detectors = detectors_core()\n",
    "    t0=expand_dims(t0) # shape (batch,1,1,1)\n",
    "    theta=expand_dims(theta)\n",
    "    phi = expand_dims(phi)\n",
    "    n=-tf.concat([tf.math.cos(phi)*tf.math.sin(theta),tf.math.sin(phi)*tf.math.sin(theta)],axis=-1)\n",
    "    t_place = detectors[:,:,:,0:1]*n[:,:,:,0:1] + detectors[:,:,:,0:1]*n[:,:,:,0:1]\n",
    "    dist_core = tf.expand_dims(tf.reduce_sum(tf.math.pow(detectors,2),axis=-1),axis=-1) - tf.math.pow(t_place,2)\n",
    "    dist_core = tf.where(dist_core>R_error*R_error,tf.math.sqrt(dist_core),R_error)\n",
    "    LDF=s_profile(dist_core,theta)\n",
    "    td=expand_dims(courve)*linsley_t(dist_core,LDF)/NSEC\n",
    "    return td,LDF\n",
    "def logPua(n,nbar):\n",
    "    print(n.shape,nbar.shape)\n",
    "    last_part = 2*(n*tf.math.log(nbar/(n+1e-8)) + (n - nbar))\n",
    "\n",
    "    nbar_logical=tf.where(nbar < 1e-90,True,False)\n",
    "    n_logical1 = tf.where(n>1e-90,True,False)\n",
    "    res = tf.zeros_like(n)\n",
    "    res=tf.where(tf.logical_and(nbar_logical,n_logical1),-1e-6,res)\n",
    "\n",
    "    else_nbar_logical = tf.logical_not(nbar_logical) \n",
    "    n_logical2 = tf.where(n<1e-20,True,False)\n",
    "\n",
    "    res=tf.where(tf.logical_and(else_nbar_logical,n_logical2),-2*nbar,res)\n",
    "    res=tf.where(tf.logical_and(else_nbar_logical,tf.logical_not(n_logical2)),last_part,res)\n",
    "    return res\n",
    "def chi2L(S_X,s_prof,mask,signal):\n",
    "    s_fit = expand_dims(S_X)*s_prof*mask\n",
    "    qs=signal\n",
    "    s_sigma2 = ( 2*qs/DET_AREA + tf.math.pow( 0.15*qs, 2 ) + 1e-6 )\n",
    "    maskL2 = tf.where(qs>4.0,mask,0)\n",
    "    S=S_X\n",
    "    chi2L2=tf.reduce_sum((qs - s_fit)*(qs - s_fit)/s_sigma2*maskL2,axis=(1,2))\n",
    "#     maskL3 = tf.where(s_fit<4.0,mask,0)\n",
    "#         chi2L3 = -tf.reduce_sum(0.4*self.logPua(S*self.DET_AREA, s_fit*self.DET_AREA)*maskL3,axis=(1,2))\n",
    "#         print(chi2L2.shape,chi3L.shape)\n",
    "    return chi2L2  #+ chi3L\n",
    "def optimization(data,iterats,num,detectors_rub=None):\n",
    "    Adam = tf.keras.optimizers.Adam()\n",
    "    signal = data[:,:,:,0:1]\n",
    "    real_time = data[:,:,:,1:2]+data[:,:,:,2:3]\n",
    "    mask=data[:,:,:,3:4]\n",
    "    batch = data.shape[0]\n",
    "    #detectors\n",
    "    if not (detectors_rub is None):\n",
    "        detectors_orig  = detectors_init(data)\n",
    "        core = core_(detectors_orig ,signal)\n",
    "        detectors = detectors_core(detectors_orig ,core)\n",
    "        detectors_z = detectors\n",
    "        use_z=False\n",
    "    else:\n",
    "        detectors_z = detectors_rub\n",
    "        detectors=detectors_z[:,:,:,:2]\n",
    "        core = tf.zeros((batch,2))\n",
    "        use_z=True\n",
    "    t0,theta,phi = place_params(detectors,real_time,mask)\n",
    "    courve,S_X = courve_fun(detectors,core,t0,theta,phi,signal,mask)\n",
    "    chi_list=[]\n",
    "    print(t0.shape,theta.shape,phi.shape,courve.shape,core.shape,S_X.shape)\n",
    "    par = [t0,theta,phi,courve,core,S_X]\n",
    "    params=[tf.Variable(p, True) for p in par]\n",
    "#         params=tf.concat([t0,theta,phi,courve,core,S_X],axis=1)\n",
    "    params_list=[]\n",
    "    params_list.append(params)\n",
    "    for i in tqdm.notebook.tqdm_notebook(range(iterats)):\n",
    "        with tf.GradientTape() as gr:  \n",
    "            gr.watch(params)\n",
    "            \n",
    "            t0=params[0]\n",
    "            theta=params[1]\n",
    "            phi=params[2]\n",
    "            courve=params[3]\n",
    "            core=params[4]\n",
    "            S_X=params[5]\n",
    "            detectors = detectors_core(detectors_orig ,core)\n",
    "            t_place = place_reconstruction(detectors_z,mask,t0,theta,phi,use_z)\n",
    "            td,s_prof = courve_reconstruction(detectors,t0,theta,phi,courve)  #update LDF <==> s_profile\n",
    "            t_sigma2=(t0_err*t0_err + td*td) * t_err_res\n",
    "            time_reco = expand_dims(t0) + t_place +td\n",
    "            chi_T=tf.reduce_sum(tf.math.pow((time_reco-real_time)*mask,2)/t_sigma2,axis=(1,2))\n",
    "            chi_L=chi2L(S_X,s_prof,mask,signal)\n",
    "            chi = chi_T #+chi_L\n",
    "#             print(tf.reduce_mean(chi_T),tf.reduce_mean(chi_L),end='\\r')\n",
    "            if num:\n",
    "                print(chi_T[num],chi_L[num],[np.array(i[num]) for i in params],end='\\r')\n",
    "            chi_list.append(chi)\n",
    "            grad=gr.gradient(chi,params)[:5]\n",
    "#             print(len(grad))\n",
    "            Adam.apply_gradients(zip(grad, params))\n",
    "            params_list.append(copy.deepcopy(params))\n",
    "    for s1,p1 in enumerate(params_list):\n",
    "        p2=tf.concat(p1,axis=1)\n",
    "        params_list[s1]=p2\n",
    "    params_list = np.array(params_list)\n",
    "    return np.array(chi_list), params_list"
   ]
  },
  {
   "cell_type": "code",
   "execution_count": 674,
   "metadata": {},
   "outputs": [
    {
     "name": "stdout",
     "output_type": "stream",
     "text": [
      "(100, 1) (100, 1) (100, 1) (100, 1) (100, 2) (100, 1)\n"
     ]
    },
    {
     "data": {
      "application/vnd.jupyter.widget-view+json": {
       "model_id": "aeddd527db44409aa56a324e525fe353",
       "version_major": 2,
       "version_minor": 0
      },
      "text/plain": [
       "HBox(children=(FloatProgress(value=0.0, max=1000.0), HTML(value='')))"
      ]
     },
     "metadata": {},
     "output_type": "display_data"
    },
    {
     "name": "stdout",
     "output_type": "stream",
     "text": [
      "tf.Tensor([0.00494305], shape=(1,), dtype=float32) tf.Tensor([42.00209], shape=(1,), dtype=float32) [array([0.5652323], dtype=float32), array([0.47448626], dtype=float32), array([5.115602], dtype=float32), array([2.372329], dtype=float32), array([5.0919666, 4.959941 ], dtype=float32), array([15.656894], dtype=float32)])]]]][array([0.5722678], dtype=float32), array([0.47363278], dtype=float32), array([5.120889], dtype=float32), array([1.0107543], dtype=float32), array([3.532714 , 3.5250938], dtype=float32), array([15.656894], dtype=float32)][array([0.5707997], dtype=float32), array([0.47384045], dtype=float32), array([5.1195164], dtype=float32), array([1.7536538], dtype=float32), array([4.4549446, 4.3507056], dtype=float32), array([15.656894], dtype=float32)]tf.Tensor([38.72709], shape=(1,), dtype=float32) [array([0.57029074], dtype=float32), array([0.47390363], dtype=float32), array([5.1191483], dtype=float32), array([1.8543984], dtype=float32), array([4.5620685, 4.4516916], dtype=float32), array([15.656894], dtype=float32)]\n"
     ]
    }
   ],
   "source": [
    "chi, params = optimization(data[:100],1000,num=25,detectors_rub=detectors_rub)"
   ]
  },
  {
   "cell_type": "code",
   "execution_count": 678,
   "metadata": {},
   "outputs": [
    {
     "data": {
      "text/plain": [
       "array([34.19991  , 34.98837  ,  9.614488 ,  9.558451 , 19.99857  ,\n",
       "        7.083026 ,  4.2775493, 19.282066 , 16.774784 , 12.291656 ,\n",
       "       42.41437  , 28.191008 , 39.322235 , 30.186525 , 18.653542 ,\n",
       "       26.993568 , 27.279663 , 34.897865 , 31.589207 , 34.498158 ,\n",
       "       18.872576 , 32.14124  , 28.307035 , 30.663208 , 30.112806 ,\n",
       "       27.187284 , 33.648914 , 24.66129  , 28.88448  , 28.637053 ,\n",
       "       31.961056 , 21.967848 , 39.81247  , 13.509547 , 10.974145 ,\n",
       "       19.630556 ,  2.5928254, 19.46134  , 20.658113 , 20.992071 ,\n",
       "       18.047758 , 17.537457 , 18.758074 , 10.553257 , 20.335365 ,\n",
       "       15.799951 , 15.028632 , 10.457653 ,  3.1700857, 15.577833 ,\n",
       "       16.029377 , 17.076565 , 17.608112 , 29.197714 ,  9.473847 ,\n",
       "       14.966032 , 14.825009 , 40.917606 , 46.9483   , 48.781242 ,\n",
       "       44.303318 , 44.440315 , 44.105026 , 36.02853  , 44.41099  ,\n",
       "       40.659664 , 38.209896 , 41.9261   , 43.68598  , 41.465393 ,\n",
       "       42.12422  , 45.84784  , 46.446136 , 42.389668 , 33.730064 ,\n",
       "       34.179436 , 38.205532 , 43.3356   , 44.481815 , 45.31219  ,\n",
       "       45.684338 , 40.448845 , 40.64291  , 39.807743 , 41.493958 ,\n",
       "       41.908413 , 43.546295 , 44.67263  , 46.811737 , 45.095066 ,\n",
       "       40.80099  , 34.858017 , 43.125637 , 45.030254 , 39.136383 ,\n",
       "       39.415936 , 32.165436 , 43.30199  , 42.968666 , 41.800377 ],\n",
       "      dtype=float32)"
      ]
     },
     "execution_count": 678,
     "metadata": {},
     "output_type": "execute_result"
    }
   ],
   "source": [
    "params[-1,:,1]*180/3.1415"
   ]
  },
  {
   "cell_type": "code",
   "execution_count": 669,
   "metadata": {},
   "outputs": [
    {
     "data": {
      "text/plain": [
       "TensorShape([2000, 1])"
      ]
     },
     "execution_count": 669,
     "metadata": {},
     "output_type": "execute_result"
    }
   ],
   "source": [
    "theta_.shape#*180/3.1415"
   ]
  },
  {
   "cell_type": "code",
   "execution_count": 679,
   "metadata": {},
   "outputs": [
    {
     "data": {
      "text/plain": [
       "<tf.Tensor: shape=(100, 1), dtype=float32, numpy=\n",
       "array([[ -5.029715  ],\n",
       "       [ -0.9761175 ],\n",
       "       [  2.1408656 ],\n",
       "       [  5.148697  ],\n",
       "       [ 11.223823  ],\n",
       "       [  2.8018792 ],\n",
       "       [ -1.4186286 ],\n",
       "       [ 13.760498  ],\n",
       "       [ 11.302314  ],\n",
       "       [  7.7420506 ],\n",
       "       [  6.9007916 ],\n",
       "       [ -1.973066  ],\n",
       "       [  5.3859854 ],\n",
       "       [ -1.2333876 ],\n",
       "       [-14.281721  ],\n",
       "       [ -3.2720048 ],\n",
       "       [ -6.192596  ],\n",
       "       [  2.822116  ],\n",
       "       [ -2.473305  ],\n",
       "       [  2.9519856 ],\n",
       "       [-13.935042  ],\n",
       "       [  1.2755208 ],\n",
       "       [ -2.9689505 ],\n",
       "       [  0.5904531 ],\n",
       "       [ -2.1056864 ],\n",
       "       [ -5.4178505 ],\n",
       "       [  2.8521764 ],\n",
       "       [ -8.168432  ],\n",
       "       [ -3.8006923 ],\n",
       "       [ -1.2643054 ],\n",
       "       [  5.0249953 ],\n",
       "       [ -7.263108  ],\n",
       "       [  6.7610965 ],\n",
       "       [ -3.4426346 ],\n",
       "       [ -6.6103663 ],\n",
       "       [  2.9312503 ],\n",
       "       [-16.186008  ],\n",
       "       [  6.1915073 ],\n",
       "       [  4.4562016 ],\n",
       "       [  5.7808394 ],\n",
       "       [  2.2621245 ],\n",
       "       [ -0.04802789],\n",
       "       [  2.2726538 ],\n",
       "       [ -6.5152445 ],\n",
       "       [  0.06542319],\n",
       "       [  3.143356  ],\n",
       "       [  0.03487768],\n",
       "       [ -4.6744094 ],\n",
       "       [-13.920833  ],\n",
       "       [ -0.21088149],\n",
       "       [  1.3677909 ],\n",
       "       [ -0.23995845],\n",
       "       [ -0.09703082],\n",
       "       [ 13.520776  ],\n",
       "       [ -4.5484915 ],\n",
       "       [ -2.1326306 ],\n",
       "       [ -1.6131009 ],\n",
       "       [ -3.8069422 ],\n",
       "       [  2.4516218 ],\n",
       "       [  7.509468  ],\n",
       "       [  0.30596736],\n",
       "       [  0.34372917],\n",
       "       [  0.5869252 ],\n",
       "       [ -8.638746  ],\n",
       "       [  1.6141613 ],\n",
       "       [ -3.8234408 ],\n",
       "       [ -5.851148  ],\n",
       "       [ -2.365897  ],\n",
       "       [  3.793104  ],\n",
       "       [ -4.958218  ],\n",
       "       [ -2.937611  ],\n",
       "       [  1.2839872 ],\n",
       "       [  1.7589929 ],\n",
       "       [  1.639502  ],\n",
       "       [ -6.9455442 ],\n",
       "       [-10.274488  ],\n",
       "       [ -2.4742236 ],\n",
       "       [  0.37716392],\n",
       "       [  2.2924874 ],\n",
       "       [  1.8985685 ],\n",
       "       [  5.185267  ],\n",
       "       [ -2.7062893 ],\n",
       "       [ -2.0064409 ],\n",
       "       [ -1.8980392 ],\n",
       "       [ -1.4717238 ],\n",
       "       [ -1.8574188 ],\n",
       "       [  1.910327  ],\n",
       "       [  0.13609895],\n",
       "       [  3.9452949 ],\n",
       "       [  3.5373466 ],\n",
       "       [ -1.4102331 ],\n",
       "       [ -5.1908784 ],\n",
       "       [ -0.29697174],\n",
       "       [  1.7668204 ],\n",
       "       [ -1.9321979 ],\n",
       "       [ -1.1733211 ],\n",
       "       [-11.030866  ],\n",
       "       [  0.33495894],\n",
       "       [ -0.2786287 ],\n",
       "       [ -3.206626  ]], dtype=float32)>"
      ]
     },
     "execution_count": 679,
     "metadata": {},
     "output_type": "execute_result"
    }
   ],
   "source": [
    "(tf.expand_dims(params[1,:,1],-1) - theta_[:100])*180/3.1415"
   ]
  },
  {
   "cell_type": "code",
   "execution_count": 680,
   "metadata": {},
   "outputs": [
    {
     "data": {
      "text/plain": [
       "<tf.Tensor: shape=(100, 1), dtype=float32, numpy=\n",
       "array([[ -79.77146  ],\n",
       "       [-145.78154  ],\n",
       "       [-267.28604  ],\n",
       "       [-123.65725  ],\n",
       "       [   8.84883  ],\n",
       "       [-122.55054  ],\n",
       "       [-294.95242  ],\n",
       "       [-309.41263  ],\n",
       "       [ -25.38666  ],\n",
       "       [-177.3332   ],\n",
       "       [-282.563    ],\n",
       "       [ -89.2892   ],\n",
       "       [-316.03473  ],\n",
       "       [-253.43626  ],\n",
       "       [-123.44654  ],\n",
       "       [-146.31163  ],\n",
       "       [-326.3943   ],\n",
       "       [-192.5756   ],\n",
       "       [  10.159093 ],\n",
       "       [-126.821785 ],\n",
       "       [-111.27566  ],\n",
       "       [  30.650091 ],\n",
       "       [-156.0383   ],\n",
       "       [-135.65897  ],\n",
       "       [-310.77646  ],\n",
       "       [-121.55815  ],\n",
       "       [  -7.0671935],\n",
       "       [-252.64006  ],\n",
       "       [-303.59927  ],\n",
       "       [ -72.72645  ],\n",
       "       [ -89.3585   ],\n",
       "       [-237.06474  ],\n",
       "       [  14.900088 ],\n",
       "       [ -15.333835 ],\n",
       "       [-136.71579  ],\n",
       "       [-335.38965  ],\n",
       "       [-326.6188   ],\n",
       "       [-314.69943  ],\n",
       "       [   7.8816185],\n",
       "       [-108.014465 ],\n",
       "       [-139.25467  ],\n",
       "       [ -28.672947 ],\n",
       "       [-130.37296  ],\n",
       "       [-245.88707  ],\n",
       "       [-123.36737  ],\n",
       "       [ -84.13562  ],\n",
       "       [ -87.92929  ],\n",
       "       [ -11.574179 ],\n",
       "       [-307.19934  ],\n",
       "       [-203.33836  ],\n",
       "       [-133.4747   ],\n",
       "       [-335.7483   ],\n",
       "       [-303.5192   ],\n",
       "       [-327.8914   ],\n",
       "       [   4.250124 ],\n",
       "       [-118.15344  ],\n",
       "       [ -69.278336 ],\n",
       "       [-215.71483  ],\n",
       "       [-140.55904  ],\n",
       "       [-148.2994   ],\n",
       "       [ -89.221245 ],\n",
       "       [-252.1659   ],\n",
       "       [-270.0611   ],\n",
       "       [ -24.925535 ],\n",
       "       [-135.96083  ],\n",
       "       [-203.27808  ],\n",
       "       [-306.43274  ],\n",
       "       [-117.88722  ],\n",
       "       [-291.9425   ],\n",
       "       [ -76.14176  ],\n",
       "       [-256.9149   ],\n",
       "       [ -10.035347 ],\n",
       "       [  41.592243 ],\n",
       "       [ -22.861408 ],\n",
       "       [-299.96655  ],\n",
       "       [-256.31494  ],\n",
       "       [-118.798454 ],\n",
       "       [-208.48978  ],\n",
       "       [  38.48831  ],\n",
       "       [-227.25412  ],\n",
       "       [ -25.059591 ],\n",
       "       [-114.13296  ],\n",
       "       [-317.96313  ],\n",
       "       [  -2.8892722],\n",
       "       [ -36.983234 ],\n",
       "       [-147.27873  ],\n",
       "       [-257.30328  ],\n",
       "       [-222.85226  ],\n",
       "       [-201.31123  ],\n",
       "       [-303.9372   ],\n",
       "       [-314.00137  ],\n",
       "       [-249.51508  ],\n",
       "       [-294.84314  ],\n",
       "       [-188.18985  ],\n",
       "       [-211.31808  ],\n",
       "       [-283.2128   ],\n",
       "       [ -89.501915 ],\n",
       "       [  26.888863 ],\n",
       "       [-102.26322  ],\n",
       "       [-267.96036  ]], dtype=float32)>"
      ]
     },
     "execution_count": 680,
     "metadata": {},
     "output_type": "execute_result"
    }
   ],
   "source": [
    "(tf.expand_dims(params[2,:,1],-1) - phi_[:100])*180/3.1415"
   ]
  },
  {
   "cell_type": "code",
   "execution_count": 583,
   "metadata": {},
   "outputs": [
    {
     "name": "stdout",
     "output_type": "stream",
     "text": [
      "(2000, 1) (2000, 1) (2000, 1) (2000, 1) (2000, 2) (2000, 1)\n"
     ]
    },
    {
     "data": {
      "application/vnd.jupyter.widget-view+json": {
       "model_id": "66b6cd8310ca4f9696bd1d630cf11ece",
       "version_major": 2,
       "version_minor": 0
      },
      "text/plain": [
       "HBox(children=(FloatProgress(value=0.0, max=1.0), HTML(value='')))"
      ]
     },
     "metadata": {},
     "output_type": "display_data"
    },
    {
     "name": "stdout",
     "output_type": "stream",
     "text": [
      "\n"
     ]
    }
   ],
   "source": [
    "signal = data[:,:,:,0:1]\n",
    "real_time = data[:,:,:,1:2]+data[:,:,:,2:3]\n",
    "mask=data[:,:,:,3:4]\n",
    "flat_time = data[:,:,:,1:2]\n",
    "#detectors\n",
    "detectors_orig  = detectors_init(data)\n",
    "core = core_(detectors_orig ,signal)\n",
    "detectors = detectors_core(detectors_orig ,core)\n",
    "t0,theta,phi = place_params(detectors,real_time,mask)\n",
    "# ??? don't work without that \n",
    "#     pfs,pps= pfs__pps(detectors,core,t0,theta,phi,signal)\n",
    "courve,S_X = courve_fun(detectors,core,t0,theta,phi,signal,mask)\n",
    "chi_list=[]\n",
    "#     t0=t0\n",
    "#     theta=tf.expand_dims(theta,-1)\n",
    "#     phi=tf.expand_dims(phi,-1)\n",
    "print(t0.shape,theta.shape,phi.shape,courve.shape,core.shape,S_X.shape)\n",
    "par = [t0,theta,phi,courve,core,S_X]\n",
    "params=[tf.Variable(p, True) for p in par]\n",
    "#         params=tf.concat([t0,theta,phi,courve,core,S_X],axis=1)\n",
    "params_list=[]\n",
    "params_list.append(params)\n",
    "for i in tqdm.notebook.tqdm_notebook(range(1)):\n",
    "    with tf.GradientTape() as gr:  \n",
    "        gr.watch(params)\n",
    "\n",
    "        t0=params[0]\n",
    "        theta=params[1]\n",
    "        phi=params[2]\n",
    "        courve=params[3]\n",
    "        core=params[4]\n",
    "        S_X=params[5]\n",
    "        detectors = detectors_core(detectors_orig ,core)\n",
    "        t_place = place_reconstruction(detectors,mask,t0,theta,phi)"
   ]
  },
  {
   "cell_type": "code",
   "execution_count": 549,
   "metadata": {},
   "outputs": [
    {
     "data": {
      "text/plain": [
       "<tf.Tensor: shape=(6, 6), dtype=float32, numpy=\n",
       "array([[ 0.        ,  0.        ,  0.        ,  0.        ,  0.        ,\n",
       "         0.        ],\n",
       "       [-0.        ,  0.        ,  0.        ,  2.628094  ,  3.6591177 ,\n",
       "         0.        ],\n",
       "       [-0.        , -0.        , -0.7164039 ,  0.31461975,  1.3456434 ,\n",
       "         0.        ],\n",
       "       [-0.        , -0.        , -3.0298781 , -1.9988545 , -0.        ,\n",
       "         0.        ],\n",
       "       [-0.        , -0.        , -5.3433523 , -0.        , -0.        ,\n",
       "        -0.        ],\n",
       "       [-0.        , -0.        , -0.        , -0.        , -0.        ,\n",
       "        -0.        ]], dtype=float32)>"
      ]
     },
     "execution_count": 549,
     "metadata": {},
     "output_type": "execute_result"
    }
   ],
   "source": [
    "theta_ = tf.constant(ev_params[:2000,0:1]/180*3.1415)\n",
    "phi_ = tf.constant(ev_params[:2000,1:2]/180*3.1415)\n",
    "t_place = place_reconstruction(detectors[:,:,:,:2],mask,t0,theta_,phi_)\n",
    "t_place[0,:,:,0]"
   ]
  },
  {
   "cell_type": "code",
   "execution_count": 550,
   "metadata": {},
   "outputs": [
    {
     "data": {
      "text/plain": [
       "<tf.Tensor: shape=(6, 6), dtype=float32, numpy=\n",
       "array([[ 0.        ,  0.        ,  0.        ,  0.        ,  0.        ,\n",
       "         0.        ],\n",
       "       [ 0.        ,  0.        ,  0.        ,  0.00068855,  0.00055599,\n",
       "         0.        ],\n",
       "       [ 0.        ,  0.        , -0.00036418, -0.00011015,  0.00003505,\n",
       "         0.        ],\n",
       "       [ 0.        ,  0.        ,  0.00019264, -0.00039765,  0.        ,\n",
       "         0.        ],\n",
       "       [ 0.        ,  0.        , -0.00069284,  0.        ,  0.        ,\n",
       "         0.        ],\n",
       "       [ 0.        ,  0.        ,  0.        ,  0.        ,  0.        ,\n",
       "         0.        ]], dtype=float32)>"
      ]
     },
     "execution_count": 550,
     "metadata": {},
     "output_type": "execute_result"
    }
   ],
   "source": [
    "theta_ = tf.constant(ev_params[:2000,0:1]/180*3.1415)\n",
    "phi_ = tf.constant(ev_params[:2000,1:2]/180*3.1415)\n",
    "t_place = place_reconstruction(detectors_rub[:,:,:,:3],mask,t0,theta_,phi_,True)\n",
    "t_place[0,:,:,0] -data[0,:,:,1]"
   ]
  },
  {
   "cell_type": "code",
   "execution_count": 573,
   "metadata": {},
   "outputs": [
    {
     "data": {
      "text/plain": [
       "<tf.Tensor: shape=(2000, 1), dtype=float32, numpy=\n",
       "array([[39.857788 ],\n",
       "       [36.350365 ],\n",
       "       [ 7.4669333],\n",
       "       ...,\n",
       "       [38.547314 ],\n",
       "       [38.088085 ],\n",
       "       [39.27309  ]], dtype=float32)>"
      ]
     },
     "execution_count": 573,
     "metadata": {},
     "output_type": "execute_result"
    }
   ],
   "source": [
    "t0,theta,phi = place_params(detectors_rub,flat_time,mask)\n",
    "theta*180/3.1415"
   ]
  },
  {
   "cell_type": "code",
   "execution_count": 574,
   "metadata": {},
   "outputs": [
    {
     "data": {
      "text/plain": [
       "<tf.Tensor: shape=(2000, 1), dtype=float32, numpy=\n",
       "array([[39.2557   ],\n",
       "       [36.0943   ],\n",
       "       [ 7.6445193],\n",
       "       ...,\n",
       "       [38.9767   ],\n",
       "       [38.3244   ],\n",
       "       [39.3773   ]], dtype=float32)>"
      ]
     },
     "execution_count": 574,
     "metadata": {},
     "output_type": "execute_result"
    }
   ],
   "source": [
    "theta_*180/3.1415"
   ]
  },
  {
   "cell_type": "code",
   "execution_count": 575,
   "metadata": {},
   "outputs": [
    {
     "data": {
      "text/plain": [
       "<tf.Tensor: shape=(), dtype=float32, numpy=2.4134145>"
      ]
     },
     "execution_count": 575,
     "metadata": {},
     "output_type": "execute_result"
    }
   ],
   "source": [
    "tf.reduce_max((theta - theta_)*180/3.1415)"
   ]
  },
  {
   "cell_type": "code",
   "execution_count": 579,
   "metadata": {},
   "outputs": [
    {
     "data": {
      "text/plain": [
       "<tf.Tensor: shape=(2000, 1), dtype=float32, numpy=\n",
       "array([[114.49433],\n",
       "       [180.60518],\n",
       "       [275.87704],\n",
       "       ...,\n",
       "       [315.52274],\n",
       "       [315.62   ],\n",
       "       [284.60553]], dtype=float32)>"
      ]
     },
     "execution_count": 579,
     "metadata": {},
     "output_type": "execute_result"
    }
   ],
   "source": [
    "phi*180/3.1415 + 180"
   ]
  },
  {
   "cell_type": "code",
   "execution_count": 580,
   "metadata": {},
   "outputs": [
    {
     "data": {
      "text/plain": [
       "<tf.Tensor: shape=(2000, 1), dtype=float32, numpy=\n",
       "array([[114.024  ],\n",
       "       [180.94102],\n",
       "       [277.095  ],\n",
       "       ...,\n",
       "       [315.383  ],\n",
       "       [315.803  ],\n",
       "       [284.52603]], dtype=float32)>"
      ]
     },
     "execution_count": 580,
     "metadata": {},
     "output_type": "execute_result"
    }
   ],
   "source": [
    "phi_*180/3.1415"
   ]
  },
  {
   "cell_type": "code",
   "execution_count": 582,
   "metadata": {},
   "outputs": [
    {
     "data": {
      "text/plain": [
       "<tf.Tensor: shape=(2000, 1), dtype=float32, numpy=\n",
       "array([[ 0.47032928],\n",
       "       [-0.33584595],\n",
       "       [-1.2179565 ],\n",
       "       ...,\n",
       "       [ 0.13973999],\n",
       "       [-0.18301392],\n",
       "       [ 0.07949829]], dtype=float32)>"
      ]
     },
     "execution_count": 582,
     "metadata": {},
     "output_type": "execute_result"
    }
   ],
   "source": [
    "phi*180/3.1415 + 180-phi_*180/3.1415"
   ]
  },
  {
   "cell_type": "code",
   "execution_count": 437,
   "metadata": {},
   "outputs": [
    {
     "data": {
      "application/vnd.jupyter.widget-view+json": {
       "model_id": "0443e029a88c4238a4468618ee63efe4",
       "version_major": 2,
       "version_minor": 0
      },
      "text/plain": [
       "HBox(children=(FloatProgress(value=0.0, max=1000.0), HTML(value='')))"
      ]
     },
     "metadata": {},
     "output_type": "display_data"
    },
    {
     "name": "stdout",
     "output_type": "stream",
     "text": [
      "tf.Tensor([0.01027952], shape=(1,), dtype=float32) tf.Tensor([813.2907], shape=(1,), dtype=float32) [array([0.6106302], dtype=float32), array([0.6243992], dtype=float32), array([2.5763762], dtype=float32), array([1.7248515], dtype=float32), array([3.3729115, 3.3491929], dtype=float32), array([13.840864], dtype=float32)]2)]]]tf.Tensor([1057.9368], shape=(1,), dtype=float32) [array([0.6040175], dtype=float32), array([0.61242867], dtype=float32), array([2.5884635], dtype=float32), array([1.595178], dtype=float32), array([3.380501 , 3.3558319], dtype=float32), array([13.852567], dtype=float32)]\n"
     ]
    },
    {
     "ename": "KeyboardInterrupt",
     "evalue": "",
     "output_type": "error",
     "traceback": [
      "\u001b[0;31m---------------------------------------------------------------------------\u001b[0m",
      "\u001b[0;31mKeyboardInterrupt\u001b[0m                         Traceback (most recent call last)",
      "\u001b[0;32m<ipython-input-437-96de91992a05>\u001b[0m in \u001b[0;36m<module>\u001b[0;34m\u001b[0m\n\u001b[1;32m      4\u001b[0m \u001b[0;31m# sol = rec.place_sol()\u001b[0m\u001b[0;34m\u001b[0m\u001b[0;34m\u001b[0m\u001b[0;34m\u001b[0m\u001b[0m\n\u001b[1;32m      5\u001b[0m \u001b[0;31m# sol\u001b[0m\u001b[0;34m\u001b[0m\u001b[0;34m\u001b[0m\u001b[0;34m\u001b[0m\u001b[0m\n\u001b[0;32m----> 6\u001b[0;31m \u001b[0mchi\u001b[0m\u001b[0;34m,\u001b[0m\u001b[0mparams\u001b[0m\u001b[0;34m=\u001b[0m\u001b[0mrec\u001b[0m\u001b[0;34m.\u001b[0m\u001b[0moptimization\u001b[0m\u001b[0;34m(\u001b[0m\u001b[0;36m1000\u001b[0m\u001b[0;34m,\u001b[0m\u001b[0mnum\u001b[0m\u001b[0;34m=\u001b[0m\u001b[0;36m25\u001b[0m\u001b[0;34m)\u001b[0m\u001b[0;34m\u001b[0m\u001b[0;34m\u001b[0m\u001b[0m\n\u001b[0m",
      "\u001b[0;32m<ipython-input-374-a72d9de3c798>\u001b[0m in \u001b[0;36moptimization\u001b[0;34m(self, iterats, num)\u001b[0m\n\u001b[1;32m    370\u001b[0m \u001b[0;31m#                 print(tf.reduce_mean(chi_T),tf.reduce_mean(chi_L),end='\\r')\u001b[0m\u001b[0;34m\u001b[0m\u001b[0;34m\u001b[0m\u001b[0;34m\u001b[0m\u001b[0m\n\u001b[1;32m    371\u001b[0m                 \u001b[0;32mif\u001b[0m \u001b[0mnum\u001b[0m\u001b[0;34m:\u001b[0m\u001b[0;34m\u001b[0m\u001b[0;34m\u001b[0m\u001b[0m\n\u001b[0;32m--> 372\u001b[0;31m                     \u001b[0mprint\u001b[0m\u001b[0;34m(\u001b[0m\u001b[0mchi_T\u001b[0m\u001b[0;34m[\u001b[0m\u001b[0mnum\u001b[0m\u001b[0;34m]\u001b[0m\u001b[0;34m,\u001b[0m\u001b[0mchi_L\u001b[0m\u001b[0;34m[\u001b[0m\u001b[0mnum\u001b[0m\u001b[0;34m]\u001b[0m\u001b[0;34m,\u001b[0m\u001b[0;34m[\u001b[0m\u001b[0mnp\u001b[0m\u001b[0;34m.\u001b[0m\u001b[0marray\u001b[0m\u001b[0;34m(\u001b[0m\u001b[0mi\u001b[0m\u001b[0;34m[\u001b[0m\u001b[0mnum\u001b[0m\u001b[0;34m]\u001b[0m\u001b[0;34m)\u001b[0m \u001b[0;32mfor\u001b[0m \u001b[0mi\u001b[0m \u001b[0;32min\u001b[0m \u001b[0mparams\u001b[0m\u001b[0;34m]\u001b[0m\u001b[0;34m,\u001b[0m\u001b[0mend\u001b[0m\u001b[0;34m=\u001b[0m\u001b[0;34m'\\r'\u001b[0m\u001b[0;34m)\u001b[0m\u001b[0;34m\u001b[0m\u001b[0;34m\u001b[0m\u001b[0m\n\u001b[0m\u001b[1;32m    373\u001b[0m                 \u001b[0mchi_list\u001b[0m\u001b[0;34m.\u001b[0m\u001b[0mappend\u001b[0m\u001b[0;34m(\u001b[0m\u001b[0mchi\u001b[0m\u001b[0;34m)\u001b[0m\u001b[0;34m\u001b[0m\u001b[0;34m\u001b[0m\u001b[0m\n\u001b[1;32m    374\u001b[0m                 \u001b[0mgrad\u001b[0m\u001b[0;34m=\u001b[0m\u001b[0mgr\u001b[0m\u001b[0;34m.\u001b[0m\u001b[0mgradient\u001b[0m\u001b[0;34m(\u001b[0m\u001b[0mchi\u001b[0m\u001b[0;34m,\u001b[0m\u001b[0mparams\u001b[0m\u001b[0;34m)\u001b[0m\u001b[0;34m\u001b[0m\u001b[0;34m\u001b[0m\u001b[0m\n",
      "\u001b[0;32m~/.conda/envs/robert_venv/lib/python3.6/site-packages/numpy/core/arrayprint.py\u001b[0m in \u001b[0;36m_array_repr_implementation\u001b[0;34m(arr, max_line_width, precision, suppress_small, array2string)\u001b[0m\n\u001b[1;32m   1385\u001b[0m     \u001b[0;32melif\u001b[0m \u001b[0marr\u001b[0m\u001b[0;34m.\u001b[0m\u001b[0msize\u001b[0m \u001b[0;34m>\u001b[0m \u001b[0;36m0\u001b[0m \u001b[0;32mor\u001b[0m \u001b[0marr\u001b[0m\u001b[0;34m.\u001b[0m\u001b[0mshape\u001b[0m \u001b[0;34m==\u001b[0m \u001b[0;34m(\u001b[0m\u001b[0;36m0\u001b[0m\u001b[0;34m,\u001b[0m\u001b[0;34m)\u001b[0m\u001b[0;34m:\u001b[0m\u001b[0;34m\u001b[0m\u001b[0;34m\u001b[0m\u001b[0m\n\u001b[1;32m   1386\u001b[0m         lst = array2string(arr, max_line_width, precision, suppress_small,\n\u001b[0;32m-> 1387\u001b[0;31m                            ', ', prefix, suffix=suffix)\n\u001b[0m\u001b[1;32m   1388\u001b[0m     \u001b[0;32melse\u001b[0m\u001b[0;34m:\u001b[0m  \u001b[0;31m# show zero-length shape unless it is (0,)\u001b[0m\u001b[0;34m\u001b[0m\u001b[0;34m\u001b[0m\u001b[0m\n\u001b[1;32m   1389\u001b[0m         \u001b[0mlst\u001b[0m \u001b[0;34m=\u001b[0m \u001b[0;34m\"[], shape=%s\"\u001b[0m \u001b[0;34m%\u001b[0m \u001b[0;34m(\u001b[0m\u001b[0mrepr\u001b[0m\u001b[0;34m(\u001b[0m\u001b[0marr\u001b[0m\u001b[0;34m.\u001b[0m\u001b[0mshape\u001b[0m\u001b[0;34m)\u001b[0m\u001b[0;34m,\u001b[0m\u001b[0;34m)\u001b[0m\u001b[0;34m\u001b[0m\u001b[0;34m\u001b[0m\u001b[0m\n",
      "\u001b[0;32m~/.conda/envs/robert_venv/lib/python3.6/site-packages/numpy/core/arrayprint.py\u001b[0m in \u001b[0;36marray2string\u001b[0;34m(a, max_line_width, precision, suppress_small, separator, prefix, style, formatter, threshold, edgeitems, sign, floatmode, suffix, legacy)\u001b[0m\n\u001b[1;32m    690\u001b[0m         \u001b[0;32mreturn\u001b[0m \u001b[0;34m\"[]\"\u001b[0m\u001b[0;34m\u001b[0m\u001b[0;34m\u001b[0m\u001b[0m\n\u001b[1;32m    691\u001b[0m \u001b[0;34m\u001b[0m\u001b[0m\n\u001b[0;32m--> 692\u001b[0;31m     \u001b[0;32mreturn\u001b[0m \u001b[0m_array2string\u001b[0m\u001b[0;34m(\u001b[0m\u001b[0ma\u001b[0m\u001b[0;34m,\u001b[0m \u001b[0moptions\u001b[0m\u001b[0;34m,\u001b[0m \u001b[0mseparator\u001b[0m\u001b[0;34m,\u001b[0m \u001b[0mprefix\u001b[0m\u001b[0;34m)\u001b[0m\u001b[0;34m\u001b[0m\u001b[0;34m\u001b[0m\u001b[0m\n\u001b[0m\u001b[1;32m    693\u001b[0m \u001b[0;34m\u001b[0m\u001b[0m\n\u001b[1;32m    694\u001b[0m \u001b[0;34m\u001b[0m\u001b[0m\n",
      "\u001b[0;32m~/.conda/envs/robert_venv/lib/python3.6/site-packages/numpy/core/arrayprint.py\u001b[0m in \u001b[0;36mwrapper\u001b[0;34m(self, *args, **kwargs)\u001b[0m\n\u001b[1;32m    466\u001b[0m             \u001b[0mrepr_running\u001b[0m\u001b[0;34m.\u001b[0m\u001b[0madd\u001b[0m\u001b[0;34m(\u001b[0m\u001b[0mkey\u001b[0m\u001b[0;34m)\u001b[0m\u001b[0;34m\u001b[0m\u001b[0;34m\u001b[0m\u001b[0m\n\u001b[1;32m    467\u001b[0m             \u001b[0;32mtry\u001b[0m\u001b[0;34m:\u001b[0m\u001b[0;34m\u001b[0m\u001b[0;34m\u001b[0m\u001b[0m\n\u001b[0;32m--> 468\u001b[0;31m                 \u001b[0;32mreturn\u001b[0m \u001b[0mf\u001b[0m\u001b[0;34m(\u001b[0m\u001b[0mself\u001b[0m\u001b[0;34m,\u001b[0m \u001b[0;34m*\u001b[0m\u001b[0margs\u001b[0m\u001b[0;34m,\u001b[0m \u001b[0;34m**\u001b[0m\u001b[0mkwargs\u001b[0m\u001b[0;34m)\u001b[0m\u001b[0;34m\u001b[0m\u001b[0;34m\u001b[0m\u001b[0m\n\u001b[0m\u001b[1;32m    469\u001b[0m             \u001b[0;32mfinally\u001b[0m\u001b[0;34m:\u001b[0m\u001b[0;34m\u001b[0m\u001b[0;34m\u001b[0m\u001b[0m\n\u001b[1;32m    470\u001b[0m                 \u001b[0mrepr_running\u001b[0m\u001b[0;34m.\u001b[0m\u001b[0mdiscard\u001b[0m\u001b[0;34m(\u001b[0m\u001b[0mkey\u001b[0m\u001b[0;34m)\u001b[0m\u001b[0;34m\u001b[0m\u001b[0;34m\u001b[0m\u001b[0m\n",
      "\u001b[0;32m~/.conda/envs/robert_venv/lib/python3.6/site-packages/numpy/core/arrayprint.py\u001b[0m in \u001b[0;36m_array2string\u001b[0;34m(a, options, separator, prefix)\u001b[0m\n\u001b[1;32m    492\u001b[0m \u001b[0;34m\u001b[0m\u001b[0m\n\u001b[1;32m    493\u001b[0m     \u001b[0;31m# find the right formatting function for the array\u001b[0m\u001b[0;34m\u001b[0m\u001b[0;34m\u001b[0m\u001b[0;34m\u001b[0m\u001b[0m\n\u001b[0;32m--> 494\u001b[0;31m     \u001b[0mformat_function\u001b[0m \u001b[0;34m=\u001b[0m \u001b[0m_get_format_function\u001b[0m\u001b[0;34m(\u001b[0m\u001b[0mdata\u001b[0m\u001b[0;34m,\u001b[0m \u001b[0;34m**\u001b[0m\u001b[0moptions\u001b[0m\u001b[0;34m)\u001b[0m\u001b[0;34m\u001b[0m\u001b[0;34m\u001b[0m\u001b[0m\n\u001b[0m\u001b[1;32m    495\u001b[0m \u001b[0;34m\u001b[0m\u001b[0m\n\u001b[1;32m    496\u001b[0m     \u001b[0;31m# skip over \"[\"\u001b[0m\u001b[0;34m\u001b[0m\u001b[0;34m\u001b[0m\u001b[0;34m\u001b[0m\u001b[0m\n",
      "\u001b[0;32m~/.conda/envs/robert_venv/lib/python3.6/site-packages/numpy/core/arrayprint.py\u001b[0m in \u001b[0;36m_get_format_function\u001b[0;34m(data, **options)\u001b[0m\n\u001b[1;32m    425\u001b[0m             \u001b[0;32mreturn\u001b[0m \u001b[0mformatdict\u001b[0m\u001b[0;34m[\u001b[0m\u001b[0;34m'longfloat'\u001b[0m\u001b[0;34m]\u001b[0m\u001b[0;34m(\u001b[0m\u001b[0;34m)\u001b[0m\u001b[0;34m\u001b[0m\u001b[0;34m\u001b[0m\u001b[0m\n\u001b[1;32m    426\u001b[0m         \u001b[0;32melse\u001b[0m\u001b[0;34m:\u001b[0m\u001b[0;34m\u001b[0m\u001b[0;34m\u001b[0m\u001b[0m\n\u001b[0;32m--> 427\u001b[0;31m             \u001b[0;32mreturn\u001b[0m \u001b[0mformatdict\u001b[0m\u001b[0;34m[\u001b[0m\u001b[0;34m'float'\u001b[0m\u001b[0;34m]\u001b[0m\u001b[0;34m(\u001b[0m\u001b[0;34m)\u001b[0m\u001b[0;34m\u001b[0m\u001b[0;34m\u001b[0m\u001b[0m\n\u001b[0m\u001b[1;32m    428\u001b[0m     \u001b[0;32melif\u001b[0m \u001b[0missubclass\u001b[0m\u001b[0;34m(\u001b[0m\u001b[0mdtypeobj\u001b[0m\u001b[0;34m,\u001b[0m \u001b[0m_nt\u001b[0m\u001b[0;34m.\u001b[0m\u001b[0mcomplexfloating\u001b[0m\u001b[0;34m)\u001b[0m\u001b[0;34m:\u001b[0m\u001b[0;34m\u001b[0m\u001b[0;34m\u001b[0m\u001b[0m\n\u001b[1;32m    429\u001b[0m         \u001b[0;32mif\u001b[0m \u001b[0missubclass\u001b[0m\u001b[0;34m(\u001b[0m\u001b[0mdtypeobj\u001b[0m\u001b[0;34m,\u001b[0m \u001b[0m_nt\u001b[0m\u001b[0;34m.\u001b[0m\u001b[0mclongfloat\u001b[0m\u001b[0;34m)\u001b[0m\u001b[0;34m:\u001b[0m\u001b[0;34m\u001b[0m\u001b[0;34m\u001b[0m\u001b[0m\n",
      "\u001b[0;32m~/.conda/envs/robert_venv/lib/python3.6/site-packages/numpy/core/arrayprint.py\u001b[0m in \u001b[0;36m<lambda>\u001b[0;34m()\u001b[0m\n\u001b[1;32m    365\u001b[0m         \u001b[0;34m'int'\u001b[0m\u001b[0;34m:\u001b[0m \u001b[0;32mlambda\u001b[0m\u001b[0;34m:\u001b[0m \u001b[0mIntegerFormat\u001b[0m\u001b[0;34m(\u001b[0m\u001b[0mdata\u001b[0m\u001b[0;34m)\u001b[0m\u001b[0;34m,\u001b[0m\u001b[0;34m\u001b[0m\u001b[0;34m\u001b[0m\u001b[0m\n\u001b[1;32m    366\u001b[0m         'float': lambda: FloatingFormat(\n\u001b[0;32m--> 367\u001b[0;31m             data, precision, floatmode, suppress, sign, legacy=legacy),\n\u001b[0m\u001b[1;32m    368\u001b[0m         'longfloat': lambda: FloatingFormat(\n\u001b[1;32m    369\u001b[0m             data, precision, floatmode, suppress, sign, legacy=legacy),\n",
      "\u001b[0;32m~/.conda/envs/robert_venv/lib/python3.6/site-packages/numpy/core/arrayprint.py\u001b[0m in \u001b[0;36m__init__\u001b[0;34m(self, data, precision, floatmode, suppress_small, sign, legacy)\u001b[0m\n\u001b[1;32m    859\u001b[0m         \u001b[0mself\u001b[0m\u001b[0;34m.\u001b[0m\u001b[0mlarge_exponent\u001b[0m \u001b[0;34m=\u001b[0m \u001b[0;32mFalse\u001b[0m\u001b[0;34m\u001b[0m\u001b[0;34m\u001b[0m\u001b[0m\n\u001b[1;32m    860\u001b[0m \u001b[0;34m\u001b[0m\u001b[0m\n\u001b[0;32m--> 861\u001b[0;31m         \u001b[0mself\u001b[0m\u001b[0;34m.\u001b[0m\u001b[0mfillFormat\u001b[0m\u001b[0;34m(\u001b[0m\u001b[0mdata\u001b[0m\u001b[0;34m)\u001b[0m\u001b[0;34m\u001b[0m\u001b[0;34m\u001b[0m\u001b[0m\n\u001b[0m\u001b[1;32m    862\u001b[0m \u001b[0;34m\u001b[0m\u001b[0m\n\u001b[1;32m    863\u001b[0m     \u001b[0;32mdef\u001b[0m \u001b[0mfillFormat\u001b[0m\u001b[0;34m(\u001b[0m\u001b[0mself\u001b[0m\u001b[0;34m,\u001b[0m \u001b[0mdata\u001b[0m\u001b[0;34m)\u001b[0m\u001b[0;34m:\u001b[0m\u001b[0;34m\u001b[0m\u001b[0;34m\u001b[0m\u001b[0m\n",
      "\u001b[0;32m~/.conda/envs/robert_venv/lib/python3.6/site-packages/numpy/core/arrayprint.py\u001b[0m in \u001b[0;36mfillFormat\u001b[0;34m(self, data)\u001b[0m\n\u001b[1;32m    916\u001b[0m                                        sign=self.sign == '+')\n\u001b[1;32m    917\u001b[0m                     for x in finite_vals)\n\u001b[0;32m--> 918\u001b[0;31m             \u001b[0mint_part\u001b[0m\u001b[0;34m,\u001b[0m \u001b[0mfrac_part\u001b[0m \u001b[0;34m=\u001b[0m \u001b[0mzip\u001b[0m\u001b[0;34m(\u001b[0m\u001b[0;34m*\u001b[0m\u001b[0;34m(\u001b[0m\u001b[0ms\u001b[0m\u001b[0;34m.\u001b[0m\u001b[0msplit\u001b[0m\u001b[0;34m(\u001b[0m\u001b[0;34m'.'\u001b[0m\u001b[0;34m)\u001b[0m \u001b[0;32mfor\u001b[0m \u001b[0ms\u001b[0m \u001b[0;32min\u001b[0m \u001b[0mstrs\u001b[0m\u001b[0;34m)\u001b[0m\u001b[0;34m)\u001b[0m\u001b[0;34m\u001b[0m\u001b[0;34m\u001b[0m\u001b[0m\n\u001b[0m\u001b[1;32m    919\u001b[0m             \u001b[0;32mif\u001b[0m \u001b[0mself\u001b[0m\u001b[0;34m.\u001b[0m\u001b[0m_legacy\u001b[0m \u001b[0;34m==\u001b[0m \u001b[0;34m'1.13'\u001b[0m\u001b[0;34m:\u001b[0m\u001b[0;34m\u001b[0m\u001b[0;34m\u001b[0m\u001b[0m\n\u001b[1;32m    920\u001b[0m                 \u001b[0mself\u001b[0m\u001b[0;34m.\u001b[0m\u001b[0mpad_left\u001b[0m \u001b[0;34m=\u001b[0m \u001b[0;36m1\u001b[0m \u001b[0;34m+\u001b[0m \u001b[0mmax\u001b[0m\u001b[0;34m(\u001b[0m\u001b[0mlen\u001b[0m\u001b[0;34m(\u001b[0m\u001b[0ms\u001b[0m\u001b[0;34m.\u001b[0m\u001b[0mlstrip\u001b[0m\u001b[0;34m(\u001b[0m\u001b[0;34m'-+'\u001b[0m\u001b[0;34m)\u001b[0m\u001b[0;34m)\u001b[0m \u001b[0;32mfor\u001b[0m \u001b[0ms\u001b[0m \u001b[0;32min\u001b[0m \u001b[0mint_part\u001b[0m\u001b[0;34m)\u001b[0m\u001b[0;34m\u001b[0m\u001b[0;34m\u001b[0m\u001b[0m\n",
      "\u001b[0;32m~/.conda/envs/robert_venv/lib/python3.6/site-packages/numpy/core/arrayprint.py\u001b[0m in \u001b[0;36m<genexpr>\u001b[0;34m(.0)\u001b[0m\n\u001b[1;32m    916\u001b[0m                                        sign=self.sign == '+')\n\u001b[1;32m    917\u001b[0m                     for x in finite_vals)\n\u001b[0;32m--> 918\u001b[0;31m             \u001b[0mint_part\u001b[0m\u001b[0;34m,\u001b[0m \u001b[0mfrac_part\u001b[0m \u001b[0;34m=\u001b[0m \u001b[0mzip\u001b[0m\u001b[0;34m(\u001b[0m\u001b[0;34m*\u001b[0m\u001b[0;34m(\u001b[0m\u001b[0ms\u001b[0m\u001b[0;34m.\u001b[0m\u001b[0msplit\u001b[0m\u001b[0;34m(\u001b[0m\u001b[0;34m'.'\u001b[0m\u001b[0;34m)\u001b[0m \u001b[0;32mfor\u001b[0m \u001b[0ms\u001b[0m \u001b[0;32min\u001b[0m \u001b[0mstrs\u001b[0m\u001b[0;34m)\u001b[0m\u001b[0;34m)\u001b[0m\u001b[0;34m\u001b[0m\u001b[0;34m\u001b[0m\u001b[0m\n\u001b[0m\u001b[1;32m    919\u001b[0m             \u001b[0;32mif\u001b[0m \u001b[0mself\u001b[0m\u001b[0;34m.\u001b[0m\u001b[0m_legacy\u001b[0m \u001b[0;34m==\u001b[0m \u001b[0;34m'1.13'\u001b[0m\u001b[0;34m:\u001b[0m\u001b[0;34m\u001b[0m\u001b[0;34m\u001b[0m\u001b[0m\n\u001b[1;32m    920\u001b[0m                 \u001b[0mself\u001b[0m\u001b[0;34m.\u001b[0m\u001b[0mpad_left\u001b[0m \u001b[0;34m=\u001b[0m \u001b[0;36m1\u001b[0m \u001b[0;34m+\u001b[0m \u001b[0mmax\u001b[0m\u001b[0;34m(\u001b[0m\u001b[0mlen\u001b[0m\u001b[0;34m(\u001b[0m\u001b[0ms\u001b[0m\u001b[0;34m.\u001b[0m\u001b[0mlstrip\u001b[0m\u001b[0;34m(\u001b[0m\u001b[0;34m'-+'\u001b[0m\u001b[0;34m)\u001b[0m\u001b[0;34m)\u001b[0m \u001b[0;32mfor\u001b[0m \u001b[0ms\u001b[0m \u001b[0;32min\u001b[0m \u001b[0mint_part\u001b[0m\u001b[0;34m)\u001b[0m\u001b[0;34m\u001b[0m\u001b[0;34m\u001b[0m\u001b[0m\n",
      "\u001b[0;32m~/.conda/envs/robert_venv/lib/python3.6/site-packages/numpy/core/arrayprint.py\u001b[0m in \u001b[0;36m<genexpr>\u001b[0;34m(.0)\u001b[0m\n\u001b[1;32m    915\u001b[0m                                        \u001b[0munique\u001b[0m\u001b[0;34m=\u001b[0m\u001b[0munique\u001b[0m\u001b[0;34m,\u001b[0m \u001b[0mtrim\u001b[0m\u001b[0;34m=\u001b[0m\u001b[0mtrim\u001b[0m\u001b[0;34m,\u001b[0m\u001b[0;34m\u001b[0m\u001b[0;34m\u001b[0m\u001b[0m\n\u001b[1;32m    916\u001b[0m                                        sign=self.sign == '+')\n\u001b[0;32m--> 917\u001b[0;31m                     for x in finite_vals)\n\u001b[0m\u001b[1;32m    918\u001b[0m             \u001b[0mint_part\u001b[0m\u001b[0;34m,\u001b[0m \u001b[0mfrac_part\u001b[0m \u001b[0;34m=\u001b[0m \u001b[0mzip\u001b[0m\u001b[0;34m(\u001b[0m\u001b[0;34m*\u001b[0m\u001b[0;34m(\u001b[0m\u001b[0ms\u001b[0m\u001b[0;34m.\u001b[0m\u001b[0msplit\u001b[0m\u001b[0;34m(\u001b[0m\u001b[0;34m'.'\u001b[0m\u001b[0;34m)\u001b[0m \u001b[0;32mfor\u001b[0m \u001b[0ms\u001b[0m \u001b[0;32min\u001b[0m \u001b[0mstrs\u001b[0m\u001b[0;34m)\u001b[0m\u001b[0;34m)\u001b[0m\u001b[0;34m\u001b[0m\u001b[0;34m\u001b[0m\u001b[0m\n\u001b[1;32m    919\u001b[0m             \u001b[0;32mif\u001b[0m \u001b[0mself\u001b[0m\u001b[0;34m.\u001b[0m\u001b[0m_legacy\u001b[0m \u001b[0;34m==\u001b[0m \u001b[0;34m'1.13'\u001b[0m\u001b[0;34m:\u001b[0m\u001b[0;34m\u001b[0m\u001b[0;34m\u001b[0m\u001b[0m\n",
      "\u001b[0;31mKeyboardInterrupt\u001b[0m: "
     ]
    }
   ],
   "source": [
    "rec = Reconstruction(data[:100],tf.float32)\n",
    "# det=rec.detectors_init()\n",
    "# core=rec.core_()\n",
    "# sol = rec.place_sol() \n",
    "# sol\n",
    "chi,params=rec.optimization(1000,num=25)"
   ]
  },
  {
   "cell_type": "code",
   "execution_count": 444,
   "metadata": {},
   "outputs": [],
   "source": [
    "theta = tf.constant(ev_params[:100,0:1]/180*3.1415)\n",
    "phi = tf.constant(ev_params[:100,1:2]/180*3.1415)"
   ]
  },
  {
   "cell_type": "code",
   "execution_count": 378,
   "metadata": {},
   "outputs": [
    {
     "data": {
      "text/plain": [
       "<tf.Tensor: shape=(6, 6), dtype=float32, numpy=\n",
       "array([[-0.       , -0.       , -0.       , -0.       , -0.       ,\n",
       "        -0.       ],\n",
       "       [ 0.       , -0.       , -0.       , -5.6262126, -7.746213 ,\n",
       "        -0.       ],\n",
       "       [ 0.       , -0.       , -2.7388806, -4.85888  , -6.9788804,\n",
       "        -0.       ],\n",
       "       [ 0.       ,  0.       , -1.9715478, -4.091547 , -0.       ,\n",
       "        -0.       ],\n",
       "       [ 0.       ,  0.       , -1.204215 , -0.       , -0.       ,\n",
       "        -0.       ],\n",
       "       [ 0.       ,  0.       , -0.       , -0.       , -0.       ,\n",
       "        -0.       ]], dtype=float32)>"
      ]
     },
     "execution_count": 378,
     "metadata": {},
     "output_type": "execute_result"
    }
   ],
   "source": [
    "rec.place_reconstruction()[0,:,:,0]"
   ]
  },
  {
   "cell_type": "code",
   "execution_count": 379,
   "metadata": {},
   "outputs": [
    {
     "data": {
      "text/plain": [
       "array([[ 0.        ,  0.        , -0.        , -0.        , -0.        ,\n",
       "        -0.        ],\n",
       "       [ 0.        ,  0.        ,  0.        , -1.3677497 , -3.6812239 ,\n",
       "        -0.        ],\n",
       "       [ 0.        ,  0.        ,  1.976748  , -0.33672604, -2.6502004 ,\n",
       "        -0.        ],\n",
       "       [ 0.        ,  0.        ,  3.0077717 ,  0.6942976 , -0.        ,\n",
       "        -0.        ],\n",
       "       [ 0.        ,  0.        ,  4.0387955 ,  0.        , -0.        ,\n",
       "        -0.        ],\n",
       "       [ 0.        ,  0.        ,  0.        ,  0.        ,  0.        ,\n",
       "        -0.        ]], dtype=float32)"
      ]
     },
     "execution_count": 379,
     "metadata": {},
     "output_type": "execute_result"
    }
   ],
   "source": [
    "recon = rec.place_reconstruction_static(rec.t0,theta,phi,rec.core)[0,:,:,0]\n",
    "recon.numpy()"
   ]
  },
  {
   "cell_type": "code",
   "execution_count": 380,
   "metadata": {},
   "outputs": [
    {
     "data": {
      "text/plain": [
       "array([[ 0.   ,  0.   ,  0.   ,  0.   ,  0.   ,  0.   ],\n",
       "       [ 0.   ,  0.   ,  0.   , -2.313, -4.545,  0.   ],\n",
       "       [ 0.   ,  0.   ,  1.186, -1.155, -3.481,  0.   ],\n",
       "       [ 0.   ,  0.   ,  2.256, -0.297,  0.   ,  0.   ],\n",
       "       [ 0.   ,  0.   ,  3.27 ,  0.   ,  0.   ,  0.   ],\n",
       "       [ 0.   ,  0.   ,  0.   ,  0.   ,  0.   ,  0.   ]], dtype=float32)"
      ]
     },
     "execution_count": 380,
     "metadata": {},
     "output_type": "execute_result"
    }
   ],
   "source": [
    "real = data[0,:,:,1]\n",
    "real"
   ]
  },
  {
   "cell_type": "code",
   "execution_count": 381,
   "metadata": {},
   "outputs": [
    {
     "data": {
      "text/plain": [
       "<tf.Tensor: shape=(6, 6), dtype=float32, numpy=\n",
       "array([[ 0.       ,  0.       , -0.       , -0.       , -0.       ,\n",
       "        -0.       ],\n",
       "       [ 0.       ,  0.       ,  0.       ,  0.9452503,  0.8637762,\n",
       "        -0.       ],\n",
       "       [ 0.       ,  0.       ,  0.790748 ,  0.8182739,  0.8307996,\n",
       "        -0.       ],\n",
       "       [ 0.       ,  0.       ,  0.7517717,  0.9912976, -0.       ,\n",
       "        -0.       ],\n",
       "       [ 0.       ,  0.       ,  0.7687955,  0.       , -0.       ,\n",
       "        -0.       ],\n",
       "       [ 0.       ,  0.       ,  0.       ,  0.       ,  0.       ,\n",
       "        -0.       ]], dtype=float32)>"
      ]
     },
     "execution_count": 381,
     "metadata": {},
     "output_type": "execute_result"
    }
   ],
   "source": [
    "recon-real"
   ]
  },
  {
   "cell_type": "code",
   "execution_count": 343,
   "metadata": {},
   "outputs": [
    {
     "data": {
      "text/plain": [
       "array([[0.   , 0.   , 0.   , 0.   , 0.   , 0.   ],\n",
       "       [0.   , 0.   , 0.   , 1.286, 2.098, 0.   ],\n",
       "       [0.   , 0.   , 0.487, 0.288, 0.734, 0.   ],\n",
       "       [0.   , 0.   , 0.397, 0.49 , 0.   , 0.   ],\n",
       "       [0.   , 0.   , 0.583, 0.   , 0.   , 0.   ],\n",
       "       [0.   , 0.   , 0.   , 0.   , 0.   , 0.   ]], dtype=float32)"
      ]
     },
     "execution_count": 343,
     "metadata": {},
     "output_type": "execute_result"
    }
   ],
   "source": [
    "\n",
    "data[0,:,:,2]"
   ]
  },
  {
   "cell_type": "code",
   "execution_count": 285,
   "metadata": {},
   "outputs": [
    {
     "data": {
      "text/plain": [
       "<tf.Tensor: shape=(6, 6), dtype=float32, numpy=\n",
       "array([[-0.       , -0.       , -0.       , -0.       , -0.       ,\n",
       "        -0.       ],\n",
       "       [-0.       , -0.       , -0.       ,  3.500845 ,  1.380568 ,\n",
       "        -0.       ],\n",
       "       [-0.       , -0.       ,  6.3883286,  4.2683973,  2.1482582,\n",
       "        -0.       ],\n",
       "       [-0.       , -0.       ,  7.155482 ,  5.035603 , -0.       ,\n",
       "        -0.       ],\n",
       "       [-0.       , -0.       ,  7.921096 , -0.       , -0.       ,\n",
       "        -0.       ],\n",
       "       [-0.       , -0.       , -0.       , -0.       , -0.       ,\n",
       "        -0.       ]], dtype=float32)>"
      ]
     },
     "execution_count": 285,
     "metadata": {},
     "output_type": "execute_result"
    }
   ],
   "source": [
    "\n",
    "t_place = rec.place_reconstruction_static(rec.t0,tf.expand_dims(rec.theta,1),tf.expand_dims(rec.phi,1),rec.core)\n",
    "td,LDF = rec.courve_reconstruction_static(rec.t0,tf.expand_dims(rec.theta,1),tf.expand_dims(rec.phi,1),rec.courve,rec.core)  #update LDF <==> s_profile\n",
    "# t_sigma2=(self.t0_err*self.t0_err + td*td) * self.t_err_res\n",
    "time_reco = t_place +td\n",
    "time_reco[0,:,:,0]* data[0,:,:,-1]"
   ]
  },
  {
   "cell_type": "code",
   "execution_count": 276,
   "metadata": {},
   "outputs": [
    {
     "data": {
      "text/plain": [
       "<tf.Tensor: shape=(6, 6), dtype=float32, numpy=\n",
       "array([[-0.       , -0.       , -0.       , -0.       , -0.       ,\n",
       "        -0.       ],\n",
       "       [-0.       , -0.       , -3.27     , -0.       , -7.815    ,\n",
       "        -0.       ],\n",
       "       [-0.       , -3.27     , -2.084    , -4.425    , -6.751    ,\n",
       "        -0.       ],\n",
       "       [-0.       , -3.27     , -1.0139999, -3.567    , -0.       ,\n",
       "        -0.       ],\n",
       "       [-0.       , -0.       ,  0.       , -0.       , -0.       ,\n",
       "        -0.       ],\n",
       "       [-0.       , -0.       , -0.       , -0.       , -0.       ,\n",
       "        -0.       ]], dtype=float32)>"
      ]
     },
     "execution_count": 276,
     "metadata": {},
     "output_type": "execute_result"
    }
   ],
   "source": [
    "(real - tf.reduce_max(real))*data[3,:,:,-1]"
   ]
  },
  {
   "cell_type": "code",
   "execution_count": 156,
   "metadata": {},
   "outputs": [
    {
     "data": {
      "text/plain": [
       "<tf.Tensor: shape=(6, 6), dtype=float32, numpy=\n",
       "array([[-0.        , -0.        , -0.        , -0.        , -0.        ,\n",
       "        -0.        ],\n",
       "       [-0.        , -0.        , -0.34923148, -0.        ,  0.        ,\n",
       "        -0.        ],\n",
       "       [-0.        , -0.8096844 , -0.63506866, -0.4604529 , -0.28583717,\n",
       "        -0.        ],\n",
       "       [-0.        , -1.0955217 , -0.92090595, -0.7462902 , -0.        ,\n",
       "        -0.        ],\n",
       "       [-0.        , -0.        , -0.        , -0.        , -0.        ,\n",
       "        -0.        ],\n",
       "       [-0.        , -0.        , -0.        , -0.        , -0.        ,\n",
       "        -0.        ]], dtype=float32)>"
      ]
     },
     "execution_count": 156,
     "metadata": {},
     "output_type": "execute_result"
    }
   ],
   "source": [
    "(recon - tf.reduce_max(recon))*data[3,:,:,-1]"
   ]
  },
  {
   "cell_type": "code",
   "execution_count": 152,
   "metadata": {},
   "outputs": [
    {
     "data": {
      "text/plain": [
       "<tf.Tensor: shape=(1,), dtype=float32, numpy=array([165.08139], dtype=float32)>"
      ]
     },
     "execution_count": 152,
     "metadata": {},
     "output_type": "execute_result"
    }
   ],
   "source": [
    "(phi[3]-rec.phi[3])*180/3.14"
   ]
  },
  {
   "cell_type": "code",
   "execution_count": 237,
   "metadata": {},
   "outputs": [
    {
     "data": {
      "image/png": "[encoded data removed]",
      "text/plain": [
       "<Figure size 432x288 with 1 Axes>"
      ]
     },
     "metadata": {
      "needs_background": "light"
     },
     "output_type": "display_data"
    }
   ],
   "source": [
    "plt.plot(tf.reduce_mean(chi[200:,:,0],axis=1))\n",
    "plt.grid()"
   ]
  },
  {
   "cell_type": "code",
   "execution_count": 239,
   "metadata": {},
   "outputs": [
    {
     "name": "stdout",
     "output_type": "stream",
     "text": [
      "(4000, 100, 1)\n",
      "(4000, 100, 1)\n",
      "(4000, 100, 1)\n",
      "(4000, 100, 1)\n",
      "(4000, 100, 1)\n",
      "(4000, 100, 1)\n",
      "(4000, 100, 1)\n",
      "(4000, 100, 1)\n",
      "(4000, 100, 1)\n",
      "(4000, 100, 1)\n"
     ]
    },
    {
     "data": {
      "text/plain": [
       "Text(0.5, 1.0, 'chi_T')"
      ]
     },
     "execution_count": 239,
     "metadata": {},
     "output_type": "execute_result"
    },
    {
     "data": {
      "image/png": "[encoded data removed]",
      "text/plain": [
       "<Figure size 432x288 with 1 Axes>"
      ]
     },
     "metadata": {
      "needs_background": "light"
     },
     "output_type": "display_data"
    }
   ],
   "source": [
    "for i in range(10):\n",
    "    print(np.array(chi).shape)\n",
    "    plt.plot(chi[:,i,0],label=str(i))\n",
    "    plt.ylim(0,0.4)\n",
    "plt.legend()\n",
    "plt.title('chi_T')"
   ]
  },
  {
   "cell_type": "code",
   "execution_count": 240,
   "metadata": {},
   "outputs": [
    {
     "data": {
      "text/plain": [
       "(4001, 100, 7)"
      ]
     },
     "execution_count": 240,
     "metadata": {},
     "output_type": "execute_result"
    }
   ],
   "source": [
    "for s1,p1 in enumerate(params):\n",
    "    p2=tf.concat(p1,axis=1)\n",
    "    params[s1]=p2\n",
    "params = np.array(params)\n",
    "params.shape"
   ]
  },
  {
   "cell_type": "code",
   "execution_count": 241,
   "metadata": {},
   "outputs": [
    {
     "name": "stdout",
     "output_type": "stream",
     "text": [
      "(4000, 100, 1)\n",
      "(4000, 100, 1)\n",
      "(4000, 100, 1)\n",
      "(4000, 100, 1)\n",
      "(4000, 100, 1)\n",
      "(4000, 100, 1)\n",
      "(4000, 100, 1)\n",
      "(4000, 100, 1)\n",
      "(4000, 100, 1)\n",
      "(4000, 100, 1)\n"
     ]
    },
    {
     "data": {
      "text/plain": [
       "Text(0.5, 1.0, 'S_X')"
      ]
     },
     "execution_count": 241,
     "metadata": {},
     "output_type": "execute_result"
    },
    {
     "data": {
      "image/png": "[encoded data removed]",
      "text/plain": [
       "<Figure size 432x288 with 1 Axes>"
      ]
     },
     "metadata": {
      "needs_background": "light"
     },
     "output_type": "display_data"
    }
   ],
   "source": [
    "for i in range(0,10):\n",
    "    print(np.array(chi).shape)\n",
    "    plt.plot(params[:,i,-1],label=str(i))\n",
    "plt.legend()\n",
    "plt.title('S_X')"
   ]
  },
  {
   "cell_type": "code",
   "execution_count": 242,
   "metadata": {},
   "outputs": [
    {
     "name": "stdout",
     "output_type": "stream",
     "text": [
      "(4000, 100, 1)\n",
      "(4000, 100, 1)\n",
      "(4000, 100, 1)\n",
      "(4000, 100, 1)\n",
      "(4000, 100, 1)\n",
      "(4000, 100, 1)\n",
      "(4000, 100, 1)\n",
      "(4000, 100, 1)\n",
      "(4000, 100, 1)\n",
      "(4000, 100, 1)\n"
     ]
    },
    {
     "data": {
      "text/plain": [
       "Text(0.5, 1.0, 't0')"
      ]
     },
     "execution_count": 242,
     "metadata": {},
     "output_type": "execute_result"
    },
    {
     "data": {
      "image/png": "[encoded data removed]",
      "text/plain": [
       "<Figure size 432x288 with 1 Axes>"
      ]
     },
     "metadata": {
      "needs_background": "light"
     },
     "output_type": "display_data"
    }
   ],
   "source": [
    "for i in range(10):\n",
    "    print(np.array(chi).shape)\n",
    "    plt.plot(params[:,i,0],label=str(i))\n",
    "plt.legend()\n",
    "plt.title('t0')"
   ]
  },
  {
   "cell_type": "code",
   "execution_count": 243,
   "metadata": {},
   "outputs": [],
   "source": [
    "theta_r = ev_params[10:110,0]/180*math.pi\n"
   ]
  },
  {
   "cell_type": "code",
   "execution_count": 244,
   "metadata": {},
   "outputs": [
    {
     "data": {
      "text/plain": [
       "(4000, 100, 1)"
      ]
     },
     "execution_count": 244,
     "metadata": {},
     "output_type": "execute_result"
    }
   ],
   "source": [
    "chi.shape"
   ]
  },
  {
   "cell_type": "code",
   "execution_count": 245,
   "metadata": {},
   "outputs": [
    {
     "data": {
      "text/plain": [
       "Text(0.5, 1.0, 'theta')"
      ]
     },
     "execution_count": 245,
     "metadata": {},
     "output_type": "execute_result"
    },
    {
     "data": {
      "image/png": "[encoded data removed]",
      "text/plain": [
       "<Figure size 432x288 with 1 Axes>"
      ]
     },
     "metadata": {
      "needs_background": "light"
     },
     "output_type": "display_data"
    }
   ],
   "source": [
    "for i in range(12,16):\n",
    "    c=np.random.rand(3)\n",
    "    plt.plot(params[:,i,1],label=str(i),c=c)\n",
    "    plt.axhline(y = theta_r[i], color =c, linestyle = '--') \n",
    "plt.legend()\n",
    "plt.title('theta')"
   ]
  },
  {
   "cell_type": "code",
   "execution_count": 246,
   "metadata": {},
   "outputs": [
    {
     "data": {
      "text/plain": [
       "Text(0.5, 1.0, 'phi')"
      ]
     },
     "execution_count": 246,
     "metadata": {},
     "output_type": "execute_result"
    },
    {
     "data": {
      "image/png": "[encoded data removed]",
      "text/plain": [
       "<Figure size 432x288 with 1 Axes>"
      ]
     },
     "metadata": {
      "needs_background": "light"
     },
     "output_type": "display_data"
    }
   ],
   "source": [
    "for i in range(10):\n",
    "    plt.plot(params[:,i,2],label=str(i))\n",
    "plt.legend()\n",
    "plt.title('phi')"
   ]
  },
  {
   "cell_type": "code",
   "execution_count": 251,
   "metadata": {},
   "outputs": [
    {
     "name": "stdout",
     "output_type": "stream",
     "text": [
      "(4001, 100, 7)\n",
      "(4001, 100, 7)\n",
      "(4001, 100, 7)\n",
      "(4001, 100, 7)\n",
      "(4001, 100, 7)\n",
      "(4001, 100, 7)\n",
      "(4001, 100, 7)\n",
      "(4001, 100, 7)\n",
      "(4001, 100, 7)\n",
      "(4001, 100, 7)\n"
     ]
    },
    {
     "data": {
      "text/plain": [
       "Text(0.5, 1.0, 'courve')"
      ]
     },
     "execution_count": 251,
     "metadata": {},
     "output_type": "execute_result"
    },
    {
     "data": {
      "image/png": "[encoded data removed]",
      "text/plain": [
       "<Figure size 432x288 with 1 Axes>"
      ]
     },
     "metadata": {
      "needs_background": "light"
     },
     "output_type": "display_data"
    }
   ],
   "source": [
    "for i in range(10):\n",
    "    print(params[:].shape)\n",
    "    plt.plot(params[:,i,3],label=str(i))\n",
    "plt.legend()\n",
    "plt.title('courve')"
   ]
  },
  {
   "cell_type": "code",
   "execution_count": 253,
   "metadata": {},
   "outputs": [
    {
     "name": "stdout",
     "output_type": "stream",
     "text": [
      "(4001, 100, 7)\n",
      "(4001, 100, 7)\n",
      "(4001, 100, 7)\n",
      "(4001, 100, 7)\n",
      "(4001, 100, 7)\n",
      "(4001, 100, 7)\n",
      "(4001, 100, 7)\n",
      "(4001, 100, 7)\n",
      "(4001, 100, 7)\n",
      "(4001, 100, 7)\n"
     ]
    },
    {
     "data": {
      "text/plain": [
       "Text(0.5, 1.0, 'core_x')"
      ]
     },
     "execution_count": 253,
     "metadata": {},
     "output_type": "execute_result"
    },
    {
     "data": {
      "image/png": "[encoded data removed]",
      "text/plain": [
       "<Figure size 432x288 with 1 Axes>"
      ]
     },
     "metadata": {
      "needs_background": "light"
     },
     "output_type": "display_data"
    }
   ],
   "source": [
    "for i in range(10):\n",
    "    print(params[:].shape)\n",
    "    plt.plot(params[:,i,4],label=str(i))\n",
    "plt.legend()\n",
    "plt.title('core_x')"
   ]
  },
  {
   "cell_type": "code",
   "execution_count": 248,
   "metadata": {},
   "outputs": [
    {
     "data": {
      "text/plain": [
       "array([[ 39.2557 , 114.024  ],\n",
       "       [ 36.0943 , 180.941  ],\n",
       "       [  7.64452, 277.095  ],\n",
       "       [  4.83893, 133.645  ],\n",
       "       [  9.12421,  11.4863 ],\n",
       "       [  4.09641, 129.41   ],\n",
       "       [  6.02779, 299.594  ],\n",
       "       [  5.67326, 328.879  ],\n",
       "       [  5.62831,  42.347  ],\n",
       "       [  4.77911, 189.887  ],\n",
       "       [ 35.6531 , 325.147  ],\n",
       "       [ 30.5317 , 117.835  ],\n",
       "       [ 34.0435 , 355.499  ],\n",
       "       [ 31.3505 , 283.593  ],\n",
       "       [ 32.8267 , 141.962  ],\n",
       "       [ 30.6234 , 173.66   ],\n",
       "       [ 33.6671 , 353.896  ],\n",
       "       [ 32.0517 , 227.489  ],\n",
       "       [ 34.2791 ,  21.6844 ],\n",
       "       [ 31.4452 , 161.245  ]], dtype=float32)"
      ]
     },
     "execution_count": 248,
     "metadata": {},
     "output_type": "execute_result"
    }
   ],
   "source": [
    "ev_params[:100][:20]"
   ]
  },
  {
   "cell_type": "code",
   "execution_count": 249,
   "metadata": {},
   "outputs": [
    {
     "ename": "InvalidArgumentError",
     "evalue": "ConcatOp : Expected concatenating dimensions in the range [-1, 1), but got 1 [Op:ConcatV2] name: concat",
     "output_type": "error",
     "traceback": [
      "\u001b[0;31m---------------------------------------------------------------------------\u001b[0m",
      "\u001b[0;31mInvalidArgumentError\u001b[0m                      Traceback (most recent call last)",
      "\u001b[0;32m<ipython-input-249-6bba2fdbde25>\u001b[0m in \u001b[0;36m<module>\u001b[0;34m\u001b[0m\n\u001b[0;32m----> 1\u001b[0;31m \u001b[0mang_res\u001b[0m\u001b[0;34m=\u001b[0m\u001b[0mtf\u001b[0m\u001b[0;34m.\u001b[0m\u001b[0mconcat\u001b[0m\u001b[0;34m(\u001b[0m\u001b[0;34m[\u001b[0m\u001b[0mrec\u001b[0m\u001b[0;34m.\u001b[0m\u001b[0mtheta\u001b[0m\u001b[0;34m*\u001b[0m\u001b[0;36m180\u001b[0m\u001b[0;34m/\u001b[0m\u001b[0;36m3.14\u001b[0m\u001b[0;34m,\u001b[0m\u001b[0mtf\u001b[0m\u001b[0;34m.\u001b[0m\u001b[0mwhere\u001b[0m\u001b[0;34m(\u001b[0m\u001b[0mrec\u001b[0m\u001b[0;34m.\u001b[0m\u001b[0mphi\u001b[0m\u001b[0;34m*\u001b[0m\u001b[0;36m180\u001b[0m\u001b[0;34m/\u001b[0m\u001b[0;36m3.14\u001b[0m\u001b[0;34m>\u001b[0m\u001b[0;36m0\u001b[0m\u001b[0;34m,\u001b[0m\u001b[0mrec\u001b[0m\u001b[0;34m.\u001b[0m\u001b[0mphi\u001b[0m\u001b[0;34m*\u001b[0m\u001b[0;36m180\u001b[0m\u001b[0;34m/\u001b[0m\u001b[0;36m3.14\u001b[0m\u001b[0;34m,\u001b[0m\u001b[0;34m(\u001b[0m\u001b[0mrec\u001b[0m\u001b[0;34m.\u001b[0m\u001b[0mphi\u001b[0m\u001b[0;34m+\u001b[0m\u001b[0;36m3.14\u001b[0m\u001b[0;34m*\u001b[0m\u001b[0;36m2\u001b[0m\u001b[0;34m)\u001b[0m\u001b[0;34m*\u001b[0m\u001b[0;36m180\u001b[0m\u001b[0;34m/\u001b[0m\u001b[0;36m3.14\u001b[0m\u001b[0;34m)\u001b[0m\u001b[0;34m]\u001b[0m\u001b[0;34m,\u001b[0m\u001b[0maxis\u001b[0m\u001b[0;34m=\u001b[0m\u001b[0;36m1\u001b[0m\u001b[0;34m)\u001b[0m\u001b[0;34m\u001b[0m\u001b[0;34m\u001b[0m\u001b[0m\n\u001b[0m\u001b[1;32m      2\u001b[0m \u001b[0mang_res\u001b[0m\u001b[0;34m[\u001b[0m\u001b[0;34m:\u001b[0m\u001b[0;36m20\u001b[0m\u001b[0;34m]\u001b[0m\u001b[0;34m\u001b[0m\u001b[0;34m\u001b[0m\u001b[0m\n",
      "\u001b[0;32m~/.conda/envs/robert_venv/lib/python3.6/site-packages/tensorflow/python/util/dispatch.py\u001b[0m in \u001b[0;36mwrapper\u001b[0;34m(*args, **kwargs)\u001b[0m\n\u001b[1;32m    199\u001b[0m     \u001b[0;34m\"\"\"Call target, and fall back on dispatchers if there is a TypeError.\"\"\"\u001b[0m\u001b[0;34m\u001b[0m\u001b[0;34m\u001b[0m\u001b[0m\n\u001b[1;32m    200\u001b[0m     \u001b[0;32mtry\u001b[0m\u001b[0;34m:\u001b[0m\u001b[0;34m\u001b[0m\u001b[0;34m\u001b[0m\u001b[0m\n\u001b[0;32m--> 201\u001b[0;31m       \u001b[0;32mreturn\u001b[0m \u001b[0mtarget\u001b[0m\u001b[0;34m(\u001b[0m\u001b[0;34m*\u001b[0m\u001b[0margs\u001b[0m\u001b[0;34m,\u001b[0m \u001b[0;34m**\u001b[0m\u001b[0mkwargs\u001b[0m\u001b[0;34m)\u001b[0m\u001b[0;34m\u001b[0m\u001b[0;34m\u001b[0m\u001b[0m\n\u001b[0m\u001b[1;32m    202\u001b[0m     \u001b[0;32mexcept\u001b[0m \u001b[0;34m(\u001b[0m\u001b[0mTypeError\u001b[0m\u001b[0;34m,\u001b[0m \u001b[0mValueError\u001b[0m\u001b[0;34m)\u001b[0m\u001b[0;34m:\u001b[0m\u001b[0;34m\u001b[0m\u001b[0;34m\u001b[0m\u001b[0m\n\u001b[1;32m    203\u001b[0m       \u001b[0;31m# Note: convert_to_eager_tensor currently raises a ValueError, not a\u001b[0m\u001b[0;34m\u001b[0m\u001b[0;34m\u001b[0m\u001b[0;34m\u001b[0m\u001b[0m\n",
      "\u001b[0;32m~/.conda/envs/robert_venv/lib/python3.6/site-packages/tensorflow/python/ops/array_ops.py\u001b[0m in \u001b[0;36mconcat\u001b[0;34m(values, axis, name)\u001b[0m\n\u001b[1;32m   1675\u001b[0m           dtype=dtypes.int32).get_shape().assert_has_rank(0)\n\u001b[1;32m   1676\u001b[0m       \u001b[0;32mreturn\u001b[0m \u001b[0midentity\u001b[0m\u001b[0;34m(\u001b[0m\u001b[0mvalues\u001b[0m\u001b[0;34m[\u001b[0m\u001b[0;36m0\u001b[0m\u001b[0;34m]\u001b[0m\u001b[0;34m,\u001b[0m \u001b[0mname\u001b[0m\u001b[0;34m=\u001b[0m\u001b[0mname\u001b[0m\u001b[0;34m)\u001b[0m\u001b[0;34m\u001b[0m\u001b[0;34m\u001b[0m\u001b[0m\n\u001b[0;32m-> 1677\u001b[0;31m   \u001b[0;32mreturn\u001b[0m \u001b[0mgen_array_ops\u001b[0m\u001b[0;34m.\u001b[0m\u001b[0mconcat_v2\u001b[0m\u001b[0;34m(\u001b[0m\u001b[0mvalues\u001b[0m\u001b[0;34m=\u001b[0m\u001b[0mvalues\u001b[0m\u001b[0;34m,\u001b[0m \u001b[0maxis\u001b[0m\u001b[0;34m=\u001b[0m\u001b[0maxis\u001b[0m\u001b[0;34m,\u001b[0m \u001b[0mname\u001b[0m\u001b[0;34m=\u001b[0m\u001b[0mname\u001b[0m\u001b[0;34m)\u001b[0m\u001b[0;34m\u001b[0m\u001b[0;34m\u001b[0m\u001b[0m\n\u001b[0m\u001b[1;32m   1678\u001b[0m \u001b[0;34m\u001b[0m\u001b[0m\n\u001b[1;32m   1679\u001b[0m \u001b[0;34m\u001b[0m\u001b[0m\n",
      "\u001b[0;32m~/.conda/envs/robert_venv/lib/python3.6/site-packages/tensorflow/python/ops/gen_array_ops.py\u001b[0m in \u001b[0;36mconcat_v2\u001b[0;34m(values, axis, name)\u001b[0m\n\u001b[1;32m   1191\u001b[0m       \u001b[0;32mreturn\u001b[0m \u001b[0m_result\u001b[0m\u001b[0;34m\u001b[0m\u001b[0;34m\u001b[0m\u001b[0m\n\u001b[1;32m   1192\u001b[0m     \u001b[0;32mexcept\u001b[0m \u001b[0m_core\u001b[0m\u001b[0;34m.\u001b[0m\u001b[0m_NotOkStatusException\u001b[0m \u001b[0;32mas\u001b[0m \u001b[0me\u001b[0m\u001b[0;34m:\u001b[0m\u001b[0;34m\u001b[0m\u001b[0;34m\u001b[0m\u001b[0m\n\u001b[0;32m-> 1193\u001b[0;31m       \u001b[0m_ops\u001b[0m\u001b[0;34m.\u001b[0m\u001b[0mraise_from_not_ok_status\u001b[0m\u001b[0;34m(\u001b[0m\u001b[0me\u001b[0m\u001b[0;34m,\u001b[0m \u001b[0mname\u001b[0m\u001b[0;34m)\u001b[0m\u001b[0;34m\u001b[0m\u001b[0;34m\u001b[0m\u001b[0m\n\u001b[0m\u001b[1;32m   1194\u001b[0m     \u001b[0;32mexcept\u001b[0m \u001b[0m_core\u001b[0m\u001b[0;34m.\u001b[0m\u001b[0m_FallbackException\u001b[0m\u001b[0;34m:\u001b[0m\u001b[0;34m\u001b[0m\u001b[0;34m\u001b[0m\u001b[0m\n\u001b[1;32m   1195\u001b[0m       \u001b[0;32mpass\u001b[0m\u001b[0;34m\u001b[0m\u001b[0;34m\u001b[0m\u001b[0m\n",
      "\u001b[0;32m~/.conda/envs/robert_venv/lib/python3.6/site-packages/tensorflow/python/framework/ops.py\u001b[0m in \u001b[0;36mraise_from_not_ok_status\u001b[0;34m(e, name)\u001b[0m\n\u001b[1;32m   6860\u001b[0m   \u001b[0mmessage\u001b[0m \u001b[0;34m=\u001b[0m \u001b[0me\u001b[0m\u001b[0;34m.\u001b[0m\u001b[0mmessage\u001b[0m \u001b[0;34m+\u001b[0m \u001b[0;34m(\u001b[0m\u001b[0;34m\" name: \"\u001b[0m \u001b[0;34m+\u001b[0m \u001b[0mname\u001b[0m \u001b[0;32mif\u001b[0m \u001b[0mname\u001b[0m \u001b[0;32mis\u001b[0m \u001b[0;32mnot\u001b[0m \u001b[0;32mNone\u001b[0m \u001b[0;32melse\u001b[0m \u001b[0;34m\"\"\u001b[0m\u001b[0;34m)\u001b[0m\u001b[0;34m\u001b[0m\u001b[0;34m\u001b[0m\u001b[0m\n\u001b[1;32m   6861\u001b[0m   \u001b[0;31m# pylint: disable=protected-access\u001b[0m\u001b[0;34m\u001b[0m\u001b[0;34m\u001b[0m\u001b[0;34m\u001b[0m\u001b[0m\n\u001b[0;32m-> 6862\u001b[0;31m   \u001b[0msix\u001b[0m\u001b[0;34m.\u001b[0m\u001b[0mraise_from\u001b[0m\u001b[0;34m(\u001b[0m\u001b[0mcore\u001b[0m\u001b[0;34m.\u001b[0m\u001b[0m_status_to_exception\u001b[0m\u001b[0;34m(\u001b[0m\u001b[0me\u001b[0m\u001b[0;34m.\u001b[0m\u001b[0mcode\u001b[0m\u001b[0;34m,\u001b[0m \u001b[0mmessage\u001b[0m\u001b[0;34m)\u001b[0m\u001b[0;34m,\u001b[0m \u001b[0;32mNone\u001b[0m\u001b[0;34m)\u001b[0m\u001b[0;34m\u001b[0m\u001b[0;34m\u001b[0m\u001b[0m\n\u001b[0m\u001b[1;32m   6863\u001b[0m   \u001b[0;31m# pylint: enable=protected-access\u001b[0m\u001b[0;34m\u001b[0m\u001b[0;34m\u001b[0m\u001b[0;34m\u001b[0m\u001b[0m\n\u001b[1;32m   6864\u001b[0m \u001b[0;34m\u001b[0m\u001b[0m\n",
      "\u001b[0;32m~/.conda/envs/robert_venv/lib/python3.6/site-packages/six.py\u001b[0m in \u001b[0;36mraise_from\u001b[0;34m(value, from_value)\u001b[0m\n",
      "\u001b[0;31mInvalidArgumentError\u001b[0m: ConcatOp : Expected concatenating dimensions in the range [-1, 1), but got 1 [Op:ConcatV2] name: concat"
     ]
    }
   ],
   "source": [
    "ang_res=tf.concat([rec.theta*180/3.14,tf.where(rec.phi*180/3.14>0,rec.phi*180/3.14,(rec.phi+3.14*2)*180/3.14)],axis=1)\n",
    "ang_res[:20]"
   ]
  },
  {
   "cell_type": "code",
   "execution_count": 126,
   "metadata": {},
   "outputs": [
    {
     "data": {
      "text/plain": [
       "<tf.Tensor: shape=(100, 4), dtype=float32, numpy=\n",
       "array([[ 39.2557    ,  34.37535   ,  -4.880348  ,   0.00299864],\n",
       "       [ 36.0943    ,  34.549957  ,  -1.544342  ,   0.00018103],\n",
       "       [  7.64452   ,   5.844272  ,  -1.8002477 ,   0.02166309],\n",
       "       [  4.83893   ,   4.802578  ,  -0.03635216,   0.1446563 ],\n",
       "       [  9.12421   ,  24.982243  ,  15.858032  ,   0.1197552 ],\n",
       "       [  4.09641   ,   3.1873598 ,  -0.90905   ,   0.01383412],\n",
       "       [  6.02779   ,   8.405071  ,   2.3772812 ,   0.03656435],\n",
       "       [  5.67326   ,  21.69054   ,  16.01728   ,   0.00560927],\n",
       "       [  5.62831   ,  14.517901  ,   8.889591  ,   0.01475409],\n",
       "       [  4.77911   ,   8.972309  ,   4.193199  ,   0.00224062],\n",
       "       [ 35.6531    ,  37.463524  ,   1.8104248 ,   0.0013078 ],\n",
       "       [ 30.5317    ,  31.5051    ,   0.9734001 ,   0.01645587],\n",
       "       [ 34.0435    ,  38.29748   ,   4.2539825 ,   0.00063643],\n",
       "       [ 31.3505    ,  28.595621  ,  -2.754879  ,   0.00103641],\n",
       "       [ 32.8267    ,  22.663748  , -10.1629505 ,   0.01780851],\n",
       "       [ 30.6234    ,  22.922901  ,  -7.7004986 ,   0.01417056],\n",
       "       [ 33.6671    ,  25.407694  ,  -8.259405  ,   0.01117901],\n",
       "       [ 32.0517    ,  33.693535  ,   1.6418343 ,   0.00039683],\n",
       "       [ 34.2791    ,  34.31408   ,   0.03498077,   0.00540847],\n",
       "       [ 31.4452    ,  30.934221  ,  -0.5109787 ,   0.00643489],\n",
       "       [ 32.5382    ,  23.340172  ,  -9.198029  ,   0.00571141],\n",
       "       [ 30.9973    ,  33.52449   ,   2.5271912 ,   0.00051037],\n",
       "       [ 31.5078    ,  25.16606   ,  -6.3417397 ,   0.01802811],\n",
       "       [ 30.1544    ,  28.730907  ,  -1.4234924 ,   0.00247306],\n",
       "       [ 32.2389    ,  30.455402  ,  -1.7834969 ,   0.00163794],\n",
       "       [ 32.6002    ,  27.551855  ,  -5.0483456 ,   0.00282594],\n",
       "       [ 30.889     ,  36.326168  ,   5.437168  ,   0.01294804],\n",
       "       [ 32.8004    ,  29.44551   ,  -3.354889  ,   0.02142962],\n",
       "       [ 32.5794    ,  28.9121    ,  -3.6672993 ,   0.00537044],\n",
       "       [ 29.9132    ,  29.891617  ,  -0.02158356,   0.00115433],\n",
       "       [ 26.88      ,  35.333267  ,   8.453268  ,   0.01421429],\n",
       "       [ 29.4968    ,  17.770258  , -11.7265415 ,   0.0181405 ],\n",
       "       [ 33.0119    ,  39.88618   ,   6.874279  ,   0.00523665],\n",
       "       [ 17.0752    ,  16.926075  ,  -0.14912415,   0.0040512 ],\n",
       "       [ 17.6167    ,  13.900213  ,  -3.716486  ,   0.0137725 ],\n",
       "       [ 16.7961    ,  21.843967  ,   5.047867  ,   0.00464867],\n",
       "       [ 18.5499    ,   6.7931256 , -11.756775  ,   0.03218378],\n",
       "       [ 13.4854    ,  16.530827  ,   3.0454264 ,   0.00242732],\n",
       "       [ 16.324     ,  20.861267  ,   4.5372677 ,   0.00063543],\n",
       "       [ 15.263     ,  21.215977  ,   5.952977  ,   0.00082442],\n",
       "       [ 15.6244    ,  16.924162  ,   1.2997618 ,   0.00252645],\n",
       "       [ 17.6871    ,  18.221338  ,   0.5342388 ,   0.01538046],\n",
       "       [ 16.2804    ,  16.645985  ,   0.36558533,   0.00056324],\n",
       "       [ 16.9846    ,   6.252195  , -10.732405  ,   0.04627201],\n",
       "       [ 20.3215    ,  21.810198  ,   1.488697  ,   0.00794999],\n",
       "       [ 12.867     ,  19.753841  ,   6.886842  ,   0.00962052],\n",
       "       [ 14.9642    ,  16.320269  ,   1.3560686 ,   0.00081888],\n",
       "       [ 15.1281    ,  13.766848  ,  -1.3612528 ,   0.01887377],\n",
       "       [ 17.1011    ,   6.9595056 , -10.141596  ,   0.06021987],\n",
       "       [ 15.6133    ,  14.305919  ,  -1.3073816 ,   0.00051522],\n",
       "       [ 14.8783    ,  20.304184  ,   5.4258842 ,   0.01420724],\n",
       "       [ 17.2141    ,  20.728168  ,   3.5140686 ,   0.01162251],\n",
       "       [ 18.6367    ,  13.695263  ,  -4.941437  ,   0.174941  ],\n",
       "       [ 15.5784    ,  24.845577  ,   9.267178  ,   0.0065911 ],\n",
       "       [ 13.6643    ,  13.505167  ,  -0.15913296,   0.03756132],\n",
       "       [ 17.2033    ,  16.182161  ,  -1.0211391 ,   0.01231543],\n",
       "       [ 16.4783    ,  15.248559  ,  -1.2297411 ,   0.00035134],\n",
       "       [ 44.7366    ,  39.778095  ,  -4.9585037 ,   0.00182514],\n",
       "       [ 44.4161    ,  46.582325  ,   2.1662254 ,   0.00024795],\n",
       "       [ 41.3845    ,  46.05007   ,   4.665573  ,   0.00777845],\n",
       "       [ 44.004     ,  44.801712  ,   0.7977104 ,   0.00072138],\n",
       "       [ 44.1106    ,  42.88238   ,  -1.2282181 ,   0.00057933],\n",
       "       [ 43.4951    ,  41.477654  ,  -2.0174446 ,   0.00089665],\n",
       "       [ 44.6769    ,  38.015976  ,  -6.660923  ,   0.00548807],\n",
       "       [ 42.9823    ,  44.924877  ,   1.9425774 ,   0.01233538],\n",
       "       [ 44.4457    ,  40.791843  ,  -3.6538582 ,   0.00041338],\n",
       "       [ 43.9073    ,  39.210243  ,  -4.697056  ,   0.00509931],\n",
       "       [ 44.1759    ,  41.178036  ,  -2.9978638 ,   0.00086587],\n",
       "       [ 39.9581    ,  42.230637  ,   2.2725372 ,   0.00074893],\n",
       "       [ 46.4355    ,  42.26036   ,  -4.1751404 ,   0.00223771],\n",
       "       [ 45.0912    ,  41.100594  ,  -3.9906082 ,   0.00092576],\n",
       "       [ 44.5691    ,  46.48599   ,   1.9168892 ,   0.00084574],\n",
       "       [ 44.6989    ,  47.197342  ,   2.4984436 ,   0.00041427],\n",
       "       [ 40.7115    ,  42.656605  ,   1.9451065 ,   0.00036265],\n",
       "       [ 40.8055    ,  35.240475  ,  -5.5650253 ,   0.02466901],\n",
       "       [ 44.4856    ,  38.92637   ,  -5.559231  ,   0.02621222],\n",
       "       [ 40.5769    ,  40.105873  ,  -0.47102737,   0.00024154],\n",
       "       [ 42.9809    ,  41.95263   ,  -1.0282707 ,   0.00575427],\n",
       "       [ 42.3124    ,  43.392467  ,   1.0800667 ,   0.00149361],\n",
       "       [ 43.3963    ,  43.60217   ,   0.20586777,   0.02324479],\n",
       "       [ 40.483     ,  45.509823  ,   5.026821  ,   0.00132916],\n",
       "       [ 43.1289    ,  40.576534  ,  -2.5523643 ,   0.00108099],\n",
       "       [ 42.5382    ,  42.554268  ,   0.0160675 ,   0.00335308],\n",
       "       [ 41.6957    ,  40.29626   ,  -1.3994408 ,   0.00034233],\n",
       "       [ 43.0221    ,  43.474426  ,   0.45232773,   0.00237578],\n",
       "       [ 43.7443    ,  39.264652  ,  -4.4796486 ,   0.0049894 ],\n",
       "       [ 41.6518    ,  43.341846  ,   1.6900482 ,   0.00221871],\n",
       "       [ 44.5202    ,  44.00591   ,  -0.51428986,   0.00104042],\n",
       "       [ 42.9015    ,  46.79651   ,   3.895008  ,   0.00110148],\n",
       "       [ 41.6183    ,  42.841095  ,   1.2227936 ,   0.00041871],\n",
       "       [ 42.3226    ,  41.88992   ,  -0.43268204,   0.00104173],\n",
       "       [ 40.0887    ,  34.94155   ,  -5.147148  ,   0.00130808],\n",
       "       [ 43.4564    ,  44.636375  ,   1.1799736 ,   0.00055351],\n",
       "       [ 43.2827    ,  43.489433  ,   0.2067337 ,   0.00057087],\n",
       "       [ 41.1066    ,  38.48889   ,  -2.61771   ,   0.00932391],\n",
       "       [ 40.3925    ,  42.351868  ,   1.9593658 ,   0.01632591],\n",
       "       [ 43.1283    ,  36.940147  ,  -6.1881523 ,   0.06580897],\n",
       "       [ 43.1202    ,  44.272507  ,   1.1523056 ,   0.01273802],\n",
       "       [ 43.1979    ,  42.149323  ,  -1.0485764 ,   0.00615516],\n",
       "       [ 45.0256    ,  40.329674  ,  -4.6959267 ,   0.00146864]],\n",
       "      dtype=float32)>"
      ]
     },
     "execution_count": 126,
     "metadata": {},
     "output_type": "execute_result"
    }
   ],
   "source": [
    "rub_theta = ev_params[:100,0]\n",
    "my_theta = ang_res[:,0]\n",
    "info = tf.concat([tf.expand_dims(rub_theta,1),tf.expand_dims(my_theta,1),tf.expand_dims(my_theta-rub_theta,1),chi[-1]],1)\n",
    "info"
   ]
  },
  {
   "cell_type": "code",
   "execution_count": 431,
   "metadata": {},
   "outputs": [
    {
     "name": "stdout",
     "output_type": "stream",
     "text": [
      "tf.Tensor([ 14.539997 145.38144 ], shape=(2,), dtype=float32)\n",
      "tf.Tensor(17.939579, shape=(), dtype=float32) tf.Tensor(170.76843, shape=(), dtype=float32)\n"
     ]
    }
   ],
   "source": [
    "#Befor chi_L\n",
    "diff= tf.reduce_mean(tf.math.abs(ev_params[10:110] -ang_res),axis=0)\n",
    "print(diff)\n",
    "print(tf.math.reduce_std(ev_params[10:110,0] -ang_res[:,0]),tf.math.reduce_std(ev_params[10:110,1] -ang_res[:,1]))"
   ]
  },
  {
   "cell_type": "code",
   "execution_count": 164,
   "metadata": {
    "scrolled": true
   },
   "outputs": [],
   "source": [
    "rec_0 = Reconstruction(data[10:110],tf.float32)\n",
    "rec_0.place_params()"
   ]
  },
  {
   "cell_type": "code",
   "execution_count": 133,
   "metadata": {},
   "outputs": [
    {
     "name": "stdout",
     "output_type": "stream",
     "text": [
      "(100,) (100,)\n"
     ]
    }
   ],
   "source": [
    "# phi problem\n",
    "rub_phi = ev_params[10:110,1]\n",
    "my_phi = ang_res[:,1]\n",
    "real_phi = tf.cast(real_ang[10:110,1],tf.float32)\n",
    "print(rub_phi.shape,my_phi.shape)"
   ]
  },
  {
   "cell_type": "code",
   "execution_count": 134,
   "metadata": {},
   "outputs": [
    {
     "data": {
      "text/plain": [
       "<tf.Tensor: shape=(100, 3), dtype=float32, numpy=\n",
       "array([[ 325.147     ,  323.625     ,   -1.5220032 ],\n",
       "       [ 117.835     ,  117.254     ,   -0.5810013 ],\n",
       "       [ 355.499     ,  355.848     ,    0.34899902],\n",
       "       [ 283.593     ,  283.808     ,    0.21502686],\n",
       "       [ 141.962     ,  143.354     ,    1.3919983 ],\n",
       "       [ 173.66      ,  174.618     ,    0.95799255],\n",
       "       [ 353.896     ,  357.138     ,    3.2420044 ],\n",
       "       [ 227.489     ,  218.874     ,   -8.6150055 ],\n",
       "       [  21.6844    ,   20.1942    ,   -1.4902    ],\n",
       "       [ 161.245     ,  154.829     ,   -6.4160004 ],\n",
       "       [ 129.853     ,  134.927     ,    5.074005  ],\n",
       "       [   1.58276   ,    3.57281   ,    1.99005   ],\n",
       "       [ 184.606     ,  186.847     ,    2.2409973 ],\n",
       "       [ 166.44      ,  150.76      ,  -15.680008  ],\n",
       "       [ 340.869     ,  346.152     ,    5.28302   ],\n",
       "       [ 148.7       ,  152.153     ,    3.453003  ],\n",
       "       [  40.8346    ,   39.8145    ,   -1.0200996 ],\n",
       "       [ 277.232     ,  277.253     ,    0.02099609],\n",
       "       [ 332.339     ,  336.663     ,    4.324005  ],\n",
       "       [ 101.336     ,  100.416     ,   -0.91999817],\n",
       "       [ 121.3       ,  114.934     ,   -6.366005  ],\n",
       "       [ 259.316     ,  261.905     ,    2.5889893 ],\n",
       "       [  24.9049    ,   24.6465    ,   -0.25839996],\n",
       "       [  28.9288    ,   27.35      ,   -1.5788002 ],\n",
       "       [ 147.682     ,  142.953     ,   -4.729004  ],\n",
       "       [ 355.154     ,  357.527     ,    2.3730164 ],\n",
       "       [ 328.962     ,  323.054     ,   -5.90802   ],\n",
       "       [ 334.41      ,  344.218     ,    9.807983  ],\n",
       "       [  12.9387    ,  358.596     ,  345.65732   ],\n",
       "       [ 129.017     ,  133.748     ,    4.731003  ],\n",
       "       [ 157.182     ,  167.686     ,   10.503998  ],\n",
       "       [  46.3471    ,   52.4621    ,    6.1150017 ],\n",
       "       [ 148.966     ,  150.617     ,    1.651001  ],\n",
       "       [ 256.386     ,  264.822     ,    8.436005  ],\n",
       "       [ 143.795     ,  127.851     ,  -15.944     ],\n",
       "       [ 100.179     ,   92.0858    ,   -8.093201  ],\n",
       "       [ 102.888     ,   92.8759    ,  -10.0121    ],\n",
       "       [  21.9877    ,   27.479     ,    5.4913006 ],\n",
       "       [ 310.416     ,  312.601     ,    2.185028  ],\n",
       "       [ 218.782     ,  200.862     ,  -17.919998  ],\n",
       "       [ 149.75      ,  147.069     ,   -2.6809998 ],\n",
       "       [ 352.699     ,    1.52536   , -351.17365   ],\n",
       "       [ 322.006     ,  326.888     ,    4.8819885 ],\n",
       "       [ 357.024     ,  350.592     ,   -6.4319763 ],\n",
       "       [   4.85805   ,    5.37519   ,    0.5171399 ],\n",
       "       [ 133.255     ,  134.526     ,    1.2709961 ],\n",
       "       [  84.1836    ,   91.8993    ,    7.7156982 ],\n",
       "       [ 256.604     ,  255.911     ,   -0.6930084 ],\n",
       "       [ 187.388     ,  188.47      ,    1.0820007 ],\n",
       "       [ 197.227     ,  196.229     ,   -0.9980011 ],\n",
       "       [ 133.49      ,  135.153     ,    1.6629944 ],\n",
       "       [ 296.58      ,  296.392     ,   -0.18798828],\n",
       "       [ 314.184     ,  307.53      ,   -6.6539917 ],\n",
       "       [  61.0042    ,   61.537     ,    0.53279877],\n",
       "       [ 180.518     ,  174.929     ,   -5.5890045 ],\n",
       "       [ 243.942     ,  244.081     ,    0.13899231],\n",
       "       [ 344.528     ,  344.997     ,    0.46899414],\n",
       "       [ 159.736     ,  159.184     ,   -0.5519867 ],\n",
       "       [ 335.731     ,  340.204     ,    4.4730225 ],\n",
       "       [ 117.66      ,  115.62      ,   -2.040001  ],\n",
       "       [ 299.106     ,  299.731     ,    0.625     ],\n",
       "       [  55.8473    ,   57.9245    ,    2.077198  ],\n",
       "       [   4.82556   ,    6.6569    ,    1.8313398 ],\n",
       "       [  65.2535    ,   61.1482    ,   -4.105301  ],\n",
       "       [ 333.859     ,  336.134     ,    2.274994  ],\n",
       "       [ 290.558     ,  289.971     ,   -0.5870056 ],\n",
       "       [ 156.863     ,  157.821     ,    0.95799255],\n",
       "       [ 251.886     ,  253.02      ,    1.1340027 ],\n",
       "       [   6.15332   ,    6.2686    ,    0.11528015],\n",
       "       [ 272.589     ,  274.941     ,    2.3520203 ],\n",
       "       [  70.7683    ,   72.7676    ,    1.9992981 ],\n",
       "       [ 154.597     ,  147.784     ,   -6.8130035 ],\n",
       "       [ 358.453     ,    0.00148033, -358.4515    ],\n",
       "       [  42.6464    ,   44.6476    ,    2.0011978 ],\n",
       "       [  78.5646    ,   79.3943    ,    0.8297043 ],\n",
       "       [ 189.125     ,  188.591     ,   -0.5339966 ],\n",
       "       [ 300.905     ,  304.633     ,    3.7279968 ],\n",
       "       [ 267.548     ,  268.892     ,    1.3439941 ],\n",
       "       [ 248.2       ,  246.902     ,   -1.2980042 ],\n",
       "       [ 349.131     ,  348.791     ,   -0.34002686],\n",
       "       [ 354.873     ,  356.234     ,    1.361023  ],\n",
       "       [ 284.372     ,  284.772     ,    0.3999939 ],\n",
       "       [ 338.043     ,  338.007     ,   -0.03601074],\n",
       "       [ 233.276     ,  236.873     ,    3.5970001 ],\n",
       "       [ 250.532     ,  250.368     ,   -0.16400146],\n",
       "       [ 322.47      ,  321.298     ,   -1.1719971 ],\n",
       "       [ 121.632     ,  120.892     ,   -0.7400055 ],\n",
       "       [  16.5725    ,   13.6321    ,   -2.9404001 ],\n",
       "       [ 145.142     ,  145.185     ,    0.04299927],\n",
       "       [ 309.817     ,  313.096     ,    3.2790222 ],\n",
       "       [ 203.448     ,  202.94      ,   -0.5079956 ],\n",
       "       [  75.8341    ,   75.187     ,   -0.64710236],\n",
       "       [ 197.729     ,  197.146     ,   -0.5830078 ],\n",
       "       [  21.7217    ,   22.7434    ,    1.0216999 ],\n",
       "       [ 132.398     ,  133.361     ,    0.96299744],\n",
       "       [ 175.267     ,  175.396     ,    0.1289978 ],\n",
       "       [ 113.836     ,  114.418     ,    0.58200073],\n",
       "       [ 137.395     ,  138.16      ,    0.7649994 ],\n",
       "       [ 317.701     ,  317.331     ,   -0.36999512],\n",
       "       [ 231.866     ,  231.987     ,    0.1210022 ]], dtype=float32)>"
      ]
     },
     "execution_count": 134,
     "metadata": {},
     "output_type": "execute_result"
    }
   ],
   "source": [
    "# rubsov loss\n",
    "info = tf.concat([tf.expand_dims(rub_phi,1),tf.expand_dims(real_phi,1),tf.expand_dims(real_phi-rub_phi,1)],1)\n",
    "info"
   ]
  },
  {
   "cell_type": "code",
   "execution_count": 135,
   "metadata": {},
   "outputs": [
    {
     "data": {
      "text/plain": [
       "<tf.Tensor: shape=(100, 3), dtype=float32, numpy=\n",
       "array([[ 325.147     ,  107.07966   , -218.06735   ],\n",
       "       [ 117.835     ,  180.87128   ,   63.036278  ],\n",
       "       [ 355.499     ,  169.78464   , -185.71436   ],\n",
       "       [ 283.593     ,  328.56363   ,   44.970642  ],\n",
       "       [ 141.962     ,    4.168938  , -137.79306   ],\n",
       "       [ 173.66      ,  177.0838    ,    3.4237976 ],\n",
       "       [ 353.896     ,   33.769157  , -320.12683   ],\n",
       "       [ 227.489     ,   10.948616  , -216.54037   ],\n",
       "       [  21.6844    ,  267.50482   ,  245.82042   ],\n",
       "       [ 161.245     ,  156.40791   ,   -4.837082  ],\n",
       "       [ 129.853     ,  329.42093   ,  199.56793   ],\n",
       "       [   1.58276   ,   82.96784   ,   81.38508   ],\n",
       "       [ 184.606     ,  351.54596   ,  166.93996   ],\n",
       "       [ 166.44      ,  285.98187   ,  119.54187   ],\n",
       "       [ 340.869     ,  102.6989    , -238.17009   ],\n",
       "       [ 148.7       ,  165.35      ,   16.65001   ],\n",
       "       [  40.8346    ,  321.0761    ,  280.24152   ],\n",
       "       [ 277.232     ,  219.6769    ,  -57.5551    ],\n",
       "       [ 332.339     ,    1.6211272 , -330.71786   ],\n",
       "       [ 101.336     ,  155.43242   ,   54.09642   ],\n",
       "       [ 121.3       ,  135.13133   ,   13.831329  ],\n",
       "       [ 259.316     ,    1.7804984 , -257.53552   ],\n",
       "       [  24.9049    ,  171.29308   ,  146.38818   ],\n",
       "       [  28.9288    ,  158.60796   ,  129.67915   ],\n",
       "       [ 147.682     ,  333.48822   ,  185.80621   ],\n",
       "       [ 355.154     ,  155.17882   , -199.97517   ],\n",
       "       [ 328.962     ,   36.745895  , -292.21613   ],\n",
       "       [ 334.41      ,  296.70346   ,  -37.706543  ],\n",
       "       [  12.9387    ,  322.41147   ,  309.47278   ],\n",
       "       [ 129.017     ,   92.53691   ,  -36.480087  ],\n",
       "       [ 157.182     ,  106.26456   ,  -50.91745   ],\n",
       "       [  46.3471    ,  291.33536   ,  244.98825   ],\n",
       "       [ 148.966     ,    1.7004219 , -147.26558   ],\n",
       "       [ 256.386     ,   59.020077  , -197.3659    ],\n",
       "       [ 143.795     ,   72.461044  ,  -71.333954  ],\n",
       "       [ 100.179     ,    5.8167195 ,  -94.36228   ],\n",
       "       [ 102.888     ,    6.982082  ,  -95.90592   ],\n",
       "       [  21.9877    ,  336.58746   ,  314.59976   ],\n",
       "       [ 310.416     ,    1.9955021 , -308.42047   ],\n",
       "       [ 218.782     ,  125.37056   ,  -93.41144   ],\n",
       "       [ 149.75      ,  173.93365   ,   24.183655  ],\n",
       "       [ 352.699     ,   24.547676  , -328.15134   ],\n",
       "       [ 322.006     ,  159.76605   , -162.23996   ],\n",
       "       [ 357.024     ,  254.42856   , -102.59543   ],\n",
       "       [   4.85805   ,  109.0775    ,  104.21945   ],\n",
       "       [ 133.255     ,   62.23314   ,  -71.021866  ],\n",
       "       [  84.1836    ,   89.275276  ,    5.091675  ],\n",
       "       [ 256.604     ,   44.629105  , -211.9749    ],\n",
       "       [ 187.388     ,   34.136368  , -153.25163   ],\n",
       "       [ 197.227     ,  183.94543   ,  -13.28157   ],\n",
       "       [ 133.49      ,   92.773315  ,  -40.71669   ],\n",
       "       [ 296.58      ,   16.493528  , -280.08646   ],\n",
       "       [ 314.184     ,  250.57272   ,  -63.611267  ],\n",
       "       [  61.0042    ,  312.00513   ,  251.00093   ],\n",
       "       [ 180.518     ,   15.678399  , -164.8396    ],\n",
       "       [ 243.942     ,  109.743385  , -134.19861   ],\n",
       "       [ 344.528     ,   95.27264   , -249.25537   ],\n",
       "       [ 159.736     ,  256.74756   ,   97.011566  ],\n",
       "       [ 335.731     ,  188.8756    , -146.8554    ],\n",
       "       [ 117.66      ,  190.39168   ,   72.731674  ],\n",
       "       [ 299.106     ,  137.14178   , -161.9642    ],\n",
       "       [  55.8473    ,  296.5699    ,  240.72258   ],\n",
       "       [   4.82556   ,  317.30945   ,  312.4839    ],\n",
       "       [  65.2535    ,   59.118816  ,   -6.1346855 ],\n",
       "       [ 333.859     ,  174.59348   , -159.26553   ],\n",
       "       [ 290.558     ,  250.21664   ,  -40.34137   ],\n",
       "       [ 156.863     ,  350.0169    ,  193.1539    ],\n",
       "       [ 251.886     ,  165.93701   ,  -85.94899   ],\n",
       "       [   6.15332   ,  347.82346   ,  341.67014   ],\n",
       "       [ 272.589     ,  117.99908   , -154.5899    ],\n",
       "       [  70.7683    ,  300.94586   ,  230.17755   ],\n",
       "       [ 154.597     ,   57.952633  ,  -96.64436   ],\n",
       "       [ 358.453     ,  358.43497   ,   -0.01803589],\n",
       "       [  42.6464    ,   59.04056   ,   16.394161  ],\n",
       "       [  78.5646    ,  339.25586   ,  260.69125   ],\n",
       "       [ 189.125     ,  299.77222   ,  110.64722   ],\n",
       "       [ 300.905     ,  162.19945   , -138.70555   ],\n",
       "       [ 267.548     ,  248.60684   ,  -18.941162  ],\n",
       "       [ 248.2       ,    7.5479946 , -240.65201   ],\n",
       "       [ 349.131     ,  270.89352   ,  -78.23749   ],\n",
       "       [ 354.873     ,   70.77707   , -284.09592   ],\n",
       "       [ 284.372     ,  142.85822   , -141.5138    ],\n",
       "       [ 338.043     ,    4.1577525 , -333.88525   ],\n",
       "       [ 233.276     ,   47.131588  , -186.14441   ],\n",
       "       [ 250.532     ,   72.53776   , -177.99423   ],\n",
       "       [ 322.47      ,  181.83925   , -140.63075   ],\n",
       "       [ 121.632     ,  311.71207   ,  190.08006   ],\n",
       "       [  16.5725    ,  269.83466   ,  253.26216   ],\n",
       "       [ 145.142     ,  241.59679   ,   96.45479   ],\n",
       "       [ 309.817     ,  347.84363   ,   38.02664   ],\n",
       "       [ 203.448     ,  357.2658    ,  153.81781   ],\n",
       "       [  75.8341    ,  288.0862    ,  212.2521    ],\n",
       "       [ 197.729     ,  338.7528    ,  141.0238    ],\n",
       "       [  21.7217    ,  231.48471   ,  209.76302   ],\n",
       "       [ 132.398     ,  237.17812   ,  104.78012   ],\n",
       "       [ 175.267     ,  324.4507    ,  149.18372   ],\n",
       "       [ 113.836     ,  103.28072   ,  -10.555275  ],\n",
       "       [ 137.395     ,   15.551043  , -121.84396   ],\n",
       "       [ 317.701     ,  142.62544   , -175.07555   ],\n",
       "       [ 231.866     ,  308.85278   ,   76.986786  ]], dtype=float32)>"
      ]
     },
     "execution_count": 135,
     "metadata": {},
     "output_type": "execute_result"
    }
   ],
   "source": [
    "info = tf.concat([tf.expand_dims(rub_phi,1),tf.expand_dims(my_phi,1),tf.expand_dims(my_phi-rub_phi,1)],1)\n",
    "info"
   ]
  },
  {
   "cell_type": "code",
   "execution_count": 131,
   "metadata": {},
   "outputs": [
    {
     "data": {
      "text/plain": [
       "<tf.Tensor: shape=(100,), dtype=float32, numpy=\n",
       "array([-218.06735   ,   63.036278  , -185.71436   ,   44.970642  ,\n",
       "       -137.79306   ,    3.4237976 , -320.12683   , -216.54037   ,\n",
       "        245.82042   ,   -4.837082  ,  199.56793   ,   81.38508   ,\n",
       "        166.93996   ,  119.54187   , -238.17009   ,   16.65001   ,\n",
       "        280.24152   ,  -57.5551    , -330.71786   ,   54.09642   ,\n",
       "         13.831329  , -257.53552   ,  146.38818   ,  129.67915   ,\n",
       "        185.80621   , -199.97517   , -292.21613   ,  -37.706543  ,\n",
       "        309.47278   ,  -36.480087  ,  -50.91745   ,  244.98825   ,\n",
       "       -147.26558   , -197.3659    ,  -71.333954  ,  -94.36228   ,\n",
       "        -95.90592   ,  314.59976   , -308.42047   ,  -93.41144   ,\n",
       "         24.183655  , -328.15134   , -162.23996   , -102.59543   ,\n",
       "        104.21945   ,  -71.021866  ,    5.091675  , -211.9749    ,\n",
       "       -153.25163   ,  -13.28157   ,  -40.71669   , -280.08646   ,\n",
       "        -63.611267  ,  251.00093   , -164.8396    , -134.19861   ,\n",
       "       -249.25537   ,   97.011566  , -146.8554    ,   72.731674  ,\n",
       "       -161.9642    ,  240.72258   ,  312.4839    ,   -6.1346855 ,\n",
       "       -159.26553   ,  -40.34137   ,  193.1539    ,  -85.94899   ,\n",
       "        341.67014   , -154.5899    ,  230.17755   ,  -96.64436   ,\n",
       "         -0.01803589,   16.394161  ,  260.69125   ,  110.64722   ,\n",
       "       -138.70555   ,  -18.941162  , -240.65201   ,  -78.23749   ,\n",
       "       -284.09592   , -141.5138    , -333.88525   , -186.14441   ,\n",
       "       -177.99423   , -140.63075   ,  190.08006   ,  253.26216   ,\n",
       "         96.45479   ,   38.02664   ,  153.81781   ,  212.2521    ,\n",
       "        141.0238    ,  209.76302   ,  104.78012   ,  149.18372   ,\n",
       "        -10.555275  , -121.84396   , -175.07555   ,   76.986786  ],\n",
       "      dtype=float32)>"
      ]
     },
     "execution_count": 131,
     "metadata": {},
     "output_type": "execute_result"
    }
   ],
   "source": [
    "np.set_printoptions(suppress=True)\n",
    "info[:,2]"
   ]
  },
  {
   "cell_type": "code",
   "execution_count": 166,
   "metadata": {},
   "outputs": [],
   "source": [
    "phi_0 = rec_0.phi * 180/pi\n",
    "# phi_0"
   ]
  },
  {
   "cell_type": "code",
   "execution_count": 165,
   "metadata": {},
   "outputs": [
    {
     "data": {
      "text/plain": [
       "<tf.Tensor: shape=(100, 3), dtype=float32, numpy=\n",
       "array([[ 325.147     ,  -33.339085  , -358.48608   ],\n",
       "       [ 117.835     ,   84.94911   ,  -32.885887  ],\n",
       "       [ 355.499     ,  -10.6808605 , -366.17984   ],\n",
       "       [ 283.593     ,  -76.317474  , -359.91046   ],\n",
       "       [ 141.962     ,  103.96337   ,  -37.998634  ],\n",
       "       [ 173.66      ,  169.54025   ,   -4.119751  ],\n",
       "       [ 353.896     ,  -43.18503   , -397.08102   ],\n",
       "       [ 227.489     , -142.50192   , -369.9909    ],\n",
       "       [  21.6844    ,   -1.2376478 ,  -22.922049  ],\n",
       "       [ 161.245     ,  159.10197   ,   -2.1430206 ],\n",
       "       [ 129.853     ,  139.70854   ,    9.855545  ],\n",
       "       [   1.58276   ,    1.5303783 ,   -0.05238163],\n",
       "       [ 184.606     ,  174.16695   ,  -10.439056  ],\n",
       "       [ 166.44      ,  159.41281   ,   -7.027191  ],\n",
       "       [ 340.869     ,  -27.761467  , -368.63046   ],\n",
       "       [ 148.7       ,  156.59326   ,    7.893265  ],\n",
       "       [  40.8346    ,   32.994385  ,   -7.840214  ],\n",
       "       [ 277.232     ,  -68.203094  , -345.4351    ],\n",
       "       [ 332.339     ,  -39.009216  , -371.3482    ],\n",
       "       [ 101.336     ,   92.99179   ,   -8.344208  ],\n",
       "       [ 121.3       ,  108.81726   ,  -12.482742  ],\n",
       "       [ 259.316     ,  -72.25724   , -331.57324   ],\n",
       "       [  24.9049    ,    0.52523404,  -24.379665  ],\n",
       "       [  28.9288    ,   63.02061   ,   34.091812  ],\n",
       "       [ 147.682     ,   65.90899   ,  -81.77302   ],\n",
       "       [ 355.154     ,    2.5401132 , -352.6139    ],\n",
       "       [ 328.962     ,    2.6680827 , -326.2939    ],\n",
       "       [ 334.41      ,  -27.981966  , -362.39197   ],\n",
       "       [  12.9387    ,   -0.536628  ,  -13.4753275 ],\n",
       "       [ 129.017     ,  127.07951   ,   -1.9374847 ],\n",
       "       [ 157.182     ,  173.80872   ,   16.626709  ],\n",
       "       [  46.3471    ,   20.698017  ,  -25.649082  ],\n",
       "       [ 148.966     ,  162.7316    ,   13.7655945 ],\n",
       "       [ 256.386     , -109.84352   , -366.2295    ],\n",
       "       [ 143.795     ,  109.94778   ,  -33.84722   ],\n",
       "       [ 100.179     ,   61.769367  ,  -38.409634  ],\n",
       "       [ 102.888     ,   89.72253   ,  -13.165474  ],\n",
       "       [  21.9877    ,   39.41921   ,   17.431509  ],\n",
       "       [ 310.416     ,   40.1242    , -270.29178   ],\n",
       "       [ 218.782     , -177.62526   , -396.40726   ],\n",
       "       [ 149.75      ,   96.29271   ,  -53.45729   ],\n",
       "       [ 352.699     ,   14.756096  , -337.9429    ],\n",
       "       [ 322.006     , -114.31539   , -436.3214    ],\n",
       "       [ 357.024     ,  -51.645966  , -408.66995   ],\n",
       "       [   4.85805   ,   11.084024  ,    6.2259746 ],\n",
       "       [ 133.255     ,  112.031265  ,  -21.22374   ],\n",
       "       [  84.1836    ,   96.96925   ,   12.785652  ],\n",
       "       [ 256.604     , -102.86854   , -359.47253   ],\n",
       "       [ 187.388     , -170.44698   , -357.83496   ],\n",
       "       [ 197.227     , -170.28426   , -367.51126   ],\n",
       "       [ 133.49      ,  138.279     ,    4.7890015 ],\n",
       "       [ 296.58      ,  -64.24043   , -360.82043   ],\n",
       "       [ 314.184     ,  -44.70989   , -358.8939    ],\n",
       "       [  61.0042    ,   58.400547  ,   -2.603653  ],\n",
       "       [ 180.518     ,  178.4328    ,   -2.085205  ],\n",
       "       [ 243.942     , -112.40377   , -356.34576   ],\n",
       "       [ 344.528     ,  -11.820432  , -356.34845   ],\n",
       "       [ 159.736     ,  166.81194   ,    7.075943  ],\n",
       "       [ 335.731     ,  -14.789041  , -350.52002   ],\n",
       "       [ 117.66      ,  118.27005   ,    0.6100464 ],\n",
       "       [ 299.106     ,  -59.772907  , -358.8789    ],\n",
       "       [  55.8473    ,   58.76029   ,    2.9129868 ],\n",
       "       [   4.82556   ,   -2.8713655 ,   -7.6969256 ],\n",
       "       [  65.2535    ,   60.614216  ,   -4.639286  ],\n",
       "       [ 333.859     ,  -23.751818  , -357.61084   ],\n",
       "       [ 290.558     ,  -65.1074    , -355.6654    ],\n",
       "       [ 156.863     ,  164.52121   ,    7.658203  ],\n",
       "       [ 251.886     , -113.300766  , -365.18677   ],\n",
       "       [   6.15332   ,    4.6669383 ,   -1.4863815 ],\n",
       "       [ 272.589     ,  -92.73167   , -365.32065   ],\n",
       "       [  70.7683    ,   73.55512   ,    2.7868195 ],\n",
       "       [ 154.597     ,  143.37132   ,  -11.2256775 ],\n",
       "       [ 358.453     ,    3.8277879 , -354.6252    ],\n",
       "       [  42.6464    ,   47.119328  ,    4.472927  ],\n",
       "       [  78.5646    ,   69.255714  ,   -9.308884  ],\n",
       "       [ 189.125     ,  179.11415   ,  -10.010849  ],\n",
       "       [ 300.905     ,  -49.556683  , -350.46167   ],\n",
       "       [ 267.548     ,  -91.97845   , -359.52646   ],\n",
       "       [ 248.2       , -122.46481   , -370.6648    ],\n",
       "       [ 349.131     ,  -14.284024  , -363.41504   ],\n",
       "       [ 354.873     ,   -2.176997  , -357.05      ],\n",
       "       [ 284.372     ,  -73.00986   , -357.38187   ],\n",
       "       [ 338.043     ,  -21.724329  , -359.76733   ],\n",
       "       [ 233.276     , -128.51082   , -361.7868    ],\n",
       "       [ 250.532     , -126.346886  , -376.87888   ],\n",
       "       [ 322.47      ,  -39.393414  , -361.8634    ],\n",
       "       [ 121.632     ,  102.074524  ,  -19.55748   ],\n",
       "       [  16.5725    ,   13.112604  ,   -3.459896  ],\n",
       "       [ 145.142     ,  143.99342   ,   -1.1485748 ],\n",
       "       [ 309.817     ,  -52.455307  , -362.27228   ],\n",
       "       [ 203.448     , -162.89842   , -366.34644   ],\n",
       "       [  75.8341    ,   83.344444  ,    7.5103455 ],\n",
       "       [ 197.729     , -157.72536   , -355.45435   ],\n",
       "       [  21.7217    ,   16.667078  ,   -5.0546227 ],\n",
       "       [ 132.398     ,  140.4617    ,    8.063705  ],\n",
       "       [ 175.267     ,  171.6711    ,   -3.5959015 ],\n",
       "       [ 113.836     ,  110.95304   ,   -2.8829575 ],\n",
       "       [ 137.395     ,  140.31732   ,    2.9223175 ],\n",
       "       [ 317.701     ,  -43.72966   , -361.43066   ],\n",
       "       [ 231.866     , -124.25783   , -356.12384   ]], dtype=float32)>"
      ]
     },
     "execution_count": 165,
     "metadata": {},
     "output_type": "execute_result"
    }
   ],
   "source": [
    "info_0 = tf.concat([tf.expand_dims(rub_phi,1),tf.expand_dims(phi_0,1),tf.expand_dims(phi_0-rub_phi,1)],1)\n",
    "info_0"
   ]
  },
  {
   "cell_type": "code",
   "execution_count": 169,
   "metadata": {},
   "outputs": [
    {
     "name": "stdout",
     "output_type": "stream",
     "text": [
      "tf.Tensor(\n",
      "[[   2.111908   -358.48608   ]\n",
      " [ -33.523155    -32.885887  ]\n",
      " [  -5.7290344  -366.17984   ]\n",
      " [   0.8772583  -359.91046   ]\n",
      " [ -38.469826    -37.998634  ]\n",
      " [  -5.173401     -4.119751  ]\n",
      " [ -35.588135   -397.08102   ]\n",
      " [ -10.035873   -369.9909    ]\n",
      " [ -21.532997    -22.922049  ]\n",
      " [  -3.25766      -2.1430206 ]\n",
      " [   8.585297      9.855545  ]\n",
      " [   0.14750206   -0.05238163]\n",
      " [ -11.338928    -10.439056  ]\n",
      " [  -7.412979     -7.027191  ]\n",
      " [  -8.156464   -368.63046   ]\n",
      " [   7.6427        7.893265  ]\n",
      " [  -7.038189     -7.840214  ]\n",
      " [  15.857697   -345.4351    ]\n",
      " [ -10.887634   -371.3482    ]\n",
      " [  -8.491959     -8.344208  ]\n",
      " [ -13.300346    -12.482742  ]\n",
      " [  29.111115   -331.57324   ]\n",
      " [ -24.053001    -24.379665  ]\n",
      " [  33.634544     34.091812  ]\n",
      " [ -81.61104     -81.77302   ]\n",
      " [-351.9647     -352.6139    ]\n",
      " [-326.15024    -326.2939    ]\n",
      " [  -1.7060852  -362.39197   ]\n",
      " [ 346.81488     -13.4753275 ]\n",
      " [  -2.1841812    -1.9374847 ]\n",
      " [  16.569153     16.626709  ]\n",
      " [ -25.334763    -25.649082  ]\n",
      " [  13.284729     13.7655945 ]\n",
      " [  -5.842087   -366.2295    ]\n",
      " [ -34.011475    -33.84722   ]\n",
      " [ -38.414303    -38.409634  ]\n",
      " [ -13.23465     -13.165474  ]\n",
      " [  17.655657     17.431509  ]\n",
      " [-270.53946    -270.29178   ]\n",
      " [ -36.554123   -396.40726   ]\n",
      " [ -54.05065     -53.45729   ]\n",
      " [-337.72552    -337.9429    ]\n",
      " [ -74.88132    -436.3214    ]\n",
      " [ -47.64084    -408.66995   ]\n",
      " [   6.9416137     6.2259746 ]\n",
      " [ -21.464981    -21.22374   ]\n",
      " [  12.658455     12.785652  ]\n",
      " [   0.61016846 -359.47253   ]\n",
      " [   1.8561249  -357.83496   ]\n",
      " [  -8.032883   -367.51126   ]\n",
      " [   4.320175      4.7890015 ]\n",
      " [  -0.3751831  -360.82043   ]\n",
      " [   2.011322   -358.8939    ]\n",
      " [  -2.7417374    -2.603653  ]\n",
      " [  -3.7217102    -2.085205  ]\n",
      " [   3.7148438  -356.34576   ]\n",
      " [   4.2575684  -356.34845   ]\n",
      " [   6.7486115     7.075943  ]\n",
      " [  10.103607   -350.52002   ]\n",
      " [   0.46179962    0.6100464 ]\n",
      " [   1.47406    -358.8789    ]\n",
      " [   2.7552605     2.9129868 ]\n",
      " [ 352.95544      -7.6969256 ]\n",
      " [  -4.6777306    -4.639286  ]\n",
      " [   4.0021057  -357.61084   ]\n",
      " [   6.719452   -355.6654    ]\n",
      " [   7.175247      7.658203  ]\n",
      " [  -4.6720276  -365.18677   ]\n",
      " [  -1.2817373    -1.4863815 ]\n",
      " [  -4.3160095  -365.32065   ]\n",
      " [   2.2324219     2.7868195 ]\n",
      " [ -11.38324     -11.2256775 ]\n",
      " [-354.0682     -354.6252    ]\n",
      " [   4.473652      4.472927  ]\n",
      " [  -9.300049     -9.308884  ]\n",
      " [ -10.104065    -10.010849  ]\n",
      " [   9.983185   -350.46167   ]\n",
      " [   1.1498108  -359.52646   ]\n",
      " [ -10.092392   -370.6648    ]\n",
      " [  -2.9861755  -363.41504   ]\n",
      " [   3.098999   -357.05      ]\n",
      " [   2.8502197  -357.38187   ]\n",
      " [   0.85009766 -359.76733   ]\n",
      " [  -1.8074493  -361.7868    ]\n",
      " [ -16.150314   -376.87888   ]\n",
      " [   2.0076904  -361.8634    ]\n",
      " [ -20.782356    -19.55748   ]\n",
      " [  -1.8633194    -3.459896  ]\n",
      " [  -1.7493286    -1.1485748 ]\n",
      " [  -1.7058716  -362.27228   ]\n",
      " [  -6.597763   -366.34644   ]\n",
      " [   7.198662      7.5103455 ]\n",
      " [   4.136566   -355.45435   ]\n",
      " [  -4.6940727    -5.0546227 ]\n",
      " [   4.702942      8.063705  ]\n",
      " [  -4.003891     -3.5959015 ]\n",
      " [  -3.4839249    -2.8829575 ]\n",
      " [   2.162262      2.9223175 ]\n",
      " [  -0.5348511  -361.43066   ]\n",
      " [   3.8049164  -356.12384   ]], shape=(100, 2), dtype=float32)\n"
     ]
    }
   ],
   "source": [
    "print(tf.concat([info[:,2:],info_0[:,2:]],1))"
   ]
  },
  {
   "cell_type": "code",
   "execution_count": null,
   "metadata": {},
   "outputs": [],
   "source": []
  }
 ],
 "metadata": {
  "kernelspec": {
   "display_name": "Python 3",
   "language": "python",
   "name": "python3"
  },
  "language_info": {
   "codemirror_mode": {
    "name": "ipython",
    "version": 3
   },
   "file_extension": ".py",
   "mimetype": "text/x-python",
   "name": "python",
   "nbconvert_exporter": "python",
   "pygments_lexer": "ipython3",
   "version": "3.6.10"
  }
 },
 "nbformat": 4,
 "nbformat_minor": 4
}
