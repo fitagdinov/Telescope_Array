{
 "cells": [
  {
   "cell_type": "code",
   "execution_count": 1,
   "metadata": {},
   "outputs": [],
   "source": [
    "import numpy as np\n",
    "import h5py as h5\n",
    "\n",
    "import tensorflow as tf\n",
    "\n",
    "import matplotlib.pyplot as plt"
   ]
  },
  {
   "cell_type": "code",
   "execution_count": 2,
   "metadata": {},
   "outputs": [],
   "source": [
    "gpus = tf.config.list_physical_devices('GPU')\n",
    "for gpu in gpus:\n",
    "    tf.config.experimental.set_memory_growth(gpu, True)"
   ]
  },
  {
   "cell_type": "markdown",
   "metadata": {},
   "source": [
    "### Read and prepare data"
   ]
  },
  {
   "cell_type": "code",
   "execution_count": 3,
   "metadata": {},
   "outputs": [],
   "source": [
    "h5f = '/home3/ivkhar/TA/data/hadrons/bundled/mc_hadrons_qgs34_0010.h5'"
   ]
  },
  {
   "cell_type": "code",
   "execution_count": 4,
   "metadata": {},
   "outputs": [],
   "source": [
    "num = 3200\n",
    "\n",
    "with h5.File(h5f,'r') as hf:\n",
    "    times_flat = hf['pr-q4-9yr/dt'][:num,:,:,4:5]*1e6 # in mks\n",
    "    times_diff = hf['pr-q4-9yr/dt'][:num,:,:,5:6]*1e6 # in mks\n",
    "    mask = hf['pr-q4-9yr/dt'][:num,:,:,6:7]\n",
    "    real_coords = hf['pr-q4-9yr/dt'][:num,:,:,:3] # in 1.2*km\n",
    "    qs = hf['pr-q4-9yr/dt'][:num,:,:,3:4]\n",
    "    ev_params = hf['pr-q3-9yr/ev_params'][:num]\n",
    "    \n",
    "times_reg = times_flat + times_diff\n",
    "mask_qs = tf.where( tf.math.logical_and(mask>0, qs>0), 1., 0. )"
   ]
  },
  {
   "cell_type": "code",
   "execution_count": 5,
   "metadata": {},
   "outputs": [],
   "source": [
    "xs = tf.expand_dims( tf.linspace( 0., 5*1.2, 6 ), axis=-1 )\n",
    "xs = tf.repeat(xs, 6, axis=1)\n",
    "ys = tf.transpose( xs )\n",
    "coords = tf.expand_dims( tf.stack( (xs,ys), axis=-1 ), axis=0 ) # in km"
   ]
  },
  {
   "cell_type": "code",
   "execution_count": 6,
   "metadata": {},
   "outputs": [],
   "source": [
    "c = tf.constant(0.299792458, dtype=tf.float32) # in km\\mks"
   ]
  },
  {
   "cell_type": "markdown",
   "metadata": {},
   "source": [
    "### Linear approximation"
   ]
  },
  {
   "cell_type": "code",
   "execution_count": 7,
   "metadata": {},
   "outputs": [],
   "source": [
    "# prepare matricies to solve\n",
    "def make_matrix(coords, times_reg, mask):\n",
    "    \n",
    "    # matrix for dL/db\n",
    "    hs = tf.ones((1,6,6,1)) # to make (x_1,x_2) -> (x_1,x_2,1), to account for b\n",
    "    coords_ext = mask*tf.concat( (coords,hs), axis=-1 ) # (bs,6,6,3)\n",
    "    matrix_b = tf.expand_dims( tf.math.reduce_sum( coords_ext, axis=(1,2) ), axis=-1 ) # (bs,6,6,3,1)\n",
    "    times = mask*times_reg # (bs,6,6,1)\n",
    "    rhs_b = tf.math.reduce_sum( times, axis=(1,2) ) # (bs,1)\n",
    "    \n",
    "    # matrix for dL/da\n",
    "    coords_mul = tf.expand_dims( coords_ext, axis=-1) * tf.expand_dims( coords, axis=-2)\n",
    "    matrix_a = tf.math.reduce_sum( coords_mul, axis=(1,2) ) # (bs,6,6,3,2)\n",
    "    ts_mul = times * coords\n",
    "    rhs_a = tf.math.reduce_sum( ts_mul, axis=(1,2) )\n",
    "    \n",
    "    matrix = tf.concat((matrix_b,matrix_a), axis=-1)\n",
    "    rhs = tf.expand_dims( tf.concat((rhs_b,rhs_a), axis=-1), axis=-1 )\n",
    "    \n",
    "    return matrix, rhs"
   ]
  },
  {
   "cell_type": "code",
   "execution_count": 8,
   "metadata": {},
   "outputs": [],
   "source": [
    "def lin_solve(matrix, rhs):\n",
    "    \n",
    "    sol_flat = tf.linalg.solve( matrix, rhs, adjoint=True )[:,:,0]\n",
    "    print(sol_flat)\n",
    "    t0 = sol_flat[:,2]\n",
    "    # extract parameters\n",
    "    n_z = 1/c/c - tf.math.reduce_sum(sol_flat[:,:2]*sol_flat[:,:2], axis=1)\n",
    "    n_z = tf.where( n_z>0, tf.math.sqrt( n_z ), 0. ) # some configurations yield front moving faster than light\n",
    "    theta_flat = tf.math.acos( n_z*c )\n",
    "    phi_flat = tf.math.atan2( sol_flat[:,1], sol_flat[:,0] )\n",
    "    \n",
    "    return theta_flat, phi_flat, t0"
   ]
  },
  {
   "cell_type": "code",
   "execution_count": 9,
   "metadata": {},
   "outputs": [
    {
     "name": "stdout",
     "output_type": "stream",
     "text": [
      "tf.Tensor(\n",
      "[[ 1.6905687  -1.694573   -1.0818247 ]\n",
      " [ 0.9904412   1.6789551  -9.411406  ]\n",
      " [-2.1926205  -1.1778897  12.180874  ]\n",
      " ...\n",
      " [-0.13772662  0.19029364  2.5974503 ]\n",
      " [-1.2350713  -0.95503634  9.593929  ]\n",
      " [-0.98233575 -0.0693085   5.815793  ]], shape=(3200, 3), dtype=float32)\n"
     ]
    }
   ],
   "source": [
    "matrix, rhs = make_matrix(coords, times_reg, mask)\n",
    "# print(matrix[:10])\n",
    "theta, phi, t0 = lin_solve(matrix, rhs) # (bs,)"
   ]
  },
  {
   "cell_type": "markdown",
   "metadata": {},
   "source": [
    "#### Check"
   ]
  },
  {
   "cell_type": "code",
   "execution_count": 10,
   "metadata": {},
   "outputs": [],
   "source": [
    "t0_ext = t0[:,tf.newaxis,tf.newaxis]\n",
    "nx = 1/c*tf.math.sin(theta)[:,tf.newaxis,tf.newaxis] * tf.math.cos(phi)[:,tf.newaxis,tf.newaxis]\n",
    "ny = 1/c*tf.math.sin(theta)[:,tf.newaxis,tf.newaxis] * tf.math.sin(phi)[:,tf.newaxis,tf.newaxis]\n",
    "a = tf.concat((nx,ny), axis=-1)\n",
    "a = tf.expand_dims( a, axis=1 )\n",
    "\n",
    "t_rec = t0_ext + tf.math.reduce_sum( a*coords, axis=-1 )\n",
    "t_rec = t_rec*mask[:,:,:,0]"
   ]
  },
  {
   "cell_type": "code",
   "execution_count": 11,
   "metadata": {},
   "outputs": [
    {
     "name": "stdout",
     "output_type": "stream",
     "text": [
      "tf.Tensor(\n",
      "[ 9.8347664e-06 -6.7949295e-06  8.5830688e-06 ...  1.0728836e-06\n",
      "  2.0861626e-06  7.9870224e-06], shape=(3200,), dtype=float32)\n"
     ]
    }
   ],
   "source": [
    "diff = times_reg[:,:,:,0]*mask[:,:,:,0]-t_rec\n",
    "print(tf.reduce_sum(diff, axis=(1,2)))"
   ]
  },
  {
   "cell_type": "code",
   "execution_count": 12,
   "metadata": {},
   "outputs": [
    {
     "data": {
      "text/plain": [
       "<tf.Tensor: shape=(10, 1, 1), dtype=float32, numpy=\n",
       "array([[[-1.0818247]],\n",
       "\n",
       "       [[-9.411406 ]],\n",
       "\n",
       "       [[12.180874 ]],\n",
       "\n",
       "       [[ 3.3125403]],\n",
       "\n",
       "       [[-2.0338507]],\n",
       "\n",
       "       [[-5.9170256]],\n",
       "\n",
       "       [[-7.2979913]],\n",
       "\n",
       "       [[ 7.1196465]],\n",
       "\n",
       "       [[ 2.646719 ]],\n",
       "\n",
       "       [[ 4.3824096]]], dtype=float32)>"
      ]
     },
     "execution_count": 12,
     "metadata": {},
     "output_type": "execute_result"
    }
   ],
   "source": [
    "t0_ext[0:10]"
   ]
  },
  {
   "cell_type": "markdown",
   "metadata": {},
   "source": [
    "### Shower core, initial"
   ]
  },
  {
   "cell_type": "code",
   "execution_count": 13,
   "metadata": {},
   "outputs": [],
   "source": [
    "q_max = np.amax(qs)*1.1"
   ]
  },
  {
   "cell_type": "code",
   "execution_count": 14,
   "metadata": {},
   "outputs": [],
   "source": [
    "def get_r_core_sat(qs, coords, mask, mask_qs, fill_val):\n",
    "    \n",
    "    qs = tf.where( mask==mask_qs, qs, [fill_val] )\n",
    "    return tf.math.reduce_sum( qs*coords, axis=(1,2), keepdims=True ) / tf.math.reduce_sum(qs, axis=(1,2), keepdims=True)\n",
    "      \n",
    "def get_r_core(qs, coords):\n",
    "    return tf.math.reduce_sum( qs*coords, axis=(1,2), keepdims=True ) / tf.math.reduce_sum(qs, axis=(1,2), keepdims=True)"
   ]
  },
  {
   "cell_type": "code",
   "execution_count": 15,
   "metadata": {},
   "outputs": [],
   "source": [
    "r_core_sat = get_r_core_sat(qs, coords, mask, mask_qs, q_max) # (bs,1,1,2)\n",
    "r_core = get_r_core(qs, coords)"
   ]
  },
  {
   "cell_type": "code",
   "execution_count": 16,
   "metadata": {},
   "outputs": [
    {
     "name": "stdout",
     "output_type": "stream",
     "text": [
      "tf.Tensor(\n",
      "[[0.         0.        ]\n",
      " [0.27978182 0.11552715]\n",
      " [0.         0.        ]], shape=(3, 2), dtype=float32)\n"
     ]
    }
   ],
   "source": [
    "print((r_core-r_core_sat)[:3,0,0,:]) # small difference since saturated detectors are near the center"
   ]
  },
  {
   "cell_type": "markdown",
   "metadata": {},
   "source": [
    "### S_800 reco"
   ]
  },
  {
   "cell_type": "code",
   "execution_count": 17,
   "metadata": {},
   "outputs": [],
   "source": [
    "def get_eta(theta):\n",
    "    \n",
    "    x = theta*180.0/3.1415\n",
    "    \n",
    "    e1 = 3.97 - 1.79*(tf.math.abs(1.0/tf.math.cos(theta)) - 1.0)\n",
    "    e2 = ((((((-1.71299934e-10*x + 4.23849411e-08)*x -3.76192000e-06)*x\n",
    "               + 1.35747298e-04)*x -2.18241567e-03)*x + 1.18960682e-02)*x\n",
    "             + 3.70692527e+00)\n",
    "    res = tf.where(x<62.7,e1,e2)\n",
    "    \n",
    "    return res"
   ]
  },
  {
   "cell_type": "code",
   "execution_count": 18,
   "metadata": {},
   "outputs": [],
   "source": [
    "Rm = tf.constant([0.09])\n",
    "R1 = tf.constant([1.])\n",
    "\n",
    "def get_profile(r, eta):\n",
    "\n",
    "    res = tf.math.pow((r/Rm),-1.2) * tf.math.pow((1+r/Rm), -(eta-1.2)) * tf.math.pow(1.+(tf.math.pow(r,2)/R1/R1),-0.6)\n",
    "    return res"
   ]
  },
  {
   "cell_type": "code",
   "execution_count": 19,
   "metadata": {},
   "outputs": [],
   "source": [
    "R_x = tf.constant([[0.8]])\n",
    "\n",
    "# r should be centered at shower's core\n",
    "# normed so that ldf(800m)=1\n",
    "def get_normed_ldf(r, theta):\n",
    "\n",
    "    eta = get_eta(theta) # (batch,1,1)\n",
    "    \n",
    "    norm = get_profile(R_x, eta)\n",
    "    ldf = get_profile(r, eta)\n",
    "    \n",
    "    return ldf/norm"
   ]
  },
  {
   "cell_type": "code",
   "execution_count": 20,
   "metadata": {},
   "outputs": [],
   "source": [
    "s_min = tf.constant([[0.3]])\n",
    "s_max = tf.constant([[1.8]])\n",
    "\n",
    "def get_S_norm_raw(qs, coords, r_core, theta, phi, mask):\n",
    "    # calculate distance to shower core\n",
    "    cent_coords = coords - r_core\n",
    "    proj_to_n = tf.math.sin(theta)*( tf.math.cos(phi)*cent_coords[:,:,:,0] + tf.math.sin(phi)*cent_coords[:,:,:,1] )\n",
    "    dist_core = tf.math.sqrt( tf.math.reduce_sum( tf.math.pow(cent_coords,2), axis=(3) ) - tf.math.pow(proj_to_n,2) )\n",
    "    # mask for distances\n",
    "    mask_dist = tf.where( tf.math.logical_and(dist_core>s_min,dist_core<s_max), 1., 0. )\n",
    "    mask = mask[:,:,:,0]*mask_dist\n",
    "    \n",
    "    mq = get_measured_ldf(mask_dist, qs)\n",
    "    eq = get_expected_ldf(dist_core, theta, mask_dist)\n",
    "    \n",
    "    return mq, eq\n",
    "\n",
    "def get_measured_ldf(mask, qs):\n",
    "\n",
    "    return tf.math.reduce_sum( qs*mask, axis=(1,2) )\n",
    "\n",
    "def get_expected_ldf(dist_core, theta, mask):\n",
    "    \n",
    "    exp_qs = get_normed_ldf(dist_core, theta)*mask\n",
    "    \n",
    "    return tf.math.reduce_sum( exp_qs, axis=(1,2) )"
   ]
  },
  {
   "cell_type": "code",
   "execution_count": 21,
   "metadata": {},
   "outputs": [],
   "source": [
    "theta = theta[:,tf.newaxis, tf.newaxis]\n",
    "phi = phi[:,tf.newaxis, tf.newaxis]\n",
    "t0 = t0[:,tf.newaxis,tf.newaxis]"
   ]
  },
  {
   "cell_type": "code",
   "execution_count": 22,
   "metadata": {},
   "outputs": [],
   "source": [
    "mq, eq = get_S_norm_raw(qs[:,:,:,0], coords, r_core, theta, phi, mask_qs)\n",
    "S_norm = mq/eq"
   ]
  },
  {
   "cell_type": "code",
   "execution_count": 23,
   "metadata": {},
   "outputs": [
    {
     "data": {
      "text/plain": [
       "<matplotlib.collections.PathCollection at 0x7f7eb01b1a58>"
      ]
     },
     "execution_count": 23,
     "metadata": {},
     "output_type": "execute_result"
    },
    {
     "data": {
      "image/png": "[encoded data removed]",
      "text/plain": [
       "<Figure size 432x288 with 1 Axes>"
      ]
     },
     "metadata": {
      "needs_background": "light"
     },
     "output_type": "display_data"
    }
   ],
   "source": [
    "plt.scatter(mq,eq)\n",
    "#plt.ylim((0, 500))"
   ]
  },
  {
   "cell_type": "markdown",
   "metadata": {},
   "source": [
    "### Full time reco"
   ]
  },
  {
   "cell_type": "code",
   "execution_count": 24,
   "metadata": {},
   "outputs": [],
   "source": [
    "def get_a_ivanov(theta, rescale):\n",
    "    \n",
    "    theta_degr = theta/3.1415*180.\n",
    "    \n",
    "    r1 = 3.3836 - 0.01848*theta_degr\n",
    "    r2 = (0.6511268210e-4*(theta_degr-.2614963683))*(theta_degr*theta_degr-134.7902422*theta_degr+4558.524091)\n",
    "    r3 = tf.math.exp(-3.2e-2*theta_degr + 2.0)\n",
    "    \n",
    "    a_ivanov = tf.where( theta_degr<25.0, r1, r2 )\n",
    "    a_ivanov = tf.where( theta_degr>35.0, r3, a_ivanov )\n",
    "    \n",
    "    if rescale:\n",
    "        a_ivanov *= 1.3\n",
    "    \n",
    "    return a_ivanov\n",
    "\n",
    "def get_S_norm(dist_core, mask, qs):\n",
    "    # mask for distances\n",
    "    mask_dist = tf.where( tf.math.logical_and(dist_core>s_min,dist_core<s_max), 1., 0. )\n",
    "    mask = mask*mask_dist\n",
    "    \n",
    "    mq = get_measured_ldf(mask_dist, qs)\n",
    "    eq = get_expected_ldf(dist_core, theta, mask_dist)\n",
    "    \n",
    "    return mq/eq"
   ]
  },
  {
   "cell_type": "code",
   "execution_count": 25,
   "metadata": {},
   "outputs": [],
   "source": [
    "R_L = 0.03\n",
    "\n",
    "def get_lins_t(r, s):\n",
    "    return 0.67*tf.math.pow((1 + r/R_L), 1.5)*tf.math.pow(s, -0.5)\n",
    "\n",
    "def get_exp_time(t0, theta, phi, coords, mask, r_core, qs, rescale):\n",
    "    # flat\n",
    "    t_plane = t0 + tf.math.sin(theta)*( tf.math.cos(phi)*coords[:,:,:,0] + tf.math.sin(phi)*coords[:,:,:,1] ) / c\n",
    "    ## curvature\n",
    "    # get S_800\n",
    "    cent_coords = coords - r_core\n",
    "    proj_to_n = tf.math.sin(theta)*( tf.math.cos(phi)*cent_coords[:,:,:,0] + tf.math.sin(phi)*cent_coords[:,:,:,1] )\n",
    "    dist_core = tf.math.sqrt( tf.math.reduce_sum( tf.math.pow(cent_coords,2), axis=(3) ) - tf.math.pow(proj_to_n,2) )\n",
    "    S_norm = get_S_norm(dist_core, mask, qs)[:,tf.newaxis, tf.newaxis]\n",
    "    # get curv parameters\n",
    "    a_ivanov = get_a_ivanov(theta, rescale)\n",
    "    aprime = a_ivanov/tf.math.sqrt(S_norm)\n",
    "    s_prof = get_normed_ldf(dist_core, theta)\n",
    "    # time due to curvature\n",
    "    t_curv = aprime*get_lins_t( dist_core, s_prof )\n",
    "    \n",
    "    return (t_plane + t_curv / 1e3)*mask # 1e3 since time in mks, linsley - in ns; C ???"
   ]
  },
  {
   "cell_type": "code",
   "execution_count": 26,
   "metadata": {},
   "outputs": [],
   "source": [
    "ts = get_exp_time(t0, theta, phi, coords, mask_qs[:,:,:,0], r_core_sat, qs[:,:,:,0], True)"
   ]
  },
  {
   "cell_type": "code",
   "execution_count": 27,
   "metadata": {},
   "outputs": [
    {
     "name": "stdout",
     "output_type": "stream",
     "text": [
      "tf.Tensor(\n",
      "[[ 0.         0.         0.         0.         0.         0.       ]\n",
      " [ 0.         0.         0.         0.        -0.         0.       ]\n",
      " [ 0.         0.         0.        -2.5304592 -3.6931365 -0.       ]\n",
      " [ 0.         0.         1.1108719 -1.083818  -2.1221657  0.       ]\n",
      " [ 0.         0.         0.         1.3789799  0.         0.       ]\n",
      " [ 0.         0.         7.834401   0.         0.         0.       ]], shape=(6, 6), dtype=float32)\n"
     ]
    }
   ],
   "source": [
    "print(ts[0])"
   ]
  },
  {
   "cell_type": "code",
   "execution_count": 28,
   "metadata": {},
   "outputs": [
    {
     "name": "stdout",
     "output_type": "stream",
     "text": [
      "tf.Tensor(\n",
      "[[-0.         -0.         -0.         -0.         -0.         -0.        ]\n",
      " [ 0.         -0.         -0.         -0.         -0.         -0.        ]\n",
      " [ 0.          0.         -0.         -3.1249242  -5.1584115  -0.        ]\n",
      " [ 0.          0.          0.93724644 -1.0962418  -3.1297293  -0.        ]\n",
      " [ 0.          0.          0.          0.9324404  -0.         -0.        ]\n",
      " [ 0.          0.          4.9946103   0.          0.         -0.        ]], shape=(6, 6), dtype=float32)\n"
     ]
    }
   ],
   "source": [
    "print(t_rec[0])"
   ]
  },
  {
   "cell_type": "code",
   "execution_count": null,
   "metadata": {},
   "outputs": [],
   "source": []
  },
  {
   "cell_type": "code",
   "execution_count": null,
   "metadata": {},
   "outputs": [],
   "source": []
  },
  {
   "cell_type": "code",
   "execution_count": null,
   "metadata": {},
   "outputs": [],
   "source": []
  },
  {
   "cell_type": "code",
   "execution_count": null,
   "metadata": {},
   "outputs": [],
   "source": []
  }
 ],
 "metadata": {
  "kernelspec": {
   "display_name": "Python 3",
   "language": "python",
   "name": "python3"
  },
  "language_info": {
   "codemirror_mode": {
    "name": "ipython",
    "version": 3
   },
   "file_extension": ".py",
   "mimetype": "text/x-python",
   "name": "python",
   "nbconvert_exporter": "python",
   "pygments_lexer": "ipython3",
   "version": "3.6.10"
  }
 },
 "nbformat": 4,
 "nbformat_minor": 5
}
