{
 "cells": [
  {
   "cell_type": "code",
   "execution_count": 7,
   "metadata": {},
   "outputs": [],
   "source": [
    "import numpy as np\n",
    "import matplotlib.pyplot as plt\n",
    "import tensorflow as tf\n",
    "import pandas as pd\n",
    "import seaborn as sns\n",
    "import h5py\n",
    "import tqdm\n",
    "import zipfile\n",
    "from tqdm.notebook import tqdm_notebook\n",
    "from progress.bar import IncrementalBar\n",
    "import random\n",
    "import pandas as pd\n",
    "import os\n",
    "# tf.config.run_functions_eagerly(True)\n",
    "%matplotlib inline"
   ]
  },
  {
   "cell_type": "code",
   "execution_count": 2,
   "metadata": {},
   "outputs": [
    {
     "name": "stdout",
     "output_type": "stream",
     "text": [
      "[PhysicalDevice(name='/physical_device:GPU:0', device_type='GPU')]\n"
     ]
    }
   ],
   "source": [
    "gpus = tf.config.list_physical_devices('GPU')\n",
    "print(gpus)\n",
    "for gpu in gpus:\n",
    "    tf.config.experimental.set_memory_growth(gpu, True)"
   ]
  },
  {
   "cell_type": "code",
   "execution_count": 3,
   "metadata": {},
   "outputs": [
    {
     "name": "stderr",
     "output_type": "stream",
     "text": [
      "/home/rfit/.conda/envs/robert_venv/lib/python3.6/site-packages/ipykernel_launcher.py:5: H5pyDeprecationWarning: dataset.value has been deprecated. Use dataset[()] instead.\n",
      "  \"\"\"\n"
     ]
    },
    {
     "name": "stdout",
     "output_type": "stream",
     "text": [
      "(268322, 128, 2)\n",
      "0.0 1.004905\n"
     ]
    }
   ],
   "source": [
    "path='../../mc_hadrons_qgs34_0010.h5'\n",
    "data_name='pr-q4-9yr'\n",
    "data=np.zeros((1,6,6,4))\n",
    "with h5py.File(path,'r') as f:\n",
    "    data=f[data_name]['wf_max'].value\n",
    "    print(data.shape)\n",
    "data=(data-data.min())/data.max()\n",
    "print(data.min(),data.max())"
   ]
  },
  {
   "cell_type": "code",
   "execution_count": 5,
   "metadata": {},
   "outputs": [
    {
     "data": {
      "image/png": "[encoded data removed]",
      "text/plain": [
       "<Figure size 432x288 with 1 Axes>"
      ]
     },
     "metadata": {
      "needs_background": "light"
     },
     "output_type": "display_data"
    }
   ],
   "source": [
    "max_el=np.zeros(len(data))\n",
    "for i in range(len(data)):\n",
    "    max_el[i]=data[i].max()\n",
    "    \n",
    "# print(len(max_el))    \n",
    "num,interval,pl=plt.hist(max_el,20,(0,1))\n",
    "plt.xlabel('max MIP')\n",
    "plt.ylabel('Num')\n",
    "plt.savefig('real_hist.png')"
   ]
  },
  {
   "cell_type": "code",
   "execution_count": 1,
   "metadata": {},
   "outputs": [
    {
     "name": "stdout",
     "output_type": "stream",
     "text": [
      "/home/rfit/Telescope_Array/max_impuls\n"
     ]
    }
   ],
   "source": [
    "cd .."
   ]
  },
  {
   "cell_type": "code",
   "execution_count": 2,
   "metadata": {},
   "outputs": [
    {
     "name": "stdout",
     "output_type": "stream",
     "text": [
      "[PhysicalDevice(name='/physical_device:GPU:0', device_type='GPU')]\n"
     ]
    }
   ],
   "source": [
    "import src.train as train_"
   ]
  },
  {
   "cell_type": "code",
   "execution_count": 3,
   "metadata": {},
   "outputs": [
    {
     "name": "stdout",
     "output_type": "stream",
     "text": [
      "/home/rfit/Telescope_Array/max_impuls/Notebooks\n"
     ]
    }
   ],
   "source": [
    "cd Notebooks"
   ]
  },
  {
   "cell_type": "code",
   "execution_count": 5,
   "metadata": {},
   "outputs": [
    {
     "name": "stdout",
     "output_type": "stream",
     "text": [
      "['norm_param', 'test', 'train']\n",
      "(472351, 128, 2)\n"
     ]
    },
    {
     "name": "stderr",
     "output_type": "stream",
     "text": [
      "100%|██████████| 472320/472320 [00:08<00:00, 59006.04it/s]\n"
     ]
    }
   ],
   "source": [
    "train,test=train_.get_data()"
   ]
  },
  {
   "cell_type": "code",
   "execution_count": 8,
   "metadata": {},
   "outputs": [
    {
     "data": {
      "image/png": "[encoded data removed]",
      "text/plain": [
       "<Figure size 432x288 with 1 Axes>"
      ]
     },
     "metadata": {
      "needs_background": "light"
     },
     "output_type": "display_data"
    }
   ],
   "source": [
    "max_el=np.zeros(len(train))\n",
    "for i in range(len(train)):\n",
    "    max_el[i]=train[i].max()\n",
    "    \n",
    "# print(len(max_el))    \n",
    "num,interval,pl=plt.hist(max_el,20,(0,1))\n",
    "plt.xlabel('max MIP')\n",
    "plt.ylabel('Num')\n",
    "plt.savefig('real_hist.png')"
   ]
  },
  {
   "cell_type": "code",
   "execution_count": null,
   "metadata": {},
   "outputs": [],
   "source": [
    "np.concatenate"
   ]
  }
 ],
 "metadata": {
  "kernelspec": {
   "display_name": "Python 3",
   "language": "python",
   "name": "python3"
  },
  "language_info": {
   "codemirror_mode": {
    "name": "ipython",
    "version": 3
   },
   "file_extension": ".py",
   "mimetype": "text/x-python",
   "name": "python",
   "nbconvert_exporter": "python",
   "pygments_lexer": "ipython3",
   "version": "3.6.10"
  }
 },
 "nbformat": 4,
 "nbformat_minor": 4
}
