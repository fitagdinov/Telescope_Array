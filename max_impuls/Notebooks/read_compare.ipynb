{
 "cells": [
  {
   "cell_type": "code",
   "execution_count": 3,
   "metadata": {},
   "outputs": [],
   "source": [
    "import pandas as pd\n",
    "import matplotlib.pyplot as plt \n",
    "import numpy as np\n",
    "import seaborn as sns\n",
    "import os"
   ]
  },
  {
   "cell_type": "code",
   "execution_count": 4,
   "metadata": {},
   "outputs": [],
   "source": [
    "os.chdir('../compare_data/')"
   ]
  },
  {
   "cell_type": "code",
   "execution_count": 20,
   "metadata": {},
   "outputs": [
    {
     "name": "stdout",
     "output_type": "stream",
     "text": [
      "q3_q4__vs_real.csv  q4_vs_q3.csv  q4_vs_real.csv\r\n"
     ]
    }
   ],
   "source": [
    "ls"
   ]
  },
  {
   "cell_type": "markdown",
   "metadata": {},
   "source": [
    "# 'q4_vs_q3.csv'"
   ]
  },
  {
   "cell_type": "code",
   "execution_count": 6,
   "metadata": {},
   "outputs": [
    {
     "data": {
      "text/html": [
       "<div>\n",
       "<style scoped>\n",
       "    .dataframe tbody tr th:only-of-type {\n",
       "        vertical-align: middle;\n",
       "    }\n",
       "\n",
       "    .dataframe tbody tr th {\n",
       "        vertical-align: top;\n",
       "    }\n",
       "\n",
       "    .dataframe thead th {\n",
       "        text-align: right;\n",
       "    }\n",
       "</style>\n",
       "<table border=\"1\" class=\"dataframe\">\n",
       "  <thead>\n",
       "    <tr style=\"text-align: right;\">\n",
       "      <th></th>\n",
       "      <th>train__pr-q4-9yr__mertic</th>\n",
       "      <th>train__pr-q4-9yr__ampl</th>\n",
       "      <th>test__pr-q3-9yr__mertic</th>\n",
       "      <th>test__pr-q3-9yr__ampl</th>\n",
       "    </tr>\n",
       "  </thead>\n",
       "  <tbody>\n",
       "    <tr>\n",
       "      <th>0</th>\n",
       "      <td>0.000150</td>\n",
       "      <td>0.047629</td>\n",
       "      <td>0.000332</td>\n",
       "      <td>0.047629</td>\n",
       "    </tr>\n",
       "    <tr>\n",
       "      <th>1</th>\n",
       "      <td>0.000283</td>\n",
       "      <td>0.026521</td>\n",
       "      <td>0.000112</td>\n",
       "      <td>0.026521</td>\n",
       "    </tr>\n",
       "    <tr>\n",
       "      <th>2</th>\n",
       "      <td>0.000314</td>\n",
       "      <td>0.021148</td>\n",
       "      <td>0.000260</td>\n",
       "      <td>0.021148</td>\n",
       "    </tr>\n",
       "    <tr>\n",
       "      <th>3</th>\n",
       "      <td>0.000295</td>\n",
       "      <td>0.083092</td>\n",
       "      <td>0.000352</td>\n",
       "      <td>0.083092</td>\n",
       "    </tr>\n",
       "    <tr>\n",
       "      <th>4</th>\n",
       "      <td>0.000269</td>\n",
       "      <td>0.061675</td>\n",
       "      <td>0.000203</td>\n",
       "      <td>0.061675</td>\n",
       "    </tr>\n",
       "    <tr>\n",
       "      <th>...</th>\n",
       "      <td>...</td>\n",
       "      <td>...</td>\n",
       "      <td>...</td>\n",
       "      <td>...</td>\n",
       "    </tr>\n",
       "    <tr>\n",
       "      <th>1995</th>\n",
       "      <td>0.000243</td>\n",
       "      <td>0.040884</td>\n",
       "      <td>0.000160</td>\n",
       "      <td>0.040884</td>\n",
       "    </tr>\n",
       "    <tr>\n",
       "      <th>1996</th>\n",
       "      <td>0.001550</td>\n",
       "      <td>0.363954</td>\n",
       "      <td>0.000993</td>\n",
       "      <td>0.363954</td>\n",
       "    </tr>\n",
       "    <tr>\n",
       "      <th>1997</th>\n",
       "      <td>0.001830</td>\n",
       "      <td>0.485414</td>\n",
       "      <td>0.001361</td>\n",
       "      <td>0.485414</td>\n",
       "    </tr>\n",
       "    <tr>\n",
       "      <th>1998</th>\n",
       "      <td>0.000193</td>\n",
       "      <td>0.040745</td>\n",
       "      <td>0.000131</td>\n",
       "      <td>0.040745</td>\n",
       "    </tr>\n",
       "    <tr>\n",
       "      <th>1999</th>\n",
       "      <td>0.000160</td>\n",
       "      <td>0.141725</td>\n",
       "      <td>0.000322</td>\n",
       "      <td>0.141725</td>\n",
       "    </tr>\n",
       "  </tbody>\n",
       "</table>\n",
       "<p>2000 rows × 4 columns</p>\n",
       "</div>"
      ],
      "text/plain": [
       "      train__pr-q4-9yr__mertic  train__pr-q4-9yr__ampl  \\\n",
       "0                     0.000150                0.047629   \n",
       "1                     0.000283                0.026521   \n",
       "2                     0.000314                0.021148   \n",
       "3                     0.000295                0.083092   \n",
       "4                     0.000269                0.061675   \n",
       "...                        ...                     ...   \n",
       "1995                  0.000243                0.040884   \n",
       "1996                  0.001550                0.363954   \n",
       "1997                  0.001830                0.485414   \n",
       "1998                  0.000193                0.040745   \n",
       "1999                  0.000160                0.141725   \n",
       "\n",
       "      test__pr-q3-9yr__mertic  test__pr-q3-9yr__ampl  \n",
       "0                    0.000332               0.047629  \n",
       "1                    0.000112               0.026521  \n",
       "2                    0.000260               0.021148  \n",
       "3                    0.000352               0.083092  \n",
       "4                    0.000203               0.061675  \n",
       "...                       ...                    ...  \n",
       "1995                 0.000160               0.040884  \n",
       "1996                 0.000993               0.363954  \n",
       "1997                 0.001361               0.485414  \n",
       "1998                 0.000131               0.040745  \n",
       "1999                 0.000322               0.141725  \n",
       "\n",
       "[2000 rows x 4 columns]"
      ]
     },
     "execution_count": 6,
     "metadata": {},
     "output_type": "execute_result"
    }
   ],
   "source": [
    "q4_vs_q3=pd.read_csv('q4_vs_q3.csv')\n",
    "q4_vs_q3"
   ]
  },
  {
   "cell_type": "code",
   "execution_count": 7,
   "metadata": {},
   "outputs": [],
   "source": [
    "q4=q4_vs_q3['train__pr-q4-9yr__mertic']\n",
    "q3=q4_vs_q3['test__pr-q3-9yr__mertic']"
   ]
  },
  {
   "cell_type": "code",
   "execution_count": 9,
   "metadata": {},
   "outputs": [
    {
     "name": "stdout",
     "output_type": "stream",
     "text": [
      "train  0.000471548520223223   test  0.0004743701307597803\n"
     ]
    }
   ],
   "source": [
    "print('train ',q4.mean(),'  test ',q3.mean())"
   ]
  },
  {
   "cell_type": "code",
   "execution_count": 19,
   "metadata": {},
   "outputs": [
    {
     "data": {
      "text/plain": [
       "{'whiskers': [<matplotlib.lines.Line2D at 0x7ff68d78d0f0>,\n",
       "  <matplotlib.lines.Line2D at 0x7ff68d78d470>,\n",
       "  <matplotlib.lines.Line2D at 0x7ff68d7979b0>,\n",
       "  <matplotlib.lines.Line2D at 0x7ff68d797d30>],\n",
       " 'caps': [<matplotlib.lines.Line2D at 0x7ff68d78d7f0>,\n",
       "  <matplotlib.lines.Line2D at 0x7ff68d78db70>,\n",
       "  <matplotlib.lines.Line2D at 0x7ff68d7a20f0>,\n",
       "  <matplotlib.lines.Line2D at 0x7ff68d7a2470>],\n",
       " 'boxes': [<matplotlib.lines.Line2D at 0x7ff68d780da0>,\n",
       "  <matplotlib.lines.Line2D at 0x7ff68d7975f8>],\n",
       " 'medians': [<matplotlib.lines.Line2D at 0x7ff68d78def0>,\n",
       "  <matplotlib.lines.Line2D at 0x7ff68d7a27f0>],\n",
       " 'fliers': [<matplotlib.lines.Line2D at 0x7ff68d7972b0>,\n",
       "  <matplotlib.lines.Line2D at 0x7ff68d7a2b70>],\n",
       " 'means': []}"
      ]
     },
     "execution_count": 19,
     "metadata": {},
     "output_type": "execute_result"
    },
    {
     "data": {
      "image/png": "[encoded data removed]",
      "text/plain": [
       "<Figure size 432x288 with 1 Axes>"
      ]
     },
     "metadata": {
      "needs_background": "light"
     },
     "output_type": "display_data"
    }
   ],
   "source": [
    "plt.boxplot([q4,q3],labels=['q4','q3'])"
   ]
  },
  {
   "cell_type": "markdown",
   "metadata": {},
   "source": [
    "# q4_vs_real.csv"
   ]
  },
  {
   "cell_type": "code",
   "execution_count": 21,
   "metadata": {},
   "outputs": [
    {
     "data": {
      "text/html": [
       "<div>\n",
       "<style scoped>\n",
       "    .dataframe tbody tr th:only-of-type {\n",
       "        vertical-align: middle;\n",
       "    }\n",
       "\n",
       "    .dataframe tbody tr th {\n",
       "        vertical-align: top;\n",
       "    }\n",
       "\n",
       "    .dataframe thead th {\n",
       "        text-align: right;\n",
       "    }\n",
       "</style>\n",
       "<table border=\"1\" class=\"dataframe\">\n",
       "  <thead>\n",
       "    <tr style=\"text-align: right;\">\n",
       "      <th></th>\n",
       "      <th>train__pr-q4-9yr__mertic</th>\n",
       "      <th>train__pr-q4-9yr__ampl</th>\n",
       "      <th>test__sddata_9yr__mertic</th>\n",
       "      <th>test__sddata_9yr__ampl</th>\n",
       "    </tr>\n",
       "  </thead>\n",
       "  <tbody>\n",
       "    <tr>\n",
       "      <th>0</th>\n",
       "      <td>0.000192</td>\n",
       "      <td>0.058052</td>\n",
       "      <td>0.000132</td>\n",
       "      <td>0.058052</td>\n",
       "    </tr>\n",
       "    <tr>\n",
       "      <th>1</th>\n",
       "      <td>0.000212</td>\n",
       "      <td>0.050772</td>\n",
       "      <td>0.000155</td>\n",
       "      <td>0.050772</td>\n",
       "    </tr>\n",
       "    <tr>\n",
       "      <th>2</th>\n",
       "      <td>0.000113</td>\n",
       "      <td>0.029353</td>\n",
       "      <td>0.000319</td>\n",
       "      <td>0.029353</td>\n",
       "    </tr>\n",
       "    <tr>\n",
       "      <th>3</th>\n",
       "      <td>0.000178</td>\n",
       "      <td>0.344718</td>\n",
       "      <td>0.000623</td>\n",
       "      <td>0.344718</td>\n",
       "    </tr>\n",
       "    <tr>\n",
       "      <th>4</th>\n",
       "      <td>0.001673</td>\n",
       "      <td>0.390850</td>\n",
       "      <td>0.001979</td>\n",
       "      <td>0.390850</td>\n",
       "    </tr>\n",
       "    <tr>\n",
       "      <th>...</th>\n",
       "      <td>...</td>\n",
       "      <td>...</td>\n",
       "      <td>...</td>\n",
       "      <td>...</td>\n",
       "    </tr>\n",
       "    <tr>\n",
       "      <th>1995</th>\n",
       "      <td>0.000170</td>\n",
       "      <td>0.055840</td>\n",
       "      <td>0.000126</td>\n",
       "      <td>0.055840</td>\n",
       "    </tr>\n",
       "    <tr>\n",
       "      <th>1996</th>\n",
       "      <td>0.000130</td>\n",
       "      <td>0.093893</td>\n",
       "      <td>0.000144</td>\n",
       "      <td>0.093893</td>\n",
       "    </tr>\n",
       "    <tr>\n",
       "      <th>1997</th>\n",
       "      <td>0.000251</td>\n",
       "      <td>0.133846</td>\n",
       "      <td>0.000306</td>\n",
       "      <td>0.133846</td>\n",
       "    </tr>\n",
       "    <tr>\n",
       "      <th>1998</th>\n",
       "      <td>0.000236</td>\n",
       "      <td>0.078570</td>\n",
       "      <td>0.000560</td>\n",
       "      <td>0.078570</td>\n",
       "    </tr>\n",
       "    <tr>\n",
       "      <th>1999</th>\n",
       "      <td>0.000261</td>\n",
       "      <td>0.134781</td>\n",
       "      <td>0.000244</td>\n",
       "      <td>0.134781</td>\n",
       "    </tr>\n",
       "  </tbody>\n",
       "</table>\n",
       "<p>2000 rows × 4 columns</p>\n",
       "</div>"
      ],
      "text/plain": [
       "      train__pr-q4-9yr__mertic  train__pr-q4-9yr__ampl  \\\n",
       "0                     0.000192                0.058052   \n",
       "1                     0.000212                0.050772   \n",
       "2                     0.000113                0.029353   \n",
       "3                     0.000178                0.344718   \n",
       "4                     0.001673                0.390850   \n",
       "...                        ...                     ...   \n",
       "1995                  0.000170                0.055840   \n",
       "1996                  0.000130                0.093893   \n",
       "1997                  0.000251                0.133846   \n",
       "1998                  0.000236                0.078570   \n",
       "1999                  0.000261                0.134781   \n",
       "\n",
       "      test__sddata_9yr__mertic  test__sddata_9yr__ampl  \n",
       "0                     0.000132                0.058052  \n",
       "1                     0.000155                0.050772  \n",
       "2                     0.000319                0.029353  \n",
       "3                     0.000623                0.344718  \n",
       "4                     0.001979                0.390850  \n",
       "...                        ...                     ...  \n",
       "1995                  0.000126                0.055840  \n",
       "1996                  0.000144                0.093893  \n",
       "1997                  0.000306                0.133846  \n",
       "1998                  0.000560                0.078570  \n",
       "1999                  0.000244                0.134781  \n",
       "\n",
       "[2000 rows x 4 columns]"
      ]
     },
     "execution_count": 21,
     "metadata": {},
     "output_type": "execute_result"
    }
   ],
   "source": [
    "q4_vs_real=pd.read_csv('q4_vs_real.csv')\n",
    "q4_vs_real"
   ]
  },
  {
   "cell_type": "code",
   "execution_count": 23,
   "metadata": {},
   "outputs": [],
   "source": [
    "q4=q4_vs_real['train__pr-q4-9yr__mertic']\n",
    "real=q4_vs_real['test__sddata_9yr__mertic']"
   ]
  },
  {
   "cell_type": "code",
   "execution_count": 24,
   "metadata": {},
   "outputs": [
    {
     "name": "stdout",
     "output_type": "stream",
     "text": [
      "train  0.00044986410016826996   test  0.0004466915191114822\n"
     ]
    }
   ],
   "source": [
    "print('train ',q4.mean(),'  test ',real.mean())"
   ]
  },
  {
   "cell_type": "code",
   "execution_count": 25,
   "metadata": {},
   "outputs": [
    {
     "data": {
      "text/plain": [
       "{'whiskers': [<matplotlib.lines.Line2D at 0x7ff68d615cc0>,\n",
       "  <matplotlib.lines.Line2D at 0x7ff68d61f080>,\n",
       "  <matplotlib.lines.Line2D at 0x7ff68d62a5c0>,\n",
       "  <matplotlib.lines.Line2D at 0x7ff68d62a940>],\n",
       " 'caps': [<matplotlib.lines.Line2D at 0x7ff68d61f400>,\n",
       "  <matplotlib.lines.Line2D at 0x7ff68d61f780>,\n",
       "  <matplotlib.lines.Line2D at 0x7ff68d62acc0>,\n",
       "  <matplotlib.lines.Line2D at 0x7ff68d633080>],\n",
       " 'boxes': [<matplotlib.lines.Line2D at 0x7ff68d6159b0>,\n",
       "  <matplotlib.lines.Line2D at 0x7ff68d62a208>],\n",
       " 'medians': [<matplotlib.lines.Line2D at 0x7ff68d61fb00>,\n",
       "  <matplotlib.lines.Line2D at 0x7ff68d633400>],\n",
       " 'fliers': [<matplotlib.lines.Line2D at 0x7ff68d61fe80>,\n",
       "  <matplotlib.lines.Line2D at 0x7ff68d633780>],\n",
       " 'means': []}"
      ]
     },
     "execution_count": 25,
     "metadata": {},
     "output_type": "execute_result"
    },
    {
     "data": {
      "image/png": "[encoded data removed]",
      "text/plain": [
       "<Figure size 432x288 with 1 Axes>"
      ]
     },
     "metadata": {
      "needs_background": "light"
     },
     "output_type": "display_data"
    }
   ],
   "source": [
    "plt.boxplot([q4,real],labels=['q4','real'])"
   ]
  },
  {
   "cell_type": "markdown",
   "metadata": {},
   "source": [
    "# q4_vs_q3 huge"
   ]
  },
  {
   "cell_type": "code",
   "execution_count": 29,
   "metadata": {},
   "outputs": [
    {
     "data": {
      "text/html": [
       "<div>\n",
       "<style scoped>\n",
       "    .dataframe tbody tr th:only-of-type {\n",
       "        vertical-align: middle;\n",
       "    }\n",
       "\n",
       "    .dataframe tbody tr th {\n",
       "        vertical-align: top;\n",
       "    }\n",
       "\n",
       "    .dataframe thead th {\n",
       "        text-align: right;\n",
       "    }\n",
       "</style>\n",
       "<table border=\"1\" class=\"dataframe\">\n",
       "  <thead>\n",
       "    <tr style=\"text-align: right;\">\n",
       "      <th></th>\n",
       "      <th>train__pr-q4-9yr__mertic</th>\n",
       "      <th>train__pr-q4-9yr__ampl</th>\n",
       "      <th>test__pr-q3-9yr__mertic</th>\n",
       "      <th>test__pr-q3-9yr__ampl</th>\n",
       "    </tr>\n",
       "  </thead>\n",
       "  <tbody>\n",
       "    <tr>\n",
       "      <th>6</th>\n",
       "      <td>0.000668</td>\n",
       "      <td>0.280486</td>\n",
       "      <td>0.000839</td>\n",
       "      <td>0.280486</td>\n",
       "    </tr>\n",
       "    <tr>\n",
       "      <th>7</th>\n",
       "      <td>0.000639</td>\n",
       "      <td>0.231056</td>\n",
       "      <td>0.000529</td>\n",
       "      <td>0.231056</td>\n",
       "    </tr>\n",
       "    <tr>\n",
       "      <th>9</th>\n",
       "      <td>0.001659</td>\n",
       "      <td>0.823298</td>\n",
       "      <td>0.001636</td>\n",
       "      <td>0.823298</td>\n",
       "    </tr>\n",
       "    <tr>\n",
       "      <th>11</th>\n",
       "      <td>0.000789</td>\n",
       "      <td>0.255687</td>\n",
       "      <td>0.000743</td>\n",
       "      <td>0.255687</td>\n",
       "    </tr>\n",
       "    <tr>\n",
       "      <th>12</th>\n",
       "      <td>0.000808</td>\n",
       "      <td>0.847126</td>\n",
       "      <td>0.000939</td>\n",
       "      <td>0.847126</td>\n",
       "    </tr>\n",
       "    <tr>\n",
       "      <th>...</th>\n",
       "      <td>...</td>\n",
       "      <td>...</td>\n",
       "      <td>...</td>\n",
       "      <td>...</td>\n",
       "    </tr>\n",
       "    <tr>\n",
       "      <th>1991</th>\n",
       "      <td>0.000974</td>\n",
       "      <td>0.421119</td>\n",
       "      <td>0.000929</td>\n",
       "      <td>0.421119</td>\n",
       "    </tr>\n",
       "    <tr>\n",
       "      <th>1993</th>\n",
       "      <td>0.000219</td>\n",
       "      <td>0.204786</td>\n",
       "      <td>0.000363</td>\n",
       "      <td>0.204786</td>\n",
       "    </tr>\n",
       "    <tr>\n",
       "      <th>1994</th>\n",
       "      <td>0.001840</td>\n",
       "      <td>0.524213</td>\n",
       "      <td>0.001486</td>\n",
       "      <td>0.524213</td>\n",
       "    </tr>\n",
       "    <tr>\n",
       "      <th>1996</th>\n",
       "      <td>0.001550</td>\n",
       "      <td>0.363954</td>\n",
       "      <td>0.000993</td>\n",
       "      <td>0.363954</td>\n",
       "    </tr>\n",
       "    <tr>\n",
       "      <th>1997</th>\n",
       "      <td>0.001830</td>\n",
       "      <td>0.485414</td>\n",
       "      <td>0.001361</td>\n",
       "      <td>0.485414</td>\n",
       "    </tr>\n",
       "  </tbody>\n",
       "</table>\n",
       "<p>695 rows × 4 columns</p>\n",
       "</div>"
      ],
      "text/plain": [
       "      train__pr-q4-9yr__mertic  train__pr-q4-9yr__ampl  \\\n",
       "6                     0.000668                0.280486   \n",
       "7                     0.000639                0.231056   \n",
       "9                     0.001659                0.823298   \n",
       "11                    0.000789                0.255687   \n",
       "12                    0.000808                0.847126   \n",
       "...                        ...                     ...   \n",
       "1991                  0.000974                0.421119   \n",
       "1993                  0.000219                0.204786   \n",
       "1994                  0.001840                0.524213   \n",
       "1996                  0.001550                0.363954   \n",
       "1997                  0.001830                0.485414   \n",
       "\n",
       "      test__pr-q3-9yr__mertic  test__pr-q3-9yr__ampl  \n",
       "6                    0.000839               0.280486  \n",
       "7                    0.000529               0.231056  \n",
       "9                    0.001636               0.823298  \n",
       "11                   0.000743               0.255687  \n",
       "12                   0.000939               0.847126  \n",
       "...                       ...                    ...  \n",
       "1991                 0.000929               0.421119  \n",
       "1993                 0.000363               0.204786  \n",
       "1994                 0.001486               0.524213  \n",
       "1996                 0.000993               0.363954  \n",
       "1997                 0.001361               0.485414  \n",
       "\n",
       "[695 rows x 4 columns]"
      ]
     },
     "execution_count": 29,
     "metadata": {},
     "output_type": "execute_result"
    }
   ],
   "source": [
    "q4_vs_q3=pd.read_csv('q4_vs_q3.csv')\n",
    "q4_vs_q3=q4_vs_q3[q4_vs_q3['train__pr-q4-9yr__ampl']>0.2]\n",
    "q4_vs_q3"
   ]
  },
  {
   "cell_type": "code",
   "execution_count": 31,
   "metadata": {},
   "outputs": [
    {
     "name": "stdout",
     "output_type": "stream",
     "text": [
      "train  0.0008015511598707707   test  0.0007965012941980172\n",
      "train  0.0006338937176932167   test  0.0006214108666240334\n"
     ]
    },
    {
     "data": {
      "text/plain": [
       "{'whiskers': [<matplotlib.lines.Line2D at 0x7ff68d50a898>,\n",
       "  <matplotlib.lines.Line2D at 0x7ff68d50ac18>,\n",
       "  <matplotlib.lines.Line2D at 0x7ff68d524198>,\n",
       "  <matplotlib.lines.Line2D at 0x7ff68d524518>],\n",
       " 'caps': [<matplotlib.lines.Line2D at 0x7ff68d50af98>,\n",
       "  <matplotlib.lines.Line2D at 0x7ff68d519358>,\n",
       "  <matplotlib.lines.Line2D at 0x7ff68d524898>,\n",
       "  <matplotlib.lines.Line2D at 0x7ff68d524c18>],\n",
       " 'boxes': [<matplotlib.lines.Line2D at 0x7ff68d50a588>,\n",
       "  <matplotlib.lines.Line2D at 0x7ff68d519da0>],\n",
       " 'medians': [<matplotlib.lines.Line2D at 0x7ff68d5196d8>,\n",
       "  <matplotlib.lines.Line2D at 0x7ff68d524f98>],\n",
       " 'fliers': [<matplotlib.lines.Line2D at 0x7ff68d519a58>,\n",
       "  <matplotlib.lines.Line2D at 0x7ff68d52d358>],\n",
       " 'means': []}"
      ]
     },
     "execution_count": 31,
     "metadata": {},
     "output_type": "execute_result"
    },
    {
     "data": {
      "image/png": "[encoded data removed]",
      "text/plain": [
       "<Figure size 432x288 with 1 Axes>"
      ]
     },
     "metadata": {
      "needs_background": "light"
     },
     "output_type": "display_data"
    }
   ],
   "source": [
    "q4=q4_vs_q3['train__pr-q4-9yr__mertic']\n",
    "q3=q4_vs_q3['test__pr-q3-9yr__mertic']\n",
    "print('train ',q4.mean(),'  test ',q3.mean())\n",
    "print('train ',q4.std(),'  test ',q3.std())\n",
    "plt.boxplot([q4,q3],labels=['q4','q3'])"
   ]
  },
  {
   "cell_type": "markdown",
   "metadata": {},
   "source": [
    "# q3_q4__vs_real.csv"
   ]
  },
  {
   "cell_type": "code",
   "execution_count": 37,
   "metadata": {},
   "outputs": [
    {
     "name": "stdout",
     "output_type": "stream",
     "text": [
      "MEAN: train  0.0005860925008055347   test  0.0006088643554030568\n",
      "STD: train  0.00046548326594937953   test  0.0004853360423041899\n"
     ]
    },
    {
     "data": {
      "text/plain": [
       "{'whiskers': [<matplotlib.lines.Line2D at 0x7ff68d3eedd8>,\n",
       "  <matplotlib.lines.Line2D at 0x7ff68d37d198>,\n",
       "  <matplotlib.lines.Line2D at 0x7ff68d3876d8>,\n",
       "  <matplotlib.lines.Line2D at 0x7ff68d387a58>],\n",
       " 'caps': [<matplotlib.lines.Line2D at 0x7ff68d37d518>,\n",
       "  <matplotlib.lines.Line2D at 0x7ff68d37d898>,\n",
       "  <matplotlib.lines.Line2D at 0x7ff68d387dd8>,\n",
       "  <matplotlib.lines.Line2D at 0x7ff68d391198>],\n",
       " 'boxes': [<matplotlib.lines.Line2D at 0x7ff68d3eeac8>,\n",
       "  <matplotlib.lines.Line2D at 0x7ff68d387320>],\n",
       " 'medians': [<matplotlib.lines.Line2D at 0x7ff68d37dc18>,\n",
       "  <matplotlib.lines.Line2D at 0x7ff68d3914e0>],\n",
       " 'fliers': [<matplotlib.lines.Line2D at 0x7ff68d37df98>,\n",
       "  <matplotlib.lines.Line2D at 0x7ff68d391828>],\n",
       " 'means': []}"
      ]
     },
     "execution_count": 37,
     "metadata": {},
     "output_type": "execute_result"
    },
    {
     "data": {
      "image/png": "[encoded data removed]",
      "text/plain": [
       "<Figure size 432x288 with 1 Axes>"
      ]
     },
     "metadata": {
      "needs_background": "light"
     },
     "output_type": "display_data"
    }
   ],
   "source": [
    "q_vs_real=pd.read_csv('q3_q4__vs_real.csv')\n",
    "q_vs_real\n",
    "# q_vs_real=q_vs_real[q_vs_real['train__pr-q4-9yr__ampl']>0.2]\n",
    "q=q_vs_real['train__pr-q4-9yr__mertic']\n",
    "real=q_vs_real['test__sddata_9yr__mertic']\n",
    "print('MEAN: train ',q.mean(),'  test ',real.mean())\n",
    "print('STD: train ',q.std(),'  test ',real.std())\n",
    "plt.boxplot([q,real],labels=['q','real'])"
   ]
  },
  {
   "cell_type": "code",
   "execution_count": 38,
   "metadata": {},
   "outputs": [
    {
     "data": {
      "text/plain": [
       "'/home/rfit/Telescope_Array/max_impuls/compare_data'"
      ]
     },
     "execution_count": 38,
     "metadata": {},
     "output_type": "execute_result"
    }
   ],
   "source": [
    "pwd"
   ]
  },
  {
   "cell_type": "code",
   "execution_count": 5,
   "metadata": {},
   "outputs": [
    {
     "data": {
      "text/plain": [
       "'/home/rfit/Telescope_Array/max_impuls/Notebooks'"
      ]
     },
     "execution_count": 5,
     "metadata": {},
     "output_type": "execute_result"
    }
   ],
   "source": [
    "pwd"
   ]
  },
  {
   "cell_type": "code",
   "execution_count": null,
   "metadata": {},
   "outputs": [],
   "source": []
  }
 ],
 "metadata": {
  "kernelspec": {
   "display_name": "Python 3",
   "language": "python",
   "name": "python3"
  },
  "language_info": {
   "codemirror_mode": {
    "name": "ipython",
    "version": 3
   },
   "file_extension": ".py",
   "mimetype": "text/x-python",
   "name": "python",
   "nbconvert_exporter": "python",
   "pygments_lexer": "ipython3",
   "version": "3.6.10"
  }
 },
 "nbformat": 4,
 "nbformat_minor": 4
}
