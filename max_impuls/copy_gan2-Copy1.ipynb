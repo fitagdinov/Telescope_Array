{
 "cells": [
  {
   "cell_type": "code",
   "execution_count": 1,
   "metadata": {},
   "outputs": [],
   "source": [
    "import numpy as np\n",
    "import matplotlib.pyplot as plt\n",
    "import tensorflow as tf\n",
    "import pandas as pd\n",
    "import seaborn as sns\n",
    "import h5py\n",
    "import zipfile\n",
    "from tqdm.notebook import tqdm_notebook\n",
    "from progress.bar import IncrementalBar\n",
    "import random\n",
    "# tf.config.run_functions_eagerly(True)\n",
    "%matplotlib inline"
   ]
  },
  {
   "cell_type": "code",
   "execution_count": 2,
   "metadata": {},
   "outputs": [
    {
     "name": "stdout",
     "output_type": "stream",
     "text": [
      "[PhysicalDevice(name='/physical_device:GPU:0', device_type='GPU')]\n"
     ]
    }
   ],
   "source": [
    "gpus = tf.config.list_physical_devices('GPU')\n",
    "print(gpus)\n",
    "for gpu in gpus:\n",
    "    tf.config.experimental.set_memory_growth(gpu, True)"
   ]
  },
  {
   "cell_type": "code",
   "execution_count": 3,
   "metadata": {},
   "outputs": [
    {
     "name": "stdout",
     "output_type": "stream",
     "text": [
      "['norm_param', 'test', 'train']\n",
      "(472351, 128, 2)\n",
      "0.0 1.0 0.025971571\n",
      "472320\n",
      "[[ 0.04490717  0.04396976]\n",
      " [-0.99174523 -0.9909725 ]]\n"
     ]
    }
   ],
   "source": [
    "with h5py.File(\"mc_wfmax_norm.h5\",'r') as f:\n",
    "    print(list(f.keys()))\n",
    "    norm_param=f['norm_param'][:]\n",
    "    test=f['test'][:]\n",
    "    train=f['train'][:472320]\n",
    "    print(f['train'].shape)\n",
    "# mean=train.mean()\n",
    "# train=train-mean\n",
    "# train=train/(np.absolute(train)).max()\n",
    "train=(train+1)/2\n",
    "print(train.min(),train.max(),train.mean())\n",
    "print(len(train))\n",
    "print(norm_param)"
   ]
  },
  {
   "cell_type": "code",
   "execution_count": 4,
   "metadata": {},
   "outputs": [
    {
     "data": {
      "image/png": "[encoded data removed]",
      "text/plain": [
       "<Figure size 432x288 with 1 Axes>"
      ]
     },
     "metadata": {
      "needs_background": "light"
     },
     "output_type": "display_data"
    }
   ],
   "source": [
    "a=train[20,:,0]\n",
    "b=train[20,:,1]\n",
    "plt.plot(a,'b')\n",
    "plt.plot(b,'r')\n",
    "plt.xlabel(\"Временой интервал (20нс)\")\n",
    "plt.ylabel('показания детектора')\n",
    "plt.savefig('dip_1.png')"
   ]
  },
  {
   "cell_type": "code",
   "execution_count": 5,
   "metadata": {},
   "outputs": [
    {
     "data": {
      "image/png": "[encoded data removed]",
      "text/plain": [
       "<Figure size 432x288 with 1 Axes>"
      ]
     },
     "metadata": {
      "needs_background": "light"
     },
     "output_type": "display_data"
    }
   ],
   "source": [
    "max_el=np.zeros(len(train))\n",
    "for i in range(len(train)):\n",
    "    max_el[i]=train[i].max()\n",
    "    \n",
    "# print(len(max_el))    \n",
    "plt.hist(max_el,20,(0,1))\n",
    "plt.xlabel('max MIP')\n",
    "plt.ylabel('Num')\n",
    "plt.savefig('real_hist.png')"
   ]
  },
  {
   "cell_type": "code",
   "execution_count": 6,
   "metadata": {},
   "outputs": [],
   "source": [
    "#solution disbalance problem\n"
   ]
  },
  {
   "cell_type": "code",
   "execution_count": 7,
   "metadata": {},
   "outputs": [
    {
     "data": {
      "text/plain": [
       "(155200, 128, 2)"
      ]
     },
     "execution_count": 7,
     "metadata": {},
     "output_type": "execute_result"
    }
   ],
   "source": [
    "train=train[train.max(axis=1).max(axis=1)>0.2]\n",
    "train.shape\n",
    "train=train[:2425*64]\n",
    "train.shape"
   ]
  },
  {
   "cell_type": "code",
   "execution_count": 8,
   "metadata": {},
   "outputs": [],
   "source": [
    "#HYPER PARAMETERS\n",
    "noise_dim=200\n",
    "shape_data=train[0].shape\n",
    "shape=(128,2)\n",
    "generator_optimizer = tf.keras.optimizers.Adam(learning_rate=0.0001, beta_1=0, beta_2=0.9)\n",
    "discriminator_optimizer = tf.keras.optimizers.Adam(learning_rate=0.0001, beta_1=0, beta_2=0.9)\n",
    "loss_function = tf.keras.losses.BinaryCrossentropy(from_logits=True)\n",
    "scal_optimizer = tf.keras.optimizers.Adam(learning_rate=0.0001, beta_1=0, beta_2=0.9)"
   ]
  },
  {
   "cell_type": "code",
   "execution_count": 9,
   "metadata": {},
   "outputs": [
    {
     "name": "stdout",
     "output_type": "stream",
     "text": [
      "Model: \"Discriminator_model\"\n",
      "_________________________________________________________________\n",
      "Layer (type)                 Output Shape              Param #   \n",
      "=================================================================\n",
      "input_1 (InputLayer)         [(None, 128, 2)]          0         \n",
      "_________________________________________________________________\n",
      "zero_padding1d (ZeroPadding1 (None, 148, 2)            0         \n",
      "_________________________________________________________________\n",
      "first (Conv1D)               (None, 148, 32)           352       \n",
      "_________________________________________________________________\n",
      "max_pooling1d (MaxPooling1D) (None, 74, 32)            0         \n",
      "_________________________________________________________________\n",
      "dropout (Dropout)            (None, 74, 32)            0         \n",
      "_________________________________________________________________\n",
      "leaky_re_lu (LeakyReLU)      (None, 74, 32)            0         \n",
      "_________________________________________________________________\n",
      "conv1d (Conv1D)              (None, 74, 64)            10304     \n",
      "_________________________________________________________________\n",
      "max_pooling1d_1 (MaxPooling1 (None, 37, 64)            0         \n",
      "_________________________________________________________________\n",
      "dropout_1 (Dropout)          (None, 37, 64)            0         \n",
      "_________________________________________________________________\n",
      "leaky_re_lu_1 (LeakyReLU)    (None, 37, 64)            0         \n",
      "_________________________________________________________________\n",
      "conv1d_1 (Conv1D)            (None, 37, 64)            20544     \n",
      "_________________________________________________________________\n",
      "max_pooling1d_2 (MaxPooling1 (None, 19, 64)            0         \n",
      "_________________________________________________________________\n",
      "dropout_2 (Dropout)          (None, 19, 64)            0         \n",
      "_________________________________________________________________\n",
      "leaky_re_lu_2 (LeakyReLU)    (None, 19, 64)            0         \n",
      "_________________________________________________________________\n",
      "conv1d_2 (Conv1D)            (None, 19, 64)            20544     \n",
      "_________________________________________________________________\n",
      "max_pooling1d_3 (MaxPooling1 (None, 10, 64)            0         \n",
      "_________________________________________________________________\n",
      "dropout_3 (Dropout)          (None, 10, 64)            0         \n",
      "_________________________________________________________________\n",
      "leaky_re_lu_3 (LeakyReLU)    (None, 10, 64)            0         \n",
      "_________________________________________________________________\n",
      "conv1d_3 (Conv1D)            (None, 10, 128)           41088     \n",
      "_________________________________________________________________\n",
      "max_pooling1d_4 (MaxPooling1 (None, 5, 128)            0         \n",
      "_________________________________________________________________\n",
      "dropout_4 (Dropout)          (None, 5, 128)            0         \n",
      "_________________________________________________________________\n",
      "leaky_re_lu_4 (LeakyReLU)    (None, 5, 128)            0         \n",
      "_________________________________________________________________\n",
      "flatten (Flatten)            (None, 640)               0         \n",
      "_________________________________________________________________\n",
      "dropout_5 (Dropout)          (None, 640)               0         \n",
      "_________________________________________________________________\n",
      "dense (Dense)                (None, 100)               64100     \n",
      "_________________________________________________________________\n",
      "dense_1 (Dense)              (None, 1)                 101       \n",
      "=================================================================\n",
      "Total params: 157,033\n",
      "Trainable params: 157,033\n",
      "Non-trainable params: 0\n",
      "_________________________________________________________________\n"
     ]
    }
   ],
   "source": [
    "#copy Most active detector\n",
    "def Discriminator_model():\n",
    "    input_tensor=tf.keras.Input(shape=(128,2))\n",
    "    x= input_tensor\n",
    "    \n",
    "    x=tf.keras.layers.ZeroPadding1D(10)(x)\n",
    "\n",
    "    x=tf.keras.layers.Conv1D(filters=32, kernel_size=(5), strides=(1), padding='same',name=\"first\")(x)\n",
    "    x=tf.keras.layers.MaxPooling1D(2,padding='same')(x)\n",
    "    x=tf.keras.layers.Dropout(rate=0.2)(x)\n",
    "    x=tf.keras.layers.LeakyReLU()(x)\n",
    "    x=tf.keras.layers.Conv1D(filters=64, kernel_size=(5), strides=(1), padding='same')(x)\n",
    "    x=tf.keras.layers.MaxPooling1D(2,padding='same')(x)\n",
    "    x=tf.keras.layers.Dropout(rate=0.2)(x)\n",
    "    x=tf.keras.layers.LeakyReLU()(x)\n",
    "    \n",
    "    x=tf.keras.layers.Conv1D(filters=64, kernel_size=(5), strides=(1), padding='same')(x)\n",
    "    x=tf.keras.layers.MaxPooling1D(2,padding='same')(x)\n",
    "    x=tf.keras.layers.Dropout(rate=0.2)(x)\n",
    "    x=tf.keras.layers.LeakyReLU()(x)\n",
    "    \n",
    "    x=tf.keras.layers.Conv1D(filters=64, kernel_size=(5), strides=(1), padding='same')(x)# kern=4\n",
    "    x=tf.keras.layers.MaxPooling1D(2,padding='same')(x)\n",
    "    x=tf.keras.layers.Dropout(rate=0.2)(x)\n",
    "    x=tf.keras.layers.LeakyReLU()(x)\n",
    "    \n",
    "    x=tf.keras.layers.Conv1D(filters=128, kernel_size=(5), strides=(1), padding='same')(x)# kern=4\n",
    "    x=tf.keras.layers.MaxPooling1D(2,padding='same')(x)\n",
    "    x=tf.keras.layers.Dropout(rate=0.2)(x)\n",
    "    x=tf.keras.layers.LeakyReLU()(x)\n",
    "    \n",
    "    x=tf.keras.layers.Flatten()(x)\n",
    "    x=tf.keras.layers.Dropout(rate=0.1)(x)\n",
    "\n",
    "    x=tf.keras.layers.Dense(units=100,activation='relu')(x)\n",
    "    x=tf.keras.layers.Dense(units=1)(x)\n",
    "    \n",
    "    model= tf.keras.Model(input_tensor,x,name=\"Discriminator_model\")\n",
    "    return model\n",
    "\n",
    "discriminator=Discriminator_model()\n",
    "discriminator.summary()"
   ]
  },
  {
   "cell_type": "code",
   "execution_count": 10,
   "metadata": {
    "scrolled": false
   },
   "outputs": [
    {
     "name": "stdout",
     "output_type": "stream",
     "text": [
      "Model: \"Generator_model\"\n",
      "_________________________________________________________________\n",
      "Layer (type)                 Output Shape              Param #   \n",
      "=================================================================\n",
      "input_2 (InputLayer)         [(None, 200)]             0         \n",
      "_________________________________________________________________\n",
      "dense_2 (Dense)              (None, 200)               40000     \n",
      "_________________________________________________________________\n",
      "batch_normalization (BatchNo (None, 200)               800       \n",
      "_________________________________________________________________\n",
      "leaky_re_lu_5 (LeakyReLU)    (None, 200)               0         \n",
      "_________________________________________________________________\n",
      "dense_3 (Dense)              (None, 198)               39600     \n",
      "_________________________________________________________________\n",
      "dropout_6 (Dropout)          (None, 198)               0         \n",
      "_________________________________________________________________\n",
      "batch_normalization_1 (Batch (None, 198)               792       \n",
      "_________________________________________________________________\n",
      "leaky_re_lu_6 (LeakyReLU)    (None, 198)               0         \n",
      "_________________________________________________________________\n",
      "reshape (Reshape)            (None, 33, 6, 1)          0         \n",
      "_________________________________________________________________\n",
      "conv2d_transpose (Conv2DTran (None, 66, 6, 128)        640       \n",
      "_________________________________________________________________\n",
      "dropout_7 (Dropout)          (None, 66, 6, 128)        0         \n",
      "_________________________________________________________________\n",
      "batch_normalization_2 (Batch (None, 66, 6, 128)        512       \n",
      "_________________________________________________________________\n",
      "leaky_re_lu_7 (LeakyReLU)    (None, 66, 6, 128)        0         \n",
      "_________________________________________________________________\n",
      "conv2d_transpose_1 (Conv2DTr (None, 132, 6, 64)        40960     \n",
      "_________________________________________________________________\n",
      "dropout_8 (Dropout)          (None, 132, 6, 64)        0         \n",
      "_________________________________________________________________\n",
      "batch_normalization_3 (Batch (None, 132, 6, 64)        256       \n",
      "_________________________________________________________________\n",
      "leaky_re_lu_8 (LeakyReLU)    (None, 132, 6, 64)        0         \n",
      "_________________________________________________________________\n",
      "conv2d_transpose_2 (Conv2DTr (None, 264, 6, 32)        10240     \n",
      "_________________________________________________________________\n",
      "dropout_9 (Dropout)          (None, 264, 6, 32)        0         \n",
      "_________________________________________________________________\n",
      "average_pooling2d (AveragePo (None, 132, 6, 32)        0         \n",
      "_________________________________________________________________\n",
      "batch_normalization_4 (Batch (None, 132, 6, 32)        128       \n",
      "_________________________________________________________________\n",
      "leaky_re_lu_9 (LeakyReLU)    (None, 132, 6, 32)        0         \n",
      "_________________________________________________________________\n",
      "conv2d_transpose_3 (Conv2DTr (None, 264, 6, 8)         1280      \n",
      "_________________________________________________________________\n",
      "dropout_10 (Dropout)         (None, 264, 6, 8)         0         \n",
      "_________________________________________________________________\n",
      "batch_normalization_5 (Batch (None, 264, 6, 8)         32        \n",
      "_________________________________________________________________\n",
      "leaky_re_lu_10 (LeakyReLU)   (None, 264, 6, 8)         0         \n",
      "_________________________________________________________________\n",
      "average_pooling2d_1 (Average (None, 132, 6, 8)         0         \n",
      "_________________________________________________________________\n",
      "conv2d (Conv2D)              (None, 132, 6, 1)         40        \n",
      "_________________________________________________________________\n",
      "dropout_11 (Dropout)         (None, 132, 6, 1)         0         \n",
      "_________________________________________________________________\n",
      "batch_normalization_6 (Batch (None, 132, 6, 1)         4         \n",
      "_________________________________________________________________\n",
      "tf.math.sigmoid (TFOpLambda) (None, 132, 6, 1)         0         \n",
      "_________________________________________________________________\n",
      "cropping2d (Cropping2D)      (None, 128, 2, 1)         0         \n",
      "_________________________________________________________________\n",
      "reshape_1 (Reshape)          (None, 128, 2)            0         \n",
      "=================================================================\n",
      "Total params: 135,284\n",
      "Trainable params: 134,022\n",
      "Non-trainable params: 1,262\n",
      "_________________________________________________________________\n"
     ]
    }
   ],
   "source": [
    "def Generator_model(): \n",
    "    input_tensor=tf.keras.Input(shape=(noise_dim,))\n",
    "    x=tf.keras.layers.Dense(units=200,use_bias=False)(input_tensor)\n",
    "    x=tf.keras.layers.BatchNormalization()(x)\n",
    "    x=tf.keras.layers.LeakyReLU()(x)\n",
    "    \n",
    "    x=tf.keras.layers.Dense(units=33*6,use_bias=False)(x)\n",
    "    x=tf.keras.layers.Dropout(rate=0.1)(x)\n",
    "    x=tf.keras.layers.BatchNormalization()(x)\n",
    "    x=tf.keras.layers.LeakyReLU()(x)\n",
    "    \n",
    "    x=tf.keras.layers.Reshape((33,6,1))(x)\n",
    "    \n",
    "    x=tf.keras.layers.Conv2DTranspose(128, (5,1), strides=(2,1), padding='same', use_bias=False,data_format='channels_last')(x)\n",
    "    x=tf.keras.layers.Dropout(rate=0.1)(x)\n",
    "    x=tf.keras.layers.BatchNormalization()(x)\n",
    "    x=tf.keras.layers.LeakyReLU()(x)\n",
    "    \n",
    "    x=tf.keras.layers.Conv2DTranspose(64, (5,1), strides=(2,1), padding='same', use_bias=False,data_format='channels_last')(x)\n",
    "    x=tf.keras.layers.Dropout(rate=0.1)(x)\n",
    "    x=tf.keras.layers.BatchNormalization()(x)\n",
    "    x=tf.keras.layers.LeakyReLU()(x)\n",
    "#     print(x.shape)\n",
    "    x=tf.keras.layers.Conv2DTranspose(32, (5,1), strides=(2,1), padding='same', use_bias=False,data_format='channels_last')(x)\n",
    "    x=tf.keras.layers.Dropout(rate=0.1)(x)\n",
    "    \n",
    "    x=tf.keras.layers.AveragePooling2D((2,1),padding='same')(x)\n",
    "    x=tf.keras.layers.BatchNormalization()(x)\n",
    "    x=tf.keras.layers.LeakyReLU()(x)\n",
    "    \n",
    "    x=tf.keras.layers.Conv2DTranspose(8, (5,1), strides=(2,1), padding='same', use_bias=False,data_format='channels_last')(x)\n",
    "    x=tf.keras.layers.Dropout(rate=0.1)(x)\n",
    "    x=tf.keras.layers.BatchNormalization()(x)\n",
    "    x=tf.keras.layers.LeakyReLU()(x)\n",
    "    x=tf.keras.layers.AveragePooling2D((2,1),padding='same')(x)\n",
    "    \n",
    "#     print(x.shape)\n",
    "    x=tf.keras.layers.Conv2D(1, (5,1), strides=(1,1), padding='same', use_bias=False,data_format='channels_last')(x)\n",
    "    x=tf.keras.layers.Dropout(rate=0.1)(x)\n",
    "    x=tf.keras.layers.BatchNormalization()(x)\n",
    "    x=tf.keras.activations.sigmoid(x)\n",
    "    x=tf.keras.layers.Cropping2D((2,2))(x) #change\n",
    "    x=tf.keras.layers.Reshape((128,2))(x)\n",
    "\n",
    "    model= tf.keras.Model(input_tensor,x,name=\"Generator_model\")\n",
    "#     assert model.output_shape == (None, 128, 2, 1)\n",
    "    return model\n",
    "# kern 3,4,5,5,|^ \n",
    "# kern (n,2)\n",
    "generator=Generator_model()\n",
    "generator.summary()"
   ]
  },
  {
   "cell_type": "code",
   "execution_count": 11,
   "metadata": {},
   "outputs": [],
   "source": [
    "def generat_new_data(batch):\n",
    "    noise=tf.random.normal(shape=(batch,noise_dim))\n",
    "    #n_scal=tf.random.normal(shape=(batch,scal_dim))#change\n",
    "    data=generator(noise)#*scal(n_scal)#change\n",
    "    return (data)\n",
    "\n",
    "\n",
    "\n",
    "def discriminator_loss(real_output, fake_output):\n",
    "#     real_loss = loss_function(tf.ones_like(real_output), real_output)\n",
    "#     fake_loss = loss_function(tf.zeros_like(fake_output), fake_output)\n",
    "    real_loss = -tf.reduce_mean(real_output)\n",
    "    fake_loss = tf.reduce_mean(fake_output)\n",
    "    total_loss = real_loss + fake_loss\n",
    "    return total_loss\n",
    "\n",
    "def generator_loss(fake_output):\n",
    "#     return loss_function(tf.ones_like(fake_output), fake_output)\n",
    "    return -tf.reduce_mean(fake_output)\n",
    "\n",
    "def correletion_loss(data):   \n",
    "    matrix_loss=correlation(data)-corr_matrix_real\n",
    "    loss=tf.math.reduce_mean(matrix_loss)\n",
    "    loss=tf.cast(loss,dtype=tf.float32)\n",
    "    return (tf.math.abs(loss))\n",
    "    \n",
    "\n",
    "def gradient_penalti(batch,real_data,fake_data):\n",
    "#   alpha = tf.random.normal([batch, 1], 0.0, 1.0)\n",
    "#   diff = fake_data - real_data\n",
    "#   interpolated = real_data + alpha * diff\n",
    "    epsilon=tf.random.uniform(shape=(batch,1,1),dtype=tf.dtypes.float32)\n",
    "    interpolated=real_data-epsilon*(real_data-fake_data)# вычисление x^ как в статье\n",
    "    with tf.GradientTape() as gp_tape:\n",
    "        gp_tape.watch(interpolated)\n",
    "        pred=discriminator(interpolated,training=True)  # D(x^)\n",
    "    grads = gp_tape.gradient(pred, [interpolated])[0]# because list\n",
    "    norm = tf.sqrt(tf.reduce_sum(tf.square(grads), axis=[1]))\n",
    "    gp = tf.reduce_mean((norm - 1.0) ** 2)\n",
    "    return gp    \n"
   ]
  },
  {
   "cell_type": "code",
   "execution_count": 12,
   "metadata": {},
   "outputs": [],
   "source": [
    "@tf.function\n",
    "def train_step_WGAN(labda,batch,real_data,weight_gp,weight_corr):\n",
    "  # labda --> number learling critic\n",
    "  #weight --> weight gradient_penalti\n",
    "\n",
    "  #learning critic\n",
    "    for i in range(labda):\n",
    "        with tf.GradientTape() as gr:\n",
    "            noise = tf.random.normal(shape=(batch,noise_dim))\n",
    "            fake_data=generator(noise)#change\n",
    "#             print('f')\n",
    "            real_data=real_data\n",
    "            fake_predict=discriminator(fake_data)\n",
    "            real_predict=discriminator(real_data)\n",
    "            real_data=tf.cast(real_data,dtype=tf.float32)\n",
    "            gp=gradient_penalti(batch,real_data,fake_data)\n",
    "            disc_loss=discriminator_loss(real_predict,fake_predict)+weight_gp*gp # critic loss include GP\n",
    "        d_grad=gr.gradient(disc_loss, discriminator.trainable_variables)\n",
    "        discriminator_optimizer.apply_gradients(zip(d_grad, discriminator.trainable_variables))\n",
    "\n",
    "\n",
    "  #learning generator\n",
    "    noise = tf.random.normal(shape=(batch,noise_dim))\n",
    "    with tf.GradientTape() as gr:\n",
    "        fake_data=generator(noise)\n",
    "        fake_predict=discriminator(fake_data)\n",
    "#         corr_loss=correletion_loss(fake_data)\n",
    "        gen_loss=generator_loss(fake_predict)# +weight_corr*corr_loss\n",
    "    \n",
    "    \n",
    "    \n",
    "    \n",
    "    g_grad=gr.gradient(gen_loss,generator.trainable_variables)\n",
    "    generator_optimizer.apply_gradients(zip(g_grad, generator.trainable_variables))\n",
    "    return (gen_loss,disc_loss)\n",
    "#     #change\n",
    "    \n",
    "#     print('f')\n",
    "#     s_grad=gr.gradient(gen_loss,scal.trainable_variables)\n",
    "#     print('g')\n",
    "#     scal_optimizer.apply_gradients(zip(s_grad, scal.trainable_variables))\n",
    "#     print('f')\n",
    "#     return #change\n"
   ]
  },
  {
   "cell_type": "code",
   "execution_count": 13,
   "metadata": {},
   "outputs": [],
   "source": [
    "# generator=tf.keras.models.load_model('WGAN_more0.2/save_model/generator/ep'+str(200))\n",
    "# discriminator=tf.keras.models.load_model('WGAN_more0.2/save_model/discriminator/ep'+str(200))"
   ]
  },
  {
   "cell_type": "code",
   "execution_count": 14,
   "metadata": {},
   "outputs": [],
   "source": [
    "import os\n",
    "dir_name=\"BA/WGAN_agr_mean(all_51)\"\n",
    "os.mkdir(dir_name)\n",
    "os.mkdir('{}/save_images'.format(dir_name))\n",
    "os.mkdir('{}/save_model'.format(dir_name))"
   ]
  },
  {
   "cell_type": "code",
   "execution_count": 15,
   "metadata": {},
   "outputs": [],
   "source": [
    "def image(n,num=10):\n",
    "    fig, axes =plt.subplots(num,2,figsize=(50,50))\n",
    "    \n",
    "\n",
    "    for i in range(num):\n",
    "        noise = tf.random.normal(shape=(1,noise_dim))\n",
    "        axes[i,0].plot((generator(noise))[0,:,1],'r')#change\n",
    "        axes[i,0].plot((generator(noise))[0,:,0],'b')\n",
    "        j=random.randint(0,len(train))\n",
    "        axes[i,1].plot(train[j,:,1],'r')\n",
    "        axes[i,1].plot(train[j,:,0],'b')\n",
    "        plt.suptitle(\"epoch:\"+str(n))\n",
    "        plt.savefig(\"{}/save_images/epoch{}.png\".format(dir_name,n))\n",
    "    \n",
    "# image(20)"
   ]
  },
  {
   "cell_type": "code",
   "execution_count": null,
   "metadata": {},
   "outputs": [
    {
     "data": {
      "application/vnd.jupyter.widget-view+json": {
       "model_id": "aeddebabac8a44b0a9edff22daeb07fa",
       "version_major": 2,
       "version_minor": 0
      },
      "text/plain": [
       "HBox(children=(FloatProgress(value=0.0, description='ep', style=ProgressStyle(description_width='initial')), H…"
      ]
     },
     "metadata": {},
     "output_type": "display_data"
    },
    {
     "name": "stdout",
     "output_type": "stream",
     "text": [
      "INFO:tensorflow:Assets written to: BA/WGAN_agr_mean(all_51)/save_model/discriminator/ep0/assets\n",
      "INFO:tensorflow:Assets written to: BA/WGAN_agr_mean(all_51)/save_model/generator/ep0/assets\n",
      "INFO:tensorflow:Assets written to: BA/WGAN_agr_mean(all_51)/save_model/discriminator/ep1/assets\n",
      "INFO:tensorflow:Assets written to: BA/WGAN_agr_mean(all_51)/save_model/generator/ep1/assets\n",
      "INFO:tensorflow:Assets written to: BA/WGAN_agr_mean(all_51)/save_model/discriminator/ep2/assets\n",
      "INFO:tensorflow:Assets written to: BA/WGAN_agr_mean(all_51)/save_model/generator/ep2/assets\n",
      "INFO:tensorflow:Assets written to: BA/WGAN_agr_mean(all_51)/save_model/discriminator/ep3/assets\n",
      "INFO:tensorflow:Assets written to: BA/WGAN_agr_mean(all_51)/save_model/generator/ep3/assets\n"
     ]
    }
   ],
   "source": [
    "batch=64\n",
    "epochs=100\n",
    "ep_start=0\n",
    "g_list=[]\n",
    "d_list=[]\n",
    "def train_WGAN(epochs,train_data,batch):\n",
    "    plt.figure()\n",
    "    for j in tqdm_notebook(range(ep_start,epochs),'ep'):\n",
    "        for num in range (0,len(train_data),batch):\n",
    "            step_data=train_data[num:num+batch]\n",
    "            g,d=train_step_WGAN(labda=5,batch=batch,real_data=step_data,weight_gp=10,weight_corr=1)\n",
    "            d_list.append(d)\n",
    "            g_list.append(g)\n",
    "#             disc_loss_list.append(disc_loss)\n",
    "#             gen_loss_list.append(gen_loss)\n",
    "            #corr_loss_list1.append(corr_loss)\n",
    "#         generator.save(\"del\")\n",
    "#         if j % 10 == 0:\n",
    "        image(j)\n",
    "        discriminator.save(\"{}/save_model/discriminator/ep{}\".format(dir_name,j))\n",
    "        generator.save(\"{}/save_model/generator/ep{}\".format(dir_name,j))\n",
    "train_WGAN(epochs,train,batch)\n",
    "# discriminator.save(\"save_model/discriminator8\")\n",
    "# generator.save(\"save_model/generator8\")"
   ]
  },
  {
   "cell_type": "code",
   "execution_count": null,
   "metadata": {},
   "outputs": [],
   "source": [
    "plt.plot(g_list[1000:],'r')\n",
    "# plt.plot(g_list,'b')"
   ]
  },
  {
   "cell_type": "code",
   "execution_count": 120,
   "metadata": {},
   "outputs": [
    {
     "name": "stdout",
     "output_type": "stream",
     "text": [
      "WARNING:tensorflow:No training configuration found in save file, so the model was *not* compiled. Compile it manually.\n"
     ]
    }
   ],
   "source": [
    "generator=tf.keras.models.load_model('save_model/generator8/ep280')\n",
    "noise = tf.random.normal(shape=(2000,noise_dim))\n",
    "data=generator(noise)"
   ]
  },
  {
   "cell_type": "code",
   "execution_count": 35,
   "metadata": {},
   "outputs": [
    {
     "name": "stdout",
     "output_type": "stream",
     "text": [
      "WARNING:tensorflow:No training configuration found in save file, so the model was *not* compiled. Compile it manually.\n"
     ]
    },
    {
     "data": {
      "image/png": "[encoded data removed]",
      "text/plain": [
       "<Figure size 432x288 with 1 Axes>"
      ]
     },
     "metadata": {
      "needs_background": "light"
     },
     "output_type": "display_data"
    }
   ],
   "source": [
    "generator=tf.keras.models.load_model('WGAN_3/save_model/generator/ep280')\n",
    "noise = tf.random.normal(shape=(2000,noise_dim))\n",
    "data=generator(noise)\n",
    "max_el=np.zeros(len(data))\n",
    "for i in range(len(data)):\n",
    "    max_el[i]=tf.math.reduce_max(data[i])\n",
    "    \n",
    "# print(len(max_el))    \n",
    "plt.hist(max_el,20,(0,1))\n",
    "plt.xlabel('max MIP')\n",
    "plt.ylabel('Num')\n",
    "plt.savefig('fake_hist.png')"
   ]
  },
  {
   "cell_type": "code",
   "execution_count": 121,
   "metadata": {},
   "outputs": [
    {
     "name": "stdout",
     "output_type": "stream",
     "text": [
      "Model: \"Generator_model\"\n",
      "_________________________________________________________________\n",
      "Layer (type)                 Output Shape              Param #   \n",
      "=================================================================\n",
      "input_8 (InputLayer)         [(None, 200)]             0         \n",
      "_________________________________________________________________\n",
      "dense_12 (Dense)             (None, 200)               40000     \n",
      "_________________________________________________________________\n",
      "batch_normalization_31 (Batc (None, 200)               800       \n",
      "_________________________________________________________________\n",
      "leaky_re_lu_31 (LeakyReLU)   (None, 200)               0         \n",
      "_________________________________________________________________\n",
      "dense_13 (Dense)             (None, 264)               52800     \n",
      "_________________________________________________________________\n",
      "dropout_28 (Dropout)         (None, 264)               0         \n",
      "_________________________________________________________________\n",
      "batch_normalization_32 (Batc (None, 264)               1056      \n",
      "_________________________________________________________________\n",
      "leaky_re_lu_32 (LeakyReLU)   (None, 264)               0         \n",
      "_________________________________________________________________\n",
      "reshape_10 (Reshape)         (None, 66, 4, 1)          0         \n",
      "_________________________________________________________________\n",
      "conv2d_transpose_15 (Conv2DT (None, 132, 4, 128)       2560      \n",
      "_________________________________________________________________\n",
      "dropout_29 (Dropout)         (None, 132, 4, 128)       0         \n",
      "_________________________________________________________________\n",
      "batch_normalization_33 (Batc (None, 132, 4, 128)       512       \n",
      "_________________________________________________________________\n",
      "leaky_re_lu_33 (LeakyReLU)   (None, 132, 4, 128)       0         \n",
      "_________________________________________________________________\n",
      "conv2d_transpose_16 (Conv2DT (None, 132, 4, 64)        163840    \n",
      "_________________________________________________________________\n",
      "dropout_30 (Dropout)         (None, 132, 4, 64)        0         \n",
      "_________________________________________________________________\n",
      "batch_normalization_34 (Batc (None, 132, 4, 64)        256       \n",
      "_________________________________________________________________\n",
      "leaky_re_lu_34 (LeakyReLU)   (None, 132, 4, 64)        0         \n",
      "_________________________________________________________________\n",
      "conv2d_transpose_17 (Conv2DT (None, 132, 4, 1)         640       \n",
      "_________________________________________________________________\n",
      "dropout_31 (Dropout)         (None, 132, 4, 1)         0         \n",
      "_________________________________________________________________\n",
      "batch_normalization_35 (Batc (None, 132, 4, 1)         4         \n",
      "_________________________________________________________________\n",
      "leaky_re_lu_35 (LeakyReLU)   (None, 132, 4, 1)         0         \n",
      "_________________________________________________________________\n",
      "tf.math.sigmoid_5 (TFOpLambd (None, 132, 4, 1)         0         \n",
      "_________________________________________________________________\n",
      "cropping2d_5 (Cropping2D)    (None, 128, 2, 1)         0         \n",
      "_________________________________________________________________\n",
      "reshape_11 (Reshape)         (None, 128, 2)            0         \n",
      "=================================================================\n",
      "Total params: 262,468\n",
      "Trainable params: 261,154\n",
      "Non-trainable params: 1,314\n",
      "_________________________________________________________________\n"
     ]
    }
   ],
   "source": [
    "generator.summary()"
   ]
  },
  {
   "cell_type": "code",
   "execution_count": 25,
   "metadata": {},
   "outputs": [
    {
     "data": {
      "text/plain": [
       "<tf.Tensor: shape=(1, 128, 2), dtype=float32, numpy=\n",
       "array([[[nan, nan],\n",
       "        [nan, nan],\n",
       "        [nan, nan],\n",
       "        [nan, nan],\n",
       "        [nan, nan],\n",
       "        [nan, nan],\n",
       "        [nan, nan],\n",
       "        [nan, nan],\n",
       "        [nan, nan],\n",
       "        [nan, nan],\n",
       "        [nan, nan],\n",
       "        [nan, nan],\n",
       "        [nan, nan],\n",
       "        [nan, nan],\n",
       "        [nan, nan],\n",
       "        [nan, nan],\n",
       "        [nan, nan],\n",
       "        [nan, nan],\n",
       "        [nan, nan],\n",
       "        [nan, nan],\n",
       "        [nan, nan],\n",
       "        [nan, nan],\n",
       "        [nan, nan],\n",
       "        [nan, nan],\n",
       "        [nan, nan],\n",
       "        [nan, nan],\n",
       "        [nan, nan],\n",
       "        [nan, nan],\n",
       "        [nan, nan],\n",
       "        [nan, nan],\n",
       "        [nan, nan],\n",
       "        [nan, nan],\n",
       "        [nan, nan],\n",
       "        [nan, nan],\n",
       "        [nan, nan],\n",
       "        [nan, nan],\n",
       "        [nan, nan],\n",
       "        [nan, nan],\n",
       "        [nan, nan],\n",
       "        [nan, nan],\n",
       "        [nan, nan],\n",
       "        [nan, nan],\n",
       "        [nan, nan],\n",
       "        [nan, nan],\n",
       "        [nan, nan],\n",
       "        [nan, nan],\n",
       "        [nan, nan],\n",
       "        [nan, nan],\n",
       "        [nan, nan],\n",
       "        [nan, nan],\n",
       "        [nan, nan],\n",
       "        [nan, nan],\n",
       "        [nan, nan],\n",
       "        [nan, nan],\n",
       "        [nan, nan],\n",
       "        [nan, nan],\n",
       "        [nan, nan],\n",
       "        [nan, nan],\n",
       "        [nan, nan],\n",
       "        [nan, nan],\n",
       "        [nan, nan],\n",
       "        [nan, nan],\n",
       "        [nan, nan],\n",
       "        [nan, nan],\n",
       "        [nan, nan],\n",
       "        [nan, nan],\n",
       "        [nan, nan],\n",
       "        [nan, nan],\n",
       "        [nan, nan],\n",
       "        [nan, nan],\n",
       "        [nan, nan],\n",
       "        [nan, nan],\n",
       "        [nan, nan],\n",
       "        [nan, nan],\n",
       "        [nan, nan],\n",
       "        [nan, nan],\n",
       "        [nan, nan],\n",
       "        [nan, nan],\n",
       "        [nan, nan],\n",
       "        [nan, nan],\n",
       "        [nan, nan],\n",
       "        [nan, nan],\n",
       "        [nan, nan],\n",
       "        [nan, nan],\n",
       "        [nan, nan],\n",
       "        [nan, nan],\n",
       "        [nan, nan],\n",
       "        [nan, nan],\n",
       "        [nan, nan],\n",
       "        [nan, nan],\n",
       "        [nan, nan],\n",
       "        [nan, nan],\n",
       "        [nan, nan],\n",
       "        [nan, nan],\n",
       "        [nan, nan],\n",
       "        [nan, nan],\n",
       "        [nan, nan],\n",
       "        [nan, nan],\n",
       "        [nan, nan],\n",
       "        [nan, nan],\n",
       "        [nan, nan],\n",
       "        [nan, nan],\n",
       "        [nan, nan],\n",
       "        [nan, nan],\n",
       "        [nan, nan],\n",
       "        [nan, nan],\n",
       "        [nan, nan],\n",
       "        [nan, nan],\n",
       "        [nan, nan],\n",
       "        [nan, nan],\n",
       "        [nan, nan],\n",
       "        [nan, nan],\n",
       "        [nan, nan],\n",
       "        [nan, nan],\n",
       "        [nan, nan],\n",
       "        [nan, nan],\n",
       "        [nan, nan],\n",
       "        [nan, nan],\n",
       "        [nan, nan],\n",
       "        [nan, nan],\n",
       "        [nan, nan],\n",
       "        [nan, nan],\n",
       "        [nan, nan],\n",
       "        [nan, nan],\n",
       "        [nan, nan],\n",
       "        [nan, nan],\n",
       "        [nan, nan],\n",
       "        [nan, nan]]], dtype=float32)>"
      ]
     },
     "execution_count": 25,
     "metadata": {},
     "output_type": "execute_result"
    }
   ],
   "source": [
    "noise = tf.random.normal(shape=(1,noise_dim))\n",
    "data=generator(noise)\n",
    "data"
   ]
  },
  {
   "cell_type": "markdown",
   "metadata": {},
   "source": [
    "## for check "
   ]
  },
  {
   "cell_type": "code",
   "execution_count": 21,
   "metadata": {},
   "outputs": [
    {
     "name": "stdout",
     "output_type": "stream",
     "text": [
      "WARNING:tensorflow:No training configuration found in save file, so the model was *not* compiled. Compile it manually.\n"
     ]
    },
    {
     "data": {
      "text/plain": [
       "Text(0, 0.5, 'Num')"
      ]
     },
     "execution_count": 21,
     "metadata": {},
     "output_type": "execute_result"
    },
    {
     "data": {
      "image/png": "[encoded data removed]",
      "text/plain": [
       "<Figure size 432x288 with 1 Axes>"
      ]
     },
     "metadata": {
      "needs_background": "light"
     },
     "output_type": "display_data"
    }
   ],
   "source": [
    "generator=tf.keras.models.load_model('NOT_WGAN_2/save_model/generator/ep490')\n",
    "noise_dim=200\n",
    "noise = tf.random.normal(shape=(2000,noise_dim))\n",
    "data=generator(noise)\n",
    "max_el=np.zeros(len(data))\n",
    "for i in range(len(data)):\n",
    "    max_el[i]=tf.math.reduce_max(data[i])\n",
    "    \n",
    "# print(len(max_el))    \n",
    "plt.hist(max_el,20,(0,1))\n",
    "plt.xlabel('max MIP')\n",
    "plt.ylabel('Num')\n",
    "# plt.savefig('fake_hist.png')"
   ]
  },
  {
   "cell_type": "code",
   "execution_count": 22,
   "metadata": {},
   "outputs": [
    {
     "ename": "OSError",
     "evalue": "SavedModel file does not exist at: WGAN_2/save_model/generator/ep490/{saved_model.pbtxt|saved_model.pb}",
     "output_type": "error",
     "traceback": [
      "\u001b[0;31m---------------------------------------------------------------------------\u001b[0m",
      "\u001b[0;31mOSError\u001b[0m                                   Traceback (most recent call last)",
      "\u001b[0;32m<ipython-input-22-3b732072567e>\u001b[0m in \u001b[0;36m<module>\u001b[0;34m\u001b[0m\n\u001b[0;32m----> 1\u001b[0;31m \u001b[0mgenerator\u001b[0m\u001b[0;34m=\u001b[0m\u001b[0mtf\u001b[0m\u001b[0;34m.\u001b[0m\u001b[0mkeras\u001b[0m\u001b[0;34m.\u001b[0m\u001b[0mmodels\u001b[0m\u001b[0;34m.\u001b[0m\u001b[0mload_model\u001b[0m\u001b[0;34m(\u001b[0m\u001b[0;34m'WGAN_2/save_model/generator/ep490'\u001b[0m\u001b[0;34m)\u001b[0m\u001b[0;34m\u001b[0m\u001b[0;34m\u001b[0m\u001b[0m\n\u001b[0m\u001b[1;32m      2\u001b[0m \u001b[0mnoise_dim\u001b[0m\u001b[0;34m=\u001b[0m\u001b[0;36m200\u001b[0m\u001b[0;34m\u001b[0m\u001b[0;34m\u001b[0m\u001b[0m\n\u001b[1;32m      3\u001b[0m \u001b[0mnoise\u001b[0m \u001b[0;34m=\u001b[0m \u001b[0mtf\u001b[0m\u001b[0;34m.\u001b[0m\u001b[0mrandom\u001b[0m\u001b[0;34m.\u001b[0m\u001b[0mnormal\u001b[0m\u001b[0;34m(\u001b[0m\u001b[0mshape\u001b[0m\u001b[0;34m=\u001b[0m\u001b[0;34m(\u001b[0m\u001b[0;36m2000\u001b[0m\u001b[0;34m,\u001b[0m\u001b[0mnoise_dim\u001b[0m\u001b[0;34m)\u001b[0m\u001b[0;34m)\u001b[0m\u001b[0;34m\u001b[0m\u001b[0;34m\u001b[0m\u001b[0m\n\u001b[1;32m      4\u001b[0m \u001b[0mdata\u001b[0m\u001b[0;34m=\u001b[0m\u001b[0mgenerator\u001b[0m\u001b[0;34m(\u001b[0m\u001b[0mnoise\u001b[0m\u001b[0;34m)\u001b[0m\u001b[0;34m\u001b[0m\u001b[0;34m\u001b[0m\u001b[0m\n\u001b[1;32m      5\u001b[0m \u001b[0mmax_el\u001b[0m\u001b[0;34m=\u001b[0m\u001b[0mnp\u001b[0m\u001b[0;34m.\u001b[0m\u001b[0mzeros\u001b[0m\u001b[0;34m(\u001b[0m\u001b[0mlen\u001b[0m\u001b[0;34m(\u001b[0m\u001b[0mdata\u001b[0m\u001b[0;34m)\u001b[0m\u001b[0;34m)\u001b[0m\u001b[0;34m\u001b[0m\u001b[0;34m\u001b[0m\u001b[0m\n",
      "\u001b[0;32m~/.conda/envs/robert_venv/lib/python3.6/site-packages/tensorflow/python/keras/saving/save.py\u001b[0m in \u001b[0;36mload_model\u001b[0;34m(filepath, custom_objects, compile, options)\u001b[0m\n\u001b[1;32m    209\u001b[0m       \u001b[0mfilepath\u001b[0m \u001b[0;34m=\u001b[0m \u001b[0mpath_to_string\u001b[0m\u001b[0;34m(\u001b[0m\u001b[0mfilepath\u001b[0m\u001b[0;34m)\u001b[0m\u001b[0;34m\u001b[0m\u001b[0;34m\u001b[0m\u001b[0m\n\u001b[1;32m    210\u001b[0m       \u001b[0;32mif\u001b[0m \u001b[0misinstance\u001b[0m\u001b[0;34m(\u001b[0m\u001b[0mfilepath\u001b[0m\u001b[0;34m,\u001b[0m \u001b[0msix\u001b[0m\u001b[0;34m.\u001b[0m\u001b[0mstring_types\u001b[0m\u001b[0;34m)\u001b[0m\u001b[0;34m:\u001b[0m\u001b[0;34m\u001b[0m\u001b[0;34m\u001b[0m\u001b[0m\n\u001b[0;32m--> 211\u001b[0;31m         \u001b[0mloader_impl\u001b[0m\u001b[0;34m.\u001b[0m\u001b[0mparse_saved_model\u001b[0m\u001b[0;34m(\u001b[0m\u001b[0mfilepath\u001b[0m\u001b[0;34m)\u001b[0m\u001b[0;34m\u001b[0m\u001b[0;34m\u001b[0m\u001b[0m\n\u001b[0m\u001b[1;32m    212\u001b[0m         \u001b[0;32mreturn\u001b[0m \u001b[0msaved_model_load\u001b[0m\u001b[0;34m.\u001b[0m\u001b[0mload\u001b[0m\u001b[0;34m(\u001b[0m\u001b[0mfilepath\u001b[0m\u001b[0;34m,\u001b[0m \u001b[0mcompile\u001b[0m\u001b[0;34m,\u001b[0m \u001b[0moptions\u001b[0m\u001b[0;34m)\u001b[0m\u001b[0;34m\u001b[0m\u001b[0;34m\u001b[0m\u001b[0m\n\u001b[1;32m    213\u001b[0m \u001b[0;34m\u001b[0m\u001b[0m\n",
      "\u001b[0;32m~/.conda/envs/robert_venv/lib/python3.6/site-packages/tensorflow/python/saved_model/loader_impl.py\u001b[0m in \u001b[0;36mparse_saved_model\u001b[0;34m(export_dir)\u001b[0m\n\u001b[1;32m    112\u001b[0m                   (export_dir,\n\u001b[1;32m    113\u001b[0m                    \u001b[0mconstants\u001b[0m\u001b[0;34m.\u001b[0m\u001b[0mSAVED_MODEL_FILENAME_PBTXT\u001b[0m\u001b[0;34m,\u001b[0m\u001b[0;34m\u001b[0m\u001b[0;34m\u001b[0m\u001b[0m\n\u001b[0;32m--> 114\u001b[0;31m                    constants.SAVED_MODEL_FILENAME_PB))\n\u001b[0m\u001b[1;32m    115\u001b[0m \u001b[0;34m\u001b[0m\u001b[0m\n\u001b[1;32m    116\u001b[0m \u001b[0;34m\u001b[0m\u001b[0m\n",
      "\u001b[0;31mOSError\u001b[0m: SavedModel file does not exist at: WGAN_2/save_model/generator/ep490/{saved_model.pbtxt|saved_model.pb}"
     ]
    }
   ],
   "source": [
    "generator=tf.keras.models.load_model('WGAN_2/save_model/generator/ep490')\n",
    "noise_dim=200\n",
    "noise = tf.random.normal(shape=(2000,noise_dim))\n",
    "data=generator(noise)\n",
    "max_el=np.zeros(len(data))\n",
    "for i in range(len(data)):\n",
    "    max_el[i]=tf.math.reduce_max(data[i])\n",
    "    \n",
    "# print(len(max_el))    \n",
    "plt.hist(max_el,20,(0,1))\n",
    "plt.xlabel('max MIP')\n",
    "plt.ylabel('Num')\n",
    "# plt.savefig('fake_hist.png')"
   ]
  }
 ],
 "metadata": {
  "kernelspec": {
   "display_name": "Python 3",
   "language": "python",
   "name": "python3"
  },
  "language_info": {
   "codemirror_mode": {
    "name": "ipython",
    "version": 3
   },
   "file_extension": ".py",
   "mimetype": "text/x-python",
   "name": "python",
   "nbconvert_exporter": "python",
   "pygments_lexer": "ipython3",
   "version": "3.6.10"
  }
 },
 "nbformat": 4,
 "nbformat_minor": 4
}
