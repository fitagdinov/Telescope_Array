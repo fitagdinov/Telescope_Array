{
 "cells": [
  {
   "cell_type": "markdown",
   "metadata": {},
   "source": [
    "Ноутбук для проверки данных. Кажется работает. Проверяется что они перемешались как надо и данные сохранились после всех процедур предобработки"
   ]
  },
  {
   "cell_type": "code",
   "execution_count": 1,
   "metadata": {},
   "outputs": [],
   "source": [
    "import h5py as h5\n",
    "import numpy as np\n",
    "import os\n",
    "import matplotlib.pyplot as plt\n",
    "data_path = '/home/rfit/Telescope_Array/phd_work/data/normed/pr_q4_14yr_e1_0110_excl_sat_F_excl_geo_F.h5'\n"
   ]
  },
  {
   "cell_type": "code",
   "execution_count": 2,
   "metadata": {},
   "outputs": [
    {
     "name": "stdout",
     "output_type": "stream",
     "text": [
      "keys ['norm_param', 'test', 'train', 'val']\n",
      "['dt_bundle', 'dt_mask', 'dt_params', 'ev_ids', 'ev_starts', 'mc_params', 'recos', 'wfs_flat']\n",
      "[        0        43        73 ... 111191147 111191169 111191190]\n",
      "[[2.01007100e+07 1.44307856e+05 1.00000000e+00]\n",
      " [2.01307080e+07 6.53368413e+04 1.00000000e+00]\n",
      " [2.02112110e+07 2.55049578e+04 1.00000000e+00]\n",
      " ...\n",
      " [2.02112150e+07 5.43070790e+04 1.00000000e+00]\n",
      " [2.02008070e+07 2.48500224e+02 1.00000000e+00]\n",
      " [2.02004250e+07 1.93619781e+05 1.00000000e+00]]\n",
      "<HDF5 dataset \"dt_params\": shape (111191190, 6), type \"<f4\">\n"
     ]
    }
   ],
   "source": [
    "with h5.File(data_path,'r') as f:\n",
    "    print('keys', list(f.keys()))\n",
    "    train = f['train']\n",
    "    print(list(train.keys()))\n",
    "    print(train['ev_starts'][()])\n",
    "    print(train['ev_ids'][()])\n",
    "    print(train['dt_params'])\n",
    "    \n",
    "    norm_param = f['norm_param']['dt_params']\n",
    "    norm_param_std = norm_param['std'][()]\n",
    "    norm_param_mean = norm_param['mean'][()]\n",
    "    ev_starts_data = train['ev_starts'][()] \n",
    "    dt_params_data = train['dt_params'][()]\n",
    "    ev_ids_data = train['ev_ids'][()]"
   ]
  },
  {
   "cell_type": "code",
   "execution_count": 3,
   "metadata": {},
   "outputs": [
    {
     "data": {
      "text/plain": [
       "((4498159, 3), (4498160,), (111191190, 6))"
      ]
     },
     "execution_count": 3,
     "metadata": {},
     "output_type": "execute_result"
    }
   ],
   "source": [
    "ev_ids_data.shape, ev_starts_data.shape, dt_params_data.shape"
   ]
  },
  {
   "cell_type": "code",
   "execution_count": 4,
   "metadata": {},
   "outputs": [
    {
     "name": "stdout",
     "output_type": "stream",
     "text": [
      "keys ['bdt_params', 'dt_ids', 'dt_mask', 'dt_params', 'dt_wfs', 'ev_ids', 'ev_starts', 'mc_params', 'pass_cuts', 'reco_ivanov', 'reco_ivanov_error', 'reco_ivanov_params', 'reco_rubtsov', 'reco_rubtsov_params']\n"
     ]
    }
   ],
   "source": [
    "# init h5\n",
    "h5_init = '/home/rfit/Telescope_Array/phd_work/data/h5s/pr_q4_14yr_e1.h5'\n",
    "with h5.File(h5_init,'r') as init:\n",
    "    print('keys', list(init.keys()))\n",
    "    ev_ids = init['ev_ids'][()]\n",
    "    ev_starts =  init['ev_starts'][()]\n",
    "    dt_params = init['dt_params'][()]\n",
    "#     train = f['train']\n",
    "#     print(list(train.keys()))\n",
    "#     print(train['ev_starts'][()])\n",
    "#     print(train['ev_ids'][()])\n",
    "#     print(train['dt_params'])"
   ]
  },
  {
   "cell_type": "code",
   "execution_count": 5,
   "metadata": {},
   "outputs": [
    {
     "data": {
      "text/plain": [
       "(array([        0,        43,        73, ..., 111191147, 111191169,\n",
       "        111191190]),\n",
       " array([        0,         5,        10, ..., 292474610, 292474614,\n",
       "        292474618]))"
      ]
     },
     "execution_count": 5,
     "metadata": {},
     "output_type": "execute_result"
    }
   ],
   "source": [
    "ev_starts_data, ev_starts"
   ]
  },
  {
   "cell_type": "code",
   "execution_count": 6,
   "metadata": {},
   "outputs": [
    {
     "data": {
      "text/plain": [
       "array([[2.01007100e+07, 1.44307856e+05, 1.00000000e+00],\n",
       "       [2.01307080e+07, 6.53368413e+04, 1.00000000e+00],\n",
       "       [2.02112110e+07, 2.55049578e+04, 1.00000000e+00],\n",
       "       ...,\n",
       "       [2.02112150e+07, 5.43070790e+04, 1.00000000e+00],\n",
       "       [2.02008070e+07, 2.48500224e+02, 1.00000000e+00],\n",
       "       [2.02004250e+07, 1.93619781e+05, 1.00000000e+00]])"
      ]
     },
     "execution_count": 6,
     "metadata": {},
     "output_type": "execute_result"
    }
   ],
   "source": [
    "ev_ids_data"
   ]
  },
  {
   "cell_type": "code",
   "execution_count": 7,
   "metadata": {},
   "outputs": [
    {
     "data": {
      "text/plain": [
       "array([[2.00805210e+07, 1.34811280e+05, 1.00000000e+00],\n",
       "       [2.00805210e+07, 2.04537317e+05, 1.00000000e+00],\n",
       "       [2.00805230e+07, 3.20376600e+04, 1.00000000e+00],\n",
       "       ...,\n",
       "       [2.01204300e+07, 1.60430488e+05, 1.00000000e+00],\n",
       "       [2.01208280e+07, 7.26183160e+04, 1.00000000e+00],\n",
       "       [2.01310030e+07, 3.36444625e+04, 1.00000000e+00]])"
      ]
     },
     "execution_count": 7,
     "metadata": {},
     "output_type": "execute_result"
    }
   ],
   "source": [
    "first = ev_ids_data[3]\n",
    "ev_ids"
   ]
  },
  {
   "cell_type": "code",
   "execution_count": 8,
   "metadata": {},
   "outputs": [
    {
     "name": "stdout",
     "output_type": "stream",
     "text": [
      "3525261\n"
     ]
    }
   ],
   "source": [
    "# from tqdm import tqdm\n",
    "num_data = 30\n",
    "first = ev_ids_data[num_data]\n",
    "for j,i in enumerate(ev_ids[:]):\n",
    "    if (i==first).all():\n",
    "        print(j)\n",
    "        num = j"
   ]
  },
  {
   "cell_type": "code",
   "execution_count": 25,
   "metadata": {},
   "outputs": [
    {
     "data": {
      "text/plain": [
       "(array([2.01009190e+07, 2.15347174e+05, 1.00000000e+00]),\n",
       " array([2.01009190e+07, 2.15347174e+05, 1.00000000e+00]))"
      ]
     },
     "execution_count": 25,
     "metadata": {},
     "output_type": "execute_result"
    }
   ],
   "source": [
    "first, ev_ids[num]"
   ]
  },
  {
   "cell_type": "code",
   "execution_count": 26,
   "metadata": {},
   "outputs": [
    {
     "data": {
      "text/plain": [
       "array([17])"
      ]
     },
     "execution_count": 26,
     "metadata": {},
     "output_type": "execute_result"
    }
   ],
   "source": [
    "np.diff(ev_starts[num:num+2])"
   ]
  },
  {
   "cell_type": "code",
   "execution_count": 27,
   "metadata": {},
   "outputs": [
    {
     "data": {
      "text/plain": [
       "array([17])"
      ]
     },
     "execution_count": 27,
     "metadata": {},
     "output_type": "execute_result"
    }
   ],
   "source": [
    "np.diff(ev_starts_data[num_data: num_data+2])"
   ]
  },
  {
   "cell_type": "code",
   "execution_count": 28,
   "metadata": {},
   "outputs": [
    {
     "data": {
      "text/plain": [
       "array([69080673, 69080690])"
      ]
     },
     "execution_count": 28,
     "metadata": {},
     "output_type": "execute_result"
    }
   ],
   "source": [
    "ev_starts[num:num+2]"
   ]
  },
  {
   "cell_type": "code",
   "execution_count": 29,
   "metadata": {},
   "outputs": [
    {
     "data": {
      "text/plain": [
       "(17, 6)"
      ]
     },
     "execution_count": 29,
     "metadata": {},
     "output_type": "execute_result"
    }
   ],
   "source": [
    "data = dt_params[ev_starts[num]: ev_starts[num+1]]\n",
    "data.shape"
   ]
  },
  {
   "cell_type": "code",
   "execution_count": 30,
   "metadata": {},
   "outputs": [
    {
     "data": {
      "text/plain": [
       "(17, 6)"
      ]
     },
     "execution_count": 30,
     "metadata": {},
     "output_type": "execute_result"
    }
   ],
   "source": [
    "ev_data = dt_params_data[ev_starts_data[num_data]: ev_starts_data[num_data+1]]\n",
    "ev_data = ev_data*norm_param_std + norm_param_mean\n",
    "ev_data.shape"
   ]
  },
  {
   "cell_type": "code",
   "execution_count": 31,
   "metadata": {},
   "outputs": [
    {
     "data": {
      "text/plain": [
       "((17, 6), (17, 6))"
      ]
     },
     "execution_count": 31,
     "metadata": {},
     "output_type": "execute_result"
    }
   ],
   "source": [
    "data.shape, ev_data.shape"
   ]
  },
  {
   "cell_type": "code",
   "execution_count": 32,
   "metadata": {},
   "outputs": [
    {
     "data": {
      "text/plain": [
       "array([[-9.81914e-01,  1.47374e+00,  4.89662e-03,  1.62334e+00,\n",
       "        -4.37700e+00,  1.33800e+00],\n",
       "       [-1.97694e+00,  4.78154e-01,  3.56517e-03,  6.08723e-01,\n",
       "        -3.98200e+00,  1.80200e+00],\n",
       "       [ 2.31840e-02,  1.47471e+00,  3.14739e-03,  2.37546e+00,\n",
       "        -2.82500e+00,  1.50600e+00],\n",
       "       [-9.83909e-01,  4.77106e-01,  3.90856e-03,  9.69611e+00,\n",
       "        -2.45100e+00,  6.31000e-01],\n",
       "       [-9.83909e-01,  4.77106e-01,  3.90856e-03,  9.69611e+00,\n",
       "        -2.45100e+00,  3.19100e+00],\n",
       "       [-9.83909e-01,  4.77106e-01,  3.90856e-03,  9.69611e+00,\n",
       "        -2.45100e+00,  6.87100e+00],\n",
       "       [-1.98196e+00, -5.22182e-01,  3.50797e-03,  5.89715e-01,\n",
       "        -2.05500e+00,  2.09600e+00],\n",
       "       [ 2.06263e-02,  4.76222e-01,  2.35211e-03,  2.07173e+02,\n",
       "        -8.96000e-01,  2.97000e-01],\n",
       "       [ 2.06263e-02,  4.76222e-01,  2.35211e-03,  2.07173e+02,\n",
       "        -8.96000e-01,  8.53700e+00],\n",
       "       [-9.80812e-01, -5.86149e-01,  2.50077e-03,  3.01823e+00,\n",
       "        -3.86000e-01,  7.27000e-01],\n",
       "       [-9.80812e-01, -5.86149e-01,  2.50077e-03,  3.01823e+00,\n",
       "        -3.86000e-01,  3.64700e+00],\n",
       "       [ 1.02013e+00,  4.78263e-01,  3.18036e-03,  6.88073e+00,\n",
       "         6.37000e-01,  6.04000e-01],\n",
       "       [ 1.02013e+00,  4.78263e-01,  3.18036e-03,  6.88073e+00,\n",
       "         6.37000e-01,  3.16400e+00],\n",
       "       [ 1.66309e-02, -5.22264e-01,  2.98729e-03,  1.18240e+02,\n",
       "         1.02600e+00,  3.15000e-01],\n",
       "       [-9.82860e-01, -1.52263e+00,  2.54532e-03,  1.03957e+00,\n",
       "         1.42100e+00,  2.46000e+00],\n",
       "       [ 1.01989e+00, -5.24846e-01,  1.75161e-03,  7.21293e+00,\n",
       "         2.58000e+00,  4.40000e-01],\n",
       "       [ 9.75743e-01, -1.50580e+00,  3.31544e-03,  7.43732e-01,\n",
       "         4.40400e+00,  8.97000e-01]], dtype=float32)"
      ]
     },
     "execution_count": 32,
     "metadata": {},
     "output_type": "execute_result"
    }
   ],
   "source": [
    "# data.sort()\n",
    "data"
   ]
  },
  {
   "cell_type": "code",
   "execution_count": 33,
   "metadata": {},
   "outputs": [
    {
     "data": {
      "text/plain": [
       "array([[-9.8191398e-01,  1.4737400e+00,  4.8966198e-03,  1.6233215e+00,\n",
       "        -4.3769999e+00,  1.3380001e+00],\n",
       "       [-1.9769400e+00,  4.7815400e-01,  3.5651699e-03,  6.0871887e-01,\n",
       "        -3.9820001e+00,  1.8020000e+00],\n",
       "       [ 2.3184001e-02,  1.4747099e+00,  3.1473897e-03,  2.3754578e+00,\n",
       "        -2.8250000e+00,  1.5060000e+00],\n",
       "       [-9.8390901e-01,  4.7710600e-01,  3.9085601e-03,  9.6961060e+00,\n",
       "        -2.4509997e+00,  6.3099992e-01],\n",
       "       [-9.8390901e-01,  4.7710600e-01,  3.9085601e-03,  9.6961060e+00,\n",
       "        -2.4509997e+00,  3.1910000e+00],\n",
       "       [-9.8390901e-01,  4.7710600e-01,  3.9085601e-03,  9.6961060e+00,\n",
       "        -2.4509997e+00,  6.8709993e+00],\n",
       "       [-1.9819601e+00, -5.2218199e-01,  3.5079699e-03,  5.8972168e-01,\n",
       "        -2.0549998e+00,  2.0960000e+00],\n",
       "       [ 2.0626295e-02,  4.7622201e-01,  2.3521101e-03,  2.0717300e+02,\n",
       "        -8.9600003e-01,  2.9699993e-01],\n",
       "       [ 2.0626295e-02,  4.7622201e-01,  2.3521101e-03,  2.0717300e+02,\n",
       "        -8.9600003e-01,  8.5369997e+00],\n",
       "       [-9.8081201e-01, -5.8614898e-01,  2.5007697e-03,  3.0182343e+00,\n",
       "        -3.8600001e-01,  7.2700012e-01],\n",
       "       [-9.8081201e-01, -5.8614898e-01,  2.5007697e-03,  3.0182343e+00,\n",
       "        -3.8600001e-01,  3.6470001e+00],\n",
       "       [ 1.0201300e+00,  4.7826299e-01,  3.1803604e-03,  6.8807220e+00,\n",
       "         6.3700008e-01,  6.0399985e-01],\n",
       "       [ 1.0201300e+00,  4.7826299e-01,  3.1803604e-03,  6.8807220e+00,\n",
       "         6.3700008e-01,  3.1640000e+00],\n",
       "       [ 1.6630899e-02, -5.2226400e-01,  2.9872898e-03,  1.1824000e+02,\n",
       "         1.0260000e+00,  3.1500006e-01],\n",
       "       [-9.8285997e-01, -1.5226299e+00,  2.5453195e-03,  1.0395813e+00,\n",
       "         1.4210000e+00,  2.4600000e+00],\n",
       "       [ 1.0198900e+00, -5.2484602e-01,  1.7516101e-03,  7.2129364e+00,\n",
       "         2.5799997e+00,  4.4000006e-01],\n",
       "       [ 9.7574300e-01, -1.5058000e+00,  3.3154394e-03,  7.4372864e-01,\n",
       "         4.4039998e+00,  8.9700019e-01]], dtype=float32)"
      ]
     },
     "execution_count": 33,
     "metadata": {},
     "output_type": "execute_result"
    }
   ],
   "source": [
    "# ev_data.sort()\n",
    "ev_data"
   ]
  },
  {
   "cell_type": "code",
   "execution_count": 34,
   "metadata": {},
   "outputs": [
    {
     "data": {
      "text/plain": [
       "[<matplotlib.lines.Line2D at 0x7f1624701128>]"
      ]
     },
     "execution_count": 34,
     "metadata": {},
     "output_type": "execute_result"
    },
    {
     "data": {
      "image/png": "[encoded data removed]",
      "text/plain": [
       "<Figure size 432x288 with 1 Axes>"
      ]
     },
     "metadata": {
      "needs_background": "light"
     },
     "output_type": "display_data"
    }
   ],
   "source": [
    "plt.plot(data[:,0], ev_data[:,0])"
   ]
  },
  {
   "cell_type": "code",
   "execution_count": null,
   "metadata": {},
   "outputs": [],
   "source": []
  }
 ],
 "metadata": {
  "anaconda-cloud": {},
  "kernelspec": {
   "display_name": "Python 3",
   "language": "python",
   "name": "python3"
  },
  "language_info": {
   "codemirror_mode": {
    "name": "ipython",
    "version": 3
   },
   "file_extension": ".py",
   "mimetype": "text/x-python",
   "name": "python",
   "nbconvert_exporter": "python",
   "pygments_lexer": "ipython3",
   "version": "3.6.10"
  }
 },
 "nbformat": 4,
 "nbformat_minor": 4
}
