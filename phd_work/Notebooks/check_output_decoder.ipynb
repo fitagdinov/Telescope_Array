{
 "cells": [
  {
   "cell_type": "code",
   "execution_count": 1,
   "id": "a4576ffa-cc02-40c5-b041-d881ad33e309",
   "metadata": {},
   "outputs": [
    {
     "name": "stdout",
     "output_type": "stream",
     "text": [
      "/home/rfit/Telescope_Array/phd_work\n"
     ]
    }
   ],
   "source": [
    "cd ../"
   ]
  },
  {
   "cell_type": "code",
   "execution_count": 2,
   "id": "2ba4a3b3-472a-4fc7-8cca-dc59295785a1",
   "metadata": {},
   "outputs": [
    {
     "name": "stdout",
     "output_type": "stream",
     "text": [
      "/home/rfit/Telescope_Array/phd_work/src/train_VAE\n"
     ]
    }
   ],
   "source": [
    "cd src/train_VAE/"
   ]
  },
  {
   "cell_type": "code",
   "execution_count": 19,
   "id": "6ccc2534-21d1-4fc6-b840-7035ac88c7c9",
   "metadata": {},
   "outputs": [
    {
     "name": "stdout",
     "output_type": "stream",
     "text": [
      "Using device: cuda\n"
     ]
    }
   ],
   "source": [
    "import os\n",
    "try:\n",
    "    import importlib\n",
    "    importlib.reload(pipline)\n",
    "except NameError:\n",
    "    import pipline"
   ]
  },
  {
   "cell_type": "code",
   "execution_count": 20,
   "id": "419c0b09-933b-484f-9555-a990b601f574",
   "metadata": {},
   "outputs": [],
   "source": [
    "import numpy as np"
   ]
  },
  {
   "cell_type": "code",
   "execution_count": 21,
   "id": "f6975f4d-66cb-425a-a9a0-883cfdfa032e",
   "metadata": {},
   "outputs": [
    {
     "name": "stdout",
     "output_type": "stream",
     "text": [
      "['pipline.py', '__pycache__', 'runs2', 'test', 'runs', 'datasets.py', 'runs_tests', 'model.py', 'test_particles', 'loss.py', 'tests', 'utils.py', 'init.sh', 'config.yaml', 'hists', '__init__.py', 'for_temporary_work', '.ipynb_checkpoints']\n",
      "mc_params True\n",
      "keys ['norm_param', 'test', 'train', 'val']\n",
      "mc_params True\n",
      "keys ['norm_param', 'test', 'train', 'val']\n",
      "Encoder has params: 1097760 Decoder has params: 2406921\n",
      "Saving Path: /home/rfit/Telescope_Array/phd_work/Models/AutoEncoder/Proton_train_lat=8_Pr+photon\n"
     ]
    }
   ],
   "source": [
    "config = 'config.yaml'\n",
    "model = pipline.Pipline(config, need_train_DS=False)\n",
    "exp = 'Fe_Pr18.01.2025_15:29latent_dim=16;_hidden_dim=512;_use_mask=True;_'\n",
    "chpt = \"/home/rfit/Telescope_Array/phd_work/Models/AutoEncoder/Proton_train_lat=16/best\"\n",
    "model.load_chpt(chpt)"
   ]
  },
  {
   "cell_type": "code",
   "execution_count": 22,
   "id": "88f81cfd-5ce9-4ac7-a639-7d2dc99f4cc5",
   "metadata": {},
   "outputs": [
    {
     "name": "stderr",
     "output_type": "stream",
     "text": [
      "  0%|▍                                                                                                                                                                             | 1/390 [00:00<01:32,  4.21it/s]"
     ]
    },
    {
     "name": "stdout",
     "output_type": "stream",
     "text": [
      "torch.Size([2000, 76, 6])\n"
     ]
    },
    {
     "name": "stderr",
     "output_type": "stream",
     "text": [
      "  1%|▉                                                                                                                                                                             | 2/390 [00:00<01:26,  4.51it/s]"
     ]
    },
    {
     "name": "stdout",
     "output_type": "stream",
     "text": [
      "torch.Size([2000, 75, 6])\n"
     ]
    },
    {
     "name": "stderr",
     "output_type": "stream",
     "text": [
      "  1%|█▎                                                                                                                                                                            | 3/390 [00:00<01:25,  4.55it/s]"
     ]
    },
    {
     "name": "stdout",
     "output_type": "stream",
     "text": [
      "torch.Size([2000, 79, 6])\n"
     ]
    },
    {
     "name": "stderr",
     "output_type": "stream",
     "text": [
      "  1%|█▊                                                                                                                                                                            | 4/390 [00:00<01:24,  4.58it/s]"
     ]
    },
    {
     "name": "stdout",
     "output_type": "stream",
     "text": [
      "torch.Size([2000, 76, 6])\n"
     ]
    },
    {
     "name": "stderr",
     "output_type": "stream",
     "text": [
      "  1%|██▏                                                                                                                                                                           | 5/390 [00:01<01:23,  4.62it/s]"
     ]
    },
    {
     "name": "stdout",
     "output_type": "stream",
     "text": [
      "torch.Size([2000, 74, 6])\n"
     ]
    },
    {
     "name": "stderr",
     "output_type": "stream",
     "text": [
      "  2%|██▋                                                                                                                                                                           | 6/390 [00:01<01:22,  4.63it/s]"
     ]
    },
    {
     "name": "stdout",
     "output_type": "stream",
     "text": [
      "torch.Size([2000, 76, 6])\n"
     ]
    },
    {
     "name": "stderr",
     "output_type": "stream",
     "text": [
      "  2%|███                                                                                                                                                                           | 7/390 [00:01<01:22,  4.65it/s]"
     ]
    },
    {
     "name": "stdout",
     "output_type": "stream",
     "text": [
      "torch.Size([2000, 75, 6])\n"
     ]
    },
    {
     "name": "stderr",
     "output_type": "stream",
     "text": [
      "  2%|███▌                                                                                                                                                                          | 8/390 [00:01<01:22,  4.63it/s]"
     ]
    },
    {
     "name": "stdout",
     "output_type": "stream",
     "text": [
      "torch.Size([2000, 78, 6])\n"
     ]
    },
    {
     "name": "stderr",
     "output_type": "stream",
     "text": [
      "  2%|████                                                                                                                                                                          | 9/390 [00:01<01:21,  4.68it/s]"
     ]
    },
    {
     "name": "stdout",
     "output_type": "stream",
     "text": [
      "torch.Size([2000, 73, 6])\n"
     ]
    },
    {
     "name": "stderr",
     "output_type": "stream",
     "text": [
      "  3%|████▍                                                                                                                                                                        | 10/390 [00:02<01:22,  4.63it/s]"
     ]
    },
    {
     "name": "stdout",
     "output_type": "stream",
     "text": [
      "torch.Size([2000, 79, 6])\n"
     ]
    },
    {
     "name": "stderr",
     "output_type": "stream",
     "text": [
      "  3%|████▉                                                                                                                                                                        | 11/390 [00:02<01:22,  4.61it/s]"
     ]
    },
    {
     "name": "stdout",
     "output_type": "stream",
     "text": [
      "torch.Size([2000, 78, 6])\n"
     ]
    },
    {
     "name": "stderr",
     "output_type": "stream",
     "text": [
      "  3%|█████▎                                                                                                                                                                       | 12/390 [00:02<01:21,  4.63it/s]"
     ]
    },
    {
     "name": "stdout",
     "output_type": "stream",
     "text": [
      "torch.Size([2000, 75, 6])\n"
     ]
    },
    {
     "name": "stderr",
     "output_type": "stream",
     "text": [
      "  3%|█████▊                                                                                                                                                                       | 13/390 [00:02<01:21,  4.60it/s]"
     ]
    },
    {
     "name": "stdout",
     "output_type": "stream",
     "text": [
      "torch.Size([2000, 79, 6])\n"
     ]
    },
    {
     "name": "stderr",
     "output_type": "stream",
     "text": [
      "  4%|██████▏                                                                                                                                                                      | 14/390 [00:03<01:20,  4.67it/s]"
     ]
    },
    {
     "name": "stdout",
     "output_type": "stream",
     "text": [
      "torch.Size([2000, 71, 6])\n"
     ]
    },
    {
     "name": "stderr",
     "output_type": "stream",
     "text": [
      "  4%|██████▋                                                                                                                                                                      | 15/390 [00:03<01:22,  4.53it/s]"
     ]
    },
    {
     "name": "stdout",
     "output_type": "stream",
     "text": [
      "torch.Size([2000, 79, 6])\n"
     ]
    },
    {
     "name": "stderr",
     "output_type": "stream",
     "text": [
      "  4%|███████                                                                                                                                                                      | 16/390 [00:03<01:22,  4.54it/s]"
     ]
    },
    {
     "name": "stdout",
     "output_type": "stream",
     "text": [
      "torch.Size([2000, 77, 6])\n"
     ]
    },
    {
     "name": "stderr",
     "output_type": "stream",
     "text": [
      "  4%|███████▌                                                                                                                                                                     | 17/390 [00:03<01:21,  4.57it/s]"
     ]
    },
    {
     "name": "stdout",
     "output_type": "stream",
     "text": [
      "torch.Size([2000, 79, 6])\n"
     ]
    },
    {
     "name": "stderr",
     "output_type": "stream",
     "text": [
      "  5%|███████▉                                                                                                                                                                     | 18/390 [00:03<01:19,  4.67it/s]"
     ]
    },
    {
     "name": "stdout",
     "output_type": "stream",
     "text": [
      "torch.Size([2000, 72, 6])\n"
     ]
    },
    {
     "name": "stderr",
     "output_type": "stream",
     "text": [
      "  5%|████████▍                                                                                                                                                                    | 19/390 [00:04<01:18,  4.71it/s]"
     ]
    },
    {
     "name": "stdout",
     "output_type": "stream",
     "text": [
      "torch.Size([2000, 75, 6])\n"
     ]
    },
    {
     "name": "stderr",
     "output_type": "stream",
     "text": [
      "  5%|████████▊                                                                                                                                                                    | 20/390 [00:04<01:17,  4.77it/s]"
     ]
    },
    {
     "name": "stdout",
     "output_type": "stream",
     "text": [
      "torch.Size([2000, 72, 6])\n"
     ]
    },
    {
     "name": "stderr",
     "output_type": "stream",
     "text": [
      "  5%|█████████▎                                                                                                                                                                   | 21/390 [00:04<01:17,  4.74it/s]"
     ]
    },
    {
     "name": "stdout",
     "output_type": "stream",
     "text": [
      "torch.Size([2000, 79, 6])\n"
     ]
    },
    {
     "name": "stderr",
     "output_type": "stream",
     "text": [
      "  6%|█████████▊                                                                                                                                                                   | 22/390 [00:04<01:18,  4.70it/s]"
     ]
    },
    {
     "name": "stdout",
     "output_type": "stream",
     "text": [
      "torch.Size([2000, 80, 6])\n"
     ]
    },
    {
     "name": "stderr",
     "output_type": "stream",
     "text": [
      "  6%|██████████▏                                                                                                                                                                  | 23/390 [00:04<01:17,  4.74it/s]"
     ]
    },
    {
     "name": "stdout",
     "output_type": "stream",
     "text": [
      "torch.Size([2000, 75, 6])\n"
     ]
    },
    {
     "name": "stderr",
     "output_type": "stream",
     "text": [
      "  6%|██████████▋                                                                                                                                                                  | 24/390 [00:05<01:16,  4.75it/s]"
     ]
    },
    {
     "name": "stdout",
     "output_type": "stream",
     "text": [
      "torch.Size([2000, 75, 6])\n"
     ]
    },
    {
     "name": "stderr",
     "output_type": "stream",
     "text": [
      "  6%|███████████                                                                                                                                                                  | 25/390 [00:05<01:17,  4.72it/s]"
     ]
    },
    {
     "name": "stdout",
     "output_type": "stream",
     "text": [
      "torch.Size([2000, 77, 6])\n"
     ]
    },
    {
     "name": "stderr",
     "output_type": "stream",
     "text": [
      "  7%|███████████▌                                                                                                                                                                 | 26/390 [00:05<01:19,  4.58it/s]"
     ]
    },
    {
     "name": "stdout",
     "output_type": "stream",
     "text": [
      "torch.Size([2000, 89, 6])\n"
     ]
    },
    {
     "name": "stderr",
     "output_type": "stream",
     "text": [
      "  7%|███████████▉                                                                                                                                                                 | 27/390 [00:05<01:20,  4.52it/s]"
     ]
    },
    {
     "name": "stdout",
     "output_type": "stream",
     "text": [
      "torch.Size([2000, 86, 6])\n"
     ]
    },
    {
     "name": "stderr",
     "output_type": "stream",
     "text": [
      "  7%|████████████▍                                                                                                                                                                | 28/390 [00:06<01:22,  4.36it/s]"
     ]
    },
    {
     "name": "stdout",
     "output_type": "stream",
     "text": [
      "torch.Size([2000, 77, 6])\n"
     ]
    },
    {
     "name": "stderr",
     "output_type": "stream",
     "text": [
      "  7%|████████████▊                                                                                                                                                                | 29/390 [00:06<01:20,  4.47it/s]"
     ]
    },
    {
     "name": "stdout",
     "output_type": "stream",
     "text": [
      "torch.Size([2000, 73, 6])\n"
     ]
    },
    {
     "name": "stderr",
     "output_type": "stream",
     "text": [
      "  8%|█████████████▎                                                                                                                                                               | 30/390 [00:06<01:20,  4.49it/s]"
     ]
    },
    {
     "name": "stdout",
     "output_type": "stream",
     "text": [
      "torch.Size([2000, 79, 6])\n"
     ]
    },
    {
     "name": "stderr",
     "output_type": "stream",
     "text": [
      "  8%|█████████████▊                                                                                                                                                               | 31/390 [00:06<01:18,  4.55it/s]"
     ]
    },
    {
     "name": "stdout",
     "output_type": "stream",
     "text": [
      "torch.Size([2000, 75, 6])\n"
     ]
    },
    {
     "name": "stderr",
     "output_type": "stream",
     "text": [
      "  8%|██████████████▏                                                                                                                                                              | 32/390 [00:06<01:17,  4.62it/s]"
     ]
    },
    {
     "name": "stdout",
     "output_type": "stream",
     "text": [
      "torch.Size([2000, 72, 6])\n"
     ]
    },
    {
     "name": "stderr",
     "output_type": "stream",
     "text": [
      "  8%|██████████████▋                                                                                                                                                              | 33/390 [00:07<01:16,  4.67it/s]"
     ]
    },
    {
     "name": "stdout",
     "output_type": "stream",
     "text": [
      "torch.Size([2000, 73, 6])\n"
     ]
    },
    {
     "name": "stderr",
     "output_type": "stream",
     "text": [
      "  9%|███████████████                                                                                                                                                              | 34/390 [00:07<01:16,  4.64it/s]"
     ]
    },
    {
     "name": "stdout",
     "output_type": "stream",
     "text": [
      "torch.Size([2000, 77, 6])\n"
     ]
    },
    {
     "name": "stderr",
     "output_type": "stream",
     "text": [
      "  9%|███████████████▌                                                                                                                                                             | 35/390 [00:07<01:16,  4.64it/s]"
     ]
    },
    {
     "name": "stdout",
     "output_type": "stream",
     "text": [
      "torch.Size([2000, 75, 6])\n"
     ]
    },
    {
     "name": "stderr",
     "output_type": "stream",
     "text": [
      "  9%|███████████████▉                                                                                                                                                             | 36/390 [00:07<01:17,  4.56it/s]"
     ]
    },
    {
     "name": "stdout",
     "output_type": "stream",
     "text": [
      "torch.Size([2000, 83, 6])\n"
     ]
    },
    {
     "name": "stderr",
     "output_type": "stream",
     "text": [
      "  9%|████████████████▍                                                                                                                                                            | 37/390 [00:08<01:16,  4.61it/s]"
     ]
    },
    {
     "name": "stdout",
     "output_type": "stream",
     "text": [
      "torch.Size([2000, 74, 6])\n"
     ]
    },
    {
     "name": "stderr",
     "output_type": "stream",
     "text": [
      " 10%|████████████████▊                                                                                                                                                            | 38/390 [00:08<01:16,  4.63it/s]"
     ]
    },
    {
     "name": "stdout",
     "output_type": "stream",
     "text": [
      "torch.Size([2000, 74, 6])\n"
     ]
    },
    {
     "name": "stderr",
     "output_type": "stream",
     "text": [
      " 10%|█████████████████▎                                                                                                                                                           | 39/390 [00:08<01:16,  4.57it/s]"
     ]
    },
    {
     "name": "stdout",
     "output_type": "stream",
     "text": [
      "torch.Size([2000, 81, 6])\n"
     ]
    },
    {
     "name": "stderr",
     "output_type": "stream",
     "text": [
      " 10%|█████████████████▋                                                                                                                                                           | 40/390 [00:08<01:37,  3.58it/s]"
     ]
    },
    {
     "name": "stdout",
     "output_type": "stream",
     "text": [
      "torch.Size([2000, 72, 6])\n"
     ]
    },
    {
     "name": "stderr",
     "output_type": "stream",
     "text": [
      " 11%|██████████████████▏                                                                                                                                                          | 41/390 [00:09<01:30,  3.87it/s]"
     ]
    },
    {
     "name": "stdout",
     "output_type": "stream",
     "text": [
      "torch.Size([2000, 73, 6])\n"
     ]
    },
    {
     "name": "stderr",
     "output_type": "stream",
     "text": [
      " 11%|██████████████████▋                                                                                                                                                          | 42/390 [00:09<01:25,  4.07it/s]"
     ]
    },
    {
     "name": "stdout",
     "output_type": "stream",
     "text": [
      "torch.Size([2000, 76, 6])\n"
     ]
    },
    {
     "name": "stderr",
     "output_type": "stream",
     "text": [
      " 11%|███████████████████                                                                                                                                                          | 43/390 [00:09<01:21,  4.25it/s]"
     ]
    },
    {
     "name": "stdout",
     "output_type": "stream",
     "text": [
      "torch.Size([2000, 74, 6])\n"
     ]
    },
    {
     "name": "stderr",
     "output_type": "stream",
     "text": [
      " 11%|███████████████████▌                                                                                                                                                         | 44/390 [00:09<01:20,  4.28it/s]"
     ]
    },
    {
     "name": "stdout",
     "output_type": "stream",
     "text": [
      "torch.Size([2000, 75, 6])\n"
     ]
    },
    {
     "name": "stderr",
     "output_type": "stream",
     "text": [
      " 12%|███████████████████▉                                                                                                                                                         | 45/390 [00:09<01:19,  4.37it/s]"
     ]
    },
    {
     "name": "stdout",
     "output_type": "stream",
     "text": [
      "torch.Size([2000, 81, 6])\n"
     ]
    },
    {
     "name": "stderr",
     "output_type": "stream",
     "text": [
      " 12%|████████████████████▍                                                                                                                                                        | 46/390 [00:10<01:16,  4.51it/s]"
     ]
    },
    {
     "name": "stdout",
     "output_type": "stream",
     "text": [
      "torch.Size([2000, 73, 6])\n"
     ]
    },
    {
     "name": "stderr",
     "output_type": "stream",
     "text": [
      " 12%|████████████████████▊                                                                                                                                                        | 47/390 [00:10<01:14,  4.61it/s]"
     ]
    },
    {
     "name": "stdout",
     "output_type": "stream",
     "text": [
      "torch.Size([2000, 74, 6])\n"
     ]
    },
    {
     "name": "stderr",
     "output_type": "stream",
     "text": [
      " 12%|█████████████████████▎                                                                                                                                                       | 48/390 [00:10<01:13,  4.65it/s]"
     ]
    },
    {
     "name": "stdout",
     "output_type": "stream",
     "text": [
      "torch.Size([2000, 76, 6])\n"
     ]
    },
    {
     "name": "stderr",
     "output_type": "stream",
     "text": [
      " 13%|█████████████████████▋                                                                                                                                                       | 49/390 [00:10<01:12,  4.71it/s]"
     ]
    },
    {
     "name": "stdout",
     "output_type": "stream",
     "text": [
      "torch.Size([2000, 73, 6])\n"
     ]
    },
    {
     "name": "stderr",
     "output_type": "stream",
     "text": [
      " 13%|██████████████████████▏                                                                                                                                                      | 50/390 [00:10<01:11,  4.77it/s]"
     ]
    },
    {
     "name": "stdout",
     "output_type": "stream",
     "text": [
      "torch.Size([2000, 72, 6])\n"
     ]
    },
    {
     "name": "stderr",
     "output_type": "stream",
     "text": [
      " 13%|██████████████████████▌                                                                                                                                                      | 51/390 [00:11<01:13,  4.59it/s]"
     ]
    },
    {
     "name": "stdout",
     "output_type": "stream",
     "text": [
      "torch.Size([2000, 79, 6])\n"
     ]
    },
    {
     "name": "stderr",
     "output_type": "stream",
     "text": [
      " 13%|███████████████████████                                                                                                                                                      | 52/390 [00:11<01:13,  4.62it/s]"
     ]
    },
    {
     "name": "stdout",
     "output_type": "stream",
     "text": [
      "torch.Size([2000, 74, 6])\n"
     ]
    },
    {
     "name": "stderr",
     "output_type": "stream",
     "text": [
      " 14%|███████████████████████▌                                                                                                                                                     | 53/390 [00:11<01:13,  4.59it/s]"
     ]
    },
    {
     "name": "stdout",
     "output_type": "stream",
     "text": [
      "torch.Size([2000, 80, 6])\n"
     ]
    },
    {
     "name": "stderr",
     "output_type": "stream",
     "text": [
      " 14%|███████████████████████▉                                                                                                                                                     | 54/390 [00:11<01:12,  4.65it/s]"
     ]
    },
    {
     "name": "stdout",
     "output_type": "stream",
     "text": [
      "torch.Size([2000, 72, 6])\n"
     ]
    },
    {
     "name": "stderr",
     "output_type": "stream",
     "text": [
      " 14%|████████████████████████▍                                                                                                                                                    | 55/390 [00:12<01:11,  4.66it/s]"
     ]
    },
    {
     "name": "stdout",
     "output_type": "stream",
     "text": [
      "torch.Size([2000, 75, 6])\n"
     ]
    },
    {
     "name": "stderr",
     "output_type": "stream",
     "text": [
      " 14%|████████████████████████▊                                                                                                                                                    | 56/390 [00:12<01:13,  4.53it/s]"
     ]
    },
    {
     "name": "stdout",
     "output_type": "stream",
     "text": [
      "torch.Size([2000, 78, 6])\n"
     ]
    },
    {
     "name": "stderr",
     "output_type": "stream",
     "text": [
      " 15%|█████████████████████████▎                                                                                                                                                   | 57/390 [00:12<01:14,  4.44it/s]"
     ]
    },
    {
     "name": "stdout",
     "output_type": "stream",
     "text": [
      "torch.Size([2000, 79, 6])\n"
     ]
    },
    {
     "name": "stderr",
     "output_type": "stream",
     "text": [
      " 15%|█████████████████████████▋                                                                                                                                                   | 58/390 [00:12<01:13,  4.50it/s]"
     ]
    },
    {
     "name": "stdout",
     "output_type": "stream",
     "text": [
      "torch.Size([2000, 75, 6])\n"
     ]
    },
    {
     "name": "stderr",
     "output_type": "stream",
     "text": [
      " 15%|██████████████████████████▏                                                                                                                                                  | 59/390 [00:12<01:12,  4.54it/s]"
     ]
    },
    {
     "name": "stdout",
     "output_type": "stream",
     "text": [
      "torch.Size([2000, 70, 6])\n"
     ]
    },
    {
     "name": "stderr",
     "output_type": "stream",
     "text": [
      " 15%|██████████████████████████▌                                                                                                                                                  | 60/390 [00:13<01:13,  4.49it/s]"
     ]
    },
    {
     "name": "stdout",
     "output_type": "stream",
     "text": [
      "torch.Size([2000, 78, 6])\n"
     ]
    },
    {
     "name": "stderr",
     "output_type": "stream",
     "text": [
      " 16%|███████████████████████████                                                                                                                                                  | 61/390 [00:13<01:12,  4.54it/s]"
     ]
    },
    {
     "name": "stdout",
     "output_type": "stream",
     "text": [
      "torch.Size([2000, 78, 6])\n"
     ]
    },
    {
     "name": "stderr",
     "output_type": "stream",
     "text": [
      " 16%|███████████████████████████▌                                                                                                                                                 | 62/390 [00:13<01:11,  4.60it/s]"
     ]
    },
    {
     "name": "stdout",
     "output_type": "stream",
     "text": [
      "torch.Size([2000, 76, 6])\n"
     ]
    },
    {
     "name": "stderr",
     "output_type": "stream",
     "text": [
      " 16%|███████████████████████████▉                                                                                                                                                 | 63/390 [00:13<01:12,  4.54it/s]"
     ]
    },
    {
     "name": "stdout",
     "output_type": "stream",
     "text": [
      "torch.Size([2000, 85, 6])\n"
     ]
    },
    {
     "name": "stderr",
     "output_type": "stream",
     "text": [
      " 16%|████████████████████████████▍                                                                                                                                                | 64/390 [00:14<01:11,  4.59it/s]"
     ]
    },
    {
     "name": "stdout",
     "output_type": "stream",
     "text": [
      "torch.Size([2000, 76, 6])\n"
     ]
    },
    {
     "name": "stderr",
     "output_type": "stream",
     "text": [
      " 17%|████████████████████████████▊                                                                                                                                                | 65/390 [00:14<01:11,  4.52it/s]"
     ]
    },
    {
     "name": "stdout",
     "output_type": "stream",
     "text": [
      "torch.Size([2000, 76, 6])\n"
     ]
    },
    {
     "name": "stderr",
     "output_type": "stream",
     "text": [
      " 17%|█████████████████████████████▎                                                                                                                                               | 66/390 [00:14<01:10,  4.59it/s]"
     ]
    },
    {
     "name": "stdout",
     "output_type": "stream",
     "text": [
      "torch.Size([2000, 76, 6])\n"
     ]
    },
    {
     "name": "stderr",
     "output_type": "stream",
     "text": [
      " 17%|█████████████████████████████▋                                                                                                                                               | 67/390 [00:14<01:08,  4.68it/s]"
     ]
    },
    {
     "name": "stdout",
     "output_type": "stream",
     "text": [
      "torch.Size([2000, 72, 6])\n"
     ]
    },
    {
     "name": "stderr",
     "output_type": "stream",
     "text": [
      " 17%|██████████████████████████████▏                                                                                                                                              | 68/390 [00:14<01:09,  4.64it/s]"
     ]
    },
    {
     "name": "stdout",
     "output_type": "stream",
     "text": [
      "torch.Size([2000, 81, 6])\n"
     ]
    },
    {
     "name": "stderr",
     "output_type": "stream",
     "text": [
      " 18%|██████████████████████████████▌                                                                                                                                              | 69/390 [00:15<01:08,  4.68it/s]"
     ]
    },
    {
     "name": "stdout",
     "output_type": "stream",
     "text": [
      "torch.Size([2000, 75, 6])\n"
     ]
    },
    {
     "name": "stderr",
     "output_type": "stream",
     "text": [
      " 18%|███████████████████████████████                                                                                                                                              | 70/390 [00:15<01:08,  4.65it/s]"
     ]
    },
    {
     "name": "stdout",
     "output_type": "stream",
     "text": [
      "torch.Size([2000, 80, 6])\n"
     ]
    },
    {
     "name": "stderr",
     "output_type": "stream",
     "text": [
      " 18%|███████████████████████████████▍                                                                                                                                             | 71/390 [00:15<01:08,  4.63it/s]"
     ]
    },
    {
     "name": "stdout",
     "output_type": "stream",
     "text": [
      "torch.Size([2000, 79, 6])\n"
     ]
    },
    {
     "name": "stderr",
     "output_type": "stream",
     "text": [
      " 18%|███████████████████████████████▉                                                                                                                                             | 72/390 [00:15<01:08,  4.62it/s]"
     ]
    },
    {
     "name": "stdout",
     "output_type": "stream",
     "text": [
      "torch.Size([2000, 79, 6])\n"
     ]
    },
    {
     "name": "stderr",
     "output_type": "stream",
     "text": [
      " 19%|████████████████████████████████▍                                                                                                                                            | 73/390 [00:16<01:07,  4.66it/s]"
     ]
    },
    {
     "name": "stdout",
     "output_type": "stream",
     "text": [
      "torch.Size([2000, 74, 6])\n"
     ]
    },
    {
     "name": "stderr",
     "output_type": "stream",
     "text": [
      " 19%|████████████████████████████████▊                                                                                                                                            | 74/390 [00:16<01:27,  3.62it/s]"
     ]
    },
    {
     "name": "stdout",
     "output_type": "stream",
     "text": [
      "torch.Size([2000, 72, 6])\n"
     ]
    },
    {
     "name": "stderr",
     "output_type": "stream",
     "text": [
      " 19%|█████████████████████████████████▎                                                                                                                                           | 75/390 [00:16<01:21,  3.85it/s]"
     ]
    },
    {
     "name": "stdout",
     "output_type": "stream",
     "text": [
      "torch.Size([2000, 81, 6])\n"
     ]
    },
    {
     "name": "stderr",
     "output_type": "stream",
     "text": [
      " 19%|█████████████████████████████████▋                                                                                                                                           | 76/390 [00:16<01:16,  4.08it/s]"
     ]
    },
    {
     "name": "stdout",
     "output_type": "stream",
     "text": [
      "torch.Size([2000, 75, 6])\n"
     ]
    },
    {
     "name": "stderr",
     "output_type": "stream",
     "text": [
      " 20%|██████████████████████████████████▏                                                                                                                                          | 77/390 [00:17<01:13,  4.24it/s]"
     ]
    },
    {
     "name": "stdout",
     "output_type": "stream",
     "text": [
      "torch.Size([2000, 77, 6])\n"
     ]
    },
    {
     "name": "stderr",
     "output_type": "stream",
     "text": [
      " 20%|██████████████████████████████████▌                                                                                                                                          | 78/390 [00:17<01:11,  4.38it/s]"
     ]
    },
    {
     "name": "stdout",
     "output_type": "stream",
     "text": [
      "torch.Size([2000, 75, 6])\n"
     ]
    },
    {
     "name": "stderr",
     "output_type": "stream",
     "text": [
      " 20%|███████████████████████████████████                                                                                                                                          | 79/390 [00:17<01:10,  4.44it/s]"
     ]
    },
    {
     "name": "stdout",
     "output_type": "stream",
     "text": [
      "torch.Size([2000, 79, 6])\n"
     ]
    },
    {
     "name": "stderr",
     "output_type": "stream",
     "text": [
      " 21%|███████████████████████████████████▍                                                                                                                                         | 80/390 [00:17<01:09,  4.47it/s]"
     ]
    },
    {
     "name": "stdout",
     "output_type": "stream",
     "text": [
      "torch.Size([2000, 80, 6])\n"
     ]
    },
    {
     "name": "stderr",
     "output_type": "stream",
     "text": [
      " 21%|███████████████████████████████████▉                                                                                                                                         | 81/390 [00:17<01:10,  4.40it/s]"
     ]
    },
    {
     "name": "stdout",
     "output_type": "stream",
     "text": [
      "torch.Size([2000, 78, 6])\n"
     ]
    },
    {
     "name": "stderr",
     "output_type": "stream",
     "text": [
      " 21%|████████████████████████████████████▎                                                                                                                                        | 82/390 [00:18<01:09,  4.43it/s]"
     ]
    },
    {
     "name": "stdout",
     "output_type": "stream",
     "text": [
      "torch.Size([2000, 79, 6])\n"
     ]
    },
    {
     "name": "stderr",
     "output_type": "stream",
     "text": [
      " 21%|████████████████████████████████████▊                                                                                                                                        | 83/390 [00:18<01:07,  4.52it/s]"
     ]
    },
    {
     "name": "stdout",
     "output_type": "stream",
     "text": [
      "torch.Size([2000, 73, 6])\n"
     ]
    },
    {
     "name": "stderr",
     "output_type": "stream",
     "text": [
      " 22%|█████████████████████████████████████▎                                                                                                                                       | 84/390 [00:18<01:07,  4.57it/s]"
     ]
    },
    {
     "name": "stdout",
     "output_type": "stream",
     "text": [
      "torch.Size([2000, 74, 6])\n"
     ]
    },
    {
     "name": "stderr",
     "output_type": "stream",
     "text": [
      " 22%|█████████████████████████████████████▋                                                                                                                                       | 85/390 [00:18<01:06,  4.56it/s]"
     ]
    },
    {
     "name": "stdout",
     "output_type": "stream",
     "text": [
      "torch.Size([2000, 78, 6])\n"
     ]
    },
    {
     "name": "stderr",
     "output_type": "stream",
     "text": [
      " 22%|██████████████████████████████████████▏                                                                                                                                      | 86/390 [00:19<01:07,  4.53it/s]"
     ]
    },
    {
     "name": "stdout",
     "output_type": "stream",
     "text": [
      "torch.Size([2000, 80, 6])\n"
     ]
    },
    {
     "name": "stderr",
     "output_type": "stream",
     "text": [
      " 22%|██████████████████████████████████████▌                                                                                                                                      | 87/390 [00:19<01:06,  4.56it/s]"
     ]
    },
    {
     "name": "stdout",
     "output_type": "stream",
     "text": [
      "torch.Size([2000, 76, 6])\n"
     ]
    },
    {
     "name": "stderr",
     "output_type": "stream",
     "text": [
      " 23%|███████████████████████████████████████                                                                                                                                      | 88/390 [00:19<01:06,  4.55it/s]"
     ]
    },
    {
     "name": "stdout",
     "output_type": "stream",
     "text": [
      "torch.Size([2000, 79, 6])\n"
     ]
    },
    {
     "name": "stderr",
     "output_type": "stream",
     "text": [
      " 23%|███████████████████████████████████████▍                                                                                                                                     | 89/390 [00:19<01:05,  4.59it/s]"
     ]
    },
    {
     "name": "stdout",
     "output_type": "stream",
     "text": [
      "torch.Size([2000, 74, 6])\n"
     ]
    },
    {
     "name": "stderr",
     "output_type": "stream",
     "text": [
      " 23%|███████████████████████████████████████▉                                                                                                                                     | 90/390 [00:19<01:04,  4.63it/s]"
     ]
    },
    {
     "name": "stdout",
     "output_type": "stream",
     "text": [
      "torch.Size([2000, 74, 6])\n"
     ]
    },
    {
     "name": "stderr",
     "output_type": "stream",
     "text": [
      " 23%|████████████████████████████████████████▎                                                                                                                                    | 91/390 [00:20<01:04,  4.64it/s]"
     ]
    },
    {
     "name": "stdout",
     "output_type": "stream",
     "text": [
      "torch.Size([2000, 75, 6])\n"
     ]
    },
    {
     "name": "stderr",
     "output_type": "stream",
     "text": [
      " 24%|████████████████████████████████████████▊                                                                                                                                    | 92/390 [00:20<01:03,  4.68it/s]"
     ]
    },
    {
     "name": "stdout",
     "output_type": "stream",
     "text": [
      "torch.Size([2000, 72, 6])\n"
     ]
    },
    {
     "name": "stderr",
     "output_type": "stream",
     "text": [
      " 24%|█████████████████████████████████████████▎                                                                                                                                   | 93/390 [00:20<01:04,  4.59it/s]"
     ]
    },
    {
     "name": "stdout",
     "output_type": "stream",
     "text": [
      "torch.Size([2000, 82, 6])\n"
     ]
    },
    {
     "name": "stderr",
     "output_type": "stream",
     "text": [
      " 24%|█████████████████████████████████████████▋                                                                                                                                   | 94/390 [00:20<01:04,  4.61it/s]"
     ]
    },
    {
     "name": "stdout",
     "output_type": "stream",
     "text": [
      "torch.Size([2000, 75, 6])\n"
     ]
    },
    {
     "name": "stderr",
     "output_type": "stream",
     "text": [
      " 24%|██████████████████████████████████████████▏                                                                                                                                  | 95/390 [00:20<01:03,  4.67it/s]"
     ]
    },
    {
     "name": "stdout",
     "output_type": "stream",
     "text": [
      "torch.Size([2000, 70, 6])\n"
     ]
    },
    {
     "name": "stderr",
     "output_type": "stream",
     "text": [
      " 25%|██████████████████████████████████████████▌                                                                                                                                  | 96/390 [00:21<01:03,  4.65it/s]"
     ]
    },
    {
     "name": "stdout",
     "output_type": "stream",
     "text": [
      "torch.Size([2000, 76, 6])\n"
     ]
    },
    {
     "name": "stderr",
     "output_type": "stream",
     "text": [
      " 25%|███████████████████████████████████████████                                                                                                                                  | 97/390 [00:21<01:03,  4.59it/s]"
     ]
    },
    {
     "name": "stdout",
     "output_type": "stream",
     "text": [
      "torch.Size([2000, 80, 6])\n"
     ]
    },
    {
     "name": "stderr",
     "output_type": "stream",
     "text": [
      " 25%|███████████████████████████████████████████▍                                                                                                                                 | 98/390 [00:21<01:03,  4.57it/s]"
     ]
    },
    {
     "name": "stdout",
     "output_type": "stream",
     "text": [
      "torch.Size([2000, 78, 6])\n"
     ]
    },
    {
     "name": "stderr",
     "output_type": "stream",
     "text": [
      " 25%|███████████████████████████████████████████▉                                                                                                                                 | 99/390 [00:21<01:03,  4.57it/s]"
     ]
    },
    {
     "name": "stdout",
     "output_type": "stream",
     "text": [
      "torch.Size([2000, 77, 6])\n"
     ]
    },
    {
     "name": "stderr",
     "output_type": "stream",
     "text": [
      " 26%|████████████████████████████████████████████                                                                                                                                | 100/390 [00:22<01:03,  4.56it/s]"
     ]
    },
    {
     "name": "stdout",
     "output_type": "stream",
     "text": [
      "torch.Size([2000, 78, 6])\n"
     ]
    },
    {
     "name": "stderr",
     "output_type": "stream",
     "text": [
      " 26%|████████████████████████████████████████████▌                                                                                                                               | 101/390 [00:22<01:03,  4.58it/s]"
     ]
    },
    {
     "name": "stdout",
     "output_type": "stream",
     "text": [
      "torch.Size([2000, 76, 6])\n"
     ]
    },
    {
     "name": "stderr",
     "output_type": "stream",
     "text": [
      " 26%|████████████████████████████████████████████▉                                                                                                                               | 102/390 [00:22<01:02,  4.61it/s]"
     ]
    },
    {
     "name": "stdout",
     "output_type": "stream",
     "text": [
      "torch.Size([2000, 75, 6])\n"
     ]
    },
    {
     "name": "stderr",
     "output_type": "stream",
     "text": [
      " 26%|█████████████████████████████████████████████▍                                                                                                                              | 103/390 [00:22<01:02,  4.62it/s]"
     ]
    },
    {
     "name": "stdout",
     "output_type": "stream",
     "text": [
      "torch.Size([2000, 75, 6])\n"
     ]
    },
    {
     "name": "stderr",
     "output_type": "stream",
     "text": [
      " 27%|█████████████████████████████████████████████▊                                                                                                                              | 104/390 [00:22<01:01,  4.66it/s]"
     ]
    },
    {
     "name": "stdout",
     "output_type": "stream",
     "text": [
      "torch.Size([2000, 73, 6])\n"
     ]
    },
    {
     "name": "stderr",
     "output_type": "stream",
     "text": [
      " 27%|██████████████████████████████████████████████▎                                                                                                                             | 105/390 [00:23<01:03,  4.51it/s]"
     ]
    },
    {
     "name": "stdout",
     "output_type": "stream",
     "text": [
      "torch.Size([2000, 75, 6])\n"
     ]
    },
    {
     "name": "stderr",
     "output_type": "stream",
     "text": [
      " 27%|██████████████████████████████████████████████▋                                                                                                                             | 106/390 [00:23<01:04,  4.42it/s]"
     ]
    },
    {
     "name": "stdout",
     "output_type": "stream",
     "text": [
      "torch.Size([2000, 79, 6])\n"
     ]
    },
    {
     "name": "stderr",
     "output_type": "stream",
     "text": [
      " 27%|███████████████████████████████████████████████▏                                                                                                                            | 107/390 [00:23<01:20,  3.52it/s]"
     ]
    },
    {
     "name": "stdout",
     "output_type": "stream",
     "text": [
      "torch.Size([2000, 71, 6])\n"
     ]
    },
    {
     "name": "stderr",
     "output_type": "stream",
     "text": [
      " 28%|███████████████████████████████████████████████▋                                                                                                                            | 108/390 [00:24<01:14,  3.78it/s]"
     ]
    },
    {
     "name": "stdout",
     "output_type": "stream",
     "text": [
      "torch.Size([2000, 77, 6])\n"
     ]
    },
    {
     "name": "stderr",
     "output_type": "stream",
     "text": [
      " 28%|████████████████████████████████████████████████                                                                                                                            | 109/390 [00:24<01:10,  3.97it/s]"
     ]
    },
    {
     "name": "stdout",
     "output_type": "stream",
     "text": [
      "torch.Size([2000, 78, 6])\n"
     ]
    },
    {
     "name": "stderr",
     "output_type": "stream",
     "text": [
      " 28%|████████████████████████████████████████████████▌                                                                                                                           | 110/390 [00:24<01:07,  4.14it/s]"
     ]
    },
    {
     "name": "stdout",
     "output_type": "stream",
     "text": [
      "torch.Size([2000, 75, 6])\n"
     ]
    },
    {
     "name": "stderr",
     "output_type": "stream",
     "text": [
      " 28%|████████████████████████████████████████████████▉                                                                                                                           | 111/390 [00:24<01:06,  4.21it/s]"
     ]
    },
    {
     "name": "stdout",
     "output_type": "stream",
     "text": [
      "torch.Size([2000, 82, 6])\n"
     ]
    },
    {
     "name": "stderr",
     "output_type": "stream",
     "text": [
      " 29%|█████████████████████████████████████████████████▍                                                                                                                          | 112/390 [00:24<01:04,  4.34it/s]"
     ]
    },
    {
     "name": "stdout",
     "output_type": "stream",
     "text": [
      "torch.Size([2000, 74, 6])\n"
     ]
    },
    {
     "name": "stderr",
     "output_type": "stream",
     "text": [
      " 29%|█████████████████████████████████████████████████▊                                                                                                                          | 113/390 [00:25<01:02,  4.42it/s]"
     ]
    },
    {
     "name": "stdout",
     "output_type": "stream",
     "text": [
      "torch.Size([2000, 76, 6])\n"
     ]
    },
    {
     "name": "stderr",
     "output_type": "stream",
     "text": [
      " 29%|██████████████████████████████████████████████████▎                                                                                                                         | 114/390 [00:25<01:00,  4.53it/s]"
     ]
    },
    {
     "name": "stdout",
     "output_type": "stream",
     "text": [
      "torch.Size([2000, 72, 6])\n"
     ]
    },
    {
     "name": "stderr",
     "output_type": "stream",
     "text": [
      " 29%|██████████████████████████████████████████████████▋                                                                                                                         | 115/390 [00:25<01:00,  4.57it/s]"
     ]
    },
    {
     "name": "stdout",
     "output_type": "stream",
     "text": [
      "torch.Size([2000, 74, 6])\n"
     ]
    },
    {
     "name": "stderr",
     "output_type": "stream",
     "text": [
      " 30%|███████████████████████████████████████████████████▏                                                                                                                        | 116/390 [00:25<00:59,  4.61it/s]"
     ]
    },
    {
     "name": "stdout",
     "output_type": "stream",
     "text": [
      "torch.Size([2000, 73, 6])\n"
     ]
    },
    {
     "name": "stderr",
     "output_type": "stream",
     "text": [
      " 30%|███████████████████████████████████████████████████▌                                                                                                                        | 117/390 [00:26<00:59,  4.61it/s]"
     ]
    },
    {
     "name": "stdout",
     "output_type": "stream",
     "text": [
      "torch.Size([2000, 76, 6])\n"
     ]
    },
    {
     "name": "stderr",
     "output_type": "stream",
     "text": [
      " 30%|████████████████████████████████████████████████████                                                                                                                        | 118/390 [00:26<00:59,  4.59it/s]"
     ]
    },
    {
     "name": "stdout",
     "output_type": "stream",
     "text": [
      "torch.Size([2000, 77, 6])\n"
     ]
    },
    {
     "name": "stderr",
     "output_type": "stream",
     "text": [
      " 31%|████████████████████████████████████████████████████▍                                                                                                                       | 119/390 [00:26<00:59,  4.54it/s]"
     ]
    },
    {
     "name": "stdout",
     "output_type": "stream",
     "text": [
      "torch.Size([2000, 80, 6])\n"
     ]
    },
    {
     "name": "stderr",
     "output_type": "stream",
     "text": [
      " 31%|████████████████████████████████████████████████████▉                                                                                                                       | 120/390 [00:26<00:59,  4.51it/s]"
     ]
    },
    {
     "name": "stdout",
     "output_type": "stream",
     "text": [
      "torch.Size([2000, 80, 6])\n"
     ]
    },
    {
     "name": "stderr",
     "output_type": "stream",
     "text": [
      " 31%|█████████████████████████████████████████████████████▎                                                                                                                      | 121/390 [00:26<00:59,  4.55it/s]"
     ]
    },
    {
     "name": "stdout",
     "output_type": "stream",
     "text": [
      "torch.Size([2000, 75, 6])\n"
     ]
    },
    {
     "name": "stderr",
     "output_type": "stream",
     "text": [
      " 31%|█████████████████████████████████████████████████████▊                                                                                                                      | 122/390 [00:27<00:58,  4.57it/s]"
     ]
    },
    {
     "name": "stdout",
     "output_type": "stream",
     "text": [
      "torch.Size([2000, 75, 6])\n"
     ]
    },
    {
     "name": "stderr",
     "output_type": "stream",
     "text": [
      " 32%|██████████████████████████████████████████████████████▏                                                                                                                     | 123/390 [00:27<00:58,  4.55it/s]"
     ]
    },
    {
     "name": "stdout",
     "output_type": "stream",
     "text": [
      "torch.Size([2000, 79, 6])\n"
     ]
    },
    {
     "name": "stderr",
     "output_type": "stream",
     "text": [
      " 32%|██████████████████████████████████████████████████████▋                                                                                                                     | 124/390 [00:27<00:57,  4.60it/s]"
     ]
    },
    {
     "name": "stdout",
     "output_type": "stream",
     "text": [
      "torch.Size([2000, 74, 6])\n"
     ]
    },
    {
     "name": "stderr",
     "output_type": "stream",
     "text": [
      " 32%|███████████████████████████████████████████████████████▏                                                                                                                    | 125/390 [00:27<00:57,  4.60it/s]"
     ]
    },
    {
     "name": "stdout",
     "output_type": "stream",
     "text": [
      "torch.Size([2000, 76, 6])\n"
     ]
    },
    {
     "name": "stderr",
     "output_type": "stream",
     "text": [
      " 32%|███████████████████████████████████████████████████████▌                                                                                                                    | 126/390 [00:27<00:58,  4.55it/s]"
     ]
    },
    {
     "name": "stdout",
     "output_type": "stream",
     "text": [
      "torch.Size([2000, 81, 6])\n"
     ]
    },
    {
     "name": "stderr",
     "output_type": "stream",
     "text": [
      " 33%|████████████████████████████████████████████████████████                                                                                                                    | 127/390 [00:28<00:57,  4.60it/s]"
     ]
    },
    {
     "name": "stdout",
     "output_type": "stream",
     "text": [
      "torch.Size([2000, 73, 6])\n"
     ]
    },
    {
     "name": "stderr",
     "output_type": "stream",
     "text": [
      " 33%|████████████████████████████████████████████████████████▍                                                                                                                   | 128/390 [00:28<00:56,  4.63it/s]"
     ]
    },
    {
     "name": "stdout",
     "output_type": "stream",
     "text": [
      "torch.Size([2000, 74, 6])\n"
     ]
    },
    {
     "name": "stderr",
     "output_type": "stream",
     "text": [
      " 33%|████████████████████████████████████████████████████████▉                                                                                                                   | 129/390 [00:28<00:56,  4.60it/s]"
     ]
    },
    {
     "name": "stdout",
     "output_type": "stream",
     "text": [
      "torch.Size([2000, 78, 6])\n"
     ]
    },
    {
     "name": "stderr",
     "output_type": "stream",
     "text": [
      " 33%|█████████████████████████████████████████████████████████▎                                                                                                                  | 130/390 [00:28<00:57,  4.50it/s]"
     ]
    },
    {
     "name": "stdout",
     "output_type": "stream",
     "text": [
      "torch.Size([2000, 85, 6])\n"
     ]
    },
    {
     "name": "stderr",
     "output_type": "stream",
     "text": [
      " 34%|█████████████████████████████████████████████████████████▊                                                                                                                  | 131/390 [00:29<00:57,  4.53it/s]"
     ]
    },
    {
     "name": "stdout",
     "output_type": "stream",
     "text": [
      "torch.Size([2000, 74, 6])\n"
     ]
    },
    {
     "name": "stderr",
     "output_type": "stream",
     "text": [
      " 34%|██████████████████████████████████████████████████████████▏                                                                                                                 | 132/390 [00:29<00:56,  4.54it/s]"
     ]
    },
    {
     "name": "stdout",
     "output_type": "stream",
     "text": [
      "torch.Size([2000, 77, 6])\n"
     ]
    },
    {
     "name": "stderr",
     "output_type": "stream",
     "text": [
      " 34%|██████████████████████████████████████████████████████████▋                                                                                                                 | 133/390 [00:29<00:56,  4.56it/s]"
     ]
    },
    {
     "name": "stdout",
     "output_type": "stream",
     "text": [
      "torch.Size([2000, 75, 6])\n"
     ]
    },
    {
     "name": "stderr",
     "output_type": "stream",
     "text": [
      " 34%|███████████████████████████████████████████████████████████                                                                                                                 | 134/390 [00:29<00:55,  4.57it/s]"
     ]
    },
    {
     "name": "stdout",
     "output_type": "stream",
     "text": [
      "torch.Size([2000, 75, 6])\n"
     ]
    },
    {
     "name": "stderr",
     "output_type": "stream",
     "text": [
      " 35%|███████████████████████████████████████████████████████████▌                                                                                                                | 135/390 [00:30<00:58,  4.37it/s]"
     ]
    },
    {
     "name": "stdout",
     "output_type": "stream",
     "text": [
      "torch.Size([2000, 84, 6])\n"
     ]
    },
    {
     "name": "stderr",
     "output_type": "stream",
     "text": [
      " 35%|███████████████████████████████████████████████████████████▉                                                                                                                | 136/390 [00:30<00:58,  4.33it/s]"
     ]
    },
    {
     "name": "stdout",
     "output_type": "stream",
     "text": [
      "torch.Size([2000, 78, 6])\n"
     ]
    },
    {
     "name": "stderr",
     "output_type": "stream",
     "text": [
      " 35%|████████████████████████████████████████████████████████████▍                                                                                                               | 137/390 [00:30<00:57,  4.41it/s]"
     ]
    },
    {
     "name": "stdout",
     "output_type": "stream",
     "text": [
      "torch.Size([2000, 79, 6])\n"
     ]
    },
    {
     "name": "stderr",
     "output_type": "stream",
     "text": [
      " 35%|████████████████████████████████████████████████████████████▊                                                                                                               | 138/390 [00:30<00:55,  4.50it/s]"
     ]
    },
    {
     "name": "stdout",
     "output_type": "stream",
     "text": [
      "torch.Size([2000, 75, 6])\n"
     ]
    },
    {
     "name": "stderr",
     "output_type": "stream",
     "text": [
      " 36%|█████████████████████████████████████████████████████████████▎                                                                                                              | 139/390 [00:31<01:10,  3.54it/s]"
     ]
    },
    {
     "name": "stdout",
     "output_type": "stream",
     "text": [
      "torch.Size([2000, 73, 6])\n"
     ]
    },
    {
     "name": "stderr",
     "output_type": "stream",
     "text": [
      " 36%|█████████████████████████████████████████████████████████████▋                                                                                                              | 140/390 [00:31<01:06,  3.77it/s]"
     ]
    },
    {
     "name": "stdout",
     "output_type": "stream",
     "text": [
      "torch.Size([2000, 73, 6])\n"
     ]
    },
    {
     "name": "stderr",
     "output_type": "stream",
     "text": [
      " 36%|██████████████████████████████████████████████████████████████▏                                                                                                             | 141/390 [00:31<01:02,  3.97it/s]"
     ]
    },
    {
     "name": "stdout",
     "output_type": "stream",
     "text": [
      "torch.Size([2000, 80, 6])\n"
     ]
    },
    {
     "name": "stderr",
     "output_type": "stream",
     "text": [
      " 36%|██████████████████████████████████████████████████████████████▋                                                                                                             | 142/390 [00:31<00:59,  4.14it/s]"
     ]
    },
    {
     "name": "stdout",
     "output_type": "stream",
     "text": [
      "torch.Size([2000, 77, 6])\n"
     ]
    },
    {
     "name": "stderr",
     "output_type": "stream",
     "text": [
      " 37%|███████████████████████████████████████████████████████████████                                                                                                             | 143/390 [00:31<00:57,  4.29it/s]"
     ]
    },
    {
     "name": "stdout",
     "output_type": "stream",
     "text": [
      "torch.Size([2000, 75, 6])\n"
     ]
    },
    {
     "name": "stderr",
     "output_type": "stream",
     "text": [
      " 37%|███████████████████████████████████████████████████████████████▌                                                                                                            | 144/390 [00:32<00:56,  4.36it/s]"
     ]
    },
    {
     "name": "stdout",
     "output_type": "stream",
     "text": [
      "torch.Size([2000, 80, 6])\n"
     ]
    },
    {
     "name": "stderr",
     "output_type": "stream",
     "text": [
      " 37%|███████████████████████████████████████████████████████████████▉                                                                                                            | 145/390 [00:32<00:56,  4.36it/s]"
     ]
    },
    {
     "name": "stdout",
     "output_type": "stream",
     "text": [
      "torch.Size([2000, 73, 6])\n"
     ]
    },
    {
     "name": "stderr",
     "output_type": "stream",
     "text": [
      " 37%|████████████████████████████████████████████████████████████████▍                                                                                                           | 146/390 [00:32<00:54,  4.47it/s]"
     ]
    },
    {
     "name": "stdout",
     "output_type": "stream",
     "text": [
      "torch.Size([2000, 75, 6])\n"
     ]
    },
    {
     "name": "stderr",
     "output_type": "stream",
     "text": [
      " 38%|████████████████████████████████████████████████████████████████▊                                                                                                           | 147/390 [00:32<00:55,  4.35it/s]"
     ]
    },
    {
     "name": "stdout",
     "output_type": "stream",
     "text": [
      "torch.Size([2000, 71, 6])\n"
     ]
    },
    {
     "name": "stderr",
     "output_type": "stream",
     "text": [
      " 38%|█████████████████████████████████████████████████████████████████▎                                                                                                          | 148/390 [00:33<00:54,  4.42it/s]"
     ]
    },
    {
     "name": "stdout",
     "output_type": "stream",
     "text": [
      "torch.Size([2000, 75, 6])\n"
     ]
    },
    {
     "name": "stderr",
     "output_type": "stream",
     "text": [
      " 38%|█████████████████████████████████████████████████████████████████▋                                                                                                          | 149/390 [00:33<00:53,  4.49it/s]"
     ]
    },
    {
     "name": "stdout",
     "output_type": "stream",
     "text": [
      "torch.Size([2000, 75, 6])\n"
     ]
    },
    {
     "name": "stderr",
     "output_type": "stream",
     "text": [
      " 38%|██████████████████████████████████████████████████████████████████▏                                                                                                         | 150/390 [00:33<00:52,  4.56it/s]"
     ]
    },
    {
     "name": "stdout",
     "output_type": "stream",
     "text": [
      "torch.Size([2000, 72, 6])\n"
     ]
    },
    {
     "name": "stderr",
     "output_type": "stream",
     "text": [
      " 39%|██████████████████████████████████████████████████████████████████▌                                                                                                         | 151/390 [00:33<00:52,  4.59it/s]"
     ]
    },
    {
     "name": "stdout",
     "output_type": "stream",
     "text": [
      "torch.Size([2000, 74, 6])\n"
     ]
    },
    {
     "name": "stderr",
     "output_type": "stream",
     "text": [
      " 39%|███████████████████████████████████████████████████████████████████                                                                                                         | 152/390 [00:33<00:52,  4.53it/s]"
     ]
    },
    {
     "name": "stdout",
     "output_type": "stream",
     "text": [
      "torch.Size([2000, 81, 6])\n"
     ]
    },
    {
     "name": "stderr",
     "output_type": "stream",
     "text": [
      " 39%|███████████████████████████████████████████████████████████████████▍                                                                                                        | 153/390 [00:34<00:52,  4.51it/s]"
     ]
    },
    {
     "name": "stdout",
     "output_type": "stream",
     "text": [
      "torch.Size([2000, 79, 6])\n"
     ]
    },
    {
     "name": "stderr",
     "output_type": "stream",
     "text": [
      " 39%|███████████████████████████████████████████████████████████████████▉                                                                                                        | 154/390 [00:34<00:52,  4.46it/s]"
     ]
    },
    {
     "name": "stdout",
     "output_type": "stream",
     "text": [
      "torch.Size([2000, 78, 6])\n"
     ]
    },
    {
     "name": "stderr",
     "output_type": "stream",
     "text": [
      " 40%|████████████████████████████████████████████████████████████████████▎                                                                                                       | 155/390 [00:34<00:51,  4.56it/s]"
     ]
    },
    {
     "name": "stdout",
     "output_type": "stream",
     "text": [
      "torch.Size([2000, 71, 6])\n"
     ]
    },
    {
     "name": "stderr",
     "output_type": "stream",
     "text": [
      " 40%|████████████████████████████████████████████████████████████████████▊                                                                                                       | 156/390 [00:34<00:51,  4.58it/s]"
     ]
    },
    {
     "name": "stdout",
     "output_type": "stream",
     "text": [
      "torch.Size([2000, 75, 6])\n"
     ]
    },
    {
     "name": "stderr",
     "output_type": "stream",
     "text": [
      " 40%|█████████████████████████████████████████████████████████████████████▏                                                                                                      | 157/390 [00:35<00:51,  4.56it/s]"
     ]
    },
    {
     "name": "stdout",
     "output_type": "stream",
     "text": [
      "torch.Size([2000, 77, 6])\n"
     ]
    },
    {
     "name": "stderr",
     "output_type": "stream",
     "text": [
      " 41%|█████████████████████████████████████████████████████████████████████▋                                                                                                      | 158/390 [00:35<00:50,  4.57it/s]"
     ]
    },
    {
     "name": "stdout",
     "output_type": "stream",
     "text": [
      "torch.Size([2000, 75, 6])\n"
     ]
    },
    {
     "name": "stderr",
     "output_type": "stream",
     "text": [
      " 41%|██████████████████████████████████████████████████████████████████████                                                                                                      | 159/390 [00:35<00:50,  4.56it/s]"
     ]
    },
    {
     "name": "stdout",
     "output_type": "stream",
     "text": [
      "torch.Size([2000, 77, 6])\n"
     ]
    },
    {
     "name": "stderr",
     "output_type": "stream",
     "text": [
      " 41%|██████████████████████████████████████████████████████████████████████▌                                                                                                     | 160/390 [00:35<00:50,  4.58it/s]"
     ]
    },
    {
     "name": "stdout",
     "output_type": "stream",
     "text": [
      "torch.Size([2000, 76, 6])\n"
     ]
    },
    {
     "name": "stderr",
     "output_type": "stream",
     "text": [
      " 41%|███████████████████████████████████████████████████████████████████████                                                                                                     | 161/390 [00:35<00:49,  4.64it/s]"
     ]
    },
    {
     "name": "stdout",
     "output_type": "stream",
     "text": [
      "torch.Size([2000, 70, 6])\n"
     ]
    },
    {
     "name": "stderr",
     "output_type": "stream",
     "text": [
      " 42%|███████████████████████████████████████████████████████████████████████▍                                                                                                    | 162/390 [00:36<00:49,  4.65it/s]"
     ]
    },
    {
     "name": "stdout",
     "output_type": "stream",
     "text": [
      "torch.Size([2000, 74, 6])\n"
     ]
    },
    {
     "name": "stderr",
     "output_type": "stream",
     "text": [
      " 42%|███████████████████████████████████████████████████████████████████████▉                                                                                                    | 163/390 [00:36<00:48,  4.65it/s]"
     ]
    },
    {
     "name": "stdout",
     "output_type": "stream",
     "text": [
      "torch.Size([2000, 74, 6])\n"
     ]
    },
    {
     "name": "stderr",
     "output_type": "stream",
     "text": [
      " 42%|████████████████████████████████████████████████████████████████████████▎                                                                                                   | 164/390 [00:36<00:49,  4.59it/s]"
     ]
    },
    {
     "name": "stdout",
     "output_type": "stream",
     "text": [
      "torch.Size([2000, 79, 6])\n"
     ]
    },
    {
     "name": "stderr",
     "output_type": "stream",
     "text": [
      " 42%|████████████████████████████████████████████████████████████████████████▊                                                                                                   | 165/390 [00:36<00:48,  4.60it/s]"
     ]
    },
    {
     "name": "stdout",
     "output_type": "stream",
     "text": [
      "torch.Size([2000, 75, 6])\n"
     ]
    },
    {
     "name": "stderr",
     "output_type": "stream",
     "text": [
      " 43%|█████████████████████████████████████████████████████████████████████████▏                                                                                                  | 166/390 [00:37<00:48,  4.63it/s]"
     ]
    },
    {
     "name": "stdout",
     "output_type": "stream",
     "text": [
      "torch.Size([2000, 73, 6])\n"
     ]
    },
    {
     "name": "stderr",
     "output_type": "stream",
     "text": [
      " 43%|█████████████████████████████████████████████████████████████████████████▋                                                                                                  | 167/390 [00:37<00:48,  4.61it/s]"
     ]
    },
    {
     "name": "stdout",
     "output_type": "stream",
     "text": [
      "torch.Size([2000, 76, 6])\n"
     ]
    },
    {
     "name": "stderr",
     "output_type": "stream",
     "text": [
      " 43%|██████████████████████████████████████████████████████████████████████████                                                                                                  | 168/390 [00:37<00:47,  4.63it/s]"
     ]
    },
    {
     "name": "stdout",
     "output_type": "stream",
     "text": [
      "torch.Size([2000, 73, 6])\n"
     ]
    },
    {
     "name": "stderr",
     "output_type": "stream",
     "text": [
      " 43%|██████████████████████████████████████████████████████████████████████████▌                                                                                                 | 169/390 [00:37<01:02,  3.52it/s]"
     ]
    },
    {
     "name": "stdout",
     "output_type": "stream",
     "text": [
      "torch.Size([2000, 81, 6])\n"
     ]
    },
    {
     "name": "stderr",
     "output_type": "stream",
     "text": [
      " 44%|██████████████████████████████████████████████████████████████████████████▉                                                                                                 | 170/390 [00:38<00:58,  3.78it/s]"
     ]
    },
    {
     "name": "stdout",
     "output_type": "stream",
     "text": [
      "torch.Size([2000, 76, 6])\n"
     ]
    },
    {
     "name": "stderr",
     "output_type": "stream",
     "text": [
      " 44%|███████████████████████████████████████████████████████████████████████████▍                                                                                                | 171/390 [00:38<00:54,  3.99it/s]"
     ]
    },
    {
     "name": "stdout",
     "output_type": "stream",
     "text": [
      "torch.Size([2000, 76, 6])\n"
     ]
    },
    {
     "name": "stderr",
     "output_type": "stream",
     "text": [
      " 44%|███████████████████████████████████████████████████████████████████████████▊                                                                                                | 172/390 [00:38<00:52,  4.13it/s]"
     ]
    },
    {
     "name": "stdout",
     "output_type": "stream",
     "text": [
      "torch.Size([2000, 78, 6])\n"
     ]
    },
    {
     "name": "stderr",
     "output_type": "stream",
     "text": [
      " 44%|████████████████████████████████████████████████████████████████████████████▎                                                                                               | 173/390 [00:38<00:52,  4.14it/s]"
     ]
    },
    {
     "name": "stdout",
     "output_type": "stream",
     "text": [
      "torch.Size([2000, 79, 6])\n"
     ]
    },
    {
     "name": "stderr",
     "output_type": "stream",
     "text": [
      " 45%|████████████████████████████████████████████████████████████████████████████▋                                                                                               | 174/390 [00:39<00:52,  4.15it/s]"
     ]
    },
    {
     "name": "stdout",
     "output_type": "stream",
     "text": [
      "torch.Size([2000, 81, 6])\n"
     ]
    },
    {
     "name": "stderr",
     "output_type": "stream",
     "text": [
      " 45%|█████████████████████████████████████████████████████████████████████████████▏                                                                                              | 175/390 [00:39<00:50,  4.26it/s]"
     ]
    },
    {
     "name": "stdout",
     "output_type": "stream",
     "text": [
      "torch.Size([2000, 77, 6])\n"
     ]
    },
    {
     "name": "stderr",
     "output_type": "stream",
     "text": [
      " 45%|█████████████████████████████████████████████████████████████████████████████▌                                                                                              | 176/390 [00:39<00:48,  4.38it/s]"
     ]
    },
    {
     "name": "stdout",
     "output_type": "stream",
     "text": [
      "torch.Size([2000, 72, 6])\n"
     ]
    },
    {
     "name": "stderr",
     "output_type": "stream",
     "text": [
      " 45%|██████████████████████████████████████████████████████████████████████████████                                                                                              | 177/390 [00:39<00:47,  4.45it/s]"
     ]
    },
    {
     "name": "stdout",
     "output_type": "stream",
     "text": [
      "torch.Size([2000, 74, 6])\n"
     ]
    },
    {
     "name": "stderr",
     "output_type": "stream",
     "text": [
      " 46%|██████████████████████████████████████████████████████████████████████████████▌                                                                                             | 178/390 [00:39<00:47,  4.45it/s]"
     ]
    },
    {
     "name": "stdout",
     "output_type": "stream",
     "text": [
      "torch.Size([2000, 79, 6])\n"
     ]
    },
    {
     "name": "stderr",
     "output_type": "stream",
     "text": [
      " 46%|██████████████████████████████████████████████████████████████████████████████▉                                                                                             | 179/390 [00:40<00:47,  4.48it/s]"
     ]
    },
    {
     "name": "stdout",
     "output_type": "stream",
     "text": [
      "torch.Size([2000, 77, 6])\n"
     ]
    },
    {
     "name": "stderr",
     "output_type": "stream",
     "text": [
      " 46%|███████████████████████████████████████████████████████████████████████████████▍                                                                                            | 180/390 [00:40<00:46,  4.50it/s]"
     ]
    },
    {
     "name": "stdout",
     "output_type": "stream",
     "text": [
      "torch.Size([2000, 76, 6])\n"
     ]
    },
    {
     "name": "stderr",
     "output_type": "stream",
     "text": [
      " 46%|███████████████████████████████████████████████████████████████████████████████▊                                                                                            | 181/390 [00:40<00:46,  4.50it/s]"
     ]
    },
    {
     "name": "stdout",
     "output_type": "stream",
     "text": [
      "torch.Size([2000, 78, 6])\n"
     ]
    },
    {
     "name": "stderr",
     "output_type": "stream",
     "text": [
      " 47%|████████████████████████████████████████████████████████████████████████████████▎                                                                                           | 182/390 [00:40<00:46,  4.48it/s]"
     ]
    },
    {
     "name": "stdout",
     "output_type": "stream",
     "text": [
      "torch.Size([2000, 80, 6])\n"
     ]
    },
    {
     "name": "stderr",
     "output_type": "stream",
     "text": [
      " 47%|████████████████████████████████████████████████████████████████████████████████▋                                                                                           | 183/390 [00:40<00:45,  4.56it/s]"
     ]
    },
    {
     "name": "stdout",
     "output_type": "stream",
     "text": [
      "torch.Size([2000, 71, 6])\n"
     ]
    },
    {
     "name": "stderr",
     "output_type": "stream",
     "text": [
      " 47%|█████████████████████████████████████████████████████████████████████████████████▏                                                                                          | 184/390 [00:41<00:44,  4.59it/s]"
     ]
    },
    {
     "name": "stdout",
     "output_type": "stream",
     "text": [
      "torch.Size([2000, 77, 6])\n"
     ]
    },
    {
     "name": "stderr",
     "output_type": "stream",
     "text": [
      " 47%|█████████████████████████████████████████████████████████████████████████████████▌                                                                                          | 185/390 [00:41<00:46,  4.41it/s]"
     ]
    },
    {
     "name": "stdout",
     "output_type": "stream",
     "text": [
      "torch.Size([2000, 83, 6])\n"
     ]
    },
    {
     "name": "stderr",
     "output_type": "stream",
     "text": [
      " 48%|██████████████████████████████████████████████████████████████████████████████████                                                                                          | 186/390 [00:41<00:45,  4.44it/s]"
     ]
    },
    {
     "name": "stdout",
     "output_type": "stream",
     "text": [
      "torch.Size([2000, 78, 6])\n"
     ]
    },
    {
     "name": "stderr",
     "output_type": "stream",
     "text": [
      " 48%|██████████████████████████████████████████████████████████████████████████████████▍                                                                                         | 187/390 [00:41<00:45,  4.49it/s]"
     ]
    },
    {
     "name": "stdout",
     "output_type": "stream",
     "text": [
      "torch.Size([2000, 75, 6])\n"
     ]
    },
    {
     "name": "stderr",
     "output_type": "stream",
     "text": [
      " 48%|██████████████████████████████████████████████████████████████████████████████████▉                                                                                         | 188/390 [00:42<00:45,  4.42it/s]"
     ]
    },
    {
     "name": "stdout",
     "output_type": "stream",
     "text": [
      "torch.Size([2000, 83, 6])\n"
     ]
    },
    {
     "name": "stderr",
     "output_type": "stream",
     "text": [
      " 48%|███████████████████████████████████████████████████████████████████████████████████▎                                                                                        | 189/390 [00:42<00:44,  4.47it/s]"
     ]
    },
    {
     "name": "stdout",
     "output_type": "stream",
     "text": [
      "torch.Size([2000, 75, 6])\n"
     ]
    },
    {
     "name": "stderr",
     "output_type": "stream",
     "text": [
      " 49%|███████████████████████████████████████████████████████████████████████████████████▊                                                                                        | 190/390 [00:42<00:44,  4.53it/s]"
     ]
    },
    {
     "name": "stdout",
     "output_type": "stream",
     "text": [
      "torch.Size([2000, 73, 6])\n"
     ]
    },
    {
     "name": "stderr",
     "output_type": "stream",
     "text": [
      " 49%|████████████████████████████████████████████████████████████████████████████████████▏                                                                                       | 191/390 [00:42<00:44,  4.52it/s]"
     ]
    },
    {
     "name": "stdout",
     "output_type": "stream",
     "text": [
      "torch.Size([2000, 76, 6])\n"
     ]
    },
    {
     "name": "stderr",
     "output_type": "stream",
     "text": [
      " 49%|████████████████████████████████████████████████████████████████████████████████████▋                                                                                       | 192/390 [00:42<00:43,  4.52it/s]"
     ]
    },
    {
     "name": "stdout",
     "output_type": "stream",
     "text": [
      "torch.Size([2000, 76, 6])\n"
     ]
    },
    {
     "name": "stderr",
     "output_type": "stream",
     "text": [
      " 49%|█████████████████████████████████████████████████████████████████████████████████████                                                                                       | 193/390 [00:43<00:43,  4.53it/s]"
     ]
    },
    {
     "name": "stdout",
     "output_type": "stream",
     "text": [
      "torch.Size([2000, 75, 6])\n"
     ]
    },
    {
     "name": "stderr",
     "output_type": "stream",
     "text": [
      " 50%|█████████████████████████████████████████████████████████████████████████████████████▌                                                                                      | 194/390 [00:43<00:42,  4.56it/s]"
     ]
    },
    {
     "name": "stdout",
     "output_type": "stream",
     "text": [
      "torch.Size([2000, 74, 6])\n"
     ]
    },
    {
     "name": "stderr",
     "output_type": "stream",
     "text": [
      " 50%|██████████████████████████████████████████████████████████████████████████████████████                                                                                      | 195/390 [00:43<00:42,  4.58it/s]"
     ]
    },
    {
     "name": "stdout",
     "output_type": "stream",
     "text": [
      "torch.Size([2000, 74, 6])\n"
     ]
    },
    {
     "name": "stderr",
     "output_type": "stream",
     "text": [
      " 50%|██████████████████████████████████████████████████████████████████████████████████████▍                                                                                     | 196/390 [00:43<00:42,  4.52it/s]"
     ]
    },
    {
     "name": "stdout",
     "output_type": "stream",
     "text": [
      "torch.Size([2000, 79, 6])\n"
     ]
    },
    {
     "name": "stderr",
     "output_type": "stream",
     "text": [
      " 51%|██████████████████████████████████████████████████████████████████████████████████████▉                                                                                     | 197/390 [00:44<00:42,  4.51it/s]"
     ]
    },
    {
     "name": "stdout",
     "output_type": "stream",
     "text": [
      "torch.Size([2000, 78, 6])\n"
     ]
    },
    {
     "name": "stderr",
     "output_type": "stream",
     "text": [
      " 51%|███████████████████████████████████████████████████████████████████████████████████████▎                                                                                    | 198/390 [00:44<00:42,  4.53it/s]"
     ]
    },
    {
     "name": "stdout",
     "output_type": "stream",
     "text": [
      "torch.Size([2000, 76, 6])\n"
     ]
    },
    {
     "name": "stderr",
     "output_type": "stream",
     "text": [
      " 51%|███████████████████████████████████████████████████████████████████████████████████████▊                                                                                    | 199/390 [00:44<00:42,  4.48it/s]"
     ]
    },
    {
     "name": "stdout",
     "output_type": "stream",
     "text": [
      "torch.Size([2000, 80, 6])\n"
     ]
    },
    {
     "name": "stderr",
     "output_type": "stream",
     "text": [
      " 51%|████████████████████████████████████████████████████████████████████████████████████████▏                                                                                   | 200/390 [00:44<00:42,  4.51it/s]"
     ]
    },
    {
     "name": "stdout",
     "output_type": "stream",
     "text": [
      "torch.Size([2000, 75, 6])\n"
     ]
    },
    {
     "name": "stderr",
     "output_type": "stream",
     "text": [
      " 52%|████████████████████████████████████████████████████████████████████████████████████████▋                                                                                   | 201/390 [00:44<00:41,  4.54it/s]"
     ]
    },
    {
     "name": "stdout",
     "output_type": "stream",
     "text": [
      "torch.Size([2000, 74, 6])\n"
     ]
    },
    {
     "name": "stderr",
     "output_type": "stream",
     "text": [
      " 52%|█████████████████████████████████████████████████████████████████████████████████████████                                                                                   | 202/390 [00:45<00:41,  4.51it/s]"
     ]
    },
    {
     "name": "stdout",
     "output_type": "stream",
     "text": [
      "torch.Size([2000, 78, 6])\n"
     ]
    },
    {
     "name": "stderr",
     "output_type": "stream",
     "text": [
      " 52%|█████████████████████████████████████████████████████████████████████████████████████████▌                                                                                  | 203/390 [00:45<00:53,  3.51it/s]"
     ]
    },
    {
     "name": "stdout",
     "output_type": "stream",
     "text": [
      "torch.Size([2000, 75, 6])\n"
     ]
    },
    {
     "name": "stderr",
     "output_type": "stream",
     "text": [
      " 52%|█████████████████████████████████████████████████████████████████████████████████████████▉                                                                                  | 204/390 [00:45<00:49,  3.78it/s]"
     ]
    },
    {
     "name": "stdout",
     "output_type": "stream",
     "text": [
      "torch.Size([2000, 75, 6])\n"
     ]
    },
    {
     "name": "stderr",
     "output_type": "stream",
     "text": [
      " 53%|██████████████████████████████████████████████████████████████████████████████████████████▍                                                                                 | 205/390 [00:46<00:46,  3.99it/s]"
     ]
    },
    {
     "name": "stdout",
     "output_type": "stream",
     "text": [
      "torch.Size([2000, 74, 6])\n"
     ]
    },
    {
     "name": "stderr",
     "output_type": "stream",
     "text": [
      " 53%|██████████████████████████████████████████████████████████████████████████████████████████▊                                                                                 | 206/390 [00:46<00:44,  4.16it/s]"
     ]
    },
    {
     "name": "stdout",
     "output_type": "stream",
     "text": [
      "torch.Size([2000, 75, 6])\n"
     ]
    },
    {
     "name": "stderr",
     "output_type": "stream",
     "text": [
      " 53%|███████████████████████████████████████████████████████████████████████████████████████████▎                                                                                | 207/390 [00:46<00:42,  4.31it/s]"
     ]
    },
    {
     "name": "stdout",
     "output_type": "stream",
     "text": [
      "torch.Size([2000, 72, 6])\n"
     ]
    },
    {
     "name": "stderr",
     "output_type": "stream",
     "text": [
      " 53%|███████████████████████████████████████████████████████████████████████████████████████████▋                                                                                | 208/390 [00:46<00:41,  4.41it/s]"
     ]
    },
    {
     "name": "stdout",
     "output_type": "stream",
     "text": [
      "torch.Size([2000, 73, 6])\n"
     ]
    },
    {
     "name": "stderr",
     "output_type": "stream",
     "text": [
      " 54%|████████████████████████████████████████████████████████████████████████████████████████████▏                                                                               | 209/390 [00:46<00:40,  4.47it/s]"
     ]
    },
    {
     "name": "stdout",
     "output_type": "stream",
     "text": [
      "torch.Size([2000, 74, 6])\n"
     ]
    },
    {
     "name": "stderr",
     "output_type": "stream",
     "text": [
      " 54%|████████████████████████████████████████████████████████████████████████████████████████████▌                                                                               | 210/390 [00:47<00:40,  4.39it/s]"
     ]
    },
    {
     "name": "stdout",
     "output_type": "stream",
     "text": [
      "torch.Size([2000, 85, 6])\n"
     ]
    },
    {
     "name": "stderr",
     "output_type": "stream",
     "text": [
      " 54%|█████████████████████████████████████████████████████████████████████████████████████████████                                                                               | 211/390 [00:47<00:40,  4.45it/s]"
     ]
    },
    {
     "name": "stdout",
     "output_type": "stream",
     "text": [
      "torch.Size([2000, 75, 6])\n"
     ]
    },
    {
     "name": "stderr",
     "output_type": "stream",
     "text": [
      " 54%|█████████████████████████████████████████████████████████████████████████████████████████████▍                                                                              | 212/390 [00:47<00:39,  4.46it/s]"
     ]
    },
    {
     "name": "stdout",
     "output_type": "stream",
     "text": [
      "torch.Size([2000, 77, 6])\n"
     ]
    },
    {
     "name": "stderr",
     "output_type": "stream",
     "text": [
      " 55%|█████████████████████████████████████████████████████████████████████████████████████████████▉                                                                              | 213/390 [00:47<00:40,  4.37it/s]"
     ]
    },
    {
     "name": "stdout",
     "output_type": "stream",
     "text": [
      "torch.Size([2000, 86, 6])\n"
     ]
    },
    {
     "name": "stderr",
     "output_type": "stream",
     "text": [
      " 55%|██████████████████████████████████████████████████████████████████████████████████████████████▍                                                                             | 214/390 [00:48<00:39,  4.45it/s]"
     ]
    },
    {
     "name": "stdout",
     "output_type": "stream",
     "text": [
      "torch.Size([2000, 74, 6])\n"
     ]
    },
    {
     "name": "stderr",
     "output_type": "stream",
     "text": [
      " 55%|██████████████████████████████████████████████████████████████████████████████████████████████▊                                                                             | 215/390 [00:48<00:39,  4.47it/s]"
     ]
    },
    {
     "name": "stdout",
     "output_type": "stream",
     "text": [
      "torch.Size([2000, 76, 6])\n"
     ]
    },
    {
     "name": "stderr",
     "output_type": "stream",
     "text": [
      " 55%|███████████████████████████████████████████████████████████████████████████████████████████████▎                                                                            | 216/390 [00:48<00:38,  4.50it/s]"
     ]
    },
    {
     "name": "stdout",
     "output_type": "stream",
     "text": [
      "torch.Size([2000, 75, 6])\n"
     ]
    },
    {
     "name": "stderr",
     "output_type": "stream",
     "text": [
      " 56%|███████████████████████████████████████████████████████████████████████████████████████████████▋                                                                            | 217/390 [00:48<00:38,  4.52it/s]"
     ]
    },
    {
     "name": "stdout",
     "output_type": "stream",
     "text": [
      "torch.Size([2000, 75, 6])\n"
     ]
    },
    {
     "name": "stderr",
     "output_type": "stream",
     "text": [
      " 56%|████████████████████████████████████████████████████████████████████████████████████████████████▏                                                                           | 218/390 [00:48<00:38,  4.51it/s]"
     ]
    },
    {
     "name": "stdout",
     "output_type": "stream",
     "text": [
      "torch.Size([2000, 77, 6])\n"
     ]
    },
    {
     "name": "stderr",
     "output_type": "stream",
     "text": [
      " 56%|████████████████████████████████████████████████████████████████████████████████████████████████▌                                                                           | 219/390 [00:49<00:38,  4.48it/s]"
     ]
    },
    {
     "name": "stdout",
     "output_type": "stream",
     "text": [
      "torch.Size([2000, 80, 6])\n"
     ]
    },
    {
     "name": "stderr",
     "output_type": "stream",
     "text": [
      " 56%|█████████████████████████████████████████████████████████████████████████████████████████████████                                                                           | 220/390 [00:49<00:37,  4.48it/s]"
     ]
    },
    {
     "name": "stdout",
     "output_type": "stream",
     "text": [
      "torch.Size([2000, 78, 6])\n"
     ]
    },
    {
     "name": "stderr",
     "output_type": "stream",
     "text": [
      " 57%|█████████████████████████████████████████████████████████████████████████████████████████████████▍                                                                          | 221/390 [00:49<00:37,  4.50it/s]"
     ]
    },
    {
     "name": "stdout",
     "output_type": "stream",
     "text": [
      "torch.Size([2000, 74, 6])\n"
     ]
    },
    {
     "name": "stderr",
     "output_type": "stream",
     "text": [
      " 57%|█████████████████████████████████████████████████████████████████████████████████████████████████▉                                                                          | 222/390 [00:49<00:37,  4.49it/s]"
     ]
    },
    {
     "name": "stdout",
     "output_type": "stream",
     "text": [
      "torch.Size([2000, 78, 6])\n"
     ]
    },
    {
     "name": "stderr",
     "output_type": "stream",
     "text": [
      " 57%|██████████████████████████████████████████████████████████████████████████████████████████████████▎                                                                         | 223/390 [00:50<00:36,  4.55it/s]"
     ]
    },
    {
     "name": "stdout",
     "output_type": "stream",
     "text": [
      "torch.Size([2000, 72, 6])\n"
     ]
    },
    {
     "name": "stderr",
     "output_type": "stream",
     "text": [
      " 57%|██████████████████████████████████████████████████████████████████████████████████████████████████▊                                                                         | 224/390 [00:50<00:36,  4.52it/s]"
     ]
    },
    {
     "name": "stdout",
     "output_type": "stream",
     "text": [
      "torch.Size([2000, 78, 6])\n"
     ]
    },
    {
     "name": "stderr",
     "output_type": "stream",
     "text": [
      " 58%|███████████████████████████████████████████████████████████████████████████████████████████████████▏                                                                        | 225/390 [00:50<00:36,  4.55it/s]"
     ]
    },
    {
     "name": "stdout",
     "output_type": "stream",
     "text": [
      "torch.Size([2000, 74, 6])\n"
     ]
    },
    {
     "name": "stderr",
     "output_type": "stream",
     "text": [
      " 58%|███████████████████████████████████████████████████████████████████████████████████████████████████▋                                                                        | 226/390 [00:50<00:35,  4.57it/s]"
     ]
    },
    {
     "name": "stdout",
     "output_type": "stream",
     "text": [
      "torch.Size([2000, 74, 6])\n"
     ]
    },
    {
     "name": "stderr",
     "output_type": "stream",
     "text": [
      " 58%|████████████████████████████████████████████████████████████████████████████████████████████████████                                                                        | 227/390 [00:50<00:35,  4.57it/s]"
     ]
    },
    {
     "name": "stdout",
     "output_type": "stream",
     "text": [
      "torch.Size([2000, 75, 6])\n"
     ]
    },
    {
     "name": "stderr",
     "output_type": "stream",
     "text": [
      " 58%|████████████████████████████████████████████████████████████████████████████████████████████████████▌                                                                       | 228/390 [00:51<00:35,  4.57it/s]"
     ]
    },
    {
     "name": "stdout",
     "output_type": "stream",
     "text": [
      "torch.Size([2000, 75, 6])\n"
     ]
    },
    {
     "name": "stderr",
     "output_type": "stream",
     "text": [
      " 59%|████████████████████████████████████████████████████████████████████████████████████████████████████▉                                                                       | 229/390 [00:51<00:36,  4.46it/s]"
     ]
    },
    {
     "name": "stdout",
     "output_type": "stream",
     "text": [
      "torch.Size([2000, 78, 6])\n"
     ]
    },
    {
     "name": "stderr",
     "output_type": "stream",
     "text": [
      " 59%|█████████████████████████████████████████████████████████████████████████████████████████████████████▍                                                                      | 230/390 [00:51<00:35,  4.51it/s]"
     ]
    },
    {
     "name": "stdout",
     "output_type": "stream",
     "text": [
      "torch.Size([2000, 77, 6])\n"
     ]
    },
    {
     "name": "stderr",
     "output_type": "stream",
     "text": [
      " 59%|█████████████████████████████████████████████████████████████████████████████████████████████████████▉                                                                      | 231/390 [00:51<00:34,  4.56it/s]"
     ]
    },
    {
     "name": "stdout",
     "output_type": "stream",
     "text": [
      "torch.Size([2000, 75, 6])\n"
     ]
    },
    {
     "name": "stderr",
     "output_type": "stream",
     "text": [
      " 59%|██████████████████████████████████████████████████████████████████████████████████████████████████████▎                                                                     | 232/390 [00:52<00:35,  4.46it/s]"
     ]
    },
    {
     "name": "stdout",
     "output_type": "stream",
     "text": [
      "torch.Size([2000, 79, 6])\n"
     ]
    },
    {
     "name": "stderr",
     "output_type": "stream",
     "text": [
      " 60%|██████████████████████████████████████████████████████████████████████████████████████████████████████▊                                                                     | 233/390 [00:52<00:35,  4.48it/s]"
     ]
    },
    {
     "name": "stdout",
     "output_type": "stream",
     "text": [
      "torch.Size([2000, 79, 6])\n"
     ]
    },
    {
     "name": "stderr",
     "output_type": "stream",
     "text": [
      " 60%|███████████████████████████████████████████████████████████████████████████████████████████████████████▏                                                                    | 234/390 [00:52<00:34,  4.57it/s]"
     ]
    },
    {
     "name": "stdout",
     "output_type": "stream",
     "text": [
      "torch.Size([2000, 71, 6])\n"
     ]
    },
    {
     "name": "stderr",
     "output_type": "stream",
     "text": [
      " 60%|███████████████████████████████████████████████████████████████████████████████████████████████████████▋                                                                    | 235/390 [00:52<00:33,  4.59it/s]"
     ]
    },
    {
     "name": "stdout",
     "output_type": "stream",
     "text": [
      "torch.Size([2000, 77, 6])\n"
     ]
    },
    {
     "name": "stderr",
     "output_type": "stream",
     "text": [
      " 61%|████████████████████████████████████████████████████████████████████████████████████████████████████████                                                                    | 236/390 [00:53<00:44,  3.45it/s]"
     ]
    },
    {
     "name": "stdout",
     "output_type": "stream",
     "text": [
      "torch.Size([2000, 81, 6])\n"
     ]
    },
    {
     "name": "stderr",
     "output_type": "stream",
     "text": [
      " 61%|████████████████████████████████████████████████████████████████████████████████████████████████████████▌                                                                   | 237/390 [00:53<00:41,  3.72it/s]"
     ]
    },
    {
     "name": "stdout",
     "output_type": "stream",
     "text": [
      "torch.Size([2000, 77, 6])\n"
     ]
    },
    {
     "name": "stderr",
     "output_type": "stream",
     "text": [
      " 61%|████████████████████████████████████████████████████████████████████████████████████████████████████████▉                                                                   | 238/390 [00:53<00:38,  3.97it/s]"
     ]
    },
    {
     "name": "stdout",
     "output_type": "stream",
     "text": [
      "torch.Size([2000, 73, 6])\n"
     ]
    },
    {
     "name": "stderr",
     "output_type": "stream",
     "text": [
      " 61%|█████████████████████████████████████████████████████████████████████████████████████████████████████████▍                                                                  | 239/390 [00:53<00:36,  4.15it/s]"
     ]
    },
    {
     "name": "stdout",
     "output_type": "stream",
     "text": [
      "torch.Size([2000, 74, 6])\n"
     ]
    },
    {
     "name": "stderr",
     "output_type": "stream",
     "text": [
      " 62%|█████████████████████████████████████████████████████████████████████████████████████████████████████████▊                                                                  | 240/390 [00:54<00:35,  4.17it/s]"
     ]
    },
    {
     "name": "stdout",
     "output_type": "stream",
     "text": [
      "torch.Size([2000, 78, 6])\n"
     ]
    },
    {
     "name": "stderr",
     "output_type": "stream",
     "text": [
      " 62%|██████████████████████████████████████████████████████████████████████████████████████████████████████████▎                                                                 | 241/390 [00:54<00:35,  4.25it/s]"
     ]
    },
    {
     "name": "stdout",
     "output_type": "stream",
     "text": [
      "torch.Size([2000, 77, 6])\n"
     ]
    },
    {
     "name": "stderr",
     "output_type": "stream",
     "text": [
      " 62%|██████████████████████████████████████████████████████████████████████████████████████████████████████████▋                                                                 | 242/390 [00:54<00:34,  4.35it/s]"
     ]
    },
    {
     "name": "stdout",
     "output_type": "stream",
     "text": [
      "torch.Size([2000, 74, 6])\n"
     ]
    },
    {
     "name": "stderr",
     "output_type": "stream",
     "text": [
      " 62%|███████████████████████████████████████████████████████████████████████████████████████████████████████████▏                                                                | 243/390 [00:54<00:33,  4.37it/s]"
     ]
    },
    {
     "name": "stdout",
     "output_type": "stream",
     "text": [
      "torch.Size([2000, 73, 6])\n"
     ]
    },
    {
     "name": "stderr",
     "output_type": "stream",
     "text": [
      " 63%|███████████████████████████████████████████████████████████████████████████████████████████████████████████▌                                                                | 244/390 [00:54<00:32,  4.42it/s]"
     ]
    },
    {
     "name": "stdout",
     "output_type": "stream",
     "text": [
      "torch.Size([2000, 76, 6])\n"
     ]
    },
    {
     "name": "stderr",
     "output_type": "stream",
     "text": [
      " 63%|████████████████████████████████████████████████████████████████████████████████████████████████████████████                                                                | 245/390 [00:55<00:32,  4.45it/s]"
     ]
    },
    {
     "name": "stdout",
     "output_type": "stream",
     "text": [
      "torch.Size([2000, 77, 6])\n"
     ]
    },
    {
     "name": "stderr",
     "output_type": "stream",
     "text": [
      " 63%|████████████████████████████████████████████████████████████████████████████████████████████████████████████▍                                                               | 246/390 [00:55<00:31,  4.52it/s]"
     ]
    },
    {
     "name": "stdout",
     "output_type": "stream",
     "text": [
      "torch.Size([2000, 72, 6])\n"
     ]
    },
    {
     "name": "stderr",
     "output_type": "stream",
     "text": [
      " 63%|████████████████████████████████████████████████████████████████████████████████████████████████████████████▉                                                               | 247/390 [00:55<00:31,  4.50it/s]"
     ]
    },
    {
     "name": "stdout",
     "output_type": "stream",
     "text": [
      "torch.Size([2000, 78, 6])\n"
     ]
    },
    {
     "name": "stderr",
     "output_type": "stream",
     "text": [
      " 64%|█████████████████████████████████████████████████████████████████████████████████████████████████████████████▎                                                              | 248/390 [00:55<00:31,  4.47it/s]"
     ]
    },
    {
     "name": "stdout",
     "output_type": "stream",
     "text": [
      "torch.Size([2000, 80, 6])\n"
     ]
    },
    {
     "name": "stderr",
     "output_type": "stream",
     "text": [
      " 64%|█████████████████████████████████████████████████████████████████████████████████████████████████████████████▊                                                              | 249/390 [00:56<00:32,  4.39it/s]"
     ]
    },
    {
     "name": "stdout",
     "output_type": "stream",
     "text": [
      "torch.Size([2000, 83, 6])\n"
     ]
    },
    {
     "name": "stderr",
     "output_type": "stream",
     "text": [
      " 64%|██████████████████████████████████████████████████████████████████████████████████████████████████████████████▎                                                             | 250/390 [00:56<00:31,  4.46it/s]"
     ]
    },
    {
     "name": "stdout",
     "output_type": "stream",
     "text": [
      "torch.Size([2000, 73, 6])\n"
     ]
    },
    {
     "name": "stderr",
     "output_type": "stream",
     "text": [
      " 64%|██████████████████████████████████████████████████████████████████████████████████████████████████████████████▋                                                             | 251/390 [00:56<00:30,  4.49it/s]"
     ]
    },
    {
     "name": "stdout",
     "output_type": "stream",
     "text": [
      "torch.Size([2000, 75, 6])\n"
     ]
    },
    {
     "name": "stderr",
     "output_type": "stream",
     "text": [
      " 65%|███████████████████████████████████████████████████████████████████████████████████████████████████████████████▏                                                            | 252/390 [00:56<00:30,  4.53it/s]"
     ]
    },
    {
     "name": "stdout",
     "output_type": "stream",
     "text": [
      "torch.Size([2000, 74, 6])\n"
     ]
    },
    {
     "name": "stderr",
     "output_type": "stream",
     "text": [
      " 65%|███████████████████████████████████████████████████████████████████████████████████████████████████████████████▌                                                            | 253/390 [00:56<00:30,  4.55it/s]"
     ]
    },
    {
     "name": "stdout",
     "output_type": "stream",
     "text": [
      "torch.Size([2000, 75, 6])\n"
     ]
    },
    {
     "name": "stderr",
     "output_type": "stream",
     "text": [
      " 65%|████████████████████████████████████████████████████████████████████████████████████████████████████████████████                                                            | 254/390 [00:57<00:30,  4.50it/s]"
     ]
    },
    {
     "name": "stdout",
     "output_type": "stream",
     "text": [
      "torch.Size([2000, 79, 6])\n"
     ]
    },
    {
     "name": "stderr",
     "output_type": "stream",
     "text": [
      " 65%|████████████████████████████████████████████████████████████████████████████████████████████████████████████████▍                                                           | 255/390 [00:57<00:29,  4.50it/s]"
     ]
    },
    {
     "name": "stdout",
     "output_type": "stream",
     "text": [
      "torch.Size([2000, 77, 6])\n"
     ]
    },
    {
     "name": "stderr",
     "output_type": "stream",
     "text": [
      " 66%|████████████████████████████████████████████████████████████████████████████████████████████████████████████████▉                                                           | 256/390 [00:57<00:29,  4.56it/s]"
     ]
    },
    {
     "name": "stdout",
     "output_type": "stream",
     "text": [
      "torch.Size([2000, 72, 6])\n"
     ]
    },
    {
     "name": "stderr",
     "output_type": "stream",
     "text": [
      " 66%|█████████████████████████████████████████████████████████████████████████████████████████████████████████████████▎                                                          | 257/390 [00:57<00:29,  4.55it/s]"
     ]
    },
    {
     "name": "stdout",
     "output_type": "stream",
     "text": [
      "torch.Size([2000, 76, 6])\n"
     ]
    },
    {
     "name": "stderr",
     "output_type": "stream",
     "text": [
      " 66%|█████████████████████████████████████████████████████████████████████████████████████████████████████████████████▊                                                          | 258/390 [00:58<00:29,  4.49it/s]"
     ]
    },
    {
     "name": "stdout",
     "output_type": "stream",
     "text": [
      "torch.Size([2000, 81, 6])\n"
     ]
    },
    {
     "name": "stderr",
     "output_type": "stream",
     "text": [
      " 66%|██████████████████████████████████████████████████████████████████████████████████████████████████████████████████▏                                                         | 259/390 [00:58<00:29,  4.50it/s]"
     ]
    },
    {
     "name": "stdout",
     "output_type": "stream",
     "text": [
      "torch.Size([2000, 76, 6])\n"
     ]
    },
    {
     "name": "stderr",
     "output_type": "stream",
     "text": [
      " 67%|██████████████████████████████████████████████████████████████████████████████████████████████████████████████████▋                                                         | 260/390 [00:58<00:28,  4.52it/s]"
     ]
    },
    {
     "name": "stdout",
     "output_type": "stream",
     "text": [
      "torch.Size([2000, 74, 6])\n"
     ]
    },
    {
     "name": "stderr",
     "output_type": "stream",
     "text": [
      " 67%|███████████████████████████████████████████████████████████████████████████████████████████████████████████████████                                                         | 261/390 [00:58<00:28,  4.47it/s]"
     ]
    },
    {
     "name": "stdout",
     "output_type": "stream",
     "text": [
      "torch.Size([2000, 78, 6])\n"
     ]
    },
    {
     "name": "stderr",
     "output_type": "stream",
     "text": [
      " 67%|███████████████████████████████████████████████████████████████████████████████████████████████████████████████████▌                                                        | 262/390 [00:58<00:28,  4.46it/s]"
     ]
    },
    {
     "name": "stdout",
     "output_type": "stream",
     "text": [
      "torch.Size([2000, 78, 6])\n"
     ]
    },
    {
     "name": "stderr",
     "output_type": "stream",
     "text": [
      " 67%|███████████████████████████████████████████████████████████████████████████████████████████████████████████████████▉                                                        | 263/390 [00:59<00:28,  4.49it/s]"
     ]
    },
    {
     "name": "stdout",
     "output_type": "stream",
     "text": [
      "torch.Size([2000, 73, 6])\n"
     ]
    },
    {
     "name": "stderr",
     "output_type": "stream",
     "text": [
      " 68%|████████████████████████████████████████████████████████████████████████████████████████████████████████████████████▍                                                       | 264/390 [00:59<00:28,  4.42it/s]"
     ]
    },
    {
     "name": "stdout",
     "output_type": "stream",
     "text": [
      "torch.Size([2000, 83, 6])\n"
     ]
    },
    {
     "name": "stderr",
     "output_type": "stream",
     "text": [
      " 68%|████████████████████████████████████████████████████████████████████████████████████████████████████████████████████▊                                                       | 265/390 [00:59<00:28,  4.39it/s]"
     ]
    },
    {
     "name": "stdout",
     "output_type": "stream",
     "text": [
      "torch.Size([2000, 75, 6])\n"
     ]
    },
    {
     "name": "stderr",
     "output_type": "stream",
     "text": [
      " 68%|█████████████████████████████████████████████████████████████████████████████████████████████████████████████████████▎                                                      | 266/390 [00:59<00:27,  4.44it/s]"
     ]
    },
    {
     "name": "stdout",
     "output_type": "stream",
     "text": [
      "torch.Size([2000, 75, 6])\n"
     ]
    },
    {
     "name": "stderr",
     "output_type": "stream",
     "text": [
      " 68%|█████████████████████████████████████████████████████████████████████████████████████████████████████████████████████▊                                                      | 267/390 [01:00<00:27,  4.47it/s]"
     ]
    },
    {
     "name": "stdout",
     "output_type": "stream",
     "text": [
      "torch.Size([2000, 75, 6])\n"
     ]
    },
    {
     "name": "stderr",
     "output_type": "stream",
     "text": [
      " 69%|██████████████████████████████████████████████████████████████████████████████████████████████████████████████████████▏                                                     | 268/390 [01:00<00:34,  3.50it/s]"
     ]
    },
    {
     "name": "stdout",
     "output_type": "stream",
     "text": [
      "torch.Size([2000, 73, 6])\n"
     ]
    },
    {
     "name": "stderr",
     "output_type": "stream",
     "text": [
      " 69%|██████████████████████████████████████████████████████████████████████████████████████████████████████████████████████▋                                                     | 269/390 [01:00<00:32,  3.77it/s]"
     ]
    },
    {
     "name": "stdout",
     "output_type": "stream",
     "text": [
      "torch.Size([2000, 73, 6])\n"
     ]
    },
    {
     "name": "stderr",
     "output_type": "stream",
     "text": [
      " 69%|███████████████████████████████████████████████████████████████████████████████████████████████████████████████████████                                                     | 270/390 [01:00<00:30,  3.94it/s]"
     ]
    },
    {
     "name": "stdout",
     "output_type": "stream",
     "text": [
      "torch.Size([2000, 79, 6])\n"
     ]
    },
    {
     "name": "stderr",
     "output_type": "stream",
     "text": [
      " 69%|███████████████████████████████████████████████████████████████████████████████████████████████████████████████████████▌                                                    | 271/390 [01:01<00:29,  4.08it/s]"
     ]
    },
    {
     "name": "stdout",
     "output_type": "stream",
     "text": [
      "torch.Size([2000, 77, 6])\n"
     ]
    },
    {
     "name": "stderr",
     "output_type": "stream",
     "text": [
      " 70%|███████████████████████████████████████████████████████████████████████████████████████████████████████████████████████▉                                                    | 272/390 [01:01<00:28,  4.21it/s]"
     ]
    },
    {
     "name": "stdout",
     "output_type": "stream",
     "text": [
      "torch.Size([2000, 74, 6])\n"
     ]
    },
    {
     "name": "stderr",
     "output_type": "stream",
     "text": [
      " 70%|████████████████████████████████████████████████████████████████████████████████████████████████████████████████████████▍                                                   | 273/390 [01:01<00:27,  4.26it/s]"
     ]
    },
    {
     "name": "stdout",
     "output_type": "stream",
     "text": [
      "torch.Size([2000, 78, 6])\n"
     ]
    },
    {
     "name": "stderr",
     "output_type": "stream",
     "text": [
      " 70%|████████████████████████████████████████████████████████████████████████████████████████████████████████████████████████▊                                                   | 274/390 [01:01<00:26,  4.35it/s]"
     ]
    },
    {
     "name": "stdout",
     "output_type": "stream",
     "text": [
      "torch.Size([2000, 72, 6])\n"
     ]
    },
    {
     "name": "stderr",
     "output_type": "stream",
     "text": [
      " 71%|█████████████████████████████████████████████████████████████████████████████████████████████████████████████████████████▎                                                  | 275/390 [01:02<00:26,  4.40it/s]"
     ]
    },
    {
     "name": "stdout",
     "output_type": "stream",
     "text": [
      "torch.Size([2000, 74, 6])\n"
     ]
    },
    {
     "name": "stderr",
     "output_type": "stream",
     "text": [
      " 71%|█████████████████████████████████████████████████████████████████████████████████████████████████████████████████████████▋                                                  | 276/390 [01:02<00:25,  4.45it/s]"
     ]
    },
    {
     "name": "stdout",
     "output_type": "stream",
     "text": [
      "torch.Size([2000, 74, 6])\n"
     ]
    },
    {
     "name": "stderr",
     "output_type": "stream",
     "text": [
      " 71%|██████████████████████████████████████████████████████████████████████████████████████████████████████████████████████████▏                                                 | 277/390 [01:02<00:25,  4.49it/s]"
     ]
    },
    {
     "name": "stdout",
     "output_type": "stream",
     "text": [
      "torch.Size([2000, 73, 6])\n"
     ]
    },
    {
     "name": "stderr",
     "output_type": "stream",
     "text": [
      " 71%|██████████████████████████████████████████████████████████████████████████████████████████████████████████████████████████▌                                                 | 278/390 [01:02<00:25,  4.47it/s]"
     ]
    },
    {
     "name": "stdout",
     "output_type": "stream",
     "text": [
      "torch.Size([2000, 77, 6])\n"
     ]
    },
    {
     "name": "stderr",
     "output_type": "stream",
     "text": [
      " 72%|███████████████████████████████████████████████████████████████████████████████████████████████████████████████████████████                                                 | 279/390 [01:02<00:24,  4.49it/s]"
     ]
    },
    {
     "name": "stdout",
     "output_type": "stream",
     "text": [
      "torch.Size([2000, 74, 6])\n"
     ]
    },
    {
     "name": "stderr",
     "output_type": "stream",
     "text": [
      " 72%|███████████████████████████████████████████████████████████████████████████████████████████████████████████████████████████▍                                                | 280/390 [01:03<00:24,  4.46it/s]"
     ]
    },
    {
     "name": "stdout",
     "output_type": "stream",
     "text": [
      "torch.Size([2000, 77, 6])\n"
     ]
    },
    {
     "name": "stderr",
     "output_type": "stream",
     "text": [
      " 72%|███████████████████████████████████████████████████████████████████████████████████████████████████████████████████████████▉                                                | 281/390 [01:03<00:24,  4.46it/s]"
     ]
    },
    {
     "name": "stdout",
     "output_type": "stream",
     "text": [
      "torch.Size([2000, 76, 6])\n"
     ]
    },
    {
     "name": "stderr",
     "output_type": "stream",
     "text": [
      " 72%|████████████████████████████████████████████████████████████████████████████████████████████████████████████████████████████▎                                               | 282/390 [01:03<00:24,  4.44it/s]"
     ]
    },
    {
     "name": "stdout",
     "output_type": "stream",
     "text": [
      "torch.Size([2000, 77, 6])\n"
     ]
    },
    {
     "name": "stderr",
     "output_type": "stream",
     "text": [
      " 73%|████████████████████████████████████████████████████████████████████████████████████████████████████████████████████████████▊                                               | 283/390 [01:03<00:24,  4.41it/s]"
     ]
    },
    {
     "name": "stdout",
     "output_type": "stream",
     "text": [
      "torch.Size([2000, 78, 6])\n"
     ]
    },
    {
     "name": "stderr",
     "output_type": "stream",
     "text": [
      " 73%|█████████████████████████████████████████████████████████████████████████████████████████████████████████████████████████████▎                                              | 284/390 [01:04<00:24,  4.40it/s]"
     ]
    },
    {
     "name": "stdout",
     "output_type": "stream",
     "text": [
      "torch.Size([2000, 76, 6])\n"
     ]
    },
    {
     "name": "stderr",
     "output_type": "stream",
     "text": [
      " 73%|█████████████████████████████████████████████████████████████████████████████████████████████████████████████████████████████▋                                              | 285/390 [01:04<00:23,  4.38it/s]"
     ]
    },
    {
     "name": "stdout",
     "output_type": "stream",
     "text": [
      "torch.Size([2000, 79, 6])\n"
     ]
    },
    {
     "name": "stderr",
     "output_type": "stream",
     "text": [
      " 73%|██████████████████████████████████████████████████████████████████████████████████████████████████████████████████████████████▏                                             | 286/390 [01:04<00:23,  4.38it/s]"
     ]
    },
    {
     "name": "stdout",
     "output_type": "stream",
     "text": [
      "torch.Size([2000, 76, 6])\n"
     ]
    },
    {
     "name": "stderr",
     "output_type": "stream",
     "text": [
      " 74%|██████████████████████████████████████████████████████████████████████████████████████████████████████████████████████████████▌                                             | 287/390 [01:04<00:23,  4.39it/s]"
     ]
    },
    {
     "name": "stdout",
     "output_type": "stream",
     "text": [
      "torch.Size([2000, 77, 6])\n"
     ]
    },
    {
     "name": "stderr",
     "output_type": "stream",
     "text": [
      " 74%|███████████████████████████████████████████████████████████████████████████████████████████████████████████████████████████████                                             | 288/390 [01:04<00:23,  4.32it/s]"
     ]
    },
    {
     "name": "stdout",
     "output_type": "stream",
     "text": [
      "torch.Size([2000, 80, 6])\n"
     ]
    },
    {
     "name": "stderr",
     "output_type": "stream",
     "text": [
      " 74%|███████████████████████████████████████████████████████████████████████████████████████████████████████████████████████████████▍                                            | 289/390 [01:05<00:23,  4.29it/s]"
     ]
    },
    {
     "name": "stdout",
     "output_type": "stream",
     "text": [
      "torch.Size([2000, 82, 6])\n"
     ]
    },
    {
     "name": "stderr",
     "output_type": "stream",
     "text": [
      " 74%|███████████████████████████████████████████████████████████████████████████████████████████████████████████████████████████████▉                                            | 290/390 [01:05<00:23,  4.29it/s]"
     ]
    },
    {
     "name": "stdout",
     "output_type": "stream",
     "text": [
      "torch.Size([2000, 79, 6])\n"
     ]
    },
    {
     "name": "stderr",
     "output_type": "stream",
     "text": [
      " 75%|████████████████████████████████████████████████████████████████████████████████████████████████████████████████████████████████▎                                           | 291/390 [01:05<00:23,  4.27it/s]"
     ]
    },
    {
     "name": "stdout",
     "output_type": "stream",
     "text": [
      "torch.Size([2000, 81, 6])\n"
     ]
    },
    {
     "name": "stderr",
     "output_type": "stream",
     "text": [
      " 75%|████████████████████████████████████████████████████████████████████████████████████████████████████████████████████████████████▊                                           | 292/390 [01:05<00:22,  4.31it/s]"
     ]
    },
    {
     "name": "stdout",
     "output_type": "stream",
     "text": [
      "torch.Size([2000, 77, 6])\n"
     ]
    },
    {
     "name": "stderr",
     "output_type": "stream",
     "text": [
      " 75%|█████████████████████████████████████████████████████████████████████████████████████████████████████████████████████████████████▏                                          | 293/390 [01:06<00:22,  4.35it/s]"
     ]
    },
    {
     "name": "stdout",
     "output_type": "stream",
     "text": [
      "torch.Size([2000, 76, 6])\n"
     ]
    },
    {
     "name": "stderr",
     "output_type": "stream",
     "text": [
      " 75%|█████████████████████████████████████████████████████████████████████████████████████████████████████████████████████████████████▋                                          | 294/390 [01:06<00:22,  4.33it/s]"
     ]
    },
    {
     "name": "stdout",
     "output_type": "stream",
     "text": [
      "torch.Size([2000, 80, 6])\n"
     ]
    },
    {
     "name": "stderr",
     "output_type": "stream",
     "text": [
      " 76%|██████████████████████████████████████████████████████████████████████████████████████████████████████████████████████████████████                                          | 295/390 [01:06<00:21,  4.38it/s]"
     ]
    },
    {
     "name": "stdout",
     "output_type": "stream",
     "text": [
      "torch.Size([2000, 74, 6])\n"
     ]
    },
    {
     "name": "stderr",
     "output_type": "stream",
     "text": [
      " 76%|██████████████████████████████████████████████████████████████████████████████████████████████████████████████████████████████████▌                                         | 296/390 [01:06<00:21,  4.42it/s]"
     ]
    },
    {
     "name": "stdout",
     "output_type": "stream",
     "text": [
      "torch.Size([2000, 73, 6])\n"
     ]
    },
    {
     "name": "stderr",
     "output_type": "stream",
     "text": [
      " 76%|██████████████████████████████████████████████████████████████████████████████████████████████████████████████████████████████████▉                                         | 297/390 [01:07<00:20,  4.43it/s]"
     ]
    },
    {
     "name": "stdout",
     "output_type": "stream",
     "text": [
      "torch.Size([2000, 76, 6])\n"
     ]
    },
    {
     "name": "stderr",
     "output_type": "stream",
     "text": [
      " 76%|███████████████████████████████████████████████████████████████████████████████████████████████████████████████████████████████████▍                                        | 298/390 [01:07<00:26,  3.44it/s]"
     ]
    },
    {
     "name": "stdout",
     "output_type": "stream",
     "text": [
      "torch.Size([2000, 77, 6])\n"
     ]
    },
    {
     "name": "stderr",
     "output_type": "stream",
     "text": [
      " 77%|███████████████████████████████████████████████████████████████████████████████████████████████████████████████████████████████████▊                                        | 299/390 [01:07<00:24,  3.68it/s]"
     ]
    },
    {
     "name": "stdout",
     "output_type": "stream",
     "text": [
      "torch.Size([2000, 78, 6])\n"
     ]
    },
    {
     "name": "stderr",
     "output_type": "stream",
     "text": [
      " 77%|████████████████████████████████████████████████████████████████████████████████████████████████████████████████████████████████████▎                                       | 300/390 [01:07<00:23,  3.88it/s]"
     ]
    },
    {
     "name": "stdout",
     "output_type": "stream",
     "text": [
      "torch.Size([2000, 75, 6])\n"
     ]
    },
    {
     "name": "stderr",
     "output_type": "stream",
     "text": [
      " 77%|████████████████████████████████████████████████████████████████████████████████████████████████████████████████████████████████████▋                                       | 301/390 [01:08<00:21,  4.05it/s]"
     ]
    },
    {
     "name": "stdout",
     "output_type": "stream",
     "text": [
      "torch.Size([2000, 75, 6])\n"
     ]
    },
    {
     "name": "stderr",
     "output_type": "stream",
     "text": [
      " 77%|█████████████████████████████████████████████████████████████████████████████████████████████████████████████████████████████████████▏                                      | 302/390 [01:08<00:21,  4.14it/s]"
     ]
    },
    {
     "name": "stdout",
     "output_type": "stream",
     "text": [
      "torch.Size([2000, 78, 6])\n"
     ]
    },
    {
     "name": "stderr",
     "output_type": "stream",
     "text": [
      " 78%|█████████████████████████████████████████████████████████████████████████████████████████████████████████████████████████████████████▋                                      | 303/390 [01:08<00:20,  4.19it/s]"
     ]
    },
    {
     "name": "stdout",
     "output_type": "stream",
     "text": [
      "torch.Size([2000, 79, 6])\n"
     ]
    },
    {
     "name": "stderr",
     "output_type": "stream",
     "text": [
      " 78%|██████████████████████████████████████████████████████████████████████████████████████████████████████████████████████████████████████                                      | 304/390 [01:08<00:20,  4.29it/s]"
     ]
    },
    {
     "name": "stdout",
     "output_type": "stream",
     "text": [
      "torch.Size([2000, 73, 6])\n"
     ]
    },
    {
     "name": "stderr",
     "output_type": "stream",
     "text": [
      " 78%|██████████████████████████████████████████████████████████████████████████████████████████████████████████████████████████████████████▌                                     | 305/390 [01:09<00:19,  4.37it/s]"
     ]
    },
    {
     "name": "stdout",
     "output_type": "stream",
     "text": [
      "torch.Size([2000, 73, 6])\n"
     ]
    },
    {
     "name": "stderr",
     "output_type": "stream",
     "text": [
      " 78%|██████████████████████████████████████████████████████████████████████████████████████████████████████████████████████████████████████▉                                     | 306/390 [01:09<00:19,  4.35it/s]"
     ]
    },
    {
     "name": "stdout",
     "output_type": "stream",
     "text": [
      "torch.Size([2000, 79, 6])\n"
     ]
    },
    {
     "name": "stderr",
     "output_type": "stream",
     "text": [
      " 79%|███████████████████████████████████████████████████████████████████████████████████████████████████████████████████████████████████████▍                                    | 307/390 [01:09<00:19,  4.36it/s]"
     ]
    },
    {
     "name": "stdout",
     "output_type": "stream",
     "text": [
      "torch.Size([2000, 77, 6])\n"
     ]
    },
    {
     "name": "stderr",
     "output_type": "stream",
     "text": [
      " 79%|███████████████████████████████████████████████████████████████████████████████████████████████████████████████████████████████████████▊                                    | 308/390 [01:09<00:18,  4.34it/s]"
     ]
    },
    {
     "name": "stdout",
     "output_type": "stream",
     "text": [
      "torch.Size([2000, 73, 6])\n"
     ]
    },
    {
     "name": "stderr",
     "output_type": "stream",
     "text": [
      " 79%|████████████████████████████████████████████████████████████████████████████████████████████████████████████████████████████████████████▎                                   | 309/390 [01:09<00:18,  4.29it/s]"
     ]
    },
    {
     "name": "stdout",
     "output_type": "stream",
     "text": [
      "torch.Size([2000, 77, 6])\n"
     ]
    },
    {
     "name": "stderr",
     "output_type": "stream",
     "text": [
      " 79%|████████████████████████████████████████████████████████████████████████████████████████████████████████████████████████████████████████▋                                   | 310/390 [01:10<00:18,  4.28it/s]"
     ]
    },
    {
     "name": "stdout",
     "output_type": "stream",
     "text": [
      "torch.Size([2000, 80, 6])\n"
     ]
    },
    {
     "name": "stderr",
     "output_type": "stream",
     "text": [
      " 80%|█████████████████████████████████████████████████████████████████████████████████████████████████████████████████████████████████████████▏                                  | 311/390 [01:10<00:18,  4.35it/s]"
     ]
    },
    {
     "name": "stdout",
     "output_type": "stream",
     "text": [
      "torch.Size([2000, 73, 6])\n"
     ]
    },
    {
     "name": "stderr",
     "output_type": "stream",
     "text": [
      " 80%|█████████████████████████████████████████████████████████████████████████████████████████████████████████████████████████████████████████▌                                  | 312/390 [01:10<00:17,  4.41it/s]"
     ]
    },
    {
     "name": "stdout",
     "output_type": "stream",
     "text": [
      "torch.Size([2000, 72, 6])\n"
     ]
    },
    {
     "name": "stderr",
     "output_type": "stream",
     "text": [
      " 80%|██████████████████████████████████████████████████████████████████████████████████████████████████████████████████████████████████████████                                  | 313/390 [01:10<00:17,  4.37it/s]"
     ]
    },
    {
     "name": "stdout",
     "output_type": "stream",
     "text": [
      "torch.Size([2000, 81, 6])\n"
     ]
    },
    {
     "name": "stderr",
     "output_type": "stream",
     "text": [
      " 81%|██████████████████████████████████████████████████████████████████████████████████████████████████████████████████████████████████████████▍                                 | 314/390 [01:11<00:17,  4.38it/s]"
     ]
    },
    {
     "name": "stdout",
     "output_type": "stream",
     "text": [
      "torch.Size([2000, 77, 6])\n"
     ]
    },
    {
     "name": "stderr",
     "output_type": "stream",
     "text": [
      " 81%|██████████████████████████████████████████████████████████████████████████████████████████████████████████████████████████████████████████▉                                 | 315/390 [01:11<00:17,  4.36it/s]"
     ]
    },
    {
     "name": "stdout",
     "output_type": "stream",
     "text": [
      "torch.Size([2000, 80, 6])\n"
     ]
    },
    {
     "name": "stderr",
     "output_type": "stream",
     "text": [
      " 81%|███████████████████████████████████████████████████████████████████████████████████████████████████████████████████████████████████████████▎                                | 316/390 [01:11<00:16,  4.42it/s]"
     ]
    },
    {
     "name": "stdout",
     "output_type": "stream",
     "text": [
      "torch.Size([2000, 72, 6])\n"
     ]
    },
    {
     "name": "stderr",
     "output_type": "stream",
     "text": [
      " 81%|███████████████████████████████████████████████████████████████████████████████████████████████████████████████████████████████████████████▊                                | 317/390 [01:11<00:16,  4.41it/s]"
     ]
    },
    {
     "name": "stdout",
     "output_type": "stream",
     "text": [
      "torch.Size([2000, 76, 6])\n"
     ]
    },
    {
     "name": "stderr",
     "output_type": "stream",
     "text": [
      " 82%|████████████████████████████████████████████████████████████████████████████████████████████████████████████████████████████████████████████▏                               | 318/390 [01:12<00:16,  4.41it/s]"
     ]
    },
    {
     "name": "stdout",
     "output_type": "stream",
     "text": [
      "torch.Size([2000, 76, 6])\n"
     ]
    },
    {
     "name": "stderr",
     "output_type": "stream",
     "text": [
      " 82%|████████████████████████████████████████████████████████████████████████████████████████████████████████████████████████████████████████████▋                               | 319/390 [01:12<00:16,  4.39it/s]"
     ]
    },
    {
     "name": "stdout",
     "output_type": "stream",
     "text": [
      "torch.Size([2000, 78, 6])\n"
     ]
    },
    {
     "name": "stderr",
     "output_type": "stream",
     "text": [
      " 82%|█████████████████████████████████████████████████████████████████████████████████████████████████████████████████████████████████████████████▏                              | 320/390 [01:12<00:15,  4.41it/s]"
     ]
    },
    {
     "name": "stdout",
     "output_type": "stream",
     "text": [
      "torch.Size([2000, 74, 6])\n"
     ]
    },
    {
     "name": "stderr",
     "output_type": "stream",
     "text": [
      " 82%|█████████████████████████████████████████████████████████████████████████████████████████████████████████████████████████████████████████████▌                              | 321/390 [01:12<00:15,  4.42it/s]"
     ]
    },
    {
     "name": "stdout",
     "output_type": "stream",
     "text": [
      "torch.Size([2000, 75, 6])\n"
     ]
    },
    {
     "name": "stderr",
     "output_type": "stream",
     "text": [
      " 83%|██████████████████████████████████████████████████████████████████████████████████████████████████████████████████████████████████████████████                              | 322/390 [01:12<00:15,  4.41it/s]"
     ]
    },
    {
     "name": "stdout",
     "output_type": "stream",
     "text": [
      "torch.Size([2000, 77, 6])\n"
     ]
    },
    {
     "name": "stderr",
     "output_type": "stream",
     "text": [
      " 83%|██████████████████████████████████████████████████████████████████████████████████████████████████████████████████████████████████████████████▍                             | 323/390 [01:13<00:15,  4.39it/s]"
     ]
    },
    {
     "name": "stdout",
     "output_type": "stream",
     "text": [
      "torch.Size([2000, 78, 6])\n"
     ]
    },
    {
     "name": "stderr",
     "output_type": "stream",
     "text": [
      " 83%|██████████████████████████████████████████████████████████████████████████████████████████████████████████████████████████████████████████████▉                             | 324/390 [01:13<00:15,  4.37it/s]"
     ]
    },
    {
     "name": "stdout",
     "output_type": "stream",
     "text": [
      "torch.Size([2000, 80, 6])\n"
     ]
    },
    {
     "name": "stderr",
     "output_type": "stream",
     "text": [
      " 83%|███████████████████████████████████████████████████████████████████████████████████████████████████████████████████████████████████████████████▎                            | 325/390 [01:13<00:14,  4.41it/s]"
     ]
    },
    {
     "name": "stdout",
     "output_type": "stream",
     "text": [
      "torch.Size([2000, 74, 6])\n"
     ]
    },
    {
     "name": "stderr",
     "output_type": "stream",
     "text": [
      " 84%|███████████████████████████████████████████████████████████████████████████████████████████████████████████████████████████████████████████████▊                            | 326/390 [01:13<00:14,  4.40it/s]"
     ]
    },
    {
     "name": "stdout",
     "output_type": "stream",
     "text": [
      "torch.Size([2000, 78, 6])\n"
     ]
    },
    {
     "name": "stderr",
     "output_type": "stream",
     "text": [
      " 84%|████████████████████████████████████████████████████████████████████████████████████████████████████████████████████████████████████████████████▏                           | 327/390 [01:14<00:14,  4.36it/s]"
     ]
    },
    {
     "name": "stdout",
     "output_type": "stream",
     "text": [
      "torch.Size([2000, 79, 6])\n"
     ]
    },
    {
     "name": "stderr",
     "output_type": "stream",
     "text": [
      " 84%|████████████████████████████████████████████████████████████████████████████████████████████████████████████████████████████████████████████████▋                           | 328/390 [01:14<00:14,  4.39it/s]"
     ]
    },
    {
     "name": "stdout",
     "output_type": "stream",
     "text": [
      "torch.Size([2000, 74, 6])\n"
     ]
    },
    {
     "name": "stderr",
     "output_type": "stream",
     "text": [
      " 84%|█████████████████████████████████████████████████████████████████████████████████████████████████████████████████████████████████████████████████                           | 329/390 [01:14<00:13,  4.38it/s]"
     ]
    },
    {
     "name": "stdout",
     "output_type": "stream",
     "text": [
      "torch.Size([2000, 77, 6])\n"
     ]
    },
    {
     "name": "stderr",
     "output_type": "stream",
     "text": [
      " 85%|█████████████████████████████████████████████████████████████████████████████████████████████████████████████████████████████████████████████████▌                          | 330/390 [01:14<00:13,  4.35it/s]"
     ]
    },
    {
     "name": "stdout",
     "output_type": "stream",
     "text": [
      "torch.Size([2000, 79, 6])\n"
     ]
    },
    {
     "name": "stderr",
     "output_type": "stream",
     "text": [
      " 85%|█████████████████████████████████████████████████████████████████████████████████████████████████████████████████████████████████████████████████▉                          | 331/390 [01:14<00:13,  4.43it/s]"
     ]
    },
    {
     "name": "stdout",
     "output_type": "stream",
     "text": [
      "torch.Size([2000, 71, 6])\n"
     ]
    },
    {
     "name": "stderr",
     "output_type": "stream",
     "text": [
      " 85%|██████████████████████████████████████████████████████████████████████████████████████████████████████████████████████████████████████████████████▍                         | 332/390 [01:15<00:16,  3.45it/s]"
     ]
    },
    {
     "name": "stdout",
     "output_type": "stream",
     "text": [
      "torch.Size([2000, 75, 6])\n"
     ]
    },
    {
     "name": "stderr",
     "output_type": "stream",
     "text": [
      " 85%|██████████████████████████████████████████████████████████████████████████████████████████████████████████████████████████████████████████████████▊                         | 333/390 [01:15<00:15,  3.67it/s]"
     ]
    },
    {
     "name": "stdout",
     "output_type": "stream",
     "text": [
      "torch.Size([2000, 78, 6])\n"
     ]
    },
    {
     "name": "stderr",
     "output_type": "stream",
     "text": [
      " 86%|███████████████████████████████████████████████████████████████████████████████████████████████████████████████████████████████████████████████████▎                        | 334/390 [01:15<00:14,  3.84it/s]"
     ]
    },
    {
     "name": "stdout",
     "output_type": "stream",
     "text": [
      "torch.Size([2000, 80, 6])\n"
     ]
    },
    {
     "name": "stderr",
     "output_type": "stream",
     "text": [
      " 86%|███████████████████████████████████████████████████████████████████████████████████████████████████████████████████████████████████████████████████▋                        | 335/390 [01:16<00:13,  3.99it/s]"
     ]
    },
    {
     "name": "stdout",
     "output_type": "stream",
     "text": [
      "torch.Size([2000, 77, 6])\n"
     ]
    },
    {
     "name": "stderr",
     "output_type": "stream",
     "text": [
      " 86%|████████████████████████████████████████████████████████████████████████████████████████████████████████████████████████████████████████████████████▏                       | 336/390 [01:16<00:13,  4.09it/s]"
     ]
    },
    {
     "name": "stdout",
     "output_type": "stream",
     "text": [
      "torch.Size([2000, 77, 6])\n"
     ]
    },
    {
     "name": "stderr",
     "output_type": "stream",
     "text": [
      " 86%|████████████████████████████████████████████████████████████████████████████████████████████████████████████████████████████████████████████████████▋                       | 337/390 [01:16<00:12,  4.13it/s]"
     ]
    },
    {
     "name": "stdout",
     "output_type": "stream",
     "text": [
      "torch.Size([2000, 81, 6])\n"
     ]
    },
    {
     "name": "stderr",
     "output_type": "stream",
     "text": [
      " 87%|█████████████████████████████████████████████████████████████████████████████████████████████████████████████████████████████████████████████████████                       | 338/390 [01:16<00:12,  4.22it/s]"
     ]
    },
    {
     "name": "stdout",
     "output_type": "stream",
     "text": [
      "torch.Size([2000, 75, 6])\n"
     ]
    },
    {
     "name": "stderr",
     "output_type": "stream",
     "text": [
      " 87%|█████████████████████████████████████████████████████████████████████████████████████████████████████████████████████████████████████████████████████▌                      | 339/390 [01:17<00:12,  4.22it/s]"
     ]
    },
    {
     "name": "stdout",
     "output_type": "stream",
     "text": [
      "torch.Size([2000, 82, 6])\n"
     ]
    },
    {
     "name": "stderr",
     "output_type": "stream",
     "text": [
      " 87%|█████████████████████████████████████████████████████████████████████████████████████████████████████████████████████████████████████████████████████▉                      | 340/390 [01:17<00:11,  4.34it/s]"
     ]
    },
    {
     "name": "stdout",
     "output_type": "stream",
     "text": [
      "torch.Size([2000, 70, 6])\n"
     ]
    },
    {
     "name": "stderr",
     "output_type": "stream",
     "text": [
      " 87%|██████████████████████████████████████████████████████████████████████████████████████████████████████████████████████████████████████████████████████▍                     | 341/390 [01:17<00:11,  4.35it/s]"
     ]
    },
    {
     "name": "stdout",
     "output_type": "stream",
     "text": [
      "torch.Size([2000, 77, 6])\n"
     ]
    },
    {
     "name": "stderr",
     "output_type": "stream",
     "text": [
      " 88%|██████████████████████████████████████████████████████████████████████████████████████████████████████████████████████████████████████████████████████▊                     | 342/390 [01:17<00:10,  4.37it/s]"
     ]
    },
    {
     "name": "stdout",
     "output_type": "stream",
     "text": [
      "torch.Size([2000, 76, 6])\n"
     ]
    },
    {
     "name": "stderr",
     "output_type": "stream",
     "text": [
      " 88%|███████████████████████████████████████████████████████████████████████████████████████████████████████████████████████████████████████████████████████▎                    | 343/390 [01:17<00:10,  4.41it/s]"
     ]
    },
    {
     "name": "stdout",
     "output_type": "stream",
     "text": [
      "torch.Size([2000, 73, 6])\n"
     ]
    },
    {
     "name": "stderr",
     "output_type": "stream",
     "text": [
      " 88%|███████████████████████████████████████████████████████████████████████████████████████████████████████████████████████████████████████████████████████▋                    | 344/390 [01:18<00:10,  4.42it/s]"
     ]
    },
    {
     "name": "stdout",
     "output_type": "stream",
     "text": [
      "torch.Size([2000, 74, 6])\n"
     ]
    },
    {
     "name": "stderr",
     "output_type": "stream",
     "text": [
      " 88%|████████████████████████████████████████████████████████████████████████████████████████████████████████████████████████████████████████████████████████▏                   | 345/390 [01:18<00:10,  4.41it/s]"
     ]
    },
    {
     "name": "stdout",
     "output_type": "stream",
     "text": [
      "torch.Size([2000, 75, 6])\n"
     ]
    },
    {
     "name": "stderr",
     "output_type": "stream",
     "text": [
      " 89%|████████████████████████████████████████████████████████████████████████████████████████████████████████████████████████████████████████████████████████▌                   | 346/390 [01:18<00:09,  4.41it/s]"
     ]
    },
    {
     "name": "stdout",
     "output_type": "stream",
     "text": [
      "torch.Size([2000, 75, 6])\n"
     ]
    },
    {
     "name": "stderr",
     "output_type": "stream",
     "text": [
      " 89%|█████████████████████████████████████████████████████████████████████████████████████████████████████████████████████████████████████████████████████████                   | 347/390 [01:18<00:09,  4.34it/s]"
     ]
    },
    {
     "name": "stdout",
     "output_type": "stream",
     "text": [
      "torch.Size([2000, 77, 6])\n"
     ]
    },
    {
     "name": "stderr",
     "output_type": "stream",
     "text": [
      " 89%|█████████████████████████████████████████████████████████████████████████████████████████████████████████████████████████████████████████████████████████▍                  | 348/390 [01:19<00:09,  4.41it/s]"
     ]
    },
    {
     "name": "stdout",
     "output_type": "stream",
     "text": [
      "torch.Size([2000, 73, 6])\n"
     ]
    },
    {
     "name": "stderr",
     "output_type": "stream",
     "text": [
      " 89%|█████████████████████████████████████████████████████████████████████████████████████████████████████████████████████████████████████████████████████████▉                  | 349/390 [01:19<00:09,  4.41it/s]"
     ]
    },
    {
     "name": "stdout",
     "output_type": "stream",
     "text": [
      "torch.Size([2000, 77, 6])\n"
     ]
    },
    {
     "name": "stderr",
     "output_type": "stream",
     "text": [
      " 90%|██████████████████████████████████████████████████████████████████████████████████████████████████████████████████████████████████████████████████████████▎                 | 350/390 [01:19<00:08,  4.45it/s]"
     ]
    },
    {
     "name": "stdout",
     "output_type": "stream",
     "text": [
      "torch.Size([2000, 73, 6])\n"
     ]
    },
    {
     "name": "stderr",
     "output_type": "stream",
     "text": [
      " 90%|██████████████████████████████████████████████████████████████████████████████████████████████████████████████████████████████████████████████████████████▊                 | 351/390 [01:19<00:08,  4.41it/s]"
     ]
    },
    {
     "name": "stdout",
     "output_type": "stream",
     "text": [
      "torch.Size([2000, 79, 6])\n"
     ]
    },
    {
     "name": "stderr",
     "output_type": "stream",
     "text": [
      " 90%|███████████████████████████████████████████████████████████████████████████████████████████████████████████████████████████████████████████████████████████▏                | 352/390 [01:19<00:08,  4.43it/s]"
     ]
    },
    {
     "name": "stdout",
     "output_type": "stream",
     "text": [
      "torch.Size([2000, 76, 6])\n"
     ]
    },
    {
     "name": "stderr",
     "output_type": "stream",
     "text": [
      " 91%|███████████████████████████████████████████████████████████████████████████████████████████████████████████████████████████████████████████████████████████▋                | 353/390 [01:20<00:08,  4.36it/s]"
     ]
    },
    {
     "name": "stdout",
     "output_type": "stream",
     "text": [
      "torch.Size([2000, 83, 6])\n"
     ]
    },
    {
     "name": "stderr",
     "output_type": "stream",
     "text": [
      " 91%|████████████████████████████████████████████████████████████████████████████████████████████████████████████████████████████████████████████████████████████                | 354/390 [01:20<00:08,  4.34it/s]"
     ]
    },
    {
     "name": "stdout",
     "output_type": "stream",
     "text": [
      "torch.Size([2000, 81, 6])\n"
     ]
    },
    {
     "name": "stderr",
     "output_type": "stream",
     "text": [
      " 91%|████████████████████████████████████████████████████████████████████████████████████████████████████████████████████████████████████████████████████████████▌               | 355/390 [01:20<00:08,  4.34it/s]"
     ]
    },
    {
     "name": "stdout",
     "output_type": "stream",
     "text": [
      "torch.Size([2000, 79, 6])\n"
     ]
    },
    {
     "name": "stderr",
     "output_type": "stream",
     "text": [
      " 91%|█████████████████████████████████████████████████████████████████████████████████████████████████████████████████████████████████████████████████████████████               | 356/390 [01:20<00:07,  4.32it/s]"
     ]
    },
    {
     "name": "stdout",
     "output_type": "stream",
     "text": [
      "torch.Size([2000, 80, 6])\n"
     ]
    },
    {
     "name": "stderr",
     "output_type": "stream",
     "text": [
      " 92%|█████████████████████████████████████████████████████████████████████████████████████████████████████████████████████████████████████████████████████████████▍              | 357/390 [01:21<00:07,  4.35it/s]"
     ]
    },
    {
     "name": "stdout",
     "output_type": "stream",
     "text": [
      "torch.Size([2000, 76, 6])\n"
     ]
    },
    {
     "name": "stderr",
     "output_type": "stream",
     "text": [
      " 92%|█████████████████████████████████████████████████████████████████████████████████████████████████████████████████████████████████████████████████████████████▉              | 358/390 [01:21<00:07,  4.34it/s]"
     ]
    },
    {
     "name": "stdout",
     "output_type": "stream",
     "text": [
      "torch.Size([2000, 73, 6])\n"
     ]
    },
    {
     "name": "stderr",
     "output_type": "stream",
     "text": [
      " 92%|██████████████████████████████████████████████████████████████████████████████████████████████████████████████████████████████████████████████████████████████▎             | 359/390 [01:21<00:07,  4.37it/s]"
     ]
    },
    {
     "name": "stdout",
     "output_type": "stream",
     "text": [
      "torch.Size([2000, 74, 6])\n"
     ]
    },
    {
     "name": "stderr",
     "output_type": "stream",
     "text": [
      " 92%|██████████████████████████████████████████████████████████████████████████████████████████████████████████████████████████████████████████████████████████████▊             | 360/390 [01:21<00:06,  4.37it/s]"
     ]
    },
    {
     "name": "stdout",
     "output_type": "stream",
     "text": [
      "torch.Size([2000, 76, 6])\n"
     ]
    },
    {
     "name": "stderr",
     "output_type": "stream",
     "text": [
      " 93%|███████████████████████████████████████████████████████████████████████████████████████████████████████████████████████████████████████████████████████████████▏            | 361/390 [01:22<00:06,  4.36it/s]"
     ]
    },
    {
     "name": "stdout",
     "output_type": "stream",
     "text": [
      "torch.Size([2000, 75, 6])\n"
     ]
    },
    {
     "name": "stderr",
     "output_type": "stream",
     "text": [
      " 93%|███████████████████████████████████████████████████████████████████████████████████████████████████████████████████████████████████████████████████████████████▋            | 362/390 [01:22<00:06,  4.31it/s]"
     ]
    },
    {
     "name": "stdout",
     "output_type": "stream",
     "text": [
      "torch.Size([2000, 75, 6])\n"
     ]
    },
    {
     "name": "stderr",
     "output_type": "stream",
     "text": [
      " 93%|████████████████████████████████████████████████████████████████████████████████████████████████████████████████████████████████████████████████████████████████            | 363/390 [01:22<00:06,  4.35it/s]"
     ]
    },
    {
     "name": "stdout",
     "output_type": "stream",
     "text": [
      "torch.Size([2000, 77, 6])\n"
     ]
    },
    {
     "name": "stderr",
     "output_type": "stream",
     "text": [
      " 93%|████████████████████████████████████████████████████████████████████████████████████████████████████████████████████████████████████████████████████████████████▌           | 364/390 [01:22<00:05,  4.44it/s]"
     ]
    },
    {
     "name": "stdout",
     "output_type": "stream",
     "text": [
      "torch.Size([2000, 71, 6])\n"
     ]
    },
    {
     "name": "stderr",
     "output_type": "stream",
     "text": [
      " 94%|████████████████████████████████████████████████████████████████████████████████████████████████████████████████████████████████████████████████████████████████▉           | 365/390 [01:23<00:07,  3.44it/s]"
     ]
    },
    {
     "name": "stdout",
     "output_type": "stream",
     "text": [
      "torch.Size([2000, 78, 6])\n"
     ]
    },
    {
     "name": "stderr",
     "output_type": "stream",
     "text": [
      " 94%|█████████████████████████████████████████████████████████████████████████████████████████████████████████████████████████████████████████████████████████████████▍          | 366/390 [01:23<00:06,  3.64it/s]"
     ]
    },
    {
     "name": "stdout",
     "output_type": "stream",
     "text": [
      "torch.Size([2000, 74, 6])\n"
     ]
    },
    {
     "name": "stderr",
     "output_type": "stream",
     "text": [
      " 94%|█████████████████████████████████████████████████████████████████████████████████████████████████████████████████████████████████████████████████████████████████▊          | 367/390 [01:23<00:05,  3.85it/s]"
     ]
    },
    {
     "name": "stdout",
     "output_type": "stream",
     "text": [
      "torch.Size([2000, 73, 6])\n"
     ]
    },
    {
     "name": "stderr",
     "output_type": "stream",
     "text": [
      " 94%|██████████████████████████████████████████████████████████████████████████████████████████████████████████████████████████████████████████████████████████████████▎         | 368/390 [01:23<00:05,  3.88it/s]"
     ]
    },
    {
     "name": "stdout",
     "output_type": "stream",
     "text": [
      "torch.Size([2000, 79, 6])\n"
     ]
    },
    {
     "name": "stderr",
     "output_type": "stream",
     "text": [
      " 95%|██████████████████████████████████████████████████████████████████████████████████████████████████████████████████████████████████████████████████████████████████▋         | 369/390 [01:24<00:05,  3.97it/s]"
     ]
    },
    {
     "name": "stdout",
     "output_type": "stream",
     "text": [
      "torch.Size([2000, 77, 6])\n"
     ]
    },
    {
     "name": "stderr",
     "output_type": "stream",
     "text": [
      " 95%|███████████████████████████████████████████████████████████████████████████████████████████████████████████████████████████████████████████████████████████████████▏        | 370/390 [01:24<00:04,  4.06it/s]"
     ]
    },
    {
     "name": "stdout",
     "output_type": "stream",
     "text": [
      "torch.Size([2000, 77, 6])\n"
     ]
    },
    {
     "name": "stderr",
     "output_type": "stream",
     "text": [
      " 95%|███████████████████████████████████████████████████████████████████████████████████████████████████████████████████████████████████████████████████████████████████▌        | 371/390 [01:24<00:04,  4.12it/s]"
     ]
    },
    {
     "name": "stdout",
     "output_type": "stream",
     "text": [
      "torch.Size([2000, 78, 6])\n"
     ]
    },
    {
     "name": "stderr",
     "output_type": "stream",
     "text": [
      " 95%|████████████████████████████████████████████████████████████████████████████████████████████████████████████████████████████████████████████████████████████████████        | 372/390 [01:24<00:04,  4.18it/s]"
     ]
    },
    {
     "name": "stdout",
     "output_type": "stream",
     "text": [
      "torch.Size([2000, 77, 6])\n"
     ]
    },
    {
     "name": "stderr",
     "output_type": "stream",
     "text": [
      " 96%|████████████████████████████████████████████████████████████████████████████████████████████████████████████████████████████████████████████████████████████████████▌       | 373/390 [01:25<00:03,  4.26it/s]"
     ]
    },
    {
     "name": "stdout",
     "output_type": "stream",
     "text": [
      "torch.Size([2000, 72, 6])\n"
     ]
    },
    {
     "name": "stderr",
     "output_type": "stream",
     "text": [
      " 96%|████████████████████████████████████████████████████████████████████████████████████████████████████████████████████████████████████████████████████████████████████▉       | 374/390 [01:25<00:03,  4.31it/s]"
     ]
    },
    {
     "name": "stdout",
     "output_type": "stream",
     "text": [
      "torch.Size([2000, 75, 6])\n"
     ]
    },
    {
     "name": "stderr",
     "output_type": "stream",
     "text": [
      " 96%|█████████████████████████████████████████████████████████████████████████████████████████████████████████████████████████████████████████████████████████████████████▍      | 375/390 [01:25<00:03,  4.36it/s]"
     ]
    },
    {
     "name": "stdout",
     "output_type": "stream",
     "text": [
      "torch.Size([2000, 73, 6])\n"
     ]
    },
    {
     "name": "stderr",
     "output_type": "stream",
     "text": [
      " 96%|█████████████████████████████████████████████████████████████████████████████████████████████████████████████████████████████████████████████████████████████████████▊      | 376/390 [01:25<00:03,  4.35it/s]"
     ]
    },
    {
     "name": "stdout",
     "output_type": "stream",
     "text": [
      "torch.Size([2000, 77, 6])\n"
     ]
    },
    {
     "name": "stderr",
     "output_type": "stream",
     "text": [
      " 97%|██████████████████████████████████████████████████████████████████████████████████████████████████████████████████████████████████████████████████████████████████████▎     | 377/390 [01:25<00:03,  4.30it/s]"
     ]
    },
    {
     "name": "stdout",
     "output_type": "stream",
     "text": [
      "torch.Size([2000, 82, 6])\n"
     ]
    },
    {
     "name": "stderr",
     "output_type": "stream",
     "text": [
      " 97%|██████████████████████████████████████████████████████████████████████████████████████████████████████████████████████████████████████████████████████████████████████▋     | 378/390 [01:26<00:02,  4.35it/s]"
     ]
    },
    {
     "name": "stdout",
     "output_type": "stream",
     "text": [
      "torch.Size([2000, 73, 6])\n"
     ]
    },
    {
     "name": "stderr",
     "output_type": "stream",
     "text": [
      " 97%|███████████████████████████████████████████████████████████████████████████████████████████████████████████████████████████████████████████████████████████████████████▏    | 379/390 [01:26<00:02,  4.35it/s]"
     ]
    },
    {
     "name": "stdout",
     "output_type": "stream",
     "text": [
      "torch.Size([2000, 77, 6])\n"
     ]
    },
    {
     "name": "stderr",
     "output_type": "stream",
     "text": [
      " 97%|███████████████████████████████████████████████████████████████████████████████████████████████████████████████████████████████████████████████████████████████████████▌    | 380/390 [01:26<00:02,  4.38it/s]"
     ]
    },
    {
     "name": "stdout",
     "output_type": "stream",
     "text": [
      "torch.Size([2000, 74, 6])\n"
     ]
    },
    {
     "name": "stderr",
     "output_type": "stream",
     "text": [
      " 98%|████████████████████████████████████████████████████████████████████████████████████████████████████████████████████████████████████████████████████████████████████████    | 381/390 [01:26<00:02,  4.39it/s]"
     ]
    },
    {
     "name": "stdout",
     "output_type": "stream",
     "text": [
      "torch.Size([2000, 69, 6])\n"
     ]
    },
    {
     "name": "stderr",
     "output_type": "stream",
     "text": [
      " 98%|████████████████████████████████████████████████████████████████████████████████████████████████████████████████████████████████████████████████████████████████████████▍   | 382/390 [01:27<00:01,  4.42it/s]"
     ]
    },
    {
     "name": "stdout",
     "output_type": "stream",
     "text": [
      "torch.Size([2000, 74, 6])\n"
     ]
    },
    {
     "name": "stderr",
     "output_type": "stream",
     "text": [
      " 98%|████████████████████████████████████████████████████████████████████████████████████████████████████████████████████████████████████████████████████████████████████████▉   | 383/390 [01:27<00:01,  4.39it/s]"
     ]
    },
    {
     "name": "stdout",
     "output_type": "stream",
     "text": [
      "torch.Size([2000, 78, 6])\n"
     ]
    },
    {
     "name": "stderr",
     "output_type": "stream",
     "text": [
      " 98%|█████████████████████████████████████████████████████████████████████████████████████████████████████████████████████████████████████████████████████████████████████████▎  | 384/390 [01:27<00:01,  4.41it/s]"
     ]
    },
    {
     "name": "stdout",
     "output_type": "stream",
     "text": [
      "torch.Size([2000, 73, 6])\n"
     ]
    },
    {
     "name": "stderr",
     "output_type": "stream",
     "text": [
      " 99%|█████████████████████████████████████████████████████████████████████████████████████████████████████████████████████████████████████████████████████████████████████████▊  | 385/390 [01:27<00:01,  4.29it/s]"
     ]
    },
    {
     "name": "stdout",
     "output_type": "stream",
     "text": [
      "torch.Size([2000, 79, 6])\n"
     ]
    },
    {
     "name": "stderr",
     "output_type": "stream",
     "text": [
      " 99%|██████████████████████████████████████████████████████████████████████████████████████████████████████████████████████████████████████████████████████████████████████████▏ | 386/390 [01:28<00:00,  4.24it/s]"
     ]
    },
    {
     "name": "stdout",
     "output_type": "stream",
     "text": [
      "torch.Size([2000, 79, 6])\n"
     ]
    },
    {
     "name": "stderr",
     "output_type": "stream",
     "text": [
      " 99%|██████████████████████████████████████████████████████████████████████████████████████████████████████████████████████████████████████████████████████████████████████████▋ | 387/390 [01:28<00:00,  4.29it/s]"
     ]
    },
    {
     "name": "stdout",
     "output_type": "stream",
     "text": [
      "torch.Size([2000, 74, 6])\n"
     ]
    },
    {
     "name": "stderr",
     "output_type": "stream",
     "text": [
      " 99%|███████████████████████████████████████████████████████████████████████████████████████████████████████████████████████████████████████████████████████████████████████████ | 388/390 [01:28<00:00,  4.34it/s]"
     ]
    },
    {
     "name": "stdout",
     "output_type": "stream",
     "text": [
      "torch.Size([2000, 73, 6])\n"
     ]
    },
    {
     "name": "stderr",
     "output_type": "stream",
     "text": [
      "100%|████████████████████████████████████████████████████████████████████████████████████████████████████████████████████████████████████████████████████████████████████████████| 390/390 [01:28<00:00,  4.39it/s]\n"
     ]
    },
    {
     "name": "stdout",
     "output_type": "stream",
     "text": [
      "torch.Size([2000, 79, 6])\n",
      "torch.Size([1074, 74, 6])\n"
     ]
    },
    {
     "name": "stderr",
     "output_type": "stream",
     "text": [
      "  1%|█▉                                                                                                                                                                            | 2/183 [00:00<00:32,  5.49it/s]"
     ]
    },
    {
     "name": "stdout",
     "output_type": "stream",
     "text": [
      "torch.Size([2000, 53, 6])\n",
      "torch.Size([2000, 51, 6])\n"
     ]
    },
    {
     "name": "stderr",
     "output_type": "stream",
     "text": [
      "  2%|███▊                                                                                                                                                                          | 4/183 [00:00<00:32,  5.53it/s]"
     ]
    },
    {
     "name": "stdout",
     "output_type": "stream",
     "text": [
      "torch.Size([2000, 55, 6])\n",
      "torch.Size([2000, 59, 6])\n"
     ]
    },
    {
     "name": "stderr",
     "output_type": "stream",
     "text": [
      "  3%|█████▋                                                                                                                                                                        | 6/183 [00:01<00:32,  5.49it/s]"
     ]
    },
    {
     "name": "stdout",
     "output_type": "stream",
     "text": [
      "torch.Size([2000, 52, 6])\n",
      "torch.Size([2000, 52, 6])\n"
     ]
    },
    {
     "name": "stderr",
     "output_type": "stream",
     "text": [
      "  4%|███████▌                                                                                                                                                                      | 8/183 [00:01<00:40,  4.34it/s]"
     ]
    },
    {
     "name": "stdout",
     "output_type": "stream",
     "text": [
      "torch.Size([2000, 57, 6])\n",
      "torch.Size([2000, 55, 6])\n"
     ]
    },
    {
     "name": "stderr",
     "output_type": "stream",
     "text": [
      "  5%|█████████▍                                                                                                                                                                   | 10/183 [00:02<00:36,  4.79it/s]"
     ]
    },
    {
     "name": "stdout",
     "output_type": "stream",
     "text": [
      "torch.Size([2000, 62, 6])\n",
      "torch.Size([2000, 58, 6])\n"
     ]
    },
    {
     "name": "stderr",
     "output_type": "stream",
     "text": [
      "  6%|██████████▍                                                                                                                                                                  | 11/183 [00:02<00:38,  4.50it/s]"
     ]
    },
    {
     "name": "stdout",
     "output_type": "stream",
     "text": [
      "torch.Size([2000, 61, 6])\n",
      "torch.Size([2000, 59, 6])\n"
     ]
    },
    {
     "name": "stderr",
     "output_type": "stream",
     "text": [
      "  8%|█████████████▏                                                                                                                                                               | 14/183 [00:02<00:34,  4.93it/s]"
     ]
    },
    {
     "name": "stdout",
     "output_type": "stream",
     "text": [
      "torch.Size([2000, 62, 6])\n",
      "torch.Size([2000, 59, 6])\n"
     ]
    },
    {
     "name": "stderr",
     "output_type": "stream",
     "text": [
      "  9%|███████████████▏                                                                                                                                                             | 16/183 [00:03<00:32,  5.13it/s]"
     ]
    },
    {
     "name": "stdout",
     "output_type": "stream",
     "text": [
      "torch.Size([2000, 50, 6])\n",
      "torch.Size([2000, 64, 6])\n"
     ]
    },
    {
     "name": "stderr",
     "output_type": "stream",
     "text": [
      " 10%|█████████████████                                                                                                                                                            | 18/183 [00:03<00:31,  5.30it/s]"
     ]
    },
    {
     "name": "stdout",
     "output_type": "stream",
     "text": [
      "torch.Size([2000, 50, 6])\n",
      "torch.Size([2000, 59, 6])\n"
     ]
    },
    {
     "name": "stderr",
     "output_type": "stream",
     "text": [
      " 11%|██████████████████▉                                                                                                                                                          | 20/183 [00:03<00:30,  5.40it/s]"
     ]
    },
    {
     "name": "stdout",
     "output_type": "stream",
     "text": [
      "torch.Size([2000, 52, 6])\n",
      "torch.Size([2000, 57, 6])\n"
     ]
    },
    {
     "name": "stderr",
     "output_type": "stream",
     "text": [
      " 12%|████████████████████▊                                                                                                                                                        | 22/183 [00:04<00:29,  5.53it/s]"
     ]
    },
    {
     "name": "stdout",
     "output_type": "stream",
     "text": [
      "torch.Size([2000, 50, 6])\n",
      "torch.Size([2000, 54, 6])\n"
     ]
    },
    {
     "name": "stderr",
     "output_type": "stream",
     "text": [
      " 13%|██████████████████████▋                                                                                                                                                      | 24/183 [00:04<00:28,  5.49it/s]"
     ]
    },
    {
     "name": "stdout",
     "output_type": "stream",
     "text": [
      "torch.Size([2000, 57, 6])\n",
      "torch.Size([2000, 56, 6])\n"
     ]
    },
    {
     "name": "stderr",
     "output_type": "stream",
     "text": [
      " 14%|████████████████████████▌                                                                                                                                                    | 26/183 [00:05<00:28,  5.53it/s]"
     ]
    },
    {
     "name": "stdout",
     "output_type": "stream",
     "text": [
      "torch.Size([2000, 59, 6])\n",
      "torch.Size([2000, 50, 6])\n"
     ]
    },
    {
     "name": "stderr",
     "output_type": "stream",
     "text": [
      " 15%|██████████████████████████▍                                                                                                                                                  | 28/183 [00:05<00:28,  5.35it/s]"
     ]
    },
    {
     "name": "stdout",
     "output_type": "stream",
     "text": [
      "torch.Size([2000, 63, 6])\n",
      "torch.Size([2000, 59, 6])\n"
     ]
    },
    {
     "name": "stderr",
     "output_type": "stream",
     "text": [
      " 16%|████████████████████████████▎                                                                                                                                                | 30/183 [00:05<00:29,  5.16it/s]"
     ]
    },
    {
     "name": "stdout",
     "output_type": "stream",
     "text": [
      "torch.Size([2000, 66, 6])\n",
      "torch.Size([2000, 60, 6])\n"
     ]
    },
    {
     "name": "stderr",
     "output_type": "stream",
     "text": [
      " 17%|██████████████████████████████▎                                                                                                                                              | 32/183 [00:06<00:27,  5.47it/s]"
     ]
    },
    {
     "name": "stdout",
     "output_type": "stream",
     "text": [
      "torch.Size([2000, 53, 6])\n",
      "torch.Size([2000, 47, 6])\n"
     ]
    },
    {
     "name": "stderr",
     "output_type": "stream",
     "text": [
      " 19%|████████████████████████████████▏                                                                                                                                            | 34/183 [00:06<00:27,  5.38it/s]"
     ]
    },
    {
     "name": "stdout",
     "output_type": "stream",
     "text": [
      "torch.Size([2000, 51, 6])\n",
      "torch.Size([2000, 65, 6])\n"
     ]
    },
    {
     "name": "stderr",
     "output_type": "stream",
     "text": [
      " 20%|██████████████████████████████████                                                                                                                                           | 36/183 [00:06<00:27,  5.44it/s]"
     ]
    },
    {
     "name": "stdout",
     "output_type": "stream",
     "text": [
      "torch.Size([2000, 58, 6])\n",
      "torch.Size([2000, 53, 6])\n"
     ]
    },
    {
     "name": "stderr",
     "output_type": "stream",
     "text": [
      " 21%|███████████████████████████████████▉                                                                                                                                         | 38/183 [00:07<00:27,  5.34it/s]"
     ]
    },
    {
     "name": "stdout",
     "output_type": "stream",
     "text": [
      "torch.Size([2000, 66, 6])\n",
      "torch.Size([2000, 55, 6])\n"
     ]
    },
    {
     "name": "stderr",
     "output_type": "stream",
     "text": [
      " 21%|████████████████████████████████████▊                                                                                                                                        | 39/183 [00:07<00:26,  5.40it/s]"
     ]
    },
    {
     "name": "stdout",
     "output_type": "stream",
     "text": [
      "torch.Size([2000, 54, 6])\n"
     ]
    },
    {
     "name": "stderr",
     "output_type": "stream",
     "text": [
      " 22%|██████████████████████████████████████▊                                                                                                                                      | 41/183 [00:08<00:32,  4.38it/s]"
     ]
    },
    {
     "name": "stdout",
     "output_type": "stream",
     "text": [
      "torch.Size([2000, 57, 6])\n",
      "torch.Size([2000, 53, 6])\n"
     ]
    },
    {
     "name": "stderr",
     "output_type": "stream",
     "text": [
      " 23%|████████████████████████████████████████▋                                                                                                                                    | 43/183 [00:08<00:29,  4.74it/s]"
     ]
    },
    {
     "name": "stdout",
     "output_type": "stream",
     "text": [
      "torch.Size([2000, 56, 6])\n",
      "torch.Size([2000, 58, 6])\n"
     ]
    },
    {
     "name": "stderr",
     "output_type": "stream",
     "text": [
      " 25%|██████████████████████████████████████████▌                                                                                                                                  | 45/183 [00:08<00:27,  5.02it/s]"
     ]
    },
    {
     "name": "stdout",
     "output_type": "stream",
     "text": [
      "torch.Size([2000, 58, 6])\n",
      "torch.Size([2000, 59, 6])\n"
     ]
    },
    {
     "name": "stderr",
     "output_type": "stream",
     "text": [
      " 26%|████████████████████████████████████████████▍                                                                                                                                | 47/183 [00:09<00:26,  5.17it/s]"
     ]
    },
    {
     "name": "stdout",
     "output_type": "stream",
     "text": [
      "torch.Size([2000, 58, 6])\n",
      "torch.Size([2000, 58, 6])\n"
     ]
    },
    {
     "name": "stderr",
     "output_type": "stream",
     "text": [
      " 27%|██████████████████████████████████████████████▎                                                                                                                              | 49/183 [00:09<00:24,  5.38it/s]"
     ]
    },
    {
     "name": "stdout",
     "output_type": "stream",
     "text": [
      "torch.Size([2000, 48, 6])\n",
      "torch.Size([2000, 56, 6])\n"
     ]
    },
    {
     "name": "stderr",
     "output_type": "stream",
     "text": [
      " 28%|████████████████████████████████████████████████▏                                                                                                                            | 51/183 [00:09<00:25,  5.27it/s]"
     ]
    },
    {
     "name": "stdout",
     "output_type": "stream",
     "text": [
      "torch.Size([2000, 64, 6])\n",
      "torch.Size([2000, 57, 6])\n"
     ]
    },
    {
     "name": "stderr",
     "output_type": "stream",
     "text": [
      " 29%|██████████████████████████████████████████████████                                                                                                                           | 53/183 [00:10<00:24,  5.31it/s]"
     ]
    },
    {
     "name": "stdout",
     "output_type": "stream",
     "text": [
      "torch.Size([2000, 54, 6])\n",
      "torch.Size([2000, 54, 6])\n"
     ]
    },
    {
     "name": "stderr",
     "output_type": "stream",
     "text": [
      " 30%|███████████████████████████████████████████████████▉                                                                                                                         | 55/183 [00:10<00:23,  5.40it/s]"
     ]
    },
    {
     "name": "stdout",
     "output_type": "stream",
     "text": [
      "torch.Size([2000, 52, 6])\n",
      "torch.Size([2000, 56, 6])\n"
     ]
    },
    {
     "name": "stderr",
     "output_type": "stream",
     "text": [
      " 31%|█████████████████████████████████████████████████████▉                                                                                                                       | 57/183 [00:11<00:23,  5.37it/s]"
     ]
    },
    {
     "name": "stdout",
     "output_type": "stream",
     "text": [
      "torch.Size([2000, 59, 6])\n",
      "torch.Size([2000, 58, 6])\n"
     ]
    },
    {
     "name": "stderr",
     "output_type": "stream",
     "text": [
      " 32%|███████████████████████████████████████████████████████▊                                                                                                                     | 59/183 [00:11<00:23,  5.35it/s]"
     ]
    },
    {
     "name": "stdout",
     "output_type": "stream",
     "text": [
      "torch.Size([2000, 58, 6])\n",
      "torch.Size([2000, 57, 6])\n"
     ]
    },
    {
     "name": "stderr",
     "output_type": "stream",
     "text": [
      " 33%|█████████████████████████████████████████████████████████▋                                                                                                                   | 61/183 [00:11<00:23,  5.28it/s]"
     ]
    },
    {
     "name": "stdout",
     "output_type": "stream",
     "text": [
      "torch.Size([2000, 58, 6])\n",
      "torch.Size([2000, 60, 6])\n"
     ]
    },
    {
     "name": "stderr",
     "output_type": "stream",
     "text": [
      " 34%|███████████████████████████████████████████████████████████▌                                                                                                                 | 63/183 [00:12<00:21,  5.48it/s]"
     ]
    },
    {
     "name": "stdout",
     "output_type": "stream",
     "text": [
      "torch.Size([2000, 50, 6])\n",
      "torch.Size([2000, 51, 6])\n"
     ]
    },
    {
     "name": "stderr",
     "output_type": "stream",
     "text": [
      " 35%|████████████████████████████████████████████████████████████▌                                                                                                                | 64/183 [00:12<00:21,  5.44it/s]"
     ]
    },
    {
     "name": "stdout",
     "output_type": "stream",
     "text": [
      "torch.Size([2000, 49, 6])\n"
     ]
    },
    {
     "name": "stderr",
     "output_type": "stream",
     "text": [
      " 36%|██████████████████████████████████████████████████████████████▍                                                                                                              | 66/183 [00:12<00:22,  5.31it/s]"
     ]
    },
    {
     "name": "stdout",
     "output_type": "stream",
     "text": [
      "torch.Size([2000, 66, 6])\n",
      "torch.Size([2000, 56, 6])\n"
     ]
    },
    {
     "name": "stderr",
     "output_type": "stream",
     "text": [
      " 37%|████████████████████████████████████████████████████████████████▎                                                                                                            | 68/183 [00:13<00:21,  5.37it/s]"
     ]
    },
    {
     "name": "stdout",
     "output_type": "stream",
     "text": [
      "torch.Size([2000, 58, 6])\n",
      "torch.Size([2000, 54, 6])\n"
     ]
    },
    {
     "name": "stderr",
     "output_type": "stream",
     "text": [
      " 38%|██████████████████████████████████████████████████████████████████▏                                                                                                          | 70/183 [00:13<00:20,  5.45it/s]"
     ]
    },
    {
     "name": "stdout",
     "output_type": "stream",
     "text": [
      "torch.Size([2000, 59, 6])\n",
      "torch.Size([2000, 50, 6])\n"
     ]
    },
    {
     "name": "stderr",
     "output_type": "stream",
     "text": [
      " 39%|███████████████████████████████████████████████████████████████████                                                                                                          | 71/183 [00:13<00:20,  5.49it/s]"
     ]
    },
    {
     "name": "stdout",
     "output_type": "stream",
     "text": [
      "torch.Size([2000, 53, 6])\n"
     ]
    },
    {
     "name": "stderr",
     "output_type": "stream",
     "text": [
      " 40%|█████████████████████████████████████████████████████████████████████                                                                                                        | 73/183 [00:14<00:25,  4.37it/s]"
     ]
    },
    {
     "name": "stdout",
     "output_type": "stream",
     "text": [
      "torch.Size([2000, 58, 6])\n",
      "torch.Size([2000, 55, 6])\n"
     ]
    },
    {
     "name": "stderr",
     "output_type": "stream",
     "text": [
      " 41%|██████████████████████████████████████████████████████████████████████▉                                                                                                      | 75/183 [00:14<00:22,  4.85it/s]"
     ]
    },
    {
     "name": "stdout",
     "output_type": "stream",
     "text": [
      "torch.Size([2000, 51, 6])\n",
      "torch.Size([2000, 54, 6])\n"
     ]
    },
    {
     "name": "stderr",
     "output_type": "stream",
     "text": [
      " 42%|███████████████████████████████████████████████████████████████████████▊                                                                                                     | 76/183 [00:14<00:21,  4.95it/s]"
     ]
    },
    {
     "name": "stdout",
     "output_type": "stream",
     "text": [
      "torch.Size([2000, 60, 6])\n"
     ]
    },
    {
     "name": "stderr",
     "output_type": "stream",
     "text": [
      " 43%|█████████████████████████████████████████████████████████████████████████▋                                                                                                   | 78/183 [00:15<00:20,  5.03it/s]"
     ]
    },
    {
     "name": "stdout",
     "output_type": "stream",
     "text": [
      "torch.Size([2000, 71, 6])\n",
      "torch.Size([2000, 55, 6])\n"
     ]
    },
    {
     "name": "stderr",
     "output_type": "stream",
     "text": [
      " 44%|███████████████████████████████████████████████████████████████████████████▋                                                                                                 | 80/183 [00:15<00:19,  5.21it/s]"
     ]
    },
    {
     "name": "stdout",
     "output_type": "stream",
     "text": [
      "torch.Size([2000, 56, 6])\n",
      "torch.Size([2000, 55, 6])\n"
     ]
    },
    {
     "name": "stderr",
     "output_type": "stream",
     "text": [
      " 45%|█████████████████████████████████████████████████████████████████████████████▌                                                                                               | 82/183 [00:15<00:18,  5.48it/s]"
     ]
    },
    {
     "name": "stdout",
     "output_type": "stream",
     "text": [
      "torch.Size([2000, 52, 6])\n",
      "torch.Size([2000, 49, 6])\n"
     ]
    },
    {
     "name": "stderr",
     "output_type": "stream",
     "text": [
      " 46%|███████████████████████████████████████████████████████████████████████████████▍                                                                                             | 84/183 [00:16<00:18,  5.46it/s]"
     ]
    },
    {
     "name": "stdout",
     "output_type": "stream",
     "text": [
      "torch.Size([2000, 60, 6])\n",
      "torch.Size([2000, 53, 6])\n"
     ]
    },
    {
     "name": "stderr",
     "output_type": "stream",
     "text": [
      " 47%|█████████████████████████████████████████████████████████████████████████████████▎                                                                                           | 86/183 [00:16<00:18,  5.38it/s]"
     ]
    },
    {
     "name": "stdout",
     "output_type": "stream",
     "text": [
      "torch.Size([2000, 56, 6])\n",
      "torch.Size([2000, 52, 6])\n"
     ]
    },
    {
     "name": "stderr",
     "output_type": "stream",
     "text": [
      " 48%|███████████████████████████████████████████████████████████████████████████████████▏                                                                                         | 88/183 [00:17<00:17,  5.45it/s]"
     ]
    },
    {
     "name": "stdout",
     "output_type": "stream",
     "text": [
      "torch.Size([2000, 61, 6])\n",
      "torch.Size([2000, 49, 6])\n"
     ]
    },
    {
     "name": "stderr",
     "output_type": "stream",
     "text": [
      " 49%|█████████████████████████████████████████████████████████████████████████████████████                                                                                        | 90/183 [00:17<00:17,  5.36it/s]"
     ]
    },
    {
     "name": "stdout",
     "output_type": "stream",
     "text": [
      "torch.Size([2000, 61, 6])\n",
      "torch.Size([2000, 56, 6])\n"
     ]
    },
    {
     "name": "stderr",
     "output_type": "stream",
     "text": [
      " 50%|██████████████████████████████████████████████████████████████████████████████████████▉                                                                                      | 92/183 [00:17<00:16,  5.40it/s]"
     ]
    },
    {
     "name": "stdout",
     "output_type": "stream",
     "text": [
      "torch.Size([2000, 48, 6])\n",
      "torch.Size([2000, 59, 6])\n"
     ]
    },
    {
     "name": "stderr",
     "output_type": "stream",
     "text": [
      " 51%|████████████████████████████████████████████████████████████████████████████████████████▊                                                                                    | 94/183 [00:18<00:16,  5.39it/s]"
     ]
    },
    {
     "name": "stdout",
     "output_type": "stream",
     "text": [
      "torch.Size([2000, 50, 6])\n",
      "torch.Size([2000, 62, 6])\n"
     ]
    },
    {
     "name": "stderr",
     "output_type": "stream",
     "text": [
      " 52%|██████████████████████████████████████████████████████████████████████████████████████████▊                                                                                  | 96/183 [00:18<00:15,  5.49it/s]"
     ]
    },
    {
     "name": "stdout",
     "output_type": "stream",
     "text": [
      "torch.Size([2000, 55, 6])\n",
      "torch.Size([2000, 51, 6])\n"
     ]
    },
    {
     "name": "stderr",
     "output_type": "stream",
     "text": [
      " 54%|████████████████████████████████████████████████████████████████████████████████████████████▋                                                                                | 98/183 [00:18<00:15,  5.34it/s]"
     ]
    },
    {
     "name": "stdout",
     "output_type": "stream",
     "text": [
      "torch.Size([2000, 66, 6])\n",
      "torch.Size([2000, 47, 6])\n"
     ]
    },
    {
     "name": "stderr",
     "output_type": "stream",
     "text": [
      " 55%|█████████████████████████████████████████████████████████████████████████████████████████████▉                                                                              | 100/183 [00:19<00:15,  5.32it/s]"
     ]
    },
    {
     "name": "stdout",
     "output_type": "stream",
     "text": [
      "torch.Size([2000, 59, 6])\n",
      "torch.Size([2000, 61, 6])\n"
     ]
    },
    {
     "name": "stderr",
     "output_type": "stream",
     "text": [
      " 55%|██████████████████████████████████████████████████████████████████████████████████████████████▉                                                                             | 101/183 [00:19<00:15,  5.45it/s]"
     ]
    },
    {
     "name": "stdout",
     "output_type": "stream",
     "text": [
      "torch.Size([2000, 52, 6])\n"
     ]
    },
    {
     "name": "stderr",
     "output_type": "stream",
     "text": [
      " 56%|████████████████████████████████████████████████████████████████████████████████████████████████▊                                                                           | 103/183 [00:20<00:17,  4.45it/s]"
     ]
    },
    {
     "name": "stdout",
     "output_type": "stream",
     "text": [
      "torch.Size([2000, 58, 6])\n",
      "torch.Size([2000, 51, 6])\n"
     ]
    },
    {
     "name": "stderr",
     "output_type": "stream",
     "text": [
      " 57%|██████████████████████████████████████████████████████████████████████████████████████████████████▋                                                                         | 105/183 [00:20<00:15,  5.11it/s]"
     ]
    },
    {
     "name": "stdout",
     "output_type": "stream",
     "text": [
      "torch.Size([2000, 55, 6])\n",
      "torch.Size([2000, 47, 6])\n"
     ]
    },
    {
     "name": "stderr",
     "output_type": "stream",
     "text": [
      " 58%|███████████████████████████████████████████████████████████████████████████████████████████████████▋                                                                        | 106/183 [00:20<00:15,  5.09it/s]"
     ]
    },
    {
     "name": "stdout",
     "output_type": "stream",
     "text": [
      "torch.Size([2000, 56, 6])\n"
     ]
    },
    {
     "name": "stderr",
     "output_type": "stream",
     "text": [
      " 59%|█████████████████████████████████████████████████████████████████████████████████████████████████████▌                                                                      | 108/183 [00:20<00:14,  5.22it/s]"
     ]
    },
    {
     "name": "stdout",
     "output_type": "stream",
     "text": [
      "torch.Size([2000, 58, 6])\n",
      "torch.Size([2000, 52, 6])\n"
     ]
    },
    {
     "name": "stderr",
     "output_type": "stream",
     "text": [
      " 60%|███████████████████████████████████████████████████████████████████████████████████████████████████████▍                                                                    | 110/183 [00:21<00:13,  5.38it/s]"
     ]
    },
    {
     "name": "stdout",
     "output_type": "stream",
     "text": [
      "torch.Size([2000, 51, 6])\n",
      "torch.Size([2000, 53, 6])\n"
     ]
    },
    {
     "name": "stderr",
     "output_type": "stream",
     "text": [
      " 61%|█████████████████████████████████████████████████████████████████████████████████████████████████████████▎                                                                  | 112/183 [00:21<00:12,  5.55it/s]"
     ]
    },
    {
     "name": "stdout",
     "output_type": "stream",
     "text": [
      "torch.Size([2000, 51, 6])\n",
      "torch.Size([2000, 54, 6])\n"
     ]
    },
    {
     "name": "stderr",
     "output_type": "stream",
     "text": [
      " 62%|██████████████████████████████████████████████████████████████████████████████████████████████████████████▏                                                                 | 113/183 [00:21<00:13,  5.35it/s]"
     ]
    },
    {
     "name": "stdout",
     "output_type": "stream",
     "text": [
      "torch.Size([2000, 58, 6])\n",
      "torch.Size([2000, 57, 6])\n"
     ]
    },
    {
     "name": "stderr",
     "output_type": "stream",
     "text": [
      " 63%|█████████████████████████████████████████████████████████████████████████████████████████████████████████████                                                               | 116/183 [00:22<00:12,  5.24it/s]"
     ]
    },
    {
     "name": "stdout",
     "output_type": "stream",
     "text": [
      "torch.Size([2000, 59, 6])\n",
      "torch.Size([2000, 54, 6])\n"
     ]
    },
    {
     "name": "stderr",
     "output_type": "stream",
     "text": [
      " 64%|██████████████████████████████████████████████████████████████████████████████████████████████████████████████▉                                                             | 118/183 [00:22<00:12,  5.33it/s]"
     ]
    },
    {
     "name": "stdout",
     "output_type": "stream",
     "text": [
      "torch.Size([2000, 56, 6])\n",
      "torch.Size([2000, 56, 6])\n"
     ]
    },
    {
     "name": "stderr",
     "output_type": "stream",
     "text": [
      " 66%|████████████████████████████████████████████████████████████████████████████████████████████████████████████████▊                                                           | 120/183 [00:23<00:11,  5.40it/s]"
     ]
    },
    {
     "name": "stdout",
     "output_type": "stream",
     "text": [
      "torch.Size([2000, 54, 6])\n",
      "torch.Size([2000, 49, 6])\n"
     ]
    },
    {
     "name": "stderr",
     "output_type": "stream",
     "text": [
      " 67%|██████████████████████████████████████████████████████████████████████████████████████████████████████████████████▋                                                         | 122/183 [00:23<00:11,  5.39it/s]"
     ]
    },
    {
     "name": "stdout",
     "output_type": "stream",
     "text": [
      "torch.Size([2000, 49, 6])\n",
      "torch.Size([2000, 56, 6])\n"
     ]
    },
    {
     "name": "stderr",
     "output_type": "stream",
     "text": [
      " 67%|███████████████████████████████████████████████████████████████████████████████████████████████████████████████████▌                                                        | 123/183 [00:23<00:11,  5.37it/s]"
     ]
    },
    {
     "name": "stdout",
     "output_type": "stream",
     "text": [
      "torch.Size([2000, 56, 6])\n"
     ]
    },
    {
     "name": "stderr",
     "output_type": "stream",
     "text": [
      " 68%|█████████████████████████████████████████████████████████████████████████████████████████████████████████████████████▍                                                      | 125/183 [00:24<00:11,  5.17it/s]"
     ]
    },
    {
     "name": "stdout",
     "output_type": "stream",
     "text": [
      "torch.Size([2000, 66, 6])\n",
      "torch.Size([2000, 62, 6])\n"
     ]
    },
    {
     "name": "stderr",
     "output_type": "stream",
     "text": [
      " 69%|███████████████████████████████████████████████████████████████████████████████████████████████████████████████████████▎                                                    | 127/183 [00:24<00:10,  5.31it/s]"
     ]
    },
    {
     "name": "stdout",
     "output_type": "stream",
     "text": [
      "torch.Size([2000, 53, 6])\n",
      "torch.Size([2000, 56, 6])\n"
     ]
    },
    {
     "name": "stderr",
     "output_type": "stream",
     "text": [
      " 70%|█████████████████████████████████████████████████████████████████████████████████████████████████████████████████████████▏                                                  | 129/183 [00:24<00:09,  5.47it/s]"
     ]
    },
    {
     "name": "stdout",
     "output_type": "stream",
     "text": [
      "torch.Size([2000, 57, 6])\n",
      "torch.Size([2000, 48, 6])\n"
     ]
    },
    {
     "name": "stderr",
     "output_type": "stream",
     "text": [
      " 71%|██████████████████████████████████████████████████████████████████████████████████████████████████████████████████████████▏                                                 | 130/183 [00:25<00:09,  5.56it/s]"
     ]
    },
    {
     "name": "stdout",
     "output_type": "stream",
     "text": [
      "torch.Size([2000, 49, 6])\n",
      "torch.Size([2000, 62, 6])\n"
     ]
    },
    {
     "name": "stderr",
     "output_type": "stream",
     "text": [
      " 73%|█████████████████████████████████████████████████████████████████████████████████████████████████████████████████████████████                                               | 133/183 [00:25<00:09,  5.54it/s]"
     ]
    },
    {
     "name": "stdout",
     "output_type": "stream",
     "text": [
      "torch.Size([2000, 56, 6])\n",
      "torch.Size([2000, 47, 6])\n"
     ]
    },
    {
     "name": "stderr",
     "output_type": "stream",
     "text": [
      " 74%|██████████████████████████████████████████████████████████████████████████████████████████████████████████████████████████████▉                                             | 135/183 [00:25<00:08,  5.41it/s]"
     ]
    },
    {
     "name": "stdout",
     "output_type": "stream",
     "text": [
      "torch.Size([2000, 59, 6])\n",
      "torch.Size([2000, 57, 6])\n"
     ]
    },
    {
     "name": "stderr",
     "output_type": "stream",
     "text": [
      " 75%|████████████████████████████████████████████████████████████████████████████████████████████████████████████████████████████████▊                                           | 137/183 [00:26<00:10,  4.35it/s]"
     ]
    },
    {
     "name": "stdout",
     "output_type": "stream",
     "text": [
      "torch.Size([2000, 56, 6])\n",
      "torch.Size([2000, 53, 6])\n"
     ]
    },
    {
     "name": "stderr",
     "output_type": "stream",
     "text": [
      " 76%|██████████████████████████████████████████████████████████████████████████████████████████████████████████████████████████████████▋                                         | 139/183 [00:26<00:09,  4.77it/s]"
     ]
    },
    {
     "name": "stdout",
     "output_type": "stream",
     "text": [
      "torch.Size([2000, 62, 6])\n",
      "torch.Size([2000, 57, 6])\n"
     ]
    },
    {
     "name": "stderr",
     "output_type": "stream",
     "text": [
      " 77%|████████████████████████████████████████████████████████████████████████████████████████████████████████████████████████████████████▌                                       | 141/183 [00:27<00:08,  5.12it/s]"
     ]
    },
    {
     "name": "stdout",
     "output_type": "stream",
     "text": [
      "torch.Size([2000, 58, 6])\n",
      "torch.Size([2000, 52, 6])\n"
     ]
    },
    {
     "name": "stderr",
     "output_type": "stream",
     "text": [
      " 78%|██████████████████████████████████████████████████████████████████████████████████████████████████████████████████████████████████████▍                                     | 143/183 [00:27<00:07,  5.18it/s]"
     ]
    },
    {
     "name": "stdout",
     "output_type": "stream",
     "text": [
      "torch.Size([2000, 55, 6])\n",
      "torch.Size([2000, 62, 6])\n"
     ]
    },
    {
     "name": "stderr",
     "output_type": "stream",
     "text": [
      " 79%|████████████████████████████████████████████████████████████████████████████████████████████████████████████████████████████████████████▎                                   | 145/183 [00:28<00:07,  5.30it/s]"
     ]
    },
    {
     "name": "stdout",
     "output_type": "stream",
     "text": [
      "torch.Size([2000, 50, 6])\n",
      "torch.Size([2000, 58, 6])\n"
     ]
    },
    {
     "name": "stderr",
     "output_type": "stream",
     "text": [
      " 80%|██████████████████████████████████████████████████████████████████████████████████████████████████████████████████████████████████████████▏                                 | 147/183 [00:28<00:06,  5.30it/s]"
     ]
    },
    {
     "name": "stdout",
     "output_type": "stream",
     "text": [
      "torch.Size([2000, 54, 6])\n",
      "torch.Size([2000, 60, 6])\n"
     ]
    },
    {
     "name": "stderr",
     "output_type": "stream",
     "text": [
      " 81%|████████████████████████████████████████████████████████████████████████████████████████████████████████████████████████████████████████████                                | 149/183 [00:28<00:06,  5.23it/s]"
     ]
    },
    {
     "name": "stdout",
     "output_type": "stream",
     "text": [
      "torch.Size([2000, 48, 6])\n",
      "torch.Size([2000, 56, 6])\n"
     ]
    },
    {
     "name": "stderr",
     "output_type": "stream",
     "text": [
      " 83%|█████████████████████████████████████████████████████████████████████████████████████████████████████████████████████████████████████████████▉                              | 151/183 [00:29<00:06,  5.21it/s]"
     ]
    },
    {
     "name": "stdout",
     "output_type": "stream",
     "text": [
      "torch.Size([2000, 57, 6])\n",
      "torch.Size([2000, 55, 6])\n"
     ]
    },
    {
     "name": "stderr",
     "output_type": "stream",
     "text": [
      " 84%|███████████████████████████████████████████████████████████████████████████████████████████████████████████████████████████████████████████████▊                            | 153/183 [00:29<00:05,  5.33it/s]"
     ]
    },
    {
     "name": "stdout",
     "output_type": "stream",
     "text": [
      "torch.Size([2000, 61, 6])\n",
      "torch.Size([2000, 55, 6])\n"
     ]
    },
    {
     "name": "stderr",
     "output_type": "stream",
     "text": [
      " 85%|█████████████████████████████████████████████████████████████████████████████████████████████████████████████████████████████████████████████████▋                          | 155/183 [00:29<00:05,  5.23it/s]"
     ]
    },
    {
     "name": "stdout",
     "output_type": "stream",
     "text": [
      "torch.Size([2000, 57, 6])\n",
      "torch.Size([2000, 62, 6])\n"
     ]
    },
    {
     "name": "stderr",
     "output_type": "stream",
     "text": [
      " 86%|███████████████████████████████████████████████████████████████████████████████████████████████████████████████████████████████████████████████████▌                        | 157/183 [00:30<00:04,  5.47it/s]"
     ]
    },
    {
     "name": "stdout",
     "output_type": "stream",
     "text": [
      "torch.Size([2000, 56, 6])\n",
      "torch.Size([2000, 50, 6])\n"
     ]
    },
    {
     "name": "stderr",
     "output_type": "stream",
     "text": [
      " 87%|█████████████████████████████████████████████████████████████████████████████████████████████████████████████████████████████████████████████████████▍                      | 159/183 [00:30<00:04,  5.38it/s]"
     ]
    },
    {
     "name": "stdout",
     "output_type": "stream",
     "text": [
      "torch.Size([2000, 59, 6])\n",
      "torch.Size([2000, 51, 6])\n"
     ]
    },
    {
     "name": "stderr",
     "output_type": "stream",
     "text": [
      " 88%|███████████████████████████████████████████████████████████████████████████████████████████████████████████████████████████████████████████████████████▎                    | 161/183 [00:31<00:04,  5.45it/s]"
     ]
    },
    {
     "name": "stdout",
     "output_type": "stream",
     "text": [
      "torch.Size([2000, 58, 6])\n",
      "torch.Size([2000, 50, 6])\n"
     ]
    },
    {
     "name": "stderr",
     "output_type": "stream",
     "text": [
      " 89%|█████████████████████████████████████████████████████████████████████████████████████████████████████████████████████████████████████████████████████████▏                  | 163/183 [00:31<00:03,  5.28it/s]"
     ]
    },
    {
     "name": "stdout",
     "output_type": "stream",
     "text": [
      "torch.Size([2000, 61, 6])\n",
      "torch.Size([2000, 53, 6])\n"
     ]
    },
    {
     "name": "stderr",
     "output_type": "stream",
     "text": [
      " 90%|███████████████████████████████████████████████████████████████████████████████████████████████████████████████████████████████████████████████████████████                 | 165/183 [00:31<00:03,  5.20it/s]"
     ]
    },
    {
     "name": "stdout",
     "output_type": "stream",
     "text": [
      "torch.Size([2000, 52, 6])\n",
      "torch.Size([2000, 61, 6])\n"
     ]
    },
    {
     "name": "stderr",
     "output_type": "stream",
     "text": [
      " 91%|████████████████████████████████████████████████████████████████████████████████████████████████████████████████████████████████████████████████████████████▉               | 167/183 [00:32<00:02,  5.39it/s]"
     ]
    },
    {
     "name": "stdout",
     "output_type": "stream",
     "text": [
      "torch.Size([2000, 49, 6])\n",
      "torch.Size([2000, 49, 6])\n"
     ]
    },
    {
     "name": "stderr",
     "output_type": "stream",
     "text": [
      " 92%|█████████████████████████████████████████████████████████████████████████████████████████████████████████████████████████████████████████████████████████████▉              | 168/183 [00:32<00:02,  5.43it/s]"
     ]
    },
    {
     "name": "stdout",
     "output_type": "stream",
     "text": [
      "torch.Size([2000, 53, 6])\n"
     ]
    },
    {
     "name": "stderr",
     "output_type": "stream",
     "text": [
      " 93%|███████████████████████████████████████████████████████████████████████████████████████████████████████████████████████████████████████████████████████████████▊            | 170/183 [00:32<00:02,  4.49it/s]"
     ]
    },
    {
     "name": "stdout",
     "output_type": "stream",
     "text": [
      "torch.Size([2000, 47, 6])\n",
      "torch.Size([2000, 49, 6])\n"
     ]
    },
    {
     "name": "stderr",
     "output_type": "stream",
     "text": [
      " 94%|█████████████████████████████████████████████████████████████████████████████████████████████████████████████████████████████████████████████████████████████████▋          | 172/183 [00:33<00:02,  4.94it/s]"
     ]
    },
    {
     "name": "stdout",
     "output_type": "stream",
     "text": [
      "torch.Size([2000, 54, 6])\n",
      "torch.Size([2000, 58, 6])\n"
     ]
    },
    {
     "name": "stderr",
     "output_type": "stream",
     "text": [
      " 95%|███████████████████████████████████████████████████████████████████████████████████████████████████████████████████████████████████████████████████████████████████▌        | 174/183 [00:33<00:01,  5.19it/s]"
     ]
    },
    {
     "name": "stdout",
     "output_type": "stream",
     "text": [
      "torch.Size([2000, 55, 6])\n",
      "torch.Size([2000, 59, 6])\n"
     ]
    },
    {
     "name": "stderr",
     "output_type": "stream",
     "text": [
      " 96%|█████████████████████████████████████████████████████████████████████████████████████████████████████████████████████████████████████████████████████████████████████▍      | 176/183 [00:34<00:01,  5.11it/s]"
     ]
    },
    {
     "name": "stdout",
     "output_type": "stream",
     "text": [
      "torch.Size([2000, 58, 6])\n",
      "torch.Size([2000, 60, 6])\n"
     ]
    },
    {
     "name": "stderr",
     "output_type": "stream",
     "text": [
      " 97%|██████████████████████████████████████████████████████████████████████████████████████████████████████████████████████████████████████████████████████████████████████▎     | 177/183 [00:34<00:01,  5.16it/s]"
     ]
    },
    {
     "name": "stdout",
     "output_type": "stream",
     "text": [
      "torch.Size([2000, 56, 6])\n"
     ]
    },
    {
     "name": "stderr",
     "output_type": "stream",
     "text": [
      " 97%|███████████████████████████████████████████████████████████████████████████████████████████████████████████████████████████████████████████████████████████████████████▎    | 178/183 [00:34<00:00,  5.04it/s]"
     ]
    },
    {
     "name": "stdout",
     "output_type": "stream",
     "text": [
      "torch.Size([2000, 62, 6])\n",
      "torch.Size([2000, 62, 6])\n"
     ]
    },
    {
     "name": "stderr",
     "output_type": "stream",
     "text": [
      " 99%|██████████████████████████████████████████████████████████████████████████████████████████████████████████████████████████████████████████████████████████████████████████  | 181/183 [00:35<00:00,  5.20it/s]"
     ]
    },
    {
     "name": "stdout",
     "output_type": "stream",
     "text": [
      "torch.Size([2000, 54, 6])\n",
      "torch.Size([2000, 57, 6])\n"
     ]
    },
    {
     "name": "stderr",
     "output_type": "stream",
     "text": [
      "100%|████████████████████████████████████████████████████████████████████████████████████████████████████████████████████████████████████████████████████████████████████████████| 183/183 [00:35<00:00,  5.19it/s]"
     ]
    },
    {
     "name": "stdout",
     "output_type": "stream",
     "text": [
      "torch.Size([2000, 63, 6])\n",
      "torch.Size([387, 49, 6])\n"
     ]
    },
    {
     "name": "stderr",
     "output_type": "stream",
     "text": [
      "\n"
     ]
    }
   ],
   "source": [
    "latent_list, recon__list, params, loss = model.predict(write_embedding=False, choise_num = 100000)"
   ]
  },
  {
   "cell_type": "code",
   "execution_count": 23,
   "id": "cc2e5b92-6027-4705-aa15-61de3799366b",
   "metadata": {},
   "outputs": [
    {
     "data": {
      "text/plain": [
       "573"
      ]
     },
     "execution_count": 23,
     "metadata": {},
     "output_type": "execute_result"
    }
   ],
   "source": [
    "len(recon__list)"
   ]
  },
  {
   "cell_type": "code",
   "execution_count": 25,
   "id": "946d30f6-9fd0-433e-9945-02f9f9a45219",
   "metadata": {},
   "outputs": [],
   "source": [
    "classificator_path = '/home/rfit/Telescope_Array/phd_work/Models/Classification/TransformerClassificationModel_V2/best'"
   ]
  },
  {
   "cell_type": "code",
   "execution_count": 26,
   "id": "1582e80d-666d-4216-a598-a6ef77dd2ce5",
   "metadata": {},
   "outputs": [
    {
     "name": "stdout",
     "output_type": "stream",
     "text": [
      "/home/rfit/Telescope_Array/phd_work/src/particle_classification\n"
     ]
    }
   ],
   "source": [
    "cd ../particle_classification/"
   ]
  },
  {
   "cell_type": "code",
   "execution_count": 27,
   "id": "86f15dcd-1fd8-4c23-92a1-af819b5081cf",
   "metadata": {},
   "outputs": [
    {
     "name": "stdout",
     "output_type": "stream",
     "text": [
      "Using device: cuda\n"
     ]
    }
   ],
   "source": [
    "import classification_pipline as cl_pipline"
   ]
  },
  {
   "cell_type": "code",
   "execution_count": 101,
   "id": "dfc8bb66-43ef-458e-8be4-28a445ddf5d1",
   "metadata": {},
   "outputs": [
    {
     "name": "stdout",
     "output_type": "stream",
     "text": [
      "['__pycache__', 'classification_pipline.py', 'classification_metrics.py', 'classification', 'classification_loss.py', 'test_particles', 'config.yaml', 'classification_models.py', 'classification_config.yaml', '.ipynb_checkpoints']\n",
      "mc_params True\n",
      "keys ['norm_param', 'test', 'train', 'val']\n",
      "mc_params True\n",
      "keys ['norm_param', 'test', 'train', 'val']\n",
      "Encoder has params: 1081360 Decoder has params: 2390537\n",
      "Saving Path: /home/rfit/Telescope_Array/phd_work/Models/Classification/test_particles/predict_part\n",
      "TRAIN PIPLINE\n",
      "<torch.utils.data.dataloader.DataLoader object at 0x7fae16fddd00>\n"
     ]
    },
    {
     "name": "stderr",
     "output_type": "stream",
     "text": [
      "  0%|                                                                                                                                                                                      | 0/572 [00:00<?, ?it/s]/home/rfit/Telescope_Array/phd_work/src/train_VAE/datasets.py:38: UserWarning: To copy construct from a tensor, it is recommended to use sourceTensor.clone().detach() or sourceTensor.clone().detach().requires_grad_(True), rather than torch.tensor(sourceTensor).\n",
      "  return torch.tensor(self.data[st:fn]), torch.tensor(mc_params[1]), torch.tensor(mc_params)\n",
      "100%|████████████████████████████████████████████████████████████████████████████████████████████████████████████████████████████████████████████████████████████████████████████| 572/572 [01:33<00:00,  6.10it/s]\n"
     ]
    },
    {
     "name": "stdout",
     "output_type": "stream",
     "text": [
      "{'precision': 0.9754535879337483, 'recall': 0.9474260468196859, 'f1_score': 0.9612355552256435}\n"
     ]
    }
   ],
   "source": [
    "config = 'classification_config.yaml'\n",
    "pipline = cl_pipline.ClassificationPipline(config, many_val_loaders =False)\n",
    "print('TRAIN PIPLINE')\n",
    "y_preds_real, y_target_real= pipline.test(classificator_path)"
   ]
  },
  {
   "cell_type": "code",
   "execution_count": 102,
   "id": "134c872a-2d52-4974-83af-33193c74528a",
   "metadata": {},
   "outputs": [
    {
     "data": {
      "text/plain": [
       "<sklearn.metrics._plot.confusion_matrix.ConfusionMatrixDisplay at 0x7fae15400100>"
      ]
     },
     "execution_count": 102,
     "metadata": {},
     "output_type": "execute_result"
    },
    {
     "data": {
      "image/png": "[encoded data removed]",
      "text/plain": [
       "<Figure size 640x480 with 2 Axes>"
      ]
     },
     "metadata": {},
     "output_type": "display_data"
    }
   ],
   "source": [
    "y_preds_real_slice = np.argmax(y_preds_real[:,:2], axis=1)\n",
    "cm = confusion_matrix(y_target_real, y_preds_real_slice, normalize='true')\n",
    "disp = ConfusionMatrixDisplay(confusion_matrix=cm,\n",
    "                              display_labels=['photon', 'pr'])\n",
    "disp.plot()"
   ]
  },
  {
   "cell_type": "code",
   "execution_count": 45,
   "id": "52b39aad-6ea2-4e21-b5ca-03f56152d7fd",
   "metadata": {},
   "outputs": [
    {
     "name": "stdout",
     "output_type": "stream",
     "text": [
      "Using device: cuda\n"
     ]
    },
    {
     "data": {
      "text/plain": [
       "<module 'classification_pipline' from '/home/rfit/Telescope_Array/phd_work/src/particle_classification/classification_pipline.py'>"
      ]
     },
     "execution_count": 45,
     "metadata": {},
     "output_type": "execute_result"
    }
   ],
   "source": [
    "importlib.reload(cl_pipline)"
   ]
  },
  {
   "cell_type": "code",
   "execution_count": 33,
   "id": "3eaf8b1e-ddf0-4fcd-bfad-1503ae3f56a2",
   "metadata": {},
   "outputs": [
    {
     "data": {
      "text/plain": [
       "1143461"
      ]
     },
     "execution_count": 33,
     "metadata": {},
     "output_type": "execute_result"
    }
   ],
   "source": [
    "len(params)"
   ]
  },
  {
   "cell_type": "code",
   "execution_count": 36,
   "id": "91875e05-a3e2-4c42-b5a2-81a09a9fd1e7",
   "metadata": {},
   "outputs": [],
   "source": [
    "import torch"
   ]
  },
  {
   "cell_type": "code",
   "execution_count": 37,
   "id": "4157eeeb-80ed-4e9b-9162-2b40bff8d02e",
   "metadata": {},
   "outputs": [],
   "source": [
    "params__list_all = []\n",
    "k=0\n",
    "for i in range(len(recon__list)):\n",
    "    len_x = len(recon__list[i])\n",
    "    params_slice = params[k: k+len_x]\n",
    "    params_slice_num = []\n",
    "    for p in params_slice:\n",
    "        if p=='photon':\n",
    "            params_slice_num.append(0)\n",
    "        else:\n",
    "            params_slice_num.append(1)\n",
    "    params_slice_num = torch.tensor(params_slice_num)\n",
    "    k+= len_x\n",
    "    params__list_all.append(params_slice_num)"
   ]
  },
  {
   "cell_type": "code",
   "execution_count": 40,
   "id": "6519111d-15b9-4841-b5f2-cac3e04b83de",
   "metadata": {},
   "outputs": [
    {
     "data": {
      "text/plain": [
       "573"
      ]
     },
     "execution_count": 40,
     "metadata": {},
     "output_type": "execute_result"
    }
   ],
   "source": [
    "len(params__list_all)"
   ]
  },
  {
   "cell_type": "code",
   "execution_count": 65,
   "id": "375a0665-054b-408f-9345-3bf10981c578",
   "metadata": {},
   "outputs": [],
   "source": [
    "def fun(batch):\n",
    "    x,y,_ = batch\n",
    "    return x[0], y[0],_"
   ]
  },
  {
   "cell_type": "code",
   "execution_count": 70,
   "id": "fc131be9-1f4e-4486-9104-201df1cc2099",
   "metadata": {},
   "outputs": [],
   "source": [
    "import torch\n",
    "from torch.utils.data import Dataset, DataLoader\n",
    "# 0- photon, 1- proton\n",
    "class DatasetRecon(Dataset):\n",
    "    def __init__(self, recon__list, params):\n",
    "        self.recon__list = recon__list\n",
    "        self.params = params\n",
    "    def __len__(self):\n",
    "        return len(recon__list)\n",
    "    def __getitem__(self, idx):\n",
    "        x = self.recon__list[idx]\n",
    "        return x, self.params[idx], None\n",
    "dataset = DatasetRecon(recon__list, params__list_all)\n",
    "dataloader =  DataLoader(dataset, batch_size=None, shuffle=False,\n",
    "                         # collate_fn=fun,\n",
    "                        )"
   ]
  },
  {
   "cell_type": "code",
   "execution_count": 71,
   "id": "a71454c1-0cf6-4a67-8b7a-438d1d16a0a6",
   "metadata": {},
   "outputs": [
    {
     "name": "stdout",
     "output_type": "stream",
     "text": [
      "torch.Size([2000, 76, 6]) torch.Size([2000])\n",
      "torch.Size([2000, 75, 6]) torch.Size([2000])\n",
      "torch.Size([2000, 79, 6]) torch.Size([2000])\n",
      "torch.Size([2000, 76, 6]) torch.Size([2000])\n",
      "torch.Size([2000, 74, 6]) torch.Size([2000])\n",
      "torch.Size([2000, 76, 6]) torch.Size([2000])\n",
      "torch.Size([2000, 75, 6]) torch.Size([2000])\n",
      "torch.Size([2000, 78, 6]) torch.Size([2000])\n",
      "torch.Size([2000, 73, 6]) torch.Size([2000])\n",
      "torch.Size([2000, 79, 6]) torch.Size([2000])\n",
      "torch.Size([2000, 78, 6]) torch.Size([2000])\n",
      "torch.Size([2000, 75, 6]) torch.Size([2000])\n",
      "torch.Size([2000, 79, 6]) torch.Size([2000])\n",
      "torch.Size([2000, 71, 6]) torch.Size([2000])\n",
      "torch.Size([2000, 79, 6]) torch.Size([2000])\n",
      "torch.Size([2000, 77, 6]) torch.Size([2000])\n",
      "torch.Size([2000, 79, 6]) torch.Size([2000])\n",
      "torch.Size([2000, 72, 6]) torch.Size([2000])\n",
      "torch.Size([2000, 75, 6]) torch.Size([2000])\n",
      "torch.Size([2000, 72, 6]) torch.Size([2000])\n",
      "torch.Size([2000, 79, 6]) torch.Size([2000])\n",
      "torch.Size([2000, 80, 6]) torch.Size([2000])\n",
      "torch.Size([2000, 75, 6]) torch.Size([2000])\n",
      "torch.Size([2000, 75, 6]) torch.Size([2000])\n",
      "torch.Size([2000, 77, 6]) torch.Size([2000])\n",
      "torch.Size([2000, 89, 6]) torch.Size([2000])\n",
      "torch.Size([2000, 86, 6]) torch.Size([2000])\n",
      "torch.Size([2000, 77, 6]) torch.Size([2000])\n",
      "torch.Size([2000, 73, 6]) torch.Size([2000])\n",
      "torch.Size([2000, 79, 6]) torch.Size([2000])\n",
      "torch.Size([2000, 75, 6]) torch.Size([2000])\n",
      "torch.Size([2000, 72, 6]) torch.Size([2000])\n",
      "torch.Size([2000, 73, 6]) torch.Size([2000])\n",
      "torch.Size([2000, 77, 6]) torch.Size([2000])\n",
      "torch.Size([2000, 75, 6]) torch.Size([2000])\n",
      "torch.Size([2000, 83, 6]) torch.Size([2000])\n",
      "torch.Size([2000, 74, 6]) torch.Size([2000])\n",
      "torch.Size([2000, 74, 6]) torch.Size([2000])\n",
      "torch.Size([2000, 81, 6]) torch.Size([2000])\n",
      "torch.Size([2000, 72, 6]) torch.Size([2000])\n",
      "torch.Size([2000, 73, 6]) torch.Size([2000])\n",
      "torch.Size([2000, 76, 6]) torch.Size([2000])\n",
      "torch.Size([2000, 74, 6]) torch.Size([2000])\n",
      "torch.Size([2000, 75, 6]) torch.Size([2000])\n",
      "torch.Size([2000, 81, 6]) torch.Size([2000])\n",
      "torch.Size([2000, 73, 6]) torch.Size([2000])\n",
      "torch.Size([2000, 74, 6]) torch.Size([2000])\n",
      "torch.Size([2000, 76, 6]) torch.Size([2000])\n",
      "torch.Size([2000, 73, 6]) torch.Size([2000])\n",
      "torch.Size([2000, 72, 6]) torch.Size([2000])\n",
      "torch.Size([2000, 79, 6]) torch.Size([2000])\n",
      "torch.Size([2000, 74, 6]) torch.Size([2000])\n",
      "torch.Size([2000, 80, 6]) torch.Size([2000])\n",
      "torch.Size([2000, 72, 6]) torch.Size([2000])\n",
      "torch.Size([2000, 75, 6]) torch.Size([2000])\n",
      "torch.Size([2000, 78, 6]) torch.Size([2000])\n",
      "torch.Size([2000, 79, 6]) torch.Size([2000])\n",
      "torch.Size([2000, 75, 6]) torch.Size([2000])\n",
      "torch.Size([2000, 70, 6]) torch.Size([2000])\n",
      "torch.Size([2000, 78, 6]) torch.Size([2000])\n",
      "torch.Size([2000, 78, 6]) torch.Size([2000])\n",
      "torch.Size([2000, 76, 6]) torch.Size([2000])\n",
      "torch.Size([2000, 85, 6]) torch.Size([2000])\n",
      "torch.Size([2000, 76, 6]) torch.Size([2000])\n",
      "torch.Size([2000, 76, 6]) torch.Size([2000])\n",
      "torch.Size([2000, 76, 6]) torch.Size([2000])\n",
      "torch.Size([2000, 72, 6]) torch.Size([2000])\n",
      "torch.Size([2000, 81, 6]) torch.Size([2000])\n",
      "torch.Size([2000, 75, 6]) torch.Size([2000])\n",
      "torch.Size([2000, 80, 6]) torch.Size([2000])\n",
      "torch.Size([2000, 79, 6]) torch.Size([2000])\n",
      "torch.Size([2000, 79, 6]) torch.Size([2000])\n",
      "torch.Size([2000, 74, 6]) torch.Size([2000])\n",
      "torch.Size([2000, 72, 6]) torch.Size([2000])\n",
      "torch.Size([2000, 81, 6]) torch.Size([2000])\n",
      "torch.Size([2000, 75, 6]) torch.Size([2000])\n",
      "torch.Size([2000, 77, 6]) torch.Size([2000])\n",
      "torch.Size([2000, 75, 6]) torch.Size([2000])\n",
      "torch.Size([2000, 79, 6]) torch.Size([2000])\n",
      "torch.Size([2000, 80, 6]) torch.Size([2000])\n",
      "torch.Size([2000, 78, 6]) torch.Size([2000])\n",
      "torch.Size([2000, 79, 6]) torch.Size([2000])\n",
      "torch.Size([2000, 73, 6]) torch.Size([2000])\n",
      "torch.Size([2000, 74, 6]) torch.Size([2000])\n",
      "torch.Size([2000, 78, 6]) torch.Size([2000])\n",
      "torch.Size([2000, 80, 6]) torch.Size([2000])\n",
      "torch.Size([2000, 76, 6]) torch.Size([2000])\n",
      "torch.Size([2000, 79, 6]) torch.Size([2000])\n",
      "torch.Size([2000, 74, 6]) torch.Size([2000])\n",
      "torch.Size([2000, 74, 6]) torch.Size([2000])\n",
      "torch.Size([2000, 75, 6]) torch.Size([2000])\n",
      "torch.Size([2000, 72, 6]) torch.Size([2000])\n",
      "torch.Size([2000, 82, 6]) torch.Size([2000])\n",
      "torch.Size([2000, 75, 6]) torch.Size([2000])\n",
      "torch.Size([2000, 70, 6]) torch.Size([2000])\n",
      "torch.Size([2000, 76, 6]) torch.Size([2000])\n",
      "torch.Size([2000, 80, 6]) torch.Size([2000])\n",
      "torch.Size([2000, 78, 6]) torch.Size([2000])\n",
      "torch.Size([2000, 77, 6]) torch.Size([2000])\n",
      "torch.Size([2000, 78, 6]) torch.Size([2000])\n",
      "torch.Size([2000, 76, 6]) torch.Size([2000])\n",
      "torch.Size([2000, 75, 6]) torch.Size([2000])\n",
      "torch.Size([2000, 75, 6]) torch.Size([2000])\n",
      "torch.Size([2000, 73, 6]) torch.Size([2000])\n",
      "torch.Size([2000, 75, 6]) torch.Size([2000])\n",
      "torch.Size([2000, 79, 6]) torch.Size([2000])\n",
      "torch.Size([2000, 71, 6]) torch.Size([2000])\n",
      "torch.Size([2000, 77, 6]) torch.Size([2000])\n",
      "torch.Size([2000, 78, 6]) torch.Size([2000])\n",
      "torch.Size([2000, 75, 6]) torch.Size([2000])\n",
      "torch.Size([2000, 82, 6]) torch.Size([2000])\n",
      "torch.Size([2000, 74, 6]) torch.Size([2000])\n",
      "torch.Size([2000, 76, 6]) torch.Size([2000])\n",
      "torch.Size([2000, 72, 6]) torch.Size([2000])\n",
      "torch.Size([2000, 74, 6]) torch.Size([2000])\n",
      "torch.Size([2000, 73, 6]) torch.Size([2000])\n",
      "torch.Size([2000, 76, 6]) torch.Size([2000])\n",
      "torch.Size([2000, 77, 6]) torch.Size([2000])\n",
      "torch.Size([2000, 80, 6]) torch.Size([2000])\n",
      "torch.Size([2000, 80, 6]) torch.Size([2000])\n",
      "torch.Size([2000, 75, 6]) torch.Size([2000])\n",
      "torch.Size([2000, 75, 6]) torch.Size([2000])\n",
      "torch.Size([2000, 79, 6]) torch.Size([2000])\n",
      "torch.Size([2000, 74, 6]) torch.Size([2000])\n",
      "torch.Size([2000, 76, 6]) torch.Size([2000])\n",
      "torch.Size([2000, 81, 6]) torch.Size([2000])\n",
      "torch.Size([2000, 73, 6]) torch.Size([2000])\n",
      "torch.Size([2000, 74, 6]) torch.Size([2000])\n",
      "torch.Size([2000, 78, 6]) torch.Size([2000])\n",
      "torch.Size([2000, 85, 6]) torch.Size([2000])\n",
      "torch.Size([2000, 74, 6]) torch.Size([2000])\n",
      "torch.Size([2000, 77, 6]) torch.Size([2000])\n",
      "torch.Size([2000, 75, 6]) torch.Size([2000])\n",
      "torch.Size([2000, 75, 6]) torch.Size([2000])\n",
      "torch.Size([2000, 84, 6]) torch.Size([2000])\n",
      "torch.Size([2000, 78, 6]) torch.Size([2000])\n",
      "torch.Size([2000, 79, 6]) torch.Size([2000])\n",
      "torch.Size([2000, 75, 6]) torch.Size([2000])\n",
      "torch.Size([2000, 73, 6]) torch.Size([2000])\n",
      "torch.Size([2000, 73, 6]) torch.Size([2000])\n",
      "torch.Size([2000, 80, 6]) torch.Size([2000])\n",
      "torch.Size([2000, 77, 6]) torch.Size([2000])\n",
      "torch.Size([2000, 75, 6]) torch.Size([2000])\n",
      "torch.Size([2000, 80, 6]) torch.Size([2000])\n",
      "torch.Size([2000, 73, 6]) torch.Size([2000])\n",
      "torch.Size([2000, 75, 6]) torch.Size([2000])\n",
      "torch.Size([2000, 71, 6]) torch.Size([2000])\n",
      "torch.Size([2000, 75, 6]) torch.Size([2000])\n",
      "torch.Size([2000, 75, 6]) torch.Size([2000])\n",
      "torch.Size([2000, 72, 6]) torch.Size([2000])\n",
      "torch.Size([2000, 74, 6]) torch.Size([2000])\n",
      "torch.Size([2000, 81, 6]) torch.Size([2000])\n",
      "torch.Size([2000, 79, 6]) torch.Size([2000])\n",
      "torch.Size([2000, 78, 6]) torch.Size([2000])\n",
      "torch.Size([2000, 71, 6]) torch.Size([2000])\n",
      "torch.Size([2000, 75, 6]) torch.Size([2000])\n",
      "torch.Size([2000, 77, 6]) torch.Size([2000])\n",
      "torch.Size([2000, 75, 6]) torch.Size([2000])\n",
      "torch.Size([2000, 77, 6]) torch.Size([2000])\n",
      "torch.Size([2000, 76, 6]) torch.Size([2000])\n",
      "torch.Size([2000, 70, 6]) torch.Size([2000])\n",
      "torch.Size([2000, 74, 6]) torch.Size([2000])\n",
      "torch.Size([2000, 74, 6]) torch.Size([2000])\n",
      "torch.Size([2000, 79, 6]) torch.Size([2000])\n",
      "torch.Size([2000, 75, 6]) torch.Size([2000])\n",
      "torch.Size([2000, 73, 6]) torch.Size([2000])\n",
      "torch.Size([2000, 76, 6]) torch.Size([2000])\n",
      "torch.Size([2000, 73, 6]) torch.Size([2000])\n",
      "torch.Size([2000, 81, 6]) torch.Size([2000])\n",
      "torch.Size([2000, 76, 6]) torch.Size([2000])\n",
      "torch.Size([2000, 76, 6]) torch.Size([2000])\n",
      "torch.Size([2000, 78, 6]) torch.Size([2000])\n",
      "torch.Size([2000, 79, 6]) torch.Size([2000])\n",
      "torch.Size([2000, 81, 6]) torch.Size([2000])\n",
      "torch.Size([2000, 77, 6]) torch.Size([2000])\n",
      "torch.Size([2000, 72, 6]) torch.Size([2000])\n",
      "torch.Size([2000, 74, 6]) torch.Size([2000])\n",
      "torch.Size([2000, 79, 6]) torch.Size([2000])\n",
      "torch.Size([2000, 77, 6]) torch.Size([2000])\n",
      "torch.Size([2000, 76, 6]) torch.Size([2000])\n",
      "torch.Size([2000, 78, 6]) torch.Size([2000])\n",
      "torch.Size([2000, 80, 6]) torch.Size([2000])\n",
      "torch.Size([2000, 71, 6]) torch.Size([2000])\n",
      "torch.Size([2000, 77, 6]) torch.Size([2000])\n",
      "torch.Size([2000, 83, 6]) torch.Size([2000])\n",
      "torch.Size([2000, 78, 6]) torch.Size([2000])\n",
      "torch.Size([2000, 75, 6]) torch.Size([2000])\n",
      "torch.Size([2000, 83, 6]) torch.Size([2000])\n",
      "torch.Size([2000, 75, 6]) torch.Size([2000])\n",
      "torch.Size([2000, 73, 6]) torch.Size([2000])\n",
      "torch.Size([2000, 76, 6]) torch.Size([2000])\n",
      "torch.Size([2000, 76, 6]) torch.Size([2000])\n",
      "torch.Size([2000, 75, 6]) torch.Size([2000])\n",
      "torch.Size([2000, 74, 6]) torch.Size([2000])\n",
      "torch.Size([2000, 74, 6]) torch.Size([2000])\n",
      "torch.Size([2000, 79, 6]) torch.Size([2000])\n",
      "torch.Size([2000, 78, 6]) torch.Size([2000])\n",
      "torch.Size([2000, 76, 6]) torch.Size([2000])\n",
      "torch.Size([2000, 80, 6]) torch.Size([2000])\n",
      "torch.Size([2000, 75, 6]) torch.Size([2000])\n",
      "torch.Size([2000, 74, 6]) torch.Size([2000])\n",
      "torch.Size([2000, 78, 6]) torch.Size([2000])\n",
      "torch.Size([2000, 75, 6]) torch.Size([2000])\n",
      "torch.Size([2000, 75, 6]) torch.Size([2000])\n",
      "torch.Size([2000, 74, 6]) torch.Size([2000])\n",
      "torch.Size([2000, 75, 6]) torch.Size([2000])\n",
      "torch.Size([2000, 72, 6]) torch.Size([2000])\n",
      "torch.Size([2000, 73, 6]) torch.Size([2000])\n",
      "torch.Size([2000, 74, 6]) torch.Size([2000])\n",
      "torch.Size([2000, 85, 6]) torch.Size([2000])\n",
      "torch.Size([2000, 75, 6]) torch.Size([2000])\n",
      "torch.Size([2000, 77, 6]) torch.Size([2000])\n",
      "torch.Size([2000, 86, 6]) torch.Size([2000])\n",
      "torch.Size([2000, 74, 6]) torch.Size([2000])\n",
      "torch.Size([2000, 76, 6]) torch.Size([2000])\n",
      "torch.Size([2000, 75, 6]) torch.Size([2000])\n",
      "torch.Size([2000, 75, 6]) torch.Size([2000])\n",
      "torch.Size([2000, 77, 6]) torch.Size([2000])\n",
      "torch.Size([2000, 80, 6]) torch.Size([2000])\n",
      "torch.Size([2000, 78, 6]) torch.Size([2000])\n",
      "torch.Size([2000, 74, 6]) torch.Size([2000])\n",
      "torch.Size([2000, 78, 6]) torch.Size([2000])\n",
      "torch.Size([2000, 72, 6]) torch.Size([2000])\n",
      "torch.Size([2000, 78, 6]) torch.Size([2000])\n",
      "torch.Size([2000, 74, 6]) torch.Size([2000])\n",
      "torch.Size([2000, 74, 6]) torch.Size([2000])\n",
      "torch.Size([2000, 75, 6]) torch.Size([2000])\n",
      "torch.Size([2000, 75, 6]) torch.Size([2000])\n",
      "torch.Size([2000, 78, 6]) torch.Size([2000])\n",
      "torch.Size([2000, 77, 6]) torch.Size([2000])\n",
      "torch.Size([2000, 75, 6]) torch.Size([2000])\n",
      "torch.Size([2000, 79, 6]) torch.Size([2000])\n",
      "torch.Size([2000, 79, 6]) torch.Size([2000])\n",
      "torch.Size([2000, 71, 6]) torch.Size([2000])\n",
      "torch.Size([2000, 77, 6]) torch.Size([2000])\n",
      "torch.Size([2000, 81, 6]) torch.Size([2000])\n",
      "torch.Size([2000, 77, 6]) torch.Size([2000])\n",
      "torch.Size([2000, 73, 6]) torch.Size([2000])\n",
      "torch.Size([2000, 74, 6]) torch.Size([2000])\n",
      "torch.Size([2000, 78, 6]) torch.Size([2000])\n",
      "torch.Size([2000, 77, 6]) torch.Size([2000])\n",
      "torch.Size([2000, 74, 6]) torch.Size([2000])\n",
      "torch.Size([2000, 73, 6]) torch.Size([2000])\n",
      "torch.Size([2000, 76, 6]) torch.Size([2000])\n",
      "torch.Size([2000, 77, 6]) torch.Size([2000])\n",
      "torch.Size([2000, 72, 6]) torch.Size([2000])\n",
      "torch.Size([2000, 78, 6]) torch.Size([2000])\n",
      "torch.Size([2000, 80, 6]) torch.Size([2000])\n",
      "torch.Size([2000, 83, 6]) torch.Size([2000])\n",
      "torch.Size([2000, 73, 6]) torch.Size([2000])\n",
      "torch.Size([2000, 75, 6]) torch.Size([2000])\n",
      "torch.Size([2000, 74, 6]) torch.Size([2000])\n",
      "torch.Size([2000, 75, 6]) torch.Size([2000])\n",
      "torch.Size([2000, 79, 6]) torch.Size([2000])\n",
      "torch.Size([2000, 77, 6]) torch.Size([2000])\n",
      "torch.Size([2000, 72, 6]) torch.Size([2000])\n",
      "torch.Size([2000, 76, 6]) torch.Size([2000])\n",
      "torch.Size([2000, 81, 6]) torch.Size([2000])\n",
      "torch.Size([2000, 76, 6]) torch.Size([2000])\n",
      "torch.Size([2000, 74, 6]) torch.Size([2000])\n",
      "torch.Size([2000, 78, 6]) torch.Size([2000])\n",
      "torch.Size([2000, 78, 6]) torch.Size([2000])\n",
      "torch.Size([2000, 73, 6]) torch.Size([2000])\n",
      "torch.Size([2000, 83, 6]) torch.Size([2000])\n",
      "torch.Size([2000, 75, 6]) torch.Size([2000])\n",
      "torch.Size([2000, 75, 6]) torch.Size([2000])\n",
      "torch.Size([2000, 75, 6]) torch.Size([2000])\n",
      "torch.Size([2000, 73, 6]) torch.Size([2000])\n",
      "torch.Size([2000, 73, 6]) torch.Size([2000])\n",
      "torch.Size([2000, 79, 6]) torch.Size([2000])\n",
      "torch.Size([2000, 77, 6]) torch.Size([2000])\n",
      "torch.Size([2000, 74, 6]) torch.Size([2000])\n",
      "torch.Size([2000, 78, 6]) torch.Size([2000])\n",
      "torch.Size([2000, 72, 6]) torch.Size([2000])\n",
      "torch.Size([2000, 74, 6]) torch.Size([2000])\n",
      "torch.Size([2000, 74, 6]) torch.Size([2000])\n",
      "torch.Size([2000, 73, 6]) torch.Size([2000])\n",
      "torch.Size([2000, 77, 6]) torch.Size([2000])\n",
      "torch.Size([2000, 74, 6]) torch.Size([2000])\n",
      "torch.Size([2000, 77, 6]) torch.Size([2000])\n",
      "torch.Size([2000, 76, 6]) torch.Size([2000])\n",
      "torch.Size([2000, 77, 6]) torch.Size([2000])\n",
      "torch.Size([2000, 78, 6]) torch.Size([2000])\n",
      "torch.Size([2000, 76, 6]) torch.Size([2000])\n",
      "torch.Size([2000, 79, 6]) torch.Size([2000])\n",
      "torch.Size([2000, 76, 6]) torch.Size([2000])\n",
      "torch.Size([2000, 77, 6]) torch.Size([2000])\n",
      "torch.Size([2000, 80, 6]) torch.Size([2000])\n",
      "torch.Size([2000, 82, 6]) torch.Size([2000])\n",
      "torch.Size([2000, 79, 6]) torch.Size([2000])\n",
      "torch.Size([2000, 81, 6]) torch.Size([2000])\n",
      "torch.Size([2000, 77, 6]) torch.Size([2000])\n",
      "torch.Size([2000, 76, 6]) torch.Size([2000])\n",
      "torch.Size([2000, 80, 6]) torch.Size([2000])\n",
      "torch.Size([2000, 74, 6]) torch.Size([2000])\n",
      "torch.Size([2000, 73, 6]) torch.Size([2000])\n",
      "torch.Size([2000, 76, 6]) torch.Size([2000])\n",
      "torch.Size([2000, 77, 6]) torch.Size([2000])\n",
      "torch.Size([2000, 78, 6]) torch.Size([2000])\n",
      "torch.Size([2000, 75, 6]) torch.Size([2000])\n",
      "torch.Size([2000, 75, 6]) torch.Size([2000])\n",
      "torch.Size([2000, 78, 6]) torch.Size([2000])\n",
      "torch.Size([2000, 79, 6]) torch.Size([2000])\n",
      "torch.Size([2000, 73, 6]) torch.Size([2000])\n",
      "torch.Size([2000, 73, 6]) torch.Size([2000])\n",
      "torch.Size([2000, 79, 6]) torch.Size([2000])\n",
      "torch.Size([2000, 77, 6]) torch.Size([2000])\n",
      "torch.Size([2000, 73, 6]) torch.Size([2000])\n",
      "torch.Size([2000, 77, 6]) torch.Size([2000])\n",
      "torch.Size([2000, 80, 6]) torch.Size([2000])\n",
      "torch.Size([2000, 73, 6]) torch.Size([2000])\n",
      "torch.Size([2000, 72, 6]) torch.Size([2000])\n",
      "torch.Size([2000, 81, 6]) torch.Size([2000])\n",
      "torch.Size([2000, 77, 6]) torch.Size([2000])\n",
      "torch.Size([2000, 80, 6]) torch.Size([2000])\n",
      "torch.Size([2000, 72, 6]) torch.Size([2000])\n",
      "torch.Size([2000, 76, 6]) torch.Size([2000])\n",
      "torch.Size([2000, 76, 6]) torch.Size([2000])\n",
      "torch.Size([2000, 78, 6]) torch.Size([2000])\n",
      "torch.Size([2000, 74, 6]) torch.Size([2000])\n",
      "torch.Size([2000, 75, 6]) torch.Size([2000])\n",
      "torch.Size([2000, 77, 6]) torch.Size([2000])\n",
      "torch.Size([2000, 78, 6]) torch.Size([2000])\n",
      "torch.Size([2000, 80, 6]) torch.Size([2000])\n",
      "torch.Size([2000, 74, 6]) torch.Size([2000])\n",
      "torch.Size([2000, 78, 6]) torch.Size([2000])\n",
      "torch.Size([2000, 79, 6]) torch.Size([2000])\n",
      "torch.Size([2000, 74, 6]) torch.Size([2000])\n",
      "torch.Size([2000, 77, 6]) torch.Size([2000])\n",
      "torch.Size([2000, 79, 6]) torch.Size([2000])\n",
      "torch.Size([2000, 71, 6]) torch.Size([2000])\n",
      "torch.Size([2000, 75, 6]) torch.Size([2000])\n",
      "torch.Size([2000, 78, 6]) torch.Size([2000])\n",
      "torch.Size([2000, 80, 6]) torch.Size([2000])\n",
      "torch.Size([2000, 77, 6]) torch.Size([2000])\n",
      "torch.Size([2000, 77, 6]) torch.Size([2000])\n",
      "torch.Size([2000, 81, 6]) torch.Size([2000])\n",
      "torch.Size([2000, 75, 6]) torch.Size([2000])\n",
      "torch.Size([2000, 82, 6]) torch.Size([2000])\n",
      "torch.Size([2000, 70, 6]) torch.Size([2000])\n",
      "torch.Size([2000, 77, 6]) torch.Size([2000])\n",
      "torch.Size([2000, 76, 6]) torch.Size([2000])\n",
      "torch.Size([2000, 73, 6]) torch.Size([2000])\n",
      "torch.Size([2000, 74, 6]) torch.Size([2000])\n",
      "torch.Size([2000, 75, 6]) torch.Size([2000])\n",
      "torch.Size([2000, 75, 6]) torch.Size([2000])\n",
      "torch.Size([2000, 77, 6]) torch.Size([2000])\n",
      "torch.Size([2000, 73, 6]) torch.Size([2000])\n",
      "torch.Size([2000, 77, 6]) torch.Size([2000])\n",
      "torch.Size([2000, 73, 6]) torch.Size([2000])\n",
      "torch.Size([2000, 79, 6]) torch.Size([2000])\n",
      "torch.Size([2000, 76, 6]) torch.Size([2000])\n",
      "torch.Size([2000, 83, 6]) torch.Size([2000])\n",
      "torch.Size([2000, 81, 6]) torch.Size([2000])\n",
      "torch.Size([2000, 79, 6]) torch.Size([2000])\n",
      "torch.Size([2000, 80, 6]) torch.Size([2000])\n",
      "torch.Size([2000, 76, 6]) torch.Size([2000])\n",
      "torch.Size([2000, 73, 6]) torch.Size([2000])\n",
      "torch.Size([2000, 74, 6]) torch.Size([2000])\n",
      "torch.Size([2000, 76, 6]) torch.Size([2000])\n",
      "torch.Size([2000, 75, 6]) torch.Size([2000])\n",
      "torch.Size([2000, 75, 6]) torch.Size([2000])\n",
      "torch.Size([2000, 77, 6]) torch.Size([2000])\n",
      "torch.Size([2000, 71, 6]) torch.Size([2000])\n",
      "torch.Size([2000, 78, 6]) torch.Size([2000])\n",
      "torch.Size([2000, 74, 6]) torch.Size([2000])\n",
      "torch.Size([2000, 73, 6]) torch.Size([2000])\n",
      "torch.Size([2000, 79, 6]) torch.Size([2000])\n",
      "torch.Size([2000, 77, 6]) torch.Size([2000])\n",
      "torch.Size([2000, 77, 6]) torch.Size([2000])\n",
      "torch.Size([2000, 78, 6]) torch.Size([2000])\n",
      "torch.Size([2000, 77, 6]) torch.Size([2000])\n",
      "torch.Size([2000, 72, 6]) torch.Size([2000])\n",
      "torch.Size([2000, 75, 6]) torch.Size([2000])\n",
      "torch.Size([2000, 73, 6]) torch.Size([2000])\n",
      "torch.Size([2000, 77, 6]) torch.Size([2000])\n",
      "torch.Size([2000, 82, 6]) torch.Size([2000])\n",
      "torch.Size([2000, 73, 6]) torch.Size([2000])\n",
      "torch.Size([2000, 77, 6]) torch.Size([2000])\n",
      "torch.Size([2000, 74, 6]) torch.Size([2000])\n",
      "torch.Size([2000, 69, 6]) torch.Size([2000])\n",
      "torch.Size([2000, 74, 6]) torch.Size([2000])\n",
      "torch.Size([2000, 78, 6]) torch.Size([2000])\n",
      "torch.Size([2000, 73, 6]) torch.Size([2000])\n",
      "torch.Size([2000, 79, 6]) torch.Size([2000])\n",
      "torch.Size([2000, 79, 6]) torch.Size([2000])\n",
      "torch.Size([2000, 74, 6]) torch.Size([2000])\n",
      "torch.Size([2000, 73, 6]) torch.Size([2000])\n",
      "torch.Size([2000, 79, 6]) torch.Size([2000])\n",
      "torch.Size([1074, 74, 6]) torch.Size([1074])\n",
      "torch.Size([2000, 53, 6]) torch.Size([2000])\n",
      "torch.Size([2000, 51, 6]) torch.Size([2000])\n",
      "torch.Size([2000, 55, 6]) torch.Size([2000])\n",
      "torch.Size([2000, 59, 6]) torch.Size([2000])\n",
      "torch.Size([2000, 52, 6]) torch.Size([2000])\n",
      "torch.Size([2000, 52, 6]) torch.Size([2000])\n",
      "torch.Size([2000, 57, 6]) torch.Size([2000])\n",
      "torch.Size([2000, 55, 6]) torch.Size([2000])\n",
      "torch.Size([2000, 62, 6]) torch.Size([2000])\n",
      "torch.Size([2000, 58, 6]) torch.Size([2000])\n",
      "torch.Size([2000, 61, 6]) torch.Size([2000])\n",
      "torch.Size([2000, 59, 6]) torch.Size([2000])\n",
      "torch.Size([2000, 62, 6]) torch.Size([2000])\n",
      "torch.Size([2000, 59, 6]) torch.Size([2000])\n",
      "torch.Size([2000, 50, 6]) torch.Size([2000])\n",
      "torch.Size([2000, 64, 6]) torch.Size([2000])\n",
      "torch.Size([2000, 50, 6]) torch.Size([2000])\n",
      "torch.Size([2000, 59, 6]) torch.Size([2000])\n",
      "torch.Size([2000, 52, 6]) torch.Size([2000])\n",
      "torch.Size([2000, 57, 6]) torch.Size([2000])\n",
      "torch.Size([2000, 50, 6]) torch.Size([2000])\n",
      "torch.Size([2000, 54, 6]) torch.Size([2000])\n",
      "torch.Size([2000, 57, 6]) torch.Size([2000])\n",
      "torch.Size([2000, 56, 6]) torch.Size([2000])\n",
      "torch.Size([2000, 59, 6]) torch.Size([2000])\n",
      "torch.Size([2000, 50, 6]) torch.Size([2000])\n",
      "torch.Size([2000, 63, 6]) torch.Size([2000])\n",
      "torch.Size([2000, 59, 6]) torch.Size([2000])\n",
      "torch.Size([2000, 66, 6]) torch.Size([2000])\n",
      "torch.Size([2000, 60, 6]) torch.Size([2000])\n",
      "torch.Size([2000, 53, 6]) torch.Size([2000])\n",
      "torch.Size([2000, 47, 6]) torch.Size([2000])\n",
      "torch.Size([2000, 51, 6]) torch.Size([2000])\n",
      "torch.Size([2000, 65, 6]) torch.Size([2000])\n",
      "torch.Size([2000, 58, 6]) torch.Size([2000])\n",
      "torch.Size([2000, 53, 6]) torch.Size([2000])\n",
      "torch.Size([2000, 66, 6]) torch.Size([2000])\n",
      "torch.Size([2000, 55, 6]) torch.Size([2000])\n",
      "torch.Size([2000, 54, 6]) torch.Size([2000])\n",
      "torch.Size([2000, 57, 6]) torch.Size([2000])\n",
      "torch.Size([2000, 53, 6]) torch.Size([2000])\n",
      "torch.Size([2000, 56, 6]) torch.Size([2000])\n",
      "torch.Size([2000, 58, 6]) torch.Size([2000])\n",
      "torch.Size([2000, 58, 6]) torch.Size([2000])\n",
      "torch.Size([2000, 59, 6]) torch.Size([2000])\n",
      "torch.Size([2000, 58, 6]) torch.Size([2000])\n",
      "torch.Size([2000, 58, 6]) torch.Size([2000])\n",
      "torch.Size([2000, 48, 6]) torch.Size([2000])\n",
      "torch.Size([2000, 56, 6]) torch.Size([2000])\n",
      "torch.Size([2000, 64, 6]) torch.Size([2000])\n",
      "torch.Size([2000, 57, 6]) torch.Size([2000])\n",
      "torch.Size([2000, 54, 6]) torch.Size([2000])\n",
      "torch.Size([2000, 54, 6]) torch.Size([2000])\n",
      "torch.Size([2000, 52, 6]) torch.Size([2000])\n",
      "torch.Size([2000, 56, 6]) torch.Size([2000])\n",
      "torch.Size([2000, 59, 6]) torch.Size([2000])\n",
      "torch.Size([2000, 58, 6]) torch.Size([2000])\n",
      "torch.Size([2000, 58, 6]) torch.Size([2000])\n",
      "torch.Size([2000, 57, 6]) torch.Size([2000])\n",
      "torch.Size([2000, 58, 6]) torch.Size([2000])\n",
      "torch.Size([2000, 60, 6]) torch.Size([2000])\n",
      "torch.Size([2000, 50, 6]) torch.Size([2000])\n",
      "torch.Size([2000, 51, 6]) torch.Size([2000])\n",
      "torch.Size([2000, 49, 6]) torch.Size([2000])\n",
      "torch.Size([2000, 66, 6]) torch.Size([2000])\n",
      "torch.Size([2000, 56, 6]) torch.Size([2000])\n",
      "torch.Size([2000, 58, 6]) torch.Size([2000])\n",
      "torch.Size([2000, 54, 6]) torch.Size([2000])\n",
      "torch.Size([2000, 59, 6]) torch.Size([2000])\n",
      "torch.Size([2000, 50, 6]) torch.Size([2000])\n",
      "torch.Size([2000, 53, 6]) torch.Size([2000])\n",
      "torch.Size([2000, 58, 6]) torch.Size([2000])\n",
      "torch.Size([2000, 55, 6]) torch.Size([2000])\n",
      "torch.Size([2000, 51, 6]) torch.Size([2000])\n",
      "torch.Size([2000, 54, 6]) torch.Size([2000])\n",
      "torch.Size([2000, 60, 6]) torch.Size([2000])\n",
      "torch.Size([2000, 71, 6]) torch.Size([2000])\n",
      "torch.Size([2000, 55, 6]) torch.Size([2000])\n",
      "torch.Size([2000, 56, 6]) torch.Size([2000])\n",
      "torch.Size([2000, 55, 6]) torch.Size([2000])\n",
      "torch.Size([2000, 52, 6]) torch.Size([2000])\n",
      "torch.Size([2000, 49, 6]) torch.Size([2000])\n",
      "torch.Size([2000, 60, 6]) torch.Size([2000])\n",
      "torch.Size([2000, 53, 6]) torch.Size([2000])\n",
      "torch.Size([2000, 56, 6]) torch.Size([2000])\n",
      "torch.Size([2000, 52, 6]) torch.Size([2000])\n",
      "torch.Size([2000, 61, 6]) torch.Size([2000])\n",
      "torch.Size([2000, 49, 6]) torch.Size([2000])\n",
      "torch.Size([2000, 61, 6]) torch.Size([2000])\n",
      "torch.Size([2000, 56, 6]) torch.Size([2000])\n",
      "torch.Size([2000, 48, 6]) torch.Size([2000])\n",
      "torch.Size([2000, 59, 6]) torch.Size([2000])\n",
      "torch.Size([2000, 50, 6]) torch.Size([2000])\n",
      "torch.Size([2000, 62, 6]) torch.Size([2000])\n",
      "torch.Size([2000, 55, 6]) torch.Size([2000])\n",
      "torch.Size([2000, 51, 6]) torch.Size([2000])\n",
      "torch.Size([2000, 66, 6]) torch.Size([2000])\n",
      "torch.Size([2000, 47, 6]) torch.Size([2000])\n",
      "torch.Size([2000, 59, 6]) torch.Size([2000])\n",
      "torch.Size([2000, 61, 6]) torch.Size([2000])\n",
      "torch.Size([2000, 52, 6]) torch.Size([2000])\n",
      "torch.Size([2000, 58, 6]) torch.Size([2000])\n",
      "torch.Size([2000, 51, 6]) torch.Size([2000])\n",
      "torch.Size([2000, 55, 6]) torch.Size([2000])\n",
      "torch.Size([2000, 47, 6]) torch.Size([2000])\n",
      "torch.Size([2000, 56, 6]) torch.Size([2000])\n",
      "torch.Size([2000, 58, 6]) torch.Size([2000])\n",
      "torch.Size([2000, 52, 6]) torch.Size([2000])\n",
      "torch.Size([2000, 51, 6]) torch.Size([2000])\n",
      "torch.Size([2000, 53, 6]) torch.Size([2000])\n",
      "torch.Size([2000, 51, 6]) torch.Size([2000])\n",
      "torch.Size([2000, 54, 6]) torch.Size([2000])\n",
      "torch.Size([2000, 58, 6]) torch.Size([2000])\n",
      "torch.Size([2000, 57, 6]) torch.Size([2000])\n",
      "torch.Size([2000, 59, 6]) torch.Size([2000])\n",
      "torch.Size([2000, 54, 6]) torch.Size([2000])\n",
      "torch.Size([2000, 56, 6]) torch.Size([2000])\n",
      "torch.Size([2000, 56, 6]) torch.Size([2000])\n",
      "torch.Size([2000, 54, 6]) torch.Size([2000])\n",
      "torch.Size([2000, 49, 6]) torch.Size([2000])\n",
      "torch.Size([2000, 49, 6]) torch.Size([2000])\n",
      "torch.Size([2000, 56, 6]) torch.Size([2000])\n",
      "torch.Size([2000, 56, 6]) torch.Size([2000])\n",
      "torch.Size([2000, 66, 6]) torch.Size([2000])\n",
      "torch.Size([2000, 62, 6]) torch.Size([2000])\n",
      "torch.Size([2000, 53, 6]) torch.Size([2000])\n",
      "torch.Size([2000, 56, 6]) torch.Size([2000])\n",
      "torch.Size([2000, 57, 6]) torch.Size([2000])\n",
      "torch.Size([2000, 48, 6]) torch.Size([2000])\n",
      "torch.Size([2000, 49, 6]) torch.Size([2000])\n",
      "torch.Size([2000, 62, 6]) torch.Size([2000])\n",
      "torch.Size([2000, 56, 6]) torch.Size([2000])\n",
      "torch.Size([2000, 47, 6]) torch.Size([2000])\n",
      "torch.Size([2000, 59, 6]) torch.Size([2000])\n",
      "torch.Size([2000, 57, 6]) torch.Size([2000])\n",
      "torch.Size([2000, 56, 6]) torch.Size([2000])\n",
      "torch.Size([2000, 53, 6]) torch.Size([2000])\n",
      "torch.Size([2000, 62, 6]) torch.Size([2000])\n",
      "torch.Size([2000, 57, 6]) torch.Size([2000])\n",
      "torch.Size([2000, 58, 6]) torch.Size([2000])\n",
      "torch.Size([2000, 52, 6]) torch.Size([2000])\n",
      "torch.Size([2000, 55, 6]) torch.Size([2000])\n",
      "torch.Size([2000, 62, 6]) torch.Size([2000])\n",
      "torch.Size([2000, 50, 6]) torch.Size([2000])\n",
      "torch.Size([2000, 58, 6]) torch.Size([2000])\n",
      "torch.Size([2000, 54, 6]) torch.Size([2000])\n",
      "torch.Size([2000, 60, 6]) torch.Size([2000])\n",
      "torch.Size([2000, 48, 6]) torch.Size([2000])\n",
      "torch.Size([2000, 56, 6]) torch.Size([2000])\n",
      "torch.Size([2000, 57, 6]) torch.Size([2000])\n",
      "torch.Size([2000, 55, 6]) torch.Size([2000])\n",
      "torch.Size([2000, 61, 6]) torch.Size([2000])\n",
      "torch.Size([2000, 55, 6]) torch.Size([2000])\n",
      "torch.Size([2000, 57, 6]) torch.Size([2000])\n",
      "torch.Size([2000, 62, 6]) torch.Size([2000])\n",
      "torch.Size([2000, 56, 6]) torch.Size([2000])\n",
      "torch.Size([2000, 50, 6]) torch.Size([2000])\n",
      "torch.Size([2000, 59, 6]) torch.Size([2000])\n",
      "torch.Size([2000, 51, 6]) torch.Size([2000])\n",
      "torch.Size([2000, 58, 6]) torch.Size([2000])\n",
      "torch.Size([2000, 50, 6]) torch.Size([2000])\n",
      "torch.Size([2000, 61, 6]) torch.Size([2000])\n",
      "torch.Size([2000, 53, 6]) torch.Size([2000])\n",
      "torch.Size([2000, 52, 6]) torch.Size([2000])\n",
      "torch.Size([2000, 61, 6]) torch.Size([2000])\n",
      "torch.Size([2000, 49, 6]) torch.Size([2000])\n",
      "torch.Size([2000, 49, 6]) torch.Size([2000])\n",
      "torch.Size([2000, 53, 6]) torch.Size([2000])\n",
      "torch.Size([2000, 47, 6]) torch.Size([2000])\n",
      "torch.Size([2000, 49, 6]) torch.Size([2000])\n",
      "torch.Size([2000, 54, 6]) torch.Size([2000])\n",
      "torch.Size([2000, 58, 6]) torch.Size([2000])\n",
      "torch.Size([2000, 55, 6]) torch.Size([2000])\n",
      "torch.Size([2000, 59, 6]) torch.Size([2000])\n",
      "torch.Size([2000, 58, 6]) torch.Size([2000])\n",
      "torch.Size([2000, 60, 6]) torch.Size([2000])\n",
      "torch.Size([2000, 56, 6]) torch.Size([2000])\n",
      "torch.Size([2000, 62, 6]) torch.Size([2000])\n",
      "torch.Size([2000, 62, 6]) torch.Size([2000])\n",
      "torch.Size([2000, 54, 6]) torch.Size([2000])\n",
      "torch.Size([2000, 57, 6]) torch.Size([2000])\n",
      "torch.Size([2000, 63, 6]) torch.Size([2000])\n",
      "torch.Size([387, 49, 6]) torch.Size([387])\n"
     ]
    }
   ],
   "source": [
    "for i, j, _ in dataloader:\n",
    "    print(i.shape, j.shape)"
   ]
  },
  {
   "cell_type": "code",
   "execution_count": 73,
   "id": "e8a6f9d9-c3ee-41c4-bb05-6d4febbf5acc",
   "metadata": {},
   "outputs": [
    {
     "name": "stdout",
     "output_type": "stream",
     "text": [
      "['__pycache__', 'classification_pipline.py', 'classification_metrics.py', 'classification', 'classification_loss.py', 'test_particles', 'config.yaml', 'classification_models.py', 'classification_config.yaml', '.ipynb_checkpoints']\n",
      "mc_params True\n",
      "keys ['norm_param', 'test', 'train', 'val']\n",
      "mc_params True\n",
      "keys ['norm_param', 'test', 'train', 'val']\n",
      "Encoder has params: 1081360 Decoder has params: 2390537\n",
      "Saving Path: /home/rfit/Telescope_Array/phd_work/Models/Classification/test_particles/predict_part\n",
      "<torch.utils.data.dataloader.DataLoader object at 0x7fae16629eb0>\n"
     ]
    },
    {
     "name": "stderr",
     "output_type": "stream",
     "text": [
      "100%|████████████████████████████████████████████████████████████████████████████████████████████████████████████████████████████████████████████████████████████████████████████| 573/573 [00:42<00:00, 13.34it/s]\n"
     ]
    },
    {
     "name": "stdout",
     "output_type": "stream",
     "text": [
      "{'precision': 0.31412128573213954, 'recall': 0.7104644238131437, 'f1_score': 0.43563363454322107}\n"
     ]
    }
   ],
   "source": [
    "config = 'classification_config.yaml'\n",
    "pipline = cl_pipline.ClassificationPipline(config, many_val_loaders =False)\n",
    "y_preds, y_target = pipline.test(classificator_path, dataloader)"
   ]
  },
  {
   "cell_type": "code",
   "execution_count": 77,
   "id": "b1251426-ac87-4046-acb4-24f5c7cf9774",
   "metadata": {},
   "outputs": [],
   "source": [
    "import matplotlib.pyplot as plt\n",
    "from sklearn.datasets import make_classification\n",
    "from sklearn.metrics import confusion_matrix, ConfusionMatrixDisplay\n",
    "from sklearn.model_selection import train_test_split"
   ]
  },
  {
   "cell_type": "code",
   "execution_count": 78,
   "id": "f71134f3-5700-4f4e-ac10-9d9ee22d0c76",
   "metadata": {},
   "outputs": [
    {
     "data": {
      "text/plain": [
       "(array([[  1.8217733 ,   0.795335  , -18.782484  , ..., -19.217041  ,\n",
       "         -18.854532  , -17.188616  ],\n",
       "        [  3.0354636 ,   2.6118023 , -18.842985  , ..., -18.91721   ,\n",
       "         -18.863356  , -17.552792  ],\n",
       "        [  3.103892  ,   0.58110845, -18.813307  , ..., -19.233932  ,\n",
       "         -18.855537  , -18.01518   ],\n",
       "        ...,\n",
       "        [  1.3124806 ,   4.5716434 , -18.809875  , ..., -19.079372  ,\n",
       "         -18.859777  , -18.533377  ],\n",
       "        [  3.8391638 ,   3.559305  , -18.777317  , ..., -19.136862  ,\n",
       "         -18.814266  , -19.937     ],\n",
       "        [  2.405781  ,   4.966532  , -18.836012  , ..., -19.247013  ,\n",
       "         -18.86187   , -18.412495  ]], dtype=float32),\n",
       " array([0, 0, 0, ..., 1, 1, 1]))"
      ]
     },
     "execution_count": 78,
     "metadata": {},
     "output_type": "execute_result"
    }
   ],
   "source": [
    "y_preds, y_target"
   ]
  },
  {
   "cell_type": "code",
   "execution_count": 81,
   "id": "b7c28442-0eaa-4c5a-9932-e591d40eacaf",
   "metadata": {},
   "outputs": [
    {
     "data": {
      "text/plain": [
       "(array([0, 0, 0, ..., 1, 1, 1]),\n",
       " array([[  1.8217733 ,   0.795335  , -18.782484  , ..., -19.217041  ,\n",
       "         -18.854532  , -17.188616  ],\n",
       "        [  3.0354636 ,   2.6118023 , -18.842985  , ..., -18.91721   ,\n",
       "         -18.863356  , -17.552792  ],\n",
       "        [  3.103892  ,   0.58110845, -18.813307  , ..., -19.233932  ,\n",
       "         -18.855537  , -18.01518   ],\n",
       "        ...,\n",
       "        [  1.3124806 ,   4.5716434 , -18.809875  , ..., -19.079372  ,\n",
       "         -18.859777  , -18.533377  ],\n",
       "        [  3.8391638 ,   3.559305  , -18.777317  , ..., -19.136862  ,\n",
       "         -18.814266  , -19.937     ],\n",
       "        [  2.405781  ,   4.966532  , -18.836012  , ..., -19.247013  ,\n",
       "         -18.86187   , -18.412495  ]], dtype=float32))"
      ]
     },
     "execution_count": 81,
     "metadata": {},
     "output_type": "execute_result"
    }
   ],
   "source": [
    "y_target, y_preds"
   ]
  },
  {
   "cell_type": "code",
   "execution_count": 83,
   "id": "767f2cc0-666e-4cbf-83a0-c1529011f36c",
   "metadata": {},
   "outputs": [
    {
     "data": {
      "text/plain": [
       "((1143461, 64), (1143461,))"
      ]
     },
     "execution_count": 83,
     "metadata": {},
     "output_type": "execute_result"
    }
   ],
   "source": [
    ".shape, y_target.shape"
   ]
  },
  {
   "cell_type": "code",
   "execution_count": 89,
   "id": "0e4d9adf-484f-458c-a798-39d82f5f6c9c",
   "metadata": {},
   "outputs": [
    {
     "data": {
      "text/plain": [
       "(array([0, 0, 0, ..., 1, 0, 1]), (1143461,))"
      ]
     },
     "execution_count": 89,
     "metadata": {},
     "output_type": "execute_result"
    }
   ],
   "source": [
    "y_preds_slice = np.argmax(y_preds[:,:2], axis=1)\n",
    "y_preds_slice, y_preds_slice.shape"
   ]
  },
  {
   "cell_type": "code",
   "execution_count": 94,
   "id": "7ea5cfb6-f958-4264-b9e8-ae05098cd84c",
   "metadata": {},
   "outputs": [
    {
     "data": {
      "text/plain": [
       "(array([0, 0, 0, ..., 1, 0, 1]), array([0, 0, 0, ..., 1, 1, 1]))"
      ]
     },
     "execution_count": 94,
     "metadata": {},
     "output_type": "execute_result"
    }
   ],
   "source": [
    "y_preds_slice, y_target"
   ]
  },
  {
   "cell_type": "code",
   "execution_count": 96,
   "id": "efd13219-5338-4cae-942d-933235cea3ea",
   "metadata": {},
   "outputs": [
    {
     "data": {
      "text/plain": [
       "((1143461,), (1143461,))"
      ]
     },
     "execution_count": 96,
     "metadata": {},
     "output_type": "execute_result"
    }
   ],
   "source": [
    "y_preds_slice.shape, y_target.shape"
   ]
  },
  {
   "cell_type": "code",
   "execution_count": 100,
   "id": "4de7bb1a-d802-4e2d-aef2-80f335529792",
   "metadata": {},
   "outputs": [
    {
     "data": {
      "text/plain": [
       "<sklearn.metrics._plot.confusion_matrix.ConfusionMatrixDisplay at 0x7fae14ffaa90>"
      ]
     },
     "execution_count": 100,
     "metadata": {},
     "output_type": "execute_result"
    },
    {
     "data": {
      "image/png": "[encoded data removed]",
      "text/plain": [
       "<Figure size 640x480 with 2 Axes>"
      ]
     },
     "metadata": {},
     "output_type": "display_data"
    }
   ],
   "source": [
    "cm = confusion_matrix(y_target, y_preds_slice, normalize='true')\n",
    "disp = ConfusionMatrixDisplay(confusion_matrix=cm,\n",
    "                              display_labels=['photon', 'pr'])\n",
    "disp.plot()"
   ]
  },
  {
   "cell_type": "code",
   "execution_count": null,
   "id": "72099b2d-b3df-4e58-bc7b-3092cc43a8e9",
   "metadata": {},
   "outputs": [],
   "source": []
  }
 ],
 "metadata": {
  "kernelspec": {
   "display_name": "Python 3 (ipykernel)",
   "language": "python",
   "name": "python3"
  },
  "language_info": {
   "codemirror_mode": {
    "name": "ipython",
    "version": 3
   },
   "file_extension": ".py",
   "mimetype": "text/x-python",
   "name": "python",
   "nbconvert_exporter": "python",
   "pygments_lexer": "ipython3",
   "version": "3.9.21"
  }
 },
 "nbformat": 4,
 "nbformat_minor": 5
}
