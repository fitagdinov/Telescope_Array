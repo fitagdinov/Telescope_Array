{
 "cells": [
  {
   "cell_type": "code",
   "execution_count": 1,
   "metadata": {},
   "outputs": [],
   "source": [
    "import h5py as h5\n",
    "import numpy as np\n",
    "import os\n",
    "import matplotlib.pyplot as plt\n",
    "from tqdm import tqdm\n",
    "data_path = '/home/rfit/Telescope_Array/phd_work/data/normed/pr_q4_14yr_e1_0110_excl_sat_F_excl_geo_F.h5'"
   ]
  },
  {
   "cell_type": "code",
   "execution_count": 5,
   "metadata": {},
   "outputs": [
    {
     "name": "stdout",
     "output_type": "stream",
     "text": [
      "keys ['norm_param', 'test', 'train', 'val']\n",
      "['dt_bundle', 'dt_mask', 'dt_params', 'ev_ids', 'ev_starts', 'mc_params', 'recos', 'wfs_flat']\n",
      "[       0       54       86 ... 12362704 12362748 12362787]\n",
      "[[2.01406130e+07 2.38124167e+04 1.00000000e+00]\n",
      " [2.02204100e+07 2.14129791e+05 1.00000000e+00]\n",
      " [2.01101270e+07 2.02723611e+05 1.00000000e+00]\n",
      " ...\n",
      " [2.01308190e+07 1.12244816e+05 1.00000000e+00]\n",
      " [2.01202170e+07 2.50193128e+04 1.00000000e+00]\n",
      " [2.01001020e+07 1.25212122e+05 1.00000000e+00]]\n",
      "<HDF5 dataset \"dt_params\": shape (12362787, 6), type \"<f4\">\n"
     ]
    }
   ],
   "source": [
    "with h5.File(data_path,'r') as f:\n",
    "    print('keys', list(f.keys()))\n",
    "    train = f['test']\n",
    "    print(list(train.keys()))\n",
    "    print(train['ev_starts'][()])\n",
    "    print(train['ev_ids'][()])\n",
    "    print(train['dt_params'])\n",
    "    \n",
    "    norm_param = f['norm_param']['dt_params']\n",
    "    norm_param_std = norm_param['std'][()]\n",
    "    norm_param_mean = norm_param['mean'][()]\n",
    "    ev_starts_data = train['ev_starts'][()] \n",
    "    dt_params_data = train['dt_params'][()]\n",
    "    ev_ids_data = train['ev_ids'][()]\n",
    "    dt_mask = train['dt_mask'][()]"
   ]
  },
  {
   "cell_type": "code",
   "execution_count": 6,
   "metadata": {},
   "outputs": [
    {
     "name": "stderr",
     "output_type": "stream",
     "text": [
      "100%|██████████| 499795/499795 [00:00<00:00, 1028753.56it/s]\n"
     ]
    }
   ],
   "source": [
    "data = []\n",
    "for idx in tqdm(range(len(ev_starts_data)-1)):\n",
    "    st = ev_starts_data[idx]\n",
    "    fn = ev_starts_data[idx + 1]\n",
    "    data.append(dt_params_data[st:fn])"
   ]
  },
  {
   "cell_type": "code",
   "execution_count": 8,
   "metadata": {},
   "outputs": [
    {
     "name": "stdout",
     "output_type": "stream",
     "text": [
      "/home/rfit/Telescope_Array/phd_work\n"
     ]
    }
   ],
   "source": [
    "cd .."
   ]
  },
  {
   "cell_type": "code",
   "execution_count": 9,
   "metadata": {},
   "outputs": [],
   "source": [
    "import src.train_VAE as VAE_dir"
   ]
  },
  {
   "cell_type": "code",
   "execution_count": null,
   "metadata": {},
   "outputs": [],
   "source": [
    "model = VAE_dir.model.VAE()"
   ]
  }
 ],
 "metadata": {
  "kernelspec": {
   "display_name": "Python 3",
   "language": "python",
   "name": "python3"
  },
  "language_info": {
   "codemirror_mode": {
    "name": "ipython",
    "version": 3
   },
   "file_extension": ".py",
   "mimetype": "text/x-python",
   "name": "python",
   "nbconvert_exporter": "python",
   "pygments_lexer": "ipython3",
   "version": "3.6.10"
  }
 },
 "nbformat": 4,
 "nbformat_minor": 4
}
