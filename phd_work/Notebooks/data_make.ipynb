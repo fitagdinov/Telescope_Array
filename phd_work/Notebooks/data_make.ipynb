{
 "cells": [
  {
   "cell_type": "markdown",
   "metadata": {},
   "source": [
    "## /home/rfit/Telescope_Array/phd_work/src/make_data/make_bundle_iter_mask.py"
   ]
  },
  {
   "cell_type": "code",
   "execution_count": 29,
   "metadata": {},
   "outputs": [],
   "source": [
    "import numpy as np\n",
    "import h5py as h5\n",
    "\n",
    "take_log_wf = True\n",
    "reco_key = 'reco_ivanov'\n",
    "iter_step = 100000\n",
    "\n",
    "MC_dir_path = '/home3/ivkhar/TA/data/MC/'\n",
    "h5_in = 'pr_fe_all_1945_no_sat_no_geo_0110.h5'\n",
    "h5_out = h5_in[:-3]+'_bundled.h5'\n",
    "h5_in = MC_dir_path + 'merged/composition_spectrum/' + h5_in\n",
    "h5_in = '/home3/ivkhar/TA/data/MC/merged/composition_spectrum/pr-fe_q4_e1_no_sat_no_geo_0110.h5'\n",
    "MC_dir_path_ROBERT = '/home/rfit/Telescope_Array/phd_work/data/'\n",
    "# h5_out = MC_dir_path_ROBERT + 'bundled/' + h5_out\n",
    "\n",
    "take_bdt_params = (0,1,2,5,8,10,11,12,13)\n",
    "take_reco = (0,1,4,5)\n",
    "aux_vals = np.array( [-5., -5., 0., 0., 0., 0.] ).astype(np.float32)"
   ]
  },
  {
   "cell_type": "code",
   "execution_count": 30,
   "metadata": {},
   "outputs": [
    {
     "name": "stdout",
     "output_type": "stream",
     "text": [
      "/home3/ivkhar/TA/data/MC/merged/composition_spectrum/pr-fe_q4_e1_no_sat_no_geo_0110.h5 /home/rfit/Telescope_Array/phd_work/data/bundled/pr_fe_all_1945_no_sat_no_geo_0110_bundled.h5\n"
     ]
    },
    {
     "data": {
      "text/plain": [
       "(True, True)"
      ]
     },
     "execution_count": 30,
     "metadata": {},
     "output_type": "execute_result"
    }
   ],
   "source": [
    "import os\n",
    "os.makedirs('/home/rfit/Telescope_Array/phd_work/data/bundled', exist_ok=True)\n",
    "h5_out = os.path.join(MC_dir_path_ROBERT, 'bundled', h5_out)\n",
    "print(h5_in, h5_out)\n",
    "os.path.exists(h5_in), os.path.exists(h5_out)\n"
   ]
  },
  {
   "cell_type": "code",
   "execution_count": 34,
   "metadata": {},
   "outputs": [
    {
     "name": "stdout",
     "output_type": "stream",
     "text": [
      "<KeysViewHDF5 ['bdt_params', 'dt_ids', 'dt_params', 'dt_wfs', 'ev_ids', 'ev_starts', 'idxs_shuffl', 'mc_params', 'models_ids', 'reco_ivanov', 'reco_ivanov_params', 'reco_rubtsov', 'reco_rubtsov_params']>\n"
     ]
    }
   ],
   "source": [
    "with h5.File(h5_in,'r') as hi, h5.File(h5_out,'w') as ho:\n",
    "    print(hi.keys())\n",
    "    ho_ds = {}\n",
    "    num_evs = hi['mc_params'].shape[0]\n",
    "    num_hits = hi['dt_params'].shape[0]\n",
    "#     print(hi['mc_params'].shape)\n",
    "#     for key in ['mc_params','ev_ids']:\n",
    "#         ho_ds[key] = ho.create_dataset(key, shape=np.concatenate( ([num_evs,],hi[key].shape[1:]) ), dtype=hi[key].dtype )\n",
    "#     print(ho_ds)"
   ]
  },
  {
   "cell_type": "code",
   "execution_count": 36,
   "metadata": {},
   "outputs": [
    {
     "name": "stdout",
     "output_type": "stream",
     "text": [
      "[        0         8        39 ... 219807274 219807288 219807296]\n",
      "(2187709, 128, 2) (219807296, 128, 2)\n"
     ]
    },
    {
     "ename": "KeyboardInterrupt",
     "evalue": "",
     "output_type": "error",
     "traceback": [
      "\u001b[0;31m---------------------------------------------------------------------------\u001b[0m",
      "\u001b[0;31mKeyboardInterrupt\u001b[0m                         Traceback (most recent call last)",
      "\u001b[0;32m<ipython-input-36-7c198238ce9f>\u001b[0m in \u001b[0;36m<module>\u001b[0;34m\u001b[0m\n\u001b[1;32m     34\u001b[0m         \u001b[0;32mif\u001b[0m \u001b[0mtake_log_wf\u001b[0m\u001b[0;34m:\u001b[0m\u001b[0;34m\u001b[0m\u001b[0;34m\u001b[0m\u001b[0m\n\u001b[1;32m     35\u001b[0m             \u001b[0mwfs\u001b[0m \u001b[0;34m+=\u001b[0m \u001b[0;36m1\u001b[0m\u001b[0;34m\u001b[0m\u001b[0;34m\u001b[0m\u001b[0m\n\u001b[0;32m---> 36\u001b[0;31m             \u001b[0mwfs\u001b[0m \u001b[0;34m=\u001b[0m \u001b[0mnp\u001b[0m\u001b[0;34m.\u001b[0m\u001b[0mwhere\u001b[0m\u001b[0;34m(\u001b[0m \u001b[0mwfs\u001b[0m\u001b[0;34m>\u001b[0m\u001b[0;36m0\u001b[0m\u001b[0;34m,\u001b[0m \u001b[0mwfs\u001b[0m\u001b[0;34m,\u001b[0m \u001b[0;36m1e-5\u001b[0m \u001b[0;34m)\u001b[0m\u001b[0;34m\u001b[0m\u001b[0;34m\u001b[0m\u001b[0m\n\u001b[0m\u001b[1;32m     37\u001b[0m             \u001b[0mwfs\u001b[0m \u001b[0;34m=\u001b[0m \u001b[0mnp\u001b[0m\u001b[0;34m.\u001b[0m\u001b[0mlog\u001b[0m\u001b[0;34m(\u001b[0m \u001b[0mwfs\u001b[0m \u001b[0;34m)\u001b[0m\u001b[0;34m\u001b[0m\u001b[0;34m\u001b[0m\u001b[0m\n\u001b[1;32m     38\u001b[0m \u001b[0;31m#         ho_ds['wfs_flat'][f_hit:l_hit] = wfs\u001b[0m\u001b[0;34m\u001b[0m\u001b[0;34m\u001b[0m\u001b[0;34m\u001b[0m\u001b[0m\n",
      "\u001b[0;31mKeyboardInterrupt\u001b[0m: "
     ]
    }
   ],
   "source": [
    "# make out\n",
    "proc = 0\n",
    "with h5.File(h5_in,'r') as hi, h5.File(h5_out,'w') as ho:\n",
    "    ev_starts = hi['ev_starts'][:]\n",
    "    # init datasets\n",
    "    ho_ds = {}\n",
    "    num_evs = hi['mc_params'].shape[0]\n",
    "    num_hits = hi['dt_params'].shape[0]\n",
    "    for key in ['mc_params','ev_ids']:\n",
    "        ho_ds[key] = ho.create_dataset(key, shape=np.concatenate( ([num_evs,],hi[key].shape[1:]) ), dtype=hi[key].dtype )\n",
    "    ho_ds['wfs_flat'] = ho.create_dataset('wfs_flat', shape=np.concatenate( ([num_hits,],hi['dt_wfs'].shape[1:]) ), dtype=hi['dt_wfs'].dtype )\n",
    "    ho_ds['dt_params'] = ho.create_dataset('dt_params', shape=np.concatenate( ([num_hits,],hi['dt_params'].shape[1:]) ), dtype=hi['dt_params'].dtype )\n",
    "    ho_ds['recos'] = ho.create_dataset('recos', shape=(num_evs,len(take_reco)+2+len(take_bdt_params)), dtype=hi[reco_key].dtype )\n",
    "    ho_ds['dt_bundle'] = ho.create_dataset('dt_bundle', shape=(num_evs,6,6,7), dtype=np.float32 )\n",
    "    ho_ds['det_max_wf'] = ho.create_dataset('det_max_wf', shape=(num_evs,128,2), dtype=np.float32 )\n",
    "    ho_ds['det_max_params'] = ho.create_dataset('det_max_params', shape=(num_evs,6), dtype=np.float32 )\n",
    "    ho_ds['dt_mask'] = ho.create_dataset('dt_mask', shape=(num_hits,2), dtype=np.float32 ) # mask for saturated and geo-excluded dets\n",
    "    ho_ds['dt_bunlde_mask'] = ho.create_dataset('dt_bunlde_mask', shape=(num_evs,6,6,2), dtype=np.float32 )\n",
    "    print(ev_starts)\n",
    "    while proc<num_evs:\n",
    "        step = min(iter_step,num_evs-proc)\n",
    "        f_ev = proc\n",
    "        l_ev = proc + step\n",
    "        f_hit = ev_starts[proc]\n",
    "        l_hit = ev_starts[proc+step]\n",
    "        l_ev_starts = ev_starts[f_ev:l_ev+1] - ev_starts[f_ev]\n",
    "        wfs = hi['dt_wfs'][f_hit:l_hit]\n",
    "        dts = hi['dt_params'][f_hit:l_hit]\n",
    "#         mask_dets = hi['dt_mask'][f_hit:l_hit]\n",
    "        print(wfs.shape, hi['dt_wfs'].shape)\n",
    "        for key in ['ev_ids','mc_params']:\n",
    "            ho_ds[key][f_ev:l_ev] = hi[key][f_ev:l_ev]\n",
    "        # flat wfs\n",
    "        if take_log_wf:\n",
    "            wfs += 1\n",
    "            wfs = np.where( wfs>0, wfs, 1e-5 )\n",
    "            wfs = np.log( wfs )\n",
    "#         ho_ds['wfs_flat'][f_hit:l_hit] = wfs\n",
    "#         ho_ds['dt_params'][f_hit:l_hit] = dts\n",
    "#         ho_ds['recos'][f_ev:l_ev] = np.concatenate( (hi[reco_key][f_ev:l_ev][:,take_reco],hi['reco_rubtsov_params'][f_ev:l_ev],hi['bdt_params'][f_ev:l_ev][:,take_bdt_params]), axis=1 )\n",
    "#         # most active\n",
    "#         idxs_mostQ = np.array([ l_ev_starts[i]+np.argmax(dts[l_ev_starts[i]:l_ev_starts[i+1],3]) for i in range(step) ])\n",
    "#         mostQ_params = np.array([ dts[idx] for idx in idxs_mostQ ])\n",
    "#         mostQ_wfs = np.stack([ wfs[idx] for idx in idxs_mostQ ])\n",
    "#         ho_ds['det_max_wf'][f_ev:l_ev] = mostQ_wfs\n",
    "#         ho_ds['det_max_params'][f_ev:l_ev] = mostQ_params\n",
    "#         # geom bundle\n",
    "#         # make grid of DT ids\n",
    "#         dt_ids = hi['dt_ids'][f_hit:l_hit,0]\n",
    "#         x_ids = dt_ids // 100\n",
    "#         y_ids = dt_ids % 100\n",
    "#         mostQ_xids = np.array([ x_ids[idx] for idx in idxs_mostQ ])\n",
    "#         mostQ_yids = np.array([ y_ids[idx] for idx in idxs_mostQ ])\n",
    "#         Q_x_grid = np.array([ 3 if x>0 else 2 for x in mostQ_params[:,0] ])\n",
    "#         Q_y_grid = np.array([ 3 if y>0 else 2 for y in mostQ_params[:,1] ])\n",
    "#         tl_x = np.array([ mostQ_xids[i]-Q_x_grid[i] for i in range(step) ])\n",
    "#         tl_y = np.array([ mostQ_yids[i]-Q_y_grid[i] for i in range(step) ])\n",
    "#         xs_ids = np.array([ [ x+i for i in range(6) ] for x in tl_x ])[:,:,np.newaxis] # ev, 6, 1\n",
    "#         xs_ids = np.repeat( xs_ids, 6, axis=2 ) # ev, 6, 6\n",
    "#         ys_ids = np.array([ [ y+i for i in range(6) ] for y in tl_y ])[:,np.newaxis,:] # ev, 1, 6\n",
    "#         ys_ids = np.repeat( ys_ids, 6, axis=1 ) # ev, 6, 6\n",
    "#         grids = xs_ids*100 + ys_ids # ev, 6, 6\n",
    "#         # get mask for writing\n",
    "#         grids = grids.reshape(step,36)\n",
    "#         coinc = [ [ np.nonzero(dt_ids[l_ev_starts[ev]:l_ev_starts[ev+1]]==g_id) for g_id in grids[ev] ] for ev in range(step) ] # ev, num_dt\n",
    "#         mask_flat = [ [ l_ev_starts[ev]+coinc[ev][j][0][0] for j in range(36) if len(coinc[ev][j][0])>0 ] for ev in range(step) ]\n",
    "#         mask_flat = np.concatenate( mask_flat )\n",
    "#         mask_grid = np.array([ [ True if len(coinc[ev][j][0])>0 else False for j in range(36) ] for ev in range(step) ])\n",
    "#         mask_grid = mask_grid.reshape(step,6,6)\n",
    "#         # write\n",
    "#         dt_grid = np.full( (step,6,6,6), aux_vals )\n",
    "#         dt_grid[mask_grid] = dts[mask_flat]\n",
    "#         dt_grid = np.concatenate( (dt_grid,np.expand_dims(mask_grid, axis=-1)), axis=-1 )\n",
    "#         ho_ds['dt_bundle'][f_ev:l_ev]= dt_grid\n",
    "#         dt_mask_dets = np.full( (step,6,6,2), False )\n",
    "#         dt_mask_dets[mask_grid] = mask_dets[mask_flat]\n",
    "#         ho_ds['dt_bunlde_mask'][f_ev:l_ev] = dt_mask_dets\n",
    "#         ho_ds['dt_mask'][f_hit:l_hit] = mask_dets\n",
    "#         proc += step\n",
    "#     ho.create_dataset('ev_starts', data=ev_starts)\n",
    "#     ho.create_dataset('models_ids', data=hi['models_ids'][()])\n"
   ]
  },
  {
   "cell_type": "code",
   "execution_count": null,
   "metadata": {},
   "outputs": [],
   "source": []
  }
 ],
 "metadata": {
  "kernelspec": {
   "display_name": "Python 3",
   "language": "python",
   "name": "python3"
  },
  "language_info": {
   "codemirror_mode": {
    "name": "ipython",
    "version": 3
   },
   "file_extension": ".py",
   "mimetype": "text/x-python",
   "name": "python",
   "nbconvert_exporter": "python",
   "pygments_lexer": "ipython3",
   "version": "3.6.10"
  }
 },
 "nbformat": 4,
 "nbformat_minor": 4
}
