{
 "cells": [
  {
   "cell_type": "code",
   "execution_count": 1,
   "metadata": {},
   "outputs": [
    {
     "name": "stdout",
     "output_type": "stream",
     "text": [
      "/home/rfit/Telescope_Array/phd_work/src/train_VAE\n"
     ]
    }
   ],
   "source": [
    "cd ../src/train_VAE/"
   ]
  },
  {
   "cell_type": "code",
   "execution_count": 2,
   "metadata": {},
   "outputs": [],
   "source": [
    "import h5py as h5\n",
    "import numpy as np\n",
    "import os\n",
    "import matplotlib.pyplot as plt\n",
    "data_path = '/home3/rfit/Telescope_Array/phd_work/data/normed/pr_fe_q4_e1_0110_excl_sat_F_excl_geo_F.h5'"
   ]
  },
  {
   "cell_type": "code",
   "execution_count": 3,
   "metadata": {},
   "outputs": [
    {
     "name": "stdout",
     "output_type": "stream",
     "text": [
      "keys ['norm_param', 'test', 'train', 'val']\n",
      "dt_mask (1045262, 2)\n",
      "dt_params (26962300, 6)\n",
      "ev_ids (1045262, 3)\n",
      "ev_starts (1045263,)\n",
      "mc_params (1045262, 10)\n",
      "recos (1045262, 6)\n",
      "wfs_flat (26962300, 128, 2)\n"
     ]
    }
   ],
   "source": [
    "'''\n",
    "mc_params (num_evs,10):\n",
    "0. mc_event_num\n",
    "1. mc_parttype (CORSIKA, 1 - gamma, 14 - proton, 5626 - Fe)\n",
    "2. mc_corecounter, closest to core detector number\n",
    "3. mc_E (for primaries other than photon energy is rescaled by 1/1.27, i.e. to proton FD energy scale)\n",
    "4. mc_theta\n",
    "5. mc_phi\n",
    "6. mc_height_1st_inter, km\n",
    "7. mc_xcore\n",
    "8. mc_ycore\n",
    "9. mc_border_distance, km \n",
    "'''\n",
    "with h5.File(data_path,'r') as f:\n",
    "    print('keys', list(f.keys()))\n",
    "    test = f['test']\n",
    "    keys = list(test.keys())\n",
    "    mc_params = test['mc_params'][:]\n",
    "    for k in keys:\n",
    "        print(k, test[k].shape)"
   ]
  },
  {
   "cell_type": "code",
   "execution_count": 14,
   "metadata": {},
   "outputs": [
    {
     "name": "stdout",
     "output_type": "stream",
     "text": [
      "1.10.1+cu111\n",
      "Using device: cuda\n"
     ]
    },
    {
     "data": {
      "text/plain": [
       "<module 'pipline' from '/home/rfit/Telescope_Array/phd_work/src/train_VAE/pipline.py'>"
      ]
     },
     "execution_count": 14,
     "metadata": {},
     "output_type": "execute_result"
    }
   ],
   "source": [
    "import importlib\n",
    "importlib.reload(pipline)"
   ]
  },
  {
   "cell_type": "code",
   "execution_count": 5,
   "metadata": {},
   "outputs": [
    {
     "name": "stdout",
     "output_type": "stream",
     "text": [
      "1.10.1+cu111\n",
      "Using device: cuda\n"
     ]
    },
    {
     "name": "stderr",
     "output_type": "stream",
     "text": [
      "/home/rfit/.conda/envs/robert_venv/lib/python3.6/site-packages/setuptools/distutils_patch.py:26: UserWarning: Distutils was imported before Setuptools. This usage is discouraged and may exhibit undesirable behaviors or errors. Please use Setuptools' objects directly or at least import Setuptools first.\n",
      "  \"Distutils was imported before Setuptools. This usage is discouraged \"\n"
     ]
    }
   ],
   "source": [
    "import pipline"
   ]
  },
  {
   "cell_type": "code",
   "execution_count": 15,
   "metadata": {},
   "outputs": [
    {
     "name": "stdout",
     "output_type": "stream",
     "text": [
      "keys ['norm_param', 'test', 'train', 'val']\n",
      "keys ['norm_param', 'test', 'train', 'val']\n",
      "Encoder has params: 1097760 Decoder has params: 2134535\n"
     ]
    }
   ],
   "source": [
    "config = 'config.yaml'\n",
    "model = pipline.Pipline(config)\n",
    "exp = 'Fe_Pr18.01.2025_15:29latent_dim=16;_hidden_dim=512;_use_mask=True;_'\n",
    "chpt = f'/home/rfit/Telescope_Array/phd_work/Models_VAE/{exp}/best'\n",
    "model.load_chpt(chpt)"
   ]
  },
  {
   "cell_type": "code",
   "execution_count": 16,
   "metadata": {},
   "outputs": [
    {
     "name": "stderr",
     "output_type": "stream",
     "text": [
      "  0%|          | 1/697 [00:00<01:31,  7.57it/s]"
     ]
    },
    {
     "name": "stdout",
     "output_type": "stream",
     "text": [
      "keys ['norm_param', 'test', 'train', 'val']\n"
     ]
    },
    {
     "name": "stderr",
     "output_type": "stream",
     "text": [
      "100%|██████████| 697/697 [01:34<00:00,  7.41it/s]\n"
     ]
    },
    {
     "name": "stdout",
     "output_type": "stream",
     "text": [
      "torch.Size([1045262, 10])\n"
     ]
    }
   ],
   "source": [
    "latent_list, params = model.predict_latent()"
   ]
  },
  {
   "cell_type": "code",
   "execution_count": 17,
   "metadata": {},
   "outputs": [],
   "source": [
    "import tensorboard as tb\n",
    "import tensorflow as tf\n",
    "tf.io.gfile = tb.compat.tensorflow_stub.io.gfile\n",
    "from torch.utils.tensorboard import SummaryWriter\n",
    "writer = SummaryWriter(log_dir=os.path.join('runs2', 'test1'))\n",
    "writer.add_embedding(latent_list,\n",
    "                        metadata=params[:,1],\n",
    "                        )\n",
    "writer.close()"
   ]
  },
  {
   "cell_type": "code",
   "execution_count": 22,
   "metadata": {},
   "outputs": [],
   "source": [
    "import torch\n",
    "fe_lat = latent_list[torch.where(params[:,1]>1000)]\n",
    "pr_lat = latent_list[torch.where(params[:,1]<1000)]"
   ]
  },
  {
   "cell_type": "code",
   "execution_count": 24,
   "metadata": {},
   "outputs": [
    {
     "name": "stdout",
     "output_type": "stream",
     "text": [
      "fe tensor(0.9387) tensor(7.3101)\n",
      "pr tensor(0.8348) tensor(6.6387)\n"
     ]
    }
   ],
   "source": [
    "print('fe', fe_lat.mean(), fe_lat.std())\n",
    "print('pr', pr_lat.mean(), pr_lat.std())"
   ]
  },
  {
   "cell_type": "code",
   "execution_count": 30,
   "metadata": {},
   "outputs": [
    {
     "name": "stdout",
     "output_type": "stream",
     "text": [
      "fe ch0 mean 6.395 std 5.055\n",
      "pr ch0 mean 5.75 std 4.47 \n",
      "\n",
      "fe ch1 mean 6.023 std 3.139\n",
      "pr ch1 mean 5.601 std 2.886 \n",
      "\n",
      "fe ch2 mean 2.878 std 3.695\n",
      "pr ch2 mean 2.517 std 3.499 \n",
      "\n",
      "fe ch3 mean 8.874 std 5.427\n",
      "pr ch3 mean 8.187 std 4.78 \n",
      "\n",
      "fe ch4 mean -1.059 std 3.999\n",
      "pr ch4 mean -1.163 std 3.79 \n",
      "\n",
      "fe ch5 mean -2.031 std 3.939\n",
      "pr ch5 mean -1.837 std 3.616 \n",
      "\n",
      "fe ch6 mean 3.673 std 4.489\n",
      "pr ch6 mean 3.147 std 4.004 \n",
      "\n",
      "fe ch7 mean -1.272 std 3.315\n",
      "pr ch7 mean -1.255 std 3.021 \n",
      "\n",
      "fe ch8 mean -0.183 std 2.371\n",
      "pr ch8 mean 0.055 std 2.161 \n",
      "\n",
      "fe ch9 mean -0.975 std 3.142\n",
      "pr ch9 mean -0.78 std 2.925 \n",
      "\n",
      "fe ch10 mean 8.705 std 5.959\n",
      "pr ch10 mean 8.051 std 5.123 \n",
      "\n",
      "fe ch11 mean -10.094 std 7.754\n",
      "pr ch11 mean -9.327 std 6.81 \n",
      "\n",
      "fe ch12 mean -0.913 std 1.603\n",
      "pr ch12 mean -0.906 std 1.516 \n",
      "\n",
      "fe ch13 mean -10.639 std 7.942\n",
      "pr ch13 mean -9.745 std 6.966 \n",
      "\n",
      "fe ch14 mean -0.767 std 3.526\n",
      "pr ch14 mean -0.736 std 3.254 \n",
      "\n",
      "fe ch15 mean 6.405 std 4.462\n",
      "pr ch15 mean 5.796 std 4.088 \n",
      "\n"
     ]
    }
   ],
   "source": [
    "for i in range(16):\n",
    "    print(f'fe ch{i} mean', round(fe_lat[:,i].mean().item(),3),'std', round(fe_lat[:,i].std().item(),3))\n",
    "    print(f'pr ch{i} mean', round(pr_lat[:,i].mean().item(),3),'std', round(pr_lat[:,i].std().item(),3), '\\n')"
   ]
  },
  {
   "cell_type": "code",
   "execution_count": null,
   "metadata": {},
   "outputs": [],
   "source": []
  }
 ],
 "metadata": {
  "kernelspec": {
   "display_name": "Python 3",
   "language": "python",
   "name": "python3"
  }
 },
 "nbformat": 4,
 "nbformat_minor": 4
}
